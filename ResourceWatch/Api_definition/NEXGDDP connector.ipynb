{
 "cells": [
  {
   "cell_type": "markdown",
   "metadata": {
    "toc": "true"
   },
   "source": [
    "# Table of Contents\n",
    " <p><div class=\"lev1 toc-item\"><a href=\"#User-story\" data-toc-modified-id=\"User-story-1\"><span class=\"toc-item-num\">1&nbsp;&nbsp;</span>User story</a></div><div class=\"lev1 toc-item\"><a href=\"#Dataset-creation:\" data-toc-modified-id=\"Dataset-creation:-2\"><span class=\"toc-item-num\">2&nbsp;&nbsp;</span>Dataset creation:</a></div><div class=\"lev2 toc-item\"><a href=\"#Example-dataset-we-are-working-with:\" data-toc-modified-id=\"Example-dataset-we-are-working-with:-21\"><span class=\"toc-item-num\">2.1&nbsp;&nbsp;</span>Example dataset we are working with:</a></div><div class=\"lev1 toc-item\"><a href=\"#Queries-availables-through-the-query-api\" data-toc-modified-id=\"Queries-availables-through-the-query-api-3\"><span class=\"toc-item-num\">3&nbsp;&nbsp;</span>Queries availables through the query api</a></div><div class=\"lev2 toc-item\"><a href=\"#selected-point-table-view-of-all-variables-columns-\" data-toc-modified-id=\"selected-point-table-view-of-all-variables-columns--31\"><span class=\"toc-item-num\">3.1&nbsp;&nbsp;</span>Selected point table view of all variables (columns)</a></div><div class=\"lev2 toc-item\"><a href=\"#selected-point-table-view-of-selected-columns-filtering-by-date\" data-toc-modified-id=\"selected-point-table-view-of-selected-columns-filtering-by-date-32\"><span class=\"toc-item-num\">3.2&nbsp;&nbsp;</span>Selected point table view of selected columns filtering by date</a></div><div class=\"lev2 toc-item\"><a href=\"#selected-point-min-and-max-year-available\" data-toc-modified-id=\"selected-point-min-and-max-year-available-33\"><span class=\"toc-item-num\">3.3&nbsp;&nbsp;</span>Selected point min and max year available</a></div><div class=\"lev2 toc-item\"><a href=\"#selected-point-agg-statistics-for-selected-columns\" data-toc-modified-id=\"selected-point-agg-statistics-for-selected-columns-34\"><span class=\"toc-item-num\">3.4&nbsp;&nbsp;</span>Selected point agg statistics for selected columns</a></div><div class=\"lev2 toc-item\"><a href=\"#histograms\" data-toc-modified-id=\"histograms-35\"><span class=\"toc-item-num\">3.5&nbsp;&nbsp;</span>Histograms</a></div>"
   ]
  },
  {
   "cell_type": "code",
   "execution_count": 5,
   "metadata": {
    "collapsed": true
   },
   "outputs": [],
   "source": [
    "import requests\n",
    "import json\n",
    "import pandas\n",
    "from pprint import pprint\n",
    "from IPython.display import display, Markdown, HTML"
   ]
  },
  {
   "cell_type": "code",
   "execution_count": 58,
   "metadata": {
    "collapsed": true
   },
   "outputs": [],
   "source": [
    "prod_env= 'https://api.resourcewatch.org'\n",
    "staging_env='https://staging-api.globalforestwatch.org'\n",
    "api_post= staging_env + '/v1/{endpoint}'\n",
    "api_baseurl= staging_env + '/v1/{endpoint}/{dataset_id}'\n",
    "\n",
    "def query(sql, dataset_id, geostore):\n",
    "    display(Markdown(\">#### Sql applied:  \"))\n",
    "    display(Markdown(\">>```sql {0}  ```\".format(sql)))\n",
    "    payload = {\"sql\": sql,\n",
    "              \"geostore\": geostore,\n",
    "              \"geoagg\": \"max\"}\n",
    "    r = requests.get(api_baseurl.format(endpoint='query',dataset_id=dataset_id), params=payload)\n",
    "    if r.status_code != 200:\n",
    "        return print(r.json())\n",
    "    else:\n",
    "        return pd.read_json(json.dumps(r.json()['data']), orient='records')"
   ]
  },
  {
   "cell_type": "markdown",
   "metadata": {},
   "source": [
    "# User story"
   ]
  },
  {
   "cell_type": "markdown",
   "metadata": {},
   "source": [
    "Dataset creation\n",
    "* User should be able to create nexgddp datasets - as many as needed. (different time aggregation level, scenarios and models)\n",
    "\n",
    "Widget editor:  \n",
    "* User should be able to select a point in space (latitude + longitude). In the future we will allow to select a bounding box (in which case user needs to select the type of aggregation)\n",
    "* User can filter the range of years from the available years. Available years will be implemented in the /fields response\n",
    "* User can select type of chart (line or bar) and display it. Years should be ordered asc by default\n",
    "* User has the Category, Value and Filters option (no order, no limit). \n",
    "* User can save the widget and embed it elsewhere\n",
    "\n",
    "****Once Bounding Box selection is implemented:*** User can select different aggregation functions over the original data: avg, min, max, std, plus st_histogram and temporal series.\n"
   ]
  },
  {
   "cell_type": "markdown",
   "metadata": {},
   "source": [
    "# Dataset creation:\n",
    "\n",
    "```json\n",
    "{\n",
    "    \"connectorType\":\"rest\",\n",
    "    \"provider\":\"nexgddp\",\n",
    "    \"tableName\": \"historical/ACCESS1_0\"\n",
    "    \"application\":[\n",
    "     \"rw\"\n",
    "    ],\n",
    "    \"name\":\"Nexgddp\"\n",
    "    ...\n",
    "}\n",
    "```\n",
    "Dataset aggregated by year. The table name will be the `<scenario/model>` all in lowercase and `_` istead of `-`.  \n",
    "F.E: `historical/access1_0`\n",
    "\n",
    "List of scenarios\n",
    "* historical\n",
    "* rcp45\n",
    "* rcp85\n",
    "\n",
    "List of models available\n",
    "* ACCESS1-0 \n",
    "* CSIRO-MK3-6-0 \n",
    "* MIROC-ESM\n",
    "* BCC-CSM1-1 \n",
    "* GFDL-CM3 \n",
    "* MIROC-ESM-CHEM\n",
    "* BNU-ESM \n",
    "* GFDL-ESM2G \n",
    "* MIROC5\n",
    "* CanESM2 \n",
    "* GFDL-ESM2M \n",
    "* MPI-ESM-LR\n",
    "* CCSM4 \n",
    "* INMCM4 \n",
    "* MPI-ESM-MR\n",
    "* CESM1-BGC \n",
    "* IPSL-CM5A-LR \n",
    "* MRI-CGCM3\n",
    "* CNRM-CM5 \n",
    "* IPSL-CM5A-MR \n",
    "* NorESM1-M\n"
   ]
  },
  {
   "cell_type": "markdown",
   "metadata": {},
   "source": [
    "## Example dataset we are working with:"
   ]
  },
  {
   "cell_type": "code",
   "execution_count": 24,
   "metadata": {},
   "outputs": [
    {
     "name": "stdout",
     "output_type": "stream",
     "text": [
      "{'data': {'attributes': {'application': ['prep'],\n",
      "                         'attributesPath': None,\n",
      "                         'blockchain': {},\n",
      "                         'clonedHost': {},\n",
      "                         'connectorType': 'rest',\n",
      "                         'connectorUrl': '',\n",
      "                         'dataPath': None,\n",
      "                         'env': 'production',\n",
      "                         'errorMessage': None,\n",
      "                         'geoInfo': False,\n",
      "                         'layerRelevantProps': [],\n",
      "                         'legend': {'country': [], 'date': [], 'region': []},\n",
      "                         'name': 'nexgddp-historical-ACCESS1_0',\n",
      "                         'overwrite': False,\n",
      "                         'provider': 'nexgddp',\n",
      "                         'published': True,\n",
      "                         'slug': 'nexgddp-historical-ACCESS1_0',\n",
      "                         'status': 'saved',\n",
      "                         'subtitle': None,\n",
      "                         'tableName': 'historical/ACCESS1_0',\n",
      "                         'type': None,\n",
      "                         'updatedAt': '2017-09-19T17:30:59.797Z',\n",
      "                         'userId': '599c0e5458113b0001d75c47',\n",
      "                         'verified': False,\n",
      "                         'widgetRelevantProps': []},\n",
      "          'id': 'aa1f42bb-7175-4950-8b46-dcf4ff7074d1',\n",
      "          'type': 'dataset'}}\n"
     ]
    }
   ],
   "source": [
    "dataset_id='nexgddp-historical-ACCESS1_0'\n",
    "geojson={\"type\":\"FeatureCollection\",\"features\":[{\"type\":\"Feature\",\"properties\":{},\"geometry\":{\"type\":\"Point\",\"coordinates\":[-3.6749267578125,40.43858586704331]}}]}\n",
    "\n",
    "r = requests.get(api_baseurl.format(endpoint='dataset',dataset_id=dataset_id))\n",
    "pprint(r.json())    "
   ]
  },
  {
   "cell_type": "code",
   "execution_count": 47,
   "metadata": {},
   "outputs": [
    {
     "data": {
      "text/markdown": [
       "> #### geojson to display:  \n",
       "\n",
       "> ```json \n",
       "{'type': 'FeatureCollection', 'features': [{'type': 'Feature', 'properties': {}, 'geometry': {'type': 'Point', 'coordinates': [-3.6749267578125, 40.43858586704331]}}]} \n",
       "```"
      ],
      "text/plain": [
       "<IPython.core.display.Markdown object>"
      ]
     },
     "metadata": {},
     "output_type": "display_data"
    },
    {
     "data": {
      "text/markdown": [
       "> ### Geostore creation:  "
      ],
      "text/plain": [
       "<IPython.core.display.Markdown object>"
      ]
     },
     "metadata": {},
     "output_type": "display_data"
    },
    {
     "name": "stdout",
     "output_type": "stream",
     "text": [
      "{'data': {'attributes': {'areaHa': 0,\n",
      "                         'bbox': [-3.6749267578125,\n",
      "                                  40.43858586704331,\n",
      "                                  -3.6749267578125,\n",
      "                                  40.43858586704331],\n",
      "                         'geojson': {'crs': {},\n",
      "                                     'features': [{'geometry': {'coordinates': [-3.6749267578125,\n",
      "                                                                                40.43858586704331],\n",
      "                                                                'type': 'Point'},\n",
      "                                                   'type': 'Feature'}],\n",
      "                                     'type': 'FeatureCollection'},\n",
      "                         'hash': 'e669023a10c35364e0b1780c181bd06b',\n",
      "                         'lock': False,\n",
      "                         'provider': {}},\n",
      "          'id': 'e669023a10c35364e0b1780c181bd06b',\n",
      "          'type': 'geoStore'}}\n"
     ]
    }
   ],
   "source": [
    "payload = {\"geojson\":geojson}\n",
    "r = requests.post(api_post.format(endpoint='geostore'),json=payload)\n",
    "geostore=r.json()['data']['id']\n",
    "\n",
    "display(Markdown(\"\"\"> #### geojson to display:  \n",
    "\n",
    "> ```json \n",
    "{0} \n",
    "```\"\"\".format(geojson)))\n",
    "display(Markdown(\"> ### Geostore creation:  \"))\n",
    "pprint(r.json())"
   ]
  },
  {
   "cell_type": "code",
   "execution_count": 34,
   "metadata": {},
   "outputs": [
    {
     "data": {
      "text/markdown": [
       "> ### Dataset fields metadata: "
      ],
      "text/plain": [
       "<IPython.core.display.Markdown object>"
      ]
     },
     "metadata": {},
     "output_type": "display_data"
    },
    {
     "name": "stdout",
     "output_type": "stream",
     "text": [
      "{'fields': {'cdd': {'type': 'Quantity', 'uom': '10^0'},\n",
      "            'cwd': {'type': 'Quantity', 'uom': '10^0'},\n",
      "            'frost_days': {'type': 'Quantity', 'uom': '10^0'},\n",
      "            'icing_days': {'type': 'Quantity', 'uom': '10^0'},\n",
      "            'pr1p': {'type': 'Quantity', 'uom': '10^0'},\n",
      "            'pr2in': {'type': 'Quantity', 'uom': '10^0'},\n",
      "            'pr3in': {'type': 'Quantity', 'uom': '10^0'},\n",
      "            'pr4in': {'type': 'Quantity', 'uom': '10^0'},\n",
      "            'pr99p': {'type': 'Quantity', 'uom': '10^0'},\n",
      "            'prmaxday': {'type': 'Quantity', 'uom': '10^0'},\n",
      "            'tmax100F': {'type': 'Quantity', 'uom': '10^0'},\n",
      "            'tmax1p': {'type': 'Quantity', 'uom': '10^0'},\n",
      "            'tmax5day': {'type': 'Quantity', 'uom': '10^0'},\n",
      "            'tmax90F': {'type': 'Quantity', 'uom': '10^0'},\n",
      "            'tmax95F': {'type': 'Quantity', 'uom': '10^0'},\n",
      "            'tmax99p': {'type': 'Quantity', 'uom': '10^0'},\n",
      "            'tmin1p': {'type': 'Quantity', 'uom': '10^0'},\n",
      "            'tmin5day': {'type': 'Quantity', 'uom': '10^0'},\n",
      "            'tmin99p': {'type': 'Quantity', 'uom': '10^0'}},\n",
      " 'tableName': 'historical/ACCESS1_0'}\n"
     ]
    }
   ],
   "source": [
    "r = requests.get(api_baseurl.format(endpoint='fields',dataset_id=dataset_id))\n",
    "display(Markdown(\"> ### Dataset fields metadata: \"))\n",
    "pprint(r.json())"
   ]
  },
  {
   "cell_type": "code",
   "execution_count": 33,
   "metadata": {},
   "outputs": [
    {
     "data": {
      "text/markdown": [
       "> ### Geostore"
      ],
      "text/plain": [
       "<IPython.core.display.Markdown object>"
      ]
     },
     "metadata": {},
     "output_type": "display_data"
    },
    {
     "name": "stdout",
     "output_type": "stream",
     "text": [
      "{'data': {'attributes': {'areaHa': 0,\n",
      "                         'bbox': [-3.6749267578125,\n",
      "                                  40.43858586704331,\n",
      "                                  -3.6749267578125,\n",
      "                                  40.43858586704331],\n",
      "                         'geojson': {'crs': {},\n",
      "                                     'features': [{'geometry': {'coordinates': [-3.6749267578125,\n",
      "                                                                                40.43858586704331],\n",
      "                                                                'type': 'Point'},\n",
      "                                                   'type': 'Feature'}],\n",
      "                                     'type': 'FeatureCollection'},\n",
      "                         'hash': 'e669023a10c35364e0b1780c181bd06b',\n",
      "                         'lock': False,\n",
      "                         'provider': {}},\n",
      "          'id': 'e669023a10c35364e0b1780c181bd06b',\n",
      "          'type': 'geoStore'}}\n"
     ]
    }
   ],
   "source": [
    "r = requests.get(api_baseurl.format(endpoint='geostore',dataset_id=geostore))\n",
    "display(Markdown(\"> ### Geostore\"))\n",
    "pprint(r.json())"
   ]
  },
  {
   "cell_type": "markdown",
   "metadata": {},
   "source": [
    "# Queries availables through the query api"
   ]
  },
  {
   "cell_type": "markdown",
   "metadata": {},
   "source": [
    "It is mandatory to send a geostore representing a point (in the future also bbox will be allowed to evaluate a region of interest).  \n",
    "In order to test it we are going to use the next geostore code: `e669023a10c35364e0b1780c181bd06b`"
   ]
  },
  {
   "cell_type": "code",
   "execution_count": 48,
   "metadata": {},
   "outputs": [
    {
     "data": {
      "text/markdown": [
       "> ## Selected point table view of all variables (columns)"
      ],
      "text/plain": [
       "<IPython.core.display.Markdown object>"
      ]
     },
     "metadata": {},
     "output_type": "display_data"
    },
    {
     "data": {
      "text/markdown": [
       ">#### Sql applied:  "
      ],
      "text/plain": [
       "<IPython.core.display.Markdown object>"
      ]
     },
     "metadata": {},
     "output_type": "display_data"
    },
    {
     "data": {
      "text/markdown": [
       ">>```sql \n",
       "select * from \"historical/ACCESS1_0\"\n",
       "  ```"
      ],
      "text/plain": [
       "<IPython.core.display.Markdown object>"
      ]
     },
     "metadata": {},
     "output_type": "display_data"
    },
    {
     "name": "stdout",
     "output_type": "stream",
     "text": [
      "{'errors': [{'detail': 'Invalid Select', 'status': 400}]}\n"
     ]
    },
    {
     "ename": "AttributeError",
     "evalue": "'NoneType' object has no attribute 'head'",
     "output_type": "error",
     "traceback": [
      "\u001b[0;31m---------------------------------------------------------------------------\u001b[0m",
      "\u001b[0;31mAttributeError\u001b[0m                            Traceback (most recent call last)",
      "\u001b[0;32m<ipython-input-48-07668aa9596c>\u001b[0m in \u001b[0;36m<module>\u001b[0;34m()\u001b[0m\n\u001b[1;32m      4\u001b[0m '''\n\u001b[1;32m      5\u001b[0m \u001b[0mdataset\u001b[0m \u001b[0;34m=\u001b[0m \u001b[0mquery\u001b[0m\u001b[0;34m(\u001b[0m\u001b[0msql\u001b[0m\u001b[0;34m,\u001b[0m \u001b[0mdataset_id\u001b[0m\u001b[0;34m,\u001b[0m \u001b[0mgeostore\u001b[0m\u001b[0;34m)\u001b[0m\u001b[0;34m\u001b[0m\u001b[0m\n\u001b[0;32m----> 6\u001b[0;31m \u001b[0mdisplay\u001b[0m\u001b[0;34m(\u001b[0m\u001b[0mdataset\u001b[0m\u001b[0;34m.\u001b[0m\u001b[0mhead\u001b[0m\u001b[0;34m(\u001b[0m\u001b[0;36m6\u001b[0m\u001b[0;34m)\u001b[0m\u001b[0;34m)\u001b[0m\u001b[0;34m\u001b[0m\u001b[0m\n\u001b[0m\u001b[1;32m      7\u001b[0m \u001b[0;31m#display(dataset.plot.bar(x='x',y='y',figsize=(10, 10)));\u001b[0m\u001b[0;34m\u001b[0m\u001b[0;34m\u001b[0m\u001b[0m\n",
      "\u001b[0;31mAttributeError\u001b[0m: 'NoneType' object has no attribute 'head'"
     ]
    }
   ],
   "source": [
    "display(Markdown(\"> ## Selected point table view of all variables (columns)\"))\n",
    "sql = '''\n",
    "select * from \"historical/ACCESS1_0\"\n",
    "'''\n",
    "dataset = query(sql, dataset_id, geostore)\n",
    "display(dataset.head(6))\n",
    "#display(Markdown(\"> ### Visual\"))\n",
    "#display(dataset.plot.bar(x='x',y='y',figsize=(10, 10)));"
   ]
  },
  {
   "cell_type": "code",
   "execution_count": 57,
   "metadata": {},
   "outputs": [
    {
     "data": {
      "text/markdown": [
       "> ## Selected point table view of selected columns filtering by date"
      ],
      "text/plain": [
       "<IPython.core.display.Markdown object>"
      ]
     },
     "metadata": {},
     "output_type": "display_data"
    },
    {
     "data": {
      "text/markdown": [
       ">#### Sql applied:  "
      ],
      "text/plain": [
       "<IPython.core.display.Markdown object>"
      ]
     },
     "metadata": {},
     "output_type": "display_data"
    },
    {
     "data": {
      "text/markdown": [
       ">>```sql \n",
       "select tmax1p, year from nexgddp-historical-ACCESS1_0 where year between 1950 and 1955\n",
       "  ```"
      ],
      "text/plain": [
       "<IPython.core.display.Markdown object>"
      ]
     },
     "metadata": {},
     "output_type": "display_data"
    },
    {
     "name": "stdout",
     "output_type": "stream",
     "text": [
      "{'errors': [{'detail': 'Invalid Select', 'status': 400}]}\n"
     ]
    },
    {
     "ename": "AttributeError",
     "evalue": "'NoneType' object has no attribute 'head'",
     "output_type": "error",
     "traceback": [
      "\u001b[0;31m---------------------------------------------------------------------------\u001b[0m",
      "\u001b[0;31mAttributeError\u001b[0m                            Traceback (most recent call last)",
      "\u001b[0;32m<ipython-input-57-56974212a929>\u001b[0m in \u001b[0;36m<module>\u001b[0;34m()\u001b[0m\n\u001b[1;32m      4\u001b[0m '''\n\u001b[1;32m      5\u001b[0m \u001b[0mdataset\u001b[0m \u001b[0;34m=\u001b[0m \u001b[0mquery\u001b[0m\u001b[0;34m(\u001b[0m\u001b[0msql\u001b[0m\u001b[0;34m,\u001b[0m \u001b[0mdataset_id\u001b[0m\u001b[0;34m,\u001b[0m \u001b[0mgeostore\u001b[0m\u001b[0;34m)\u001b[0m\u001b[0;34m\u001b[0m\u001b[0m\n\u001b[0;32m----> 6\u001b[0;31m \u001b[0mdisplay\u001b[0m\u001b[0;34m(\u001b[0m\u001b[0mdataset\u001b[0m\u001b[0;34m.\u001b[0m\u001b[0mhead\u001b[0m\u001b[0;34m(\u001b[0m\u001b[0;36m6\u001b[0m\u001b[0;34m)\u001b[0m\u001b[0;34m)\u001b[0m\u001b[0;34m\u001b[0m\u001b[0m\n\u001b[0m\u001b[1;32m      7\u001b[0m \u001b[0;31m#display(dataset.plot.bar(x='x',y='y',figsize=(10, 10)));\u001b[0m\u001b[0;34m\u001b[0m\u001b[0;34m\u001b[0m\u001b[0m\n",
      "\u001b[0;31mAttributeError\u001b[0m: 'NoneType' object has no attribute 'head'"
     ]
    }
   ],
   "source": [
    "display(Markdown(\"> ## Selected point table view of selected columns filtering by date\"))\n",
    "sql = '''\n",
    "select tmax1p, year from nexgddp-historical-ACCESS1_0 where year between 1950 and 1955\n",
    "'''\n",
    "dataset = query(sql, dataset_id, geostore)\n",
    "display(dataset.head(6))\n",
    "#display(Markdown(\"> ### Visual\"))\n",
    "#display(dataset.plot.bar(x='x',y='y',figsize=(10, 10)));"
   ]
  },
  {
   "cell_type": "code",
   "execution_count": 59,
   "metadata": {},
   "outputs": [
    {
     "data": {
      "text/markdown": [
       "> ## Selected point min and max year available"
      ],
      "text/plain": [
       "<IPython.core.display.Markdown object>"
      ]
     },
     "metadata": {},
     "output_type": "display_data"
    },
    {
     "data": {
      "text/markdown": [
       ">#### Sql applied:  "
      ],
      "text/plain": [
       "<IPython.core.display.Markdown object>"
      ]
     },
     "metadata": {},
     "output_type": "display_data"
    },
    {
     "data": {
      "text/markdown": [
       ">>```sql \n",
       "Select max(year), min(year) from from nexgddp-historical-ACCESS1_0\n",
       "  ```"
      ],
      "text/plain": [
       "<IPython.core.display.Markdown object>"
      ]
     },
     "metadata": {},
     "output_type": "display_data"
    },
    {
     "name": "stdout",
     "output_type": "stream",
     "text": [
      "{'errors': [{'detail': 'Invalid Select', 'status': 400}]}\n"
     ]
    },
    {
     "ename": "AttributeError",
     "evalue": "'NoneType' object has no attribute 'head'",
     "output_type": "error",
     "traceback": [
      "\u001b[0;31m---------------------------------------------------------------------------\u001b[0m",
      "\u001b[0;31mAttributeError\u001b[0m                            Traceback (most recent call last)",
      "\u001b[0;32m<ipython-input-59-516b90116077>\u001b[0m in \u001b[0;36m<module>\u001b[0;34m()\u001b[0m\n\u001b[1;32m      4\u001b[0m '''\n\u001b[1;32m      5\u001b[0m \u001b[0mdataset\u001b[0m \u001b[0;34m=\u001b[0m \u001b[0mquery\u001b[0m\u001b[0;34m(\u001b[0m\u001b[0msql\u001b[0m\u001b[0;34m,\u001b[0m \u001b[0mdataset_id\u001b[0m\u001b[0;34m,\u001b[0m \u001b[0mgeostore\u001b[0m\u001b[0;34m)\u001b[0m\u001b[0;34m\u001b[0m\u001b[0m\n\u001b[0;32m----> 6\u001b[0;31m \u001b[0mdisplay\u001b[0m\u001b[0;34m(\u001b[0m\u001b[0mdataset\u001b[0m\u001b[0;34m.\u001b[0m\u001b[0mhead\u001b[0m\u001b[0;34m(\u001b[0m\u001b[0;36m6\u001b[0m\u001b[0;34m)\u001b[0m\u001b[0;34m)\u001b[0m\u001b[0;34m\u001b[0m\u001b[0m\n\u001b[0m\u001b[1;32m      7\u001b[0m \u001b[0;31m#display(dataset.plot.bar(x='x',y='y',figsize=(10, 10)));\u001b[0m\u001b[0;34m\u001b[0m\u001b[0;34m\u001b[0m\u001b[0m\n",
      "\u001b[0;31mAttributeError\u001b[0m: 'NoneType' object has no attribute 'head'"
     ]
    }
   ],
   "source": [
    "display(Markdown(\"> ## Selected point min and max year available\"))\n",
    "sql = '''\n",
    "Select max(year), min(year) from from nexgddp-historical-ACCESS1_0\n",
    "'''\n",
    "dataset = query(sql, dataset_id, geostore)\n",
    "display(dataset.head(6))\n",
    "#display(Markdown(\"> ### Visual\"))\n",
    "#display(dataset.plot.bar(x='x',y='y',figsize=(10, 10)));"
   ]
  },
  {
   "cell_type": "code",
   "execution_count": 69,
   "metadata": {},
   "outputs": [
    {
     "data": {
      "text/markdown": [
       "> ## Selected point agg statistics for selected columns"
      ],
      "text/plain": [
       "<IPython.core.display.Markdown object>"
      ]
     },
     "metadata": {},
     "output_type": "display_data"
    },
    {
     "data": {
      "text/markdown": [
       ">  Available aggregation functions:\n",
       "* avg(<column>)\n",
       "* min(<column>)\n",
       "* max(<column>)\n",
       "* std(<column>) \n",
       "\n",
       "> ***`Group by <column>`  operation is not currently available*\n"
      ],
      "text/plain": [
       "<IPython.core.display.Markdown object>"
      ]
     },
     "metadata": {},
     "output_type": "display_data"
    },
    {
     "data": {
      "text/markdown": [
       ">#### Sql applied:  "
      ],
      "text/plain": [
       "<IPython.core.display.Markdown object>"
      ]
     },
     "metadata": {},
     "output_type": "display_data"
    },
    {
     "data": {
      "text/markdown": [
       ">>```sql \n",
       "Select avg(prmaxday) from nexgddp-historical-ACCESS1_0 where year between 1950 and 1955\n",
       "  ```"
      ],
      "text/plain": [
       "<IPython.core.display.Markdown object>"
      ]
     },
     "metadata": {},
     "output_type": "display_data"
    },
    {
     "name": "stdout",
     "output_type": "stream",
     "text": [
      "{'errors': [{'detail': 'Internal Server Error', 'status': 500}]}\n"
     ]
    },
    {
     "ename": "AttributeError",
     "evalue": "'NoneType' object has no attribute 'head'",
     "output_type": "error",
     "traceback": [
      "\u001b[0;31m---------------------------------------------------------------------------\u001b[0m",
      "\u001b[0;31mAttributeError\u001b[0m                            Traceback (most recent call last)",
      "\u001b[0;32m<ipython-input-69-8842cc232203>\u001b[0m in \u001b[0;36m<module>\u001b[0;34m()\u001b[0m\n\u001b[1;32m     12\u001b[0m '''\n\u001b[1;32m     13\u001b[0m \u001b[0mdataset\u001b[0m \u001b[0;34m=\u001b[0m \u001b[0mquery\u001b[0m\u001b[0;34m(\u001b[0m\u001b[0msql\u001b[0m\u001b[0;34m,\u001b[0m \u001b[0mdataset_id\u001b[0m\u001b[0;34m,\u001b[0m \u001b[0mgeostore\u001b[0m\u001b[0;34m)\u001b[0m\u001b[0;34m\u001b[0m\u001b[0m\n\u001b[0;32m---> 14\u001b[0;31m \u001b[0mdisplay\u001b[0m\u001b[0;34m(\u001b[0m\u001b[0mdataset\u001b[0m\u001b[0;34m.\u001b[0m\u001b[0mhead\u001b[0m\u001b[0;34m(\u001b[0m\u001b[0;36m6\u001b[0m\u001b[0;34m)\u001b[0m\u001b[0;34m)\u001b[0m\u001b[0;34m\u001b[0m\u001b[0m\n\u001b[0m\u001b[1;32m     15\u001b[0m \u001b[0;31m#display(Markdown(\"> ### Visual\"))\u001b[0m\u001b[0;34m\u001b[0m\u001b[0;34m\u001b[0m\u001b[0m\n\u001b[1;32m     16\u001b[0m \u001b[0;31m#display(dataset.plot.bar(x='x',y='y',figsize=(10, 10)));\u001b[0m\u001b[0;34m\u001b[0m\u001b[0;34m\u001b[0m\u001b[0m\n",
      "\u001b[0;31mAttributeError\u001b[0m: 'NoneType' object has no attribute 'head'"
     ]
    }
   ],
   "source": [
    "display(Markdown(\"> ## Selected point agg statistics for selected columns\"))\n",
    "display(Markdown(\"\"\">  Available aggregation functions:\n",
    "* avg(<column>)\n",
    "* min(<column>)\n",
    "* max(<column>)\n",
    "* std(<column>) \n",
    "\n",
    "> ***`Group by <column>`  operation is not currently available*\n",
    "\"\"\"))\n",
    "sql = '''\n",
    "Select avg(prmaxday) from nexgddp-historical-ACCESS1_0 where year between 1950 and 1955\n",
    "'''\n",
    "dataset = query(sql, dataset_id, geostore)\n",
    "display(dataset.head(6))\n",
    "#display(Markdown(\"> ### Visual\"))\n",
    "#display(dataset.plot.bar(x='x',y='y',figsize=(10, 10)));"
   ]
  },
  {
   "cell_type": "code",
   "execution_count": 71,
   "metadata": {},
   "outputs": [
    {
     "data": {
      "text/markdown": [
       "> ## Histograms"
      ],
      "text/plain": [
       "<IPython.core.display.Markdown object>"
      ]
     },
     "metadata": {},
     "output_type": "display_data"
    },
    {
     "data": {
      "text/markdown": [
       ">#### Sql applied:  "
      ],
      "text/plain": [
       "<IPython.core.display.Markdown object>"
      ]
     },
     "metadata": {},
     "output_type": "display_data"
    },
    {
     "data": {
      "text/markdown": [
       ">>```sql \n",
       "Select st_histogram(prmaxday) from nexgddp-historical-ACCESS1_0\n",
       "  ```"
      ],
      "text/plain": [
       "<IPython.core.display.Markdown object>"
      ]
     },
     "metadata": {},
     "output_type": "display_data"
    },
    {
     "name": "stdout",
     "output_type": "stream",
     "text": [
      "{'errors': [{'detail': 'Period of time must be set', 'status': 400}]}\n"
     ]
    },
    {
     "ename": "AttributeError",
     "evalue": "'NoneType' object has no attribute 'head'",
     "output_type": "error",
     "traceback": [
      "\u001b[0;31m---------------------------------------------------------------------------\u001b[0m",
      "\u001b[0;31mAttributeError\u001b[0m                            Traceback (most recent call last)",
      "\u001b[0;32m<ipython-input-71-5f4c4d5a229f>\u001b[0m in \u001b[0;36m<module>\u001b[0;34m()\u001b[0m\n\u001b[1;32m      4\u001b[0m '''\n\u001b[1;32m      5\u001b[0m \u001b[0mdataset\u001b[0m \u001b[0;34m=\u001b[0m \u001b[0mquery\u001b[0m\u001b[0;34m(\u001b[0m\u001b[0msql\u001b[0m\u001b[0;34m,\u001b[0m \u001b[0mdataset_id\u001b[0m\u001b[0;34m,\u001b[0m \u001b[0mgeostore\u001b[0m\u001b[0;34m)\u001b[0m\u001b[0;34m\u001b[0m\u001b[0m\n\u001b[0;32m----> 6\u001b[0;31m \u001b[0mdisplay\u001b[0m\u001b[0;34m(\u001b[0m\u001b[0mdataset\u001b[0m\u001b[0;34m.\u001b[0m\u001b[0mhead\u001b[0m\u001b[0;34m(\u001b[0m\u001b[0;36m6\u001b[0m\u001b[0;34m)\u001b[0m\u001b[0;34m)\u001b[0m\u001b[0;34m\u001b[0m\u001b[0m\n\u001b[0m\u001b[1;32m      7\u001b[0m \u001b[0;31m#display(Markdown(\"> ### Visual\"))\u001b[0m\u001b[0;34m\u001b[0m\u001b[0;34m\u001b[0m\u001b[0m\n\u001b[1;32m      8\u001b[0m \u001b[0;31m#display(dataset.plot.bar(x='x',y='y',figsize=(10, 10)));\u001b[0m\u001b[0;34m\u001b[0m\u001b[0;34m\u001b[0m\u001b[0m\n",
      "\u001b[0;31mAttributeError\u001b[0m: 'NoneType' object has no attribute 'head'"
     ]
    }
   ],
   "source": [
    "display(Markdown(\"> ## Histograms\"))\n",
    "sql = '''\n",
    "Select st_histogram(prmaxday) from nexgddp-historical-ACCESS1_0\n",
    "'''\n",
    "dataset = query(sql, dataset_id, geostore)\n",
    "display(dataset.head(6))\n",
    "#display(Markdown(\"> ### Visual\"))\n",
    "#display(dataset.plot.bar(x='x',y='y',figsize=(10, 10)));"
   ]
  }
 ],
 "metadata": {
  "kernelspec": {
   "display_name": "Python 3",
   "language": "python",
   "name": "python3"
  },
  "language_info": {
   "codemirror_mode": {
    "name": "ipython",
    "version": 3
   },
   "file_extension": ".py",
   "mimetype": "text/x-python",
   "name": "python",
   "nbconvert_exporter": "python",
   "pygments_lexer": "ipython3",
   "version": "3.6.1"
  },
  "toc": {
   "colors": {
    "hover_highlight": "#DAA520",
    "navigate_num": "#000000",
    "navigate_text": "#333333",
    "running_highlight": "#FF0000",
    "selected_highlight": "#FFD700",
    "sidebar_border": "#EEEEEE",
    "wrapper_background": "#FFFFFF"
   },
   "moveMenuLeft": true,
   "nav_menu": {
    "height": "189px",
    "width": "252px"
   },
   "navigate_menu": true,
   "number_sections": true,
   "sideBar": true,
   "threshold": "2",
   "toc_cell": true,
   "toc_section_display": "block",
   "toc_window_display": true,
   "widenNotebook": false
  },
  "varInspector": {
   "cols": {
    "lenName": 16,
    "lenType": 16,
    "lenVar": 40
   },
   "kernels_config": {
    "python": {
     "delete_cmd_postfix": "",
     "delete_cmd_prefix": "del ",
     "library": "var_list.py",
     "varRefreshCmd": "print(var_dic_list())"
    },
    "r": {
     "delete_cmd_postfix": ") ",
     "delete_cmd_prefix": "rm(",
     "library": "var_list.r",
     "varRefreshCmd": "cat(var_dic_list()) "
    }
   },
   "types_to_exclude": [
    "module",
    "function",
    "builtin_function_or_method",
    "instance",
    "_Feature"
   ],
   "window_display": false
  }
 },
 "nbformat": 4,
 "nbformat_minor": 2
}
