{
 "cells": [
  {
   "cell_type": "markdown",
   "metadata": {
    "toc": "true"
   },
   "source": [
    "# Table of Contents\n",
    " <p><div class=\"lev1 toc-item\"><a href=\"#Widget-parametrization\" data-toc-modified-id=\"Widget-parametrization-1\"><span class=\"toc-item-num\">1&nbsp;&nbsp;</span>Widget parametrization</a></div>"
   ]
  },
  {
   "cell_type": "markdown",
   "metadata": {},
   "source": [
    "# Widget parametrization "
   ]
  },
  {
   "cell_type": "code",
   "execution_count": 1,
   "metadata": {
    "collapsed": true
   },
   "outputs": [],
   "source": [
    "from __future__ import print_function\n",
    "import requests\n",
    "import json\n",
    "from pprint import pprint\n",
    "from IPython.display import display, Markdown, HTML\n",
    "import pandas as pd\n",
    "from ipywidgets import DatePicker, interactive, Textarea, Layout, Dropdown, Output\n",
    "import ipywidgets as widgets\n",
    "from datetime import datetime\n",
    "from vega import Vega\n",
    "from urllib.parse import urlparse"
   ]
  },
  {
   "cell_type": "code",
   "execution_count": 7,
   "metadata": {
    "collapsed": true
   },
   "outputs": [],
   "source": [
    "api_baseurl = 'https://api.resourcewatch.org/v1'\n",
    "\n",
    "def julian_day(date):\n",
    "    first_dayyear=datetime(date.year,1,1)\n",
    "    return abs(date - first_dayyear).days + 1\n",
    "\n",
    "\n",
    "def visualization(widget, base_queryUrl, sql, date_begin, date_end, geostore=None):\n",
    "    \n",
    "    api_widgetapi = api_baseurl + '/widget/{0}'.format(widget)\n",
    "    payload = {\"queryUrl\":base_queryUrl.format(sql.format(date_begin=date_begin.isoformat(), date_end=date_end.isoformat()))}\n",
    "    if geostore!=None:\n",
    "        payload.update({'geostore':geostore})\n",
    "    r = requests.get(api_widgetapi, params=payload)\n",
    "    if r.status_code != 200:\n",
    "        print(r.json())\n",
    "    else:\n",
    "        spec = json.dumps(r.json()['data']['attributes']['widgetConfig'])\n",
    "        display(Markdown(\"#### Call:  \"));\n",
    "        display(Markdown(\">```  {0}  ```\".format(r.url)));\n",
    "        display(Markdown(\"#### Response:  \"));\n",
    "        display(Markdown(\"\"\"> ```json  \n",
    "        {0}  ```\"\"\".format((r.text))));"
   ]
  },
  {
   "cell_type": "markdown",
   "metadata": {},
   "source": [
    "We are going to use this dataset `20cc5eca-8c63-4c41-8e8e-134dcf1e6d76` (Active Fires VIIRS) as an example for widget creation.  \n",
    "`http://api.resourcewatch.org/fields/:dataset_id`  "
   ]
  },
  {
   "cell_type": "markdown",
   "metadata": {},
   "source": [
    "We are going to pass the next params to the above url so we can modify the data url inside the first table in vega spec.\n",
    "`<widget-url>?<params>`\n",
    "#### Params:\n",
    "```json  \n",
    "{\n",
    "\"queryUrl\":\"<url that gives back data in json format>\",\n",
    "\"geostore\":\"<geostore>\",\n",
    "    ...\n",
    "}\n",
    "```\n",
    "\n",
    "The api will substitute the url params stored in the widget and will concatenate all params added."
   ]
  },
  {
   "cell_type": "markdown",
   "metadata": {},
   "source": [
    "With this we can define the sql query that we want to use. It is very important, if you are parametrizing the queries, you will need to make sure you keep the same columns and their aliases  \n",
    "```sql\n",
    "SELECT julian_day as x, count(julian_day) \n",
    "FROM index_e663eb0904de4f39b87135c6c2ed10b5 \n",
    "WHERE confidence > 50 and year > {year_begin} and julian_day >{dayyear_begin} and year < {year_end}  and julian_day < {dayyear_end}\n",
    "```"
   ]
  },
  {
   "cell_type": "markdown",
   "metadata": {},
   "source": [
    "Data layout example.\n",
    "* Bar: \n",
    "    * Data layout:\n",
    " \n",
    "| date | value |  \n",
    "|---|---|  \n",
    "| | |  \n",
    "| | |  \n",
    "* Line:\n",
    "    * Data layout:\n",
    "  \n",
    "|x|y|  \n",
    "|---|---|  \n",
    "| | |  \n",
    "| | |  \n",
    "\n",
    "* Pie:\n",
    "    * Data layout: \n",
    " \n",
    "|category|value|  \n",
    "|---|---|  \n",
    "|||  \n",
    "|||  \n",
    "\n",
    "\n",
    "\n",
    "\n"
   ]
  },
  {
   "cell_type": "markdown",
   "metadata": {},
   "source": [
    "### Lets review this with an example\n",
    "We are going to define a simple widgets in vega 2.6 and add them to the api:"
   ]
  },
  {
   "cell_type": "code",
   "execution_count": 3,
   "metadata": {
    "scrolled": true
   },
   "outputs": [
    {
     "data": {
      "text/html": [
       "<div class=\"vega-embed\" id=\"8ec3f140-c268-45eb-bea3-ea9d42549291\"></div>\n",
       "\n",
       "<style>\n",
       ".vega-embed svg, .vega-embed canvas {\n",
       "  border: 1px dotted gray;\n",
       "}\n",
       "\n",
       ".vega-embed .vega-actions a {\n",
       "  margin-right: 6px;\n",
       "}\n",
       "</style>\n"
      ]
     },
     "metadata": {
      "jupyter-vega": "#8ec3f140-c268-45eb-bea3-ea9d42549291"
     },
     "output_type": "display_data"
    },
    {
     "data": {
      "application/javascript": [
       "var spec = {\"marks\": [{\"properties\": {\"hover\": {\"stroke\": {\"value\": \"red\"}}, \"update\": {\"stroke\": {\"value\": \"steelblue\"}}, \"enter\": {\"y\": {\"field\": \"y\", \"scale\": \"y\"}, \"x\": {\"field\": \"x\", \"scale\": \"x\"}}}, \"from\": {\"data\": \"table\"}, \"type\": \"line\"}], \"axes\": [{\"scale\": \"x\", \"type\": \"x\"}, {\"scale\": \"y\", \"type\": \"y\"}], \"scales\": [{\"domain\": {\"field\": \"x\", \"data\": \"table\"}, \"range\": \"width\", \"type\": \"time\", \"name\": \"x\"}, {\"nice\": true, \"domain\": {\"field\": \"y\", \"data\": \"table\"}, \"range\": \"height\", \"type\": \"linear\", \"name\": \"y\"}], \"data\": [{\"format\": {\"parse\": {\"x\": \"date\"}, \"property\": \"data\", \"type\": \"json\"}, \"url\": \"https://api.resourcewatch.org/v1/query/20cc5eca-8c63-4c41-8e8e-134dcf1e6d76?sql=SELECT acq_date as x, count(acq_date) as y FROM vnp14imgtdl_nrt_global_7d WHERE acq_date >='2017-02-01T00:00:00' and acq_date < '2017-10-23T15:17:14.504268' group by acq_date order by acq_date asc\", \"name\": \"table\"}], \"padding\": \"fit\", \"height\": 200, \"width\": 500};\n",
       "var selector = \"#8ec3f140-c268-45eb-bea3-ea9d42549291\";\n",
       "var type = \"vega\";\n",
       "\n",
       "var output_area = this;\n",
       "require(['nbextensions/jupyter-vega/index'], function(vega) {\n",
       "  vega.render(selector, spec, type, output_area);\n",
       "}, function (err) {\n",
       "  if (err.requireType !== 'scripterror') {\n",
       "    throw(err);\n",
       "  }\n",
       "});\n"
      ]
     },
     "metadata": {
      "jupyter-vega": "#8ec3f140-c268-45eb-bea3-ea9d42549291"
     },
     "output_type": "display_data"
    },
    {
     "data": {
      "image/png": "[encoded data removed]"
     },
     "metadata": {
      "jupyter-vega": "#8ec3f140-c268-45eb-bea3-ea9d42549291"
     },
     "output_type": "display_data"
    }
   ],
   "source": [
    "specs={\"marks\":[{\"properties\":{\"hover\":{\"stroke\":{\"value\":\"red\"}},\"update\":{\"stroke\":{\"value\":\"steelblue\"}},\"enter\":{\"y\":{\"field\":\"y\",\"scale\":\"y\"},\"x\":{\"field\":\"x\",\"scale\":\"x\"}}},\"from\":{\"data\":\"table\"},\"type\":\"line\"}],\"axes\":[{\"scale\":\"x\",\"type\":\"x\"},{\"scale\":\"y\",\"type\":\"y\"}],\"scales\":[{\"domain\":{\"field\":\"x\",\"data\":\"table\"},\"range\":\"width\",\"type\":\"time\",\"name\":\"x\"},{\"nice\":True,\"domain\":{\"field\":\"y\",\"data\":\"table\"},\"range\":\"height\",\"type\":\"linear\",\"name\":\"y\"}],\"data\":[{\"format\":{\"parse\":{\"x\":\"date\"},\"property\":\"data\",\"type\":\"json\"},\"url\":\"https://api.resourcewatch.org/v1/query/20cc5eca-8c63-4c41-8e8e-134dcf1e6d76?sql=SELECT acq_date as x, count(acq_date) as y FROM vnp14imgtdl_nrt_global_7d WHERE acq_date >=\\'2017-02-01T00:00:00\\' and acq_date < \\'2017-10-23T15:17:14.504268\\' group by acq_date order by acq_date asc\",\"name\":\"table\"}],\"padding\":\"fit\",\"height\":200,\"width\":500}\n",
    "Vega(specs).display()"
   ]
  },
  {
   "cell_type": "markdown",
   "metadata": {},
   "source": [
    "This widget can be access throw the next url:"
   ]
  },
  {
   "cell_type": "code",
   "execution_count": 4,
   "metadata": {
    "scrolled": true
   },
   "outputs": [
    {
     "data": {
      "text/markdown": [
       "#### Respose: "
      ],
      "text/plain": [
       "<IPython.core.display.Markdown object>"
      ]
     },
     "metadata": {},
     "output_type": "display_data"
    },
    {
     "data": {
      "text/markdown": [
       "{\"data\":{\"id\":\"a5796158-1342-4b1a-8a70-914d630738e2\",\"type\":\"widget\",\"attributes\":{\"name\":\"Widget default\",\"dataset\":\"20cc5eca-8c63-4c41-8e8e-134dcf1e6d76\",\"slug\":\"Widget-default\",\"userId\":\"57a0aa1071e394dd32ffe137\",\"application\":[\"gfw\"],\"verified\":false,\"default\":false,\"defaultEditableWidget\":false,\"published\":false,\"env\":\"production\",\"queryUrl\":\"query/20cc5eca-8c63-4c41-8e8e-134dcf1e6d76?sql=SELECT acq_date as x, count(acq_date) as y FROM vnp14imgtdl_nrt_global_7d WHERE acq_date >='2017-02-01T00:00:00' and acq_date < '2017-10-23T15:17:14.504268' group by acq_date order by acq_date asc\",\"widgetConfig\":{\"marks\":[{\"properties\":{\"hover\":{\"stroke\":{\"value\":\"red\"}},\"update\":{\"stroke\":{\"value\":\"steelblue\"}},\"enter\":{\"y\":{\"field\":\"y\",\"scale\":\"y\"},\"x\":{\"field\":\"x\",\"scale\":\"x\"}}},\"from\":{\"data\":\"table\"},\"type\":\"line\"}],\"axes\":[{\"scale\":\"x\",\"type\":\"x\"},{\"scale\":\"y\",\"type\":\"y\"}],\"scales\":[{\"domain\":{\"field\":\"x\",\"data\":\"table\"},\"range\":\"width\",\"type\":\"time\",\"name\":\"x\"},{\"nice\":true,\"domain\":{\"field\":\"y\",\"data\":\"table\"},\"range\":\"height\",\"type\":\"linear\",\"name\":\"y\"}],\"data\":[{\"format\":{\"parse\":{\"x\":\"date\"},\"property\":\"data\",\"type\":\"json\"},\"url\":\"https://api.resourcewatch.org/v1/query/20cc5eca-8c63-4c41-8e8e-134dcf1e6d76?sql=SELECT acq_date as x, count(acq_date) as y FROM vnp14imgtdl_nrt_global_7d WHERE acq_date >='2017-02-01T00:00:00' and acq_date < '2017-10-23T15:17:14.504268' group by acq_date order by acq_date asc\",\"name\":\"table\"}],\"padding\":\"fit\",\"height\":200,\"width\":500},\"template\":false,\"createdAt\":\"2017-10-23T13:26:26.294Z\",\"updatedAt\":\"2017-10-23T13:26:26.294Z\"}}}"
      ],
      "text/plain": [
       "<IPython.core.display.Markdown object>"
      ]
     },
     "metadata": {},
     "output_type": "display_data"
    }
   ],
   "source": [
    "display(Markdown('#### Respose: '))\n",
    "display(Markdown('https://api.resourcewatch.org/v1/widget/a5796158-1342-4b1a-8a70-914d630738e2'))"
   ]
  },
  {
   "cell_type": "code",
   "execution_count": 5,
   "metadata": {
    "scrolled": false
   },
   "outputs": [
    {
     "data": {
      "application/vnd.jupyter.widget-view+json": {
       "model_id": "180dca1ef76e45aebe4457b0117188f5"
      }
     },
     "metadata": {},
     "output_type": "display_data"
    }
   ],
   "source": [
    "pos=Layout(display='flex',\n",
    "                    flex_flow='row',\n",
    "                    align_items='stretch',\n",
    "                    width='100%')\n",
    "options= {\n",
    "    'widgets':Dropdown(options={'line': 'a5796158-1342-4b1a-8a70-914d630738e2','bar': '19143822-3b11-407a-b3f7-7e98f6a1a024'}, description='Widget type:'),\n",
    "    'base_queryUrl':Textarea(value=api_baseurl+\"/query/20cc5eca-8c63-4c41-8e8e-134dcf1e6d76?sql={0}\", description='Url to query:',disabled=False, layout=pos),\n",
    "    'sql': Textarea(value=\"SELECT acq_date as x, count(acq_date) as y FROM vnp14imgtdl_nrt_global_7d WHERE acq_date >='{date_begin}' and acq_date < '{date_end}' group by acq_date order by acq_date asc\", description='Query:',layout=pos),    \n",
    "    'other_params':{'geostore'},\n",
    "    'date_end': DatePicker(description='Date end', disabled=False, value=datetime.today()),\n",
    "    'date_begin': DatePicker(description='Date begin', disabled=False, value=datetime(2017,10,18)),\n",
    "    'geostore': Dropdown(options={'Afghanistan': '37b397a9a2860beb5c43a1f418d3c3d3', 'Brazil': 'd653e4fc0ed07a65b9db9b13477566fe', 'Custom area':'ae52478dc8ffe23f7fe175611c20b684'}, description='Geostore')  \n",
    "}\n",
    "\n",
    "\n",
    "out =Output()\n",
    "with out:\n",
    "    display(interactive(visualization, widget=options['widgets'],base_queryUrl=options['base_queryUrl'], sql=options['sql'], date_begin=options['date_begin'], date_end=options['date_end'], geostore=options['geostore']));\n",
    "    \n",
    "out"
   ]
  },
  {
   "cell_type": "markdown",
   "metadata": {},
   "source": [
    "Now in the above widget we will be able to check how does this works, if we modify the query, the result will variates.\n",
    "Please copy paste in Query form input the next query:  \n",
    "```sql \n",
    "SELECT acq_date as x, sum(bright_ti4) as y FROM vnp14imgtdl_nrt_global_7d WHERE acq_date >='{date_begin}' and acq_date < '{date_end}' group by acq_date order by acq_date asc\n",
    "```\n",
    "\n",
    "Have you seen how the widget config has change? Now is your turn to play with the params"
   ]
  },
  {
   "cell_type": "code",
   "execution_count": 6,
   "metadata": {},
   "outputs": [
    {
     "data": {
      "text/html": [
       "<iframe src=https://vega.github.io/vega-editor/?mode=vega sandbox=\"allow-scripts allow-same-origin allow-forms\"   width=1200 height=500></iframe>"
      ],
      "text/plain": [
       "<IPython.core.display.HTML object>"
      ]
     },
     "execution_count": 6,
     "metadata": {},
     "output_type": "execute_result"
    }
   ],
   "source": [
    "url='https://vega.github.io/vega-editor/?mode=vega'\n",
    "iframe = '<iframe src=' + url + ' sandbox=\"allow-scripts allow-same-origin allow-forms\"   width=1200 height=500></iframe>'\n",
    "HTML(iframe)"
   ]
  },
  {
   "cell_type": "markdown",
   "metadata": {
    "collapsed": true
   },
   "source": [
    "**Note**: allow third party coockies or access the page in order to test it: `https://vega.github.io/vega-editor/?mode=vega`"
   ]
  }
 ],
 "metadata": {
  "kernelspec": {
   "display_name": "Python 3",
   "language": "python",
   "name": "python3"
  },
  "language_info": {
   "codemirror_mode": {
    "name": "ipython",
    "version": 3
   },
   "file_extension": ".py",
   "mimetype": "text/x-python",
   "name": "python",
   "nbconvert_exporter": "python",
   "pygments_lexer": "ipython3",
   "version": "3.6.1"
  },
  "toc": {
   "colors": {
    "hover_highlight": "#DAA520",
    "navigate_num": "#000000",
    "navigate_text": "#333333",
    "running_highlight": "#FF0000",
    "selected_highlight": "#FFD700",
    "sidebar_border": "#EEEEEE",
    "wrapper_background": "#FFFFFF"
   },
   "moveMenuLeft": true,
   "nav_menu": {
    "height": "12px",
    "width": "252px"
   },
   "navigate_menu": true,
   "number_sections": true,
   "sideBar": true,
   "threshold": "2",
   "toc_cell": true,
   "toc_section_display": "block",
   "toc_window_display": true,
   "widenNotebook": false
  },
  "varInspector": {
   "cols": {
    "lenName": 16,
    "lenType": 16,
    "lenVar": 40
   },
   "kernels_config": {
    "python": {
     "delete_cmd_postfix": "",
     "delete_cmd_prefix": "del ",
     "library": "var_list.py",
     "varRefreshCmd": "print(var_dic_list())"
    },
    "r": {
     "delete_cmd_postfix": ") ",
     "delete_cmd_prefix": "rm(",
     "library": "var_list.r",
     "varRefreshCmd": "cat(var_dic_list()) "
    }
   },
   "types_to_exclude": [
    "module",
    "function",
    "builtin_function_or_method",
    "instance",
    "_Feature"
   ],
   "window_display": false
  },
  "widgets": {
   "application/vnd.jupyter.widget-state+json": {
    "state": {
     "011dddac32774a4789044779210ebeee": {
      "model_module": "jupyter-js-widgets",
      "model_module_version": "~2.1.4",
      "model_name": "TextareaModel",
      "state": {
       "_model_module_version": "~2.1.4",
       "_view_module_version": "~2.1.4",
       "description": "Query:",
       "layout": "IPY_MODEL_ea7fdad44ca64ccab5495d7f27d4d8e0",
       "value": "SELECT acq_date as x, count(acq_date) as y FROM vnp14imgtdl_nrt_global_7d WHERE acq_date >='{date_begin}' and acq_date < '{date_end}' group by acq_date order by acq_date asc"
      }
     },
     "12eb6213abc14f64b7eab46503af1ffd": {
      "model_module": "jupyter-js-widgets",
      "model_module_version": "~2.1.4",
      "model_name": "OutputModel",
      "state": {
       "_dom_classes": [],
       "_model_module": "jupyter-js-widgets",
       "_model_module_version": "~2.1.4",
       "_view_module": "jupyter-js-widgets",
       "_view_module_version": "~2.1.4",
       "layout": "IPY_MODEL_d46779c27ac440a891bffe6c828f2d4d",
       "msg_throttle": 1
      }
     },
     "14ad1e5305094edab34b05320611f98b": {
      "model_module": "jupyter-js-widgets",
      "model_module_version": "~2.1.4",
      "model_name": "VBoxModel",
      "state": {
       "_dom_classes": [
        "widget-interact"
       ],
       "_model_module_version": "~2.1.4",
       "_view_module_version": "~2.1.4",
       "children": [
        "IPY_MODEL_f982a22ac0b246758628d3aca07fdde2",
        "IPY_MODEL_850f92afefd04b068f13686bd4530c75",
        "IPY_MODEL_85c85a2cf2d944d8887f75868dd07ff2",
        "IPY_MODEL_f5c3bc49788f4e3cafd72ffa6068a6d0",
        "IPY_MODEL_b256a077191149ce9b60ac4c378e414a",
        "IPY_MODEL_42b5b1406b824b1b889b935664510d04",
        "IPY_MODEL_6cd0908c41f34d57ac6000960fa105fa"
       ],
       "layout": "IPY_MODEL_48d11a29d209499fb8e9d76ec97bfeea"
      }
     },
     "155c65c1fa3f4100afbc9156e6cb110a": {
      "model_module": "jupyter-js-widgets",
      "model_module_version": "~2.1.4",
      "model_name": "OutputModel",
      "state": {
       "_dom_classes": [],
       "_model_module": "jupyter-js-widgets",
       "_model_module_version": "~2.1.4",
       "_view_module": "jupyter-js-widgets",
       "_view_module_version": "~2.1.4",
       "layout": "IPY_MODEL_eccd4eaa1beb4ef7976644b0fb228e4f",
       "msg_throttle": 1
      }
     },
     "159efe75d2eb496d93731b58bfd30a86": {
      "model_module": "jupyter-js-widgets",
      "model_module_version": "~2.1.4",
      "model_name": "LayoutModel",
      "state": {
       "_model_module_version": "~2.1.4",
       "_view_module_version": "~2.1.4"
      }
     },
     "175d6cf314ce46b78f6d30ec1e720d57": {
      "model_module": "jupyter-js-widgets",
      "model_module_version": "~2.1.4",
      "model_name": "DropdownModel",
      "state": {
       "_model_module_version": "~2.1.4",
       "_options_labels": [
        "line",
        "bar"
       ],
       "_view_module_version": "~2.1.4",
       "description": "Widget type:",
       "layout": "IPY_MODEL_4881076c41934965a40ccfff0ba833b4",
       "value": "line"
      }
     },
     "180dca1ef76e45aebe4457b0117188f5": {
      "model_module": "jupyter-js-widgets",
      "model_module_version": "~2.1.4",
      "model_name": "OutputModel",
      "state": {
       "_dom_classes": [],
       "_model_module": "jupyter-js-widgets",
       "_model_module_version": "~2.1.4",
       "_view_module": "jupyter-js-widgets",
       "_view_module_version": "~2.1.4",
       "layout": "IPY_MODEL_8f8da41e3555473cbfc27fa3ad37b374",
       "msg_throttle": 1
      }
     },
     "34ceecb3385e4d9c9c67e55a0f0ad2c0": {
      "model_module": "jupyter-js-widgets",
      "model_module_version": "~2.1.4",
      "model_name": "DatePickerModel",
      "state": {
       "_model_module_version": "~2.1.4",
       "_view_module_version": "~2.1.4",
       "description": "Date end",
       "layout": "IPY_MODEL_9f330a243ef9434684585d7dacd93a52",
       "value": {
        "date": 27,
        "hours": 9,
        "milliseconds": 183,
        "minutes": 48,
        "month": 9,
        "seconds": 10,
        "year": 2017
       }
      }
     },
     "38e6fd8e00e4442a89c0284ce9af0b76": {
      "model_module": "jupyter-js-widgets",
      "model_module_version": "~2.1.4",
      "model_name": "TextareaModel",
      "state": {
       "_model_module_version": "~2.1.4",
       "_view_module_version": "~2.1.4",
       "description": "Url to query:",
       "layout": "IPY_MODEL_ea7fdad44ca64ccab5495d7f27d4d8e0",
       "value": "https://api.resourcewatch.org/v1/query/20cc5eca-8c63-4c41-8e8e-134dcf1e6d76?sql={0}"
      }
     },
     "3b6ae9eea3a841d5810eaa409decf875": {
      "model_module": "jupyter-js-widgets",
      "model_module_version": "~2.1.4",
      "model_name": "LayoutModel",
      "state": {
       "_model_module_version": "~2.1.4",
       "_view_module_version": "~2.1.4"
      }
     },
     "42b5b1406b824b1b889b935664510d04": {
      "model_module": "jupyter-js-widgets",
      "model_module_version": "~2.1.4",
      "model_name": "DropdownModel",
      "state": {
       "_model_module_version": "~2.1.4",
       "_options_labels": [
        "Afghanistan",
        "Brazil",
        "Custom area"
       ],
       "_view_module_version": "~2.1.4",
       "description": "Geostore",
       "layout": "IPY_MODEL_6da77d2207bd498d8df5a56c6752498c",
       "value": "Afghanistan"
      }
     },
     "445685a574944331a5d8817b64935735": {
      "model_module": "jupyter-js-widgets",
      "model_module_version": "~2.1.4",
      "model_name": "DropdownModel",
      "state": {
       "_model_module_version": "~2.1.4",
       "_options_labels": [
        "line",
        "bar"
       ],
       "_view_module_version": "~2.1.4",
       "description": "Widget type:",
       "layout": "IPY_MODEL_d26e23f9d04d4e4db6e3ba38d80c8ece",
       "value": "line"
      }
     },
     "4881076c41934965a40ccfff0ba833b4": {
      "model_module": "jupyter-js-widgets",
      "model_module_version": "~2.1.4",
      "model_name": "LayoutModel",
      "state": {
       "_model_module_version": "~2.1.4",
       "_view_module_version": "~2.1.4"
      }
     },
     "48d11a29d209499fb8e9d76ec97bfeea": {
      "model_module": "jupyter-js-widgets",
      "model_module_version": "~2.1.4",
      "model_name": "LayoutModel",
      "state": {
       "_model_module_version": "~2.1.4",
       "_view_module_version": "~2.1.4"
      }
     },
     "4a6d40bdfc96479c804cbee0eb448bbe": {
      "model_module": "jupyter-js-widgets",
      "model_module_version": "~2.1.4",
      "model_name": "TextareaModel",
      "state": {
       "_model_module_version": "~2.1.4",
       "_view_module_version": "~2.1.4",
       "description": "Url to query:",
       "layout": "IPY_MODEL_bcb1627ad7e74b7b8e53214ba418c77f",
       "value": "https://api.resourcewatch.org/v1/query/20cc5eca-8c63-4c41-8e8e-134dcf1e6d76?sql={0}"
      }
     },
     "4b82694bed7445b7b3d51ea5a0baca5f": {
      "model_module": "jupyter-js-widgets",
      "model_module_version": "~2.1.4",
      "model_name": "LayoutModel",
      "state": {
       "_model_module_version": "~2.1.4",
       "_view_module_version": "~2.1.4"
      }
     },
     "51be0113eefa4eb99815859b7b7b54f2": {
      "model_module": "jupyter-js-widgets",
      "model_module_version": "~2.1.4",
      "model_name": "LayoutModel",
      "state": {
       "_model_module_version": "~2.1.4",
       "_view_module_version": "~2.1.4"
      }
     },
     "59585d34a06a49349818eec79b06bfc5": {
      "model_module": "jupyter-js-widgets",
      "model_module_version": "~2.1.4",
      "model_name": "VBoxModel",
      "state": {
       "_dom_classes": [
        "widget-interact"
       ],
       "_model_module_version": "~2.1.4",
       "_view_module_version": "~2.1.4",
       "children": [
        "IPY_MODEL_445685a574944331a5d8817b64935735",
        "IPY_MODEL_38e6fd8e00e4442a89c0284ce9af0b76",
        "IPY_MODEL_011dddac32774a4789044779210ebeee",
        "IPY_MODEL_69e2749acd14408fadeeea0d80dbd904",
        "IPY_MODEL_80ac9871850c447bb18917482096b4f3",
        "IPY_MODEL_b9758d8c671c484083f4d3c184a49543",
        "IPY_MODEL_7160fd20426840aa975a68e2b985ec38"
       ],
       "layout": "IPY_MODEL_7ff608cd05f8481dae70c4edde878642"
      }
     },
     "69e2749acd14408fadeeea0d80dbd904": {
      "model_module": "jupyter-js-widgets",
      "model_module_version": "~2.1.4",
      "model_name": "DatePickerModel",
      "state": {
       "_model_module_version": "~2.1.4",
       "_view_module_version": "~2.1.4",
       "description": "Date begin",
       "layout": "IPY_MODEL_aaac7d32e46f4e6cb07061c1a2392140",
       "value": {
        "date": 18,
        "hours": 0,
        "milliseconds": 0,
        "minutes": 0,
        "month": 9,
        "seconds": 0,
        "year": 2017
       }
      }
     },
     "6cd0908c41f34d57ac6000960fa105fa": {
      "model_module": "jupyter-js-widgets",
      "model_module_version": "~2.1.4",
      "model_name": "OutputModel",
      "state": {
       "_dom_classes": [],
       "_model_module": "jupyter-js-widgets",
       "_model_module_version": "~2.1.4",
       "_view_module": "jupyter-js-widgets",
       "_view_module_version": "~2.1.4",
       "layout": "IPY_MODEL_159efe75d2eb496d93731b58bfd30a86",
       "msg_throttle": 1
      }
     },
     "6da77d2207bd498d8df5a56c6752498c": {
      "model_module": "jupyter-js-widgets",
      "model_module_version": "~2.1.4",
      "model_name": "LayoutModel",
      "state": {
       "_model_module_version": "~2.1.4",
       "_view_module_version": "~2.1.4"
      }
     },
     "7160fd20426840aa975a68e2b985ec38": {
      "model_module": "jupyter-js-widgets",
      "model_module_version": "~2.1.4",
      "model_name": "OutputModel",
      "state": {
       "_dom_classes": [],
       "_model_module": "jupyter-js-widgets",
       "_model_module_version": "~2.1.4",
       "_view_module": "jupyter-js-widgets",
       "_view_module_version": "~2.1.4",
       "layout": "IPY_MODEL_fd09117ab873444cae73c32b02f4ff2b",
       "msg_throttle": 1
      }
     },
     "7ff608cd05f8481dae70c4edde878642": {
      "model_module": "jupyter-js-widgets",
      "model_module_version": "~2.1.4",
      "model_name": "LayoutModel",
      "state": {
       "_model_module_version": "~2.1.4",
       "_view_module_version": "~2.1.4"
      }
     },
     "80ac9871850c447bb18917482096b4f3": {
      "model_module": "jupyter-js-widgets",
      "model_module_version": "~2.1.4",
      "model_name": "DatePickerModel",
      "state": {
       "_model_module_version": "~2.1.4",
       "_view_module_version": "~2.1.4",
       "description": "Date end",
       "layout": "IPY_MODEL_85a677898cc54524b6b12703e1a8bc6e",
       "value": {
        "date": 27,
        "hours": 10,
        "milliseconds": 222,
        "minutes": 41,
        "month": 9,
        "seconds": 27,
        "year": 2017
       }
      }
     },
     "850f92afefd04b068f13686bd4530c75": {
      "model_module": "jupyter-js-widgets",
      "model_module_version": "~2.1.4",
      "model_name": "TextareaModel",
      "state": {
       "_model_module_version": "~2.1.4",
       "_view_module_version": "~2.1.4",
       "description": "Url to query:",
       "layout": "IPY_MODEL_f0709d4ec6fd422f94825b287a9162df",
       "value": "https://api.resourcewatch.org/v1/query/20cc5eca-8c63-4c41-8e8e-134dcf1e6d76?sql={0}"
      }
     },
     "85a677898cc54524b6b12703e1a8bc6e": {
      "model_module": "jupyter-js-widgets",
      "model_module_version": "~2.1.4",
      "model_name": "LayoutModel",
      "state": {
       "_model_module_version": "~2.1.4",
       "_view_module_version": "~2.1.4"
      }
     },
     "85c85a2cf2d944d8887f75868dd07ff2": {
      "model_module": "jupyter-js-widgets",
      "model_module_version": "~2.1.4",
      "model_name": "TextareaModel",
      "state": {
       "_model_module_version": "~2.1.4",
       "_view_module_version": "~2.1.4",
       "description": "Query:",
       "layout": "IPY_MODEL_f0709d4ec6fd422f94825b287a9162df",
       "value": "SELECT acq_date as x, count(acq_date) as y FROM vnp14imgtdl_nrt_global_7d WHERE acq_date >='{date_begin}' and acq_date < '{date_end}' group by acq_date order by acq_date asc"
      }
     },
     "8f8da41e3555473cbfc27fa3ad37b374": {
      "model_module": "jupyter-js-widgets",
      "model_module_version": "~2.1.4",
      "model_name": "LayoutModel",
      "state": {
       "_model_module_version": "~2.1.4",
       "_view_module_version": "~2.1.4"
      }
     },
     "95184d30d8d848cd802c6eb939c57413": {
      "model_module": "jupyter-js-widgets",
      "model_module_version": "~2.1.4",
      "model_name": "VBoxModel",
      "state": {
       "_dom_classes": [
        "widget-interact"
       ],
       "_model_module_version": "~2.1.4",
       "_view_module_version": "~2.1.4",
       "children": [
        "IPY_MODEL_175d6cf314ce46b78f6d30ec1e720d57",
        "IPY_MODEL_4a6d40bdfc96479c804cbee0eb448bbe",
        "IPY_MODEL_cf904618781a4b4e87715ee880cbf52d",
        "IPY_MODEL_ef5ca5e0baa14756a55ed13a00b06afb",
        "IPY_MODEL_34ceecb3385e4d9c9c67e55a0f0ad2c0",
        "IPY_MODEL_b7520223603b4e30b04cbaf26eea0a7c",
        "IPY_MODEL_fe1ff4abbf664157a8a17d760c9f280b"
       ],
       "layout": "IPY_MODEL_b988568a04f940a4a1df3abe1738efef"
      }
     },
     "9f330a243ef9434684585d7dacd93a52": {
      "model_module": "jupyter-js-widgets",
      "model_module_version": "~2.1.4",
      "model_name": "LayoutModel",
      "state": {
       "_model_module_version": "~2.1.4",
       "_view_module_version": "~2.1.4"
      }
     },
     "a17d9fa5e82b4648b1dc318f470d237f": {
      "model_module": "jupyter-js-widgets",
      "model_module_version": "~2.1.4",
      "model_name": "LayoutModel",
      "state": {
       "_model_module_version": "~2.1.4",
       "_view_module_version": "~2.1.4"
      }
     },
     "aaac7d32e46f4e6cb07061c1a2392140": {
      "model_module": "jupyter-js-widgets",
      "model_module_version": "~2.1.4",
      "model_name": "LayoutModel",
      "state": {
       "_model_module_version": "~2.1.4",
       "_view_module_version": "~2.1.4"
      }
     },
     "b256a077191149ce9b60ac4c378e414a": {
      "model_module": "jupyter-js-widgets",
      "model_module_version": "~2.1.4",
      "model_name": "DatePickerModel",
      "state": {
       "_model_module_version": "~2.1.4",
       "_view_module_version": "~2.1.4",
       "description": "Date end",
       "layout": "IPY_MODEL_c3fe01f12b994735a880cb8e8021ac8e",
       "value": {
        "date": 27,
        "hours": 10,
        "milliseconds": 301,
        "minutes": 38,
        "month": 9,
        "seconds": 43,
        "year": 2017
       }
      }
     },
     "b7520223603b4e30b04cbaf26eea0a7c": {
      "model_module": "jupyter-js-widgets",
      "model_module_version": "~2.1.4",
      "model_name": "DropdownModel",
      "state": {
       "_model_module_version": "~2.1.4",
       "_options_labels": [
        "Afghanistan",
        "Brazil",
        "Custom area"
       ],
       "_view_module_version": "~2.1.4",
       "description": "Geostore",
       "layout": "IPY_MODEL_3b6ae9eea3a841d5810eaa409decf875",
       "value": "Afghanistan"
      }
     },
     "b9758d8c671c484083f4d3c184a49543": {
      "model_module": "jupyter-js-widgets",
      "model_module_version": "~2.1.4",
      "model_name": "DropdownModel",
      "state": {
       "_model_module_version": "~2.1.4",
       "_options_labels": [
        "Afghanistan",
        "Brazil",
        "Custom area"
       ],
       "_view_module_version": "~2.1.4",
       "description": "Geostore",
       "layout": "IPY_MODEL_fc956814c1bf455eb31a167b9aec1c67",
       "value": "Afghanistan"
      }
     },
     "b988568a04f940a4a1df3abe1738efef": {
      "model_module": "jupyter-js-widgets",
      "model_module_version": "~2.1.4",
      "model_name": "LayoutModel",
      "state": {
       "_model_module_version": "~2.1.4",
       "_view_module_version": "~2.1.4"
      }
     },
     "bcb1627ad7e74b7b8e53214ba418c77f": {
      "model_module": "jupyter-js-widgets",
      "model_module_version": "~2.1.4",
      "model_name": "LayoutModel",
      "state": {
       "_model_module_version": "~2.1.4",
       "_view_module_version": "~2.1.4",
       "align_items": "stretch",
       "display": "flex",
       "flex_flow": "row",
       "width": "100%"
      }
     },
     "c3fe01f12b994735a880cb8e8021ac8e": {
      "model_module": "jupyter-js-widgets",
      "model_module_version": "~2.1.4",
      "model_name": "LayoutModel",
      "state": {
       "_model_module_version": "~2.1.4",
       "_view_module_version": "~2.1.4"
      }
     },
     "cf904618781a4b4e87715ee880cbf52d": {
      "model_module": "jupyter-js-widgets",
      "model_module_version": "~2.1.4",
      "model_name": "TextareaModel",
      "state": {
       "_model_module_version": "~2.1.4",
       "_view_module_version": "~2.1.4",
       "description": "Query:",
       "layout": "IPY_MODEL_bcb1627ad7e74b7b8e53214ba418c77f",
       "value": "SELECT acq_date as x, count(acq_date) as y FROM vnp14imgtdl_nrt_global_7d WHERE acq_date >='{date_begin}' and acq_date < '{date_end}' group by acq_date order by acq_date asc"
      }
     },
     "d26e23f9d04d4e4db6e3ba38d80c8ece": {
      "model_module": "jupyter-js-widgets",
      "model_module_version": "~2.1.4",
      "model_name": "LayoutModel",
      "state": {
       "_model_module_version": "~2.1.4",
       "_view_module_version": "~2.1.4"
      }
     },
     "d46779c27ac440a891bffe6c828f2d4d": {
      "model_module": "jupyter-js-widgets",
      "model_module_version": "~2.1.4",
      "model_name": "LayoutModel",
      "state": {
       "_model_module_version": "~2.1.4",
       "_view_module_version": "~2.1.4"
      }
     },
     "ea7fdad44ca64ccab5495d7f27d4d8e0": {
      "model_module": "jupyter-js-widgets",
      "model_module_version": "~2.1.4",
      "model_name": "LayoutModel",
      "state": {
       "_model_module_version": "~2.1.4",
       "_view_module_version": "~2.1.4",
       "align_items": "stretch",
       "display": "flex",
       "flex_flow": "row",
       "width": "100%"
      }
     },
     "eccd4eaa1beb4ef7976644b0fb228e4f": {
      "model_module": "jupyter-js-widgets",
      "model_module_version": "~2.1.4",
      "model_name": "LayoutModel",
      "state": {
       "_model_module_version": "~2.1.4",
       "_view_module_version": "~2.1.4"
      }
     },
     "ef5ca5e0baa14756a55ed13a00b06afb": {
      "model_module": "jupyter-js-widgets",
      "model_module_version": "~2.1.4",
      "model_name": "DatePickerModel",
      "state": {
       "_model_module_version": "~2.1.4",
       "_view_module_version": "~2.1.4",
       "description": "Date begin",
       "layout": "IPY_MODEL_4b82694bed7445b7b3d51ea5a0baca5f",
       "value": {
        "date": 18,
        "hours": 0,
        "milliseconds": 0,
        "minutes": 0,
        "month": 9,
        "seconds": 0,
        "year": 2017
       }
      }
     },
     "f0709d4ec6fd422f94825b287a9162df": {
      "model_module": "jupyter-js-widgets",
      "model_module_version": "~2.1.4",
      "model_name": "LayoutModel",
      "state": {
       "_model_module_version": "~2.1.4",
       "_view_module_version": "~2.1.4",
       "align_items": "stretch",
       "display": "flex",
       "flex_flow": "row",
       "width": "100%"
      }
     },
     "f5c3bc49788f4e3cafd72ffa6068a6d0": {
      "model_module": "jupyter-js-widgets",
      "model_module_version": "~2.1.4",
      "model_name": "DatePickerModel",
      "state": {
       "_model_module_version": "~2.1.4",
       "_view_module_version": "~2.1.4",
       "description": "Date begin",
       "layout": "IPY_MODEL_f982ee5aa80444a89e6a814cd051b59a",
       "value": {
        "date": 18,
        "hours": 0,
        "milliseconds": 0,
        "minutes": 0,
        "month": 9,
        "seconds": 0,
        "year": 2017
       }
      }
     },
     "f982a22ac0b246758628d3aca07fdde2": {
      "model_module": "jupyter-js-widgets",
      "model_module_version": "~2.1.4",
      "model_name": "DropdownModel",
      "state": {
       "_model_module_version": "~2.1.4",
       "_options_labels": [
        "line",
        "bar"
       ],
       "_view_module_version": "~2.1.4",
       "description": "Widget type:",
       "layout": "IPY_MODEL_51be0113eefa4eb99815859b7b7b54f2",
       "value": "line"
      }
     },
     "f982ee5aa80444a89e6a814cd051b59a": {
      "model_module": "jupyter-js-widgets",
      "model_module_version": "~2.1.4",
      "model_name": "LayoutModel",
      "state": {
       "_model_module_version": "~2.1.4",
       "_view_module_version": "~2.1.4"
      }
     },
     "fc956814c1bf455eb31a167b9aec1c67": {
      "model_module": "jupyter-js-widgets",
      "model_module_version": "~2.1.4",
      "model_name": "LayoutModel",
      "state": {
       "_model_module_version": "~2.1.4",
       "_view_module_version": "~2.1.4"
      }
     },
     "fd09117ab873444cae73c32b02f4ff2b": {
      "model_module": "jupyter-js-widgets",
      "model_module_version": "~2.1.4",
      "model_name": "LayoutModel",
      "state": {
       "_model_module_version": "~2.1.4",
       "_view_module_version": "~2.1.4"
      }
     },
     "fe1ff4abbf664157a8a17d760c9f280b": {
      "model_module": "jupyter-js-widgets",
      "model_module_version": "~2.1.4",
      "model_name": "OutputModel",
      "state": {
       "_dom_classes": [],
       "_model_module": "jupyter-js-widgets",
       "_model_module_version": "~2.1.4",
       "_view_module": "jupyter-js-widgets",
       "_view_module_version": "~2.1.4",
       "layout": "IPY_MODEL_a17d9fa5e82b4648b1dc318f470d237f",
       "msg_throttle": 1
      }
     }
    },
    "version_major": 1,
    "version_minor": 0
   }
  }
 },
 "nbformat": 4,
 "nbformat_minor": 2
}
