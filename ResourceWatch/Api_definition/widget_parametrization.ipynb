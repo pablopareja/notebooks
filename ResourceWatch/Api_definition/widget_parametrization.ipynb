{
 "cells": [
  {
   "cell_type": "markdown",
   "metadata": {
    "toc": "true"
   },
   "source": [
    "# Table of Contents\n",
    " <p><div class=\"lev1 toc-item\"><a href=\"#Widget-parametrization\" data-toc-modified-id=\"Widget-parametrization-1\"><span class=\"toc-item-num\">1&nbsp;&nbsp;</span>Widget parametrization</a></div>"
   ]
  },
  {
   "cell_type": "markdown",
   "metadata": {},
   "source": [
    "# Widget parametrization "
   ]
  },
  {
   "cell_type": "code",
   "execution_count": 5,
   "metadata": {},
   "outputs": [],
   "source": [
    "from __future__ import print_function\n",
    "import requests\n",
    "import json\n",
    "from pprint import pprint\n",
    "from IPython.display import display, Markdown\n",
    "import pandas as pd\n",
    "from ipywidgets import DatePicker, interactive, Textarea, Layout, Dropdown, Output\n",
    "import ipywidgets as widgets\n",
    "from datetime import datetime\n",
    "from vega import Vega"
   ]
  },
  {
   "cell_type": "markdown",
   "metadata": {},
   "source": [
    "We are going to use this dataset `20cc5eca-8c63-4c41-8e8e-134dcf1e6d76` (Active Fires VIIRS) as an example for widget creation.  \n",
    "`http://api.resourcewatch.org/fields/:dataset_id`  \n",
    "Field information to be able to build the dynamic query: \n",
    "\n",
    "```json  \n",
    "{\n",
    "\"tableName\": \"vnp14imgtdl_nrt_global_7d\",\n",
    "\"fields\": {\n",
    "\"cartodb_id\": {\n",
    "\"type\": \"number\"\n",
    "},\n",
    "\"the_geom\": {\n",
    "\"type\": \"geometry\"\n",
    "},\n",
    "\"the_geom_webmercator\": {\n",
    "\"type\": \"geometry\"\n",
    "},\n",
    "\"latitude\": {\n",
    "\"type\": \"number\"\n",
    "},\n",
    "\"longitude\": {\n",
    "\"type\": \"number\"\n",
    "},\n",
    "\"bright_ti4\": {\n",
    "\"type\": \"number\"\n",
    "},\n",
    "\"scan\": {\n",
    "\"type\": \"number\"\n",
    "},\n",
    "\"track\": {\n",
    "\"type\": \"number\"\n",
    "},\n",
    "\"acq_date\": {\n",
    "\"type\": \"date\"\n",
    "},\n",
    "\"acq_time\": {\n",
    "\"type\": \"string\"\n",
    "},\n",
    "\"satellite\": {\n",
    "\"type\": \"string\"\n",
    "},\n",
    "\"confidence\": {\n",
    "\"type\": \"string\"\n",
    "},\n",
    "\"version\": {\n",
    "\"type\": \"string\"\n",
    "},\n",
    "\"bright_ti5\": {\n",
    "\"type\": \"number\"\n",
    "},\n",
    "\"frp\": {\n",
    "\"type\": \"number\"\n",
    "},\n",
    "\"daynight\": {\n",
    "\"type\": \"string\"\n",
    "},\n",
    "\"_feature_count\": {\n",
    "\"type\": \"number\"\n",
    "}\n",
    "}\n",
    "}\n",
    "```\n",
    "\n"
   ]
  },
  {
   "cell_type": "markdown",
   "metadata": {},
   "source": [
    "With this we can define the sql query that we want to use. It is very important, if you are parametrizing the queries, you will need to make sure you keep the same columns and their aliases  \n",
    "```sql\n",
    "SELECT julian_day as x, count(julian_day) \n",
    "FROM index_e663eb0904de4f39b87135c6c2ed10b5 \n",
    "WHERE confidence > 50 and year > {year_begin} and julian_day >{dayyear_begin} and year < {year_end}  and julian_day < {dayyear_end}\n",
    "```"
   ]
  },
  {
   "cell_type": "markdown",
   "metadata": {},
   "source": [
    "We are going to define two simple widgets in vega 2.6 and add them to the api:\n",
    "* Bar: \n",
    "    * Data layout:\n",
    " \n",
    "| date | value |  \n",
    "|---|---|  \n",
    "| | |  \n",
    "| | |  \n",
    "* Line:\n",
    "    * Data layout:\n",
    "  \n",
    "|x|y|  \n",
    "|---|---|  \n",
    "| | |  \n",
    "| | |  \n",
    "\n",
    "* Pie:\n",
    "    * Data layout: \n",
    " \n",
    "|category|value|  \n",
    "|---|---|  \n",
    "|||  \n",
    "|||  \n",
    "\n",
    "\n",
    "\n",
    "\n"
   ]
  },
  {
   "cell_type": "code",
   "execution_count": 6,
   "metadata": {},
   "outputs": [],
   "source": [
    "api_baseurl = 'https://api.resourcewatch.org/v1'\n",
    "\n",
    "def julian_day(date):\n",
    "    first_dayyear=datetime(date.year,1,1)\n",
    "    return abs(date - first_dayyear).days + 1\n",
    "\n",
    "\n",
    "def visualization(widget, base_queryUrl, sql, date_begin, date_end, geostore=None):\n",
    "    \n",
    "    api_widgetapi = api_baseurl + '/widget/{0}'.format(widget)\n",
    "    payload = {\"queryUrl\":base_queryUrl.format(sql.format(date_begin=date_begin.isoformat(), date_end=date_end.isoformat()))}\n",
    "    if geostore!=None:\n",
    "        payload.update({'geostore':geostore})\n",
    "    r = requests.get(api_widgetapi, params=payload)\n",
    "    if r.status_code != 200:\n",
    "        print(r.json())\n",
    "    else:\n",
    "        spec = json.dumps(r.json()['data']['attributes']['widgetConfig'])\n",
    "        display(Vega(json.loads(spec)));\n",
    "        display(Markdown(\"#### Call:  \"));\n",
    "        display(Markdown(\">>```  {0}  ```\".format(r.url)));\n",
    "        display(Markdown(\"#### Response:  \"));\n",
    "        display(Markdown(\"\"\">> ```json  \n",
    "        {0}  ```\"\"\".format((spec))));"
   ]
  },
  {
   "cell_type": "code",
   "execution_count": 12,
   "metadata": {
    "scrolled": false
   },
   "outputs": [
    {
     "data": {
      "application/vnd.jupyter.widget-view+json": {
       "model_id": "a2e8b6c758eb4f7cb313444146f8f015",
       "version_major": 2,
       "version_minor": 0
      },
      "text/html": [
       "<p>Failed to display Jupyter Widget of type <code>Output</code>.</p>\n",
       "<p>\n",
       "  If you're reading this message in Jupyter Notebook or JupyterLab, it may mean\n",
       "  that the widgets JavaScript is still loading. If this message persists, it\n",
       "  likely means that the widgets JavaScript library is either not installed or\n",
       "  not enabled. See the <a href=\"https://ipywidgets.readthedocs.io/en/stable/user_install.html\">Jupyter\n",
       "  Widgets Documentation</a> for setup instructions.\n",
       "</p>\n",
       "<p>\n",
       "  If you're reading this message in another notebook frontend (for example, a static\n",
       "  rendering on GitHub or <a href=\"https://nbviewer.jupyter.org/\">NBViewer</a>),\n",
       "  it may mean that your frontend doesn't currently support widgets.\n",
       "</p>\n"
      ],
      "text/plain": [
       "Output()"
      ]
     },
     "metadata": {},
     "output_type": "display_data"
    }
   ],
   "source": [
    "pos=Layout(display='flex',\n",
    "                    flex_flow='row',\n",
    "                    align_items='stretch',\n",
    "                    width='100%')\n",
    "options= {\n",
    "    'widgets':Dropdown(options={'line': 'a5796158-1342-4b1a-8a70-914d630738e2','bar': '19143822-3b11-407a-b3f7-7e98f6a1a024'}, description='Widget type:'),\n",
    "    'base_queryUrl':Textarea(value=api_baseurl+\"/query/20cc5eca-8c63-4c41-8e8e-134dcf1e6d76?sql={0}\", description='Url to query:',layout=pos),\n",
    "    'sql': Textarea(value=\"SELECT acq_date as x, count(acq_date) as y FROM vnp14imgtdl_nrt_global_7d WHERE acq_date >='{date_begin}' and acq_date < '{date_end}' group by acq_date order by acq_date asc\", description='Query:',layout=pos),    \n",
    "    'date_end': DatePicker(description='Date end', disabled=False, value=datetime.today()),\n",
    "    'date_begin': DatePicker(description='Date begin', disabled=False, value=datetime(2017,10,18)),\n",
    "    'geostore': Dropdown(options={'Afghanistan': '37b397a9a2860beb5c43a1f418d3c3d3', 'Brazil': 'd653e4fc0ed07a65b9db9b13477566fe', 'Custom area':'ae52478dc8ffe23f7fe175611c20b684'}, description='Geostore')  \n",
    "}\n",
    "out =Output()\n",
    "with out:\n",
    "    display(interactive(visualization, widget=options['widgets'],base_queryUrl=options['base_queryUrl'], sql=options['sql'], date_begin=options['date_begin'], date_end=options['date_end'], geostore=options['geostore']));\n",
    "    \n",
    "out"
   ]
  },
  {
   "cell_type": "code",
   "execution_count": null,
   "metadata": {},
   "outputs": [],
   "source": []
  }
 ],
 "metadata": {
  "kernelspec": {
   "display_name": "Python 3",
   "language": "python",
   "name": "python3"
  },
  "language_info": {
   "codemirror_mode": {
    "name": "ipython",
    "version": 3
   },
   "file_extension": ".py",
   "mimetype": "text/x-python",
   "name": "python",
   "nbconvert_exporter": "python",
   "pygments_lexer": "ipython3",
   "version": "3.6.1"
  },
  "toc": {
   "colors": {
    "hover_highlight": "#DAA520",
    "navigate_num": "#000000",
    "navigate_text": "#333333",
    "running_highlight": "#FF0000",
    "selected_highlight": "#FFD700",
    "sidebar_border": "#EEEEEE",
    "wrapper_background": "#FFFFFF"
   },
   "moveMenuLeft": true,
   "nav_menu": {
    "height": "12px",
    "width": "252px"
   },
   "navigate_menu": true,
   "number_sections": true,
   "sideBar": true,
   "threshold": "2",
   "toc_cell": true,
   "toc_section_display": "block",
   "toc_window_display": true,
   "widenNotebook": false
  },
  "varInspector": {
   "cols": {
    "lenName": 16,
    "lenType": 16,
    "lenVar": 40
   },
   "kernels_config": {
    "python": {
     "delete_cmd_postfix": "",
     "delete_cmd_prefix": "del ",
     "library": "var_list.py",
     "varRefreshCmd": "print(var_dic_list())"
    },
    "r": {
     "delete_cmd_postfix": ") ",
     "delete_cmd_prefix": "rm(",
     "library": "var_list.r",
     "varRefreshCmd": "cat(var_dic_list()) "
    }
   },
   "types_to_exclude": [
    "module",
    "function",
    "builtin_function_or_method",
    "instance",
    "_Feature"
   ],
   "window_display": false
  },
  "widgets": {
   "application/vnd.jupyter.widget-state+json": {
    "state": {
     "00f09a4701874468813819cc0c32af83": {
      "model_module": "jupyter-js-widgets",
      "model_module_version": "~2.1.4",
      "model_name": "LayoutModel",
      "state": {
       "_model_module_version": "~2.1.4",
       "_view_module_version": "~2.1.4"
      }
     },
     "01c5dc1eb48b4dd2aea3c2ec5e5a4f85": {
      "model_module": "jupyter-js-widgets",
      "model_module_version": "~2.1.4",
      "model_name": "LayoutModel",
      "state": {
       "_model_module_version": "~2.1.4",
       "_view_module_version": "~2.1.4"
      }
     },
     "01c73f0f7f65401082f34e7982b9ff7c": {
      "model_module": "jupyter-js-widgets",
      "model_module_version": "~2.1.4",
      "model_name": "LayoutModel",
      "state": {
       "_model_module_version": "~2.1.4",
       "_view_module_version": "~2.1.4"
      }
     },
     "01d2fcdc9c5e46489e0620d759b4336f": {
      "model_module": "jupyter-js-widgets",
      "model_module_version": "~2.1.4",
      "model_name": "LayoutModel",
      "state": {
       "_model_module_version": "~2.1.4",
       "_view_module_version": "~2.1.4"
      }
     },
     "0339dd11582c4a6bb255a67b4e517eec": {
      "model_module": "jupyter-js-widgets",
      "model_module_version": "~2.1.4",
      "model_name": "DatePickerModel",
      "state": {
       "_model_module_version": "~2.1.4",
       "_view_module_version": "~2.1.4",
       "description": "Date begin",
       "layout": "IPY_MODEL_3d9b62e9a4ab447e957cd8f53ff189a6",
       "value": {
        "date": 18,
        "hours": 0,
        "milliseconds": 0,
        "minutes": 0,
        "month": 9,
        "seconds": 0,
        "year": 2017
       }
      }
     },
     "0429f1fa028247039ebebd8a7a8bdb3a": {
      "model_module": "jupyter-js-widgets",
      "model_module_version": "~2.1.4",
      "model_name": "LayoutModel",
      "state": {
       "_model_module_version": "~2.1.4",
       "_view_module_version": "~2.1.4"
      }
     },
     "04f78376f22842278af605bf4fc00663": {
      "model_module": "jupyter-js-widgets",
      "model_module_version": "~2.1.4",
      "model_name": "VBoxModel",
      "state": {
       "_dom_classes": [
        "widget-interact"
       ],
       "_model_module_version": "~2.1.4",
       "_view_module_version": "~2.1.4",
       "children": [
        "IPY_MODEL_a270f6cec92446aa86540e414abadd50",
        "IPY_MODEL_066a0444bf0448d493f02695d52a37e1",
        "IPY_MODEL_5f52b3eb2ed6490c824ee973ccfdb484",
        "IPY_MODEL_af84a5f99afd4e7796c782caf280f6f7",
        "IPY_MODEL_c44a87ad73394bf6baf7c6c46dbeb7e4",
        "IPY_MODEL_75cae2f9156547018273fde9df45ac07",
        "IPY_MODEL_38363c946cb7435f9d5564ac8f92b45a"
       ],
       "layout": "IPY_MODEL_01c73f0f7f65401082f34e7982b9ff7c"
      }
     },
     "066a0444bf0448d493f02695d52a37e1": {
      "model_module": "jupyter-js-widgets",
      "model_module_version": "~2.1.4",
      "model_name": "TextareaModel",
      "state": {
       "_model_module_version": "~2.1.4",
       "_view_module_version": "~2.1.4",
       "description": "Url to query:",
       "layout": "IPY_MODEL_93548911d802419388801c7902184271",
       "value": "https://api.resourcewatch.org/v1/query/20cc5eca-8c63-4c41-8e8e-134dcf1e6d76?sql={0}"
      }
     },
     "069dc2b6c5364accb6e8a1ad0de8675d": {
      "model_module": "jupyter-js-widgets",
      "model_module_version": "~2.1.4",
      "model_name": "LayoutModel",
      "state": {
       "_model_module_version": "~2.1.4",
       "_view_module_version": "~2.1.4"
      }
     },
     "086af053e20d4416a74263a658d5c83e": {
      "model_module": "jupyter-js-widgets",
      "model_module_version": "~2.1.4",
      "model_name": "LayoutModel",
      "state": {
       "_model_module_version": "~2.1.4",
       "_view_module_version": "~2.1.4"
      }
     },
     "08f9d948a2b44e968da29e25ec6c6101": {
      "model_module": "jupyter-js-widgets",
      "model_module_version": "~2.1.4",
      "model_name": "LayoutModel",
      "state": {
       "_model_module_version": "~2.1.4",
       "_view_module_version": "~2.1.4"
      }
     },
     "091ed6bf534741399f6b57934e4cd7a7": {
      "model_module": "jupyter-js-widgets",
      "model_module_version": "~2.1.4",
      "model_name": "LayoutModel",
      "state": {
       "_model_module_version": "~2.1.4",
       "_view_module_version": "~2.1.4"
      }
     },
     "09bc0dbdc28646a69f62dae87d15752a": {
      "model_module": "jupyter-js-widgets",
      "model_module_version": "~2.1.4",
      "model_name": "DropdownModel",
      "state": {
       "_model_module_version": "~2.1.4",
       "_options_labels": [
        "Afghanistan",
        "Brazil",
        "Custom area"
       ],
       "_view_module_version": "~2.1.4",
       "description": "Geostore",
       "layout": "IPY_MODEL_e71d0078ea3d45acb0826f578417e39d",
       "value": "Afghanistan"
      }
     },
     "09eec2d4fcdb46d5bd308a33d1d23fb7": {
      "model_module": "jupyter-js-widgets",
      "model_module_version": "~2.1.4",
      "model_name": "LayoutModel",
      "state": {
       "_model_module_version": "~2.1.4",
       "_view_module_version": "~2.1.4"
      }
     },
     "09f3dc464ca04ac989d9c1c4e03c18e9": {
      "model_module": "jupyter-js-widgets",
      "model_module_version": "~2.1.4",
      "model_name": "LayoutModel",
      "state": {
       "_model_module_version": "~2.1.4",
       "_view_module_version": "~2.1.4"
      }
     },
     "0a3688f4acc7404fa1a06b65e55e7363": {
      "model_module": "jupyter-js-widgets",
      "model_module_version": "~2.1.4",
      "model_name": "LayoutModel",
      "state": {
       "_model_module_version": "~2.1.4",
       "_view_module_version": "~2.1.4"
      }
     },
     "0a839e7c26204d8189c9f95f3152cf28": {
      "model_module": "jupyter-js-widgets",
      "model_module_version": "~2.1.4",
      "model_name": "DatePickerModel",
      "state": {
       "_model_module_version": "~2.1.4",
       "_view_module_version": "~2.1.4",
       "description": "Date end",
       "layout": "IPY_MODEL_b30fbe091bdc4b38934860d48984eb3c",
       "value": {
        "date": 24,
        "hours": 13,
        "milliseconds": 108,
        "minutes": 2,
        "month": 9,
        "seconds": 47,
        "year": 2017
       }
      }
     },
     "0aa94387cf1249ccb13c066fd8eb6c61": {
      "model_module": "jupyter-js-widgets",
      "model_module_version": "~2.1.4",
      "model_name": "OutputModel",
      "state": {
       "_dom_classes": [],
       "_model_module": "jupyter-js-widgets",
       "_model_module_version": "~2.1.4",
       "_view_module": "jupyter-js-widgets",
       "_view_module_version": "~2.1.4",
       "layout": "IPY_MODEL_b25275e1d1e049d98292e7888ff40edb",
       "msg_throttle": 1
      }
     },
     "0b2422dd74864df695c903ff9dbd90fa": {
      "model_module": "jupyter-js-widgets",
      "model_module_version": "~2.1.4",
      "model_name": "DropdownModel",
      "state": {
       "_model_module_version": "~2.1.4",
       "_options_labels": [
        "line"
       ],
       "_view_module_version": "~2.1.4",
       "description": "widget",
       "layout": "IPY_MODEL_5b3ebf34cf2e40d2a8403899fffb4ca5",
       "value": "line"
      }
     },
     "0b3ade41ef2a44d8a474a3192af82c95": {
      "model_module": "jupyter-js-widgets",
      "model_module_version": "~2.1.4",
      "model_name": "DropdownModel",
      "state": {
       "_model_module_version": "~2.1.4",
       "_options_labels": [
        "Afghanistan",
        "Brazil",
        "Custom area"
       ],
       "_view_module_version": "~2.1.4",
       "description": "geostore",
       "layout": "IPY_MODEL_dfdce9d7873442ab868c2bc65a8a40ef",
       "value": "Afghanistan"
      }
     },
     "0d5e12c760b6480d84cc21a8769b2d97": {
      "model_module": "jupyter-js-widgets",
      "model_module_version": "~2.1.4",
      "model_name": "LayoutModel",
      "state": {
       "_model_module_version": "~2.1.4",
       "_view_module_version": "~2.1.4"
      }
     },
     "0ddae125cf0248899e1fd46b1f3331d3": {
      "model_module": "jupyter-js-widgets",
      "model_module_version": "~2.1.4",
      "model_name": "DatePickerModel",
      "state": {
       "_model_module_version": "~2.1.4",
       "_view_module_version": "~2.1.4",
       "description": "Date begin",
       "layout": "IPY_MODEL_c10429c07af947908dfcba1718a11dce",
       "value": {
        "date": 18,
        "hours": 0,
        "milliseconds": 0,
        "minutes": 0,
        "month": 9,
        "seconds": 0,
        "year": 2017
       }
      }
     },
     "0f26484eb16f449a837fca75856100a1": {
      "model_module": "jupyter-js-widgets",
      "model_module_version": "~2.1.4",
      "model_name": "DatePickerModel",
      "state": {
       "_model_module_version": "~2.1.4",
       "_view_module_version": "~2.1.4",
       "description": "Date end",
       "layout": "IPY_MODEL_ff444813f3314165b5879ed00f885e5a",
       "value": {
        "date": 24,
        "hours": 13,
        "milliseconds": 432,
        "minutes": 0,
        "month": 9,
        "seconds": 42,
        "year": 2017
       }
      }
     },
     "0f65482e13e84e21bba92faff6ead0ae": {
      "model_module": "jupyter-js-widgets",
      "model_module_version": "~2.1.4",
      "model_name": "LayoutModel",
      "state": {
       "_model_module_version": "~2.1.4",
       "_view_module_version": "~2.1.4",
       "align_items": "stretch",
       "display": "flex",
       "flex_flow": "row",
       "width": "100%"
      }
     },
     "0f82d618c16e4d689099dbef679ffba5": {
      "model_module": "jupyter-js-widgets",
      "model_module_version": "~2.1.4",
      "model_name": "VBoxModel",
      "state": {
       "_dom_classes": [
        "widget-interact"
       ],
       "_model_module_version": "~2.1.4",
       "_view_module_version": "~2.1.4",
       "children": [
        "IPY_MODEL_1c040ed3887943d5aa07a09791170186",
        "IPY_MODEL_8b9264aabdc045529708f21333dab35a",
        "IPY_MODEL_7aaf6c9960174e008abfa1be1284468c",
        "IPY_MODEL_0b3ade41ef2a44d8a474a3192af82c95",
        "IPY_MODEL_414edc57f9944ff0ab4abf76421fd9c3"
       ],
       "layout": "IPY_MODEL_45c2eb1d03c749b29efac82004b0cabc"
      }
     },
     "112c6274ee894195a383090053b451e7": {
      "model_module": "jupyter-js-widgets",
      "model_module_version": "~2.1.4",
      "model_name": "VBoxModel",
      "state": {
       "_dom_classes": [
        "widget-interact"
       ],
       "_model_module_version": "~2.1.4",
       "_view_module_version": "~2.1.4",
       "children": [
        "IPY_MODEL_80ab0bd09ac4478f86908db31f9425bd",
        "IPY_MODEL_d4c148622d1146afb62ed39866772893",
        "IPY_MODEL_4afa31fc8ad148d7954ad801145edeb6",
        "IPY_MODEL_98d17be10e224500b5f42878a96fe957",
        "IPY_MODEL_962ab7afd8a44d25ac0b7444259c2024"
       ],
       "layout": "IPY_MODEL_1c517b76027c4f90ae3b8b9aa9437a59"
      }
     },
     "1236aaa4c6c6452bb2d9552a10395ab0": {
      "model_module": "jupyter-js-widgets",
      "model_module_version": "~2.1.4",
      "model_name": "LayoutModel",
      "state": {
       "_model_module_version": "~2.1.4",
       "_view_module_version": "~2.1.4"
      }
     },
     "1251bdcb39894947b719801f4bb5a011": {
      "model_module": "jupyter-js-widgets",
      "model_module_version": "~2.1.4",
      "model_name": "LayoutModel",
      "state": {
       "_model_module_version": "~2.1.4",
       "_view_module_version": "~2.1.4"
      }
     },
     "1254d452b5cd4eee9e23954e3c6b47fe": {
      "model_module": "jupyter-js-widgets",
      "model_module_version": "~2.1.4",
      "model_name": "VBoxModel",
      "state": {
       "_dom_classes": [
        "widget-interact"
       ],
       "_model_module_version": "~2.1.4",
       "_view_module_version": "~2.1.4",
       "children": [
        "IPY_MODEL_0b2422dd74864df695c903ff9dbd90fa",
        "IPY_MODEL_8f7900c289034f3e8011e0b172d42306",
        "IPY_MODEL_981dc2cd96844079a14ab86bace9a2fd",
        "IPY_MODEL_fc0483e060d241df8996dc680523f330",
        "IPY_MODEL_2aedf3517aff49689ec675f191c88ba1"
       ],
       "layout": "IPY_MODEL_155e360d1c7e4d2d9bd9a22e14e82d31"
      }
     },
     "129363bca4b8415f89fed41d118f447e": {
      "model_module": "jupyter-js-widgets",
      "model_module_version": "~2.1.4",
      "model_name": "DropdownModel",
      "state": {
       "_model_module_version": "~2.1.4",
       "_options_labels": [
        "Afghanistan",
        "Brazil",
        "Custom area"
       ],
       "_view_module_version": "~2.1.4",
       "description": "geostore",
       "layout": "IPY_MODEL_c2c91cd63be94d05ac73f887006cafad",
       "value": "Afghanistan"
      }
     },
     "12f5eb4f64df46799807a85db014d524": {
      "model_module": "jupyter-js-widgets",
      "model_module_version": "~2.1.4",
      "model_name": "DropdownModel",
      "state": {
       "_model_module_version": "~2.1.4",
       "_options_labels": [
        "line"
       ],
       "_view_module_version": "~2.1.4",
       "description": "widget",
       "layout": "IPY_MODEL_6bf892c2f37a414498da9215ebedc217",
       "value": "line"
      }
     },
     "1360953c245b435d9623527a7ffca6d9": {
      "model_module": "jupyter-js-widgets",
      "model_module_version": "~2.1.4",
      "model_name": "DropdownModel",
      "state": {
       "_model_module_version": "~2.1.4",
       "_options_labels": [
        "line"
       ],
       "_view_module_version": "~2.1.4",
       "description": "widget",
       "layout": "IPY_MODEL_3181f0f885474d1da698c8ca335c6337",
       "value": "line"
      }
     },
     "13ab2a05eb5e436988543832069faa18": {
      "model_module": "jupyter-js-widgets",
      "model_module_version": "~2.1.4",
      "model_name": "TextareaModel",
      "state": {
       "_model_module_version": "~2.1.4",
       "_view_module_version": "~2.1.4",
       "description": "Url to query:",
       "layout": "IPY_MODEL_22427a51d9df4e8f9c934069e4d9e5bc",
       "value": "https://api.resourcewatch.org/v1/query/20cc5eca-8c63-4c41-8e8e-134dcf1e6d76?sql={0}"
      }
     },
     "13b17c558f86488abe7b58c3de425ee3": {
      "model_module": "jupyter-js-widgets",
      "model_module_version": "~2.1.4",
      "model_name": "TextareaModel",
      "state": {
       "_model_module_version": "~2.1.4",
       "_view_module_version": "~2.1.4",
       "description": "Query:",
       "layout": "IPY_MODEL_2e5782f715104446938dd3a2b1fed858",
       "value": "SELECT acq_date as x, count(acq_date) as y FROM vnp14imgtdl_nrt_global_7d WHERE acq_date >='{date_begin}' and acq_date < '{date_end}' group by acq_date order by acq_date asc"
      }
     },
     "13c701db90cd4fb6b3a57ab1d3ed592e": {
      "model_module": "jupyter-js-widgets",
      "model_module_version": "~2.1.4",
      "model_name": "VBoxModel",
      "state": {
       "_dom_classes": [
        "widget-interact"
       ],
       "_model_module_version": "~2.1.4",
       "_view_module_version": "~2.1.4",
       "children": [
        "IPY_MODEL_49dd536d8b5c4069a20ac8a3cf2878af",
        "IPY_MODEL_13ab2a05eb5e436988543832069faa18",
        "IPY_MODEL_87fe535a8f3e4926a83650141f426f53",
        "IPY_MODEL_f91fc2be75ed4887b7c6e65e7c26a803",
        "IPY_MODEL_1ca9353ee638466f88b6725ee010bd94",
        "IPY_MODEL_09bc0dbdc28646a69f62dae87d15752a",
        "IPY_MODEL_3cbebd93e41f4cc3aebee49b855b79e3"
       ],
       "layout": "IPY_MODEL_dfdf46f0cf954d2fbd679a1afb763e86"
      }
     },
     "142b60e86d6f46618e84a2ff9a2da22d": {
      "model_module": "jupyter-js-widgets",
      "model_module_version": "~2.1.4",
      "model_name": "LayoutModel",
      "state": {
       "_model_module_version": "~2.1.4",
       "_view_module_version": "~2.1.4"
      }
     },
     "155e360d1c7e4d2d9bd9a22e14e82d31": {
      "model_module": "jupyter-js-widgets",
      "model_module_version": "~2.1.4",
      "model_name": "LayoutModel",
      "state": {
       "_model_module_version": "~2.1.4",
       "_view_module_version": "~2.1.4"
      }
     },
     "163a1d9594e2461d8c0907d8be3d1701": {
      "model_module": "jupyter-js-widgets",
      "model_module_version": "~2.1.4",
      "model_name": "LayoutModel",
      "state": {
       "_model_module_version": "~2.1.4",
       "_view_module_version": "~2.1.4"
      }
     },
     "177100d23b394a6983a62e7b3ac38d53": {
      "model_module": "jupyter-js-widgets",
      "model_module_version": "~2.1.4",
      "model_name": "DropdownModel",
      "state": {
       "_model_module_version": "~2.1.4",
       "_options_labels": [
        "Afghanistan",
        "Brazil",
        "Custom area"
       ],
       "_view_module_version": "~2.1.4",
       "description": "geostore",
       "layout": "IPY_MODEL_f18f7ec8080b4f639904671faab4eac0",
       "value": "Afghanistan"
      }
     },
     "17a6e23df91c460aa296f6fb7c23e9a5": {
      "model_module": "jupyter-js-widgets",
      "model_module_version": "~2.1.4",
      "model_name": "LayoutModel",
      "state": {
       "_model_module_version": "~2.1.4",
       "_view_module_version": "~2.1.4"
      }
     },
     "180fc6326ff14490a07cc138621deacf": {
      "model_module": "jupyter-js-widgets",
      "model_module_version": "~2.1.4",
      "model_name": "LayoutModel",
      "state": {
       "_model_module_version": "~2.1.4",
       "_view_module_version": "~2.1.4"
      }
     },
     "181ec2416b9249b09458d429b81be018": {
      "model_module": "jupyter-js-widgets",
      "model_module_version": "~2.1.4",
      "model_name": "VBoxModel",
      "state": {
       "_dom_classes": [
        "widget-interact"
       ],
       "_model_module_version": "~2.1.4",
       "_view_module_version": "~2.1.4",
       "children": [
        "IPY_MODEL_76de60d92e7a49c9bf765c90463f5ead",
        "IPY_MODEL_0339dd11582c4a6bb255a67b4e517eec",
        "IPY_MODEL_918907d2a7274ebfa73960866b6e2701",
        "IPY_MODEL_3e2052d907c14f2fbd2463e327cd6684",
        "IPY_MODEL_e6e65780ae804aa5a36766cb4e0b9852"
       ],
       "layout": "IPY_MODEL_4c40f789907c437d9b094d8b05e043b5"
      }
     },
     "18515b78b960436a9652ac815da86913": {
      "model_module": "jupyter-js-widgets",
      "model_module_version": "~2.1.4",
      "model_name": "VBoxModel",
      "state": {
       "_dom_classes": [
        "widget-interact"
       ],
       "_model_module_version": "~2.1.4",
       "_view_module_version": "~2.1.4",
       "children": [
        "IPY_MODEL_f647ca91d67845da99525e815a28df02",
        "IPY_MODEL_526f7e7d10e641afb96ef54fd5851b99",
        "IPY_MODEL_5cb9122483324200b7bc478cee52492d",
        "IPY_MODEL_65c7aea6c136475dad6fdfb36c93f321",
        "IPY_MODEL_8abc298e6e1241c9b02eb2120577229b"
       ],
       "layout": "IPY_MODEL_57ab7a9cd0064a79aafa34d882f260a9"
      }
     },
     "187201959ce64a388c542f6c5277b916": {
      "model_module": "jupyter-js-widgets",
      "model_module_version": "~2.1.4",
      "model_name": "LayoutModel",
      "state": {
       "_model_module_version": "~2.1.4",
       "_view_module_version": "~2.1.4"
      }
     },
     "18f907534acd4928b2f49e0676a9de6e": {
      "model_module": "jupyter-js-widgets",
      "model_module_version": "~2.1.4",
      "model_name": "LayoutModel",
      "state": {
       "_model_module_version": "~2.1.4",
       "_view_module_version": "~2.1.4"
      }
     },
     "19efa1bdb23a4874b5e3cec69c594c59": {
      "model_module": "jupyter-js-widgets",
      "model_module_version": "~2.1.4",
      "model_name": "DropdownModel",
      "state": {
       "_model_module_version": "~2.1.4",
       "_options_labels": [
        "Afghanistan",
        "Brazil",
        "Custom area"
       ],
       "_view_module_version": "~2.1.4",
       "description": "geostore",
       "layout": "IPY_MODEL_918369f0c0a24cd189bacfcb9fc22596",
       "value": "Afghanistan"
      }
     },
     "1ac947b7e07043acae33ea8a72383c8e": {
      "model_module": "jupyter-js-widgets",
      "model_module_version": "~2.1.4",
      "model_name": "DropdownModel",
      "state": {
       "_model_module_version": "~2.1.4",
       "_options_labels": [
        "Afghanistan",
        "Brazil",
        "Custom area"
       ],
       "_view_module_version": "~2.1.4",
       "description": "geostore",
       "layout": "IPY_MODEL_6642d31643a449dda0243087048d25e6",
       "value": "Afghanistan"
      }
     },
     "1aca8019ba4a4b0794586ac8cafa3a3b": {
      "model_module": "jupyter-js-widgets",
      "model_module_version": "~2.1.4",
      "model_name": "OutputModel",
      "state": {
       "_dom_classes": [],
       "_model_module": "jupyter-js-widgets",
       "_model_module_version": "~2.1.4",
       "_view_module": "jupyter-js-widgets",
       "_view_module_version": "~2.1.4",
       "layout": "IPY_MODEL_7432bb40337a4e1aa7fdb8833638b255",
       "msg_throttle": 1
      }
     },
     "1bfe4246d2b24cef9f433c03a404225e": {
      "model_module": "jupyter-js-widgets",
      "model_module_version": "~2.1.4",
      "model_name": "LayoutModel",
      "state": {
       "_model_module_version": "~2.1.4",
       "_view_module_version": "~2.1.4"
      }
     },
     "1c040ed3887943d5aa07a09791170186": {
      "model_module": "jupyter-js-widgets",
      "model_module_version": "~2.1.4",
      "model_name": "DropdownModel",
      "state": {
       "_model_module_version": "~2.1.4",
       "_options_labels": [
        "line"
       ],
       "_view_module_version": "~2.1.4",
       "description": "widget",
       "layout": "IPY_MODEL_c04b5bede51049bcb40de916effe3e4c",
       "value": "line"
      }
     },
     "1c517b76027c4f90ae3b8b9aa9437a59": {
      "model_module": "jupyter-js-widgets",
      "model_module_version": "~2.1.4",
      "model_name": "LayoutModel",
      "state": {
       "_model_module_version": "~2.1.4",
       "_view_module_version": "~2.1.4"
      }
     },
     "1ca00f947dbd4f4e8b3e2230d3d41e2c": {
      "model_module": "jupyter-js-widgets",
      "model_module_version": "~2.1.4",
      "model_name": "TextareaModel",
      "state": {
       "_model_module_version": "~2.1.4",
       "_view_module_version": "~2.1.4",
       "description": "Query:",
       "layout": "IPY_MODEL_a731bb64fbb344e8bb61da22885b5665",
       "value": "SELECT acq_date as x, count(acq_date) as y FROM vnp14imgtdl_nrt_global_7d WHERE acq_date >='{date_begin}' and acq_date < '{date_end}' group by acq_date order by acq_date asc"
      }
     },
     "1ca9353ee638466f88b6725ee010bd94": {
      "model_module": "jupyter-js-widgets",
      "model_module_version": "~2.1.4",
      "model_name": "DatePickerModel",
      "state": {
       "_model_module_version": "~2.1.4",
       "_view_module_version": "~2.1.4",
       "description": "Date end",
       "layout": "IPY_MODEL_dbbac79cc72649fbb53f017715e7d108",
       "value": {
        "date": 24,
        "hours": 15,
        "milliseconds": 260,
        "minutes": 12,
        "month": 9,
        "seconds": 17,
        "year": 2017
       }
      }
     },
     "1caa4bc2ebfe42c39df9bab1f2fe091b": {
      "model_module": "jupyter-js-widgets",
      "model_module_version": "~2.1.4",
      "model_name": "DatePickerModel",
      "state": {
       "_model_module_version": "~2.1.4",
       "_view_module_version": "~2.1.4",
       "description": "Date begin",
       "layout": "IPY_MODEL_bf18a9004cc1401494bae94971998465",
       "value": {
        "date": 18,
        "hours": 0,
        "milliseconds": 0,
        "minutes": 0,
        "month": 9,
        "seconds": 0,
        "year": 2017
       }
      }
     },
     "1d4b3490a5804f60a36c1fd9f09e5ed5": {
      "model_module": "jupyter-js-widgets",
      "model_module_version": "~2.1.4",
      "model_name": "LayoutModel",
      "state": {
       "_model_module_version": "~2.1.4",
       "_view_module_version": "~2.1.4"
      }
     },
     "1d6cf75988aa42aca43747a296e25fb9": {
      "model_module": "jupyter-js-widgets",
      "model_module_version": "~2.1.4",
      "model_name": "LayoutModel",
      "state": {
       "_model_module_version": "~2.1.4",
       "_view_module_version": "~2.1.4"
      }
     },
     "1e3ac02229ce42fa8a9a3b193ddbc2a9": {
      "model_module": "jupyter-js-widgets",
      "model_module_version": "~2.1.4",
      "model_name": "LayoutModel",
      "state": {
       "_model_module_version": "~2.1.4",
       "_view_module_version": "~2.1.4"
      }
     },
     "1ea8d118c89b4a83900112188774caf4": {
      "model_module": "jupyter-js-widgets",
      "model_module_version": "~2.1.4",
      "model_name": "VBoxModel",
      "state": {
       "_dom_classes": [
        "widget-interact"
       ],
       "_model_module_version": "~2.1.4",
       "_view_module_version": "~2.1.4",
       "children": [
        "IPY_MODEL_3d6e01e10cc845d38c3a31115d128eaf",
        "IPY_MODEL_b6383b9a6e764ed28982ea88d59a07b4",
        "IPY_MODEL_a8588153f1c7459dbb0a45a60b5ab092",
        "IPY_MODEL_e417d75db67f469c8ea6f8d3e319ca8c",
        "IPY_MODEL_4b201de3d2864e9486ccaac1b17de02b",
        "IPY_MODEL_39d4755fe2ad45fc910e0a1a1ce1a799",
        "IPY_MODEL_5efb0fc855ba44c783fbaa2392c901e9"
       ],
       "layout": "IPY_MODEL_ac9ec659bbaf4505bccfab87af926822"
      }
     },
     "1eca18a8c7c04733a49afe4aa7f0f0e6": {
      "model_module": "jupyter-js-widgets",
      "model_module_version": "~2.1.4",
      "model_name": "LayoutModel",
      "state": {
       "_model_module_version": "~2.1.4",
       "_view_module_version": "~2.1.4"
      }
     },
     "1eec977d55ce4801827906e13fc3fc8d": {
      "model_module": "jupyter-js-widgets",
      "model_module_version": "~2.1.4",
      "model_name": "LayoutModel",
      "state": {
       "_model_module_version": "~2.1.4",
       "_view_module_version": "~2.1.4"
      }
     },
     "1f69285d97a645bd922c5a0ea1bd6ff4": {
      "model_module": "jupyter-js-widgets",
      "model_module_version": "~2.1.4",
      "model_name": "VBoxModel",
      "state": {
       "_dom_classes": [
        "widget-interact"
       ],
       "_model_module_version": "~2.1.4",
       "_view_module_version": "~2.1.4",
       "children": [
        "IPY_MODEL_12f5eb4f64df46799807a85db014d524",
        "IPY_MODEL_f4105495347c416dbdf0b131bc7437d3",
        "IPY_MODEL_e859cf602bd74e888d4735472bf6a307",
        "IPY_MODEL_9aa545984449475d8b02d779212698cb",
        "IPY_MODEL_5f9808eae08b492b903de29a9567c8b7"
       ],
       "layout": "IPY_MODEL_9607db72cee641e99306f38fd4aad0c0"
      }
     },
     "1f8f62a9ba7842e18dff3933e534c549": {
      "model_module": "jupyter-js-widgets",
      "model_module_version": "~2.1.4",
      "model_name": "LayoutModel",
      "state": {
       "_model_module_version": "~2.1.4",
       "_view_module_version": "~2.1.4",
       "align_items": "stretch",
       "border": "solid",
       "display": "flex",
       "flex_flow": "column",
       "width": "50%"
      }
     },
     "206b9b57676c4ce68a191238397c3731": {
      "model_module": "jupyter-js-widgets",
      "model_module_version": "~2.1.4",
      "model_name": "LayoutModel",
      "state": {
       "_model_module_version": "~2.1.4",
       "_view_module_version": "~2.1.4"
      }
     },
     "2089cfc8e0a847b3b482f15d2da3c41a": {
      "model_module": "jupyter-js-widgets",
      "model_module_version": "~2.1.4",
      "model_name": "LayoutModel",
      "state": {
       "_model_module_version": "~2.1.4",
       "_view_module_version": "~2.1.4"
      }
     },
     "214b88388ee14c14a83eaea4b5b601b1": {
      "model_module": "jupyter-js-widgets",
      "model_module_version": "~2.1.4",
      "model_name": "LayoutModel",
      "state": {
       "_model_module_version": "~2.1.4",
       "_view_module_version": "~2.1.4"
      }
     },
     "215d64f438444f8ca1725ff4893ee452": {
      "model_module": "jupyter-js-widgets",
      "model_module_version": "~2.1.4",
      "model_name": "VBoxModel",
      "state": {
       "_dom_classes": [
        "widget-interact"
       ],
       "_model_module_version": "~2.1.4",
       "_view_module_version": "~2.1.4",
       "children": [
        "IPY_MODEL_3ef9faa3b869414aa95982c33c5efab8",
        "IPY_MODEL_d0aa8bc1ace6413ea291d5945016f2d8",
        "IPY_MODEL_76a31e37a10046e08de507e084aff77c",
        "IPY_MODEL_b695735920604f319025f4e3cab0ac7c",
        "IPY_MODEL_339e1107fbde4be4869568dfc1cedbaf"
       ],
       "layout": "IPY_MODEL_e5077d2d77804c12b59f91e7c5263a4e"
      }
     },
     "217fa17d47884600a9737a5ae45fd8ab": {
      "model_module": "jupyter-js-widgets",
      "model_module_version": "~2.1.4",
      "model_name": "OutputModel",
      "state": {
       "_dom_classes": [],
       "_model_module": "jupyter-js-widgets",
       "_model_module_version": "~2.1.4",
       "_view_module": "jupyter-js-widgets",
       "_view_module_version": "~2.1.4",
       "layout": "IPY_MODEL_d0f2431e1aa8494a966713d361eeaf36",
       "msg_throttle": 1
      }
     },
     "218f0d732fd8446ab3815c36d9708e31": {
      "model_module": "jupyter-js-widgets",
      "model_module_version": "~2.1.4",
      "model_name": "LayoutModel",
      "state": {
       "_model_module_version": "~2.1.4",
       "_view_module_version": "~2.1.4"
      }
     },
     "21a348745f35456fb4187ea8bdfc3f6c": {
      "model_module": "jupyter-js-widgets",
      "model_module_version": "~2.1.4",
      "model_name": "VBoxModel",
      "state": {
       "_dom_classes": [
        "widget-interact"
       ],
       "_model_module_version": "~2.1.4",
       "_view_module_version": "~2.1.4",
       "children": [
        "IPY_MODEL_c415a834293a4371b7aa57276cccae30",
        "IPY_MODEL_ffc8daeafef84922986c766bc77b81f5",
        "IPY_MODEL_88009f65750e4c098e6e6c32297b8163",
        "IPY_MODEL_dd7427c5814f4322bdef86d02e26b528",
        "IPY_MODEL_1aca8019ba4a4b0794586ac8cafa3a3b"
       ],
       "layout": "IPY_MODEL_1236aaa4c6c6452bb2d9552a10395ab0"
      }
     },
     "220f99be054940d7ac6b99fb70a3d538": {
      "model_module": "jupyter-js-widgets",
      "model_module_version": "~2.1.4",
      "model_name": "VBoxModel",
      "state": {
       "_dom_classes": [
        "widget-interact"
       ],
       "_model_module_version": "~2.1.4",
       "_view_module_version": "~2.1.4",
       "children": [
        "IPY_MODEL_bbe36276b9bc49c4a7ba494ebd6cf524",
        "IPY_MODEL_24c76073e4ec4867b10e41cd8f4d63e3",
        "IPY_MODEL_95fe6999bda5487891939ee70164ed48",
        "IPY_MODEL_40a5c142bc6f4f02a5e8cc9705c5631b",
        "IPY_MODEL_e33c0a65583f4df294c420afc4041363"
       ],
       "layout": "IPY_MODEL_5fb6f240a5a5432eafb03d8069db9eee"
      }
     },
     "22427a51d9df4e8f9c934069e4d9e5bc": {
      "model_module": "jupyter-js-widgets",
      "model_module_version": "~2.1.4",
      "model_name": "LayoutModel",
      "state": {
       "_model_module_version": "~2.1.4",
       "_view_module_version": "~2.1.4",
       "align_items": "stretch",
       "display": "flex",
       "flex_flow": "row",
       "width": "100%"
      }
     },
     "22603e9e8ef84c15aacb3d4ba0b0bd15": {
      "model_module": "jupyter-js-widgets",
      "model_module_version": "~2.1.4",
      "model_name": "LayoutModel",
      "state": {
       "_model_module_version": "~2.1.4",
       "_view_module_version": "~2.1.4",
       "align_items": "stretch",
       "display": "flex",
       "flex_flow": "column",
       "width": "50%"
      }
     },
     "22633f2c4e9642b4b929dd05ea13a574": {
      "model_module": "jupyter-js-widgets",
      "model_module_version": "~2.1.4",
      "model_name": "LayoutModel",
      "state": {
       "_model_module_version": "~2.1.4",
       "_view_module_version": "~2.1.4"
      }
     },
     "233cf99f11c446c2acabf93bdd2ddcd9": {
      "model_module": "jupyter-js-widgets",
      "model_module_version": "~2.1.4",
      "model_name": "OutputModel",
      "state": {
       "_dom_classes": [],
       "_model_module": "jupyter-js-widgets",
       "_model_module_version": "~2.1.4",
       "_view_module": "jupyter-js-widgets",
       "_view_module_version": "~2.1.4",
       "layout": "IPY_MODEL_971a2f0c24ad4a6c9fecb91bafa486df",
       "msg_throttle": 1
      }
     },
     "2363709800324842b1394db56990956c": {
      "model_module": "jupyter-js-widgets",
      "model_module_version": "~2.1.4",
      "model_name": "LayoutModel",
      "state": {
       "_model_module_version": "~2.1.4",
       "_view_module_version": "~2.1.4"
      }
     },
     "239032f2366349cdba5814f88682b0d0": {
      "model_module": "jupyter-js-widgets",
      "model_module_version": "~2.1.4",
      "model_name": "DropdownModel",
      "state": {
       "_model_module_version": "~2.1.4",
       "_options_labels": [
        "line"
       ],
       "_view_module_version": "~2.1.4",
       "description": "widget",
       "layout": "IPY_MODEL_dedf8285b7cc41da9f28cb919219d85c",
       "value": "line"
      }
     },
     "2486627b899e4ef888c16fd108035164": {
      "model_module": "jupyter-js-widgets",
      "model_module_version": "~2.1.4",
      "model_name": "DatePickerModel",
      "state": {
       "_model_module_version": "~2.1.4",
       "_view_module_version": "~2.1.4",
       "description": "Date begin",
       "layout": "IPY_MODEL_a57306055af0494cb0c2506197d457a1",
       "value": {
        "date": 18,
        "hours": 0,
        "milliseconds": 0,
        "minutes": 0,
        "month": 9,
        "seconds": 0,
        "year": 2017
       }
      }
     },
     "24c76073e4ec4867b10e41cd8f4d63e3": {
      "model_module": "jupyter-js-widgets",
      "model_module_version": "~2.1.4",
      "model_name": "DatePickerModel",
      "state": {
       "_model_module_version": "~2.1.4",
       "_view_module_version": "~2.1.4",
       "description": "Date begin",
       "layout": "IPY_MODEL_4b94d1b94c6e41858e42b4bc00e2a3b0",
       "value": {
        "date": 18,
        "hours": 0,
        "milliseconds": 0,
        "minutes": 0,
        "month": 9,
        "seconds": 0,
        "year": 2017
       }
      }
     },
     "25fe2b717ad342848ba09c24fab18b01": {
      "model_module": "jupyter-js-widgets",
      "model_module_version": "~2.1.4",
      "model_name": "LayoutModel",
      "state": {
       "_model_module_version": "~2.1.4",
       "_view_module_version": "~2.1.4"
      }
     },
     "27e63d4a6cbc49c6a808e6f3ddd5805c": {
      "model_module": "jupyter-js-widgets",
      "model_module_version": "~2.1.4",
      "model_name": "DatePickerModel",
      "state": {
       "_model_module_version": "~2.1.4",
       "_view_module_version": "~2.1.4",
       "description": "Date begin",
       "layout": "IPY_MODEL_fbc508d31f1e4175b80812797b1937ee",
       "value": {
        "date": 18,
        "hours": 0,
        "milliseconds": 0,
        "minutes": 0,
        "month": 9,
        "seconds": 0,
        "year": 2017
       }
      }
     },
     "282a5cbfb0de437dbb70f41e2dc90785": {
      "model_module": "jupyter-js-widgets",
      "model_module_version": "~2.1.4",
      "model_name": "OutputModel",
      "state": {
       "_dom_classes": [],
       "_model_module": "jupyter-js-widgets",
       "_model_module_version": "~2.1.4",
       "_view_module": "jupyter-js-widgets",
       "_view_module_version": "~2.1.4",
       "layout": "IPY_MODEL_086af053e20d4416a74263a658d5c83e",
       "msg_throttle": 1
      }
     },
     "28ff9327209e4923bfcec613ad1ffd3d": {
      "model_module": "jupyter-js-widgets",
      "model_module_version": "~2.1.4",
      "model_name": "VBoxModel",
      "state": {
       "_dom_classes": [
        "widget-interact"
       ],
       "_model_module_version": "~2.1.4",
       "_view_module_version": "~2.1.4",
       "children": [
        "IPY_MODEL_239032f2366349cdba5814f88682b0d0",
        "IPY_MODEL_976ed76e8d584727be2e16298bbd1680",
        "IPY_MODEL_e9db46135eec449cbde6f9b278cbc514",
        "IPY_MODEL_177100d23b394a6983a62e7b3ac38d53",
        "IPY_MODEL_c653fc0cc1174615a1b1fa202b7d108a"
       ],
       "layout": "IPY_MODEL_f3384eeae0334c949c4bd54fc0cce07f"
      }
     },
     "29befd4e1a4548e8817999e5733f78ed": {
      "model_module": "jupyter-js-widgets",
      "model_module_version": "~2.1.4",
      "model_name": "LayoutModel",
      "state": {
       "_model_module_version": "~2.1.4",
       "_view_module_version": "~2.1.4"
      }
     },
     "29dcf602f6b34762b365674625b0f1cc": {
      "model_module": "jupyter-js-widgets",
      "model_module_version": "~2.1.4",
      "model_name": "LayoutModel",
      "state": {
       "_model_module_version": "~2.1.4",
       "_view_module_version": "~2.1.4"
      }
     },
     "29e2bb9663264dba9ca88b5fed4b69ac": {
      "model_module": "jupyter-js-widgets",
      "model_module_version": "~2.1.4",
      "model_name": "LayoutModel",
      "state": {
       "_model_module_version": "~2.1.4",
       "_view_module_version": "~2.1.4"
      }
     },
     "2aedf3517aff49689ec675f191c88ba1": {
      "model_module": "jupyter-js-widgets",
      "model_module_version": "~2.1.4",
      "model_name": "OutputModel",
      "state": {
       "_dom_classes": [],
       "_model_module": "jupyter-js-widgets",
       "_model_module_version": "~2.1.4",
       "_view_module": "jupyter-js-widgets",
       "_view_module_version": "~2.1.4",
       "layout": "IPY_MODEL_7493c117807c4573831cee584d9b2f8b",
       "msg_throttle": 1
      }
     },
     "2af4b8858bf44f8d8c466a917c139c81": {
      "model_module": "jupyter-js-widgets",
      "model_module_version": "~2.1.4",
      "model_name": "TextModel",
      "state": {
       "_model_module_version": "~2.1.4",
       "_view_module_version": "~2.1.4",
       "description": "base_queryUrl",
       "layout": "IPY_MODEL_e5636b4120ea4dd99c3042e22d1a1912",
       "value": "https://api.resourcewatch.org/v1/query/20cc5eca-8c63-4c41-8e8e-134dcf1e6d76?sql={0}"
      }
     },
     "2c1170020d184713b39c084862985d62": {
      "model_module": "jupyter-js-widgets",
      "model_module_version": "~2.1.4",
      "model_name": "DatePickerModel",
      "state": {
       "_model_module_version": "~2.1.4",
       "_view_module_version": "~2.1.4",
       "description": "Date begin",
       "layout": "IPY_MODEL_30517fe1a03449cdbf28d39dd31ba3a0",
       "value": {
        "date": 18,
        "hours": 0,
        "milliseconds": 0,
        "minutes": 0,
        "month": 9,
        "seconds": 0,
        "year": 2017
       }
      }
     },
     "2d78ab84f87e45648c4eaa6dc7d47eb8": {
      "model_module": "jupyter-js-widgets",
      "model_module_version": "~2.1.4",
      "model_name": "DatePickerModel",
      "state": {
       "_model_module_version": "~2.1.4",
       "_view_module_version": "~2.1.4",
       "description": "Date end",
       "layout": "IPY_MODEL_91387a7951864679b28ca3a4fa4fe8a4",
       "value": {
        "date": 24,
        "hours": 13,
        "milliseconds": 952,
        "minutes": 54,
        "month": 9,
        "seconds": 38,
        "year": 2017
       }
      }
     },
     "2d99f3d99cb94808b9030eb94ced0179": {
      "model_module": "jupyter-js-widgets",
      "model_module_version": "~2.1.4",
      "model_name": "LayoutModel",
      "state": {
       "_model_module_version": "~2.1.4",
       "_view_module_version": "~2.1.4"
      }
     },
     "2e180c0966594821804f42767f31a301": {
      "model_module": "jupyter-js-widgets",
      "model_module_version": "~2.1.4",
      "model_name": "DatePickerModel",
      "state": {
       "_model_module_version": "~2.1.4",
       "_view_module_version": "~2.1.4",
       "description": "Date end",
       "layout": "IPY_MODEL_c9a53b6d1b004235b05f39706c463e55",
       "value": {
        "date": 24,
        "hours": 13,
        "milliseconds": 770,
        "minutes": 27,
        "month": 9,
        "seconds": 39,
        "year": 2017
       }
      }
     },
     "2e5782f715104446938dd3a2b1fed858": {
      "model_module": "jupyter-js-widgets",
      "model_module_version": "~2.1.4",
      "model_name": "LayoutModel",
      "state": {
       "_model_module_version": "~2.1.4",
       "_view_module_version": "~2.1.4",
       "align_items": "stretch",
       "display": "flex",
       "flex_flow": "column",
       "width": "50%"
      }
     },
     "2f2d64ef851b40ee91bc50cfa290f2f9": {
      "model_module": "jupyter-js-widgets",
      "model_module_version": "~2.1.4",
      "model_name": "DropdownModel",
      "state": {
       "_model_module_version": "~2.1.4",
       "_options_labels": [
        "line"
       ],
       "_view_module_version": "~2.1.4",
       "description": "widget",
       "layout": "IPY_MODEL_a4ead971be2e470697a24589d32eb19b",
       "value": "line"
      }
     },
     "2fa0047c7fae4ca088e4c8ca5fd17f3e": {
      "model_module": "jupyter-js-widgets",
      "model_module_version": "~2.1.4",
      "model_name": "LayoutModel",
      "state": {
       "_model_module_version": "~2.1.4",
       "_view_module_version": "~2.1.4"
      }
     },
     "30517fe1a03449cdbf28d39dd31ba3a0": {
      "model_module": "jupyter-js-widgets",
      "model_module_version": "~2.1.4",
      "model_name": "LayoutModel",
      "state": {
       "_model_module_version": "~2.1.4",
       "_view_module_version": "~2.1.4"
      }
     },
     "30547b9df8d247d8a128cebd4f9eda93": {
      "model_module": "jupyter-js-widgets",
      "model_module_version": "~2.1.4",
      "model_name": "DatePickerModel",
      "state": {
       "_model_module_version": "~2.1.4",
       "_view_module_version": "~2.1.4",
       "description": "Date begin",
       "layout": "IPY_MODEL_fa7daf6a4a714896accba4624a06967c",
       "value": {
        "date": 18,
        "hours": 0,
        "milliseconds": 0,
        "minutes": 0,
        "month": 9,
        "seconds": 0,
        "year": 2017
       }
      }
     },
     "3158de1e861f4a9297733cfb88c0d462": {
      "model_module": "jupyter-js-widgets",
      "model_module_version": "~2.1.4",
      "model_name": "DatePickerModel",
      "state": {
       "_model_module_version": "~2.1.4",
       "_view_module_version": "~2.1.4",
       "description": "Date end",
       "layout": "IPY_MODEL_97f1529b4d9c422babe571b83ea275c3",
       "value": {
        "date": 24,
        "hours": 13,
        "milliseconds": 12,
        "minutes": 4,
        "month": 9,
        "seconds": 8,
        "year": 2017
       }
      }
     },
     "3181f0f885474d1da698c8ca335c6337": {
      "model_module": "jupyter-js-widgets",
      "model_module_version": "~2.1.4",
      "model_name": "LayoutModel",
      "state": {
       "_model_module_version": "~2.1.4",
       "_view_module_version": "~2.1.4"
      }
     },
     "31f17a08b5a9447682becd948834189c": {
      "model_module": "jupyter-js-widgets",
      "model_module_version": "~2.1.4",
      "model_name": "LayoutModel",
      "state": {
       "_model_module_version": "~2.1.4",
       "_view_module_version": "~2.1.4"
      }
     },
     "32957acce3af4a0a82abf103b19d1edf": {
      "model_module": "jupyter-js-widgets",
      "model_module_version": "~2.1.4",
      "model_name": "VBoxModel",
      "state": {
       "_dom_classes": [
        "widget-interact"
       ],
       "_model_module_version": "~2.1.4",
       "_view_module_version": "~2.1.4",
       "children": [
        "IPY_MODEL_2f2d64ef851b40ee91bc50cfa290f2f9",
        "IPY_MODEL_56527a24d87d4f0ca27d4cd49e932938",
        "IPY_MODEL_91dba4ef1c6e4edc87a57ccfbadae77d",
        "IPY_MODEL_78ffff0c2bf74ae18c82a494814956f4",
        "IPY_MODEL_88b9229ef8fa4a3995f274a22d3e3e6d",
        "IPY_MODEL_5173d57b317a47b29090951c19cd17cb",
        "IPY_MODEL_282a5cbfb0de437dbb70f41e2dc90785"
       ],
       "layout": "IPY_MODEL_49c986ce25114d58949a7560d971f5e3"
      }
     },
     "32c35371b8134c20b3f0017e4acf57b2": {
      "model_module": "jupyter-js-widgets",
      "model_module_version": "~2.1.4",
      "model_name": "LayoutModel",
      "state": {
       "_model_module_version": "~2.1.4",
       "_view_module_version": "~2.1.4"
      }
     },
     "339e1107fbde4be4869568dfc1cedbaf": {
      "model_module": "jupyter-js-widgets",
      "model_module_version": "~2.1.4",
      "model_name": "OutputModel",
      "state": {
       "_dom_classes": [],
       "_model_module": "jupyter-js-widgets",
       "_model_module_version": "~2.1.4",
       "_view_module": "jupyter-js-widgets",
       "_view_module_version": "~2.1.4",
       "layout": "IPY_MODEL_390663ad7f064dfebcbc43f4d34f3584",
       "msg_throttle": 1
      }
     },
     "34271eb301d846db931cf6a6abded5fe": {
      "model_module": "jupyter-js-widgets",
      "model_module_version": "~2.1.4",
      "model_name": "DatePickerModel",
      "state": {
       "_model_module_version": "~2.1.4",
       "_view_module_version": "~2.1.4",
       "description": "Date end",
       "layout": "IPY_MODEL_85198c7589f94356b30c1dd1c691074b",
       "value": {
        "date": 24,
        "hours": 13,
        "milliseconds": 500,
        "minutes": 55,
        "month": 9,
        "seconds": 9,
        "year": 2017
       }
      }
     },
     "344aadcbca3a4c81968ec0345429b86e": {
      "model_module": "jupyter-js-widgets",
      "model_module_version": "~2.1.4",
      "model_name": "LayoutModel",
      "state": {
       "_model_module_version": "~2.1.4",
       "_view_module_version": "~2.1.4"
      }
     },
     "3511a74eb8ea443ab5d50aeb80751029": {
      "model_module": "jupyter-js-widgets",
      "model_module_version": "~2.1.4",
      "model_name": "LayoutModel",
      "state": {
       "_model_module_version": "~2.1.4",
       "_view_module_version": "~2.1.4"
      }
     },
     "359d2b1c396f45f68430b68de64a6f02": {
      "model_module": "jupyter-js-widgets",
      "model_module_version": "~2.1.4",
      "model_name": "DatePickerModel",
      "state": {
       "_model_module_version": "~2.1.4",
       "_view_module_version": "~2.1.4",
       "description": "Date begin",
       "layout": "IPY_MODEL_841c75bd531042369b9faa98834b2fbc",
       "value": {
        "date": 18,
        "hours": 0,
        "milliseconds": 0,
        "minutes": 0,
        "month": 9,
        "seconds": 0,
        "year": 2017
       }
      }
     },
     "35ab09ae9cfa470696ca0fd45278c866": {
      "model_module": "jupyter-js-widgets",
      "model_module_version": "~2.1.4",
      "model_name": "DropdownModel",
      "state": {
       "_model_module_version": "~2.1.4",
       "_options_labels": [
        "line"
       ],
       "_view_module_version": "~2.1.4",
       "description": "widget",
       "layout": "IPY_MODEL_6b74deb1e535469da3a7f568e6f9bfca",
       "value": "line"
      }
     },
     "35fea79a33674faca533efd4e7e4ade2": {
      "model_module": "jupyter-js-widgets",
      "model_module_version": "~2.1.4",
      "model_name": "VBoxModel",
      "state": {
       "_dom_classes": [
        "widget-interact"
       ],
       "_model_module_version": "~2.1.4",
       "_view_module_version": "~2.1.4",
       "children": [
        "IPY_MODEL_8d75bf3f506f455986dcc01acfd02a30",
        "IPY_MODEL_efe2a99b1cd440f79cdca36d078d57d9",
        "IPY_MODEL_856c5e8ecd8543b4aee41f63f87e9f67",
        "IPY_MODEL_fd57e33c8a374ea1ad23d96a33edbd91",
        "IPY_MODEL_b6d66ba3674b40eab3d407a4bafb59a2"
       ],
       "layout": "IPY_MODEL_a25b8c3b1aad42faa9bc8933995e2ffa"
      }
     },
     "363fddf3083b4b72ace6774b030def80": {
      "model_module": "jupyter-js-widgets",
      "model_module_version": "~2.1.4",
      "model_name": "LayoutModel",
      "state": {
       "_model_module_version": "~2.1.4",
       "_view_module_version": "~2.1.4"
      }
     },
     "367823857641432f80e5e484c80fd1ba": {
      "model_module": "jupyter-js-widgets",
      "model_module_version": "~2.1.4",
      "model_name": "LayoutModel",
      "state": {
       "_model_module_version": "~2.1.4",
       "_view_module_version": "~2.1.4"
      }
     },
     "377e7eb98be4448b95821f591b71d6ab": {
      "model_module": "jupyter-js-widgets",
      "model_module_version": "~2.1.4",
      "model_name": "DatePickerModel",
      "state": {
       "_model_module_version": "~2.1.4",
       "_view_module_version": "~2.1.4",
       "description": "Date end",
       "layout": "IPY_MODEL_e26a7f3146fd4c76bce1ef6ec5db34e4",
       "value": {
        "date": 24,
        "hours": 13,
        "milliseconds": 584,
        "minutes": 58,
        "month": 9,
        "seconds": 2,
        "year": 2017
       }
      }
     },
     "38363c946cb7435f9d5564ac8f92b45a": {
      "model_module": "jupyter-js-widgets",
      "model_module_version": "~2.1.4",
      "model_name": "OutputModel",
      "state": {
       "_dom_classes": [],
       "_model_module": "jupyter-js-widgets",
       "_model_module_version": "~2.1.4",
       "_view_module": "jupyter-js-widgets",
       "_view_module_version": "~2.1.4",
       "layout": "IPY_MODEL_560505babc1c46f2bd6bb47c6c73bc4e",
       "msg_throttle": 1
      }
     },
     "3858be9997fc40549be7cf97298e4af5": {
      "model_module": "jupyter-js-widgets",
      "model_module_version": "~2.1.4",
      "model_name": "LayoutModel",
      "state": {
       "_model_module_version": "~2.1.4",
       "_view_module_version": "~2.1.4"
      }
     },
     "3875ebba3d81410e900856f05fb4e70e": {
      "model_module": "jupyter-js-widgets",
      "model_module_version": "~2.1.4",
      "model_name": "LayoutModel",
      "state": {
       "_model_module_version": "~2.1.4",
       "_view_module_version": "~2.1.4"
      }
     },
     "388e4d699c1b4edeb9b12ea515d31cea": {
      "model_module": "jupyter-js-widgets",
      "model_module_version": "~2.1.4",
      "model_name": "LayoutModel",
      "state": {
       "_model_module_version": "~2.1.4",
       "_view_module_version": "~2.1.4"
      }
     },
     "38cec6f6d8f84eea8f64a41dfe684f4c": {
      "model_module": "jupyter-js-widgets",
      "model_module_version": "~2.1.4",
      "model_name": "LayoutModel",
      "state": {
       "_model_module_version": "~2.1.4",
       "_view_module_version": "~2.1.4"
      }
     },
     "390663ad7f064dfebcbc43f4d34f3584": {
      "model_module": "jupyter-js-widgets",
      "model_module_version": "~2.1.4",
      "model_name": "LayoutModel",
      "state": {
       "_model_module_version": "~2.1.4",
       "_view_module_version": "~2.1.4"
      }
     },
     "39d4755fe2ad45fc910e0a1a1ce1a799": {
      "model_module": "jupyter-js-widgets",
      "model_module_version": "~2.1.4",
      "model_name": "DropdownModel",
      "state": {
       "_model_module_version": "~2.1.4",
       "_options_labels": [
        "Afghanistan",
        "Brazil",
        "Custom area"
       ],
       "_view_module_version": "~2.1.4",
       "description": "geostore",
       "layout": "IPY_MODEL_f1ca7ebedcdd4225ad267fc596ebdfd1",
       "value": "Afghanistan"
      }
     },
     "3a27a346b4784e6e8a1c41653650da15": {
      "model_module": "jupyter-js-widgets",
      "model_module_version": "~2.1.4",
      "model_name": "LayoutModel",
      "state": {
       "_model_module_version": "~2.1.4",
       "_view_module_version": "~2.1.4"
      }
     },
     "3a59621a727a43799812341eadfbbf22": {
      "model_module": "jupyter-js-widgets",
      "model_module_version": "~2.1.4",
      "model_name": "VBoxModel",
      "state": {
       "_dom_classes": [
        "widget-interact"
       ],
       "_model_module_version": "~2.1.4",
       "_view_module_version": "~2.1.4",
       "children": [
        "IPY_MODEL_c0bfc12497174f718af4cbe015deddb0",
        "IPY_MODEL_dd4bcdde970347d6b8cf13fc92317945",
        "IPY_MODEL_c3ae8aa1873e4267ba4bebfc641770f0",
        "IPY_MODEL_129363bca4b8415f89fed41d118f447e",
        "IPY_MODEL_cfbc098d48214016a1a46a67557791cf"
       ],
       "layout": "IPY_MODEL_2fa0047c7fae4ca088e4c8ca5fd17f3e"
      }
     },
     "3ab2e4846f23487f81933c56bd380c1f": {
      "model_module": "jupyter-js-widgets",
      "model_module_version": "~2.1.4",
      "model_name": "LayoutModel",
      "state": {
       "_model_module_version": "~2.1.4",
       "_view_module_version": "~2.1.4"
      }
     },
     "3cbebd93e41f4cc3aebee49b855b79e3": {
      "model_module": "jupyter-js-widgets",
      "model_module_version": "~2.1.4",
      "model_name": "OutputModel",
      "state": {
       "_dom_classes": [],
       "_model_module": "jupyter-js-widgets",
       "_model_module_version": "~2.1.4",
       "_view_module": "jupyter-js-widgets",
       "_view_module_version": "~2.1.4",
       "layout": "IPY_MODEL_0a3688f4acc7404fa1a06b65e55e7363",
       "msg_throttle": 1
      }
     },
     "3d6e01e10cc845d38c3a31115d128eaf": {
      "model_module": "jupyter-js-widgets",
      "model_module_version": "~2.1.4",
      "model_name": "DropdownModel",
      "state": {
       "_model_module_version": "~2.1.4",
       "_options_labels": [
        "line"
       ],
       "_view_module_version": "~2.1.4",
       "description": "widget",
       "layout": "IPY_MODEL_214b88388ee14c14a83eaea4b5b601b1",
       "value": "line"
      }
     },
     "3d7e4d006a2e4680a34a7a25d5c2bf3f": {
      "model_module": "jupyter-js-widgets",
      "model_module_version": "~2.1.4",
      "model_name": "DropdownModel",
      "state": {
       "_model_module_version": "~2.1.4",
       "_options_labels": [
        "Afghanistan",
        "Brazil",
        "Custom area"
       ],
       "_view_module_version": "~2.1.4",
       "description": "geostore",
       "layout": "IPY_MODEL_c328c82d469a47de96240939409d937c",
       "value": "Afghanistan"
      }
     },
     "3d9b62e9a4ab447e957cd8f53ff189a6": {
      "model_module": "jupyter-js-widgets",
      "model_module_version": "~2.1.4",
      "model_name": "LayoutModel",
      "state": {
       "_model_module_version": "~2.1.4",
       "_view_module_version": "~2.1.4"
      }
     },
     "3e2052d907c14f2fbd2463e327cd6684": {
      "model_module": "jupyter-js-widgets",
      "model_module_version": "~2.1.4",
      "model_name": "DropdownModel",
      "state": {
       "_model_module_version": "~2.1.4",
       "_options_labels": [
        "Afghanistan",
        "Brazil",
        "Custom area"
       ],
       "_view_module_version": "~2.1.4",
       "description": "geostore",
       "layout": "IPY_MODEL_d5738c4bda964b6e84dac415f8c52395",
       "value": "Afghanistan"
      }
     },
     "3ef9faa3b869414aa95982c33c5efab8": {
      "model_module": "jupyter-js-widgets",
      "model_module_version": "~2.1.4",
      "model_name": "DropdownModel",
      "state": {
       "_model_module_version": "~2.1.4",
       "_options_labels": [
        "line"
       ],
       "_view_module_version": "~2.1.4",
       "description": "widget",
       "layout": "IPY_MODEL_3511a74eb8ea443ab5d50aeb80751029",
       "value": "line"
      }
     },
     "3f856f2d47ae47f692bc3a079440fb97": {
      "model_module": "jupyter-js-widgets",
      "model_module_version": "~2.1.4",
      "model_name": "LayoutModel",
      "state": {
       "_model_module_version": "~2.1.4",
       "_view_module_version": "~2.1.4",
       "align_items": "stretch",
       "display": "flex",
       "flex_flow": "row",
       "width": "100%"
      }
     },
     "3fbe0f3b587648228ea7468f9066b462": {
      "model_module": "jupyter-js-widgets",
      "model_module_version": "~2.1.4",
      "model_name": "LayoutModel",
      "state": {
       "_model_module_version": "~2.1.4",
       "_view_module_version": "~2.1.4"
      }
     },
     "3fdd16ea7efd449e8c8fa63115871283": {
      "model_module": "jupyter-js-widgets",
      "model_module_version": "~2.1.4",
      "model_name": "LayoutModel",
      "state": {
       "_model_module_version": "~2.1.4",
       "_view_module_version": "~2.1.4"
      }
     },
     "403c54275c6a4f26b4dc98364e5b7979": {
      "model_module": "jupyter-js-widgets",
      "model_module_version": "~2.1.4",
      "model_name": "DropdownModel",
      "state": {
       "_model_module_version": "~2.1.4",
       "_options_labels": [
        "line"
       ],
       "_view_module_version": "~2.1.4",
       "description": "widget",
       "layout": "IPY_MODEL_206b9b57676c4ce68a191238397c3731",
       "value": "line"
      }
     },
     "40a5c142bc6f4f02a5e8cc9705c5631b": {
      "model_module": "jupyter-js-widgets",
      "model_module_version": "~2.1.4",
      "model_name": "DropdownModel",
      "state": {
       "_model_module_version": "~2.1.4",
       "_options_labels": [
        "Afghanistan",
        "Brazil",
        "Custom area"
       ],
       "_view_module_version": "~2.1.4",
       "description": "geostore",
       "layout": "IPY_MODEL_a9b1843e0b144f1491c237e109e05aab",
       "value": "Afghanistan"
      }
     },
     "414edc57f9944ff0ab4abf76421fd9c3": {
      "model_module": "jupyter-js-widgets",
      "model_module_version": "~2.1.4",
      "model_name": "OutputModel",
      "state": {
       "_dom_classes": [],
       "_model_module": "jupyter-js-widgets",
       "_model_module_version": "~2.1.4",
       "_view_module": "jupyter-js-widgets",
       "_view_module_version": "~2.1.4",
       "layout": "IPY_MODEL_beec320a0f4d4ae3893ffc8da0d7c4da",
       "msg_throttle": 1
      }
     },
     "42f03d748ef044ff8875dcdf172332eb": {
      "model_module": "jupyter-js-widgets",
      "model_module_version": "~2.1.4",
      "model_name": "DatePickerModel",
      "state": {
       "_model_module_version": "~2.1.4",
       "_view_module_version": "~2.1.4",
       "description": "Date begin",
       "layout": "IPY_MODEL_8d3ff4f156a143cda8c9e4f447587f8d",
       "value": {
        "date": 18,
        "hours": 0,
        "milliseconds": 0,
        "minutes": 0,
        "month": 9,
        "seconds": 0,
        "year": 2017
       }
      }
     },
     "43b8bec4934340b98bcb636099bfb902": {
      "model_module": "jupyter-js-widgets",
      "model_module_version": "~2.1.4",
      "model_name": "DropdownModel",
      "state": {
       "_model_module_version": "~2.1.4",
       "_options_labels": [
        "line"
       ],
       "_view_module_version": "~2.1.4",
       "description": "widget",
       "layout": "IPY_MODEL_31f17a08b5a9447682becd948834189c",
       "value": "line"
      }
     },
     "445493580fc14f088bb77887dbc654b1": {
      "model_module": "jupyter-js-widgets",
      "model_module_version": "~2.1.4",
      "model_name": "OutputModel",
      "state": {
       "_dom_classes": [],
       "_model_module": "jupyter-js-widgets",
       "_model_module_version": "~2.1.4",
       "_view_module": "jupyter-js-widgets",
       "_view_module_version": "~2.1.4",
       "layout": "IPY_MODEL_d5a0737706e84e59a85f0393d6f080e4",
       "msg_throttle": 1
      }
     },
     "45417ea08cbb43509a62df12d0076a08": {
      "model_module": "jupyter-js-widgets",
      "model_module_version": "~2.1.4",
      "model_name": "LayoutModel",
      "state": {
       "_model_module_version": "~2.1.4",
       "_view_module_version": "~2.1.4"
      }
     },
     "45714b06ed7849bc9090a64b74ee8982": {
      "model_module": "jupyter-js-widgets",
      "model_module_version": "~2.1.4",
      "model_name": "TextModel",
      "state": {
       "_model_module_version": "~2.1.4",
       "_view_module_version": "~2.1.4",
       "description": "sql",
       "layout": "IPY_MODEL_ecb473360ae14e43aa48c28538b7c06d",
       "value": "SELECT acq_date as x, count(acq_date) as y FROM vnp14imgtdl_nrt_global_7d WHERE acq_date >='{date_begin}' and acq_date < '{date_end}' group by acq_date order by acq_date asc"
      }
     },
     "45c2eb1d03c749b29efac82004b0cabc": {
      "model_module": "jupyter-js-widgets",
      "model_module_version": "~2.1.4",
      "model_name": "LayoutModel",
      "state": {
       "_model_module_version": "~2.1.4",
       "_view_module_version": "~2.1.4"
      }
     },
     "4681cc57d8b344f19c7299bee15326de": {
      "model_module": "jupyter-js-widgets",
      "model_module_version": "~2.1.4",
      "model_name": "DatePickerModel",
      "state": {
       "_model_module_version": "~2.1.4",
       "_view_module_version": "~2.1.4",
       "description": "Date begin",
       "layout": "IPY_MODEL_d6018d557d8d42ae81116805d17e9703",
       "value": {
        "date": 1,
        "hours": 0,
        "milliseconds": 0,
        "minutes": 0,
        "month": 0,
        "seconds": 0,
        "year": 2017
       }
      }
     },
     "46d43177514a4a1d83605fed48326366": {
      "model_module": "jupyter-js-widgets",
      "model_module_version": "~2.1.4",
      "model_name": "DropdownModel",
      "state": {
       "_model_module_version": "~2.1.4",
       "_options_labels": [
        "Afghanistan",
        "Brazil",
        "Custom area"
       ],
       "_view_module_version": "~2.1.4",
       "description": "geostore",
       "layout": "IPY_MODEL_fcbf3eb22d754f14b7edb4ca89bc57e8",
       "value": "Afghanistan"
      }
     },
     "47dab9ff673c4b6b86c8bfb57a17cd29": {
      "model_module": "jupyter-js-widgets",
      "model_module_version": "~2.1.4",
      "model_name": "LayoutModel",
      "state": {
       "_model_module_version": "~2.1.4",
       "_view_module_version": "~2.1.4"
      }
     },
     "485ccf7343264547a332967ae9fc3d62": {
      "model_module": "jupyter-js-widgets",
      "model_module_version": "~2.1.4",
      "model_name": "DatePickerModel",
      "state": {
       "_model_module_version": "~2.1.4",
       "_view_module_version": "~2.1.4",
       "description": "Date end",
       "layout": "IPY_MODEL_7715bbae29024b639e535d6a5860d53d",
       "value": {
        "date": 24,
        "hours": 15,
        "milliseconds": 185,
        "minutes": 22,
        "month": 9,
        "seconds": 8,
        "year": 2017
       }
      }
     },
     "48c8db81ce5d488280c455ecdc02b322": {
      "model_module": "jupyter-js-widgets",
      "model_module_version": "~2.1.4",
      "model_name": "LayoutModel",
      "state": {
       "_model_module_version": "~2.1.4",
       "_view_module_version": "~2.1.4"
      }
     },
     "48feea127b3644d2b0323223001bac07": {
      "model_module": "jupyter-js-widgets",
      "model_module_version": "~2.1.4",
      "model_name": "DropdownModel",
      "state": {
       "_model_module_version": "~2.1.4",
       "_options_labels": [
        "Afghanistan",
        "Brazil",
        "Custom area"
       ],
       "_view_module_version": "~2.1.4",
       "description": "geostore",
       "layout": "IPY_MODEL_f3f3f238a0a7470a88221754d1217705",
       "value": "Custom area"
      }
     },
     "4993c10d79a94a339788f2c69d4c93be": {
      "model_module": "jupyter-js-widgets",
      "model_module_version": "~2.1.4",
      "model_name": "DropdownModel",
      "state": {
       "_model_module_version": "~2.1.4",
       "_options_labels": [
        "Afghanistan",
        "Brazil",
        "Custom area"
       ],
       "_view_module_version": "~2.1.4",
       "description": "geostore",
       "layout": "IPY_MODEL_d10a68268e984c4398f666f8e0c51111",
       "value": "Afghanistan"
      }
     },
     "49ae3e19f9d34e3f8d76b999e30f5dbd": {
      "model_module": "jupyter-js-widgets",
      "model_module_version": "~2.1.4",
      "model_name": "TextareaModel",
      "state": {
       "_model_module_version": "~2.1.4",
       "_view_module_version": "~2.1.4",
       "description": "Query:",
       "layout": "IPY_MODEL_ea0ce65da4f049fe87db9e7a0ca98ac6",
       "value": "SELECT acq_date as x, count(acq_date) as y FROM vnp14imgtdl_nrt_global_7d WHERE acq_date >='{date_begin}' and acq_date < '{date_end}' group by acq_date order by acq_date asc"
      }
     },
     "49c986ce25114d58949a7560d971f5e3": {
      "model_module": "jupyter-js-widgets",
      "model_module_version": "~2.1.4",
      "model_name": "LayoutModel",
      "state": {
       "_model_module_version": "~2.1.4",
       "_view_module_version": "~2.1.4"
      }
     },
     "49dd536d8b5c4069a20ac8a3cf2878af": {
      "model_module": "jupyter-js-widgets",
      "model_module_version": "~2.1.4",
      "model_name": "DropdownModel",
      "state": {
       "_model_module_version": "~2.1.4",
       "_options_labels": [
        "line",
        "bar"
       ],
       "_view_module_version": "~2.1.4",
       "description": "Widget type:",
       "layout": "IPY_MODEL_09f3dc464ca04ac989d9c1c4e03c18e9",
       "value": "line"
      }
     },
     "49fb6ca92251484bae58b2cc88fbd890": {
      "model_module": "jupyter-js-widgets",
      "model_module_version": "~2.1.4",
      "model_name": "LayoutModel",
      "state": {
       "_model_module_version": "~2.1.4",
       "_view_module_version": "~2.1.4"
      }
     },
     "4a34b00e9e79434fafa01fdc5d1a8198": {
      "model_module": "jupyter-js-widgets",
      "model_module_version": "~2.1.4",
      "model_name": "LayoutModel",
      "state": {
       "_model_module_version": "~2.1.4",
       "_view_module_version": "~2.1.4"
      }
     },
     "4a69ffe3958548d88a36a08dbee82c63": {
      "model_module": "jupyter-js-widgets",
      "model_module_version": "~2.1.4",
      "model_name": "LayoutModel",
      "state": {
       "_model_module_version": "~2.1.4",
       "_view_module_version": "~2.1.4"
      }
     },
     "4afa31fc8ad148d7954ad801145edeb6": {
      "model_module": "jupyter-js-widgets",
      "model_module_version": "~2.1.4",
      "model_name": "DatePickerModel",
      "state": {
       "_model_module_version": "~2.1.4",
       "_view_module_version": "~2.1.4",
       "description": "Date end",
       "layout": "IPY_MODEL_5035c59120914c40a0d791e320ee6bec",
       "value": {
        "date": 24,
        "hours": 12,
        "milliseconds": 782,
        "minutes": 53,
        "month": 9,
        "seconds": 14,
        "year": 2017
       }
      }
     },
     "4b201de3d2864e9486ccaac1b17de02b": {
      "model_module": "jupyter-js-widgets",
      "model_module_version": "~2.1.4",
      "model_name": "DatePickerModel",
      "state": {
       "_model_module_version": "~2.1.4",
       "_view_module_version": "~2.1.4",
       "description": "Date end",
       "layout": "IPY_MODEL_48c8db81ce5d488280c455ecdc02b322",
       "value": {
        "date": 24,
        "hours": 13,
        "milliseconds": 179,
        "minutes": 54,
        "month": 9,
        "seconds": 26,
        "year": 2017
       }
      }
     },
     "4b94d1b94c6e41858e42b4bc00e2a3b0": {
      "model_module": "jupyter-js-widgets",
      "model_module_version": "~2.1.4",
      "model_name": "LayoutModel",
      "state": {
       "_model_module_version": "~2.1.4",
       "_view_module_version": "~2.1.4"
      }
     },
     "4c40f789907c437d9b094d8b05e043b5": {
      "model_module": "jupyter-js-widgets",
      "model_module_version": "~2.1.4",
      "model_name": "LayoutModel",
      "state": {
       "_model_module_version": "~2.1.4",
       "_view_module_version": "~2.1.4"
      }
     },
     "4d77ffea0a9145eeb21872d008a7ad67": {
      "model_module": "jupyter-js-widgets",
      "model_module_version": "~2.1.4",
      "model_name": "LayoutModel",
      "state": {
       "_model_module_version": "~2.1.4",
       "_view_module_version": "~2.1.4",
       "align_items": "stretch",
       "display": "flex",
       "flex_flow": "row",
       "width": "100%"
      }
     },
     "4d9de54ae2c34cb783f537f1590f6c9c": {
      "model_module": "jupyter-js-widgets",
      "model_module_version": "~2.1.4",
      "model_name": "LayoutModel",
      "state": {
       "_model_module_version": "~2.1.4",
       "_view_module_version": "~2.1.4"
      }
     },
     "4db4259666ce489b9f9e0216b8e5831c": {
      "model_module": "jupyter-js-widgets",
      "model_module_version": "~2.1.4",
      "model_name": "LayoutModel",
      "state": {
       "_model_module_version": "~2.1.4",
       "_view_module_version": "~2.1.4"
      }
     },
     "4e8ce79ca17e45aba619c06145be16fd": {
      "model_module": "jupyter-js-widgets",
      "model_module_version": "~2.1.4",
      "model_name": "DatePickerModel",
      "state": {
       "_model_module_version": "~2.1.4",
       "_view_module_version": "~2.1.4",
       "description": "Date begin",
       "layout": "IPY_MODEL_5495083d649e4e4091fced45fbbe28bc",
       "value": {
        "date": 18,
        "hours": 0,
        "milliseconds": 0,
        "minutes": 0,
        "month": 9,
        "seconds": 0,
        "year": 2017
       }
      }
     },
     "4f37d6437c6f421cb4613f237a4d772f": {
      "model_module": "jupyter-js-widgets",
      "model_module_version": "~2.1.4",
      "model_name": "LayoutModel",
      "state": {
       "_model_module_version": "~2.1.4",
       "_view_module_version": "~2.1.4"
      }
     },
     "4f98633c63694292aa331c114ed70c72": {
      "model_module": "jupyter-js-widgets",
      "model_module_version": "~2.1.4",
      "model_name": "LayoutModel",
      "state": {
       "_model_module_version": "~2.1.4",
       "_view_module_version": "~2.1.4"
      }
     },
     "5035c59120914c40a0d791e320ee6bec": {
      "model_module": "jupyter-js-widgets",
      "model_module_version": "~2.1.4",
      "model_name": "LayoutModel",
      "state": {
       "_model_module_version": "~2.1.4",
       "_view_module_version": "~2.1.4"
      }
     },
     "5095f5a51ce9499d91be58760680e184": {
      "model_module": "jupyter-js-widgets",
      "model_module_version": "~2.1.4",
      "model_name": "LayoutModel",
      "state": {
       "_model_module_version": "~2.1.4",
       "_view_module_version": "~2.1.4"
      }
     },
     "50f4510d07ac4bc58f30a51e2b2d1ca4": {
      "model_module": "jupyter-js-widgets",
      "model_module_version": "~2.1.4",
      "model_name": "LayoutModel",
      "state": {
       "_model_module_version": "~2.1.4",
       "_view_module_version": "~2.1.4"
      }
     },
     "51571cfe9fff428abbc0f5f3878ca610": {
      "model_module": "jupyter-js-widgets",
      "model_module_version": "~2.1.4",
      "model_name": "LayoutModel",
      "state": {
       "_model_module_version": "~2.1.4",
       "_view_module_version": "~2.1.4"
      }
     },
     "517074e5527643509f54114688b55d5e": {
      "model_module": "jupyter-js-widgets",
      "model_module_version": "~2.1.4",
      "model_name": "TextareaModel",
      "state": {
       "_model_module_version": "~2.1.4",
       "_view_module_version": "~2.1.4",
       "description": "Url to query:",
       "layout": "IPY_MODEL_a731bb64fbb344e8bb61da22885b5665",
       "value": "https://api.resourcewatch.org/v1/query/20cc5eca-8c63-4c41-8e8e-134dcf1e6d76?sql={0}"
      }
     },
     "5173d57b317a47b29090951c19cd17cb": {
      "model_module": "jupyter-js-widgets",
      "model_module_version": "~2.1.4",
      "model_name": "DropdownModel",
      "state": {
       "_model_module_version": "~2.1.4",
       "_options_labels": [
        "Afghanistan",
        "Brazil",
        "Custom area"
       ],
       "_view_module_version": "~2.1.4",
       "description": "geostore",
       "layout": "IPY_MODEL_45417ea08cbb43509a62df12d0076a08",
       "value": "Afghanistan"
      }
     },
     "51d530b3f48e4e73b825bcfe04b64675": {
      "model_module": "jupyter-js-widgets",
      "model_module_version": "~2.1.4",
      "model_name": "LayoutModel",
      "state": {
       "_model_module_version": "~2.1.4",
       "_view_module_version": "~2.1.4"
      }
     },
     "526f7e7d10e641afb96ef54fd5851b99": {
      "model_module": "jupyter-js-widgets",
      "model_module_version": "~2.1.4",
      "model_name": "DatePickerModel",
      "state": {
       "_model_module_version": "~2.1.4",
       "_view_module_version": "~2.1.4",
       "description": "Date begin",
       "layout": "IPY_MODEL_1bfe4246d2b24cef9f433c03a404225e",
       "value": {
        "date": 18,
        "hours": 0,
        "milliseconds": 0,
        "minutes": 0,
        "month": 9,
        "seconds": 0,
        "year": 2017
       }
      }
     },
     "52cf10f62f064fd0b94d0f275fe7faa4": {
      "model_module": "jupyter-js-widgets",
      "model_module_version": "~2.1.4",
      "model_name": "DropdownModel",
      "state": {
       "_model_module_version": "~2.1.4",
       "_options_labels": [
        "line"
       ],
       "_view_module_version": "~2.1.4",
       "description": "widget",
       "layout": "IPY_MODEL_9fe142d7db5e43f5aaeaa25e37f6550e",
       "value": "line"
      }
     },
     "530b85ab552f4f5dbe18af310985afba": {
      "model_module": "jupyter-js-widgets",
      "model_module_version": "~2.1.4",
      "model_name": "LayoutModel",
      "state": {
       "_model_module_version": "~2.1.4",
       "_view_module_version": "~2.1.4"
      }
     },
     "537b90070abe4c27942766eefca6dee8": {
      "model_module": "jupyter-js-widgets",
      "model_module_version": "~2.1.4",
      "model_name": "LayoutModel",
      "state": {
       "_model_module_version": "~2.1.4",
       "_view_module_version": "~2.1.4"
      }
     },
     "5495083d649e4e4091fced45fbbe28bc": {
      "model_module": "jupyter-js-widgets",
      "model_module_version": "~2.1.4",
      "model_name": "LayoutModel",
      "state": {
       "_model_module_version": "~2.1.4",
       "_view_module_version": "~2.1.4"
      }
     },
     "55360994dba5420689bcf674c05bff3a": {
      "model_module": "jupyter-js-widgets",
      "model_module_version": "~2.1.4",
      "model_name": "LayoutModel",
      "state": {
       "_model_module_version": "~2.1.4",
       "_view_module_version": "~2.1.4"
      }
     },
     "560505babc1c46f2bd6bb47c6c73bc4e": {
      "model_module": "jupyter-js-widgets",
      "model_module_version": "~2.1.4",
      "model_name": "LayoutModel",
      "state": {
       "_model_module_version": "~2.1.4",
       "_view_module_version": "~2.1.4"
      }
     },
     "561834486346495cba9a7d616d224bfd": {
      "model_module": "jupyter-js-widgets",
      "model_module_version": "~2.1.4",
      "model_name": "DatePickerModel",
      "state": {
       "_model_module_version": "~2.1.4",
       "_view_module_version": "~2.1.4",
       "description": "Date end",
       "layout": "IPY_MODEL_9142537da53141b28f2497562c4db924",
       "value": {
        "date": 24,
        "hours": 13,
        "milliseconds": 335,
        "minutes": 59,
        "month": 9,
        "seconds": 21,
        "year": 2017
       }
      }
     },
     "56527a24d87d4f0ca27d4cd49e932938": {
      "model_module": "jupyter-js-widgets",
      "model_module_version": "~2.1.4",
      "model_name": "TextareaModel",
      "state": {
       "_model_module_version": "~2.1.4",
       "_view_module_version": "~2.1.4",
       "description": "Url to query:",
       "layout": "IPY_MODEL_e88bc6df2e54475ea6316a97fed6a13a",
       "value": "https://api.resourcewatch.org/v1/query/20cc5eca-8c63-4c41-8e8e-134dcf1e6d76?sql={0}"
      }
     },
     "5703a23345f74005a6f3fb0380415b5f": {
      "model_module": "jupyter-js-widgets",
      "model_module_version": "~2.1.4",
      "model_name": "LayoutModel",
      "state": {
       "_model_module_version": "~2.1.4",
       "_view_module_version": "~2.1.4"
      }
     },
     "57820930ac224c6fb503caff106cc8f1": {
      "model_module": "jupyter-js-widgets",
      "model_module_version": "~2.1.4",
      "model_name": "DropdownModel",
      "state": {
       "_model_module_version": "~2.1.4",
       "_options_labels": [
        "line"
       ],
       "_view_module_version": "~2.1.4",
       "description": "Widget type:",
       "layout": "IPY_MODEL_91c4ecce654b4f4ab78da571336949ee",
       "value": "line"
      }
     },
     "57ab7a9cd0064a79aafa34d882f260a9": {
      "model_module": "jupyter-js-widgets",
      "model_module_version": "~2.1.4",
      "model_name": "LayoutModel",
      "state": {
       "_model_module_version": "~2.1.4",
       "_view_module_version": "~2.1.4"
      }
     },
     "5800c18e140342888441715ab91f5927": {
      "model_module": "jupyter-js-widgets",
      "model_module_version": "~2.1.4",
      "model_name": "DatePickerModel",
      "state": {
       "_model_module_version": "~2.1.4",
       "_view_module_version": "~2.1.4",
       "description": "Date end",
       "layout": "IPY_MODEL_3858be9997fc40549be7cf97298e4af5",
       "value": {
        "date": 24,
        "hours": 13,
        "milliseconds": 871,
        "minutes": 13,
        "month": 9,
        "seconds": 23,
        "year": 2017
       }
      }
     },
     "5a49688c86014983ab11193396f66da3": {
      "model_module": "jupyter-js-widgets",
      "model_module_version": "~2.1.4",
      "model_name": "DropdownModel",
      "state": {
       "_model_module_version": "~2.1.4",
       "_options_labels": [
        "Afghanistan",
        "Brazil",
        "Custom area"
       ],
       "_view_module_version": "~2.1.4",
       "description": "Geostore",
       "layout": "IPY_MODEL_c3d0203446e742ca8e6db083b2b222f3",
       "value": "Afghanistan"
      }
     },
     "5b3ebf34cf2e40d2a8403899fffb4ca5": {
      "model_module": "jupyter-js-widgets",
      "model_module_version": "~2.1.4",
      "model_name": "LayoutModel",
      "state": {
       "_model_module_version": "~2.1.4",
       "_view_module_version": "~2.1.4"
      }
     },
     "5b489150b3104579bef9ec3234abebc0": {
      "model_module": "jupyter-js-widgets",
      "model_module_version": "~2.1.4",
      "model_name": "LayoutModel",
      "state": {
       "_model_module_version": "~2.1.4",
       "_view_module_version": "~2.1.4"
      }
     },
     "5b9446b29b8e4d76982ac2f77efb3d5f": {
      "model_module": "jupyter-js-widgets",
      "model_module_version": "~2.1.4",
      "model_name": "TextareaModel",
      "state": {
       "_model_module_version": "~2.1.4",
       "_view_module_version": "~2.1.4",
       "description": "Url to query:",
       "layout": "IPY_MODEL_e53422824a79400aa641c99e8848dce6",
       "value": "https://api.resourcewatch.org/v1/query/20cc5eca-8c63-4c41-8e8e-134dcf1e6d76?sql={0}"
      }
     },
     "5c40ba6bedee4d6ba2c5e60fa5b54880": {
      "model_module": "jupyter-js-widgets",
      "model_module_version": "~2.1.4",
      "model_name": "OutputModel",
      "state": {
       "_dom_classes": [],
       "_model_module": "jupyter-js-widgets",
       "_model_module_version": "~2.1.4",
       "_view_module": "jupyter-js-widgets",
       "_view_module_version": "~2.1.4",
       "layout": "IPY_MODEL_2363709800324842b1394db56990956c",
       "msg_throttle": 1
      }
     },
     "5ca25e14d5184387a8597a3d5e73c49e": {
      "model_module": "jupyter-js-widgets",
      "model_module_version": "~2.1.4",
      "model_name": "OutputModel",
      "state": {
       "_dom_classes": [],
       "_model_module": "jupyter-js-widgets",
       "_model_module_version": "~2.1.4",
       "_view_module": "jupyter-js-widgets",
       "_view_module_version": "~2.1.4",
       "layout": "IPY_MODEL_38cec6f6d8f84eea8f64a41dfe684f4c",
       "msg_throttle": 1
      }
     },
     "5cb9122483324200b7bc478cee52492d": {
      "model_module": "jupyter-js-widgets",
      "model_module_version": "~2.1.4",
      "model_name": "DatePickerModel",
      "state": {
       "_model_module_version": "~2.1.4",
       "_view_module_version": "~2.1.4",
       "description": "Date end",
       "layout": "IPY_MODEL_6e3e7f270e154c6996b0470233684951",
       "value": {
        "date": 23,
        "hours": 18,
        "milliseconds": 321,
        "minutes": 1,
        "month": 9,
        "seconds": 52,
        "year": 2017
       }
      }
     },
     "5ec9adef4c3a4fe68bb3335086dcb3cd": {
      "model_module": "jupyter-js-widgets",
      "model_module_version": "~2.1.4",
      "model_name": "DatePickerModel",
      "state": {
       "_model_module_version": "~2.1.4",
       "_view_module_version": "~2.1.4",
       "description": "Date begin",
       "layout": "IPY_MODEL_d598b0f9eb5c40fca438668b8a2611bf",
       "value": {
        "date": 1,
        "hours": 0,
        "milliseconds": 0,
        "minutes": 0,
        "month": 0,
        "seconds": 0,
        "year": 2017
       }
      }
     },
     "5efb0fc855ba44c783fbaa2392c901e9": {
      "model_module": "jupyter-js-widgets",
      "model_module_version": "~2.1.4",
      "model_name": "OutputModel",
      "state": {
       "_dom_classes": [],
       "_model_module": "jupyter-js-widgets",
       "_model_module_version": "~2.1.4",
       "_view_module": "jupyter-js-widgets",
       "_view_module_version": "~2.1.4",
       "layout": "IPY_MODEL_a775600dc60c4680ac95fe6ae4a42d8b",
       "msg_throttle": 1
      }
     },
     "5f52b3eb2ed6490c824ee973ccfdb484": {
      "model_module": "jupyter-js-widgets",
      "model_module_version": "~2.1.4",
      "model_name": "TextareaModel",
      "state": {
       "_model_module_version": "~2.1.4",
       "_view_module_version": "~2.1.4",
       "description": "Query:",
       "layout": "IPY_MODEL_93548911d802419388801c7902184271",
       "value": "SELECT acq_date as x, count(acq_date) as y FROM vnp14imgtdl_nrt_global_7d WHERE acq_date >='{date_begin}' and acq_date < '{date_end}' group by acq_date order by acq_date asc"
      }
     },
     "5f6501e04b6e47e898dd61c5e06053e9": {
      "model_module": "jupyter-js-widgets",
      "model_module_version": "~2.1.4",
      "model_name": "LayoutModel",
      "state": {
       "_model_module_version": "~2.1.4",
       "_view_module_version": "~2.1.4"
      }
     },
     "5f9808eae08b492b903de29a9567c8b7": {
      "model_module": "jupyter-js-widgets",
      "model_module_version": "~2.1.4",
      "model_name": "OutputModel",
      "state": {
       "_dom_classes": [],
       "_model_module": "jupyter-js-widgets",
       "_model_module_version": "~2.1.4",
       "_view_module": "jupyter-js-widgets",
       "_view_module_version": "~2.1.4",
       "layout": "IPY_MODEL_1eec977d55ce4801827906e13fc3fc8d",
       "msg_throttle": 1
      }
     },
     "5fb6f240a5a5432eafb03d8069db9eee": {
      "model_module": "jupyter-js-widgets",
      "model_module_version": "~2.1.4",
      "model_name": "LayoutModel",
      "state": {
       "_model_module_version": "~2.1.4",
       "_view_module_version": "~2.1.4"
      }
     },
     "60193ee5b88a46378d5a2b2faaaf088f": {
      "model_module": "jupyter-js-widgets",
      "model_module_version": "~2.1.4",
      "model_name": "LayoutModel",
      "state": {
       "_model_module_version": "~2.1.4",
       "_view_module_version": "~2.1.4"
      }
     },
     "61f15d7908ae4a87befd4da09366669c": {
      "model_module": "jupyter-js-widgets",
      "model_module_version": "~2.1.4",
      "model_name": "DatePickerModel",
      "state": {
       "_model_module_version": "~2.1.4",
       "_view_module_version": "~2.1.4",
       "description": "Date begin",
       "layout": "IPY_MODEL_dea66f42b9d842d2a997783e51551c9f",
       "value": {
        "date": 1,
        "hours": 0,
        "milliseconds": 0,
        "minutes": 0,
        "month": 0,
        "seconds": 0,
        "year": 2017
       }
      }
     },
     "6345e6c74c4341c883ed7cf4808d76e5": {
      "model_module": "jupyter-js-widgets",
      "model_module_version": "~2.1.4",
      "model_name": "LayoutModel",
      "state": {
       "_model_module_version": "~2.1.4",
       "_view_module_version": "~2.1.4"
      }
     },
     "634e0826b43e4d12a9b89fe6506ccfde": {
      "model_module": "jupyter-js-widgets",
      "model_module_version": "~2.1.4",
      "model_name": "LayoutModel",
      "state": {
       "_model_module_version": "~2.1.4",
       "_view_module_version": "~2.1.4"
      }
     },
     "64ba31b8750845689c6a1b023e0c604a": {
      "model_module": "jupyter-js-widgets",
      "model_module_version": "~2.1.4",
      "model_name": "DatePickerModel",
      "state": {
       "_model_module_version": "~2.1.4",
       "_view_module_version": "~2.1.4",
       "description": "Date begin",
       "layout": "IPY_MODEL_79273021e4f74e608badd9f6337569c6",
       "value": {
        "date": 18,
        "hours": 0,
        "milliseconds": 0,
        "minutes": 0,
        "month": 9,
        "seconds": 0,
        "year": 2017
       }
      }
     },
     "65bbf4c7188f43a7a0ea701123d30013": {
      "model_module": "jupyter-js-widgets",
      "model_module_version": "~2.1.4",
      "model_name": "LayoutModel",
      "state": {
       "_model_module_version": "~2.1.4",
       "_view_module_version": "~2.1.4"
      }
     },
     "65c7aea6c136475dad6fdfb36c93f321": {
      "model_module": "jupyter-js-widgets",
      "model_module_version": "~2.1.4",
      "model_name": "DropdownModel",
      "state": {
       "_model_module_version": "~2.1.4",
       "_options_labels": [
        "Afghanistan",
        "Brazil",
        "Custom area"
       ],
       "_view_module_version": "~2.1.4",
       "description": "geostore",
       "layout": "IPY_MODEL_fa89b6d539ca4caf91bf39fa876be1f4",
       "value": "Afghanistan"
      }
     },
     "6624c10e952040c3a7fc30f94bcc9f37": {
      "model_module": "jupyter-js-widgets",
      "model_module_version": "~2.1.4",
      "model_name": "TextareaModel",
      "state": {
       "_model_module_version": "~2.1.4",
       "_view_module_version": "~2.1.4",
       "description": "Query:",
       "layout": "IPY_MODEL_4d77ffea0a9145eeb21872d008a7ad67",
       "value": "SELECT acq_date as x, count(acq_date) as y FROM vnp14imgtdl_nrt_global_7d WHERE acq_date >='{date_begin}' and acq_date < '{date_end}' group by acq_date order by acq_date asc"
      }
     },
     "6642d31643a449dda0243087048d25e6": {
      "model_module": "jupyter-js-widgets",
      "model_module_version": "~2.1.4",
      "model_name": "LayoutModel",
      "state": {
       "_model_module_version": "~2.1.4",
       "_view_module_version": "~2.1.4"
      }
     },
     "664b46a7042c46e2ac9c036e86c592af": {
      "model_module": "jupyter-js-widgets",
      "model_module_version": "~2.1.4",
      "model_name": "DatePickerModel",
      "state": {
       "_model_module_version": "~2.1.4",
       "_view_module_version": "~2.1.4",
       "description": "Date end",
       "layout": "IPY_MODEL_bdf2949b9cfd402a8419ac4e649ee088",
       "value": {
        "date": 24,
        "hours": 13,
        "milliseconds": 789,
        "minutes": 11,
        "month": 9,
        "seconds": 54,
        "year": 2017
       }
      }
     },
     "66c2e25eb6484bb8b55d0fd94f410aa6": {
      "model_module": "jupyter-js-widgets",
      "model_module_version": "~2.1.4",
      "model_name": "LayoutModel",
      "state": {
       "_model_module_version": "~2.1.4",
       "_view_module_version": "~2.1.4"
      }
     },
     "6842e0ac729f4f588d003182c8cfaa86": {
      "model_module": "jupyter-js-widgets",
      "model_module_version": "~2.1.4",
      "model_name": "LayoutModel",
      "state": {
       "_model_module_version": "~2.1.4",
       "_view_module_version": "~2.1.4"
      }
     },
     "685b8061174c4a4fbf475ddc28f57b6c": {
      "model_module": "jupyter-js-widgets",
      "model_module_version": "~2.1.4",
      "model_name": "DatePickerModel",
      "state": {
       "_model_module_version": "~2.1.4",
       "_view_module_version": "~2.1.4",
       "description": "Date begin",
       "layout": "IPY_MODEL_6b2e62c22ec3404f9915fa57c12c2509",
       "value": {
        "date": 1,
        "hours": 0,
        "milliseconds": 0,
        "minutes": 0,
        "month": 0,
        "seconds": 0,
        "year": 2017
       }
      }
     },
     "69d27264664841dfb07fe1e8f8ecc5e5": {
      "model_module": "jupyter-js-widgets",
      "model_module_version": "~2.1.4",
      "model_name": "DatePickerModel",
      "state": {
       "_model_module_version": "~2.1.4",
       "_view_module_version": "~2.1.4",
       "description": "Date begin",
       "layout": "IPY_MODEL_0d5e12c760b6480d84cc21a8769b2d97",
       "value": {
        "date": 18,
        "hours": 0,
        "milliseconds": 0,
        "minutes": 0,
        "month": 9,
        "seconds": 0,
        "year": 2017
       }
      }
     },
     "6a44ee61d0fe4d6ca522dbbbba2c23ef": {
      "model_module": "jupyter-js-widgets",
      "model_module_version": "~2.1.4",
      "model_name": "DropdownModel",
      "state": {
       "_model_module_version": "~2.1.4",
       "_options_labels": [
        "line",
        "bar"
       ],
       "_view_module_version": "~2.1.4",
       "description": "Widget type:",
       "layout": "IPY_MODEL_a469dd53f3914f458e7fb06f4a6273d3",
       "value": "line"
      }
     },
     "6b08fa74fcc148dd9174df814ae0fecf": {
      "model_module": "jupyter-js-widgets",
      "model_module_version": "~2.1.4",
      "model_name": "OutputModel",
      "state": {
       "_dom_classes": [],
       "_model_module": "jupyter-js-widgets",
       "_model_module_version": "~2.1.4",
       "_view_module": "jupyter-js-widgets",
       "_view_module_version": "~2.1.4",
       "layout": "IPY_MODEL_946b494e3cde43e48aae8213a238ad4b",
       "msg_throttle": 1
      }
     },
     "6b2e62c22ec3404f9915fa57c12c2509": {
      "model_module": "jupyter-js-widgets",
      "model_module_version": "~2.1.4",
      "model_name": "LayoutModel",
      "state": {
       "_model_module_version": "~2.1.4",
       "_view_module_version": "~2.1.4"
      }
     },
     "6b74deb1e535469da3a7f568e6f9bfca": {
      "model_module": "jupyter-js-widgets",
      "model_module_version": "~2.1.4",
      "model_name": "LayoutModel",
      "state": {
       "_model_module_version": "~2.1.4",
       "_view_module_version": "~2.1.4"
      }
     },
     "6bf892c2f37a414498da9215ebedc217": {
      "model_module": "jupyter-js-widgets",
      "model_module_version": "~2.1.4",
      "model_name": "LayoutModel",
      "state": {
       "_model_module_version": "~2.1.4",
       "_view_module_version": "~2.1.4"
      }
     },
     "6c612df9dde94913b3aa03f4e26341ab": {
      "model_module": "jupyter-js-widgets",
      "model_module_version": "~2.1.4",
      "model_name": "LayoutModel",
      "state": {
       "_model_module_version": "~2.1.4",
       "_view_module_version": "~2.1.4"
      }
     },
     "6d0a60dfcdc5453d804503e21cf867e1": {
      "model_module": "jupyter-js-widgets",
      "model_module_version": "~2.1.4",
      "model_name": "DropdownModel",
      "state": {
       "_model_module_version": "~2.1.4",
       "_options_labels": [
        "line"
       ],
       "_view_module_version": "~2.1.4",
       "description": "widget",
       "layout": "IPY_MODEL_29e2bb9663264dba9ca88b5fed4b69ac",
       "value": "line"
      }
     },
     "6d2646bfd4904f3ea04cfd3ba88ba9ea": {
      "model_module": "jupyter-js-widgets",
      "model_module_version": "~2.1.4",
      "model_name": "LayoutModel",
      "state": {
       "_model_module_version": "~2.1.4",
       "_view_module_version": "~2.1.4"
      }
     },
     "6d782af8ef4c4e06b9584ca3bdd21609": {
      "model_module": "jupyter-js-widgets",
      "model_module_version": "~2.1.4",
      "model_name": "LayoutModel",
      "state": {
       "_model_module_version": "~2.1.4",
       "_view_module_version": "~2.1.4"
      }
     },
     "6e3e7f270e154c6996b0470233684951": {
      "model_module": "jupyter-js-widgets",
      "model_module_version": "~2.1.4",
      "model_name": "LayoutModel",
      "state": {
       "_model_module_version": "~2.1.4",
       "_view_module_version": "~2.1.4"
      }
     },
     "6e661bc07dc744608a9b536c4e220b67": {
      "model_module": "jupyter-js-widgets",
      "model_module_version": "~2.1.4",
      "model_name": "LayoutModel",
      "state": {
       "_model_module_version": "~2.1.4",
       "_view_module_version": "~2.1.4"
      }
     },
     "6f7db5235fd8437a9e8f90853244f3e1": {
      "model_module": "jupyter-js-widgets",
      "model_module_version": "~2.1.4",
      "model_name": "DatePickerModel",
      "state": {
       "_model_module_version": "~2.1.4",
       "_view_module_version": "~2.1.4",
       "description": "Date begin",
       "layout": "IPY_MODEL_8cc8763981c047eb83ea79ab0efcc339",
       "value": {
        "date": 18,
        "hours": 0,
        "milliseconds": 0,
        "minutes": 0,
        "month": 9,
        "seconds": 0,
        "year": 2017
       }
      }
     },
     "6fce73fad75649beaeb1c7e4e71f5850": {
      "model_module": "jupyter-js-widgets",
      "model_module_version": "~2.1.4",
      "model_name": "DropdownModel",
      "state": {
       "_model_module_version": "~2.1.4",
       "_options_labels": [
        "Afghanistan",
        "Brazil",
        "Custom area"
       ],
       "_view_module_version": "~2.1.4",
       "description": "geostore",
       "layout": "IPY_MODEL_970e34c21de74174970707d8550df74f",
       "value": "Afghanistan"
      }
     },
     "729b624b77f74515b60ba4cf6f52e949": {
      "model_module": "jupyter-js-widgets",
      "model_module_version": "~2.1.4",
      "model_name": "LayoutModel",
      "state": {
       "_model_module_version": "~2.1.4",
       "_view_module_version": "~2.1.4"
      }
     },
     "72fae008eff34c23b1422a1c8dc1d32d": {
      "model_module": "jupyter-js-widgets",
      "model_module_version": "~2.1.4",
      "model_name": "VBoxModel",
      "state": {
       "_dom_classes": [
        "widget-interact"
       ],
       "_model_module_version": "~2.1.4",
       "_view_module_version": "~2.1.4",
       "children": [
        "IPY_MODEL_6a44ee61d0fe4d6ca522dbbbba2c23ef",
        "IPY_MODEL_f30a170ce61c4c20899dc43381349d73",
        "IPY_MODEL_dabfeca4be74423786911cc878044fdf",
        "IPY_MODEL_81271f313ee64705a6a1693b07f865fd",
        "IPY_MODEL_86c4c602f3904e4eaf71585ee2dcc233",
        "IPY_MODEL_8ee77a61d3e148a88f14569794bb837a",
        "IPY_MODEL_eeba9353b52246ac9ada649a5c5d18e3"
       ],
       "layout": "IPY_MODEL_d06ef498092c4262b991ffc11b293e7c"
      }
     },
     "7389787bad5d46caa9cfb0e54986e7d8": {
      "model_module": "jupyter-js-widgets",
      "model_module_version": "~2.1.4",
      "model_name": "LayoutModel",
      "state": {
       "_model_module_version": "~2.1.4",
       "_view_module_version": "~2.1.4"
      }
     },
     "7432bb40337a4e1aa7fdb8833638b255": {
      "model_module": "jupyter-js-widgets",
      "model_module_version": "~2.1.4",
      "model_name": "LayoutModel",
      "state": {
       "_model_module_version": "~2.1.4",
       "_view_module_version": "~2.1.4"
      }
     },
     "74545677eccc41d1b6503584941e88f0": {
      "model_module": "jupyter-js-widgets",
      "model_module_version": "~2.1.4",
      "model_name": "LayoutModel",
      "state": {
       "_model_module_version": "~2.1.4",
       "_view_module_version": "~2.1.4"
      }
     },
     "748e03bf05b146d285584214494509f5": {
      "model_module": "jupyter-js-widgets",
      "model_module_version": "~2.1.4",
      "model_name": "LayoutModel",
      "state": {
       "_model_module_version": "~2.1.4",
       "_view_module_version": "~2.1.4"
      }
     },
     "7493c117807c4573831cee584d9b2f8b": {
      "model_module": "jupyter-js-widgets",
      "model_module_version": "~2.1.4",
      "model_name": "LayoutModel",
      "state": {
       "_model_module_version": "~2.1.4",
       "_view_module_version": "~2.1.4"
      }
     },
     "75cae2f9156547018273fde9df45ac07": {
      "model_module": "jupyter-js-widgets",
      "model_module_version": "~2.1.4",
      "model_name": "DropdownModel",
      "state": {
       "_model_module_version": "~2.1.4",
       "_options_labels": [
        "Afghanistan",
        "Brazil",
        "Custom area"
       ],
       "_view_module_version": "~2.1.4",
       "description": "Geostore",
       "layout": "IPY_MODEL_6842e0ac729f4f588d003182c8cfaa86",
       "value": "Afghanistan"
      }
     },
     "761d8ab7864f492bb44d85cdde804c34": {
      "model_module": "jupyter-js-widgets",
      "model_module_version": "~2.1.4",
      "model_name": "DropdownModel",
      "state": {
       "_model_module_version": "~2.1.4",
       "_options_labels": [
        "Afghanistan",
        "Brazil",
        "Custom area"
       ],
       "_view_module_version": "~2.1.4",
       "description": "Geostore",
       "layout": "IPY_MODEL_cb4a161c03ff4758a8f03aa7c11c21c3",
       "value": "Afghanistan"
      }
     },
     "76a31e37a10046e08de507e084aff77c": {
      "model_module": "jupyter-js-widgets",
      "model_module_version": "~2.1.4",
      "model_name": "DatePickerModel",
      "state": {
       "_model_module_version": "~2.1.4",
       "_view_module_version": "~2.1.4",
       "description": "Date end",
       "layout": "IPY_MODEL_d47ba0f70329407fb6f853988450d0c8",
       "value": {
        "date": 24,
        "hours": 13,
        "milliseconds": 237,
        "minutes": 1,
        "month": 9,
        "seconds": 42,
        "year": 2017
       }
      }
     },
     "76de60d92e7a49c9bf765c90463f5ead": {
      "model_module": "jupyter-js-widgets",
      "model_module_version": "~2.1.4",
      "model_name": "DropdownModel",
      "state": {
       "_model_module_version": "~2.1.4",
       "_options_labels": [
        "line"
       ],
       "_view_module_version": "~2.1.4",
       "description": "widget",
       "layout": "IPY_MODEL_367823857641432f80e5e484c80fd1ba",
       "value": "line"
      }
     },
     "7715bbae29024b639e535d6a5860d53d": {
      "model_module": "jupyter-js-widgets",
      "model_module_version": "~2.1.4",
      "model_name": "LayoutModel",
      "state": {
       "_model_module_version": "~2.1.4",
       "_view_module_version": "~2.1.4"
      }
     },
     "77525eac725749628a5d5179fd14c38c": {
      "model_module": "jupyter-js-widgets",
      "model_module_version": "~2.1.4",
      "model_name": "DatePickerModel",
      "state": {
       "_model_module_version": "~2.1.4",
       "_view_module_version": "~2.1.4",
       "description": "Date begin",
       "layout": "IPY_MODEL_8233d36a5658438f8dfa63849ead153b",
       "value": {
        "date": 1,
        "hours": 0,
        "milliseconds": 0,
        "minutes": 0,
        "month": 0,
        "seconds": 0,
        "year": 2017
       }
      }
     },
     "7784c4c1e4e041d9986cf2d30e77935d": {
      "model_module": "jupyter-js-widgets",
      "model_module_version": "~2.1.4",
      "model_name": "DatePickerModel",
      "state": {
       "_model_module_version": "~2.1.4",
       "_view_module_version": "~2.1.4",
       "description": "Date end",
       "layout": "IPY_MODEL_180fc6326ff14490a07cc138621deacf",
       "value": {
        "date": 24,
        "hours": 13,
        "milliseconds": 691,
        "minutes": 16,
        "month": 9,
        "seconds": 4,
        "year": 2017
       }
      }
     },
     "78775b4aaf06421fb7ecb007ea4550ce": {
      "model_module": "jupyter-js-widgets",
      "model_module_version": "~2.1.4",
      "model_name": "DatePickerModel",
      "state": {
       "_model_module_version": "~2.1.4",
       "_view_module_version": "~2.1.4",
       "description": "Date begin",
       "layout": "IPY_MODEL_edd4d2ca1c3d41f7b6d370157d5be742",
       "value": {
        "date": 18,
        "hours": 0,
        "milliseconds": 0,
        "minutes": 0,
        "month": 9,
        "seconds": 0,
        "year": 2017
       }
      }
     },
     "78b2308495eb4a7bb38963f86a20e05c": {
      "model_module": "jupyter-js-widgets",
      "model_module_version": "~2.1.4",
      "model_name": "VBoxModel",
      "state": {
       "_dom_classes": [
        "widget-interact"
       ],
       "_model_module_version": "~2.1.4",
       "_view_module_version": "~2.1.4",
       "children": [
        "IPY_MODEL_57820930ac224c6fb503caff106cc8f1",
        "IPY_MODEL_f6e25740fdd34d15aa751ad825612b8a",
        "IPY_MODEL_eaac6a372131495fb8d10690d0e21d4e",
        "IPY_MODEL_ad47712663de4c0e8a56d1b740d4cbbe",
        "IPY_MODEL_561834486346495cba9a7d616d224bfd",
        "IPY_MODEL_955f1515b0904f62abd7eda66d8636ce",
        "IPY_MODEL_d37633b1ea1f4f4aa7be3d39afb0638a"
       ],
       "layout": "IPY_MODEL_9ad0bb99765545498ace49036bc7c0e5"
      }
     },
     "78b75b2f0f214019ad997f8d341bcad9": {
      "model_module": "jupyter-js-widgets",
      "model_module_version": "~2.1.4",
      "model_name": "VBoxModel",
      "state": {
       "_dom_classes": [
        "widget-interact"
       ],
       "_model_module_version": "~2.1.4",
       "_view_module_version": "~2.1.4",
       "children": [
        "IPY_MODEL_d692e207a15b4dfdab81129c331eb664",
        "IPY_MODEL_2af4b8858bf44f8d8c466a917c139c81",
        "IPY_MODEL_45714b06ed7849bc9090a64b74ee8982",
        "IPY_MODEL_6f7db5235fd8437a9e8f90853244f3e1",
        "IPY_MODEL_8215cf018ca9475d98fb8a4b5791f12c",
        "IPY_MODEL_cf3ac06b4510438d8a71817278be9136",
        "IPY_MODEL_445493580fc14f088bb77887dbc654b1"
       ],
       "layout": "IPY_MODEL_f199bd68f734432881e2944bc489b755"
      }
     },
     "78ffff0c2bf74ae18c82a494814956f4": {
      "model_module": "jupyter-js-widgets",
      "model_module_version": "~2.1.4",
      "model_name": "DatePickerModel",
      "state": {
       "_model_module_version": "~2.1.4",
       "_view_module_version": "~2.1.4",
       "description": "Date begin",
       "layout": "IPY_MODEL_069dc2b6c5364accb6e8a1ad0de8675d",
       "value": {
        "date": 18,
        "hours": 0,
        "milliseconds": 0,
        "minutes": 0,
        "month": 9,
        "seconds": 0,
        "year": 2017
       }
      }
     },
     "79273021e4f74e608badd9f6337569c6": {
      "model_module": "jupyter-js-widgets",
      "model_module_version": "~2.1.4",
      "model_name": "LayoutModel",
      "state": {
       "_model_module_version": "~2.1.4",
       "_view_module_version": "~2.1.4"
      }
     },
     "79659c3e9f4145fb917a19d58ee54759": {
      "model_module": "jupyter-js-widgets",
      "model_module_version": "~2.1.4",
      "model_name": "OutputModel",
      "state": {
       "_dom_classes": [],
       "_model_module": "jupyter-js-widgets",
       "_model_module_version": "~2.1.4",
       "_view_module": "jupyter-js-widgets",
       "_view_module_version": "~2.1.4",
       "layout": "IPY_MODEL_5095f5a51ce9499d91be58760680e184",
       "msg_throttle": 1
      }
     },
     "799fd19f7fda48f7a0f9bdbfc6afc5fb": {
      "model_module": "jupyter-js-widgets",
      "model_module_version": "~2.1.4",
      "model_name": "VBoxModel",
      "state": {
       "_dom_classes": [
        "widget-interact"
       ],
       "_model_module_version": "~2.1.4",
       "_view_module_version": "~2.1.4",
       "children": [
        "IPY_MODEL_1360953c245b435d9623527a7ffca6d9",
        "IPY_MODEL_f860dcc5faa04505aa1574b22f56720a",
        "IPY_MODEL_13b17c558f86488abe7b58c3de425ee3",
        "IPY_MODEL_64ba31b8750845689c6a1b023e0c604a",
        "IPY_MODEL_2d78ab84f87e45648c4eaa6dc7d47eb8",
        "IPY_MODEL_e4983b4d4f874bb49e787eeab5fcbc11",
        "IPY_MODEL_beaa04035a584259ab845552b77f095e"
       ],
       "layout": "IPY_MODEL_0429f1fa028247039ebebd8a7a8bdb3a"
      }
     },
     "7aaf6c9960174e008abfa1be1284468c": {
      "model_module": "jupyter-js-widgets",
      "model_module_version": "~2.1.4",
      "model_name": "DatePickerModel",
      "state": {
       "_model_module_version": "~2.1.4",
       "_view_module_version": "~2.1.4",
       "description": "Date end",
       "layout": "IPY_MODEL_9cd1b393cab944f1a839df9b442d43b8",
       "value": {
        "date": 24,
        "hours": 13,
        "milliseconds": 522,
        "minutes": 2,
        "month": 9,
        "seconds": 10,
        "year": 2017
       }
      }
     },
     "7c07947c4c12425f98582d5a5c84ba42": {
      "model_module": "jupyter-js-widgets",
      "model_module_version": "~2.1.4",
      "model_name": "LayoutModel",
      "state": {
       "_model_module_version": "~2.1.4",
       "_view_module_version": "~2.1.4"
      }
     },
     "7c66ed14738a41249445e6e950838443": {
      "model_module": "jupyter-js-widgets",
      "model_module_version": "~2.1.4",
      "model_name": "DropdownModel",
      "state": {
       "_model_module_version": "~2.1.4",
       "_options_labels": [
        "line"
       ],
       "_view_module_version": "~2.1.4",
       "description": "widget",
       "layout": "IPY_MODEL_7cadebe34b88499b9a59e94209dee232",
       "value": "line"
      }
     },
     "7c6b23680fbd4bc9a6a810929a64c40e": {
      "model_module": "jupyter-js-widgets",
      "model_module_version": "~2.1.4",
      "model_name": "LayoutModel",
      "state": {
       "_model_module_version": "~2.1.4",
       "_view_module_version": "~2.1.4"
      }
     },
     "7cadebe34b88499b9a59e94209dee232": {
      "model_module": "jupyter-js-widgets",
      "model_module_version": "~2.1.4",
      "model_name": "LayoutModel",
      "state": {
       "_model_module_version": "~2.1.4",
       "_view_module_version": "~2.1.4"
      }
     },
     "7d263e881a854f3e8cd2988b7d4eca42": {
      "model_module": "jupyter-js-widgets",
      "model_module_version": "~2.1.4",
      "model_name": "LayoutModel",
      "state": {
       "_model_module_version": "~2.1.4",
       "_view_module_version": "~2.1.4"
      }
     },
     "7d8cc428cf444243a550cfd59bbb941a": {
      "model_module": "jupyter-js-widgets",
      "model_module_version": "~2.1.4",
      "model_name": "LayoutModel",
      "state": {
       "_model_module_version": "~2.1.4",
       "_view_module_version": "~2.1.4"
      }
     },
     "7dc76bdef606465892d1bd165ac3bd95": {
      "model_module": "jupyter-js-widgets",
      "model_module_version": "~2.1.4",
      "model_name": "VBoxModel",
      "state": {
       "_dom_classes": [
        "widget-interact"
       ],
       "_model_module_version": "~2.1.4",
       "_view_module_version": "~2.1.4",
       "children": [
        "IPY_MODEL_b1dae97b22c24b7b86a25278fae1b5e7",
        "IPY_MODEL_be6617efc6fb402584833d51286bf518",
        "IPY_MODEL_49ae3e19f9d34e3f8d76b999e30f5dbd",
        "IPY_MODEL_a3e66469cba648258ef2418815e1a0b9",
        "IPY_MODEL_d84bac850662421c9719658afacda8f1",
        "IPY_MODEL_9d59f2af461f4b9585ed3348e195c080",
        "IPY_MODEL_5c40ba6bedee4d6ba2c5e60fa5b54880"
       ],
       "layout": "IPY_MODEL_f6b5dfb7348149ea83e53e93d39d39ae"
      }
     },
     "7dcecb12b48d401f8a479e12b512ca07": {
      "model_module": "jupyter-js-widgets",
      "model_module_version": "~2.1.4",
      "model_name": "OutputModel",
      "state": {
       "_dom_classes": [],
       "_model_module": "jupyter-js-widgets",
       "_model_module_version": "~2.1.4",
       "_view_module": "jupyter-js-widgets",
       "_view_module_version": "~2.1.4",
       "layout": "IPY_MODEL_b6e3ccb45ea84c28afad2d35b56fa4f8",
       "msg_throttle": 1
      }
     },
     "7e971a36699440189606fa6a7f5e6cdc": {
      "model_module": "jupyter-js-widgets",
      "model_module_version": "~2.1.4",
      "model_name": "OutputModel",
      "state": {
       "_dom_classes": [],
       "_model_module": "jupyter-js-widgets",
       "_model_module_version": "~2.1.4",
       "_view_module": "jupyter-js-widgets",
       "_view_module_version": "~2.1.4",
       "layout": "IPY_MODEL_29dcf602f6b34762b365674625b0f1cc",
       "msg_throttle": 1
      }
     },
     "7ec64001444f48dca425db3a64ef4ae5": {
      "model_module": "jupyter-js-widgets",
      "model_module_version": "~2.1.4",
      "model_name": "LayoutModel",
      "state": {
       "_model_module_version": "~2.1.4",
       "_view_module_version": "~2.1.4"
      }
     },
     "7ee1b5518d904636974d55e587148a21": {
      "model_module": "jupyter-js-widgets",
      "model_module_version": "~2.1.4",
      "model_name": "TextareaModel",
      "state": {
       "_model_module_version": "~2.1.4",
       "_view_module_version": "~2.1.4",
       "description": "Url to query:",
       "layout": "IPY_MODEL_4d77ffea0a9145eeb21872d008a7ad67",
       "value": "https://api.resourcewatch.org/v1/query/20cc5eca-8c63-4c41-8e8e-134dcf1e6d76?sql={0}"
      }
     },
     "7ee754832f264ae6b1fe1fdde3ee9ef8": {
      "model_module": "jupyter-js-widgets",
      "model_module_version": "~2.1.4",
      "model_name": "DropdownModel",
      "state": {
       "_model_module_version": "~2.1.4",
       "_options_labels": [
        "line"
       ],
       "_view_module_version": "~2.1.4",
       "description": "widget",
       "layout": "IPY_MODEL_a73e5b57b9464bc886158c2d49fbc8c0",
       "value": "line"
      }
     },
     "7ef540182e3b4a9887c6e1c0aaf11c6c": {
      "model_module": "jupyter-js-widgets",
      "model_module_version": "~2.1.4",
      "model_name": "LayoutModel",
      "state": {
       "_model_module_version": "~2.1.4",
       "_view_module_version": "~2.1.4"
      }
     },
     "7f9d29d34a0e4433a1f62df1aec62e4b": {
      "model_module": "jupyter-js-widgets",
      "model_module_version": "~2.1.4",
      "model_name": "LayoutModel",
      "state": {
       "_model_module_version": "~2.1.4",
       "_view_module_version": "~2.1.4"
      }
     },
     "80ab0bd09ac4478f86908db31f9425bd": {
      "model_module": "jupyter-js-widgets",
      "model_module_version": "~2.1.4",
      "model_name": "DropdownModel",
      "state": {
       "_model_module_version": "~2.1.4",
       "_options_labels": [
        "line"
       ],
       "_view_module_version": "~2.1.4",
       "description": "widget",
       "layout": "IPY_MODEL_f02077ec492d4cab859833bb687ab2c5",
       "value": "line"
      }
     },
     "81271f313ee64705a6a1693b07f865fd": {
      "model_module": "jupyter-js-widgets",
      "model_module_version": "~2.1.4",
      "model_name": "DatePickerModel",
      "state": {
       "_model_module_version": "~2.1.4",
       "_view_module_version": "~2.1.4",
       "description": "Date begin",
       "layout": "IPY_MODEL_b441e03a516c49f48b07fa0ee4f4bd29",
       "value": {
        "date": 18,
        "hours": 0,
        "milliseconds": 0,
        "minutes": 0,
        "month": 9,
        "seconds": 0,
        "year": 2017
       }
      }
     },
     "8178b62710704a73a2befe2f6e1831f8": {
      "model_module": "jupyter-js-widgets",
      "model_module_version": "~2.1.4",
      "model_name": "OutputModel",
      "state": {
       "_dom_classes": [],
       "_model_module": "jupyter-js-widgets",
       "_model_module_version": "~2.1.4",
       "_view_module": "jupyter-js-widgets",
       "_view_module_version": "~2.1.4",
       "layout": "IPY_MODEL_18f907534acd4928b2f49e0676a9de6e",
       "msg_throttle": 1
      }
     },
     "8215cf018ca9475d98fb8a4b5791f12c": {
      "model_module": "jupyter-js-widgets",
      "model_module_version": "~2.1.4",
      "model_name": "DatePickerModel",
      "state": {
       "_model_module_version": "~2.1.4",
       "_view_module_version": "~2.1.4",
       "description": "Date end",
       "layout": "IPY_MODEL_af84de9bcba24ba9aaa7791ffe3244c3",
       "value": {
        "date": 24,
        "hours": 13,
        "milliseconds": 986,
        "minutes": 37,
        "month": 9,
        "seconds": 0,
        "year": 2017
       }
      }
     },
     "8233d36a5658438f8dfa63849ead153b": {
      "model_module": "jupyter-js-widgets",
      "model_module_version": "~2.1.4",
      "model_name": "LayoutModel",
      "state": {
       "_model_module_version": "~2.1.4",
       "_view_module_version": "~2.1.4"
      }
     },
     "825581e2a9dd46a6875faeb6d5639ddd": {
      "model_module": "jupyter-js-widgets",
      "model_module_version": "~2.1.4",
      "model_name": "LayoutModel",
      "state": {
       "_model_module_version": "~2.1.4",
       "_view_module_version": "~2.1.4"
      }
     },
     "83d4073562da4d5c82c934556ba71cb7": {
      "model_module": "jupyter-js-widgets",
      "model_module_version": "~2.1.4",
      "model_name": "DropdownModel",
      "state": {
       "_model_module_version": "~2.1.4",
       "_options_labels": [
        "Afghanistan",
        "Brazil",
        "Custom area"
       ],
       "_view_module_version": "~2.1.4",
       "description": "geostore",
       "layout": "IPY_MODEL_50f4510d07ac4bc58f30a51e2b2d1ca4",
       "value": "Afghanistan"
      }
     },
     "841c75bd531042369b9faa98834b2fbc": {
      "model_module": "jupyter-js-widgets",
      "model_module_version": "~2.1.4",
      "model_name": "LayoutModel",
      "state": {
       "_model_module_version": "~2.1.4",
       "_view_module_version": "~2.1.4"
      }
     },
     "848ea3c185ca4e16854fcf88f0501e20": {
      "model_module": "jupyter-js-widgets",
      "model_module_version": "~2.1.4",
      "model_name": "LayoutModel",
      "state": {
       "_model_module_version": "~2.1.4",
       "_view_module_version": "~2.1.4"
      }
     },
     "84c59e1b39f3459f82f4859971727425": {
      "model_module": "jupyter-js-widgets",
      "model_module_version": "~2.1.4",
      "model_name": "TextareaModel",
      "state": {
       "_model_module_version": "~2.1.4",
       "_view_module_version": "~2.1.4",
       "description": "Url to query:",
       "layout": "IPY_MODEL_49fb6ca92251484bae58b2cc88fbd890",
       "value": "https://api.resourcewatch.org/v1/query/20cc5eca-8c63-4c41-8e8e-134dcf1e6d76?sql={0}"
      }
     },
     "85198c7589f94356b30c1dd1c691074b": {
      "model_module": "jupyter-js-widgets",
      "model_module_version": "~2.1.4",
      "model_name": "LayoutModel",
      "state": {
       "_model_module_version": "~2.1.4",
       "_view_module_version": "~2.1.4"
      }
     },
     "856c5e8ecd8543b4aee41f63f87e9f67": {
      "model_module": "jupyter-js-widgets",
      "model_module_version": "~2.1.4",
      "model_name": "DatePickerModel",
      "state": {
       "_model_module_version": "~2.1.4",
       "_view_module_version": "~2.1.4",
       "description": "Date end",
       "layout": "IPY_MODEL_d6cc023bd3af4f2f9bbd5ac2d1317535",
       "value": {
        "date": 24,
        "hours": 13,
        "milliseconds": 212,
        "minutes": 13,
        "month": 9,
        "seconds": 36,
        "year": 2017
       }
      }
     },
     "85f00e3c7ff34f6e8f820393d56fa88d": {
      "model_module": "jupyter-js-widgets",
      "model_module_version": "~2.1.4",
      "model_name": "VBoxModel",
      "state": {
       "_dom_classes": [
        "widget-interact"
       ],
       "_model_module_version": "~2.1.4",
       "_view_module_version": "~2.1.4",
       "children": [
        "IPY_MODEL_c7c344d6743d40338ecb5c7fd490a46b",
        "IPY_MODEL_69d27264664841dfb07fe1e8f8ecc5e5",
        "IPY_MODEL_0a839e7c26204d8189c9f95f3152cf28",
        "IPY_MODEL_a7da19eb6511499297c84423ed0ffb25",
        "IPY_MODEL_7dcecb12b48d401f8a479e12b512ca07"
       ],
       "layout": "IPY_MODEL_f0f44cd3631e486990fc36531f26e44f"
      }
     },
     "86c4c602f3904e4eaf71585ee2dcc233": {
      "model_module": "jupyter-js-widgets",
      "model_module_version": "~2.1.4",
      "model_name": "DatePickerModel",
      "state": {
       "_model_module_version": "~2.1.4",
       "_view_module_version": "~2.1.4",
       "description": "Date end",
       "layout": "IPY_MODEL_f707e36d295a4704b11a529ff29d7dad",
       "value": {
        "date": 24,
        "hours": 15,
        "milliseconds": 333,
        "minutes": 21,
        "month": 9,
        "seconds": 54,
        "year": 2017
       }
      }
     },
     "87f3e82078a24313af926c18d9a0d783": {
      "model_module": "jupyter-js-widgets",
      "model_module_version": "~2.1.4",
      "model_name": "LayoutModel",
      "state": {
       "_model_module_version": "~2.1.4",
       "_view_module_version": "~2.1.4"
      }
     },
     "87fe535a8f3e4926a83650141f426f53": {
      "model_module": "jupyter-js-widgets",
      "model_module_version": "~2.1.4",
      "model_name": "TextareaModel",
      "state": {
       "_model_module_version": "~2.1.4",
       "_view_module_version": "~2.1.4",
       "description": "Query:",
       "layout": "IPY_MODEL_22427a51d9df4e8f9c934069e4d9e5bc",
       "value": "SELECT acq_date as x, count(acq_date) as y FROM vnp14imgtdl_nrt_global_7d WHERE acq_date >='{date_begin}' and acq_date < '{date_end}' group by acq_date order by acq_date asc"
      }
     },
     "88009f65750e4c098e6e6c32297b8163": {
      "model_module": "jupyter-js-widgets",
      "model_module_version": "~2.1.4",
      "model_name": "DatePickerModel",
      "state": {
       "_model_module_version": "~2.1.4",
       "_view_module_version": "~2.1.4",
       "description": "Date end",
       "layout": "IPY_MODEL_8a277df30e3c4aa09930a8fd9781e878",
       "value": {
        "date": 24,
        "hours": 13,
        "milliseconds": 146,
        "minutes": 3,
        "month": 9,
        "seconds": 42,
        "year": 2017
       }
      }
     },
     "887b98360adc4bdc998a4ac2ff628da8": {
      "model_module": "jupyter-js-widgets",
      "model_module_version": "~2.1.4",
      "model_name": "VBoxModel",
      "state": {
       "_dom_classes": [
        "widget-interact"
       ],
       "_model_module_version": "~2.1.4",
       "_view_module_version": "~2.1.4",
       "children": [
        "IPY_MODEL_e7cff4c11fa544b9a84068fd78757867",
        "IPY_MODEL_1caa4bc2ebfe42c39df9bab1f2fe091b",
        "IPY_MODEL_2e180c0966594821804f42767f31a301",
        "IPY_MODEL_4993c10d79a94a339788f2c69d4c93be",
        "IPY_MODEL_d91b8142f56e4c89a7536b830690d836"
       ],
       "layout": "IPY_MODEL_3fdd16ea7efd449e8c8fa63115871283"
      }
     },
     "8885ef2c395b465d8b9e38ae844e7434": {
      "model_module": "jupyter-js-widgets",
      "model_module_version": "~2.1.4",
      "model_name": "LayoutModel",
      "state": {
       "_model_module_version": "~2.1.4",
       "_view_module_version": "~2.1.4"
      }
     },
     "88b9229ef8fa4a3995f274a22d3e3e6d": {
      "model_module": "jupyter-js-widgets",
      "model_module_version": "~2.1.4",
      "model_name": "DatePickerModel",
      "state": {
       "_model_module_version": "~2.1.4",
       "_view_module_version": "~2.1.4",
       "description": "Date end",
       "layout": "IPY_MODEL_7d8cc428cf444243a550cfd59bbb941a",
       "value": {
        "date": 24,
        "hours": 13,
        "milliseconds": 39,
        "minutes": 44,
        "month": 9,
        "seconds": 49,
        "year": 2017
       }
      }
     },
     "8a277df30e3c4aa09930a8fd9781e878": {
      "model_module": "jupyter-js-widgets",
      "model_module_version": "~2.1.4",
      "model_name": "LayoutModel",
      "state": {
       "_model_module_version": "~2.1.4",
       "_view_module_version": "~2.1.4"
      }
     },
     "8a3cea290eb44b199b70f8e29f4b193c": {
      "model_module": "jupyter-js-widgets",
      "model_module_version": "~2.1.4",
      "model_name": "LayoutModel",
      "state": {
       "_model_module_version": "~2.1.4",
       "_view_module_version": "~2.1.4"
      }
     },
     "8a4daf9a29bb4cfdb0e82f31ba86163f": {
      "model_module": "jupyter-js-widgets",
      "model_module_version": "~2.1.4",
      "model_name": "LayoutModel",
      "state": {
       "_model_module_version": "~2.1.4",
       "_view_module_version": "~2.1.4"
      }
     },
     "8abc298e6e1241c9b02eb2120577229b": {
      "model_module": "jupyter-js-widgets",
      "model_module_version": "~2.1.4",
      "model_name": "OutputModel",
      "state": {
       "_dom_classes": [],
       "_model_module": "jupyter-js-widgets",
       "_model_module_version": "~2.1.4",
       "_view_module": "jupyter-js-widgets",
       "_view_module_version": "~2.1.4",
       "layout": "IPY_MODEL_d6495df8b3234271856ec30ba11289e8",
       "msg_throttle": 1
      }
     },
     "8b9264aabdc045529708f21333dab35a": {
      "model_module": "jupyter-js-widgets",
      "model_module_version": "~2.1.4",
      "model_name": "DatePickerModel",
      "state": {
       "_model_module_version": "~2.1.4",
       "_view_module_version": "~2.1.4",
       "description": "Date begin",
       "layout": "IPY_MODEL_01c5dc1eb48b4dd2aea3c2ec5e5a4f85",
       "value": {
        "date": 18,
        "hours": 0,
        "milliseconds": 0,
        "minutes": 0,
        "month": 9,
        "seconds": 0,
        "year": 2017
       }
      }
     },
     "8bc1f55a28e24221a29c0678deeda38b": {
      "model_module": "jupyter-js-widgets",
      "model_module_version": "~2.1.4",
      "model_name": "VBoxModel",
      "state": {
       "_dom_classes": [
        "widget-interact"
       ],
       "_model_module_version": "~2.1.4",
       "_view_module_version": "~2.1.4",
       "children": [
        "IPY_MODEL_adbb9c5e12424f248983f133df9f7cad",
        "IPY_MODEL_42f03d748ef044ff8875dcdf172332eb",
        "IPY_MODEL_0f26484eb16f449a837fca75856100a1",
        "IPY_MODEL_3d7e4d006a2e4680a34a7a25d5c2bf3f",
        "IPY_MODEL_bc34bf629fea418bb198f4815bc99bd8"
       ],
       "layout": "IPY_MODEL_1d4b3490a5804f60a36c1fd9f09e5ed5"
      }
     },
     "8cc8763981c047eb83ea79ab0efcc339": {
      "model_module": "jupyter-js-widgets",
      "model_module_version": "~2.1.4",
      "model_name": "LayoutModel",
      "state": {
       "_model_module_version": "~2.1.4",
       "_view_module_version": "~2.1.4"
      }
     },
     "8d3ff4f156a143cda8c9e4f447587f8d": {
      "model_module": "jupyter-js-widgets",
      "model_module_version": "~2.1.4",
      "model_name": "LayoutModel",
      "state": {
       "_model_module_version": "~2.1.4",
       "_view_module_version": "~2.1.4"
      }
     },
     "8d75bf3f506f455986dcc01acfd02a30": {
      "model_module": "jupyter-js-widgets",
      "model_module_version": "~2.1.4",
      "model_name": "DropdownModel",
      "state": {
       "_model_module_version": "~2.1.4",
       "_options_labels": [
        "line"
       ],
       "_view_module_version": "~2.1.4",
       "description": "widget",
       "layout": "IPY_MODEL_3fbe0f3b587648228ea7468f9066b462",
       "value": "line"
      }
     },
     "8ec9e643cbde4518b4d4f70ae65beec5": {
      "model_module": "jupyter-js-widgets",
      "model_module_version": "~2.1.4",
      "model_name": "LayoutModel",
      "state": {
       "_model_module_version": "~2.1.4",
       "_view_module_version": "~2.1.4"
      }
     },
     "8ee77a61d3e148a88f14569794bb837a": {
      "model_module": "jupyter-js-widgets",
      "model_module_version": "~2.1.4",
      "model_name": "DropdownModel",
      "state": {
       "_model_module_version": "~2.1.4",
       "_options_labels": [
        "Afghanistan",
        "Brazil",
        "Custom area"
       ],
       "_view_module_version": "~2.1.4",
       "description": "Geostore",
       "layout": "IPY_MODEL_993369f2dcbe4eb6adcd5cc8341ddebc",
       "value": "Afghanistan"
      }
     },
     "8f7900c289034f3e8011e0b172d42306": {
      "model_module": "jupyter-js-widgets",
      "model_module_version": "~2.1.4",
      "model_name": "DatePickerModel",
      "state": {
       "_model_module_version": "~2.1.4",
       "_view_module_version": "~2.1.4",
       "description": "Date begin",
       "layout": "IPY_MODEL_4a69ffe3958548d88a36a08dbee82c63",
       "value": {
        "date": 18,
        "hours": 0,
        "milliseconds": 0,
        "minutes": 0,
        "month": 9,
        "seconds": 0,
        "year": 2017
       }
      }
     },
     "8f934b8ac4374b49a1b98ed32c74ad1b": {
      "model_module": "jupyter-js-widgets",
      "model_module_version": "~2.1.4",
      "model_name": "VBoxModel",
      "state": {
       "_dom_classes": [
        "widget-interact"
       ],
       "_model_module_version": "~2.1.4",
       "_view_module_version": "~2.1.4",
       "children": [
        "IPY_MODEL_35ab09ae9cfa470696ca0fd45278c866",
        "IPY_MODEL_359d2b1c396f45f68430b68de64a6f02",
        "IPY_MODEL_3158de1e861f4a9297733cfb88c0d462",
        "IPY_MODEL_1ac947b7e07043acae33ea8a72383c8e",
        "IPY_MODEL_8178b62710704a73a2befe2f6e1831f8"
       ],
       "layout": "IPY_MODEL_8ec9e643cbde4518b4d4f70ae65beec5"
      }
     },
     "8f9fd479a51240a68b74833b55451484": {
      "model_module": "jupyter-js-widgets",
      "model_module_version": "~2.1.4",
      "model_name": "LayoutModel",
      "state": {
       "_model_module_version": "~2.1.4",
       "_view_module_version": "~2.1.4"
      }
     },
     "91387a7951864679b28ca3a4fa4fe8a4": {
      "model_module": "jupyter-js-widgets",
      "model_module_version": "~2.1.4",
      "model_name": "LayoutModel",
      "state": {
       "_model_module_version": "~2.1.4",
       "_view_module_version": "~2.1.4"
      }
     },
     "9142537da53141b28f2497562c4db924": {
      "model_module": "jupyter-js-widgets",
      "model_module_version": "~2.1.4",
      "model_name": "LayoutModel",
      "state": {
       "_model_module_version": "~2.1.4",
       "_view_module_version": "~2.1.4"
      }
     },
     "918369f0c0a24cd189bacfcb9fc22596": {
      "model_module": "jupyter-js-widgets",
      "model_module_version": "~2.1.4",
      "model_name": "LayoutModel",
      "state": {
       "_model_module_version": "~2.1.4",
       "_view_module_version": "~2.1.4"
      }
     },
     "918907d2a7274ebfa73960866b6e2701": {
      "model_module": "jupyter-js-widgets",
      "model_module_version": "~2.1.4",
      "model_name": "DatePickerModel",
      "state": {
       "_model_module_version": "~2.1.4",
       "_view_module_version": "~2.1.4",
       "description": "Date end",
       "layout": "IPY_MODEL_5f6501e04b6e47e898dd61c5e06053e9",
       "value": {
        "date": 24,
        "hours": 13,
        "milliseconds": 966,
        "minutes": 9,
        "month": 9,
        "seconds": 24,
        "year": 2017
       }
      }
     },
     "91c4ecce654b4f4ab78da571336949ee": {
      "model_module": "jupyter-js-widgets",
      "model_module_version": "~2.1.4",
      "model_name": "LayoutModel",
      "state": {
       "_model_module_version": "~2.1.4",
       "_view_module_version": "~2.1.4"
      }
     },
     "91dba4ef1c6e4edc87a57ccfbadae77d": {
      "model_module": "jupyter-js-widgets",
      "model_module_version": "~2.1.4",
      "model_name": "TextareaModel",
      "state": {
       "_model_module_version": "~2.1.4",
       "_view_module_version": "~2.1.4",
       "description": "Query:",
       "layout": "IPY_MODEL_66c2e25eb6484bb8b55d0fd94f410aa6",
       "value": "SELECT acq_date as x, count(acq_date) as y FROM vnp14imgtdl_nrt_global_7d WHERE acq_date >='{date_begin}' and acq_date < '{date_end}' group by acq_date order by acq_date asc"
      }
     },
     "92a9b2460a0b409f9cf608f6e8fb5b21": {
      "model_module": "jupyter-js-widgets",
      "model_module_version": "~2.1.4",
      "model_name": "LayoutModel",
      "state": {
       "_model_module_version": "~2.1.4",
       "_view_module_version": "~2.1.4"
      }
     },
     "93548911d802419388801c7902184271": {
      "model_module": "jupyter-js-widgets",
      "model_module_version": "~2.1.4",
      "model_name": "LayoutModel",
      "state": {
       "_model_module_version": "~2.1.4",
       "_view_module_version": "~2.1.4",
       "align_items": "stretch",
       "display": "flex",
       "flex_flow": "row",
       "width": "100%"
      }
     },
     "93cf4d0805e14744b82557d5afcc17af": {
      "model_module": "jupyter-js-widgets",
      "model_module_version": "~2.1.4",
      "model_name": "LayoutModel",
      "state": {
       "_model_module_version": "~2.1.4",
       "_view_module_version": "~2.1.4"
      }
     },
     "93f5cf3928a1440591a8eb697fd0ed57": {
      "model_module": "jupyter-js-widgets",
      "model_module_version": "~2.1.4",
      "model_name": "LayoutModel",
      "state": {
       "_model_module_version": "~2.1.4",
       "_view_module_version": "~2.1.4"
      }
     },
     "946b494e3cde43e48aae8213a238ad4b": {
      "model_module": "jupyter-js-widgets",
      "model_module_version": "~2.1.4",
      "model_name": "LayoutModel",
      "state": {
       "_model_module_version": "~2.1.4",
       "_view_module_version": "~2.1.4"
      }
     },
     "955f1515b0904f62abd7eda66d8636ce": {
      "model_module": "jupyter-js-widgets",
      "model_module_version": "~2.1.4",
      "model_name": "DropdownModel",
      "state": {
       "_model_module_version": "~2.1.4",
       "_options_labels": [
        "Afghanistan",
        "Brazil",
        "Custom area"
       ],
       "_view_module_version": "~2.1.4",
       "description": "Geostore",
       "layout": "IPY_MODEL_de2dce6aa5bf4f858ad95e18dcbcdd1f",
       "value": "Afghanistan"
      }
     },
     "95fe6999bda5487891939ee70164ed48": {
      "model_module": "jupyter-js-widgets",
      "model_module_version": "~2.1.4",
      "model_name": "DatePickerModel",
      "state": {
       "_model_module_version": "~2.1.4",
       "_view_module_version": "~2.1.4",
       "description": "Date end",
       "layout": "IPY_MODEL_a26a768a47a54d308c67d500667a720a",
       "value": {
        "date": 24,
        "hours": 13,
        "milliseconds": 592,
        "minutes": 12,
        "month": 9,
        "seconds": 25,
        "year": 2017
       }
      }
     },
     "9607db72cee641e99306f38fd4aad0c0": {
      "model_module": "jupyter-js-widgets",
      "model_module_version": "~2.1.4",
      "model_name": "LayoutModel",
      "state": {
       "_model_module_version": "~2.1.4",
       "_view_module_version": "~2.1.4"
      }
     },
     "962a9dd130c8484086bfd89437290b9d": {
      "model_module": "jupyter-js-widgets",
      "model_module_version": "~2.1.4",
      "model_name": "LayoutModel",
      "state": {
       "_model_module_version": "~2.1.4",
       "_view_module_version": "~2.1.4"
      }
     },
     "962ab7afd8a44d25ac0b7444259c2024": {
      "model_module": "jupyter-js-widgets",
      "model_module_version": "~2.1.4",
      "model_name": "OutputModel",
      "state": {
       "_dom_classes": [],
       "_model_module": "jupyter-js-widgets",
       "_model_module_version": "~2.1.4",
       "_view_module": "jupyter-js-widgets",
       "_view_module_version": "~2.1.4",
       "layout": "IPY_MODEL_530b85ab552f4f5dbe18af310985afba",
       "msg_throttle": 1
      }
     },
     "970e34c21de74174970707d8550df74f": {
      "model_module": "jupyter-js-widgets",
      "model_module_version": "~2.1.4",
      "model_name": "LayoutModel",
      "state": {
       "_model_module_version": "~2.1.4",
       "_view_module_version": "~2.1.4"
      }
     },
     "971a2f0c24ad4a6c9fecb91bafa486df": {
      "model_module": "jupyter-js-widgets",
      "model_module_version": "~2.1.4",
      "model_name": "LayoutModel",
      "state": {
       "_model_module_version": "~2.1.4",
       "_view_module_version": "~2.1.4"
      }
     },
     "976ed76e8d584727be2e16298bbd1680": {
      "model_module": "jupyter-js-widgets",
      "model_module_version": "~2.1.4",
      "model_name": "DatePickerModel",
      "state": {
       "_model_module_version": "~2.1.4",
       "_view_module_version": "~2.1.4",
       "description": "Date begin",
       "layout": "IPY_MODEL_b1f0d9e17d5241498d0af20469816711",
       "value": {
        "date": 18,
        "hours": 0,
        "milliseconds": 0,
        "minutes": 0,
        "month": 9,
        "seconds": 0,
        "year": 2017
       }
      }
     },
     "97c308ca67bb4c81a3ce8dd6243747b3": {
      "model_module": "jupyter-js-widgets",
      "model_module_version": "~2.1.4",
      "model_name": "LayoutModel",
      "state": {
       "_model_module_version": "~2.1.4",
       "_view_module_version": "~2.1.4"
      }
     },
     "97f1529b4d9c422babe571b83ea275c3": {
      "model_module": "jupyter-js-widgets",
      "model_module_version": "~2.1.4",
      "model_name": "LayoutModel",
      "state": {
       "_model_module_version": "~2.1.4",
       "_view_module_version": "~2.1.4"
      }
     },
     "981dc2cd96844079a14ab86bace9a2fd": {
      "model_module": "jupyter-js-widgets",
      "model_module_version": "~2.1.4",
      "model_name": "DatePickerModel",
      "state": {
       "_model_module_version": "~2.1.4",
       "_view_module_version": "~2.1.4",
       "description": "Date end",
       "layout": "IPY_MODEL_51571cfe9fff428abbc0f5f3878ca610",
       "value": {
        "date": 23,
        "hours": 18,
        "milliseconds": 807,
        "minutes": 2,
        "month": 9,
        "seconds": 32,
        "year": 2017
       }
      }
     },
     "98d17be10e224500b5f42878a96fe957": {
      "model_module": "jupyter-js-widgets",
      "model_module_version": "~2.1.4",
      "model_name": "DropdownModel",
      "state": {
       "_model_module_version": "~2.1.4",
       "_options_labels": [
        "Afghanistan",
        "Brazil",
        "Custom area"
       ],
       "_view_module_version": "~2.1.4",
       "description": "geostore",
       "layout": "IPY_MODEL_2d99f3d99cb94808b9030eb94ced0179",
       "value": "Afghanistan"
      }
     },
     "993369f2dcbe4eb6adcd5cc8341ddebc": {
      "model_module": "jupyter-js-widgets",
      "model_module_version": "~2.1.4",
      "model_name": "LayoutModel",
      "state": {
       "_model_module_version": "~2.1.4",
       "_view_module_version": "~2.1.4"
      }
     },
     "999e2d8b4b5d44b28a8a6b7201e688f8": {
      "model_module": "jupyter-js-widgets",
      "model_module_version": "~2.1.4",
      "model_name": "OutputModel",
      "state": {
       "_dom_classes": [],
       "_model_module": "jupyter-js-widgets",
       "_model_module_version": "~2.1.4",
       "_view_module": "jupyter-js-widgets",
       "_view_module_version": "~2.1.4",
       "layout": "IPY_MODEL_f2dbbe8e37744f1386ec02f0e0b0c3e8",
       "msg_throttle": 1
      }
     },
     "9aa545984449475d8b02d779212698cb": {
      "model_module": "jupyter-js-widgets",
      "model_module_version": "~2.1.4",
      "model_name": "DropdownModel",
      "state": {
       "_model_module_version": "~2.1.4",
       "_options_labels": [
        "Afghanistan",
        "Brazil",
        "Custom area"
       ],
       "_view_module_version": "~2.1.4",
       "description": "geostore",
       "layout": "IPY_MODEL_d55f6abad6d144fba2a68dabeac5ec0e",
       "value": "Custom area"
      }
     },
     "9ad0bb99765545498ace49036bc7c0e5": {
      "model_module": "jupyter-js-widgets",
      "model_module_version": "~2.1.4",
      "model_name": "LayoutModel",
      "state": {
       "_model_module_version": "~2.1.4",
       "_view_module_version": "~2.1.4"
      }
     },
     "9adf40c6ff134ca9b26eb1f17e7a5672": {
      "model_module": "jupyter-js-widgets",
      "model_module_version": "~2.1.4",
      "model_name": "DatePickerModel",
      "state": {
       "_model_module_version": "~2.1.4",
       "_view_module_version": "~2.1.4",
       "description": "Date end",
       "layout": "IPY_MODEL_388e4d699c1b4edeb9b12ea515d31cea",
       "value": {
        "date": 24,
        "hours": 13,
        "milliseconds": 317,
        "minutes": 54,
        "month": 9,
        "seconds": 48,
        "year": 2017
       }
      }
     },
     "9c12e77ad811416eb104df13b4162dcf": {
      "model_module": "jupyter-js-widgets",
      "model_module_version": "~2.1.4",
      "model_name": "LayoutModel",
      "state": {
       "_model_module_version": "~2.1.4",
       "_view_module_version": "~2.1.4"
      }
     },
     "9c6286386d934c97b8cfd16699970cee": {
      "model_module": "jupyter-js-widgets",
      "model_module_version": "~2.1.4",
      "model_name": "DropdownModel",
      "state": {
       "_model_module_version": "~2.1.4",
       "_options_labels": [
        "Afghanistan",
        "Brazil",
        "Custom area"
       ],
       "_view_module_version": "~2.1.4",
       "description": "geostore",
       "layout": "IPY_MODEL_5b489150b3104579bef9ec3234abebc0",
       "value": "Afghanistan"
      }
     },
     "9cd1b393cab944f1a839df9b442d43b8": {
      "model_module": "jupyter-js-widgets",
      "model_module_version": "~2.1.4",
      "model_name": "LayoutModel",
      "state": {
       "_model_module_version": "~2.1.4",
       "_view_module_version": "~2.1.4"
      }
     },
     "9d59f2af461f4b9585ed3348e195c080": {
      "model_module": "jupyter-js-widgets",
      "model_module_version": "~2.1.4",
      "model_name": "DropdownModel",
      "state": {
       "_model_module_version": "~2.1.4",
       "_options_labels": [
        "Afghanistan",
        "Brazil",
        "Custom area"
       ],
       "_view_module_version": "~2.1.4",
       "description": "geostore",
       "layout": "IPY_MODEL_9c12e77ad811416eb104df13b4162dcf",
       "value": "Afghanistan"
      }
     },
     "9e886e9c0ff54e0b8ff2ca972708e62c": {
      "model_module": "jupyter-js-widgets",
      "model_module_version": "~2.1.4",
      "model_name": "DatePickerModel",
      "state": {
       "_model_module_version": "~2.1.4",
       "_view_module_version": "~2.1.4",
       "description": "Date begin",
       "layout": "IPY_MODEL_634e0826b43e4d12a9b89fe6506ccfde",
       "value": {
        "date": 1,
        "hours": 0,
        "milliseconds": 0,
        "minutes": 0,
        "month": 0,
        "seconds": 0,
        "year": 2017
       }
      }
     },
     "9ec2655538044144965bb8ad3617846c": {
      "model_module": "jupyter-js-widgets",
      "model_module_version": "~2.1.4",
      "model_name": "TextareaModel",
      "state": {
       "_model_module_version": "~2.1.4",
       "_view_module_version": "~2.1.4",
       "description": "Url to query:",
       "layout": "IPY_MODEL_8885ef2c395b465d8b9e38ae844e7434",
       "value": "https://api.resourcewatch.org/v1/query/20cc5eca-8c63-4c41-8e8e-134dcf1e6d76?sql={0}"
      }
     },
     "9ee0344332a5420a8b9167821ea9c2db": {
      "model_module": "jupyter-js-widgets",
      "model_module_version": "~2.1.4",
      "model_name": "VBoxModel",
      "state": {
       "_dom_classes": [
        "widget-interact"
       ],
       "_model_module_version": "~2.1.4",
       "_view_module_version": "~2.1.4",
       "children": [
        "IPY_MODEL_c1a0a322c325430ba61743742db1da01",
        "IPY_MODEL_7ee1b5518d904636974d55e587148a21",
        "IPY_MODEL_6624c10e952040c3a7fc30f94bcc9f37",
        "IPY_MODEL_0ddae125cf0248899e1fd46b1f3331d3",
        "IPY_MODEL_485ccf7343264547a332967ae9fc3d62",
        "IPY_MODEL_5a49688c86014983ab11193396f66da3",
        "IPY_MODEL_ab2099a39fcf4a699cf7c1fa7cd1746f"
       ],
       "layout": "IPY_MODEL_f7c22263ca3c4489846fc42ef479c40e"
      }
     },
     "9fe142d7db5e43f5aaeaa25e37f6550e": {
      "model_module": "jupyter-js-widgets",
      "model_module_version": "~2.1.4",
      "model_name": "LayoutModel",
      "state": {
       "_model_module_version": "~2.1.4",
       "_view_module_version": "~2.1.4"
      }
     },
     "a25b8c3b1aad42faa9bc8933995e2ffa": {
      "model_module": "jupyter-js-widgets",
      "model_module_version": "~2.1.4",
      "model_name": "LayoutModel",
      "state": {
       "_model_module_version": "~2.1.4",
       "_view_module_version": "~2.1.4"
      }
     },
     "a26a768a47a54d308c67d500667a720a": {
      "model_module": "jupyter-js-widgets",
      "model_module_version": "~2.1.4",
      "model_name": "LayoutModel",
      "state": {
       "_model_module_version": "~2.1.4",
       "_view_module_version": "~2.1.4"
      }
     },
     "a270f6cec92446aa86540e414abadd50": {
      "model_module": "jupyter-js-widgets",
      "model_module_version": "~2.1.4",
      "model_name": "DropdownModel",
      "state": {
       "_model_module_version": "~2.1.4",
       "_options_labels": [
        "line",
        "bar"
       ],
       "_view_module_version": "~2.1.4",
       "description": "Widget type:",
       "layout": "IPY_MODEL_537b90070abe4c27942766eefca6dee8",
       "value": "bar"
      }
     },
     "a276cfc1b8374e3baee5ca319e1714c5": {
      "model_module": "jupyter-js-widgets",
      "model_module_version": "~2.1.4",
      "model_name": "LayoutModel",
      "state": {
       "_model_module_version": "~2.1.4",
       "_view_module_version": "~2.1.4"
      }
     },
     "a3e66469cba648258ef2418815e1a0b9": {
      "model_module": "jupyter-js-widgets",
      "model_module_version": "~2.1.4",
      "model_name": "DatePickerModel",
      "state": {
       "_model_module_version": "~2.1.4",
       "_view_module_version": "~2.1.4",
       "description": "Date begin",
       "layout": "IPY_MODEL_3a27a346b4784e6e8a1c41653650da15",
       "value": {
        "date": 18,
        "hours": 0,
        "milliseconds": 0,
        "minutes": 0,
        "month": 9,
        "seconds": 0,
        "year": 2017
       }
      }
     },
     "a3ebc9011fda4a829725a967968ae97d": {
      "model_module": "jupyter-js-widgets",
      "model_module_version": "~2.1.4",
      "model_name": "LayoutModel",
      "state": {
       "_model_module_version": "~2.1.4",
       "_view_module_version": "~2.1.4"
      }
     },
     "a469dd53f3914f458e7fb06f4a6273d3": {
      "model_module": "jupyter-js-widgets",
      "model_module_version": "~2.1.4",
      "model_name": "LayoutModel",
      "state": {
       "_model_module_version": "~2.1.4",
       "_view_module_version": "~2.1.4"
      }
     },
     "a4ead971be2e470697a24589d32eb19b": {
      "model_module": "jupyter-js-widgets",
      "model_module_version": "~2.1.4",
      "model_name": "LayoutModel",
      "state": {
       "_model_module_version": "~2.1.4",
       "_view_module_version": "~2.1.4"
      }
     },
     "a55a85fe61194dca99fc3e351446499e": {
      "model_module": "jupyter-js-widgets",
      "model_module_version": "~2.1.4",
      "model_name": "DropdownModel",
      "state": {
       "_model_module_version": "~2.1.4",
       "_options_labels": [
        "Afghanistan",
        "Brazil",
        "Custom area"
       ],
       "_view_module_version": "~2.1.4",
       "description": "geostore",
       "layout": "IPY_MODEL_163a1d9594e2461d8c0907d8be3d1701",
       "value": "Afghanistan"
      }
     },
     "a57306055af0494cb0c2506197d457a1": {
      "model_module": "jupyter-js-widgets",
      "model_module_version": "~2.1.4",
      "model_name": "LayoutModel",
      "state": {
       "_model_module_version": "~2.1.4",
       "_view_module_version": "~2.1.4"
      }
     },
     "a5abdff6f70f4e02ac23e9cd3e3e3525": {
      "model_module": "jupyter-js-widgets",
      "model_module_version": "~2.1.4",
      "model_name": "DatePickerModel",
      "state": {
       "_model_module_version": "~2.1.4",
       "_view_module_version": "~2.1.4",
       "description": "Date begin",
       "layout": "IPY_MODEL_47dab9ff673c4b6b86c8bfb57a17cd29",
       "value": {
        "date": 18,
        "hours": 0,
        "milliseconds": 0,
        "minutes": 0,
        "month": 9,
        "seconds": 0,
        "year": 2017
       }
      }
     },
     "a697f54bca634a998342a4f6678ddfeb": {
      "model_module": "jupyter-js-widgets",
      "model_module_version": "~2.1.4",
      "model_name": "DatePickerModel",
      "state": {
       "_model_module_version": "~2.1.4",
       "_view_module_version": "~2.1.4",
       "description": "Date end",
       "layout": "IPY_MODEL_edf6041f52c646dda471b3863af74939",
       "value": {
        "date": 24,
        "hours": 13,
        "milliseconds": 476,
        "minutes": 11,
        "month": 9,
        "seconds": 38,
        "year": 2017
       }
      }
     },
     "a731bb64fbb344e8bb61da22885b5665": {
      "model_module": "jupyter-js-widgets",
      "model_module_version": "~2.1.4",
      "model_name": "LayoutModel",
      "state": {
       "_model_module_version": "~2.1.4",
       "_view_module_version": "~2.1.4",
       "align_items": "stretch",
       "display": "flex",
       "flex_flow": "row",
       "width": "100%"
      }
     },
     "a73e5b57b9464bc886158c2d49fbc8c0": {
      "model_module": "jupyter-js-widgets",
      "model_module_version": "~2.1.4",
      "model_name": "LayoutModel",
      "state": {
       "_model_module_version": "~2.1.4",
       "_view_module_version": "~2.1.4"
      }
     },
     "a775600dc60c4680ac95fe6ae4a42d8b": {
      "model_module": "jupyter-js-widgets",
      "model_module_version": "~2.1.4",
      "model_name": "LayoutModel",
      "state": {
       "_model_module_version": "~2.1.4",
       "_view_module_version": "~2.1.4"
      }
     },
     "a7bfa05dbad64beab122cd211f5ed21e": {
      "model_module": "jupyter-js-widgets",
      "model_module_version": "~2.1.4",
      "model_name": "DatePickerModel",
      "state": {
       "_model_module_version": "~2.1.4",
       "_view_module_version": "~2.1.4",
       "description": "Date begin",
       "layout": "IPY_MODEL_1e3ac02229ce42fa8a9a3b193ddbc2a9",
       "value": {
        "date": 1,
        "hours": 0,
        "milliseconds": 0,
        "minutes": 0,
        "month": 0,
        "seconds": 0,
        "year": 2017
       }
      }
     },
     "a7da19eb6511499297c84423ed0ffb25": {
      "model_module": "jupyter-js-widgets",
      "model_module_version": "~2.1.4",
      "model_name": "DropdownModel",
      "state": {
       "_model_module_version": "~2.1.4",
       "_options_labels": [
        "Afghanistan",
        "Brazil",
        "Custom area"
       ],
       "_view_module_version": "~2.1.4",
       "description": "geostore",
       "layout": "IPY_MODEL_93cf4d0805e14744b82557d5afcc17af",
       "value": "Afghanistan"
      }
     },
     "a8160b4ed11b4ec786bdfb7b4b0b82a9": {
      "model_module": "jupyter-js-widgets",
      "model_module_version": "~2.1.4",
      "model_name": "DropdownModel",
      "state": {
       "_model_module_version": "~2.1.4",
       "_options_labels": [
        "line",
        "bar"
       ],
       "_view_module_version": "~2.1.4",
       "description": "Widget type:",
       "layout": "IPY_MODEL_4a34b00e9e79434fafa01fdc5d1a8198",
       "value": "line"
      }
     },
     "a84dfbe1ba064c5687b5292f55c7537f": {
      "model_module": "jupyter-js-widgets",
      "model_module_version": "~2.1.4",
      "model_name": "DropdownModel",
      "state": {
       "_model_module_version": "~2.1.4",
       "_options_labels": [
        "Afghanistan",
        "Brazil",
        "Custom area"
       ],
       "_view_module_version": "~2.1.4",
       "description": "geostore",
       "layout": "IPY_MODEL_7f9d29d34a0e4433a1f62df1aec62e4b",
       "value": "Afghanistan"
      }
     },
     "a8588153f1c7459dbb0a45a60b5ab092": {
      "model_module": "jupyter-js-widgets",
      "model_module_version": "~2.1.4",
      "model_name": "TextareaModel",
      "state": {
       "_model_module_version": "~2.1.4",
       "_view_module_version": "~2.1.4",
       "description": "Query:",
       "layout": "IPY_MODEL_22603e9e8ef84c15aacb3d4ba0b0bd15",
       "value": "SELECT acq_date as x, count(acq_date) as y FROM vnp14imgtdl_nrt_global_7d WHERE acq_date >='{date_begin}' and acq_date < '{date_end}' group by acq_date order by acq_date asc"
      }
     },
     "a951734e1439413db8588cf662c75267": {
      "model_module": "jupyter-js-widgets",
      "model_module_version": "~2.1.4",
      "model_name": "LayoutModel",
      "state": {
       "_model_module_version": "~2.1.4",
       "_view_module_version": "~2.1.4"
      }
     },
     "a99115293ba54a88bc1e22b8b05a4aad": {
      "model_module": "jupyter-js-widgets",
      "model_module_version": "~2.1.4",
      "model_name": "DatePickerModel",
      "state": {
       "_model_module_version": "~2.1.4",
       "_view_module_version": "~2.1.4",
       "description": "Date begin",
       "layout": "IPY_MODEL_091ed6bf534741399f6b57934e4cd7a7",
       "value": {
        "date": 18,
        "hours": 0,
        "milliseconds": 0,
        "minutes": 0,
        "month": 9,
        "seconds": 0,
        "year": 2017
       }
      }
     },
     "a9b1843e0b144f1491c237e109e05aab": {
      "model_module": "jupyter-js-widgets",
      "model_module_version": "~2.1.4",
      "model_name": "LayoutModel",
      "state": {
       "_model_module_version": "~2.1.4",
       "_view_module_version": "~2.1.4"
      }
     },
     "aac107bdffff48e6bf9382dc47e7fbd5": {
      "model_module": "jupyter-js-widgets",
      "model_module_version": "~2.1.4",
      "model_name": "OutputModel",
      "state": {
       "_dom_classes": [],
       "_model_module": "jupyter-js-widgets",
       "_model_module_version": "~2.1.4",
       "_view_module": "jupyter-js-widgets",
       "_view_module_version": "~2.1.4",
       "layout": "IPY_MODEL_187201959ce64a388c542f6c5277b916",
       "msg_throttle": 1
      }
     },
     "aace1c00c3de4681bd9c8230e3b2aee0": {
      "model_module": "jupyter-js-widgets",
      "model_module_version": "~2.1.4",
      "model_name": "DatePickerModel",
      "state": {
       "_model_module_version": "~2.1.4",
       "_view_module_version": "~2.1.4",
       "description": "Date end",
       "layout": "IPY_MODEL_17a6e23df91c460aa296f6fb7c23e9a5",
       "value": {
        "date": 24,
        "hours": 13,
        "milliseconds": 874,
        "minutes": 27,
        "month": 9,
        "seconds": 31,
        "year": 2017
       }
      }
     },
     "ab2099a39fcf4a699cf7c1fa7cd1746f": {
      "model_module": "jupyter-js-widgets",
      "model_module_version": "~2.1.4",
      "model_name": "OutputModel",
      "state": {
       "_dom_classes": [],
       "_model_module": "jupyter-js-widgets",
       "_model_module_version": "~2.1.4",
       "_view_module": "jupyter-js-widgets",
       "_view_module_version": "~2.1.4",
       "layout": "IPY_MODEL_1eca18a8c7c04733a49afe4aa7f0f0e6",
       "msg_throttle": 1
      }
     },
     "abb49182886c4fa88fc9dfe86d3f741f": {
      "model_module": "jupyter-js-widgets",
      "model_module_version": "~2.1.4",
      "model_name": "LayoutModel",
      "state": {
       "_model_module_version": "~2.1.4",
       "_view_module_version": "~2.1.4"
      }
     },
     "ac150d59a03c4940ae345bef4c6b74e1": {
      "model_module": "jupyter-js-widgets",
      "model_module_version": "~2.1.4",
      "model_name": "LayoutModel",
      "state": {
       "_model_module_version": "~2.1.4",
       "_view_module_version": "~2.1.4"
      }
     },
     "ac9ec659bbaf4505bccfab87af926822": {
      "model_module": "jupyter-js-widgets",
      "model_module_version": "~2.1.4",
      "model_name": "LayoutModel",
      "state": {
       "_model_module_version": "~2.1.4",
       "_view_module_version": "~2.1.4"
      }
     },
     "ad47712663de4c0e8a56d1b740d4cbbe": {
      "model_module": "jupyter-js-widgets",
      "model_module_version": "~2.1.4",
      "model_name": "DatePickerModel",
      "state": {
       "_model_module_version": "~2.1.4",
       "_view_module_version": "~2.1.4",
       "description": "Date begin",
       "layout": "IPY_MODEL_f667bf8e363b446e87c1b5ad4c95092f",
       "value": {
        "date": 18,
        "hours": 0,
        "milliseconds": 0,
        "minutes": 0,
        "month": 9,
        "seconds": 0,
        "year": 2017
       }
      }
     },
     "adbb9c5e12424f248983f133df9f7cad": {
      "model_module": "jupyter-js-widgets",
      "model_module_version": "~2.1.4",
      "model_name": "DropdownModel",
      "state": {
       "_model_module_version": "~2.1.4",
       "_options_labels": [
        "line"
       ],
       "_view_module_version": "~2.1.4",
       "description": "widget",
       "layout": "IPY_MODEL_01d2fcdc9c5e46489e0620d759b4336f",
       "value": "line"
      }
     },
     "aed1e9e598fd4286906242bfa774114d": {
      "model_module": "jupyter-js-widgets",
      "model_module_version": "~2.1.4",
      "model_name": "LayoutModel",
      "state": {
       "_model_module_version": "~2.1.4",
       "_view_module_version": "~2.1.4"
      }
     },
     "aee77664aebb4ca5ad44c9b7dc1283d4": {
      "model_module": "jupyter-js-widgets",
      "model_module_version": "~2.1.4",
      "model_name": "OutputModel",
      "state": {
       "_dom_classes": [],
       "_model_module": "jupyter-js-widgets",
       "_model_module_version": "~2.1.4",
       "_view_module": "jupyter-js-widgets",
       "_view_module_version": "~2.1.4",
       "layout": "IPY_MODEL_aed1e9e598fd4286906242bfa774114d",
       "msg_throttle": 1
      }
     },
     "af32b956bdc847489ffcb7c2a72dd85e": {
      "model_module": "jupyter-js-widgets",
      "model_module_version": "~2.1.4",
      "model_name": "LayoutModel",
      "state": {
       "_model_module_version": "~2.1.4",
       "_view_module_version": "~2.1.4"
      }
     },
     "af84a5f99afd4e7796c782caf280f6f7": {
      "model_module": "jupyter-js-widgets",
      "model_module_version": "~2.1.4",
      "model_name": "DatePickerModel",
      "state": {
       "_model_module_version": "~2.1.4",
       "_view_module_version": "~2.1.4",
       "description": "Date begin",
       "layout": "IPY_MODEL_4d9de54ae2c34cb783f537f1590f6c9c",
       "value": {
        "date": 18,
        "hours": 0,
        "milliseconds": 0,
        "minutes": 0,
        "month": 9,
        "seconds": 0,
        "year": 2017
       }
      }
     },
     "af84de9bcba24ba9aaa7791ffe3244c3": {
      "model_module": "jupyter-js-widgets",
      "model_module_version": "~2.1.4",
      "model_name": "LayoutModel",
      "state": {
       "_model_module_version": "~2.1.4",
       "_view_module_version": "~2.1.4"
      }
     },
     "b1dae97b22c24b7b86a25278fae1b5e7": {
      "model_module": "jupyter-js-widgets",
      "model_module_version": "~2.1.4",
      "model_name": "DropdownModel",
      "state": {
       "_model_module_version": "~2.1.4",
       "_options_labels": [
        "line"
       ],
       "_view_module_version": "~2.1.4",
       "description": "widget",
       "layout": "IPY_MODEL_92a9b2460a0b409f9cf608f6e8fb5b21",
       "value": "line"
      }
     },
     "b1ee494abbe74bbda01505b8f7ad7c3e": {
      "model_module": "jupyter-js-widgets",
      "model_module_version": "~2.1.4",
      "model_name": "DropdownModel",
      "state": {
       "_model_module_version": "~2.1.4",
       "_options_labels": [
        "Afghanistan",
        "Brazil",
        "Custom area"
       ],
       "_view_module_version": "~2.1.4",
       "description": "geostore",
       "layout": "IPY_MODEL_ee5ad468cc60479a8fe2eaa2eadcf230",
       "value": "Afghanistan"
      }
     },
     "b1f0d9e17d5241498d0af20469816711": {
      "model_module": "jupyter-js-widgets",
      "model_module_version": "~2.1.4",
      "model_name": "LayoutModel",
      "state": {
       "_model_module_version": "~2.1.4",
       "_view_module_version": "~2.1.4"
      }
     },
     "b223d2cb7a4644abbf7e5823cc71b301": {
      "model_module": "jupyter-js-widgets",
      "model_module_version": "~2.1.4",
      "model_name": "DatePickerModel",
      "state": {
       "_model_module_version": "~2.1.4",
       "_view_module_version": "~2.1.4",
       "description": "Date end",
       "layout": "IPY_MODEL_abb49182886c4fa88fc9dfe86d3f741f",
       "value": {
        "date": 24,
        "hours": 15,
        "milliseconds": 796,
        "minutes": 21,
        "month": 9,
        "seconds": 35,
        "year": 2017
       }
      }
     },
     "b25275e1d1e049d98292e7888ff40edb": {
      "model_module": "jupyter-js-widgets",
      "model_module_version": "~2.1.4",
      "model_name": "LayoutModel",
      "state": {
       "_model_module_version": "~2.1.4",
       "_view_module_version": "~2.1.4"
      }
     },
     "b2a96812714d480d8eb213d56a94c1df": {
      "model_module": "jupyter-js-widgets",
      "model_module_version": "~2.1.4",
      "model_name": "LayoutModel",
      "state": {
       "_model_module_version": "~2.1.4",
       "_view_module_version": "~2.1.4"
      }
     },
     "b30fbe091bdc4b38934860d48984eb3c": {
      "model_module": "jupyter-js-widgets",
      "model_module_version": "~2.1.4",
      "model_name": "LayoutModel",
      "state": {
       "_model_module_version": "~2.1.4",
       "_view_module_version": "~2.1.4"
      }
     },
     "b441e03a516c49f48b07fa0ee4f4bd29": {
      "model_module": "jupyter-js-widgets",
      "model_module_version": "~2.1.4",
      "model_name": "LayoutModel",
      "state": {
       "_model_module_version": "~2.1.4",
       "_view_module_version": "~2.1.4"
      }
     },
     "b53b3fe9ffee45ea895c80678461bfeb": {
      "model_module": "jupyter-js-widgets",
      "model_module_version": "~2.1.4",
      "model_name": "DropdownModel",
      "state": {
       "_model_module_version": "~2.1.4",
       "_options_labels": [
        "line"
       ],
       "_view_module_version": "~2.1.4",
       "description": "widget",
       "layout": "IPY_MODEL_d9bfaac374a54fa1a309050e859e5b60",
       "value": "line"
      }
     },
     "b6383b9a6e764ed28982ea88d59a07b4": {
      "model_module": "jupyter-js-widgets",
      "model_module_version": "~2.1.4",
      "model_name": "TextareaModel",
      "state": {
       "_model_module_version": "~2.1.4",
       "_view_module_version": "~2.1.4",
       "description": "Url to query:",
       "layout": "IPY_MODEL_8f9fd479a51240a68b74833b55451484",
       "value": "https://api.resourcewatch.org/v1/query/20cc5eca-8c63-4c41-8e8e-134dcf1e6d76?sql={0}"
      }
     },
     "b695735920604f319025f4e3cab0ac7c": {
      "model_module": "jupyter-js-widgets",
      "model_module_version": "~2.1.4",
      "model_name": "DropdownModel",
      "state": {
       "_model_module_version": "~2.1.4",
       "_options_labels": [
        "Afghanistan",
        "Brazil",
        "Custom area"
       ],
       "_view_module_version": "~2.1.4",
       "description": "geostore",
       "layout": "IPY_MODEL_51d530b3f48e4e73b825bcfe04b64675",
       "value": "Afghanistan"
      }
     },
     "b6abe25eb762423095f11a0595640e62": {
      "model_module": "jupyter-js-widgets",
      "model_module_version": "~2.1.4",
      "model_name": "TextareaModel",
      "state": {
       "_model_module_version": "~2.1.4",
       "_view_module_version": "~2.1.4",
       "description": "Query:",
       "layout": "IPY_MODEL_3f856f2d47ae47f692bc3a079440fb97",
       "value": "SELECT acq_date as x, count(acq_date) as y FROM vnp14imgtdl_nrt_global_7d WHERE acq_date >='{date_begin}' and acq_date < '{date_end}' group by acq_date order by acq_date asc"
      }
     },
     "b6d66ba3674b40eab3d407a4bafb59a2": {
      "model_module": "jupyter-js-widgets",
      "model_module_version": "~2.1.4",
      "model_name": "OutputModel",
      "state": {
       "_dom_classes": [],
       "_model_module": "jupyter-js-widgets",
       "_model_module_version": "~2.1.4",
       "_view_module": "jupyter-js-widgets",
       "_view_module_version": "~2.1.4",
       "layout": "IPY_MODEL_748e03bf05b146d285584214494509f5",
       "msg_throttle": 1
      }
     },
     "b6ddf937fcc24f31aa04e144c6017b7c": {
      "model_module": "jupyter-js-widgets",
      "model_module_version": "~2.1.4",
      "model_name": "VBoxModel",
      "state": {
       "_dom_classes": [
        "widget-interact"
       ],
       "_model_module_version": "~2.1.4",
       "_view_module_version": "~2.1.4",
       "children": [
        "IPY_MODEL_403c54275c6a4f26b4dc98364e5b7979",
        "IPY_MODEL_ee2ca140be54481d95bd1c276e0ab81c",
        "IPY_MODEL_c39705d27f8c4c5e8ee48bab5e13917b",
        "IPY_MODEL_48feea127b3644d2b0323223001bac07",
        "IPY_MODEL_5ca25e14d5184387a8597a3d5e73c49e"
       ],
       "layout": "IPY_MODEL_dbd851c7e5334fa2b4483ba3dcbf601a"
      }
     },
     "b6e3ccb45ea84c28afad2d35b56fa4f8": {
      "model_module": "jupyter-js-widgets",
      "model_module_version": "~2.1.4",
      "model_name": "LayoutModel",
      "state": {
       "_model_module_version": "~2.1.4",
       "_view_module_version": "~2.1.4"
      }
     },
     "b7016fc1f2614dbfa4ce9c76d523414d": {
      "model_module": "jupyter-js-widgets",
      "model_module_version": "~2.1.4",
      "model_name": "LayoutModel",
      "state": {
       "_model_module_version": "~2.1.4",
       "_view_module_version": "~2.1.4"
      }
     },
     "b8e3273813e541f7bde34d071d76038c": {
      "model_module": "jupyter-js-widgets",
      "model_module_version": "~2.1.4",
      "model_name": "LayoutModel",
      "state": {
       "_model_module_version": "~2.1.4",
       "_view_module_version": "~2.1.4"
      }
     },
     "bacb754666b340a79574bdacd9a3d93a": {
      "model_module": "jupyter-js-widgets",
      "model_module_version": "~2.1.4",
      "model_name": "LayoutModel",
      "state": {
       "_model_module_version": "~2.1.4",
       "_view_module_version": "~2.1.4"
      }
     },
     "bb04b88ad9804388bed1203a0964eda6": {
      "model_module": "jupyter-js-widgets",
      "model_module_version": "~2.1.4",
      "model_name": "DropdownModel",
      "state": {
       "_model_module_version": "~2.1.4",
       "_options_labels": [
        "Afghanistan",
        "Brazil",
        "Custom area"
       ],
       "_view_module_version": "~2.1.4",
       "description": "geostore",
       "layout": "IPY_MODEL_25fe2b717ad342848ba09c24fab18b01",
       "value": "Afghanistan"
      }
     },
     "bbe36276b9bc49c4a7ba494ebd6cf524": {
      "model_module": "jupyter-js-widgets",
      "model_module_version": "~2.1.4",
      "model_name": "DropdownModel",
      "state": {
       "_model_module_version": "~2.1.4",
       "_options_labels": [
        "line"
       ],
       "_view_module_version": "~2.1.4",
       "description": "widget",
       "layout": "IPY_MODEL_848ea3c185ca4e16854fcf88f0501e20",
       "value": "line"
      }
     },
     "bc34bf629fea418bb198f4815bc99bd8": {
      "model_module": "jupyter-js-widgets",
      "model_module_version": "~2.1.4",
      "model_name": "OutputModel",
      "state": {
       "_dom_classes": [],
       "_model_module": "jupyter-js-widgets",
       "_model_module_version": "~2.1.4",
       "_view_module": "jupyter-js-widgets",
       "_view_module_version": "~2.1.4",
       "layout": "IPY_MODEL_22633f2c4e9642b4b929dd05ea13a574",
       "msg_throttle": 1
      }
     },
     "bc64c224076a485a88f2b57c6fef7931": {
      "model_module": "jupyter-js-widgets",
      "model_module_version": "~2.1.4",
      "model_name": "DatePickerModel",
      "state": {
       "_model_module_version": "~2.1.4",
       "_view_module_version": "~2.1.4",
       "description": "Date begin",
       "layout": "IPY_MODEL_7c6b23680fbd4bc9a6a810929a64c40e",
       "value": {
        "date": 18,
        "hours": 0,
        "milliseconds": 0,
        "minutes": 0,
        "month": 9,
        "seconds": 0,
        "year": 2017
       }
      }
     },
     "bc78eb0d5d484be8a40ba69e0ddfd206": {
      "model_module": "jupyter-js-widgets",
      "model_module_version": "~2.1.4",
      "model_name": "LayoutModel",
      "state": {
       "_model_module_version": "~2.1.4",
       "_view_module_version": "~2.1.4",
       "align_items": "stretch",
       "display": "flex",
       "flex_flow": "row",
       "width": "100%"
      }
     },
     "bdc7fe923ec642199634ee56a040fad2": {
      "model_module": "jupyter-js-widgets",
      "model_module_version": "~2.1.4",
      "model_name": "OutputModel",
      "state": {
       "_dom_classes": [],
       "_model_module": "jupyter-js-widgets",
       "_model_module_version": "~2.1.4",
       "_view_module": "jupyter-js-widgets",
       "_view_module_version": "~2.1.4",
       "layout": "IPY_MODEL_74545677eccc41d1b6503584941e88f0",
       "msg_throttle": 1
      }
     },
     "bdf2949b9cfd402a8419ac4e649ee088": {
      "model_module": "jupyter-js-widgets",
      "model_module_version": "~2.1.4",
      "model_name": "LayoutModel",
      "state": {
       "_model_module_version": "~2.1.4",
       "_view_module_version": "~2.1.4"
      }
     },
     "be4e101e9f134dcdacb5e4aada08f7e2": {
      "model_module": "jupyter-js-widgets",
      "model_module_version": "~2.1.4",
      "model_name": "VBoxModel",
      "state": {
       "_dom_classes": [
        "widget-interact"
       ],
       "_model_module_version": "~2.1.4",
       "_view_module_version": "~2.1.4",
       "children": [
        "IPY_MODEL_edbc5fe3a4fa4d4488aeebdf046472aa",
        "IPY_MODEL_9ec2655538044144965bb8ad3617846c",
        "IPY_MODEL_c53090bacff84df2b596c8db1134b834",
        "IPY_MODEL_2486627b899e4ef888c16fd108035164",
        "IPY_MODEL_9adf40c6ff134ca9b26eb1f17e7a5672",
        "IPY_MODEL_46d43177514a4a1d83605fed48326366",
        "IPY_MODEL_aac107bdffff48e6bf9382dc47e7fbd5"
       ],
       "layout": "IPY_MODEL_00f09a4701874468813819cc0c32af83"
      }
     },
     "be6617efc6fb402584833d51286bf518": {
      "model_module": "jupyter-js-widgets",
      "model_module_version": "~2.1.4",
      "model_name": "TextareaModel",
      "state": {
       "_model_module_version": "~2.1.4",
       "_view_module_version": "~2.1.4",
       "description": "Url to query:",
       "layout": "IPY_MODEL_ea0ce65da4f049fe87db9e7a0ca98ac6",
       "value": "https://api.resourcewatch.org/v1/query/20cc5eca-8c63-4c41-8e8e-134dcf1e6d76?sql={0}"
      }
     },
     "bea26984acec46edaaf2596f225bd3b7": {
      "model_module": "jupyter-js-widgets",
      "model_module_version": "~2.1.4",
      "model_name": "LayoutModel",
      "state": {
       "_model_module_version": "~2.1.4",
       "_view_module_version": "~2.1.4"
      }
     },
     "beaa04035a584259ab845552b77f095e": {
      "model_module": "jupyter-js-widgets",
      "model_module_version": "~2.1.4",
      "model_name": "OutputModel",
      "state": {
       "_dom_classes": [],
       "_model_module": "jupyter-js-widgets",
       "_model_module_version": "~2.1.4",
       "_view_module": "jupyter-js-widgets",
       "_view_module_version": "~2.1.4",
       "layout": "IPY_MODEL_29befd4e1a4548e8817999e5733f78ed",
       "msg_throttle": 1
      }
     },
     "beec320a0f4d4ae3893ffc8da0d7c4da": {
      "model_module": "jupyter-js-widgets",
      "model_module_version": "~2.1.4",
      "model_name": "LayoutModel",
      "state": {
       "_model_module_version": "~2.1.4",
       "_view_module_version": "~2.1.4"
      }
     },
     "bf18a9004cc1401494bae94971998465": {
      "model_module": "jupyter-js-widgets",
      "model_module_version": "~2.1.4",
      "model_name": "LayoutModel",
      "state": {
       "_model_module_version": "~2.1.4",
       "_view_module_version": "~2.1.4"
      }
     },
     "bfe2f246dbff418cb9290e9303f09dd9": {
      "model_module": "jupyter-js-widgets",
      "model_module_version": "~2.1.4",
      "model_name": "OutputModel",
      "state": {
       "_dom_classes": [],
       "_model_module": "jupyter-js-widgets",
       "_model_module_version": "~2.1.4",
       "_view_module": "jupyter-js-widgets",
       "_view_module_version": "~2.1.4",
       "layout": "IPY_MODEL_4f37d6437c6f421cb4613f237a4d772f",
       "msg_throttle": 1
      }
     },
     "c04b5bede51049bcb40de916effe3e4c": {
      "model_module": "jupyter-js-widgets",
      "model_module_version": "~2.1.4",
      "model_name": "LayoutModel",
      "state": {
       "_model_module_version": "~2.1.4",
       "_view_module_version": "~2.1.4"
      }
     },
     "c0bfc12497174f718af4cbe015deddb0": {
      "model_module": "jupyter-js-widgets",
      "model_module_version": "~2.1.4",
      "model_name": "DropdownModel",
      "state": {
       "_model_module_version": "~2.1.4",
       "_options_labels": [
        "line"
       ],
       "_view_module_version": "~2.1.4",
       "description": "widget",
       "layout": "IPY_MODEL_344aadcbca3a4c81968ec0345429b86e",
       "value": "line"
      }
     },
     "c0c4f58f8fb24ecdae830ebfc6a1e371": {
      "model_module": "jupyter-js-widgets",
      "model_module_version": "~2.1.4",
      "model_name": "VBoxModel",
      "state": {
       "_dom_classes": [
        "widget-interact"
       ],
       "_model_module_version": "~2.1.4",
       "_view_module_version": "~2.1.4",
       "children": [
        "IPY_MODEL_f42dfc6bd5d04895bcc9c4925f0a0cf9",
        "IPY_MODEL_c5a1cd20bafa4ee49cb4804724e2b53f",
        "IPY_MODEL_664b46a7042c46e2ac9c036e86c592af",
        "IPY_MODEL_a55a85fe61194dca99fc3e351446499e",
        "IPY_MODEL_bfe2f246dbff418cb9290e9303f09dd9"
       ],
       "layout": "IPY_MODEL_b7016fc1f2614dbfa4ce9c76d523414d"
      }
     },
     "c0dd2992b2b84a07a0a0586c44f623cf": {
      "model_module": "jupyter-js-widgets",
      "model_module_version": "~2.1.4",
      "model_name": "DatePickerModel",
      "state": {
       "_model_module_version": "~2.1.4",
       "_view_module_version": "~2.1.4",
       "description": "Date begin",
       "layout": "IPY_MODEL_1d6cf75988aa42aca43747a296e25fb9",
       "value": {
        "date": 1,
        "hours": 0,
        "milliseconds": 0,
        "minutes": 0,
        "month": 0,
        "seconds": 0,
        "year": 2017
       }
      }
     },
     "c10429c07af947908dfcba1718a11dce": {
      "model_module": "jupyter-js-widgets",
      "model_module_version": "~2.1.4",
      "model_name": "LayoutModel",
      "state": {
       "_model_module_version": "~2.1.4",
       "_view_module_version": "~2.1.4"
      }
     },
     "c1a0a322c325430ba61743742db1da01": {
      "model_module": "jupyter-js-widgets",
      "model_module_version": "~2.1.4",
      "model_name": "DropdownModel",
      "state": {
       "_model_module_version": "~2.1.4",
       "_options_labels": [
        "line",
        "bar"
       ],
       "_view_module_version": "~2.1.4",
       "description": "Widget type:",
       "layout": "IPY_MODEL_825581e2a9dd46a6875faeb6d5639ddd",
       "value": "line"
      }
     },
     "c1c0e9a62713405e9285ba118efd10ac": {
      "model_module": "jupyter-js-widgets",
      "model_module_version": "~2.1.4",
      "model_name": "VBoxModel",
      "state": {
       "_dom_classes": [
        "widget-interact"
       ],
       "_model_module_version": "~2.1.4",
       "_view_module_version": "~2.1.4",
       "children": [
        "IPY_MODEL_43b8bec4934340b98bcb636099bfb902",
        "IPY_MODEL_a99115293ba54a88bc1e22b8b05a4aad",
        "IPY_MODEL_7784c4c1e4e041d9986cf2d30e77935d",
        "IPY_MODEL_b1ee494abbe74bbda01505b8f7ad7c3e",
        "IPY_MODEL_0aa94387cf1249ccb13c066fd8eb6c61"
       ],
       "layout": "IPY_MODEL_b8e3273813e541f7bde34d071d76038c"
      }
     },
     "c2c91cd63be94d05ac73f887006cafad": {
      "model_module": "jupyter-js-widgets",
      "model_module_version": "~2.1.4",
      "model_name": "LayoutModel",
      "state": {
       "_model_module_version": "~2.1.4",
       "_view_module_version": "~2.1.4"
      }
     },
     "c328c82d469a47de96240939409d937c": {
      "model_module": "jupyter-js-widgets",
      "model_module_version": "~2.1.4",
      "model_name": "LayoutModel",
      "state": {
       "_model_module_version": "~2.1.4",
       "_view_module_version": "~2.1.4"
      }
     },
     "c39705d27f8c4c5e8ee48bab5e13917b": {
      "model_module": "jupyter-js-widgets",
      "model_module_version": "~2.1.4",
      "model_name": "DatePickerModel",
      "state": {
       "_model_module_version": "~2.1.4",
       "_view_module_version": "~2.1.4",
       "description": "Date end",
       "layout": "IPY_MODEL_e6254c00939d41999bc3edba2cae2507",
       "value": {
        "date": 23,
        "hours": 18,
        "milliseconds": 676,
        "minutes": 9,
        "month": 9,
        "seconds": 23,
        "year": 2017
       }
      }
     },
     "c3ae8aa1873e4267ba4bebfc641770f0": {
      "model_module": "jupyter-js-widgets",
      "model_module_version": "~2.1.4",
      "model_name": "DatePickerModel",
      "state": {
       "_model_module_version": "~2.1.4",
       "_view_module_version": "~2.1.4",
       "description": "Date end",
       "layout": "IPY_MODEL_7ef540182e3b4a9887c6e1c0aaf11c6c",
       "value": {
        "date": 24,
        "hours": 13,
        "milliseconds": 728,
        "minutes": 10,
        "month": 9,
        "seconds": 59,
        "year": 2017
       }
      }
     },
     "c3d0203446e742ca8e6db083b2b222f3": {
      "model_module": "jupyter-js-widgets",
      "model_module_version": "~2.1.4",
      "model_name": "LayoutModel",
      "state": {
       "_model_module_version": "~2.1.4",
       "_view_module_version": "~2.1.4"
      }
     },
     "c415a834293a4371b7aa57276cccae30": {
      "model_module": "jupyter-js-widgets",
      "model_module_version": "~2.1.4",
      "model_name": "DropdownModel",
      "state": {
       "_model_module_version": "~2.1.4",
       "_options_labels": [
        "line"
       ],
       "_view_module_version": "~2.1.4",
       "description": "widget",
       "layout": "IPY_MODEL_8a4daf9a29bb4cfdb0e82f31ba86163f",
       "value": "line"
      }
     },
     "c44a87ad73394bf6baf7c6c46dbeb7e4": {
      "model_module": "jupyter-js-widgets",
      "model_module_version": "~2.1.4",
      "model_name": "DatePickerModel",
      "state": {
       "_model_module_version": "~2.1.4",
       "_view_module_version": "~2.1.4",
       "description": "Date end",
       "layout": "IPY_MODEL_bea26984acec46edaaf2596f225bd3b7",
       "value": {
        "date": 24,
        "hours": 15,
        "milliseconds": 894,
        "minutes": 14,
        "month": 9,
        "seconds": 35,
        "year": 2017
       }
      }
     },
     "c53090bacff84df2b596c8db1134b834": {
      "model_module": "jupyter-js-widgets",
      "model_module_version": "~2.1.4",
      "model_name": "TextareaModel",
      "state": {
       "_model_module_version": "~2.1.4",
       "_view_module_version": "~2.1.4",
       "description": "Query:",
       "layout": "IPY_MODEL_e4bcddb832df46379ed92cc0a90ef517",
       "value": "SELECT acq_date as x, count(acq_date) as y FROM vnp14imgtdl_nrt_global_7d WHERE acq_date >='{date_begin}' and acq_date < '{date_end}' group by acq_date order by acq_date asc"
      }
     },
     "c54fb71109d34ba086f5a854461a8373": {
      "model_module": "jupyter-js-widgets",
      "model_module_version": "~2.1.4",
      "model_name": "TextareaModel",
      "state": {
       "_model_module_version": "~2.1.4",
       "_view_module_version": "~2.1.4",
       "description": "Query:",
       "layout": "IPY_MODEL_1f8f62a9ba7842e18dff3933e534c549",
       "value": "SELECT acq_date as x, count(acq_date) as y FROM vnp14imgtdl_nrt_global_7d WHERE acq_date >='{date_begin}' and acq_date < '{date_end}' group by acq_date order by acq_date asc"
      }
     },
     "c5a1cd20bafa4ee49cb4804724e2b53f": {
      "model_module": "jupyter-js-widgets",
      "model_module_version": "~2.1.4",
      "model_name": "DatePickerModel",
      "state": {
       "_model_module_version": "~2.1.4",
       "_view_module_version": "~2.1.4",
       "description": "Date begin",
       "layout": "IPY_MODEL_dc0e7f89e1e64b5dbd3650376c5c8add",
       "value": {
        "date": 18,
        "hours": 0,
        "milliseconds": 0,
        "minutes": 0,
        "month": 9,
        "seconds": 0,
        "year": 2017
       }
      }
     },
     "c63f7605e0d644269ec26ce6ff3d7479": {
      "model_module": "jupyter-js-widgets",
      "model_module_version": "~2.1.4",
      "model_name": "DropdownModel",
      "state": {
       "_model_module_version": "~2.1.4",
       "_options_labels": [
        "line"
       ],
       "_view_module_version": "~2.1.4",
       "description": "widget",
       "layout": "IPY_MODEL_f28dcb80199749ec80ac0fa1df4015a7",
       "value": "line"
      }
     },
     "c653fc0cc1174615a1b1fa202b7d108a": {
      "model_module": "jupyter-js-widgets",
      "model_module_version": "~2.1.4",
      "model_name": "OutputModel",
      "state": {
       "_dom_classes": [],
       "_model_module": "jupyter-js-widgets",
       "_model_module_version": "~2.1.4",
       "_view_module": "jupyter-js-widgets",
       "_view_module_version": "~2.1.4",
       "layout": "IPY_MODEL_4db4259666ce489b9f9e0216b8e5831c",
       "msg_throttle": 1
      }
     },
     "c7c344d6743d40338ecb5c7fd490a46b": {
      "model_module": "jupyter-js-widgets",
      "model_module_version": "~2.1.4",
      "model_name": "DropdownModel",
      "state": {
       "_model_module_version": "~2.1.4",
       "_options_labels": [
        "line"
       ],
       "_view_module_version": "~2.1.4",
       "description": "widget",
       "layout": "IPY_MODEL_7ec64001444f48dca425db3a64ef4ae5",
       "value": "line"
      }
     },
     "c8d63eabef8b4f55887448814a4722cc": {
      "model_module": "jupyter-js-widgets",
      "model_module_version": "~2.1.4",
      "model_name": "VBoxModel",
      "state": {
       "_dom_classes": [
        "widget-interact"
       ],
       "_model_module_version": "~2.1.4",
       "_view_module_version": "~2.1.4",
       "children": [
        "IPY_MODEL_b53b3fe9ffee45ea895c80678461bfeb",
        "IPY_MODEL_27e63d4a6cbc49c6a808e6f3ddd5805c",
        "IPY_MODEL_aace1c00c3de4681bd9c8230e3b2aee0",
        "IPY_MODEL_19efa1bdb23a4874b5e3cec69c594c59",
        "IPY_MODEL_217fa17d47884600a9737a5ae45fd8ab"
       ],
       "layout": "IPY_MODEL_c8ff35f3a78a46e4a8ad71dd8e1408de"
      }
     },
     "c8ff35f3a78a46e4a8ad71dd8e1408de": {
      "model_module": "jupyter-js-widgets",
      "model_module_version": "~2.1.4",
      "model_name": "LayoutModel",
      "state": {
       "_model_module_version": "~2.1.4",
       "_view_module_version": "~2.1.4"
      }
     },
     "c9a53b6d1b004235b05f39706c463e55": {
      "model_module": "jupyter-js-widgets",
      "model_module_version": "~2.1.4",
      "model_name": "LayoutModel",
      "state": {
       "_model_module_version": "~2.1.4",
       "_view_module_version": "~2.1.4"
      }
     },
     "ca68733f12ca4b2fb79f74726a60e046": {
      "model_module": "jupyter-js-widgets",
      "model_module_version": "~2.1.4",
      "model_name": "TextareaModel",
      "state": {
       "_model_module_version": "~2.1.4",
       "_view_module_version": "~2.1.4",
       "description": "Query:",
       "layout": "IPY_MODEL_0f65482e13e84e21bba92faff6ead0ae",
       "value": "SELECT acq_date as x, count(acq_date) as y FROM vnp14imgtdl_nrt_global_7d WHERE acq_date >='{date_begin}' and acq_date < '{date_end}' group by acq_date order by acq_date asc"
      }
     },
     "cb4a161c03ff4758a8f03aa7c11c21c3": {
      "model_module": "jupyter-js-widgets",
      "model_module_version": "~2.1.4",
      "model_name": "LayoutModel",
      "state": {
       "_model_module_version": "~2.1.4",
       "_view_module_version": "~2.1.4"
      }
     },
     "cbc6d4824c0a48d9a15078a12bdd3412": {
      "model_module": "jupyter-js-widgets",
      "model_module_version": "~2.1.4",
      "model_name": "LayoutModel",
      "state": {
       "_model_module_version": "~2.1.4",
       "_view_module_version": "~2.1.4"
      }
     },
     "ccac704bce9649f6b860f02efa4bc1ca": {
      "model_module": "jupyter-js-widgets",
      "model_module_version": "~2.1.4",
      "model_name": "LayoutModel",
      "state": {
       "_model_module_version": "~2.1.4",
       "_view_module_version": "~2.1.4"
      }
     },
     "cf3ac06b4510438d8a71817278be9136": {
      "model_module": "jupyter-js-widgets",
      "model_module_version": "~2.1.4",
      "model_name": "DropdownModel",
      "state": {
       "_model_module_version": "~2.1.4",
       "_options_labels": [
        "Afghanistan",
        "Brazil",
        "Custom area"
       ],
       "_view_module_version": "~2.1.4",
       "description": "geostore",
       "layout": "IPY_MODEL_a951734e1439413db8588cf662c75267",
       "value": "Afghanistan"
      }
     },
     "cfbc098d48214016a1a46a67557791cf": {
      "model_module": "jupyter-js-widgets",
      "model_module_version": "~2.1.4",
      "model_name": "OutputModel",
      "state": {
       "_dom_classes": [],
       "_model_module": "jupyter-js-widgets",
       "_model_module_version": "~2.1.4",
       "_view_module": "jupyter-js-widgets",
       "_view_module_version": "~2.1.4",
       "layout": "IPY_MODEL_2089cfc8e0a847b3b482f15d2da3c41a",
       "msg_throttle": 1
      }
     },
     "d06ef498092c4262b991ffc11b293e7c": {
      "model_module": "jupyter-js-widgets",
      "model_module_version": "~2.1.4",
      "model_name": "LayoutModel",
      "state": {
       "_model_module_version": "~2.1.4",
       "_view_module_version": "~2.1.4"
      }
     },
     "d0aa8bc1ace6413ea291d5945016f2d8": {
      "model_module": "jupyter-js-widgets",
      "model_module_version": "~2.1.4",
      "model_name": "DatePickerModel",
      "state": {
       "_model_module_version": "~2.1.4",
       "_view_module_version": "~2.1.4",
       "description": "Date begin",
       "layout": "IPY_MODEL_962a9dd130c8484086bfd89437290b9d",
       "value": {
        "date": 18,
        "hours": 0,
        "milliseconds": 0,
        "minutes": 0,
        "month": 9,
        "seconds": 0,
        "year": 2017
       }
      }
     },
     "d0ed4ec0b8c84809aa493b2fa8bc079b": {
      "model_module": "jupyter-js-widgets",
      "model_module_version": "~2.1.4",
      "model_name": "VBoxModel",
      "state": {
       "_dom_classes": [
        "widget-interact"
       ],
       "_model_module_version": "~2.1.4",
       "_view_module_version": "~2.1.4",
       "children": [
        "IPY_MODEL_a8160b4ed11b4ec786bdfb7b4b0b82a9",
        "IPY_MODEL_517074e5527643509f54114688b55d5e",
        "IPY_MODEL_1ca00f947dbd4f4e8b3e2230d3d41e2c",
        "IPY_MODEL_e46d9d8cb85244eca82cd9587958c7f6",
        "IPY_MODEL_b223d2cb7a4644abbf7e5823cc71b301",
        "IPY_MODEL_761d8ab7864f492bb44d85cdde804c34",
        "IPY_MODEL_79659c3e9f4145fb917a19d58ee54759"
       ],
       "layout": "IPY_MODEL_ec8533f8b046443990c86a3491995a23"
      }
     },
     "d0f2431e1aa8494a966713d361eeaf36": {
      "model_module": "jupyter-js-widgets",
      "model_module_version": "~2.1.4",
      "model_name": "LayoutModel",
      "state": {
       "_model_module_version": "~2.1.4",
       "_view_module_version": "~2.1.4"
      }
     },
     "d10a68268e984c4398f666f8e0c51111": {
      "model_module": "jupyter-js-widgets",
      "model_module_version": "~2.1.4",
      "model_name": "LayoutModel",
      "state": {
       "_model_module_version": "~2.1.4",
       "_view_module_version": "~2.1.4"
      }
     },
     "d37633b1ea1f4f4aa7be3d39afb0638a": {
      "model_module": "jupyter-js-widgets",
      "model_module_version": "~2.1.4",
      "model_name": "OutputModel",
      "state": {
       "_dom_classes": [],
       "_model_module": "jupyter-js-widgets",
       "_model_module_version": "~2.1.4",
       "_view_module": "jupyter-js-widgets",
       "_view_module_version": "~2.1.4",
       "layout": "IPY_MODEL_09eec2d4fcdb46d5bd308a33d1d23fb7",
       "msg_throttle": 1
      }
     },
     "d47ba0f70329407fb6f853988450d0c8": {
      "model_module": "jupyter-js-widgets",
      "model_module_version": "~2.1.4",
      "model_name": "LayoutModel",
      "state": {
       "_model_module_version": "~2.1.4",
       "_view_module_version": "~2.1.4"
      }
     },
     "d4c148622d1146afb62ed39866772893": {
      "model_module": "jupyter-js-widgets",
      "model_module_version": "~2.1.4",
      "model_name": "DatePickerModel",
      "state": {
       "_model_module_version": "~2.1.4",
       "_view_module_version": "~2.1.4",
       "description": "Date begin",
       "layout": "IPY_MODEL_d99ef15b654640bfb4b55ccd47801e33",
       "value": {
        "date": 18,
        "hours": 0,
        "milliseconds": 0,
        "minutes": 0,
        "month": 9,
        "seconds": 0,
        "year": 2017
       }
      }
     },
     "d55f6abad6d144fba2a68dabeac5ec0e": {
      "model_module": "jupyter-js-widgets",
      "model_module_version": "~2.1.4",
      "model_name": "LayoutModel",
      "state": {
       "_model_module_version": "~2.1.4",
       "_view_module_version": "~2.1.4"
      }
     },
     "d5738c4bda964b6e84dac415f8c52395": {
      "model_module": "jupyter-js-widgets",
      "model_module_version": "~2.1.4",
      "model_name": "LayoutModel",
      "state": {
       "_model_module_version": "~2.1.4",
       "_view_module_version": "~2.1.4"
      }
     },
     "d598b0f9eb5c40fca438668b8a2611bf": {
      "model_module": "jupyter-js-widgets",
      "model_module_version": "~2.1.4",
      "model_name": "LayoutModel",
      "state": {
       "_model_module_version": "~2.1.4",
       "_view_module_version": "~2.1.4"
      }
     },
     "d5a0737706e84e59a85f0393d6f080e4": {
      "model_module": "jupyter-js-widgets",
      "model_module_version": "~2.1.4",
      "model_name": "LayoutModel",
      "state": {
       "_model_module_version": "~2.1.4",
       "_view_module_version": "~2.1.4"
      }
     },
     "d5a4c318bc3646baa6fd791d248cdd14": {
      "model_module": "jupyter-js-widgets",
      "model_module_version": "~2.1.4",
      "model_name": "LayoutModel",
      "state": {
       "_model_module_version": "~2.1.4",
       "_view_module_version": "~2.1.4",
       "align_items": "stretch",
       "display": "flex",
       "flex_flow": "row",
       "width": "100%"
      }
     },
     "d6018d557d8d42ae81116805d17e9703": {
      "model_module": "jupyter-js-widgets",
      "model_module_version": "~2.1.4",
      "model_name": "LayoutModel",
      "state": {
       "_model_module_version": "~2.1.4",
       "_view_module_version": "~2.1.4"
      }
     },
     "d6495df8b3234271856ec30ba11289e8": {
      "model_module": "jupyter-js-widgets",
      "model_module_version": "~2.1.4",
      "model_name": "LayoutModel",
      "state": {
       "_model_module_version": "~2.1.4",
       "_view_module_version": "~2.1.4"
      }
     },
     "d692e207a15b4dfdab81129c331eb664": {
      "model_module": "jupyter-js-widgets",
      "model_module_version": "~2.1.4",
      "model_name": "DropdownModel",
      "state": {
       "_model_module_version": "~2.1.4",
       "_options_labels": [
        "line"
       ],
       "_view_module_version": "~2.1.4",
       "description": "widget",
       "layout": "IPY_MODEL_8a3cea290eb44b199b70f8e29f4b193c",
       "value": "line"
      }
     },
     "d6cc023bd3af4f2f9bbd5ac2d1317535": {
      "model_module": "jupyter-js-widgets",
      "model_module_version": "~2.1.4",
      "model_name": "LayoutModel",
      "state": {
       "_model_module_version": "~2.1.4",
       "_view_module_version": "~2.1.4"
      }
     },
     "d778e5a8cb14431ca07022bf9164c4ae": {
      "model_module": "jupyter-js-widgets",
      "model_module_version": "~2.1.4",
      "model_name": "LayoutModel",
      "state": {
       "_model_module_version": "~2.1.4",
       "_view_module_version": "~2.1.4"
      }
     },
     "d84bac850662421c9719658afacda8f1": {
      "model_module": "jupyter-js-widgets",
      "model_module_version": "~2.1.4",
      "model_name": "DatePickerModel",
      "state": {
       "_model_module_version": "~2.1.4",
       "_view_module_version": "~2.1.4",
       "description": "Date end",
       "layout": "IPY_MODEL_5703a23345f74005a6f3fb0380415b5f",
       "value": {
        "date": 24,
        "hours": 13,
        "milliseconds": 978,
        "minutes": 56,
        "month": 9,
        "seconds": 23,
        "year": 2017
       }
      }
     },
     "d91b8142f56e4c89a7536b830690d836": {
      "model_module": "jupyter-js-widgets",
      "model_module_version": "~2.1.4",
      "model_name": "OutputModel",
      "state": {
       "_dom_classes": [],
       "_model_module": "jupyter-js-widgets",
       "_model_module_version": "~2.1.4",
       "_view_module": "jupyter-js-widgets",
       "_view_module_version": "~2.1.4",
       "layout": "IPY_MODEL_6345e6c74c4341c883ed7cf4808d76e5",
       "msg_throttle": 1
      }
     },
     "d99ef15b654640bfb4b55ccd47801e33": {
      "model_module": "jupyter-js-widgets",
      "model_module_version": "~2.1.4",
      "model_name": "LayoutModel",
      "state": {
       "_model_module_version": "~2.1.4",
       "_view_module_version": "~2.1.4"
      }
     },
     "d9bfaac374a54fa1a309050e859e5b60": {
      "model_module": "jupyter-js-widgets",
      "model_module_version": "~2.1.4",
      "model_name": "LayoutModel",
      "state": {
       "_model_module_version": "~2.1.4",
       "_view_module_version": "~2.1.4"
      }
     },
     "da5091b7b01c4d44bdb5d85e20ec7fe7": {
      "model_module": "jupyter-js-widgets",
      "model_module_version": "~2.1.4",
      "model_name": "LayoutModel",
      "state": {
       "_model_module_version": "~2.1.4",
       "_view_module_version": "~2.1.4"
      }
     },
     "dabfeca4be74423786911cc878044fdf": {
      "model_module": "jupyter-js-widgets",
      "model_module_version": "~2.1.4",
      "model_name": "TextareaModel",
      "state": {
       "_model_module_version": "~2.1.4",
       "_view_module_version": "~2.1.4",
       "description": "Query:",
       "layout": "IPY_MODEL_d5a4c318bc3646baa6fd791d248cdd14",
       "value": "SELECT acq_date as x, count(acq_date) as y FROM vnp14imgtdl_nrt_global_7d WHERE acq_date >='{date_begin}' and acq_date < '{date_end}' group by acq_date order by acq_date asc"
      }
     },
     "dae1f52eb25e411086dec05a87319b1c": {
      "model_module": "jupyter-js-widgets",
      "model_module_version": "~2.1.4",
      "model_name": "DatePickerModel",
      "state": {
       "_model_module_version": "~2.1.4",
       "_view_module_version": "~2.1.4",
       "description": "Date begin",
       "layout": "IPY_MODEL_f2012d91277247ecb3649422a22de16c",
       "value": {
        "date": 1,
        "hours": 0,
        "milliseconds": 0,
        "minutes": 0,
        "month": 0,
        "seconds": 0,
        "year": 2017
       }
      }
     },
     "dbbac79cc72649fbb53f017715e7d108": {
      "model_module": "jupyter-js-widgets",
      "model_module_version": "~2.1.4",
      "model_name": "LayoutModel",
      "state": {
       "_model_module_version": "~2.1.4",
       "_view_module_version": "~2.1.4"
      }
     },
     "dbd851c7e5334fa2b4483ba3dcbf601a": {
      "model_module": "jupyter-js-widgets",
      "model_module_version": "~2.1.4",
      "model_name": "LayoutModel",
      "state": {
       "_model_module_version": "~2.1.4",
       "_view_module_version": "~2.1.4"
      }
     },
     "dbfc481cb8414f4fb09b2affef142b54": {
      "model_module": "jupyter-js-widgets",
      "model_module_version": "~2.1.4",
      "model_name": "TextareaModel",
      "state": {
       "_model_module_version": "~2.1.4",
       "_view_module_version": "~2.1.4",
       "description": "Url to query:",
       "layout": "IPY_MODEL_0f65482e13e84e21bba92faff6ead0ae",
       "value": "https://api.resourcewatch.org/v1/query/20cc5eca-8c63-4c41-8e8e-134dcf1e6d76?sql={0}"
      }
     },
     "dc0e7f89e1e64b5dbd3650376c5c8add": {
      "model_module": "jupyter-js-widgets",
      "model_module_version": "~2.1.4",
      "model_name": "LayoutModel",
      "state": {
       "_model_module_version": "~2.1.4",
       "_view_module_version": "~2.1.4"
      }
     },
     "dd4bcdde970347d6b8cf13fc92317945": {
      "model_module": "jupyter-js-widgets",
      "model_module_version": "~2.1.4",
      "model_name": "DatePickerModel",
      "state": {
       "_model_module_version": "~2.1.4",
       "_view_module_version": "~2.1.4",
       "description": "Date begin",
       "layout": "IPY_MODEL_60193ee5b88a46378d5a2b2faaaf088f",
       "value": {
        "date": 18,
        "hours": 0,
        "milliseconds": 0,
        "minutes": 0,
        "month": 9,
        "seconds": 0,
        "year": 2017
       }
      }
     },
     "dd7427c5814f4322bdef86d02e26b528": {
      "model_module": "jupyter-js-widgets",
      "model_module_version": "~2.1.4",
      "model_name": "DropdownModel",
      "state": {
       "_model_module_version": "~2.1.4",
       "_options_labels": [
        "Afghanistan",
        "Brazil",
        "Custom area"
       ],
       "_view_module_version": "~2.1.4",
       "description": "geostore",
       "layout": "IPY_MODEL_08f9d948a2b44e968da29e25ec6c6101",
       "value": "Afghanistan"
      }
     },
     "dda53ad46a074bf2b553235938099af8": {
      "model_module": "jupyter-js-widgets",
      "model_module_version": "~2.1.4",
      "model_name": "VBoxModel",
      "state": {
       "_dom_classes": [
        "widget-interact"
       ],
       "_model_module_version": "~2.1.4",
       "_view_module_version": "~2.1.4",
       "children": [
        "IPY_MODEL_7c66ed14738a41249445e6e950838443",
        "IPY_MODEL_84c59e1b39f3459f82f4859971727425",
        "IPY_MODEL_b6abe25eb762423095f11a0595640e62",
        "IPY_MODEL_4e8ce79ca17e45aba619c06145be16fd",
        "IPY_MODEL_34271eb301d846db931cf6a6abded5fe",
        "IPY_MODEL_83d4073562da4d5c82c934556ba71cb7",
        "IPY_MODEL_7e971a36699440189606fa6a7f5e6cdc"
       ],
       "layout": "IPY_MODEL_ac150d59a03c4940ae345bef4c6b74e1"
      }
     },
     "dde8fa4822e04224b7c6a12cd7f4209d": {
      "model_module": "jupyter-js-widgets",
      "model_module_version": "~2.1.4",
      "model_name": "DatePickerModel",
      "state": {
       "_model_module_version": "~2.1.4",
       "_view_module_version": "~2.1.4",
       "description": "Date begin",
       "layout": "IPY_MODEL_3875ebba3d81410e900856f05fb4e70e",
       "value": {
        "date": 1,
        "hours": 0,
        "milliseconds": 0,
        "minutes": 0,
        "month": 0,
        "seconds": 0,
        "year": 2017
       }
      }
     },
     "de2dce6aa5bf4f858ad95e18dcbcdd1f": {
      "model_module": "jupyter-js-widgets",
      "model_module_version": "~2.1.4",
      "model_name": "LayoutModel",
      "state": {
       "_model_module_version": "~2.1.4",
       "_view_module_version": "~2.1.4"
      }
     },
     "dea66f42b9d842d2a997783e51551c9f": {
      "model_module": "jupyter-js-widgets",
      "model_module_version": "~2.1.4",
      "model_name": "LayoutModel",
      "state": {
       "_model_module_version": "~2.1.4",
       "_view_module_version": "~2.1.4"
      }
     },
     "dedf8285b7cc41da9f28cb919219d85c": {
      "model_module": "jupyter-js-widgets",
      "model_module_version": "~2.1.4",
      "model_name": "LayoutModel",
      "state": {
       "_model_module_version": "~2.1.4",
       "_view_module_version": "~2.1.4"
      }
     },
     "dfdce9d7873442ab868c2bc65a8a40ef": {
      "model_module": "jupyter-js-widgets",
      "model_module_version": "~2.1.4",
      "model_name": "LayoutModel",
      "state": {
       "_model_module_version": "~2.1.4",
       "_view_module_version": "~2.1.4"
      }
     },
     "dfdf46f0cf954d2fbd679a1afb763e86": {
      "model_module": "jupyter-js-widgets",
      "model_module_version": "~2.1.4",
      "model_name": "LayoutModel",
      "state": {
       "_model_module_version": "~2.1.4",
       "_view_module_version": "~2.1.4"
      }
     },
     "e26a7f3146fd4c76bce1ef6ec5db34e4": {
      "model_module": "jupyter-js-widgets",
      "model_module_version": "~2.1.4",
      "model_name": "LayoutModel",
      "state": {
       "_model_module_version": "~2.1.4",
       "_view_module_version": "~2.1.4"
      }
     },
     "e280f1a827074f47a758d9b1337a4b18": {
      "model_module": "jupyter-js-widgets",
      "model_module_version": "~2.1.4",
      "model_name": "DatePickerModel",
      "state": {
       "_model_module_version": "~2.1.4",
       "_view_module_version": "~2.1.4",
       "description": "Date begin",
       "layout": "IPY_MODEL_1251bdcb39894947b719801f4bb5a011",
       "value": {
        "date": 1,
        "hours": 0,
        "milliseconds": 0,
        "minutes": 0,
        "month": 0,
        "seconds": 0,
        "year": 2017
       }
      }
     },
     "e33c0a65583f4df294c420afc4041363": {
      "model_module": "jupyter-js-widgets",
      "model_module_version": "~2.1.4",
      "model_name": "OutputModel",
      "state": {
       "_dom_classes": [],
       "_model_module": "jupyter-js-widgets",
       "_model_module_version": "~2.1.4",
       "_view_module": "jupyter-js-widgets",
       "_view_module_version": "~2.1.4",
       "layout": "IPY_MODEL_3ab2e4846f23487f81933c56bd380c1f",
       "msg_throttle": 1
      }
     },
     "e417d75db67f469c8ea6f8d3e319ca8c": {
      "model_module": "jupyter-js-widgets",
      "model_module_version": "~2.1.4",
      "model_name": "DatePickerModel",
      "state": {
       "_model_module_version": "~2.1.4",
       "_view_module_version": "~2.1.4",
       "description": "Date begin",
       "layout": "IPY_MODEL_6d782af8ef4c4e06b9584ca3bdd21609",
       "value": {
        "date": 18,
        "hours": 0,
        "milliseconds": 0,
        "minutes": 0,
        "month": 9,
        "seconds": 0,
        "year": 2017
       }
      }
     },
     "e46d9d8cb85244eca82cd9587958c7f6": {
      "model_module": "jupyter-js-widgets",
      "model_module_version": "~2.1.4",
      "model_name": "DatePickerModel",
      "state": {
       "_model_module_version": "~2.1.4",
       "_view_module_version": "~2.1.4",
       "description": "Date begin",
       "layout": "IPY_MODEL_7d263e881a854f3e8cd2988b7d4eca42",
       "value": {
        "date": 18,
        "hours": 0,
        "milliseconds": 0,
        "minutes": 0,
        "month": 9,
        "seconds": 0,
        "year": 2017
       }
      }
     },
     "e4983b4d4f874bb49e787eeab5fcbc11": {
      "model_module": "jupyter-js-widgets",
      "model_module_version": "~2.1.4",
      "model_name": "DropdownModel",
      "state": {
       "_model_module_version": "~2.1.4",
       "_options_labels": [
        "Afghanistan",
        "Brazil",
        "Custom area"
       ],
       "_view_module_version": "~2.1.4",
       "description": "geostore",
       "layout": "IPY_MODEL_97c308ca67bb4c81a3ce8dd6243747b3",
       "value": "Afghanistan"
      }
     },
     "e4bcddb832df46379ed92cc0a90ef517": {
      "model_module": "jupyter-js-widgets",
      "model_module_version": "~2.1.4",
      "model_name": "LayoutModel",
      "state": {
       "_model_module_version": "~2.1.4",
       "_view_module_version": "~2.1.4",
       "align_items": "stretch",
       "display": "flex",
       "flex_flow": "column",
       "width": "100%"
      }
     },
     "e5077d2d77804c12b59f91e7c5263a4e": {
      "model_module": "jupyter-js-widgets",
      "model_module_version": "~2.1.4",
      "model_name": "LayoutModel",
      "state": {
       "_model_module_version": "~2.1.4",
       "_view_module_version": "~2.1.4"
      }
     },
     "e53422824a79400aa641c99e8848dce6": {
      "model_module": "jupyter-js-widgets",
      "model_module_version": "~2.1.4",
      "model_name": "LayoutModel",
      "state": {
       "_model_module_version": "~2.1.4",
       "_view_module_version": "~2.1.4"
      }
     },
     "e5636b4120ea4dd99c3042e22d1a1912": {
      "model_module": "jupyter-js-widgets",
      "model_module_version": "~2.1.4",
      "model_name": "LayoutModel",
      "state": {
       "_model_module_version": "~2.1.4",
       "_view_module_version": "~2.1.4"
      }
     },
     "e6254c00939d41999bc3edba2cae2507": {
      "model_module": "jupyter-js-widgets",
      "model_module_version": "~2.1.4",
      "model_name": "LayoutModel",
      "state": {
       "_model_module_version": "~2.1.4",
       "_view_module_version": "~2.1.4"
      }
     },
     "e6e65780ae804aa5a36766cb4e0b9852": {
      "model_module": "jupyter-js-widgets",
      "model_module_version": "~2.1.4",
      "model_name": "OutputModel",
      "state": {
       "_dom_classes": [],
       "_model_module": "jupyter-js-widgets",
       "_model_module_version": "~2.1.4",
       "_view_module": "jupyter-js-widgets",
       "_view_module_version": "~2.1.4",
       "layout": "IPY_MODEL_ed6d0298b61b4c238999b42d4a652bd2",
       "msg_throttle": 1
      }
     },
     "e71d0078ea3d45acb0826f578417e39d": {
      "model_module": "jupyter-js-widgets",
      "model_module_version": "~2.1.4",
      "model_name": "LayoutModel",
      "state": {
       "_model_module_version": "~2.1.4",
       "_view_module_version": "~2.1.4"
      }
     },
     "e7cff4c11fa544b9a84068fd78757867": {
      "model_module": "jupyter-js-widgets",
      "model_module_version": "~2.1.4",
      "model_name": "DropdownModel",
      "state": {
       "_model_module_version": "~2.1.4",
       "_options_labels": [
        "line"
       ],
       "_view_module_version": "~2.1.4",
       "description": "widget",
       "layout": "IPY_MODEL_7c07947c4c12425f98582d5a5c84ba42",
       "value": "line"
      }
     },
     "e859cf602bd74e888d4735472bf6a307": {
      "model_module": "jupyter-js-widgets",
      "model_module_version": "~2.1.4",
      "model_name": "DatePickerModel",
      "state": {
       "_model_module_version": "~2.1.4",
       "_view_module_version": "~2.1.4",
       "description": "Date end",
       "layout": "IPY_MODEL_55360994dba5420689bcf674c05bff3a",
       "value": {
        "date": 24,
        "hours": 13,
        "milliseconds": 742,
        "minutes": 4,
        "month": 9,
        "seconds": 33,
        "year": 2017
       }
      }
     },
     "e85fbc11f6f540d9bdf41afd3e03798a": {
      "model_module": "jupyter-js-widgets",
      "model_module_version": "~2.1.4",
      "model_name": "VBoxModel",
      "state": {
       "_dom_classes": [
        "widget-interact"
       ],
       "_model_module_version": "~2.1.4",
       "_view_module_version": "~2.1.4",
       "children": [
        "IPY_MODEL_6d0a60dfcdc5453d804503e21cf867e1",
        "IPY_MODEL_a5abdff6f70f4e02ac23e9cd3e3e3525",
        "IPY_MODEL_5800c18e140342888441715ab91f5927",
        "IPY_MODEL_a84dfbe1ba064c5687b5292f55c7537f",
        "IPY_MODEL_aee77664aebb4ca5ad44c9b7dc1283d4"
       ],
       "layout": "IPY_MODEL_87f3e82078a24313af926c18d9a0d783"
      }
     },
     "e88bc6df2e54475ea6316a97fed6a13a": {
      "model_module": "jupyter-js-widgets",
      "model_module_version": "~2.1.4",
      "model_name": "LayoutModel",
      "state": {
       "_model_module_version": "~2.1.4",
       "_view_module_version": "~2.1.4"
      }
     },
     "e8f7b52bebfe473d803d7c78d6d5c07c": {
      "model_module": "jupyter-js-widgets",
      "model_module_version": "~2.1.4",
      "model_name": "DropdownModel",
      "state": {
       "_model_module_version": "~2.1.4",
       "_options_labels": [
        "line"
       ],
       "_view_module_version": "~2.1.4",
       "description": "widget",
       "layout": "IPY_MODEL_a276cfc1b8374e3baee5ca319e1714c5",
       "value": "line"
      }
     },
     "e9db46135eec449cbde6f9b278cbc514": {
      "model_module": "jupyter-js-widgets",
      "model_module_version": "~2.1.4",
      "model_name": "DatePickerModel",
      "state": {
       "_model_module_version": "~2.1.4",
       "_view_module_version": "~2.1.4",
       "description": "Date end",
       "layout": "IPY_MODEL_32c35371b8134c20b3f0017e4acf57b2",
       "value": {
        "date": 24,
        "hours": 12,
        "milliseconds": 702,
        "minutes": 55,
        "month": 9,
        "seconds": 40,
        "year": 2017
       }
      }
     },
     "ea0ce65da4f049fe87db9e7a0ca98ac6": {
      "model_module": "jupyter-js-widgets",
      "model_module_version": "~2.1.4",
      "model_name": "LayoutModel",
      "state": {
       "_model_module_version": "~2.1.4",
       "_view_module_version": "~2.1.4",
       "align_items": "stretch",
       "display": "flex",
       "flex_flow": "row",
       "width": "100%"
      }
     },
     "ea40cbdd1e3f403a89add0d766b2135d": {
      "model_module": "jupyter-js-widgets",
      "model_module_version": "~2.1.4",
      "model_name": "DropdownModel",
      "state": {
       "_model_module_version": "~2.1.4",
       "_options_labels": [
        "Afghanistan",
        "Brazil",
        "Custom area"
       ],
       "_view_module_version": "~2.1.4",
       "description": "geostore",
       "layout": "IPY_MODEL_da5091b7b01c4d44bdb5d85e20ec7fe7",
       "value": "Afghanistan"
      }
     },
     "ea53316ad2c240aa89471a7e8588a29a": {
      "model_module": "jupyter-js-widgets",
      "model_module_version": "~2.1.4",
      "model_name": "DatePickerModel",
      "state": {
       "_model_module_version": "~2.1.4",
       "_view_module_version": "~2.1.4",
       "description": "Date begin",
       "layout": "IPY_MODEL_93f5cf3928a1440591a8eb697fd0ed57",
       "value": {
        "date": 1,
        "hours": 0,
        "milliseconds": 0,
        "minutes": 0,
        "month": 0,
        "seconds": 0,
        "year": 2017
       }
      }
     },
     "eaac6a372131495fb8d10690d0e21d4e": {
      "model_module": "jupyter-js-widgets",
      "model_module_version": "~2.1.4",
      "model_name": "TextareaModel",
      "state": {
       "_model_module_version": "~2.1.4",
       "_view_module_version": "~2.1.4",
       "description": "Query:",
       "layout": "IPY_MODEL_bc78eb0d5d484be8a40ba69e0ddfd206",
       "value": "SELECT acq_date as x, count(acq_date) as y FROM vnp14imgtdl_nrt_global_7d WHERE acq_date >='{date_begin}' and acq_date < '{date_end}' group by acq_date order by acq_date asc"
      }
     },
     "ec8533f8b046443990c86a3491995a23": {
      "model_module": "jupyter-js-widgets",
      "model_module_version": "~2.1.4",
      "model_name": "LayoutModel",
      "state": {
       "_model_module_version": "~2.1.4",
       "_view_module_version": "~2.1.4"
      }
     },
     "ecaa977a6f884034b2a843cea9fb728a": {
      "model_module": "jupyter-js-widgets",
      "model_module_version": "~2.1.4",
      "model_name": "DatePickerModel",
      "state": {
       "_model_module_version": "~2.1.4",
       "_view_module_version": "~2.1.4",
       "description": "Date end",
       "layout": "IPY_MODEL_142b60e86d6f46618e84a2ff9a2da22d",
       "value": {
        "date": 24,
        "hours": 13,
        "milliseconds": 543,
        "minutes": 11,
        "month": 9,
        "seconds": 21,
        "year": 2017
       }
      }
     },
     "ecb473360ae14e43aa48c28538b7c06d": {
      "model_module": "jupyter-js-widgets",
      "model_module_version": "~2.1.4",
      "model_name": "LayoutModel",
      "state": {
       "_model_module_version": "~2.1.4",
       "_view_module_version": "~2.1.4"
      }
     },
     "ed6d0298b61b4c238999b42d4a652bd2": {
      "model_module": "jupyter-js-widgets",
      "model_module_version": "~2.1.4",
      "model_name": "LayoutModel",
      "state": {
       "_model_module_version": "~2.1.4",
       "_view_module_version": "~2.1.4"
      }
     },
     "edbc5fe3a4fa4d4488aeebdf046472aa": {
      "model_module": "jupyter-js-widgets",
      "model_module_version": "~2.1.4",
      "model_name": "DropdownModel",
      "state": {
       "_model_module_version": "~2.1.4",
       "_options_labels": [
        "line"
       ],
       "_view_module_version": "~2.1.4",
       "description": "widget",
       "layout": "IPY_MODEL_bacb754666b340a79574bdacd9a3d93a",
       "value": "line"
      }
     },
     "edd4d2ca1c3d41f7b6d370157d5be742": {
      "model_module": "jupyter-js-widgets",
      "model_module_version": "~2.1.4",
      "model_name": "LayoutModel",
      "state": {
       "_model_module_version": "~2.1.4",
       "_view_module_version": "~2.1.4"
      }
     },
     "edf6041f52c646dda471b3863af74939": {
      "model_module": "jupyter-js-widgets",
      "model_module_version": "~2.1.4",
      "model_name": "LayoutModel",
      "state": {
       "_model_module_version": "~2.1.4",
       "_view_module_version": "~2.1.4"
      }
     },
     "ee2ca140be54481d95bd1c276e0ab81c": {
      "model_module": "jupyter-js-widgets",
      "model_module_version": "~2.1.4",
      "model_name": "DatePickerModel",
      "state": {
       "_model_module_version": "~2.1.4",
       "_view_module_version": "~2.1.4",
       "description": "Date begin",
       "layout": "IPY_MODEL_729b624b77f74515b60ba4cf6f52e949",
       "value": {
        "date": 19,
        "hours": 0,
        "milliseconds": 0,
        "minutes": 0,
        "month": 9,
        "seconds": 0,
        "year": 2017
       }
      }
     },
     "ee5ad468cc60479a8fe2eaa2eadcf230": {
      "model_module": "jupyter-js-widgets",
      "model_module_version": "~2.1.4",
      "model_name": "LayoutModel",
      "state": {
       "_model_module_version": "~2.1.4",
       "_view_module_version": "~2.1.4"
      }
     },
     "eeba9353b52246ac9ada649a5c5d18e3": {
      "model_module": "jupyter-js-widgets",
      "model_module_version": "~2.1.4",
      "model_name": "OutputModel",
      "state": {
       "_dom_classes": [],
       "_model_module": "jupyter-js-widgets",
       "_model_module_version": "~2.1.4",
       "_view_module": "jupyter-js-widgets",
       "_view_module_version": "~2.1.4",
       "layout": "IPY_MODEL_6d2646bfd4904f3ea04cfd3ba88ba9ea",
       "msg_throttle": 1
      }
     },
     "efe2a99b1cd440f79cdca36d078d57d9": {
      "model_module": "jupyter-js-widgets",
      "model_module_version": "~2.1.4",
      "model_name": "DatePickerModel",
      "state": {
       "_model_module_version": "~2.1.4",
       "_view_module_version": "~2.1.4",
       "description": "Date begin",
       "layout": "IPY_MODEL_cbc6d4824c0a48d9a15078a12bdd3412",
       "value": {
        "date": 18,
        "hours": 0,
        "milliseconds": 0,
        "minutes": 0,
        "month": 9,
        "seconds": 0,
        "year": 2017
       }
      }
     },
     "f02077ec492d4cab859833bb687ab2c5": {
      "model_module": "jupyter-js-widgets",
      "model_module_version": "~2.1.4",
      "model_name": "LayoutModel",
      "state": {
       "_model_module_version": "~2.1.4",
       "_view_module_version": "~2.1.4"
      }
     },
     "f0f44cd3631e486990fc36531f26e44f": {
      "model_module": "jupyter-js-widgets",
      "model_module_version": "~2.1.4",
      "model_name": "LayoutModel",
      "state": {
       "_model_module_version": "~2.1.4",
       "_view_module_version": "~2.1.4"
      }
     },
     "f15a1c53b4e84145a18d7490754517b7": {
      "model_module": "jupyter-js-widgets",
      "model_module_version": "~2.1.4",
      "model_name": "VBoxModel",
      "state": {
       "_dom_classes": [
        "widget-interact"
       ],
       "_model_module_version": "~2.1.4",
       "_view_module_version": "~2.1.4",
       "children": [
        "IPY_MODEL_e8f7b52bebfe473d803d7c78d6d5c07c",
        "IPY_MODEL_bc64c224076a485a88f2b57c6fef7931",
        "IPY_MODEL_a697f54bca634a998342a4f6678ddfeb",
        "IPY_MODEL_bb04b88ad9804388bed1203a0964eda6",
        "IPY_MODEL_999e2d8b4b5d44b28a8a6b7201e688f8"
       ],
       "layout": "IPY_MODEL_4f98633c63694292aa331c114ed70c72"
      }
     },
     "f18f7ec8080b4f639904671faab4eac0": {
      "model_module": "jupyter-js-widgets",
      "model_module_version": "~2.1.4",
      "model_name": "LayoutModel",
      "state": {
       "_model_module_version": "~2.1.4",
       "_view_module_version": "~2.1.4"
      }
     },
     "f199bd68f734432881e2944bc489b755": {
      "model_module": "jupyter-js-widgets",
      "model_module_version": "~2.1.4",
      "model_name": "LayoutModel",
      "state": {
       "_model_module_version": "~2.1.4",
       "_view_module_version": "~2.1.4"
      }
     },
     "f1ca7ebedcdd4225ad267fc596ebdfd1": {
      "model_module": "jupyter-js-widgets",
      "model_module_version": "~2.1.4",
      "model_name": "LayoutModel",
      "state": {
       "_model_module_version": "~2.1.4",
       "_view_module_version": "~2.1.4"
      }
     },
     "f2012d91277247ecb3649422a22de16c": {
      "model_module": "jupyter-js-widgets",
      "model_module_version": "~2.1.4",
      "model_name": "LayoutModel",
      "state": {
       "_model_module_version": "~2.1.4",
       "_view_module_version": "~2.1.4"
      }
     },
     "f28dcb80199749ec80ac0fa1df4015a7": {
      "model_module": "jupyter-js-widgets",
      "model_module_version": "~2.1.4",
      "model_name": "LayoutModel",
      "state": {
       "_model_module_version": "~2.1.4",
       "_view_module_version": "~2.1.4"
      }
     },
     "f2dbbe8e37744f1386ec02f0e0b0c3e8": {
      "model_module": "jupyter-js-widgets",
      "model_module_version": "~2.1.4",
      "model_name": "LayoutModel",
      "state": {
       "_model_module_version": "~2.1.4",
       "_view_module_version": "~2.1.4"
      }
     },
     "f30a170ce61c4c20899dc43381349d73": {
      "model_module": "jupyter-js-widgets",
      "model_module_version": "~2.1.4",
      "model_name": "TextareaModel",
      "state": {
       "_model_module_version": "~2.1.4",
       "_view_module_version": "~2.1.4",
       "description": "Url to query:",
       "layout": "IPY_MODEL_d5a4c318bc3646baa6fd791d248cdd14",
       "value": "https://api.resourcewatch.org/v1/query/20cc5eca-8c63-4c41-8e8e-134dcf1e6d76?sql={0}"
      }
     },
     "f3384eeae0334c949c4bd54fc0cce07f": {
      "model_module": "jupyter-js-widgets",
      "model_module_version": "~2.1.4",
      "model_name": "LayoutModel",
      "state": {
       "_model_module_version": "~2.1.4",
       "_view_module_version": "~2.1.4"
      }
     },
     "f3f3f238a0a7470a88221754d1217705": {
      "model_module": "jupyter-js-widgets",
      "model_module_version": "~2.1.4",
      "model_name": "LayoutModel",
      "state": {
       "_model_module_version": "~2.1.4",
       "_view_module_version": "~2.1.4"
      }
     },
     "f4105495347c416dbdf0b131bc7437d3": {
      "model_module": "jupyter-js-widgets",
      "model_module_version": "~2.1.4",
      "model_name": "DatePickerModel",
      "state": {
       "_model_module_version": "~2.1.4",
       "_view_module_version": "~2.1.4",
       "description": "Date begin",
       "layout": "IPY_MODEL_ccac704bce9649f6b860f02efa4bc1ca",
       "value": {
        "date": 18,
        "hours": 0,
        "milliseconds": 0,
        "minutes": 0,
        "month": 9,
        "seconds": 0,
        "year": 2017
       }
      }
     },
     "f42dfc6bd5d04895bcc9c4925f0a0cf9": {
      "model_module": "jupyter-js-widgets",
      "model_module_version": "~2.1.4",
      "model_name": "DropdownModel",
      "state": {
       "_model_module_version": "~2.1.4",
       "_options_labels": [
        "line"
       ],
       "_view_module_version": "~2.1.4",
       "description": "widget",
       "layout": "IPY_MODEL_af32b956bdc847489ffcb7c2a72dd85e",
       "value": "line"
      }
     },
     "f647ca91d67845da99525e815a28df02": {
      "model_module": "jupyter-js-widgets",
      "model_module_version": "~2.1.4",
      "model_name": "DropdownModel",
      "state": {
       "_model_module_version": "~2.1.4",
       "_options_labels": [
        "line"
       ],
       "_view_module_version": "~2.1.4",
       "description": "widget",
       "layout": "IPY_MODEL_6e661bc07dc744608a9b536c4e220b67",
       "value": "line"
      }
     },
     "f667bf8e363b446e87c1b5ad4c95092f": {
      "model_module": "jupyter-js-widgets",
      "model_module_version": "~2.1.4",
      "model_name": "LayoutModel",
      "state": {
       "_model_module_version": "~2.1.4",
       "_view_module_version": "~2.1.4"
      }
     },
     "f6b5dfb7348149ea83e53e93d39d39ae": {
      "model_module": "jupyter-js-widgets",
      "model_module_version": "~2.1.4",
      "model_name": "LayoutModel",
      "state": {
       "_model_module_version": "~2.1.4",
       "_view_module_version": "~2.1.4"
      }
     },
     "f6e25740fdd34d15aa751ad825612b8a": {
      "model_module": "jupyter-js-widgets",
      "model_module_version": "~2.1.4",
      "model_name": "TextareaModel",
      "state": {
       "_model_module_version": "~2.1.4",
       "_view_module_version": "~2.1.4",
       "description": "Url to query:",
       "layout": "IPY_MODEL_bc78eb0d5d484be8a40ba69e0ddfd206",
       "value": "https://api.resourcewatch.org/v1/query/20cc5eca-8c63-4c41-8e8e-134dcf1e6d76?sql={0}"
      }
     },
     "f707e36d295a4704b11a529ff29d7dad": {
      "model_module": "jupyter-js-widgets",
      "model_module_version": "~2.1.4",
      "model_name": "LayoutModel",
      "state": {
       "_model_module_version": "~2.1.4",
       "_view_module_version": "~2.1.4"
      }
     },
     "f7c22263ca3c4489846fc42ef479c40e": {
      "model_module": "jupyter-js-widgets",
      "model_module_version": "~2.1.4",
      "model_name": "LayoutModel",
      "state": {
       "_model_module_version": "~2.1.4",
       "_view_module_version": "~2.1.4"
      }
     },
     "f860dcc5faa04505aa1574b22f56720a": {
      "model_module": "jupyter-js-widgets",
      "model_module_version": "~2.1.4",
      "model_name": "TextareaModel",
      "state": {
       "_model_module_version": "~2.1.4",
       "_view_module_version": "~2.1.4",
       "description": "Url to query:",
       "layout": "IPY_MODEL_6c612df9dde94913b3aa03f4e26341ab",
       "value": "https://api.resourcewatch.org/v1/query/20cc5eca-8c63-4c41-8e8e-134dcf1e6d76?sql={0}"
      }
     },
     "f91fc2be75ed4887b7c6e65e7c26a803": {
      "model_module": "jupyter-js-widgets",
      "model_module_version": "~2.1.4",
      "model_name": "DatePickerModel",
      "state": {
       "_model_module_version": "~2.1.4",
       "_view_module_version": "~2.1.4",
       "description": "Date begin",
       "layout": "IPY_MODEL_ff381d3531a44c0eb3d6fb3614d6732d",
       "value": {
        "date": 18,
        "hours": 0,
        "milliseconds": 0,
        "minutes": 0,
        "month": 9,
        "seconds": 0,
        "year": 2017
       }
      }
     },
     "fa0a4f481271456dbc56734f4936bf3a": {
      "model_module": "jupyter-js-widgets",
      "model_module_version": "~2.1.4",
      "model_name": "VBoxModel",
      "state": {
       "_dom_classes": [
        "widget-interact"
       ],
       "_model_module_version": "~2.1.4",
       "_view_module_version": "~2.1.4",
       "children": [
        "IPY_MODEL_c63f7605e0d644269ec26ce6ff3d7479",
        "IPY_MODEL_5b9446b29b8e4d76982ac2f77efb3d5f",
        "IPY_MODEL_c54fb71109d34ba086f5a854461a8373",
        "IPY_MODEL_2c1170020d184713b39c084862985d62",
        "IPY_MODEL_fd04a6502f9b424db8b307540c7ce630",
        "IPY_MODEL_6fce73fad75649beaeb1c7e4e71f5850",
        "IPY_MODEL_bdc7fe923ec642199634ee56a040fad2"
       ],
       "layout": "IPY_MODEL_d778e5a8cb14431ca07022bf9164c4ae"
      }
     },
     "fa7daf6a4a714896accba4624a06967c": {
      "model_module": "jupyter-js-widgets",
      "model_module_version": "~2.1.4",
      "model_name": "LayoutModel",
      "state": {
       "_model_module_version": "~2.1.4",
       "_view_module_version": "~2.1.4"
      }
     },
     "fa89b6d539ca4caf91bf39fa876be1f4": {
      "model_module": "jupyter-js-widgets",
      "model_module_version": "~2.1.4",
      "model_name": "LayoutModel",
      "state": {
       "_model_module_version": "~2.1.4",
       "_view_module_version": "~2.1.4"
      }
     },
     "fbc508d31f1e4175b80812797b1937ee": {
      "model_module": "jupyter-js-widgets",
      "model_module_version": "~2.1.4",
      "model_name": "LayoutModel",
      "state": {
       "_model_module_version": "~2.1.4",
       "_view_module_version": "~2.1.4"
      }
     },
     "fc0483e060d241df8996dc680523f330": {
      "model_module": "jupyter-js-widgets",
      "model_module_version": "~2.1.4",
      "model_name": "DropdownModel",
      "state": {
       "_model_module_version": "~2.1.4",
       "_options_labels": [
        "Afghanistan",
        "Brazil",
        "Custom area"
       ],
       "_view_module_version": "~2.1.4",
       "description": "geostore",
       "layout": "IPY_MODEL_218f0d732fd8446ab3815c36d9708e31",
       "value": "Afghanistan"
      }
     },
     "fcbf3eb22d754f14b7edb4ca89bc57e8": {
      "model_module": "jupyter-js-widgets",
      "model_module_version": "~2.1.4",
      "model_name": "LayoutModel",
      "state": {
       "_model_module_version": "~2.1.4",
       "_view_module_version": "~2.1.4"
      }
     },
     "fd04a6502f9b424db8b307540c7ce630": {
      "model_module": "jupyter-js-widgets",
      "model_module_version": "~2.1.4",
      "model_name": "DatePickerModel",
      "state": {
       "_model_module_version": "~2.1.4",
       "_view_module_version": "~2.1.4",
       "description": "Date end",
       "layout": "IPY_MODEL_7389787bad5d46caa9cfb0e54986e7d8",
       "value": {
        "date": 24,
        "hours": 13,
        "milliseconds": 97,
        "minutes": 51,
        "month": 9,
        "seconds": 41,
        "year": 2017
       }
      }
     },
     "fd12f76e685a4939b02a83d810b129f8": {
      "model_module": "jupyter-js-widgets",
      "model_module_version": "~2.1.4",
      "model_name": "VBoxModel",
      "state": {
       "_dom_classes": [
        "widget-interact"
       ],
       "_model_module_version": "~2.1.4",
       "_view_module_version": "~2.1.4",
       "children": [
        "IPY_MODEL_52cf10f62f064fd0b94d0f275fe7faa4",
        "IPY_MODEL_dbfc481cb8414f4fb09b2affef142b54",
        "IPY_MODEL_ca68733f12ca4b2fb79f74726a60e046",
        "IPY_MODEL_78775b4aaf06421fb7ecb007ea4550ce",
        "IPY_MODEL_377e7eb98be4448b95821f591b71d6ab",
        "IPY_MODEL_ea40cbdd1e3f403a89add0d766b2135d",
        "IPY_MODEL_6b08fa74fcc148dd9174df814ae0fecf"
       ],
       "layout": "IPY_MODEL_363fddf3083b4b72ace6774b030def80"
      }
     },
     "fd57e33c8a374ea1ad23d96a33edbd91": {
      "model_module": "jupyter-js-widgets",
      "model_module_version": "~2.1.4",
      "model_name": "DropdownModel",
      "state": {
       "_model_module_version": "~2.1.4",
       "_options_labels": [
        "Afghanistan",
        "Brazil",
        "Custom area"
       ],
       "_view_module_version": "~2.1.4",
       "description": "geostore",
       "layout": "IPY_MODEL_b2a96812714d480d8eb213d56a94c1df",
       "value": "Brazil"
      }
     },
     "ff381d3531a44c0eb3d6fb3614d6732d": {
      "model_module": "jupyter-js-widgets",
      "model_module_version": "~2.1.4",
      "model_name": "LayoutModel",
      "state": {
       "_model_module_version": "~2.1.4",
       "_view_module_version": "~2.1.4"
      }
     },
     "ff444813f3314165b5879ed00f885e5a": {
      "model_module": "jupyter-js-widgets",
      "model_module_version": "~2.1.4",
      "model_name": "LayoutModel",
      "state": {
       "_model_module_version": "~2.1.4",
       "_view_module_version": "~2.1.4"
      }
     },
     "ff60d7bdfe7745459647b465a9ec7c9b": {
      "model_module": "jupyter-js-widgets",
      "model_module_version": "~2.1.4",
      "model_name": "VBoxModel",
      "state": {
       "_dom_classes": [
        "widget-interact"
       ],
       "_model_module_version": "~2.1.4",
       "_view_module_version": "~2.1.4",
       "children": [
        "IPY_MODEL_7ee754832f264ae6b1fe1fdde3ee9ef8",
        "IPY_MODEL_30547b9df8d247d8a128cebd4f9eda93",
        "IPY_MODEL_ecaa977a6f884034b2a843cea9fb728a",
        "IPY_MODEL_9c6286386d934c97b8cfd16699970cee",
        "IPY_MODEL_233cf99f11c446c2acabf93bdd2ddcd9"
       ],
       "layout": "IPY_MODEL_65bbf4c7188f43a7a0ea701123d30013"
      }
     },
     "ffc8daeafef84922986c766bc77b81f5": {
      "model_module": "jupyter-js-widgets",
      "model_module_version": "~2.1.4",
      "model_name": "DatePickerModel",
      "state": {
       "_model_module_version": "~2.1.4",
       "_view_module_version": "~2.1.4",
       "description": "Date begin",
       "layout": "IPY_MODEL_a3ebc9011fda4a829725a967968ae97d",
       "value": {
        "date": 18,
        "hours": 0,
        "milliseconds": 0,
        "minutes": 0,
        "month": 9,
        "seconds": 0,
        "year": 2017
       }
      }
     }
    },
    "version_major": 1,
    "version_minor": 0
   }
  }
 },
 "nbformat": 4,
 "nbformat_minor": 2
}
