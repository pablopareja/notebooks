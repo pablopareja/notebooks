{
 "cells": [
  {
   "cell_type": "markdown",
   "metadata": {
    "toc": "true"
   },
   "source": [
    "# Table of Contents\n",
    " <p><div class=\"lev1 toc-item\"><a href=\"#Widget-parametrization\" data-toc-modified-id=\"Widget-parametrization-1\"><span class=\"toc-item-num\">1&nbsp;&nbsp;</span>Widget parametrization</a></div>"
   ]
  },
  {
   "cell_type": "markdown",
   "metadata": {},
   "source": [
    "# Widget parametrization "
   ]
  },
  {
   "cell_type": "code",
   "execution_count": 78,
   "metadata": {
    "collapsed": true
   },
   "outputs": [],
   "source": [
    "from __future__ import print_function\n",
    "import requests\n",
    "import json\n",
    "from pprint import pprint\n",
    "from IPython.display import display, Markdown\n",
    "import pandas as pd\n",
    "from ipywidgets import DatePicker, interactive, Textarea, Layout, Dropdown\n",
    "import ipywidgets as widgets\n",
    "from datetime import datetime\n",
    "from vega import Vega"
   ]
  },
  {
   "cell_type": "markdown",
   "metadata": {},
   "source": [
    "We are going to use this dataset `20cc5eca-8c63-4c41-8e8e-134dcf1e6d76` (Active Fires VIIRS) as an example for widget creation.  \n",
    "`http://api.resourcewatch.org/fields/:dataset_id`  \n",
    "Field information to be able to build the dynamic query: \n",
    "\n",
    "```json  \n",
    "{\n",
    "\"tableName\": \"vnp14imgtdl_nrt_global_7d\",\n",
    "\"fields\": {\n",
    "\"cartodb_id\": {\n",
    "\"type\": \"number\"\n",
    "},\n",
    "\"the_geom\": {\n",
    "\"type\": \"geometry\"\n",
    "},\n",
    "\"the_geom_webmercator\": {\n",
    "\"type\": \"geometry\"\n",
    "},\n",
    "\"latitude\": {\n",
    "\"type\": \"number\"\n",
    "},\n",
    "\"longitude\": {\n",
    "\"type\": \"number\"\n",
    "},\n",
    "\"bright_ti4\": {\n",
    "\"type\": \"number\"\n",
    "},\n",
    "\"scan\": {\n",
    "\"type\": \"number\"\n",
    "},\n",
    "\"track\": {\n",
    "\"type\": \"number\"\n",
    "},\n",
    "\"acq_date\": {\n",
    "\"type\": \"date\"\n",
    "},\n",
    "\"acq_time\": {\n",
    "\"type\": \"string\"\n",
    "},\n",
    "\"satellite\": {\n",
    "\"type\": \"string\"\n",
    "},\n",
    "\"confidence\": {\n",
    "\"type\": \"string\"\n",
    "},\n",
    "\"version\": {\n",
    "\"type\": \"string\"\n",
    "},\n",
    "\"bright_ti5\": {\n",
    "\"type\": \"number\"\n",
    "},\n",
    "\"frp\": {\n",
    "\"type\": \"number\"\n",
    "},\n",
    "\"daynight\": {\n",
    "\"type\": \"string\"\n",
    "},\n",
    "\"_feature_count\": {\n",
    "\"type\": \"number\"\n",
    "}\n",
    "}\n",
    "}\n",
    "```\n",
    "\n"
   ]
  },
  {
   "cell_type": "markdown",
   "metadata": {},
   "source": [
    "With this we can define the sql query that we want to use. It is very important, if you are parametrizing the queries, you will need to make sure you keep the same columns and their aliases  \n",
    "```sql\n",
    "SELECT julian_day as x, count(julian_day) \n",
    "FROM index_e663eb0904de4f39b87135c6c2ed10b5 \n",
    "WHERE confidence > 50 and year > {year_begin} and julian_day >{dayyear_begin} and year < {year_end}  and julian_day < {dayyear_end}\n",
    "```"
   ]
  },
  {
   "cell_type": "markdown",
   "metadata": {},
   "source": [
    "We are going to define two simple widgets in vega 2.6 and add them to the api:\n",
    "* Bar: \n",
    "    * Data layout:\n",
    " \n",
    "| date | value |  \n",
    "|---|---|  \n",
    "| | |  \n",
    "| | |  \n",
    "* Line:\n",
    "    * Data layout:\n",
    "  \n",
    "|x|y|  \n",
    "|---|---|  \n",
    "| | |  \n",
    "| | |  \n",
    "\n",
    "* Pie:\n",
    "    * Data layout: \n",
    " \n",
    "|category|value|  \n",
    "|---|---|  \n",
    "|||  \n",
    "|||  \n",
    "\n",
    "\n",
    "\n",
    "\n"
   ]
  },
  {
   "cell_type": "code",
   "execution_count": 79,
   "metadata": {
    "collapsed": true
   },
   "outputs": [],
   "source": [
    "api_baseurl = 'https://api.resourcewatch.org/v1'\n",
    "\n",
    "def julian_day(date):\n",
    "    first_dayyear=datetime(date.year,1,1)\n",
    "    return abs(date - first_dayyear).days + 1\n",
    "\n",
    "\n",
    "def visualization(widget, base_queryUrl, sql, date_begin, date_end, geostore=None):\n",
    "    \n",
    "    api_widgetapi = api_baseurl + '/widget/{0}'.format(widget)\n",
    "    payload = {\"queryUrl\":base_queryUrl.format(sql.format(date_begin=date_begin.isoformat(), date_end=date_end.isoformat()))}\n",
    "    if geostore!=None:\n",
    "        payload.update({'geostore':geostore})\n",
    "    r = requests.get(api_widgetapi, params=payload)\n",
    "    if r.status_code != 200:\n",
    "        print(r.json())\n",
    "    else:\n",
    "        spec = json.dumps(r.json()['data']['attributes']['widgetConfig'])\n",
    "        display(Vega(json.loads(spec)));\n",
    "        display(Markdown(\"#### Call:  \"));\n",
    "        display(Markdown(\">>```  {0}  ```\".format(r.url)));\n",
    "        display(Markdown(\"#### Response:  \"));\n",
    "        display(Markdown(\"\"\">> ```json  \n",
    "        {0}  ```\"\"\".format((spec))));"
   ]
  },
  {
   "cell_type": "code",
   "execution_count": 81,
   "metadata": {},
   "outputs": [
    {
     "data": {
      "application/vnd.jupyter.widget-view+json": {
       "model_id": "9ee0344332a5420a8b9167821ea9c2db"
      }
     },
     "metadata": {},
     "output_type": "display_data"
    }
   ],
   "source": [
    "pos=Layout(display='flex',\n",
    "                    flex_flow='row',\n",
    "                    align_items='stretch',\n",
    "                    width='100%')\n",
    "options= {\n",
    "    'widgets':Dropdown(options={'line': 'a5796158-1342-4b1a-8a70-914d630738e2','bar': '19143822-3b11-407a-b3f7-7e98f6a1a024'}, description='Widget type:'),\n",
    "    'base_queryUrl':Textarea(value=api_baseurl+\"/query/20cc5eca-8c63-4c41-8e8e-134dcf1e6d76?sql={0}\", description='Url to query:',layout=pos),\n",
    "    'sql': Textarea(value=\"SELECT acq_date as x, count(acq_date) as y FROM vnp14imgtdl_nrt_global_7d WHERE acq_date >='{date_begin}' and acq_date < '{date_end}' group by acq_date order by acq_date asc\", description='Query:',layout=pos),    \n",
    "    'date_end': DatePicker(description='Date end', disabled=False, value=datetime.today()),\n",
    "    'date_begin': DatePicker(description='Date begin', disabled=False, value=datetime(2017,10,18)),\n",
    "    'geostore': Dropdown(options={'Afghanistan': '37b397a9a2860beb5c43a1f418d3c3d3', 'Brazil': 'd653e4fc0ed07a65b9db9b13477566fe', 'Custom area':'ae52478dc8ffe23f7fe175611c20b684'}, description='Geostore')  \n",
    "}\n",
    "\n",
    "display(interactive(visualization, widget=options['widgets'],base_queryUrl=options['base_queryUrl'], sql=options['sql'], date_begin=options['date_begin'], date_end=options['date_end'], geostore=options['geostore']));"
   ]
  },
  {
   "cell_type": "code",
   "execution_count": null,
   "metadata": {
    "collapsed": true
   },
   "outputs": [],
   "source": []
  },
  {
   "cell_type": "code",
   "execution_count": null,
   "metadata": {
    "collapsed": true
   },
   "outputs": [],
   "source": []
  }
 ],
 "metadata": {
  "kernelspec": {
   "display_name": "Python 3",
   "language": "python",
   "name": "python3"
  },
  "language_info": {
   "codemirror_mode": {
    "name": "ipython",
    "version": 3
   },
   "file_extension": ".py",
   "mimetype": "text/x-python",
   "name": "python",
   "nbconvert_exporter": "python",
   "pygments_lexer": "ipython3",
   "version": "3.6.1"
  },
  "toc": {
   "colors": {
    "hover_highlight": "#DAA520",
    "navigate_num": "#000000",
    "navigate_text": "#333333",
    "running_highlight": "#FF0000",
    "selected_highlight": "#FFD700",
    "sidebar_border": "#EEEEEE",
    "wrapper_background": "#FFFFFF"
   },
   "moveMenuLeft": true,
   "nav_menu": {
    "height": "12px",
    "width": "252px"
   },
   "navigate_menu": true,
   "number_sections": true,
   "sideBar": true,
   "threshold": "2",
   "toc_cell": true,
   "toc_section_display": "block",
   "toc_window_display": true,
   "widenNotebook": false
  },
  "varInspector": {
   "cols": {
    "lenName": 16,
    "lenType": 16,
    "lenVar": 40
   },
   "kernels_config": {
    "python": {
     "delete_cmd_postfix": "",
     "delete_cmd_prefix": "del ",
     "library": "var_list.py",
     "varRefreshCmd": "print(var_dic_list())"
    },
    "r": {
     "delete_cmd_postfix": ") ",
     "delete_cmd_prefix": "rm(",
     "library": "var_list.r",
     "varRefreshCmd": "cat(var_dic_list()) "
    }
   },
   "types_to_exclude": [
    "module",
    "function",
    "builtin_function_or_method",
    "instance",
    "_Feature"
   ],
   "window_display": false
  },
  "widgets": {
   "application/vnd.jupyter.widget-state+json": {
    "state": {
     "00f09a4701874468813819cc0c32af83": {
      "model_module": "jupyter-js-widgets",
      "model_module_version": "~2.1.4",
      "model_name": "LayoutModel",
      "state": {
       "_model_module_version": "~2.1.4",
       "_view_module_version": "~2.1.4"
      }
     },
     "00fbf9b520f046faa8c34c18bec174cd": {
      "model_module": "jupyter-js-widgets",
      "model_module_version": "~2.1.4",
      "model_name": "DropdownModel",
      "state": {
       "_model_module_version": "~2.1.4",
       "_options_labels": [
        "Afghanistan",
        "Brazil",
        "Custom area"
       ],
       "_view_module_version": "~2.1.4",
       "description": "geostore",
       "layout": "IPY_MODEL_0fc5f5ce51e146c590c39c11928877b5",
       "value": "Afghanistan"
      }
     },
     "014cff8af4404b9abe3f2a7cbaf2f15d": {
      "model_module": "jupyter-js-widgets",
      "model_module_version": "~2.1.4",
      "model_name": "VBoxModel",
      "state": {
       "_dom_classes": [
        "widget-interact"
       ],
       "_model_module_version": "~2.1.4",
       "_view_module_version": "~2.1.4",
       "children": [
        "IPY_MODEL_fcac333fb00d40babdfbdc81582a43b0",
        "IPY_MODEL_5c01b4f28f014073ab3f8fcf959e88b7",
        "IPY_MODEL_0866db5de591483bbc3317eb38be50b3",
        "IPY_MODEL_b012c6ca4fd04df796e60da780e5c507",
        "IPY_MODEL_883d74800113454f9424f2dfa4cbffa4"
       ],
       "layout": "IPY_MODEL_808848bfaa8c4205b3d42a9298c11c5e"
      }
     },
     "01bd6289fa6d4ae5be5ec08a4a1cdef2": {
      "model_module": "jupyter-js-widgets",
      "model_module_version": "~2.1.4",
      "model_name": "DatePickerModel",
      "state": {
       "_model_module_version": "~2.1.4",
       "_view_module_version": "~2.1.4",
       "description": "Date begin",
       "layout": "IPY_MODEL_d492de93a7864237b7dc276ea6a27204",
       "value": {
        "date": 18,
        "hours": 0,
        "milliseconds": 0,
        "minutes": 0,
        "month": 9,
        "seconds": 0,
        "year": 2017
       }
      }
     },
     "01c5dc1eb48b4dd2aea3c2ec5e5a4f85": {
      "model_module": "jupyter-js-widgets",
      "model_module_version": "~2.1.4",
      "model_name": "LayoutModel",
      "state": {
       "_model_module_version": "~2.1.4",
       "_view_module_version": "~2.1.4"
      }
     },
     "01c73f0f7f65401082f34e7982b9ff7c": {
      "model_module": "jupyter-js-widgets",
      "model_module_version": "~2.1.4",
      "model_name": "LayoutModel",
      "state": {
       "_model_module_version": "~2.1.4",
       "_view_module_version": "~2.1.4"
      }
     },
     "01d2fcdc9c5e46489e0620d759b4336f": {
      "model_module": "jupyter-js-widgets",
      "model_module_version": "~2.1.4",
      "model_name": "LayoutModel",
      "state": {
       "_model_module_version": "~2.1.4",
       "_view_module_version": "~2.1.4"
      }
     },
     "0339dd11582c4a6bb255a67b4e517eec": {
      "model_module": "jupyter-js-widgets",
      "model_module_version": "~2.1.4",
      "model_name": "DatePickerModel",
      "state": {
       "_model_module_version": "~2.1.4",
       "_view_module_version": "~2.1.4",
       "description": "Date begin",
       "layout": "IPY_MODEL_3d9b62e9a4ab447e957cd8f53ff189a6",
       "value": {
        "date": 18,
        "hours": 0,
        "milliseconds": 0,
        "minutes": 0,
        "month": 9,
        "seconds": 0,
        "year": 2017
       }
      }
     },
     "03c895e33733470a858a9002af8764e8": {
      "model_module": "jupyter-js-widgets",
      "model_module_version": "~2.1.4",
      "model_name": "LayoutModel",
      "state": {
       "_model_module_version": "~2.1.4",
       "_view_module_version": "~2.1.4"
      }
     },
     "0429f1fa028247039ebebd8a7a8bdb3a": {
      "model_module": "jupyter-js-widgets",
      "model_module_version": "~2.1.4",
      "model_name": "LayoutModel",
      "state": {
       "_model_module_version": "~2.1.4",
       "_view_module_version": "~2.1.4"
      }
     },
     "042cff72e21f4360b47b42615b672c38": {
      "model_module": "jupyter-js-widgets",
      "model_module_version": "~2.1.4",
      "model_name": "LayoutModel",
      "state": {
       "_model_module_version": "~2.1.4",
       "_view_module_version": "~2.1.4"
      }
     },
     "04f78376f22842278af605bf4fc00663": {
      "model_module": "jupyter-js-widgets",
      "model_module_version": "~2.1.4",
      "model_name": "VBoxModel",
      "state": {
       "_dom_classes": [
        "widget-interact"
       ],
       "_model_module_version": "~2.1.4",
       "_view_module_version": "~2.1.4",
       "children": [
        "IPY_MODEL_a270f6cec92446aa86540e414abadd50",
        "IPY_MODEL_066a0444bf0448d493f02695d52a37e1",
        "IPY_MODEL_5f52b3eb2ed6490c824ee973ccfdb484",
        "IPY_MODEL_af84a5f99afd4e7796c782caf280f6f7",
        "IPY_MODEL_c44a87ad73394bf6baf7c6c46dbeb7e4",
        "IPY_MODEL_75cae2f9156547018273fde9df45ac07",
        "IPY_MODEL_38363c946cb7435f9d5564ac8f92b45a"
       ],
       "layout": "IPY_MODEL_01c73f0f7f65401082f34e7982b9ff7c"
      }
     },
     "05390e94c7bd48d8ae050dc6181c99b1": {
      "model_module": "jupyter-js-widgets",
      "model_module_version": "~2.1.4",
      "model_name": "OutputModel",
      "state": {
       "_dom_classes": [],
       "_model_module": "jupyter-js-widgets",
       "_model_module_version": "~2.1.4",
       "_view_module": "jupyter-js-widgets",
       "_view_module_version": "~2.1.4",
       "layout": "IPY_MODEL_31d2b4ad78ed47db8106edc7155072f4",
       "msg_throttle": 1
      }
     },
     "058f256bb3cb4e4986c39ffb30f48f0e": {
      "model_module": "jupyter-js-widgets",
      "model_module_version": "~2.1.4",
      "model_name": "LayoutModel",
      "state": {
       "_model_module_version": "~2.1.4",
       "_view_module_version": "~2.1.4"
      }
     },
     "05bac6b6f7534624a5a7918a85ab3656": {
      "model_module": "jupyter-js-widgets",
      "model_module_version": "~2.1.4",
      "model_name": "LayoutModel",
      "state": {
       "_model_module_version": "~2.1.4",
       "_view_module_version": "~2.1.4"
      }
     },
     "066a0444bf0448d493f02695d52a37e1": {
      "model_module": "jupyter-js-widgets",
      "model_module_version": "~2.1.4",
      "model_name": "TextareaModel",
      "state": {
       "_model_module_version": "~2.1.4",
       "_view_module_version": "~2.1.4",
       "description": "Url to query:",
       "layout": "IPY_MODEL_93548911d802419388801c7902184271",
       "value": "https://api.resourcewatch.org/v1/query/20cc5eca-8c63-4c41-8e8e-134dcf1e6d76?sql={0}"
      }
     },
     "069dc2b6c5364accb6e8a1ad0de8675d": {
      "model_module": "jupyter-js-widgets",
      "model_module_version": "~2.1.4",
      "model_name": "LayoutModel",
      "state": {
       "_model_module_version": "~2.1.4",
       "_view_module_version": "~2.1.4"
      }
     },
     "085145cf463d481985542df1a2ec4221": {
      "model_module": "jupyter-js-widgets",
      "model_module_version": "~2.1.4",
      "model_name": "OutputModel",
      "state": {
       "_dom_classes": [],
       "_model_module": "jupyter-js-widgets",
       "_model_module_version": "~2.1.4",
       "_view_module": "jupyter-js-widgets",
       "_view_module_version": "~2.1.4",
       "layout": "IPY_MODEL_f1f6a158d2a0459b8c587eeae47b973f",
       "msg_throttle": 1
      }
     },
     "0866db5de591483bbc3317eb38be50b3": {
      "model_module": "jupyter-js-widgets",
      "model_module_version": "~2.1.4",
      "model_name": "DatePickerModel",
      "state": {
       "_model_module_version": "~2.1.4",
       "_view_module_version": "~2.1.4",
       "description": "Date end",
       "layout": "IPY_MODEL_9f809386a47e441e840e3b7425586d8c",
       "value": {
        "date": 23,
        "hours": 17,
        "milliseconds": 292,
        "minutes": 56,
        "month": 9,
        "seconds": 29,
        "year": 2017
       }
      }
     },
     "086af053e20d4416a74263a658d5c83e": {
      "model_module": "jupyter-js-widgets",
      "model_module_version": "~2.1.4",
      "model_name": "LayoutModel",
      "state": {
       "_model_module_version": "~2.1.4",
       "_view_module_version": "~2.1.4"
      }
     },
     "08caa8eb3af344bb8aa6ed9a59b9e496": {
      "model_module": "jupyter-js-widgets",
      "model_module_version": "~2.1.4",
      "model_name": "OutputModel",
      "state": {
       "_dom_classes": [],
       "_model_module": "jupyter-js-widgets",
       "_model_module_version": "~2.1.4",
       "_view_module": "jupyter-js-widgets",
       "_view_module_version": "~2.1.4",
       "layout": "IPY_MODEL_d5a28ee6192b40deaf0b3be3bc6c20b6",
       "msg_throttle": 1
      }
     },
     "08f9d948a2b44e968da29e25ec6c6101": {
      "model_module": "jupyter-js-widgets",
      "model_module_version": "~2.1.4",
      "model_name": "LayoutModel",
      "state": {
       "_model_module_version": "~2.1.4",
       "_view_module_version": "~2.1.4"
      }
     },
     "091ed6bf534741399f6b57934e4cd7a7": {
      "model_module": "jupyter-js-widgets",
      "model_module_version": "~2.1.4",
      "model_name": "LayoutModel",
      "state": {
       "_model_module_version": "~2.1.4",
       "_view_module_version": "~2.1.4"
      }
     },
     "09bc0dbdc28646a69f62dae87d15752a": {
      "model_module": "jupyter-js-widgets",
      "model_module_version": "~2.1.4",
      "model_name": "DropdownModel",
      "state": {
       "_model_module_version": "~2.1.4",
       "_options_labels": [
        "Afghanistan",
        "Brazil",
        "Custom area"
       ],
       "_view_module_version": "~2.1.4",
       "description": "Geostore",
       "layout": "IPY_MODEL_e71d0078ea3d45acb0826f578417e39d",
       "value": "Afghanistan"
      }
     },
     "09eec2d4fcdb46d5bd308a33d1d23fb7": {
      "model_module": "jupyter-js-widgets",
      "model_module_version": "~2.1.4",
      "model_name": "LayoutModel",
      "state": {
       "_model_module_version": "~2.1.4",
       "_view_module_version": "~2.1.4"
      }
     },
     "09f3dc464ca04ac989d9c1c4e03c18e9": {
      "model_module": "jupyter-js-widgets",
      "model_module_version": "~2.1.4",
      "model_name": "LayoutModel",
      "state": {
       "_model_module_version": "~2.1.4",
       "_view_module_version": "~2.1.4"
      }
     },
     "0a3688f4acc7404fa1a06b65e55e7363": {
      "model_module": "jupyter-js-widgets",
      "model_module_version": "~2.1.4",
      "model_name": "LayoutModel",
      "state": {
       "_model_module_version": "~2.1.4",
       "_view_module_version": "~2.1.4"
      }
     },
     "0a839e7c26204d8189c9f95f3152cf28": {
      "model_module": "jupyter-js-widgets",
      "model_module_version": "~2.1.4",
      "model_name": "DatePickerModel",
      "state": {
       "_model_module_version": "~2.1.4",
       "_view_module_version": "~2.1.4",
       "description": "Date end",
       "layout": "IPY_MODEL_b30fbe091bdc4b38934860d48984eb3c",
       "value": {
        "date": 24,
        "hours": 13,
        "milliseconds": 108,
        "minutes": 2,
        "month": 9,
        "seconds": 47,
        "year": 2017
       }
      }
     },
     "0aa94387cf1249ccb13c066fd8eb6c61": {
      "model_module": "jupyter-js-widgets",
      "model_module_version": "~2.1.4",
      "model_name": "OutputModel",
      "state": {
       "_dom_classes": [],
       "_model_module": "jupyter-js-widgets",
       "_model_module_version": "~2.1.4",
       "_view_module": "jupyter-js-widgets",
       "_view_module_version": "~2.1.4",
       "layout": "IPY_MODEL_b25275e1d1e049d98292e7888ff40edb",
       "msg_throttle": 1
      }
     },
     "0b2422dd74864df695c903ff9dbd90fa": {
      "model_module": "jupyter-js-widgets",
      "model_module_version": "~2.1.4",
      "model_name": "DropdownModel",
      "state": {
       "_model_module_version": "~2.1.4",
       "_options_labels": [
        "line"
       ],
       "_view_module_version": "~2.1.4",
       "description": "widget",
       "layout": "IPY_MODEL_5b3ebf34cf2e40d2a8403899fffb4ca5",
       "value": "line"
      }
     },
     "0b3ade41ef2a44d8a474a3192af82c95": {
      "model_module": "jupyter-js-widgets",
      "model_module_version": "~2.1.4",
      "model_name": "DropdownModel",
      "state": {
       "_model_module_version": "~2.1.4",
       "_options_labels": [
        "Afghanistan",
        "Brazil",
        "Custom area"
       ],
       "_view_module_version": "~2.1.4",
       "description": "geostore",
       "layout": "IPY_MODEL_dfdce9d7873442ab868c2bc65a8a40ef",
       "value": "Afghanistan"
      }
     },
     "0d5e12c760b6480d84cc21a8769b2d97": {
      "model_module": "jupyter-js-widgets",
      "model_module_version": "~2.1.4",
      "model_name": "LayoutModel",
      "state": {
       "_model_module_version": "~2.1.4",
       "_view_module_version": "~2.1.4"
      }
     },
     "0d7d51dafca9497aafb3a45993c0dc39": {
      "model_module": "jupyter-js-widgets",
      "model_module_version": "~2.1.4",
      "model_name": "LayoutModel",
      "state": {
       "_model_module_version": "~2.1.4",
       "_view_module_version": "~2.1.4"
      }
     },
     "0d7e72558ff84ad58972160bedc625da": {
      "model_module": "jupyter-js-widgets",
      "model_module_version": "~2.1.4",
      "model_name": "LayoutModel",
      "state": {
       "_model_module_version": "~2.1.4",
       "_view_module_version": "~2.1.4"
      }
     },
     "0e917262e70e422fb862fcf03806fe2a": {
      "model_module": "jupyter-js-widgets",
      "model_module_version": "~2.1.4",
      "model_name": "DatePickerModel",
      "state": {
       "_model_module_version": "~2.1.4",
       "_view_module_version": "~2.1.4",
       "description": "Date end",
       "layout": "IPY_MODEL_d2ae7ec460984c4a843d9f7d01194b9d",
       "value": {
        "date": 23,
        "hours": 17,
        "milliseconds": 483,
        "minutes": 50,
        "month": 9,
        "seconds": 0,
        "year": 2017
       }
      }
     },
     "0f232f9946c641ff8111ddf215b7bb33": {
      "model_module": "jupyter-js-widgets",
      "model_module_version": "~2.1.4",
      "model_name": "LayoutModel",
      "state": {
       "_model_module_version": "~2.1.4",
       "_view_module_version": "~2.1.4"
      }
     },
     "0f26484eb16f449a837fca75856100a1": {
      "model_module": "jupyter-js-widgets",
      "model_module_version": "~2.1.4",
      "model_name": "DatePickerModel",
      "state": {
       "_model_module_version": "~2.1.4",
       "_view_module_version": "~2.1.4",
       "description": "Date end",
       "layout": "IPY_MODEL_ff444813f3314165b5879ed00f885e5a",
       "value": {
        "date": 24,
        "hours": 13,
        "milliseconds": 432,
        "minutes": 0,
        "month": 9,
        "seconds": 42,
        "year": 2017
       }
      }
     },
     "0f35f866301448abbb0ec90f3daa9b13": {
      "model_module": "jupyter-js-widgets",
      "model_module_version": "~2.1.4",
      "model_name": "LayoutModel",
      "state": {
       "_model_module_version": "~2.1.4",
       "_view_module_version": "~2.1.4"
      }
     },
     "0f3bb9a890cf424b8d53e1eb41d1cc8c": {
      "model_module": "jupyter-js-widgets",
      "model_module_version": "~2.1.4",
      "model_name": "DatePickerModel",
      "state": {
       "_model_module_version": "~2.1.4",
       "_view_module_version": "~2.1.4",
       "description": "Date end",
       "layout": "IPY_MODEL_b44b90d2c4cc4bf28d82616e99dfce7d",
       "value": {
        "date": 23,
        "hours": 18,
        "milliseconds": 321,
        "minutes": 1,
        "month": 9,
        "seconds": 28,
        "year": 2017
       }
      }
     },
     "0f65482e13e84e21bba92faff6ead0ae": {
      "model_module": "jupyter-js-widgets",
      "model_module_version": "~2.1.4",
      "model_name": "LayoutModel",
      "state": {
       "_model_module_version": "~2.1.4",
       "_view_module_version": "~2.1.4",
       "align_items": "stretch",
       "display": "flex",
       "flex_flow": "row",
       "width": "100%"
      }
     },
     "0f82d618c16e4d689099dbef679ffba5": {
      "model_module": "jupyter-js-widgets",
      "model_module_version": "~2.1.4",
      "model_name": "VBoxModel",
      "state": {
       "_dom_classes": [
        "widget-interact"
       ],
       "_model_module_version": "~2.1.4",
       "_view_module_version": "~2.1.4",
       "children": [
        "IPY_MODEL_1c040ed3887943d5aa07a09791170186",
        "IPY_MODEL_8b9264aabdc045529708f21333dab35a",
        "IPY_MODEL_7aaf6c9960174e008abfa1be1284468c",
        "IPY_MODEL_0b3ade41ef2a44d8a474a3192af82c95",
        "IPY_MODEL_414edc57f9944ff0ab4abf76421fd9c3"
       ],
       "layout": "IPY_MODEL_45c2eb1d03c749b29efac82004b0cabc"
      }
     },
     "0fc5f5ce51e146c590c39c11928877b5": {
      "model_module": "jupyter-js-widgets",
      "model_module_version": "~2.1.4",
      "model_name": "LayoutModel",
      "state": {
       "_model_module_version": "~2.1.4",
       "_view_module_version": "~2.1.4"
      }
     },
     "10e3b70a0d2d4ac8963e37b0b97db8a4": {
      "model_module": "jupyter-js-widgets",
      "model_module_version": "~2.1.4",
      "model_name": "LayoutModel",
      "state": {
       "_model_module_version": "~2.1.4",
       "_view_module_version": "~2.1.4"
      }
     },
     "110756acb275410596c1f5db380612ae": {
      "model_module": "jupyter-js-widgets",
      "model_module_version": "~2.1.4",
      "model_name": "DatePickerModel",
      "state": {
       "_model_module_version": "~2.1.4",
       "_view_module_version": "~2.1.4",
       "description": "Date begin",
       "layout": "IPY_MODEL_a59ffc8389164407ba568c584b95f9cd",
       "value": {
        "date": 18,
        "hours": 0,
        "milliseconds": 0,
        "minutes": 0,
        "month": 9,
        "seconds": 0,
        "year": 2017
       }
      }
     },
     "112c6274ee894195a383090053b451e7": {
      "model_module": "jupyter-js-widgets",
      "model_module_version": "~2.1.4",
      "model_name": "VBoxModel",
      "state": {
       "_dom_classes": [
        "widget-interact"
       ],
       "_model_module_version": "~2.1.4",
       "_view_module_version": "~2.1.4",
       "children": [
        "IPY_MODEL_80ab0bd09ac4478f86908db31f9425bd",
        "IPY_MODEL_d4c148622d1146afb62ed39866772893",
        "IPY_MODEL_4afa31fc8ad148d7954ad801145edeb6",
        "IPY_MODEL_98d17be10e224500b5f42878a96fe957",
        "IPY_MODEL_962ab7afd8a44d25ac0b7444259c2024"
       ],
       "layout": "IPY_MODEL_1c517b76027c4f90ae3b8b9aa9437a59"
      }
     },
     "114e305111784c9a8023ca25736fe1b6": {
      "model_module": "jupyter-js-widgets",
      "model_module_version": "~2.1.4",
      "model_name": "LayoutModel",
      "state": {
       "_model_module_version": "~2.1.4",
       "_view_module_version": "~2.1.4"
      }
     },
     "1153d2756d0e4db7bafcf70dee687c96": {
      "model_module": "jupyter-js-widgets",
      "model_module_version": "~2.1.4",
      "model_name": "LayoutModel",
      "state": {
       "_model_module_version": "~2.1.4",
       "_view_module_version": "~2.1.4"
      }
     },
     "116d598749294d37bc3e495534114988": {
      "model_module": "jupyter-js-widgets",
      "model_module_version": "~2.1.4",
      "model_name": "DropdownModel",
      "state": {
       "_model_module_version": "~2.1.4",
       "_options_labels": [
        "Afghanistan",
        "Brazil",
        "Custom area"
       ],
       "_view_module_version": "~2.1.4",
       "description": "geostore",
       "layout": "IPY_MODEL_f0b9bf5dec2f4d59a3a760d560b371ea",
       "value": "Afghanistan"
      }
     },
     "12172af692b54ab09c84449d579cff74": {
      "model_module": "jupyter-js-widgets",
      "model_module_version": "~2.1.4",
      "model_name": "LayoutModel",
      "state": {
       "_model_module_version": "~2.1.4",
       "_view_module_version": "~2.1.4"
      }
     },
     "1236aaa4c6c6452bb2d9552a10395ab0": {
      "model_module": "jupyter-js-widgets",
      "model_module_version": "~2.1.4",
      "model_name": "LayoutModel",
      "state": {
       "_model_module_version": "~2.1.4",
       "_view_module_version": "~2.1.4"
      }
     },
     "1251bdcb39894947b719801f4bb5a011": {
      "model_module": "jupyter-js-widgets",
      "model_module_version": "~2.1.4",
      "model_name": "LayoutModel",
      "state": {
       "_model_module_version": "~2.1.4",
       "_view_module_version": "~2.1.4"
      }
     },
     "1254d452b5cd4eee9e23954e3c6b47fe": {
      "model_module": "jupyter-js-widgets",
      "model_module_version": "~2.1.4",
      "model_name": "VBoxModel",
      "state": {
       "_dom_classes": [
        "widget-interact"
       ],
       "_model_module_version": "~2.1.4",
       "_view_module_version": "~2.1.4",
       "children": [
        "IPY_MODEL_0b2422dd74864df695c903ff9dbd90fa",
        "IPY_MODEL_8f7900c289034f3e8011e0b172d42306",
        "IPY_MODEL_981dc2cd96844079a14ab86bace9a2fd",
        "IPY_MODEL_fc0483e060d241df8996dc680523f330",
        "IPY_MODEL_2aedf3517aff49689ec675f191c88ba1"
       ],
       "layout": "IPY_MODEL_155e360d1c7e4d2d9bd9a22e14e82d31"
      }
     },
     "129363bca4b8415f89fed41d118f447e": {
      "model_module": "jupyter-js-widgets",
      "model_module_version": "~2.1.4",
      "model_name": "DropdownModel",
      "state": {
       "_model_module_version": "~2.1.4",
       "_options_labels": [
        "Afghanistan",
        "Brazil",
        "Custom area"
       ],
       "_view_module_version": "~2.1.4",
       "description": "geostore",
       "layout": "IPY_MODEL_c2c91cd63be94d05ac73f887006cafad",
       "value": "Afghanistan"
      }
     },
     "12f5eb4f64df46799807a85db014d524": {
      "model_module": "jupyter-js-widgets",
      "model_module_version": "~2.1.4",
      "model_name": "DropdownModel",
      "state": {
       "_model_module_version": "~2.1.4",
       "_options_labels": [
        "line"
       ],
       "_view_module_version": "~2.1.4",
       "description": "widget",
       "layout": "IPY_MODEL_6bf892c2f37a414498da9215ebedc217",
       "value": "line"
      }
     },
     "1333c151064e4816b0dfebd63107302e": {
      "model_module": "jupyter-js-widgets",
      "model_module_version": "~2.1.4",
      "model_name": "LayoutModel",
      "state": {
       "_model_module_version": "~2.1.4",
       "_view_module_version": "~2.1.4"
      }
     },
     "1360953c245b435d9623527a7ffca6d9": {
      "model_module": "jupyter-js-widgets",
      "model_module_version": "~2.1.4",
      "model_name": "DropdownModel",
      "state": {
       "_model_module_version": "~2.1.4",
       "_options_labels": [
        "line"
       ],
       "_view_module_version": "~2.1.4",
       "description": "widget",
       "layout": "IPY_MODEL_3181f0f885474d1da698c8ca335c6337",
       "value": "line"
      }
     },
     "13ab2a05eb5e436988543832069faa18": {
      "model_module": "jupyter-js-widgets",
      "model_module_version": "~2.1.4",
      "model_name": "TextareaModel",
      "state": {
       "_model_module_version": "~2.1.4",
       "_view_module_version": "~2.1.4",
       "description": "Url to query:",
       "layout": "IPY_MODEL_22427a51d9df4e8f9c934069e4d9e5bc",
       "value": "https://api.resourcewatch.org/v1/query/20cc5eca-8c63-4c41-8e8e-134dcf1e6d76?sql={0}"
      }
     },
     "13b17c558f86488abe7b58c3de425ee3": {
      "model_module": "jupyter-js-widgets",
      "model_module_version": "~2.1.4",
      "model_name": "TextareaModel",
      "state": {
       "_model_module_version": "~2.1.4",
       "_view_module_version": "~2.1.4",
       "description": "Query:",
       "layout": "IPY_MODEL_2e5782f715104446938dd3a2b1fed858",
       "value": "SELECT acq_date as x, count(acq_date) as y FROM vnp14imgtdl_nrt_global_7d WHERE acq_date >='{date_begin}' and acq_date < '{date_end}' group by acq_date order by acq_date asc"
      }
     },
     "13c701db90cd4fb6b3a57ab1d3ed592e": {
      "model_module": "jupyter-js-widgets",
      "model_module_version": "~2.1.4",
      "model_name": "VBoxModel",
      "state": {
       "_dom_classes": [
        "widget-interact"
       ],
       "_model_module_version": "~2.1.4",
       "_view_module_version": "~2.1.4",
       "children": [
        "IPY_MODEL_49dd536d8b5c4069a20ac8a3cf2878af",
        "IPY_MODEL_13ab2a05eb5e436988543832069faa18",
        "IPY_MODEL_87fe535a8f3e4926a83650141f426f53",
        "IPY_MODEL_f91fc2be75ed4887b7c6e65e7c26a803",
        "IPY_MODEL_1ca9353ee638466f88b6725ee010bd94",
        "IPY_MODEL_09bc0dbdc28646a69f62dae87d15752a",
        "IPY_MODEL_3cbebd93e41f4cc3aebee49b855b79e3"
       ],
       "layout": "IPY_MODEL_dfdf46f0cf954d2fbd679a1afb763e86"
      }
     },
     "142b60e86d6f46618e84a2ff9a2da22d": {
      "model_module": "jupyter-js-widgets",
      "model_module_version": "~2.1.4",
      "model_name": "LayoutModel",
      "state": {
       "_model_module_version": "~2.1.4",
       "_view_module_version": "~2.1.4"
      }
     },
     "1436d173bd644f8283bf974045589aad": {
      "model_module": "jupyter-js-widgets",
      "model_module_version": "~2.1.4",
      "model_name": "LayoutModel",
      "state": {
       "_model_module_version": "~2.1.4",
       "_view_module_version": "~2.1.4"
      }
     },
     "1461b74631214c13b1821a3c8c6457f0": {
      "model_module": "jupyter-js-widgets",
      "model_module_version": "~2.1.4",
      "model_name": "DatePickerModel",
      "state": {
       "_model_module_version": "~2.1.4",
       "_view_module_version": "~2.1.4",
       "description": "Date begin",
       "layout": "IPY_MODEL_4aba7267c09144cd89e23929bc2a57e0",
       "value": {
        "date": 18,
        "hours": 0,
        "milliseconds": 0,
        "minutes": 0,
        "month": 9,
        "seconds": 0,
        "year": 2017
       }
      }
     },
     "155e360d1c7e4d2d9bd9a22e14e82d31": {
      "model_module": "jupyter-js-widgets",
      "model_module_version": "~2.1.4",
      "model_name": "LayoutModel",
      "state": {
       "_model_module_version": "~2.1.4",
       "_view_module_version": "~2.1.4"
      }
     },
     "15aa5bd72de148d0b836285248fb71d2": {
      "model_module": "jupyter-js-widgets",
      "model_module_version": "~2.1.4",
      "model_name": "LayoutModel",
      "state": {
       "_model_module_version": "~2.1.4",
       "_view_module_version": "~2.1.4"
      }
     },
     "163a1d9594e2461d8c0907d8be3d1701": {
      "model_module": "jupyter-js-widgets",
      "model_module_version": "~2.1.4",
      "model_name": "LayoutModel",
      "state": {
       "_model_module_version": "~2.1.4",
       "_view_module_version": "~2.1.4"
      }
     },
     "167f87d4c93b4fe6b4f742ffdee5de82": {
      "model_module": "jupyter-js-widgets",
      "model_module_version": "~2.1.4",
      "model_name": "LayoutModel",
      "state": {
       "_model_module_version": "~2.1.4",
       "_view_module_version": "~2.1.4"
      }
     },
     "177100d23b394a6983a62e7b3ac38d53": {
      "model_module": "jupyter-js-widgets",
      "model_module_version": "~2.1.4",
      "model_name": "DropdownModel",
      "state": {
       "_model_module_version": "~2.1.4",
       "_options_labels": [
        "Afghanistan",
        "Brazil",
        "Custom area"
       ],
       "_view_module_version": "~2.1.4",
       "description": "geostore",
       "layout": "IPY_MODEL_f18f7ec8080b4f639904671faab4eac0",
       "value": "Afghanistan"
      }
     },
     "17a6e23df91c460aa296f6fb7c23e9a5": {
      "model_module": "jupyter-js-widgets",
      "model_module_version": "~2.1.4",
      "model_name": "LayoutModel",
      "state": {
       "_model_module_version": "~2.1.4",
       "_view_module_version": "~2.1.4"
      }
     },
     "17d33f09fa5c4f629c8bd53c030b46a6": {
      "model_module": "jupyter-js-widgets",
      "model_module_version": "~2.1.4",
      "model_name": "DropdownModel",
      "state": {
       "_model_module_version": "~2.1.4",
       "_options_labels": [
        "line"
       ],
       "_view_module_version": "~2.1.4",
       "description": "widget",
       "layout": "IPY_MODEL_da81857ae70f4ae9b6275f907d51827b",
       "value": "line"
      }
     },
     "180fc6326ff14490a07cc138621deacf": {
      "model_module": "jupyter-js-widgets",
      "model_module_version": "~2.1.4",
      "model_name": "LayoutModel",
      "state": {
       "_model_module_version": "~2.1.4",
       "_view_module_version": "~2.1.4"
      }
     },
     "181ec2416b9249b09458d429b81be018": {
      "model_module": "jupyter-js-widgets",
      "model_module_version": "~2.1.4",
      "model_name": "VBoxModel",
      "state": {
       "_dom_classes": [
        "widget-interact"
       ],
       "_model_module_version": "~2.1.4",
       "_view_module_version": "~2.1.4",
       "children": [
        "IPY_MODEL_76de60d92e7a49c9bf765c90463f5ead",
        "IPY_MODEL_0339dd11582c4a6bb255a67b4e517eec",
        "IPY_MODEL_918907d2a7274ebfa73960866b6e2701",
        "IPY_MODEL_3e2052d907c14f2fbd2463e327cd6684",
        "IPY_MODEL_e6e65780ae804aa5a36766cb4e0b9852"
       ],
       "layout": "IPY_MODEL_4c40f789907c437d9b094d8b05e043b5"
      }
     },
     "18515b78b960436a9652ac815da86913": {
      "model_module": "jupyter-js-widgets",
      "model_module_version": "~2.1.4",
      "model_name": "VBoxModel",
      "state": {
       "_dom_classes": [
        "widget-interact"
       ],
       "_model_module_version": "~2.1.4",
       "_view_module_version": "~2.1.4",
       "children": [
        "IPY_MODEL_f647ca91d67845da99525e815a28df02",
        "IPY_MODEL_526f7e7d10e641afb96ef54fd5851b99",
        "IPY_MODEL_5cb9122483324200b7bc478cee52492d",
        "IPY_MODEL_65c7aea6c136475dad6fdfb36c93f321",
        "IPY_MODEL_8abc298e6e1241c9b02eb2120577229b"
       ],
       "layout": "IPY_MODEL_57ab7a9cd0064a79aafa34d882f260a9"
      }
     },
     "187201959ce64a388c542f6c5277b916": {
      "model_module": "jupyter-js-widgets",
      "model_module_version": "~2.1.4",
      "model_name": "LayoutModel",
      "state": {
       "_model_module_version": "~2.1.4",
       "_view_module_version": "~2.1.4"
      }
     },
     "18f907534acd4928b2f49e0676a9de6e": {
      "model_module": "jupyter-js-widgets",
      "model_module_version": "~2.1.4",
      "model_name": "LayoutModel",
      "state": {
       "_model_module_version": "~2.1.4",
       "_view_module_version": "~2.1.4"
      }
     },
     "197f1c90ff1d446b93d2579488ea463c": {
      "model_module": "jupyter-js-widgets",
      "model_module_version": "~2.1.4",
      "model_name": "DropdownModel",
      "state": {
       "_model_module_version": "~2.1.4",
       "_options_labels": [
        "Afghanistan",
        "Brazil",
        "Custom area"
       ],
       "_view_module_version": "~2.1.4",
       "description": "geostore",
       "layout": "IPY_MODEL_990fe2e7f6024d329d042ff1f8628116",
       "value": "Afghanistan"
      }
     },
     "19efa1bdb23a4874b5e3cec69c594c59": {
      "model_module": "jupyter-js-widgets",
      "model_module_version": "~2.1.4",
      "model_name": "DropdownModel",
      "state": {
       "_model_module_version": "~2.1.4",
       "_options_labels": [
        "Afghanistan",
        "Brazil",
        "Custom area"
       ],
       "_view_module_version": "~2.1.4",
       "description": "geostore",
       "layout": "IPY_MODEL_918369f0c0a24cd189bacfcb9fc22596",
       "value": "Afghanistan"
      }
     },
     "1ab5960849d1441798f669cbc965ca0e": {
      "model_module": "jupyter-js-widgets",
      "model_module_version": "~2.1.4",
      "model_name": "OutputModel",
      "state": {
       "_dom_classes": [],
       "_model_module": "jupyter-js-widgets",
       "_model_module_version": "~2.1.4",
       "_view_module": "jupyter-js-widgets",
       "_view_module_version": "~2.1.4",
       "layout": "IPY_MODEL_0f232f9946c641ff8111ddf215b7bb33",
       "msg_throttle": 1
      }
     },
     "1ac947b7e07043acae33ea8a72383c8e": {
      "model_module": "jupyter-js-widgets",
      "model_module_version": "~2.1.4",
      "model_name": "DropdownModel",
      "state": {
       "_model_module_version": "~2.1.4",
       "_options_labels": [
        "Afghanistan",
        "Brazil",
        "Custom area"
       ],
       "_view_module_version": "~2.1.4",
       "description": "geostore",
       "layout": "IPY_MODEL_6642d31643a449dda0243087048d25e6",
       "value": "Afghanistan"
      }
     },
     "1aca8019ba4a4b0794586ac8cafa3a3b": {
      "model_module": "jupyter-js-widgets",
      "model_module_version": "~2.1.4",
      "model_name": "OutputModel",
      "state": {
       "_dom_classes": [],
       "_model_module": "jupyter-js-widgets",
       "_model_module_version": "~2.1.4",
       "_view_module": "jupyter-js-widgets",
       "_view_module_version": "~2.1.4",
       "layout": "IPY_MODEL_7432bb40337a4e1aa7fdb8833638b255",
       "msg_throttle": 1
      }
     },
     "1b416cf5d21045199886047a43c5fbca": {
      "model_module": "jupyter-js-widgets",
      "model_module_version": "~2.1.4",
      "model_name": "DatePickerModel",
      "state": {
       "_model_module_version": "~2.1.4",
       "_view_module_version": "~2.1.4",
       "description": "Date begin",
       "layout": "IPY_MODEL_59d10049ba6f4a6f878315e63e6c9eeb",
       "value": {
        "date": 18,
        "hours": 0,
        "milliseconds": 0,
        "minutes": 0,
        "month": 9,
        "seconds": 0,
        "year": 2017
       }
      }
     },
     "1bec378e1bee4761a8dca70906d78861": {
      "model_module": "jupyter-js-widgets",
      "model_module_version": "~2.1.4",
      "model_name": "LayoutModel",
      "state": {
       "_model_module_version": "~2.1.4",
       "_view_module_version": "~2.1.4"
      }
     },
     "1bfe4246d2b24cef9f433c03a404225e": {
      "model_module": "jupyter-js-widgets",
      "model_module_version": "~2.1.4",
      "model_name": "LayoutModel",
      "state": {
       "_model_module_version": "~2.1.4",
       "_view_module_version": "~2.1.4"
      }
     },
     "1c040ed3887943d5aa07a09791170186": {
      "model_module": "jupyter-js-widgets",
      "model_module_version": "~2.1.4",
      "model_name": "DropdownModel",
      "state": {
       "_model_module_version": "~2.1.4",
       "_options_labels": [
        "line"
       ],
       "_view_module_version": "~2.1.4",
       "description": "widget",
       "layout": "IPY_MODEL_c04b5bede51049bcb40de916effe3e4c",
       "value": "line"
      }
     },
     "1c12791107ed4501a0e304511016e0cc": {
      "model_module": "jupyter-js-widgets",
      "model_module_version": "~2.1.4",
      "model_name": "DropdownModel",
      "state": {
       "_model_module_version": "~2.1.4",
       "_options_labels": [
        "line"
       ],
       "_view_module_version": "~2.1.4",
       "description": "widget",
       "layout": "IPY_MODEL_d2422ed028c04ece82d8ca27775d251a",
       "value": "line"
      }
     },
     "1c49eefb3f374eae8c1ed40a5c81fa05": {
      "model_module": "jupyter-js-widgets",
      "model_module_version": "~2.1.4",
      "model_name": "DatePickerModel",
      "state": {
       "_model_module_version": "~2.1.4",
       "_view_module_version": "~2.1.4",
       "description": "Date begin",
       "layout": "IPY_MODEL_258c507564b84bbdbed1244b8584db5d",
       "value": {
        "date": 18,
        "hours": 0,
        "milliseconds": 0,
        "minutes": 0,
        "month": 9,
        "seconds": 0,
        "year": 2017
       }
      }
     },
     "1c4de96be9b0478a8f2e80723e7ac239": {
      "model_module": "jupyter-js-widgets",
      "model_module_version": "~2.1.4",
      "model_name": "DatePickerModel",
      "state": {
       "_model_module_version": "~2.1.4",
       "_view_module_version": "~2.1.4",
       "description": "Date begin",
       "layout": "IPY_MODEL_dc2ae1a8a1d947bb9a9ab904ef5ef42a",
       "value": {
        "date": 18,
        "hours": 0,
        "milliseconds": 0,
        "minutes": 0,
        "month": 9,
        "seconds": 0,
        "year": 2017
       }
      }
     },
     "1c517b76027c4f90ae3b8b9aa9437a59": {
      "model_module": "jupyter-js-widgets",
      "model_module_version": "~2.1.4",
      "model_name": "LayoutModel",
      "state": {
       "_model_module_version": "~2.1.4",
       "_view_module_version": "~2.1.4"
      }
     },
     "1ca9353ee638466f88b6725ee010bd94": {
      "model_module": "jupyter-js-widgets",
      "model_module_version": "~2.1.4",
      "model_name": "DatePickerModel",
      "state": {
       "_model_module_version": "~2.1.4",
       "_view_module_version": "~2.1.4",
       "description": "Date end",
       "layout": "IPY_MODEL_dbbac79cc72649fbb53f017715e7d108",
       "value": {
        "date": 24,
        "hours": 15,
        "milliseconds": 260,
        "minutes": 12,
        "month": 9,
        "seconds": 17,
        "year": 2017
       }
      }
     },
     "1caa4bc2ebfe42c39df9bab1f2fe091b": {
      "model_module": "jupyter-js-widgets",
      "model_module_version": "~2.1.4",
      "model_name": "DatePickerModel",
      "state": {
       "_model_module_version": "~2.1.4",
       "_view_module_version": "~2.1.4",
       "description": "Date begin",
       "layout": "IPY_MODEL_bf18a9004cc1401494bae94971998465",
       "value": {
        "date": 18,
        "hours": 0,
        "milliseconds": 0,
        "minutes": 0,
        "month": 9,
        "seconds": 0,
        "year": 2017
       }
      }
     },
     "1cafbe8bd74149068b7f879fa279c98c": {
      "model_module": "jupyter-js-widgets",
      "model_module_version": "~2.1.4",
      "model_name": "LayoutModel",
      "state": {
       "_model_module_version": "~2.1.4",
       "_view_module_version": "~2.1.4"
      }
     },
     "1cf999cb60834743a991f23d50ed71a5": {
      "model_module": "jupyter-js-widgets",
      "model_module_version": "~2.1.4",
      "model_name": "LayoutModel",
      "state": {
       "_model_module_version": "~2.1.4",
       "_view_module_version": "~2.1.4"
      }
     },
     "1d4b3490a5804f60a36c1fd9f09e5ed5": {
      "model_module": "jupyter-js-widgets",
      "model_module_version": "~2.1.4",
      "model_name": "LayoutModel",
      "state": {
       "_model_module_version": "~2.1.4",
       "_view_module_version": "~2.1.4"
      }
     },
     "1d582854978146f89a5728094b282faa": {
      "model_module": "jupyter-js-widgets",
      "model_module_version": "~2.1.4",
      "model_name": "LayoutModel",
      "state": {
       "_model_module_version": "~2.1.4",
       "_view_module_version": "~2.1.4"
      }
     },
     "1d6cf75988aa42aca43747a296e25fb9": {
      "model_module": "jupyter-js-widgets",
      "model_module_version": "~2.1.4",
      "model_name": "LayoutModel",
      "state": {
       "_model_module_version": "~2.1.4",
       "_view_module_version": "~2.1.4"
      }
     },
     "1e3ac02229ce42fa8a9a3b193ddbc2a9": {
      "model_module": "jupyter-js-widgets",
      "model_module_version": "~2.1.4",
      "model_name": "LayoutModel",
      "state": {
       "_model_module_version": "~2.1.4",
       "_view_module_version": "~2.1.4"
      }
     },
     "1e94b9236e094e02b0a7753fe876cdba": {
      "model_module": "jupyter-js-widgets",
      "model_module_version": "~2.1.4",
      "model_name": "LayoutModel",
      "state": {
       "_model_module_version": "~2.1.4",
       "_view_module_version": "~2.1.4"
      }
     },
     "1ea8d118c89b4a83900112188774caf4": {
      "model_module": "jupyter-js-widgets",
      "model_module_version": "~2.1.4",
      "model_name": "VBoxModel",
      "state": {
       "_dom_classes": [
        "widget-interact"
       ],
       "_model_module_version": "~2.1.4",
       "_view_module_version": "~2.1.4",
       "children": [
        "IPY_MODEL_3d6e01e10cc845d38c3a31115d128eaf",
        "IPY_MODEL_b6383b9a6e764ed28982ea88d59a07b4",
        "IPY_MODEL_a8588153f1c7459dbb0a45a60b5ab092",
        "IPY_MODEL_e417d75db67f469c8ea6f8d3e319ca8c",
        "IPY_MODEL_4b201de3d2864e9486ccaac1b17de02b",
        "IPY_MODEL_39d4755fe2ad45fc910e0a1a1ce1a799",
        "IPY_MODEL_5efb0fc855ba44c783fbaa2392c901e9"
       ],
       "layout": "IPY_MODEL_ac9ec659bbaf4505bccfab87af926822"
      }
     },
     "1eec977d55ce4801827906e13fc3fc8d": {
      "model_module": "jupyter-js-widgets",
      "model_module_version": "~2.1.4",
      "model_name": "LayoutModel",
      "state": {
       "_model_module_version": "~2.1.4",
       "_view_module_version": "~2.1.4"
      }
     },
     "1f641f1fa25d4431a9431357e38d5e1e": {
      "model_module": "jupyter-js-widgets",
      "model_module_version": "~2.1.4",
      "model_name": "DatePickerModel",
      "state": {
       "_model_module_version": "~2.1.4",
       "_view_module_version": "~2.1.4",
       "description": "Date begin",
       "layout": "IPY_MODEL_e258c09cbe5b4eccaa4039c5d7925c45",
       "value": {
        "date": 18,
        "hours": 0,
        "milliseconds": 0,
        "minutes": 0,
        "month": 9,
        "seconds": 0,
        "year": 2017
       }
      }
     },
     "1f69285d97a645bd922c5a0ea1bd6ff4": {
      "model_module": "jupyter-js-widgets",
      "model_module_version": "~2.1.4",
      "model_name": "VBoxModel",
      "state": {
       "_dom_classes": [
        "widget-interact"
       ],
       "_model_module_version": "~2.1.4",
       "_view_module_version": "~2.1.4",
       "children": [
        "IPY_MODEL_12f5eb4f64df46799807a85db014d524",
        "IPY_MODEL_f4105495347c416dbdf0b131bc7437d3",
        "IPY_MODEL_e859cf602bd74e888d4735472bf6a307",
        "IPY_MODEL_9aa545984449475d8b02d779212698cb",
        "IPY_MODEL_5f9808eae08b492b903de29a9567c8b7"
       ],
       "layout": "IPY_MODEL_9607db72cee641e99306f38fd4aad0c0"
      }
     },
     "1f8f62a9ba7842e18dff3933e534c549": {
      "model_module": "jupyter-js-widgets",
      "model_module_version": "~2.1.4",
      "model_name": "LayoutModel",
      "state": {
       "_model_module_version": "~2.1.4",
       "_view_module_version": "~2.1.4",
       "align_items": "stretch",
       "border": "solid",
       "display": "flex",
       "flex_flow": "column",
       "width": "50%"
      }
     },
     "206b9b57676c4ce68a191238397c3731": {
      "model_module": "jupyter-js-widgets",
      "model_module_version": "~2.1.4",
      "model_name": "LayoutModel",
      "state": {
       "_model_module_version": "~2.1.4",
       "_view_module_version": "~2.1.4"
      }
     },
     "207e50834fb34e049e1b8355b3cf3830": {
      "model_module": "jupyter-js-widgets",
      "model_module_version": "~2.1.4",
      "model_name": "DropdownModel",
      "state": {
       "_model_module_version": "~2.1.4",
       "_options_labels": [
        "Afghanistan",
        "Brazil",
        "Custom area"
       ],
       "_view_module_version": "~2.1.4",
       "description": "geostore",
       "layout": "IPY_MODEL_cb1e91b78a334fcaa5fb0fd3641af1b3",
       "value": "Afghanistan"
      }
     },
     "2089cfc8e0a847b3b482f15d2da3c41a": {
      "model_module": "jupyter-js-widgets",
      "model_module_version": "~2.1.4",
      "model_name": "LayoutModel",
      "state": {
       "_model_module_version": "~2.1.4",
       "_view_module_version": "~2.1.4"
      }
     },
     "214b88388ee14c14a83eaea4b5b601b1": {
      "model_module": "jupyter-js-widgets",
      "model_module_version": "~2.1.4",
      "model_name": "LayoutModel",
      "state": {
       "_model_module_version": "~2.1.4",
       "_view_module_version": "~2.1.4"
      }
     },
     "215d64f438444f8ca1725ff4893ee452": {
      "model_module": "jupyter-js-widgets",
      "model_module_version": "~2.1.4",
      "model_name": "VBoxModel",
      "state": {
       "_dom_classes": [
        "widget-interact"
       ],
       "_model_module_version": "~2.1.4",
       "_view_module_version": "~2.1.4",
       "children": [
        "IPY_MODEL_3ef9faa3b869414aa95982c33c5efab8",
        "IPY_MODEL_d0aa8bc1ace6413ea291d5945016f2d8",
        "IPY_MODEL_76a31e37a10046e08de507e084aff77c",
        "IPY_MODEL_b695735920604f319025f4e3cab0ac7c",
        "IPY_MODEL_339e1107fbde4be4869568dfc1cedbaf"
       ],
       "layout": "IPY_MODEL_e5077d2d77804c12b59f91e7c5263a4e"
      }
     },
     "217fa17d47884600a9737a5ae45fd8ab": {
      "model_module": "jupyter-js-widgets",
      "model_module_version": "~2.1.4",
      "model_name": "OutputModel",
      "state": {
       "_dom_classes": [],
       "_model_module": "jupyter-js-widgets",
       "_model_module_version": "~2.1.4",
       "_view_module": "jupyter-js-widgets",
       "_view_module_version": "~2.1.4",
       "layout": "IPY_MODEL_d0f2431e1aa8494a966713d361eeaf36",
       "msg_throttle": 1
      }
     },
     "218f0d732fd8446ab3815c36d9708e31": {
      "model_module": "jupyter-js-widgets",
      "model_module_version": "~2.1.4",
      "model_name": "LayoutModel",
      "state": {
       "_model_module_version": "~2.1.4",
       "_view_module_version": "~2.1.4"
      }
     },
     "21a348745f35456fb4187ea8bdfc3f6c": {
      "model_module": "jupyter-js-widgets",
      "model_module_version": "~2.1.4",
      "model_name": "VBoxModel",
      "state": {
       "_dom_classes": [
        "widget-interact"
       ],
       "_model_module_version": "~2.1.4",
       "_view_module_version": "~2.1.4",
       "children": [
        "IPY_MODEL_c415a834293a4371b7aa57276cccae30",
        "IPY_MODEL_ffc8daeafef84922986c766bc77b81f5",
        "IPY_MODEL_88009f65750e4c098e6e6c32297b8163",
        "IPY_MODEL_dd7427c5814f4322bdef86d02e26b528",
        "IPY_MODEL_1aca8019ba4a4b0794586ac8cafa3a3b"
       ],
       "layout": "IPY_MODEL_1236aaa4c6c6452bb2d9552a10395ab0"
      }
     },
     "21b2e6a72cf948dd860a38687e27c2bf": {
      "model_module": "jupyter-js-widgets",
      "model_module_version": "~2.1.4",
      "model_name": "LayoutModel",
      "state": {
       "_model_module_version": "~2.1.4",
       "_view_module_version": "~2.1.4"
      }
     },
     "220f99be054940d7ac6b99fb70a3d538": {
      "model_module": "jupyter-js-widgets",
      "model_module_version": "~2.1.4",
      "model_name": "VBoxModel",
      "state": {
       "_dom_classes": [
        "widget-interact"
       ],
       "_model_module_version": "~2.1.4",
       "_view_module_version": "~2.1.4",
       "children": [
        "IPY_MODEL_bbe36276b9bc49c4a7ba494ebd6cf524",
        "IPY_MODEL_24c76073e4ec4867b10e41cd8f4d63e3",
        "IPY_MODEL_95fe6999bda5487891939ee70164ed48",
        "IPY_MODEL_40a5c142bc6f4f02a5e8cc9705c5631b",
        "IPY_MODEL_e33c0a65583f4df294c420afc4041363"
       ],
       "layout": "IPY_MODEL_5fb6f240a5a5432eafb03d8069db9eee"
      }
     },
     "22427a51d9df4e8f9c934069e4d9e5bc": {
      "model_module": "jupyter-js-widgets",
      "model_module_version": "~2.1.4",
      "model_name": "LayoutModel",
      "state": {
       "_model_module_version": "~2.1.4",
       "_view_module_version": "~2.1.4",
       "align_items": "stretch",
       "display": "flex",
       "flex_flow": "row",
       "width": "100%"
      }
     },
     "22603e9e8ef84c15aacb3d4ba0b0bd15": {
      "model_module": "jupyter-js-widgets",
      "model_module_version": "~2.1.4",
      "model_name": "LayoutModel",
      "state": {
       "_model_module_version": "~2.1.4",
       "_view_module_version": "~2.1.4",
       "align_items": "stretch",
       "display": "flex",
       "flex_flow": "column",
       "width": "50%"
      }
     },
     "22633f2c4e9642b4b929dd05ea13a574": {
      "model_module": "jupyter-js-widgets",
      "model_module_version": "~2.1.4",
      "model_name": "LayoutModel",
      "state": {
       "_model_module_version": "~2.1.4",
       "_view_module_version": "~2.1.4"
      }
     },
     "233cf99f11c446c2acabf93bdd2ddcd9": {
      "model_module": "jupyter-js-widgets",
      "model_module_version": "~2.1.4",
      "model_name": "OutputModel",
      "state": {
       "_dom_classes": [],
       "_model_module": "jupyter-js-widgets",
       "_model_module_version": "~2.1.4",
       "_view_module": "jupyter-js-widgets",
       "_view_module_version": "~2.1.4",
       "layout": "IPY_MODEL_971a2f0c24ad4a6c9fecb91bafa486df",
       "msg_throttle": 1
      }
     },
     "234525bf447241e98248dcbf3d42904d": {
      "model_module": "jupyter-js-widgets",
      "model_module_version": "~2.1.4",
      "model_name": "DatePickerModel",
      "state": {
       "_model_module_version": "~2.1.4",
       "_view_module_version": "~2.1.4",
       "description": "Date begin",
       "layout": "IPY_MODEL_59babe27f6bf486ea9c8e5f6a8825ff6",
       "value": {
        "date": 18,
        "hours": 0,
        "milliseconds": 0,
        "minutes": 0,
        "month": 9,
        "seconds": 0,
        "year": 2017
       }
      }
     },
     "2363709800324842b1394db56990956c": {
      "model_module": "jupyter-js-widgets",
      "model_module_version": "~2.1.4",
      "model_name": "LayoutModel",
      "state": {
       "_model_module_version": "~2.1.4",
       "_view_module_version": "~2.1.4"
      }
     },
     "239032f2366349cdba5814f88682b0d0": {
      "model_module": "jupyter-js-widgets",
      "model_module_version": "~2.1.4",
      "model_name": "DropdownModel",
      "state": {
       "_model_module_version": "~2.1.4",
       "_options_labels": [
        "line"
       ],
       "_view_module_version": "~2.1.4",
       "description": "widget",
       "layout": "IPY_MODEL_dedf8285b7cc41da9f28cb919219d85c",
       "value": "line"
      }
     },
     "23ef5cc0d0894590bbda4cc1d1bb804e": {
      "model_module": "jupyter-js-widgets",
      "model_module_version": "~2.1.4",
      "model_name": "OutputModel",
      "state": {
       "_dom_classes": [],
       "_model_module": "jupyter-js-widgets",
       "_model_module_version": "~2.1.4",
       "_view_module": "jupyter-js-widgets",
       "_view_module_version": "~2.1.4",
       "layout": "IPY_MODEL_b6a4a33afebd4b86876e2ee0d9a64041",
       "msg_throttle": 1
      }
     },
     "2486627b899e4ef888c16fd108035164": {
      "model_module": "jupyter-js-widgets",
      "model_module_version": "~2.1.4",
      "model_name": "DatePickerModel",
      "state": {
       "_model_module_version": "~2.1.4",
       "_view_module_version": "~2.1.4",
       "description": "Date begin",
       "layout": "IPY_MODEL_a57306055af0494cb0c2506197d457a1",
       "value": {
        "date": 18,
        "hours": 0,
        "milliseconds": 0,
        "minutes": 0,
        "month": 9,
        "seconds": 0,
        "year": 2017
       }
      }
     },
     "24c76073e4ec4867b10e41cd8f4d63e3": {
      "model_module": "jupyter-js-widgets",
      "model_module_version": "~2.1.4",
      "model_name": "DatePickerModel",
      "state": {
       "_model_module_version": "~2.1.4",
       "_view_module_version": "~2.1.4",
       "description": "Date begin",
       "layout": "IPY_MODEL_4b94d1b94c6e41858e42b4bc00e2a3b0",
       "value": {
        "date": 18,
        "hours": 0,
        "milliseconds": 0,
        "minutes": 0,
        "month": 9,
        "seconds": 0,
        "year": 2017
       }
      }
     },
     "25113ec478f042b5a13c33ce7bb85a5f": {
      "model_module": "jupyter-js-widgets",
      "model_module_version": "~2.1.4",
      "model_name": "DatePickerModel",
      "state": {
       "_model_module_version": "~2.1.4",
       "_view_module_version": "~2.1.4",
       "description": "Date end",
       "layout": "IPY_MODEL_bddef48c42de4bd3954e03ac196e3d7b",
       "value": {
        "date": 23,
        "hours": 17,
        "milliseconds": 884,
        "minutes": 57,
        "month": 9,
        "seconds": 18,
        "year": 2017
       }
      }
     },
     "25328a3f86e0493b9738a768f5b3daf3": {
      "model_module": "jupyter-js-widgets",
      "model_module_version": "~2.1.4",
      "model_name": "DatePickerModel",
      "state": {
       "_model_module_version": "~2.1.4",
       "_view_module_version": "~2.1.4",
       "description": "Date begin",
       "layout": "IPY_MODEL_9856febfd4b148adb809442f16f61098",
       "value": {
        "date": 18,
        "hours": 0,
        "milliseconds": 0,
        "minutes": 0,
        "month": 9,
        "seconds": 0,
        "year": 2017
       }
      }
     },
     "258c507564b84bbdbed1244b8584db5d": {
      "model_module": "jupyter-js-widgets",
      "model_module_version": "~2.1.4",
      "model_name": "LayoutModel",
      "state": {
       "_model_module_version": "~2.1.4",
       "_view_module_version": "~2.1.4"
      }
     },
     "259c1496dfd8494894b2f80adc45a8d2": {
      "model_module": "jupyter-js-widgets",
      "model_module_version": "~2.1.4",
      "model_name": "DatePickerModel",
      "state": {
       "_model_module_version": "~2.1.4",
       "_view_module_version": "~2.1.4",
       "description": "Date begin",
       "layout": "IPY_MODEL_e44d6c617e884c8d9be42754ec298c2e",
       "value": {
        "date": 18,
        "hours": 0,
        "milliseconds": 0,
        "minutes": 0,
        "month": 9,
        "seconds": 0,
        "year": 2017
       }
      }
     },
     "25fe2b717ad342848ba09c24fab18b01": {
      "model_module": "jupyter-js-widgets",
      "model_module_version": "~2.1.4",
      "model_name": "LayoutModel",
      "state": {
       "_model_module_version": "~2.1.4",
       "_view_module_version": "~2.1.4"
      }
     },
     "2610618c6b8d45aab6b6bf7ca4326bcd": {
      "model_module": "jupyter-js-widgets",
      "model_module_version": "~2.1.4",
      "model_name": "LayoutModel",
      "state": {
       "_model_module_version": "~2.1.4",
       "_view_module_version": "~2.1.4"
      }
     },
     "26d3840d7bdc4a0094534185c8af6759": {
      "model_module": "jupyter-js-widgets",
      "model_module_version": "~2.1.4",
      "model_name": "VBoxModel",
      "state": {
       "_dom_classes": [
        "widget-interact"
       ],
       "_model_module_version": "~2.1.4",
       "_view_module_version": "~2.1.4",
       "children": [
        "IPY_MODEL_6d5cdd21364e4e119058b53eda5fe09f",
        "IPY_MODEL_58487997cb99432593771eb1354509ca",
        "IPY_MODEL_c4eb4f24912b40c09f80afd7e2d7d819",
        "IPY_MODEL_f46579a7e3594c25bee3165540785e95",
        "IPY_MODEL_567cca2509b7401c829a0671514717a0"
       ],
       "layout": "IPY_MODEL_1cf999cb60834743a991f23d50ed71a5"
      }
     },
     "26dbff12fecd413abe18248284b392ff": {
      "model_module": "jupyter-js-widgets",
      "model_module_version": "~2.1.4",
      "model_name": "DropdownModel",
      "state": {
       "_model_module_version": "~2.1.4",
       "_options_labels": [
        "line"
       ],
       "_view_module_version": "~2.1.4",
       "description": "widget",
       "layout": "IPY_MODEL_ef78222482df46ba9338c3b26bd63139",
       "value": "line"
      }
     },
     "272bf63634a44b3899f0213b3851cf12": {
      "model_module": "jupyter-js-widgets",
      "model_module_version": "~2.1.4",
      "model_name": "LayoutModel",
      "state": {
       "_model_module_version": "~2.1.4",
       "_view_module_version": "~2.1.4"
      }
     },
     "27e63d4a6cbc49c6a808e6f3ddd5805c": {
      "model_module": "jupyter-js-widgets",
      "model_module_version": "~2.1.4",
      "model_name": "DatePickerModel",
      "state": {
       "_model_module_version": "~2.1.4",
       "_view_module_version": "~2.1.4",
       "description": "Date begin",
       "layout": "IPY_MODEL_fbc508d31f1e4175b80812797b1937ee",
       "value": {
        "date": 18,
        "hours": 0,
        "milliseconds": 0,
        "minutes": 0,
        "month": 9,
        "seconds": 0,
        "year": 2017
       }
      }
     },
     "282a5cbfb0de437dbb70f41e2dc90785": {
      "model_module": "jupyter-js-widgets",
      "model_module_version": "~2.1.4",
      "model_name": "OutputModel",
      "state": {
       "_dom_classes": [],
       "_model_module": "jupyter-js-widgets",
       "_model_module_version": "~2.1.4",
       "_view_module": "jupyter-js-widgets",
       "_view_module_version": "~2.1.4",
       "layout": "IPY_MODEL_086af053e20d4416a74263a658d5c83e",
       "msg_throttle": 1
      }
     },
     "288bb240a0934e25ae9798899c36e433": {
      "model_module": "jupyter-js-widgets",
      "model_module_version": "~2.1.4",
      "model_name": "LayoutModel",
      "state": {
       "_model_module_version": "~2.1.4",
       "_view_module_version": "~2.1.4"
      }
     },
     "28ff9327209e4923bfcec613ad1ffd3d": {
      "model_module": "jupyter-js-widgets",
      "model_module_version": "~2.1.4",
      "model_name": "VBoxModel",
      "state": {
       "_dom_classes": [
        "widget-interact"
       ],
       "_model_module_version": "~2.1.4",
       "_view_module_version": "~2.1.4",
       "children": [
        "IPY_MODEL_239032f2366349cdba5814f88682b0d0",
        "IPY_MODEL_976ed76e8d584727be2e16298bbd1680",
        "IPY_MODEL_e9db46135eec449cbde6f9b278cbc514",
        "IPY_MODEL_177100d23b394a6983a62e7b3ac38d53",
        "IPY_MODEL_c653fc0cc1174615a1b1fa202b7d108a"
       ],
       "layout": "IPY_MODEL_f3384eeae0334c949c4bd54fc0cce07f"
      }
     },
     "2917ef5e9ad241f0b1c3e7ec14b1adff": {
      "model_module": "jupyter-js-widgets",
      "model_module_version": "~2.1.4",
      "model_name": "DatePickerModel",
      "state": {
       "_model_module_version": "~2.1.4",
       "_view_module_version": "~2.1.4",
       "description": "Date begin",
       "layout": "IPY_MODEL_0d7e72558ff84ad58972160bedc625da",
       "value": {
        "date": 1,
        "hours": 0,
        "milliseconds": 0,
        "minutes": 0,
        "month": 0,
        "seconds": 0,
        "year": 2017
       }
      }
     },
     "29befd4e1a4548e8817999e5733f78ed": {
      "model_module": "jupyter-js-widgets",
      "model_module_version": "~2.1.4",
      "model_name": "LayoutModel",
      "state": {
       "_model_module_version": "~2.1.4",
       "_view_module_version": "~2.1.4"
      }
     },
     "29dcf602f6b34762b365674625b0f1cc": {
      "model_module": "jupyter-js-widgets",
      "model_module_version": "~2.1.4",
      "model_name": "LayoutModel",
      "state": {
       "_model_module_version": "~2.1.4",
       "_view_module_version": "~2.1.4"
      }
     },
     "29e2bb9663264dba9ca88b5fed4b69ac": {
      "model_module": "jupyter-js-widgets",
      "model_module_version": "~2.1.4",
      "model_name": "LayoutModel",
      "state": {
       "_model_module_version": "~2.1.4",
       "_view_module_version": "~2.1.4"
      }
     },
     "2a7f7280feda489f9b1ed0392d643c38": {
      "model_module": "jupyter-js-widgets",
      "model_module_version": "~2.1.4",
      "model_name": "DropdownModel",
      "state": {
       "_model_module_version": "~2.1.4",
       "_options_labels": [
        "Afghanistan",
        "Brazil",
        "Custom area"
       ],
       "_view_module_version": "~2.1.4",
       "description": "geostore",
       "layout": "IPY_MODEL_89f1252b72404522b00a5ca8a102dbef",
       "value": "Afghanistan"
      }
     },
     "2aedf3517aff49689ec675f191c88ba1": {
      "model_module": "jupyter-js-widgets",
      "model_module_version": "~2.1.4",
      "model_name": "OutputModel",
      "state": {
       "_dom_classes": [],
       "_model_module": "jupyter-js-widgets",
       "_model_module_version": "~2.1.4",
       "_view_module": "jupyter-js-widgets",
       "_view_module_version": "~2.1.4",
       "layout": "IPY_MODEL_7493c117807c4573831cee584d9b2f8b",
       "msg_throttle": 1
      }
     },
     "2af4b8858bf44f8d8c466a917c139c81": {
      "model_module": "jupyter-js-widgets",
      "model_module_version": "~2.1.4",
      "model_name": "TextModel",
      "state": {
       "_model_module_version": "~2.1.4",
       "_view_module_version": "~2.1.4",
       "description": "base_queryUrl",
       "layout": "IPY_MODEL_e5636b4120ea4dd99c3042e22d1a1912",
       "value": "https://api.resourcewatch.org/v1/query/20cc5eca-8c63-4c41-8e8e-134dcf1e6d76?sql={0}"
      }
     },
     "2af51e62fb3d4e8a973a3cc3f4aa1bfa": {
      "model_module": "jupyter-js-widgets",
      "model_module_version": "~2.1.4",
      "model_name": "LayoutModel",
      "state": {
       "_model_module_version": "~2.1.4",
       "_view_module_version": "~2.1.4"
      }
     },
     "2b5bea4f1f0e463ab782234a49f701a2": {
      "model_module": "jupyter-js-widgets",
      "model_module_version": "~2.1.4",
      "model_name": "DatePickerModel",
      "state": {
       "_model_module_version": "~2.1.4",
       "_view_module_version": "~2.1.4",
       "description": "Date begin",
       "layout": "IPY_MODEL_31459697a27640b0b657dc83fce3ba13",
       "value": {
        "date": 1,
        "hours": 0,
        "milliseconds": 0,
        "minutes": 0,
        "month": 0,
        "seconds": 0,
        "year": 2017
       }
      }
     },
     "2bc250e28b914ee3abe6494f4446e2bd": {
      "model_module": "jupyter-js-widgets",
      "model_module_version": "~2.1.4",
      "model_name": "LayoutModel",
      "state": {
       "_model_module_version": "~2.1.4",
       "_view_module_version": "~2.1.4"
      }
     },
     "2c1170020d184713b39c084862985d62": {
      "model_module": "jupyter-js-widgets",
      "model_module_version": "~2.1.4",
      "model_name": "DatePickerModel",
      "state": {
       "_model_module_version": "~2.1.4",
       "_view_module_version": "~2.1.4",
       "description": "Date begin",
       "layout": "IPY_MODEL_30517fe1a03449cdbf28d39dd31ba3a0",
       "value": {
        "date": 18,
        "hours": 0,
        "milliseconds": 0,
        "minutes": 0,
        "month": 9,
        "seconds": 0,
        "year": 2017
       }
      }
     },
     "2d78ab84f87e45648c4eaa6dc7d47eb8": {
      "model_module": "jupyter-js-widgets",
      "model_module_version": "~2.1.4",
      "model_name": "DatePickerModel",
      "state": {
       "_model_module_version": "~2.1.4",
       "_view_module_version": "~2.1.4",
       "description": "Date end",
       "layout": "IPY_MODEL_91387a7951864679b28ca3a4fa4fe8a4",
       "value": {
        "date": 24,
        "hours": 13,
        "milliseconds": 952,
        "minutes": 54,
        "month": 9,
        "seconds": 38,
        "year": 2017
       }
      }
     },
     "2d99f3d99cb94808b9030eb94ced0179": {
      "model_module": "jupyter-js-widgets",
      "model_module_version": "~2.1.4",
      "model_name": "LayoutModel",
      "state": {
       "_model_module_version": "~2.1.4",
       "_view_module_version": "~2.1.4"
      }
     },
     "2dd87652a12d480fa302256a9201393e": {
      "model_module": "jupyter-js-widgets",
      "model_module_version": "~2.1.4",
      "model_name": "DatePickerModel",
      "state": {
       "_model_module_version": "~2.1.4",
       "_view_module_version": "~2.1.4",
       "description": "Date begin",
       "layout": "IPY_MODEL_479201691c1c43b08f2ddc0d4239cf61",
       "value": {
        "date": 1,
        "hours": 0,
        "milliseconds": 0,
        "minutes": 0,
        "month": 0,
        "seconds": 0,
        "year": 2017
       }
      }
     },
     "2e180c0966594821804f42767f31a301": {
      "model_module": "jupyter-js-widgets",
      "model_module_version": "~2.1.4",
      "model_name": "DatePickerModel",
      "state": {
       "_model_module_version": "~2.1.4",
       "_view_module_version": "~2.1.4",
       "description": "Date end",
       "layout": "IPY_MODEL_c9a53b6d1b004235b05f39706c463e55",
       "value": {
        "date": 24,
        "hours": 13,
        "milliseconds": 770,
        "minutes": 27,
        "month": 9,
        "seconds": 39,
        "year": 2017
       }
      }
     },
     "2e5782f715104446938dd3a2b1fed858": {
      "model_module": "jupyter-js-widgets",
      "model_module_version": "~2.1.4",
      "model_name": "LayoutModel",
      "state": {
       "_model_module_version": "~2.1.4",
       "_view_module_version": "~2.1.4",
       "align_items": "stretch",
       "display": "flex",
       "flex_flow": "column",
       "width": "50%"
      }
     },
     "2f2d64ef851b40ee91bc50cfa290f2f9": {
      "model_module": "jupyter-js-widgets",
      "model_module_version": "~2.1.4",
      "model_name": "DropdownModel",
      "state": {
       "_model_module_version": "~2.1.4",
       "_options_labels": [
        "line"
       ],
       "_view_module_version": "~2.1.4",
       "description": "widget",
       "layout": "IPY_MODEL_a4ead971be2e470697a24589d32eb19b",
       "value": "line"
      }
     },
     "2fa0047c7fae4ca088e4c8ca5fd17f3e": {
      "model_module": "jupyter-js-widgets",
      "model_module_version": "~2.1.4",
      "model_name": "LayoutModel",
      "state": {
       "_model_module_version": "~2.1.4",
       "_view_module_version": "~2.1.4"
      }
     },
     "30186bb637de4f84bb6c4fecebe1f6be": {
      "model_module": "jupyter-js-widgets",
      "model_module_version": "~2.1.4",
      "model_name": "DatePickerModel",
      "state": {
       "_model_module_version": "~2.1.4",
       "_view_module_version": "~2.1.4",
       "description": "Date begin",
       "layout": "IPY_MODEL_abb9f09859e84574b0a85ef5f5cac926",
       "value": {
        "date": 18,
        "hours": 0,
        "milliseconds": 0,
        "minutes": 0,
        "month": 9,
        "seconds": 0,
        "year": 2017
       }
      }
     },
     "30517fe1a03449cdbf28d39dd31ba3a0": {
      "model_module": "jupyter-js-widgets",
      "model_module_version": "~2.1.4",
      "model_name": "LayoutModel",
      "state": {
       "_model_module_version": "~2.1.4",
       "_view_module_version": "~2.1.4"
      }
     },
     "30547b9df8d247d8a128cebd4f9eda93": {
      "model_module": "jupyter-js-widgets",
      "model_module_version": "~2.1.4",
      "model_name": "DatePickerModel",
      "state": {
       "_model_module_version": "~2.1.4",
       "_view_module_version": "~2.1.4",
       "description": "Date begin",
       "layout": "IPY_MODEL_fa7daf6a4a714896accba4624a06967c",
       "value": {
        "date": 18,
        "hours": 0,
        "milliseconds": 0,
        "minutes": 0,
        "month": 9,
        "seconds": 0,
        "year": 2017
       }
      }
     },
     "31459697a27640b0b657dc83fce3ba13": {
      "model_module": "jupyter-js-widgets",
      "model_module_version": "~2.1.4",
      "model_name": "LayoutModel",
      "state": {
       "_model_module_version": "~2.1.4",
       "_view_module_version": "~2.1.4"
      }
     },
     "3158de1e861f4a9297733cfb88c0d462": {
      "model_module": "jupyter-js-widgets",
      "model_module_version": "~2.1.4",
      "model_name": "DatePickerModel",
      "state": {
       "_model_module_version": "~2.1.4",
       "_view_module_version": "~2.1.4",
       "description": "Date end",
       "layout": "IPY_MODEL_97f1529b4d9c422babe571b83ea275c3",
       "value": {
        "date": 24,
        "hours": 13,
        "milliseconds": 12,
        "minutes": 4,
        "month": 9,
        "seconds": 8,
        "year": 2017
       }
      }
     },
     "3181f0f885474d1da698c8ca335c6337": {
      "model_module": "jupyter-js-widgets",
      "model_module_version": "~2.1.4",
      "model_name": "LayoutModel",
      "state": {
       "_model_module_version": "~2.1.4",
       "_view_module_version": "~2.1.4"
      }
     },
     "31d2b4ad78ed47db8106edc7155072f4": {
      "model_module": "jupyter-js-widgets",
      "model_module_version": "~2.1.4",
      "model_name": "LayoutModel",
      "state": {
       "_model_module_version": "~2.1.4",
       "_view_module_version": "~2.1.4"
      }
     },
     "31e65af4f43042b6866b1b4bdb28226b": {
      "model_module": "jupyter-js-widgets",
      "model_module_version": "~2.1.4",
      "model_name": "LayoutModel",
      "state": {
       "_model_module_version": "~2.1.4",
       "_view_module_version": "~2.1.4"
      }
     },
     "31f17a08b5a9447682becd948834189c": {
      "model_module": "jupyter-js-widgets",
      "model_module_version": "~2.1.4",
      "model_name": "LayoutModel",
      "state": {
       "_model_module_version": "~2.1.4",
       "_view_module_version": "~2.1.4"
      }
     },
     "32957acce3af4a0a82abf103b19d1edf": {
      "model_module": "jupyter-js-widgets",
      "model_module_version": "~2.1.4",
      "model_name": "VBoxModel",
      "state": {
       "_dom_classes": [
        "widget-interact"
       ],
       "_model_module_version": "~2.1.4",
       "_view_module_version": "~2.1.4",
       "children": [
        "IPY_MODEL_2f2d64ef851b40ee91bc50cfa290f2f9",
        "IPY_MODEL_56527a24d87d4f0ca27d4cd49e932938",
        "IPY_MODEL_91dba4ef1c6e4edc87a57ccfbadae77d",
        "IPY_MODEL_78ffff0c2bf74ae18c82a494814956f4",
        "IPY_MODEL_88b9229ef8fa4a3995f274a22d3e3e6d",
        "IPY_MODEL_5173d57b317a47b29090951c19cd17cb",
        "IPY_MODEL_282a5cbfb0de437dbb70f41e2dc90785"
       ],
       "layout": "IPY_MODEL_49c986ce25114d58949a7560d971f5e3"
      }
     },
     "32c35371b8134c20b3f0017e4acf57b2": {
      "model_module": "jupyter-js-widgets",
      "model_module_version": "~2.1.4",
      "model_name": "LayoutModel",
      "state": {
       "_model_module_version": "~2.1.4",
       "_view_module_version": "~2.1.4"
      }
     },
     "339e1107fbde4be4869568dfc1cedbaf": {
      "model_module": "jupyter-js-widgets",
      "model_module_version": "~2.1.4",
      "model_name": "OutputModel",
      "state": {
       "_dom_classes": [],
       "_model_module": "jupyter-js-widgets",
       "_model_module_version": "~2.1.4",
       "_view_module": "jupyter-js-widgets",
       "_view_module_version": "~2.1.4",
       "layout": "IPY_MODEL_390663ad7f064dfebcbc43f4d34f3584",
       "msg_throttle": 1
      }
     },
     "34271eb301d846db931cf6a6abded5fe": {
      "model_module": "jupyter-js-widgets",
      "model_module_version": "~2.1.4",
      "model_name": "DatePickerModel",
      "state": {
       "_model_module_version": "~2.1.4",
       "_view_module_version": "~2.1.4",
       "description": "Date end",
       "layout": "IPY_MODEL_85198c7589f94356b30c1dd1c691074b",
       "value": {
        "date": 24,
        "hours": 13,
        "milliseconds": 500,
        "minutes": 55,
        "month": 9,
        "seconds": 9,
        "year": 2017
       }
      }
     },
     "342b89ec2d834a70a9db08d1db6321da": {
      "model_module": "jupyter-js-widgets",
      "model_module_version": "~2.1.4",
      "model_name": "DatePickerModel",
      "state": {
       "_model_module_version": "~2.1.4",
       "_view_module_version": "~2.1.4",
       "description": "Date begin",
       "layout": "IPY_MODEL_fc31505f151e4365b58f553995d7d685",
       "value": {
        "date": 1,
        "hours": 0,
        "milliseconds": 0,
        "minutes": 0,
        "month": 0,
        "seconds": 0,
        "year": 2017
       }
      }
     },
     "344aadcbca3a4c81968ec0345429b86e": {
      "model_module": "jupyter-js-widgets",
      "model_module_version": "~2.1.4",
      "model_name": "LayoutModel",
      "state": {
       "_model_module_version": "~2.1.4",
       "_view_module_version": "~2.1.4"
      }
     },
     "3511a74eb8ea443ab5d50aeb80751029": {
      "model_module": "jupyter-js-widgets",
      "model_module_version": "~2.1.4",
      "model_name": "LayoutModel",
      "state": {
       "_model_module_version": "~2.1.4",
       "_view_module_version": "~2.1.4"
      }
     },
     "359d2b1c396f45f68430b68de64a6f02": {
      "model_module": "jupyter-js-widgets",
      "model_module_version": "~2.1.4",
      "model_name": "DatePickerModel",
      "state": {
       "_model_module_version": "~2.1.4",
       "_view_module_version": "~2.1.4",
       "description": "Date begin",
       "layout": "IPY_MODEL_841c75bd531042369b9faa98834b2fbc",
       "value": {
        "date": 18,
        "hours": 0,
        "milliseconds": 0,
        "minutes": 0,
        "month": 9,
        "seconds": 0,
        "year": 2017
       }
      }
     },
     "35ab09ae9cfa470696ca0fd45278c866": {
      "model_module": "jupyter-js-widgets",
      "model_module_version": "~2.1.4",
      "model_name": "DropdownModel",
      "state": {
       "_model_module_version": "~2.1.4",
       "_options_labels": [
        "line"
       ],
       "_view_module_version": "~2.1.4",
       "description": "widget",
       "layout": "IPY_MODEL_6b74deb1e535469da3a7f568e6f9bfca",
       "value": "line"
      }
     },
     "35fea79a33674faca533efd4e7e4ade2": {
      "model_module": "jupyter-js-widgets",
      "model_module_version": "~2.1.4",
      "model_name": "VBoxModel",
      "state": {
       "_dom_classes": [
        "widget-interact"
       ],
       "_model_module_version": "~2.1.4",
       "_view_module_version": "~2.1.4",
       "children": [
        "IPY_MODEL_8d75bf3f506f455986dcc01acfd02a30",
        "IPY_MODEL_efe2a99b1cd440f79cdca36d078d57d9",
        "IPY_MODEL_856c5e8ecd8543b4aee41f63f87e9f67",
        "IPY_MODEL_fd57e33c8a374ea1ad23d96a33edbd91",
        "IPY_MODEL_b6d66ba3674b40eab3d407a4bafb59a2"
       ],
       "layout": "IPY_MODEL_a25b8c3b1aad42faa9bc8933995e2ffa"
      }
     },
     "363fddf3083b4b72ace6774b030def80": {
      "model_module": "jupyter-js-widgets",
      "model_module_version": "~2.1.4",
      "model_name": "LayoutModel",
      "state": {
       "_model_module_version": "~2.1.4",
       "_view_module_version": "~2.1.4"
      }
     },
     "367823857641432f80e5e484c80fd1ba": {
      "model_module": "jupyter-js-widgets",
      "model_module_version": "~2.1.4",
      "model_name": "LayoutModel",
      "state": {
       "_model_module_version": "~2.1.4",
       "_view_module_version": "~2.1.4"
      }
     },
     "37477c977d6c453c8efa8035e90e64d6": {
      "model_module": "jupyter-js-widgets",
      "model_module_version": "~2.1.4",
      "model_name": "LayoutModel",
      "state": {
       "_model_module_version": "~2.1.4",
       "_view_module_version": "~2.1.4"
      }
     },
     "377e7eb98be4448b95821f591b71d6ab": {
      "model_module": "jupyter-js-widgets",
      "model_module_version": "~2.1.4",
      "model_name": "DatePickerModel",
      "state": {
       "_model_module_version": "~2.1.4",
       "_view_module_version": "~2.1.4",
       "description": "Date end",
       "layout": "IPY_MODEL_e26a7f3146fd4c76bce1ef6ec5db34e4",
       "value": {
        "date": 24,
        "hours": 13,
        "milliseconds": 584,
        "minutes": 58,
        "month": 9,
        "seconds": 2,
        "year": 2017
       }
      }
     },
     "38363c946cb7435f9d5564ac8f92b45a": {
      "model_module": "jupyter-js-widgets",
      "model_module_version": "~2.1.4",
      "model_name": "OutputModel",
      "state": {
       "_dom_classes": [],
       "_model_module": "jupyter-js-widgets",
       "_model_module_version": "~2.1.4",
       "_view_module": "jupyter-js-widgets",
       "_view_module_version": "~2.1.4",
       "layout": "IPY_MODEL_560505babc1c46f2bd6bb47c6c73bc4e",
       "msg_throttle": 1
      }
     },
     "3858be9997fc40549be7cf97298e4af5": {
      "model_module": "jupyter-js-widgets",
      "model_module_version": "~2.1.4",
      "model_name": "LayoutModel",
      "state": {
       "_model_module_version": "~2.1.4",
       "_view_module_version": "~2.1.4"
      }
     },
     "3875ebba3d81410e900856f05fb4e70e": {
      "model_module": "jupyter-js-widgets",
      "model_module_version": "~2.1.4",
      "model_name": "LayoutModel",
      "state": {
       "_model_module_version": "~2.1.4",
       "_view_module_version": "~2.1.4"
      }
     },
     "388e4d699c1b4edeb9b12ea515d31cea": {
      "model_module": "jupyter-js-widgets",
      "model_module_version": "~2.1.4",
      "model_name": "LayoutModel",
      "state": {
       "_model_module_version": "~2.1.4",
       "_view_module_version": "~2.1.4"
      }
     },
     "38bcfdcc609b4d229af1b349e87acea9": {
      "model_module": "jupyter-js-widgets",
      "model_module_version": "~2.1.4",
      "model_name": "LayoutModel",
      "state": {
       "_model_module_version": "~2.1.4",
       "_view_module_version": "~2.1.4"
      }
     },
     "38cec6f6d8f84eea8f64a41dfe684f4c": {
      "model_module": "jupyter-js-widgets",
      "model_module_version": "~2.1.4",
      "model_name": "LayoutModel",
      "state": {
       "_model_module_version": "~2.1.4",
       "_view_module_version": "~2.1.4"
      }
     },
     "390663ad7f064dfebcbc43f4d34f3584": {
      "model_module": "jupyter-js-widgets",
      "model_module_version": "~2.1.4",
      "model_name": "LayoutModel",
      "state": {
       "_model_module_version": "~2.1.4",
       "_view_module_version": "~2.1.4"
      }
     },
     "39d4755fe2ad45fc910e0a1a1ce1a799": {
      "model_module": "jupyter-js-widgets",
      "model_module_version": "~2.1.4",
      "model_name": "DropdownModel",
      "state": {
       "_model_module_version": "~2.1.4",
       "_options_labels": [
        "Afghanistan",
        "Brazil",
        "Custom area"
       ],
       "_view_module_version": "~2.1.4",
       "description": "geostore",
       "layout": "IPY_MODEL_f1ca7ebedcdd4225ad267fc596ebdfd1",
       "value": "Afghanistan"
      }
     },
     "3a27a346b4784e6e8a1c41653650da15": {
      "model_module": "jupyter-js-widgets",
      "model_module_version": "~2.1.4",
      "model_name": "LayoutModel",
      "state": {
       "_model_module_version": "~2.1.4",
       "_view_module_version": "~2.1.4"
      }
     },
     "3a59621a727a43799812341eadfbbf22": {
      "model_module": "jupyter-js-widgets",
      "model_module_version": "~2.1.4",
      "model_name": "VBoxModel",
      "state": {
       "_dom_classes": [
        "widget-interact"
       ],
       "_model_module_version": "~2.1.4",
       "_view_module_version": "~2.1.4",
       "children": [
        "IPY_MODEL_c0bfc12497174f718af4cbe015deddb0",
        "IPY_MODEL_dd4bcdde970347d6b8cf13fc92317945",
        "IPY_MODEL_c3ae8aa1873e4267ba4bebfc641770f0",
        "IPY_MODEL_129363bca4b8415f89fed41d118f447e",
        "IPY_MODEL_cfbc098d48214016a1a46a67557791cf"
       ],
       "layout": "IPY_MODEL_2fa0047c7fae4ca088e4c8ca5fd17f3e"
      }
     },
     "3ab2e4846f23487f81933c56bd380c1f": {
      "model_module": "jupyter-js-widgets",
      "model_module_version": "~2.1.4",
      "model_name": "LayoutModel",
      "state": {
       "_model_module_version": "~2.1.4",
       "_view_module_version": "~2.1.4"
      }
     },
     "3c61529fd2384d65a79ebd96916ca7fe": {
      "model_module": "jupyter-js-widgets",
      "model_module_version": "~2.1.4",
      "model_name": "DatePickerModel",
      "state": {
       "_model_module_version": "~2.1.4",
       "_view_module_version": "~2.1.4",
       "description": "Date end",
       "layout": "IPY_MODEL_1e94b9236e094e02b0a7753fe876cdba",
       "value": {
        "date": 23,
        "hours": 17,
        "milliseconds": 452,
        "minutes": 56,
        "month": 9,
        "seconds": 41,
        "year": 2017
       }
      }
     },
     "3cbebd93e41f4cc3aebee49b855b79e3": {
      "model_module": "jupyter-js-widgets",
      "model_module_version": "~2.1.4",
      "model_name": "OutputModel",
      "state": {
       "_dom_classes": [],
       "_model_module": "jupyter-js-widgets",
       "_model_module_version": "~2.1.4",
       "_view_module": "jupyter-js-widgets",
       "_view_module_version": "~2.1.4",
       "layout": "IPY_MODEL_0a3688f4acc7404fa1a06b65e55e7363",
       "msg_throttle": 1
      }
     },
     "3d6e01e10cc845d38c3a31115d128eaf": {
      "model_module": "jupyter-js-widgets",
      "model_module_version": "~2.1.4",
      "model_name": "DropdownModel",
      "state": {
       "_model_module_version": "~2.1.4",
       "_options_labels": [
        "line"
       ],
       "_view_module_version": "~2.1.4",
       "description": "widget",
       "layout": "IPY_MODEL_214b88388ee14c14a83eaea4b5b601b1",
       "value": "line"
      }
     },
     "3d7e4d006a2e4680a34a7a25d5c2bf3f": {
      "model_module": "jupyter-js-widgets",
      "model_module_version": "~2.1.4",
      "model_name": "DropdownModel",
      "state": {
       "_model_module_version": "~2.1.4",
       "_options_labels": [
        "Afghanistan",
        "Brazil",
        "Custom area"
       ],
       "_view_module_version": "~2.1.4",
       "description": "geostore",
       "layout": "IPY_MODEL_c328c82d469a47de96240939409d937c",
       "value": "Afghanistan"
      }
     },
     "3d9b62e9a4ab447e957cd8f53ff189a6": {
      "model_module": "jupyter-js-widgets",
      "model_module_version": "~2.1.4",
      "model_name": "LayoutModel",
      "state": {
       "_model_module_version": "~2.1.4",
       "_view_module_version": "~2.1.4"
      }
     },
     "3da918c0f98540d2b4386a5d15090235": {
      "model_module": "jupyter-js-widgets",
      "model_module_version": "~2.1.4",
      "model_name": "CheckboxModel",
      "state": {
       "_model_module_version": "~2.1.4",
       "_view_module_version": "~2.1.4",
       "description": "x",
       "disabled": false,
       "layout": "IPY_MODEL_ac6188adf0074c86aa0d6a62371ecd97",
       "value": true
      }
     },
     "3e2052d907c14f2fbd2463e327cd6684": {
      "model_module": "jupyter-js-widgets",
      "model_module_version": "~2.1.4",
      "model_name": "DropdownModel",
      "state": {
       "_model_module_version": "~2.1.4",
       "_options_labels": [
        "Afghanistan",
        "Brazil",
        "Custom area"
       ],
       "_view_module_version": "~2.1.4",
       "description": "geostore",
       "layout": "IPY_MODEL_d5738c4bda964b6e84dac415f8c52395",
       "value": "Afghanistan"
      }
     },
     "3ef9faa3b869414aa95982c33c5efab8": {
      "model_module": "jupyter-js-widgets",
      "model_module_version": "~2.1.4",
      "model_name": "DropdownModel",
      "state": {
       "_model_module_version": "~2.1.4",
       "_options_labels": [
        "line"
       ],
       "_view_module_version": "~2.1.4",
       "description": "widget",
       "layout": "IPY_MODEL_3511a74eb8ea443ab5d50aeb80751029",
       "value": "line"
      }
     },
     "3f05d0a47693451b8bd0b2f3c4a824b9": {
      "model_module": "jupyter-js-widgets",
      "model_module_version": "~2.1.4",
      "model_name": "OutputModel",
      "state": {
       "_dom_classes": [],
       "_model_module": "jupyter-js-widgets",
       "_model_module_version": "~2.1.4",
       "_view_module": "jupyter-js-widgets",
       "_view_module_version": "~2.1.4",
       "layout": "IPY_MODEL_eb88c96a6e1f45c28a21315b4f8a1cde",
       "msg_throttle": 1
      }
     },
     "3f856f2d47ae47f692bc3a079440fb97": {
      "model_module": "jupyter-js-widgets",
      "model_module_version": "~2.1.4",
      "model_name": "LayoutModel",
      "state": {
       "_model_module_version": "~2.1.4",
       "_view_module_version": "~2.1.4",
       "align_items": "stretch",
       "display": "flex",
       "flex_flow": "row",
       "width": "100%"
      }
     },
     "3fbe0f3b587648228ea7468f9066b462": {
      "model_module": "jupyter-js-widgets",
      "model_module_version": "~2.1.4",
      "model_name": "LayoutModel",
      "state": {
       "_model_module_version": "~2.1.4",
       "_view_module_version": "~2.1.4"
      }
     },
     "3fdd16ea7efd449e8c8fa63115871283": {
      "model_module": "jupyter-js-widgets",
      "model_module_version": "~2.1.4",
      "model_name": "LayoutModel",
      "state": {
       "_model_module_version": "~2.1.4",
       "_view_module_version": "~2.1.4"
      }
     },
     "403c54275c6a4f26b4dc98364e5b7979": {
      "model_module": "jupyter-js-widgets",
      "model_module_version": "~2.1.4",
      "model_name": "DropdownModel",
      "state": {
       "_model_module_version": "~2.1.4",
       "_options_labels": [
        "line"
       ],
       "_view_module_version": "~2.1.4",
       "description": "widget",
       "layout": "IPY_MODEL_206b9b57676c4ce68a191238397c3731",
       "value": "line"
      }
     },
     "40a5c142bc6f4f02a5e8cc9705c5631b": {
      "model_module": "jupyter-js-widgets",
      "model_module_version": "~2.1.4",
      "model_name": "DropdownModel",
      "state": {
       "_model_module_version": "~2.1.4",
       "_options_labels": [
        "Afghanistan",
        "Brazil",
        "Custom area"
       ],
       "_view_module_version": "~2.1.4",
       "description": "geostore",
       "layout": "IPY_MODEL_a9b1843e0b144f1491c237e109e05aab",
       "value": "Afghanistan"
      }
     },
     "414edc57f9944ff0ab4abf76421fd9c3": {
      "model_module": "jupyter-js-widgets",
      "model_module_version": "~2.1.4",
      "model_name": "OutputModel",
      "state": {
       "_dom_classes": [],
       "_model_module": "jupyter-js-widgets",
       "_model_module_version": "~2.1.4",
       "_view_module": "jupyter-js-widgets",
       "_view_module_version": "~2.1.4",
       "layout": "IPY_MODEL_beec320a0f4d4ae3893ffc8da0d7c4da",
       "msg_throttle": 1
      }
     },
     "41944e8448eb418db5238d176bf7900f": {
      "model_module": "jupyter-js-widgets",
      "model_module_version": "~2.1.4",
      "model_name": "DatePickerModel",
      "state": {
       "_model_module_version": "~2.1.4",
       "_view_module_version": "~2.1.4",
       "description": "Date begin",
       "layout": "IPY_MODEL_f38a0a9c028048c29d750d8104f9cdcd",
       "value": {
        "date": 1,
        "hours": 0,
        "milliseconds": 0,
        "minutes": 0,
        "month": 0,
        "seconds": 0,
        "year": 2017
       }
      }
     },
     "41d591c3f87d4cb2bba19b98d3d1619f": {
      "model_module": "jupyter-js-widgets",
      "model_module_version": "~2.1.4",
      "model_name": "DropdownModel",
      "state": {
       "_model_module_version": "~2.1.4",
       "_options_labels": [
        "Afghanistan",
        "Brazil",
        "Custom area"
       ],
       "_view_module_version": "~2.1.4",
       "description": "geostore",
       "layout": "IPY_MODEL_a25e9c6f40644ed08d25391ef29e6021",
       "value": "Afghanistan"
      }
     },
     "422072c8c6a84fe7a01715b9c4cb2c88": {
      "model_module": "jupyter-js-widgets",
      "model_module_version": "~2.1.4",
      "model_name": "DatePickerModel",
      "state": {
       "_model_module_version": "~2.1.4",
       "_view_module_version": "~2.1.4",
       "description": "Date begin",
       "layout": "IPY_MODEL_2af51e62fb3d4e8a973a3cc3f4aa1bfa",
       "value": {
        "date": 18,
        "hours": 0,
        "milliseconds": 0,
        "minutes": 0,
        "month": 9,
        "seconds": 0,
        "year": 2017
       }
      }
     },
     "4285955ae90a4d058882b41cde9c1747": {
      "model_module": "jupyter-js-widgets",
      "model_module_version": "~2.1.4",
      "model_name": "VBoxModel",
      "state": {
       "_dom_classes": [
        "widget-interact"
       ],
       "_model_module_version": "~2.1.4",
       "_view_module_version": "~2.1.4",
       "children": [
        "IPY_MODEL_9567a470af7c4bacbc1358bbcac82add",
        "IPY_MODEL_e4bd05cbf4944662884f75b61be6ac98",
        "IPY_MODEL_48414c79b212487e8658dbe5c725d149",
        "IPY_MODEL_b9a2c707e8ac4aec81c761c6fe27a526",
        "IPY_MODEL_566b643650a14049b98feefb9fbdf693"
       ],
       "layout": "IPY_MODEL_042cff72e21f4360b47b42615b672c38"
      }
     },
     "4292f0b86ad9464bbf71da1a76e72a49": {
      "model_module": "jupyter-js-widgets",
      "model_module_version": "~2.1.4",
      "model_name": "LayoutModel",
      "state": {
       "_model_module_version": "~2.1.4",
       "_view_module_version": "~2.1.4"
      }
     },
     "42f03d748ef044ff8875dcdf172332eb": {
      "model_module": "jupyter-js-widgets",
      "model_module_version": "~2.1.4",
      "model_name": "DatePickerModel",
      "state": {
       "_model_module_version": "~2.1.4",
       "_view_module_version": "~2.1.4",
       "description": "Date begin",
       "layout": "IPY_MODEL_8d3ff4f156a143cda8c9e4f447587f8d",
       "value": {
        "date": 18,
        "hours": 0,
        "milliseconds": 0,
        "minutes": 0,
        "month": 9,
        "seconds": 0,
        "year": 2017
       }
      }
     },
     "439dc23c959e476182681afbee880229": {
      "model_module": "jupyter-js-widgets",
      "model_module_version": "~2.1.4",
      "model_name": "LayoutModel",
      "state": {
       "_model_module_version": "~2.1.4",
       "_view_module_version": "~2.1.4"
      }
     },
     "43b8bec4934340b98bcb636099bfb902": {
      "model_module": "jupyter-js-widgets",
      "model_module_version": "~2.1.4",
      "model_name": "DropdownModel",
      "state": {
       "_model_module_version": "~2.1.4",
       "_options_labels": [
        "line"
       ],
       "_view_module_version": "~2.1.4",
       "description": "widget",
       "layout": "IPY_MODEL_31f17a08b5a9447682becd948834189c",
       "value": "line"
      }
     },
     "445493580fc14f088bb77887dbc654b1": {
      "model_module": "jupyter-js-widgets",
      "model_module_version": "~2.1.4",
      "model_name": "OutputModel",
      "state": {
       "_dom_classes": [],
       "_model_module": "jupyter-js-widgets",
       "_model_module_version": "~2.1.4",
       "_view_module": "jupyter-js-widgets",
       "_view_module_version": "~2.1.4",
       "layout": "IPY_MODEL_d5a0737706e84e59a85f0393d6f080e4",
       "msg_throttle": 1
      }
     },
     "44b013d1044347e285304d51e94687fb": {
      "model_module": "jupyter-js-widgets",
      "model_module_version": "~2.1.4",
      "model_name": "OutputModel",
      "state": {
       "_dom_classes": [],
       "_model_module": "jupyter-js-widgets",
       "_model_module_version": "~2.1.4",
       "_view_module": "jupyter-js-widgets",
       "_view_module_version": "~2.1.4",
       "layout": "IPY_MODEL_64e59bef22e14691826dd0a5c7ece877",
       "msg_throttle": 1
      }
     },
     "44cb4de91d2947d89c00bdc9bae03f5d": {
      "model_module": "jupyter-js-widgets",
      "model_module_version": "~2.1.4",
      "model_name": "DatePickerModel",
      "state": {
       "_model_module_version": "~2.1.4",
       "_view_module_version": "~2.1.4",
       "description": "Date begin",
       "layout": "IPY_MODEL_a9d2767661c44926ba07adbcb2d20d36",
       "value": {
        "date": 1,
        "hours": 0,
        "milliseconds": 0,
        "minutes": 0,
        "month": 0,
        "seconds": 0,
        "year": 2017
       }
      }
     },
     "45417ea08cbb43509a62df12d0076a08": {
      "model_module": "jupyter-js-widgets",
      "model_module_version": "~2.1.4",
      "model_name": "LayoutModel",
      "state": {
       "_model_module_version": "~2.1.4",
       "_view_module_version": "~2.1.4"
      }
     },
     "456d98f3dd5d4dba851fce6aeb702cbb": {
      "model_module": "jupyter-js-widgets",
      "model_module_version": "~2.1.4",
      "model_name": "LayoutModel",
      "state": {
       "_model_module_version": "~2.1.4",
       "_view_module_version": "~2.1.4"
      }
     },
     "45714b06ed7849bc9090a64b74ee8982": {
      "model_module": "jupyter-js-widgets",
      "model_module_version": "~2.1.4",
      "model_name": "TextModel",
      "state": {
       "_model_module_version": "~2.1.4",
       "_view_module_version": "~2.1.4",
       "description": "sql",
       "layout": "IPY_MODEL_ecb473360ae14e43aa48c28538b7c06d",
       "value": "SELECT acq_date as x, count(acq_date) as y FROM vnp14imgtdl_nrt_global_7d WHERE acq_date >='{date_begin}' and acq_date < '{date_end}' group by acq_date order by acq_date asc"
      }
     },
     "45c2eb1d03c749b29efac82004b0cabc": {
      "model_module": "jupyter-js-widgets",
      "model_module_version": "~2.1.4",
      "model_name": "LayoutModel",
      "state": {
       "_model_module_version": "~2.1.4",
       "_view_module_version": "~2.1.4"
      }
     },
     "45f7b1ab0599431899877362de93f64a": {
      "model_module": "jupyter-js-widgets",
      "model_module_version": "~2.1.4",
      "model_name": "LayoutModel",
      "state": {
       "_model_module_version": "~2.1.4",
       "_view_module_version": "~2.1.4"
      }
     },
     "4681cc57d8b344f19c7299bee15326de": {
      "model_module": "jupyter-js-widgets",
      "model_module_version": "~2.1.4",
      "model_name": "DatePickerModel",
      "state": {
       "_model_module_version": "~2.1.4",
       "_view_module_version": "~2.1.4",
       "description": "Date begin",
       "layout": "IPY_MODEL_d6018d557d8d42ae81116805d17e9703",
       "value": {
        "date": 1,
        "hours": 0,
        "milliseconds": 0,
        "minutes": 0,
        "month": 0,
        "seconds": 0,
        "year": 2017
       }
      }
     },
     "46d43177514a4a1d83605fed48326366": {
      "model_module": "jupyter-js-widgets",
      "model_module_version": "~2.1.4",
      "model_name": "DropdownModel",
      "state": {
       "_model_module_version": "~2.1.4",
       "_options_labels": [
        "Afghanistan",
        "Brazil",
        "Custom area"
       ],
       "_view_module_version": "~2.1.4",
       "description": "geostore",
       "layout": "IPY_MODEL_fcbf3eb22d754f14b7edb4ca89bc57e8",
       "value": "Afghanistan"
      }
     },
     "4716d122a433402a9efa36fbd4b11adf": {
      "model_module": "jupyter-js-widgets",
      "model_module_version": "~2.1.4",
      "model_name": "LayoutModel",
      "state": {
       "_model_module_version": "~2.1.4",
       "_view_module_version": "~2.1.4"
      }
     },
     "471e529c1add46ff814be4832b8c8b0d": {
      "model_module": "jupyter-js-widgets",
      "model_module_version": "~2.1.4",
      "model_name": "DropdownModel",
      "state": {
       "_model_module_version": "~2.1.4",
       "_options_labels": [
        "line"
       ],
       "_view_module_version": "~2.1.4",
       "description": "widget",
       "layout": "IPY_MODEL_1436d173bd644f8283bf974045589aad",
       "value": "line"
      }
     },
     "479201691c1c43b08f2ddc0d4239cf61": {
      "model_module": "jupyter-js-widgets",
      "model_module_version": "~2.1.4",
      "model_name": "LayoutModel",
      "state": {
       "_model_module_version": "~2.1.4",
       "_view_module_version": "~2.1.4"
      }
     },
     "47b2eaef2d5f4559934677b8f3e700ab": {
      "model_module": "jupyter-js-widgets",
      "model_module_version": "~2.1.4",
      "model_name": "VBoxModel",
      "state": {
       "_dom_classes": [
        "widget-interact"
       ],
       "_model_module_version": "~2.1.4",
       "_view_module_version": "~2.1.4",
       "children": [
        "IPY_MODEL_b7e99c483baa4039bd9dc501a559f34a",
        "IPY_MODEL_4e888bd8ed6243e6b3d1205da59b0836",
        "IPY_MODEL_d786977d2b5b4117b6bf76f6f501773d",
        "IPY_MODEL_9145e2cdfd334177a15f18b7c82b2d4e",
        "IPY_MODEL_888666582e3e495cb48177909f8edfa6"
       ],
       "layout": "IPY_MODEL_488ae639eaf641969becedf536e22871"
      }
     },
     "47dab9ff673c4b6b86c8bfb57a17cd29": {
      "model_module": "jupyter-js-widgets",
      "model_module_version": "~2.1.4",
      "model_name": "LayoutModel",
      "state": {
       "_model_module_version": "~2.1.4",
       "_view_module_version": "~2.1.4"
      }
     },
     "48414c79b212487e8658dbe5c725d149": {
      "model_module": "jupyter-js-widgets",
      "model_module_version": "~2.1.4",
      "model_name": "DatePickerModel",
      "state": {
       "_model_module_version": "~2.1.4",
       "_view_module_version": "~2.1.4",
       "description": "Date end",
       "layout": "IPY_MODEL_be6f31d4793d407392624713465a39b7",
       "value": {
        "date": 23,
        "hours": 17,
        "milliseconds": 621,
        "minutes": 57,
        "month": 9,
        "seconds": 7,
        "year": 2017
       }
      }
     },
     "4854378ce7904e67be4fb2d785b5a3e6": {
      "model_module": "jupyter-js-widgets",
      "model_module_version": "~2.1.4",
      "model_name": "DatePickerModel",
      "state": {
       "_model_module_version": "~2.1.4",
       "_view_module_version": "~2.1.4",
       "description": "Date begin",
       "layout": "IPY_MODEL_558d212afea84e8d83fa38bdd83d5f2d",
       "value": {
        "date": 1,
        "hours": 0,
        "milliseconds": 0,
        "minutes": 0,
        "month": 0,
        "seconds": 0,
        "year": 2017
       }
      }
     },
     "488ae639eaf641969becedf536e22871": {
      "model_module": "jupyter-js-widgets",
      "model_module_version": "~2.1.4",
      "model_name": "LayoutModel",
      "state": {
       "_model_module_version": "~2.1.4",
       "_view_module_version": "~2.1.4"
      }
     },
     "48c8db81ce5d488280c455ecdc02b322": {
      "model_module": "jupyter-js-widgets",
      "model_module_version": "~2.1.4",
      "model_name": "LayoutModel",
      "state": {
       "_model_module_version": "~2.1.4",
       "_view_module_version": "~2.1.4"
      }
     },
     "48feea127b3644d2b0323223001bac07": {
      "model_module": "jupyter-js-widgets",
      "model_module_version": "~2.1.4",
      "model_name": "DropdownModel",
      "state": {
       "_model_module_version": "~2.1.4",
       "_options_labels": [
        "Afghanistan",
        "Brazil",
        "Custom area"
       ],
       "_view_module_version": "~2.1.4",
       "description": "geostore",
       "layout": "IPY_MODEL_f3f3f238a0a7470a88221754d1217705",
       "value": "Custom area"
      }
     },
     "49615154114f4feb84617eb6a063dedc": {
      "model_module": "jupyter-js-widgets",
      "model_module_version": "~2.1.4",
      "model_name": "LayoutModel",
      "state": {
       "_model_module_version": "~2.1.4",
       "_view_module_version": "~2.1.4"
      }
     },
     "4993c10d79a94a339788f2c69d4c93be": {
      "model_module": "jupyter-js-widgets",
      "model_module_version": "~2.1.4",
      "model_name": "DropdownModel",
      "state": {
       "_model_module_version": "~2.1.4",
       "_options_labels": [
        "Afghanistan",
        "Brazil",
        "Custom area"
       ],
       "_view_module_version": "~2.1.4",
       "description": "geostore",
       "layout": "IPY_MODEL_d10a68268e984c4398f666f8e0c51111",
       "value": "Afghanistan"
      }
     },
     "49a8a56bb0874246bdf8150b4ba40747": {
      "model_module": "jupyter-js-widgets",
      "model_module_version": "~2.1.4",
      "model_name": "DropdownModel",
      "state": {
       "_model_module_version": "~2.1.4",
       "_options_labels": [
        "Afghanistan",
        "Brazil",
        "Custom area"
       ],
       "_view_module_version": "~2.1.4",
       "description": "geostore",
       "layout": "IPY_MODEL_0f35f866301448abbb0ec90f3daa9b13",
       "value": "Afghanistan"
      }
     },
     "49ae3e19f9d34e3f8d76b999e30f5dbd": {
      "model_module": "jupyter-js-widgets",
      "model_module_version": "~2.1.4",
      "model_name": "TextareaModel",
      "state": {
       "_model_module_version": "~2.1.4",
       "_view_module_version": "~2.1.4",
       "description": "Query:",
       "layout": "IPY_MODEL_ea0ce65da4f049fe87db9e7a0ca98ac6",
       "value": "SELECT acq_date as x, count(acq_date) as y FROM vnp14imgtdl_nrt_global_7d WHERE acq_date >='{date_begin}' and acq_date < '{date_end}' group by acq_date order by acq_date asc"
      }
     },
     "49c986ce25114d58949a7560d971f5e3": {
      "model_module": "jupyter-js-widgets",
      "model_module_version": "~2.1.4",
      "model_name": "LayoutModel",
      "state": {
       "_model_module_version": "~2.1.4",
       "_view_module_version": "~2.1.4"
      }
     },
     "49dd536d8b5c4069a20ac8a3cf2878af": {
      "model_module": "jupyter-js-widgets",
      "model_module_version": "~2.1.4",
      "model_name": "DropdownModel",
      "state": {
       "_model_module_version": "~2.1.4",
       "_options_labels": [
        "line",
        "bar"
       ],
       "_view_module_version": "~2.1.4",
       "description": "Widget type:",
       "layout": "IPY_MODEL_09f3dc464ca04ac989d9c1c4e03c18e9",
       "value": "line"
      }
     },
     "49fb6ca92251484bae58b2cc88fbd890": {
      "model_module": "jupyter-js-widgets",
      "model_module_version": "~2.1.4",
      "model_name": "LayoutModel",
      "state": {
       "_model_module_version": "~2.1.4",
       "_view_module_version": "~2.1.4"
      }
     },
     "4a69ffe3958548d88a36a08dbee82c63": {
      "model_module": "jupyter-js-widgets",
      "model_module_version": "~2.1.4",
      "model_name": "LayoutModel",
      "state": {
       "_model_module_version": "~2.1.4",
       "_view_module_version": "~2.1.4"
      }
     },
     "4aba7267c09144cd89e23929bc2a57e0": {
      "model_module": "jupyter-js-widgets",
      "model_module_version": "~2.1.4",
      "model_name": "LayoutModel",
      "state": {
       "_model_module_version": "~2.1.4",
       "_view_module_version": "~2.1.4"
      }
     },
     "4afa31fc8ad148d7954ad801145edeb6": {
      "model_module": "jupyter-js-widgets",
      "model_module_version": "~2.1.4",
      "model_name": "DatePickerModel",
      "state": {
       "_model_module_version": "~2.1.4",
       "_view_module_version": "~2.1.4",
       "description": "Date end",
       "layout": "IPY_MODEL_5035c59120914c40a0d791e320ee6bec",
       "value": {
        "date": 24,
        "hours": 12,
        "milliseconds": 782,
        "minutes": 53,
        "month": 9,
        "seconds": 14,
        "year": 2017
       }
      }
     },
     "4b201de3d2864e9486ccaac1b17de02b": {
      "model_module": "jupyter-js-widgets",
      "model_module_version": "~2.1.4",
      "model_name": "DatePickerModel",
      "state": {
       "_model_module_version": "~2.1.4",
       "_view_module_version": "~2.1.4",
       "description": "Date end",
       "layout": "IPY_MODEL_48c8db81ce5d488280c455ecdc02b322",
       "value": {
        "date": 24,
        "hours": 13,
        "milliseconds": 179,
        "minutes": 54,
        "month": 9,
        "seconds": 26,
        "year": 2017
       }
      }
     },
     "4b2faa430b584345b73375389c9e7dc6": {
      "model_module": "jupyter-js-widgets",
      "model_module_version": "~2.1.4",
      "model_name": "VBoxModel",
      "state": {
       "_dom_classes": [
        "widget-interact"
       ],
       "_model_module_version": "~2.1.4",
       "_view_module_version": "~2.1.4",
       "children": [
        "IPY_MODEL_471e529c1add46ff814be4832b8c8b0d",
        "IPY_MODEL_1c4de96be9b0478a8f2e80723e7ac239",
        "IPY_MODEL_cfb80b782c4c46fb96f202146e4b467f",
        "IPY_MODEL_197f1c90ff1d446b93d2579488ea463c",
        "IPY_MODEL_9387ca16251e4edbb118b7278a50c172"
       ],
       "layout": "IPY_MODEL_53cc0884e37146a799288c2dfa6089dd"
      }
     },
     "4b94d1b94c6e41858e42b4bc00e2a3b0": {
      "model_module": "jupyter-js-widgets",
      "model_module_version": "~2.1.4",
      "model_name": "LayoutModel",
      "state": {
       "_model_module_version": "~2.1.4",
       "_view_module_version": "~2.1.4"
      }
     },
     "4c40f789907c437d9b094d8b05e043b5": {
      "model_module": "jupyter-js-widgets",
      "model_module_version": "~2.1.4",
      "model_name": "LayoutModel",
      "state": {
       "_model_module_version": "~2.1.4",
       "_view_module_version": "~2.1.4"
      }
     },
     "4cd54ab2cef04b8a8ec88cf0976d6535": {
      "model_module": "jupyter-js-widgets",
      "model_module_version": "~2.1.4",
      "model_name": "DatePickerModel",
      "state": {
       "_model_module_version": "~2.1.4",
       "_view_module_version": "~2.1.4",
       "description": "Date begin",
       "layout": "IPY_MODEL_f867f2d937d6449db31361c585e16b08",
       "value": {
        "date": 1,
        "hours": 0,
        "milliseconds": 0,
        "minutes": 0,
        "month": 0,
        "seconds": 0,
        "year": 2017
       }
      }
     },
     "4d9de54ae2c34cb783f537f1590f6c9c": {
      "model_module": "jupyter-js-widgets",
      "model_module_version": "~2.1.4",
      "model_name": "LayoutModel",
      "state": {
       "_model_module_version": "~2.1.4",
       "_view_module_version": "~2.1.4"
      }
     },
     "4db4259666ce489b9f9e0216b8e5831c": {
      "model_module": "jupyter-js-widgets",
      "model_module_version": "~2.1.4",
      "model_name": "LayoutModel",
      "state": {
       "_model_module_version": "~2.1.4",
       "_view_module_version": "~2.1.4"
      }
     },
     "4e2972774f754135b7b978869abb8567": {
      "model_module": "jupyter-js-widgets",
      "model_module_version": "~2.1.4",
      "model_name": "DatePickerModel",
      "state": {
       "_model_module_version": "~2.1.4",
       "_view_module_version": "~2.1.4",
       "description": "Date end",
       "layout": "IPY_MODEL_5edcf8676b814b94b60f0825375db1ed",
       "value": {
        "date": 23,
        "hours": 17,
        "milliseconds": 503,
        "minutes": 59,
        "month": 9,
        "seconds": 22,
        "year": 2017
       }
      }
     },
     "4e888bd8ed6243e6b3d1205da59b0836": {
      "model_module": "jupyter-js-widgets",
      "model_module_version": "~2.1.4",
      "model_name": "DatePickerModel",
      "state": {
       "_model_module_version": "~2.1.4",
       "_view_module_version": "~2.1.4",
       "description": "Date begin",
       "layout": "IPY_MODEL_e70a397de5794d72ac46f8d3b9f98743",
       "value": {
        "date": 18,
        "hours": 0,
        "milliseconds": 0,
        "minutes": 0,
        "month": 9,
        "seconds": 0,
        "year": 2017
       }
      }
     },
     "4e8ce79ca17e45aba619c06145be16fd": {
      "model_module": "jupyter-js-widgets",
      "model_module_version": "~2.1.4",
      "model_name": "DatePickerModel",
      "state": {
       "_model_module_version": "~2.1.4",
       "_view_module_version": "~2.1.4",
       "description": "Date begin",
       "layout": "IPY_MODEL_5495083d649e4e4091fced45fbbe28bc",
       "value": {
        "date": 18,
        "hours": 0,
        "milliseconds": 0,
        "minutes": 0,
        "month": 9,
        "seconds": 0,
        "year": 2017
       }
      }
     },
     "4f37d6437c6f421cb4613f237a4d772f": {
      "model_module": "jupyter-js-widgets",
      "model_module_version": "~2.1.4",
      "model_name": "LayoutModel",
      "state": {
       "_model_module_version": "~2.1.4",
       "_view_module_version": "~2.1.4"
      }
     },
     "4f756a5a1a094efab656c48d3fd9e858": {
      "model_module": "jupyter-js-widgets",
      "model_module_version": "~2.1.4",
      "model_name": "DatePickerModel",
      "state": {
       "_model_module_version": "~2.1.4",
       "_view_module_version": "~2.1.4",
       "description": "Date begin",
       "layout": "IPY_MODEL_10e3b70a0d2d4ac8963e37b0b97db8a4",
       "value": {
        "date": 1,
        "hours": 0,
        "milliseconds": 0,
        "minutes": 0,
        "month": 0,
        "seconds": 0,
        "year": 2017
       }
      }
     },
     "4f98633c63694292aa331c114ed70c72": {
      "model_module": "jupyter-js-widgets",
      "model_module_version": "~2.1.4",
      "model_name": "LayoutModel",
      "state": {
       "_model_module_version": "~2.1.4",
       "_view_module_version": "~2.1.4"
      }
     },
     "4fedffa01d224da6abf4909d6ffc299c": {
      "model_module": "jupyter-js-widgets",
      "model_module_version": "~2.1.4",
      "model_name": "DropdownModel",
      "state": {
       "_model_module_version": "~2.1.4",
       "_options_labels": [
        "line"
       ],
       "_view_module_version": "~2.1.4",
       "description": "widget",
       "layout": "IPY_MODEL_12172af692b54ab09c84449d579cff74",
       "value": "line"
      }
     },
     "502538cbb7f3431da050479f97be417e": {
      "model_module": "jupyter-js-widgets",
      "model_module_version": "~2.1.4",
      "model_name": "LayoutModel",
      "state": {
       "_model_module_version": "~2.1.4",
       "_view_module_version": "~2.1.4"
      }
     },
     "5035c59120914c40a0d791e320ee6bec": {
      "model_module": "jupyter-js-widgets",
      "model_module_version": "~2.1.4",
      "model_name": "LayoutModel",
      "state": {
       "_model_module_version": "~2.1.4",
       "_view_module_version": "~2.1.4"
      }
     },
     "50f4510d07ac4bc58f30a51e2b2d1ca4": {
      "model_module": "jupyter-js-widgets",
      "model_module_version": "~2.1.4",
      "model_name": "LayoutModel",
      "state": {
       "_model_module_version": "~2.1.4",
       "_view_module_version": "~2.1.4"
      }
     },
     "51501f7e5a6b49df9c2200eb62f60fad": {
      "model_module": "jupyter-js-widgets",
      "model_module_version": "~2.1.4",
      "model_name": "LayoutModel",
      "state": {
       "_model_module_version": "~2.1.4",
       "_view_module_version": "~2.1.4"
      }
     },
     "51571cfe9fff428abbc0f5f3878ca610": {
      "model_module": "jupyter-js-widgets",
      "model_module_version": "~2.1.4",
      "model_name": "LayoutModel",
      "state": {
       "_model_module_version": "~2.1.4",
       "_view_module_version": "~2.1.4"
      }
     },
     "5173d57b317a47b29090951c19cd17cb": {
      "model_module": "jupyter-js-widgets",
      "model_module_version": "~2.1.4",
      "model_name": "DropdownModel",
      "state": {
       "_model_module_version": "~2.1.4",
       "_options_labels": [
        "Afghanistan",
        "Brazil",
        "Custom area"
       ],
       "_view_module_version": "~2.1.4",
       "description": "geostore",
       "layout": "IPY_MODEL_45417ea08cbb43509a62df12d0076a08",
       "value": "Afghanistan"
      }
     },
     "51d530b3f48e4e73b825bcfe04b64675": {
      "model_module": "jupyter-js-widgets",
      "model_module_version": "~2.1.4",
      "model_name": "LayoutModel",
      "state": {
       "_model_module_version": "~2.1.4",
       "_view_module_version": "~2.1.4"
      }
     },
     "526f7e7d10e641afb96ef54fd5851b99": {
      "model_module": "jupyter-js-widgets",
      "model_module_version": "~2.1.4",
      "model_name": "DatePickerModel",
      "state": {
       "_model_module_version": "~2.1.4",
       "_view_module_version": "~2.1.4",
       "description": "Date begin",
       "layout": "IPY_MODEL_1bfe4246d2b24cef9f433c03a404225e",
       "value": {
        "date": 18,
        "hours": 0,
        "milliseconds": 0,
        "minutes": 0,
        "month": 9,
        "seconds": 0,
        "year": 2017
       }
      }
     },
     "52cf10f62f064fd0b94d0f275fe7faa4": {
      "model_module": "jupyter-js-widgets",
      "model_module_version": "~2.1.4",
      "model_name": "DropdownModel",
      "state": {
       "_model_module_version": "~2.1.4",
       "_options_labels": [
        "line"
       ],
       "_view_module_version": "~2.1.4",
       "description": "widget",
       "layout": "IPY_MODEL_9fe142d7db5e43f5aaeaa25e37f6550e",
       "value": "line"
      }
     },
     "530b85ab552f4f5dbe18af310985afba": {
      "model_module": "jupyter-js-widgets",
      "model_module_version": "~2.1.4",
      "model_name": "LayoutModel",
      "state": {
       "_model_module_version": "~2.1.4",
       "_view_module_version": "~2.1.4"
      }
     },
     "537b90070abe4c27942766eefca6dee8": {
      "model_module": "jupyter-js-widgets",
      "model_module_version": "~2.1.4",
      "model_name": "LayoutModel",
      "state": {
       "_model_module_version": "~2.1.4",
       "_view_module_version": "~2.1.4"
      }
     },
     "53cc0884e37146a799288c2dfa6089dd": {
      "model_module": "jupyter-js-widgets",
      "model_module_version": "~2.1.4",
      "model_name": "LayoutModel",
      "state": {
       "_model_module_version": "~2.1.4",
       "_view_module_version": "~2.1.4"
      }
     },
     "53e11da4d0f843d3b289550b64692c1d": {
      "model_module": "jupyter-js-widgets",
      "model_module_version": "~2.1.4",
      "model_name": "LayoutModel",
      "state": {
       "_model_module_version": "~2.1.4",
       "_view_module_version": "~2.1.4"
      }
     },
     "5478211c31ad48a5bfa2f4648ac5897b": {
      "model_module": "jupyter-js-widgets",
      "model_module_version": "~2.1.4",
      "model_name": "LayoutModel",
      "state": {
       "_model_module_version": "~2.1.4",
       "_view_module_version": "~2.1.4"
      }
     },
     "5483249fd8a04527b164277ee61d51ec": {
      "model_module": "jupyter-js-widgets",
      "model_module_version": "~2.1.4",
      "model_name": "LayoutModel",
      "state": {
       "_model_module_version": "~2.1.4",
       "_view_module_version": "~2.1.4"
      }
     },
     "5495083d649e4e4091fced45fbbe28bc": {
      "model_module": "jupyter-js-widgets",
      "model_module_version": "~2.1.4",
      "model_name": "LayoutModel",
      "state": {
       "_model_module_version": "~2.1.4",
       "_view_module_version": "~2.1.4"
      }
     },
     "54e0adee6761434492b1844793d28cd7": {
      "model_module": "jupyter-js-widgets",
      "model_module_version": "~2.1.4",
      "model_name": "DropdownModel",
      "state": {
       "_model_module_version": "~2.1.4",
       "_options_labels": [
        "Afghanistan",
        "Brazil",
        "Custom area"
       ],
       "_view_module_version": "~2.1.4",
       "description": "geostore",
       "layout": "IPY_MODEL_502538cbb7f3431da050479f97be417e",
       "value": "Afghanistan"
      }
     },
     "54e7c11f82af41a49bf3c064c45deeae": {
      "model_module": "jupyter-js-widgets",
      "model_module_version": "~2.1.4",
      "model_name": "DatePickerModel",
      "state": {
       "_model_module_version": "~2.1.4",
       "_view_module_version": "~2.1.4",
       "description": "Date begin",
       "layout": "IPY_MODEL_a71e8164c9354c72878f1997a24f750f",
       "value": {
        "date": 18,
        "hours": 0,
        "milliseconds": 0,
        "minutes": 0,
        "month": 9,
        "seconds": 0,
        "year": 2017
       }
      }
     },
     "55360994dba5420689bcf674c05bff3a": {
      "model_module": "jupyter-js-widgets",
      "model_module_version": "~2.1.4",
      "model_name": "LayoutModel",
      "state": {
       "_model_module_version": "~2.1.4",
       "_view_module_version": "~2.1.4"
      }
     },
     "558d212afea84e8d83fa38bdd83d5f2d": {
      "model_module": "jupyter-js-widgets",
      "model_module_version": "~2.1.4",
      "model_name": "LayoutModel",
      "state": {
       "_model_module_version": "~2.1.4",
       "_view_module_version": "~2.1.4"
      }
     },
     "560505babc1c46f2bd6bb47c6c73bc4e": {
      "model_module": "jupyter-js-widgets",
      "model_module_version": "~2.1.4",
      "model_name": "LayoutModel",
      "state": {
       "_model_module_version": "~2.1.4",
       "_view_module_version": "~2.1.4"
      }
     },
     "561834486346495cba9a7d616d224bfd": {
      "model_module": "jupyter-js-widgets",
      "model_module_version": "~2.1.4",
      "model_name": "DatePickerModel",
      "state": {
       "_model_module_version": "~2.1.4",
       "_view_module_version": "~2.1.4",
       "description": "Date end",
       "layout": "IPY_MODEL_9142537da53141b28f2497562c4db924",
       "value": {
        "date": 24,
        "hours": 13,
        "milliseconds": 335,
        "minutes": 59,
        "month": 9,
        "seconds": 21,
        "year": 2017
       }
      }
     },
     "56527a24d87d4f0ca27d4cd49e932938": {
      "model_module": "jupyter-js-widgets",
      "model_module_version": "~2.1.4",
      "model_name": "TextareaModel",
      "state": {
       "_model_module_version": "~2.1.4",
       "_view_module_version": "~2.1.4",
       "description": "Url to query:",
       "layout": "IPY_MODEL_e88bc6df2e54475ea6316a97fed6a13a",
       "value": "https://api.resourcewatch.org/v1/query/20cc5eca-8c63-4c41-8e8e-134dcf1e6d76?sql={0}"
      }
     },
     "566b643650a14049b98feefb9fbdf693": {
      "model_module": "jupyter-js-widgets",
      "model_module_version": "~2.1.4",
      "model_name": "OutputModel",
      "state": {
       "_dom_classes": [],
       "_model_module": "jupyter-js-widgets",
       "_model_module_version": "~2.1.4",
       "_view_module": "jupyter-js-widgets",
       "_view_module_version": "~2.1.4",
       "layout": "IPY_MODEL_e7d5f79c90dc45dc940e6053f3db296d",
       "msg_throttle": 1
      }
     },
     "567cca2509b7401c829a0671514717a0": {
      "model_module": "jupyter-js-widgets",
      "model_module_version": "~2.1.4",
      "model_name": "OutputModel",
      "state": {
       "_dom_classes": [],
       "_model_module": "jupyter-js-widgets",
       "_model_module_version": "~2.1.4",
       "_view_module": "jupyter-js-widgets",
       "_view_module_version": "~2.1.4",
       "layout": "IPY_MODEL_d961822781b04a3eae7ba4ad0014e9c0",
       "msg_throttle": 1
      }
     },
     "5703a23345f74005a6f3fb0380415b5f": {
      "model_module": "jupyter-js-widgets",
      "model_module_version": "~2.1.4",
      "model_name": "LayoutModel",
      "state": {
       "_model_module_version": "~2.1.4",
       "_view_module_version": "~2.1.4"
      }
     },
     "57820930ac224c6fb503caff106cc8f1": {
      "model_module": "jupyter-js-widgets",
      "model_module_version": "~2.1.4",
      "model_name": "DropdownModel",
      "state": {
       "_model_module_version": "~2.1.4",
       "_options_labels": [
        "line"
       ],
       "_view_module_version": "~2.1.4",
       "description": "Widget type:",
       "layout": "IPY_MODEL_91c4ecce654b4f4ab78da571336949ee",
       "value": "line"
      }
     },
     "57ab7a9cd0064a79aafa34d882f260a9": {
      "model_module": "jupyter-js-widgets",
      "model_module_version": "~2.1.4",
      "model_name": "LayoutModel",
      "state": {
       "_model_module_version": "~2.1.4",
       "_view_module_version": "~2.1.4"
      }
     },
     "5800c18e140342888441715ab91f5927": {
      "model_module": "jupyter-js-widgets",
      "model_module_version": "~2.1.4",
      "model_name": "DatePickerModel",
      "state": {
       "_model_module_version": "~2.1.4",
       "_view_module_version": "~2.1.4",
       "description": "Date end",
       "layout": "IPY_MODEL_3858be9997fc40549be7cf97298e4af5",
       "value": {
        "date": 24,
        "hours": 13,
        "milliseconds": 871,
        "minutes": 13,
        "month": 9,
        "seconds": 23,
        "year": 2017
       }
      }
     },
     "58487997cb99432593771eb1354509ca": {
      "model_module": "jupyter-js-widgets",
      "model_module_version": "~2.1.4",
      "model_name": "DatePickerModel",
      "state": {
       "_model_module_version": "~2.1.4",
       "_view_module_version": "~2.1.4",
       "description": "Date begin",
       "layout": "IPY_MODEL_d06464e2aa1b4167955fe5292395faa3",
       "value": {
        "date": 18,
        "hours": 0,
        "milliseconds": 0,
        "minutes": 0,
        "month": 9,
        "seconds": 0,
        "year": 2017
       }
      }
     },
     "599c155875474392b32ec279407c5058": {
      "model_module": "jupyter-js-widgets",
      "model_module_version": "~2.1.4",
      "model_name": "DatePickerModel",
      "state": {
       "_model_module_version": "~2.1.4",
       "_view_module_version": "~2.1.4",
       "description": "Date begin",
       "layout": "IPY_MODEL_2bc250e28b914ee3abe6494f4446e2bd",
       "value": {
        "date": 1,
        "hours": 0,
        "milliseconds": 0,
        "minutes": 0,
        "month": 0,
        "seconds": 0,
        "year": 2017
       }
      }
     },
     "59babe27f6bf486ea9c8e5f6a8825ff6": {
      "model_module": "jupyter-js-widgets",
      "model_module_version": "~2.1.4",
      "model_name": "LayoutModel",
      "state": {
       "_model_module_version": "~2.1.4",
       "_view_module_version": "~2.1.4"
      }
     },
     "59d10049ba6f4a6f878315e63e6c9eeb": {
      "model_module": "jupyter-js-widgets",
      "model_module_version": "~2.1.4",
      "model_name": "LayoutModel",
      "state": {
       "_model_module_version": "~2.1.4",
       "_view_module_version": "~2.1.4"
      }
     },
     "5a4daac9693148d9a6209f09787e6636": {
      "model_module": "jupyter-js-widgets",
      "model_module_version": "~2.1.4",
      "model_name": "DropdownModel",
      "state": {
       "_model_module_version": "~2.1.4",
       "_options_labels": [
        "line"
       ],
       "_view_module_version": "~2.1.4",
       "description": "widget",
       "layout": "IPY_MODEL_51501f7e5a6b49df9c2200eb62f60fad",
       "value": "line"
      }
     },
     "5b3ebf34cf2e40d2a8403899fffb4ca5": {
      "model_module": "jupyter-js-widgets",
      "model_module_version": "~2.1.4",
      "model_name": "LayoutModel",
      "state": {
       "_model_module_version": "~2.1.4",
       "_view_module_version": "~2.1.4"
      }
     },
     "5b489150b3104579bef9ec3234abebc0": {
      "model_module": "jupyter-js-widgets",
      "model_module_version": "~2.1.4",
      "model_name": "LayoutModel",
      "state": {
       "_model_module_version": "~2.1.4",
       "_view_module_version": "~2.1.4"
      }
     },
     "5b7a1bd1bfb9452dae589a7cbfb5a519": {
      "model_module": "jupyter-js-widgets",
      "model_module_version": "~2.1.4",
      "model_name": "LayoutModel",
      "state": {
       "_model_module_version": "~2.1.4",
       "_view_module_version": "~2.1.4"
      }
     },
     "5b9446b29b8e4d76982ac2f77efb3d5f": {
      "model_module": "jupyter-js-widgets",
      "model_module_version": "~2.1.4",
      "model_name": "TextareaModel",
      "state": {
       "_model_module_version": "~2.1.4",
       "_view_module_version": "~2.1.4",
       "description": "Url to query:",
       "layout": "IPY_MODEL_e53422824a79400aa641c99e8848dce6",
       "value": "https://api.resourcewatch.org/v1/query/20cc5eca-8c63-4c41-8e8e-134dcf1e6d76?sql={0}"
      }
     },
     "5c01b4f28f014073ab3f8fcf959e88b7": {
      "model_module": "jupyter-js-widgets",
      "model_module_version": "~2.1.4",
      "model_name": "DatePickerModel",
      "state": {
       "_model_module_version": "~2.1.4",
       "_view_module_version": "~2.1.4",
       "description": "Date begin",
       "layout": "IPY_MODEL_f2b7774e3ff741599572b8997ce735c8",
       "value": {
        "date": 18,
        "hours": 0,
        "milliseconds": 0,
        "minutes": 0,
        "month": 9,
        "seconds": 0,
        "year": 2017
       }
      }
     },
     "5c17d20918a34964af648c869a85da6a": {
      "model_module": "jupyter-js-widgets",
      "model_module_version": "~2.1.4",
      "model_name": "LayoutModel",
      "state": {
       "_model_module_version": "~2.1.4",
       "_view_module_version": "~2.1.4"
      }
     },
     "5c40ba6bedee4d6ba2c5e60fa5b54880": {
      "model_module": "jupyter-js-widgets",
      "model_module_version": "~2.1.4",
      "model_name": "OutputModel",
      "state": {
       "_dom_classes": [],
       "_model_module": "jupyter-js-widgets",
       "_model_module_version": "~2.1.4",
       "_view_module": "jupyter-js-widgets",
       "_view_module_version": "~2.1.4",
       "layout": "IPY_MODEL_2363709800324842b1394db56990956c",
       "msg_throttle": 1
      }
     },
     "5ca25e14d5184387a8597a3d5e73c49e": {
      "model_module": "jupyter-js-widgets",
      "model_module_version": "~2.1.4",
      "model_name": "OutputModel",
      "state": {
       "_dom_classes": [],
       "_model_module": "jupyter-js-widgets",
       "_model_module_version": "~2.1.4",
       "_view_module": "jupyter-js-widgets",
       "_view_module_version": "~2.1.4",
       "layout": "IPY_MODEL_38cec6f6d8f84eea8f64a41dfe684f4c",
       "msg_throttle": 1
      }
     },
     "5cb9122483324200b7bc478cee52492d": {
      "model_module": "jupyter-js-widgets",
      "model_module_version": "~2.1.4",
      "model_name": "DatePickerModel",
      "state": {
       "_model_module_version": "~2.1.4",
       "_view_module_version": "~2.1.4",
       "description": "Date end",
       "layout": "IPY_MODEL_6e3e7f270e154c6996b0470233684951",
       "value": {
        "date": 23,
        "hours": 18,
        "milliseconds": 321,
        "minutes": 1,
        "month": 9,
        "seconds": 52,
        "year": 2017
       }
      }
     },
     "5eaf66804c4d43d79314b55e00a26488": {
      "model_module": "jupyter-js-widgets",
      "model_module_version": "~2.1.4",
      "model_name": "LayoutModel",
      "state": {
       "_model_module_version": "~2.1.4",
       "_view_module_version": "~2.1.4"
      }
     },
     "5ec9adef4c3a4fe68bb3335086dcb3cd": {
      "model_module": "jupyter-js-widgets",
      "model_module_version": "~2.1.4",
      "model_name": "DatePickerModel",
      "state": {
       "_model_module_version": "~2.1.4",
       "_view_module_version": "~2.1.4",
       "description": "Date begin",
       "layout": "IPY_MODEL_d598b0f9eb5c40fca438668b8a2611bf",
       "value": {
        "date": 1,
        "hours": 0,
        "milliseconds": 0,
        "minutes": 0,
        "month": 0,
        "seconds": 0,
        "year": 2017
       }
      }
     },
     "5edcf8676b814b94b60f0825375db1ed": {
      "model_module": "jupyter-js-widgets",
      "model_module_version": "~2.1.4",
      "model_name": "LayoutModel",
      "state": {
       "_model_module_version": "~2.1.4",
       "_view_module_version": "~2.1.4"
      }
     },
     "5efb0fc855ba44c783fbaa2392c901e9": {
      "model_module": "jupyter-js-widgets",
      "model_module_version": "~2.1.4",
      "model_name": "OutputModel",
      "state": {
       "_dom_classes": [],
       "_model_module": "jupyter-js-widgets",
       "_model_module_version": "~2.1.4",
       "_view_module": "jupyter-js-widgets",
       "_view_module_version": "~2.1.4",
       "layout": "IPY_MODEL_a775600dc60c4680ac95fe6ae4a42d8b",
       "msg_throttle": 1
      }
     },
     "5f24cf7dc4fc4f8a9a5c10c997607581": {
      "model_module": "jupyter-js-widgets",
      "model_module_version": "~2.1.4",
      "model_name": "DatePickerModel",
      "state": {
       "_model_module_version": "~2.1.4",
       "_view_module_version": "~2.1.4",
       "description": "Date end",
       "layout": "IPY_MODEL_77a17c6c278e42f9bca0d78ff2fa3da3",
       "value": {
        "date": 23,
        "hours": 17,
        "milliseconds": 162,
        "minutes": 56,
        "month": 9,
        "seconds": 50,
        "year": 2017
       }
      }
     },
     "5f52b3eb2ed6490c824ee973ccfdb484": {
      "model_module": "jupyter-js-widgets",
      "model_module_version": "~2.1.4",
      "model_name": "TextareaModel",
      "state": {
       "_model_module_version": "~2.1.4",
       "_view_module_version": "~2.1.4",
       "description": "Query:",
       "layout": "IPY_MODEL_93548911d802419388801c7902184271",
       "value": "SELECT acq_date as x, count(acq_date) as y FROM vnp14imgtdl_nrt_global_7d WHERE acq_date >='{date_begin}' and acq_date < '{date_end}' group by acq_date order by acq_date asc"
      }
     },
     "5f6501e04b6e47e898dd61c5e06053e9": {
      "model_module": "jupyter-js-widgets",
      "model_module_version": "~2.1.4",
      "model_name": "LayoutModel",
      "state": {
       "_model_module_version": "~2.1.4",
       "_view_module_version": "~2.1.4"
      }
     },
     "5f9808eae08b492b903de29a9567c8b7": {
      "model_module": "jupyter-js-widgets",
      "model_module_version": "~2.1.4",
      "model_name": "OutputModel",
      "state": {
       "_dom_classes": [],
       "_model_module": "jupyter-js-widgets",
       "_model_module_version": "~2.1.4",
       "_view_module": "jupyter-js-widgets",
       "_view_module_version": "~2.1.4",
       "layout": "IPY_MODEL_1eec977d55ce4801827906e13fc3fc8d",
       "msg_throttle": 1
      }
     },
     "5fb6f240a5a5432eafb03d8069db9eee": {
      "model_module": "jupyter-js-widgets",
      "model_module_version": "~2.1.4",
      "model_name": "LayoutModel",
      "state": {
       "_model_module_version": "~2.1.4",
       "_view_module_version": "~2.1.4"
      }
     },
     "60193ee5b88a46378d5a2b2faaaf088f": {
      "model_module": "jupyter-js-widgets",
      "model_module_version": "~2.1.4",
      "model_name": "LayoutModel",
      "state": {
       "_model_module_version": "~2.1.4",
       "_view_module_version": "~2.1.4"
      }
     },
     "61f15d7908ae4a87befd4da09366669c": {
      "model_module": "jupyter-js-widgets",
      "model_module_version": "~2.1.4",
      "model_name": "DatePickerModel",
      "state": {
       "_model_module_version": "~2.1.4",
       "_view_module_version": "~2.1.4",
       "description": "Date begin",
       "layout": "IPY_MODEL_dea66f42b9d842d2a997783e51551c9f",
       "value": {
        "date": 1,
        "hours": 0,
        "milliseconds": 0,
        "minutes": 0,
        "month": 0,
        "seconds": 0,
        "year": 2017
       }
      }
     },
     "6323978cb05e4fb18f805a63a6111ba1": {
      "model_module": "jupyter-js-widgets",
      "model_module_version": "~2.1.4",
      "model_name": "LayoutModel",
      "state": {
       "_model_module_version": "~2.1.4",
       "_view_module_version": "~2.1.4"
      }
     },
     "6345e6c74c4341c883ed7cf4808d76e5": {
      "model_module": "jupyter-js-widgets",
      "model_module_version": "~2.1.4",
      "model_name": "LayoutModel",
      "state": {
       "_model_module_version": "~2.1.4",
       "_view_module_version": "~2.1.4"
      }
     },
     "634e0826b43e4d12a9b89fe6506ccfde": {
      "model_module": "jupyter-js-widgets",
      "model_module_version": "~2.1.4",
      "model_name": "LayoutModel",
      "state": {
       "_model_module_version": "~2.1.4",
       "_view_module_version": "~2.1.4"
      }
     },
     "6464062caab144d9990728d59069eaf3": {
      "model_module": "jupyter-js-widgets",
      "model_module_version": "~2.1.4",
      "model_name": "VBoxModel",
      "state": {
       "_dom_classes": [
        "widget-interact"
       ],
       "_model_module_version": "~2.1.4",
       "_view_module_version": "~2.1.4",
       "children": [
        "IPY_MODEL_26dbff12fecd413abe18248284b392ff",
        "IPY_MODEL_259c1496dfd8494894b2f80adc45a8d2",
        "IPY_MODEL_4e2972774f754135b7b978869abb8567",
        "IPY_MODEL_f65f4827425c44879b85be43bd7bab75",
        "IPY_MODEL_085145cf463d481985542df1a2ec4221"
       ],
       "layout": "IPY_MODEL_826ba5058bb04e69b2fd84767632b771"
      }
     },
     "647ec889aac3497b99cc58d0e3a17e89": {
      "model_module": "jupyter-js-widgets",
      "model_module_version": "~2.1.4",
      "model_name": "DropdownModel",
      "state": {
       "_model_module_version": "~2.1.4",
       "_options_labels": [
        "Afghanistan",
        "Brazil",
        "Custom area"
       ],
       "_view_module_version": "~2.1.4",
       "description": "geostore",
       "layout": "IPY_MODEL_1cafbe8bd74149068b7f879fa279c98c",
       "value": "Afghanistan"
      }
     },
     "64ba31b8750845689c6a1b023e0c604a": {
      "model_module": "jupyter-js-widgets",
      "model_module_version": "~2.1.4",
      "model_name": "DatePickerModel",
      "state": {
       "_model_module_version": "~2.1.4",
       "_view_module_version": "~2.1.4",
       "description": "Date begin",
       "layout": "IPY_MODEL_79273021e4f74e608badd9f6337569c6",
       "value": {
        "date": 18,
        "hours": 0,
        "milliseconds": 0,
        "minutes": 0,
        "month": 9,
        "seconds": 0,
        "year": 2017
       }
      }
     },
     "64e59bef22e14691826dd0a5c7ece877": {
      "model_module": "jupyter-js-widgets",
      "model_module_version": "~2.1.4",
      "model_name": "LayoutModel",
      "state": {
       "_model_module_version": "~2.1.4",
       "_view_module_version": "~2.1.4"
      }
     },
     "65bbf4c7188f43a7a0ea701123d30013": {
      "model_module": "jupyter-js-widgets",
      "model_module_version": "~2.1.4",
      "model_name": "LayoutModel",
      "state": {
       "_model_module_version": "~2.1.4",
       "_view_module_version": "~2.1.4"
      }
     },
     "65c7aea6c136475dad6fdfb36c93f321": {
      "model_module": "jupyter-js-widgets",
      "model_module_version": "~2.1.4",
      "model_name": "DropdownModel",
      "state": {
       "_model_module_version": "~2.1.4",
       "_options_labels": [
        "Afghanistan",
        "Brazil",
        "Custom area"
       ],
       "_view_module_version": "~2.1.4",
       "description": "geostore",
       "layout": "IPY_MODEL_fa89b6d539ca4caf91bf39fa876be1f4",
       "value": "Afghanistan"
      }
     },
     "6642d31643a449dda0243087048d25e6": {
      "model_module": "jupyter-js-widgets",
      "model_module_version": "~2.1.4",
      "model_name": "LayoutModel",
      "state": {
       "_model_module_version": "~2.1.4",
       "_view_module_version": "~2.1.4"
      }
     },
     "664b46a7042c46e2ac9c036e86c592af": {
      "model_module": "jupyter-js-widgets",
      "model_module_version": "~2.1.4",
      "model_name": "DatePickerModel",
      "state": {
       "_model_module_version": "~2.1.4",
       "_view_module_version": "~2.1.4",
       "description": "Date end",
       "layout": "IPY_MODEL_bdf2949b9cfd402a8419ac4e649ee088",
       "value": {
        "date": 24,
        "hours": 13,
        "milliseconds": 789,
        "minutes": 11,
        "month": 9,
        "seconds": 54,
        "year": 2017
       }
      }
     },
     "66c2e25eb6484bb8b55d0fd94f410aa6": {
      "model_module": "jupyter-js-widgets",
      "model_module_version": "~2.1.4",
      "model_name": "LayoutModel",
      "state": {
       "_model_module_version": "~2.1.4",
       "_view_module_version": "~2.1.4"
      }
     },
     "6842e0ac729f4f588d003182c8cfaa86": {
      "model_module": "jupyter-js-widgets",
      "model_module_version": "~2.1.4",
      "model_name": "LayoutModel",
      "state": {
       "_model_module_version": "~2.1.4",
       "_view_module_version": "~2.1.4"
      }
     },
     "685b8061174c4a4fbf475ddc28f57b6c": {
      "model_module": "jupyter-js-widgets",
      "model_module_version": "~2.1.4",
      "model_name": "DatePickerModel",
      "state": {
       "_model_module_version": "~2.1.4",
       "_view_module_version": "~2.1.4",
       "description": "Date begin",
       "layout": "IPY_MODEL_6b2e62c22ec3404f9915fa57c12c2509",
       "value": {
        "date": 1,
        "hours": 0,
        "milliseconds": 0,
        "minutes": 0,
        "month": 0,
        "seconds": 0,
        "year": 2017
       }
      }
     },
     "689557d867464bbe8bc511c13cbb1d42": {
      "model_module": "jupyter-js-widgets",
      "model_module_version": "~2.1.4",
      "model_name": "LayoutModel",
      "state": {
       "_model_module_version": "~2.1.4",
       "_view_module_version": "~2.1.4"
      }
     },
     "69d27264664841dfb07fe1e8f8ecc5e5": {
      "model_module": "jupyter-js-widgets",
      "model_module_version": "~2.1.4",
      "model_name": "DatePickerModel",
      "state": {
       "_model_module_version": "~2.1.4",
       "_view_module_version": "~2.1.4",
       "description": "Date begin",
       "layout": "IPY_MODEL_0d5e12c760b6480d84cc21a8769b2d97",
       "value": {
        "date": 18,
        "hours": 0,
        "milliseconds": 0,
        "minutes": 0,
        "month": 9,
        "seconds": 0,
        "year": 2017
       }
      }
     },
     "6ac93d7748ce4a7784113ca716239114": {
      "model_module": "jupyter-js-widgets",
      "model_module_version": "~2.1.4",
      "model_name": "LayoutModel",
      "state": {
       "_model_module_version": "~2.1.4",
       "_view_module_version": "~2.1.4"
      }
     },
     "6b08fa74fcc148dd9174df814ae0fecf": {
      "model_module": "jupyter-js-widgets",
      "model_module_version": "~2.1.4",
      "model_name": "OutputModel",
      "state": {
       "_dom_classes": [],
       "_model_module": "jupyter-js-widgets",
       "_model_module_version": "~2.1.4",
       "_view_module": "jupyter-js-widgets",
       "_view_module_version": "~2.1.4",
       "layout": "IPY_MODEL_946b494e3cde43e48aae8213a238ad4b",
       "msg_throttle": 1
      }
     },
     "6b2e62c22ec3404f9915fa57c12c2509": {
      "model_module": "jupyter-js-widgets",
      "model_module_version": "~2.1.4",
      "model_name": "LayoutModel",
      "state": {
       "_model_module_version": "~2.1.4",
       "_view_module_version": "~2.1.4"
      }
     },
     "6b74deb1e535469da3a7f568e6f9bfca": {
      "model_module": "jupyter-js-widgets",
      "model_module_version": "~2.1.4",
      "model_name": "LayoutModel",
      "state": {
       "_model_module_version": "~2.1.4",
       "_view_module_version": "~2.1.4"
      }
     },
     "6bf0fa5b77174405b6c530dde6348829": {
      "model_module": "jupyter-js-widgets",
      "model_module_version": "~2.1.4",
      "model_name": "LayoutModel",
      "state": {
       "_model_module_version": "~2.1.4",
       "_view_module_version": "~2.1.4"
      }
     },
     "6bf892c2f37a414498da9215ebedc217": {
      "model_module": "jupyter-js-widgets",
      "model_module_version": "~2.1.4",
      "model_name": "LayoutModel",
      "state": {
       "_model_module_version": "~2.1.4",
       "_view_module_version": "~2.1.4"
      }
     },
     "6c612df9dde94913b3aa03f4e26341ab": {
      "model_module": "jupyter-js-widgets",
      "model_module_version": "~2.1.4",
      "model_name": "LayoutModel",
      "state": {
       "_model_module_version": "~2.1.4",
       "_view_module_version": "~2.1.4"
      }
     },
     "6d0a60dfcdc5453d804503e21cf867e1": {
      "model_module": "jupyter-js-widgets",
      "model_module_version": "~2.1.4",
      "model_name": "DropdownModel",
      "state": {
       "_model_module_version": "~2.1.4",
       "_options_labels": [
        "line"
       ],
       "_view_module_version": "~2.1.4",
       "description": "widget",
       "layout": "IPY_MODEL_29e2bb9663264dba9ca88b5fed4b69ac",
       "value": "line"
      }
     },
     "6d5cdd21364e4e119058b53eda5fe09f": {
      "model_module": "jupyter-js-widgets",
      "model_module_version": "~2.1.4",
      "model_name": "DropdownModel",
      "state": {
       "_model_module_version": "~2.1.4",
       "_options_labels": [
        "line"
       ],
       "_view_module_version": "~2.1.4",
       "description": "widget",
       "layout": "IPY_MODEL_b4eee5f311d1430592b152eac8b51b33",
       "value": "line"
      }
     },
     "6d782af8ef4c4e06b9584ca3bdd21609": {
      "model_module": "jupyter-js-widgets",
      "model_module_version": "~2.1.4",
      "model_name": "LayoutModel",
      "state": {
       "_model_module_version": "~2.1.4",
       "_view_module_version": "~2.1.4"
      }
     },
     "6d80b17f90e94ad6b03d0212eade18cd": {
      "model_module": "jupyter-js-widgets",
      "model_module_version": "~2.1.4",
      "model_name": "VBoxModel",
      "state": {
       "_dom_classes": [
        "widget-interact"
       ],
       "_model_module_version": "~2.1.4",
       "_view_module_version": "~2.1.4",
       "children": [
        "IPY_MODEL_874761ed12cc44aba1c8464f90088397",
        "IPY_MODEL_b545761b7d174482b300a8d63e67df71",
        "IPY_MODEL_5f24cf7dc4fc4f8a9a5c10c997607581",
        "IPY_MODEL_00fbf9b520f046faa8c34c18bec174cd",
        "IPY_MODEL_9de75a34651b438497a626861a41810b"
       ],
       "layout": "IPY_MODEL_2610618c6b8d45aab6b6bf7ca4326bcd"
      }
     },
     "6e3e7f270e154c6996b0470233684951": {
      "model_module": "jupyter-js-widgets",
      "model_module_version": "~2.1.4",
      "model_name": "LayoutModel",
      "state": {
       "_model_module_version": "~2.1.4",
       "_view_module_version": "~2.1.4"
      }
     },
     "6e661bc07dc744608a9b536c4e220b67": {
      "model_module": "jupyter-js-widgets",
      "model_module_version": "~2.1.4",
      "model_name": "LayoutModel",
      "state": {
       "_model_module_version": "~2.1.4",
       "_view_module_version": "~2.1.4"
      }
     },
     "6f502dea37424ec0bbe8f42eba5a0033": {
      "model_module": "jupyter-js-widgets",
      "model_module_version": "~2.1.4",
      "model_name": "LayoutModel",
      "state": {
       "_model_module_version": "~2.1.4",
       "_view_module_version": "~2.1.4"
      }
     },
     "6f7db5235fd8437a9e8f90853244f3e1": {
      "model_module": "jupyter-js-widgets",
      "model_module_version": "~2.1.4",
      "model_name": "DatePickerModel",
      "state": {
       "_model_module_version": "~2.1.4",
       "_view_module_version": "~2.1.4",
       "description": "Date begin",
       "layout": "IPY_MODEL_8cc8763981c047eb83ea79ab0efcc339",
       "value": {
        "date": 18,
        "hours": 0,
        "milliseconds": 0,
        "minutes": 0,
        "month": 9,
        "seconds": 0,
        "year": 2017
       }
      }
     },
     "6fce73fad75649beaeb1c7e4e71f5850": {
      "model_module": "jupyter-js-widgets",
      "model_module_version": "~2.1.4",
      "model_name": "DropdownModel",
      "state": {
       "_model_module_version": "~2.1.4",
       "_options_labels": [
        "Afghanistan",
        "Brazil",
        "Custom area"
       ],
       "_view_module_version": "~2.1.4",
       "description": "geostore",
       "layout": "IPY_MODEL_970e34c21de74174970707d8550df74f",
       "value": "Afghanistan"
      }
     },
     "6fe1a5551fc44974a1a9439d26d86246": {
      "model_module": "jupyter-js-widgets",
      "model_module_version": "~2.1.4",
      "model_name": "LayoutModel",
      "state": {
       "_model_module_version": "~2.1.4",
       "_view_module_version": "~2.1.4"
      }
     },
     "709655dfb58c4c568877d1401f9ec660": {
      "model_module": "jupyter-js-widgets",
      "model_module_version": "~2.1.4",
      "model_name": "LayoutModel",
      "state": {
       "_model_module_version": "~2.1.4",
       "_view_module_version": "~2.1.4"
      }
     },
     "70d4adace3c74da3a1852abefb984f87": {
      "model_module": "jupyter-js-widgets",
      "model_module_version": "~2.1.4",
      "model_name": "LayoutModel",
      "state": {
       "_model_module_version": "~2.1.4",
       "_view_module_version": "~2.1.4"
      }
     },
     "729b624b77f74515b60ba4cf6f52e949": {
      "model_module": "jupyter-js-widgets",
      "model_module_version": "~2.1.4",
      "model_name": "LayoutModel",
      "state": {
       "_model_module_version": "~2.1.4",
       "_view_module_version": "~2.1.4"
      }
     },
     "7389787bad5d46caa9cfb0e54986e7d8": {
      "model_module": "jupyter-js-widgets",
      "model_module_version": "~2.1.4",
      "model_name": "LayoutModel",
      "state": {
       "_model_module_version": "~2.1.4",
       "_view_module_version": "~2.1.4"
      }
     },
     "7414240fff414440be3f3948b8cecd14": {
      "model_module": "jupyter-js-widgets",
      "model_module_version": "~2.1.4",
      "model_name": "LayoutModel",
      "state": {
       "_model_module_version": "~2.1.4",
       "_view_module_version": "~2.1.4"
      }
     },
     "74215686c3544760b528394ba64389f8": {
      "model_module": "jupyter-js-widgets",
      "model_module_version": "~2.1.4",
      "model_name": "VBoxModel",
      "state": {
       "_dom_classes": [
        "widget-interact"
       ],
       "_model_module_version": "~2.1.4",
       "_view_module_version": "~2.1.4",
       "children": [
        "IPY_MODEL_971b762f79e74163891cc6cd522f8745",
        "IPY_MODEL_1f641f1fa25d4431a9431357e38d5e1e",
        "IPY_MODEL_3c61529fd2384d65a79ebd96916ca7fe",
        "IPY_MODEL_c93f86db15de465d81933e3110475f43",
        "IPY_MODEL_885271af57a9489ab233810f9fb08fa6"
       ],
       "layout": "IPY_MODEL_288bb240a0934e25ae9798899c36e433"
      }
     },
     "7432bb40337a4e1aa7fdb8833638b255": {
      "model_module": "jupyter-js-widgets",
      "model_module_version": "~2.1.4",
      "model_name": "LayoutModel",
      "state": {
       "_model_module_version": "~2.1.4",
       "_view_module_version": "~2.1.4"
      }
     },
     "74545677eccc41d1b6503584941e88f0": {
      "model_module": "jupyter-js-widgets",
      "model_module_version": "~2.1.4",
      "model_name": "LayoutModel",
      "state": {
       "_model_module_version": "~2.1.4",
       "_view_module_version": "~2.1.4"
      }
     },
     "748e03bf05b146d285584214494509f5": {
      "model_module": "jupyter-js-widgets",
      "model_module_version": "~2.1.4",
      "model_name": "LayoutModel",
      "state": {
       "_model_module_version": "~2.1.4",
       "_view_module_version": "~2.1.4"
      }
     },
     "7493c117807c4573831cee584d9b2f8b": {
      "model_module": "jupyter-js-widgets",
      "model_module_version": "~2.1.4",
      "model_name": "LayoutModel",
      "state": {
       "_model_module_version": "~2.1.4",
       "_view_module_version": "~2.1.4"
      }
     },
     "74ddfadf2c7a481e926cd44147158c14": {
      "model_module": "jupyter-js-widgets",
      "model_module_version": "~2.1.4",
      "model_name": "VBoxModel",
      "state": {
       "_dom_classes": [
        "widget-interact"
       ],
       "_model_module_version": "~2.1.4",
       "_view_module_version": "~2.1.4",
       "children": [
        "IPY_MODEL_be8a1324df284733a08010565fb90664",
        "IPY_MODEL_01bd6289fa6d4ae5be5ec08a4a1cdef2",
        "IPY_MODEL_97850d547aa0434d8fe00716512ba9d2",
        "IPY_MODEL_b212dada02444aefa392a5ff2283c437",
        "IPY_MODEL_75bff4be55374dc599da67043298ba0f"
       ],
       "layout": "IPY_MODEL_ccf5ff98dbe54a85b470f20d3b8b3460"
      }
     },
     "75bff4be55374dc599da67043298ba0f": {
      "model_module": "jupyter-js-widgets",
      "model_module_version": "~2.1.4",
      "model_name": "OutputModel",
      "state": {
       "_dom_classes": [],
       "_model_module": "jupyter-js-widgets",
       "_model_module_version": "~2.1.4",
       "_view_module": "jupyter-js-widgets",
       "_view_module_version": "~2.1.4",
       "layout": "IPY_MODEL_6f502dea37424ec0bbe8f42eba5a0033",
       "msg_throttle": 1
      }
     },
     "75cae2f9156547018273fde9df45ac07": {
      "model_module": "jupyter-js-widgets",
      "model_module_version": "~2.1.4",
      "model_name": "DropdownModel",
      "state": {
       "_model_module_version": "~2.1.4",
       "_options_labels": [
        "Afghanistan",
        "Brazil",
        "Custom area"
       ],
       "_view_module_version": "~2.1.4",
       "description": "Geostore",
       "layout": "IPY_MODEL_6842e0ac729f4f588d003182c8cfaa86",
       "value": "Afghanistan"
      }
     },
     "761debbd93b843a8990c6796f3e54d64": {
      "model_module": "jupyter-js-widgets",
      "model_module_version": "~2.1.4",
      "model_name": "LayoutModel",
      "state": {
       "_model_module_version": "~2.1.4",
       "_view_module_version": "~2.1.4"
      }
     },
     "76a31e37a10046e08de507e084aff77c": {
      "model_module": "jupyter-js-widgets",
      "model_module_version": "~2.1.4",
      "model_name": "DatePickerModel",
      "state": {
       "_model_module_version": "~2.1.4",
       "_view_module_version": "~2.1.4",
       "description": "Date end",
       "layout": "IPY_MODEL_d47ba0f70329407fb6f853988450d0c8",
       "value": {
        "date": 24,
        "hours": 13,
        "milliseconds": 237,
        "minutes": 1,
        "month": 9,
        "seconds": 42,
        "year": 2017
       }
      }
     },
     "76de60d92e7a49c9bf765c90463f5ead": {
      "model_module": "jupyter-js-widgets",
      "model_module_version": "~2.1.4",
      "model_name": "DropdownModel",
      "state": {
       "_model_module_version": "~2.1.4",
       "_options_labels": [
        "line"
       ],
       "_view_module_version": "~2.1.4",
       "description": "widget",
       "layout": "IPY_MODEL_367823857641432f80e5e484c80fd1ba",
       "value": "line"
      }
     },
     "77525eac725749628a5d5179fd14c38c": {
      "model_module": "jupyter-js-widgets",
      "model_module_version": "~2.1.4",
      "model_name": "DatePickerModel",
      "state": {
       "_model_module_version": "~2.1.4",
       "_view_module_version": "~2.1.4",
       "description": "Date begin",
       "layout": "IPY_MODEL_8233d36a5658438f8dfa63849ead153b",
       "value": {
        "date": 1,
        "hours": 0,
        "milliseconds": 0,
        "minutes": 0,
        "month": 0,
        "seconds": 0,
        "year": 2017
       }
      }
     },
     "7784c4c1e4e041d9986cf2d30e77935d": {
      "model_module": "jupyter-js-widgets",
      "model_module_version": "~2.1.4",
      "model_name": "DatePickerModel",
      "state": {
       "_model_module_version": "~2.1.4",
       "_view_module_version": "~2.1.4",
       "description": "Date end",
       "layout": "IPY_MODEL_180fc6326ff14490a07cc138621deacf",
       "value": {
        "date": 24,
        "hours": 13,
        "milliseconds": 691,
        "minutes": 16,
        "month": 9,
        "seconds": 4,
        "year": 2017
       }
      }
     },
     "77a17c6c278e42f9bca0d78ff2fa3da3": {
      "model_module": "jupyter-js-widgets",
      "model_module_version": "~2.1.4",
      "model_name": "LayoutModel",
      "state": {
       "_model_module_version": "~2.1.4",
       "_view_module_version": "~2.1.4"
      }
     },
     "78775b4aaf06421fb7ecb007ea4550ce": {
      "model_module": "jupyter-js-widgets",
      "model_module_version": "~2.1.4",
      "model_name": "DatePickerModel",
      "state": {
       "_model_module_version": "~2.1.4",
       "_view_module_version": "~2.1.4",
       "description": "Date begin",
       "layout": "IPY_MODEL_edd4d2ca1c3d41f7b6d370157d5be742",
       "value": {
        "date": 18,
        "hours": 0,
        "milliseconds": 0,
        "minutes": 0,
        "month": 9,
        "seconds": 0,
        "year": 2017
       }
      }
     },
     "78b2308495eb4a7bb38963f86a20e05c": {
      "model_module": "jupyter-js-widgets",
      "model_module_version": "~2.1.4",
      "model_name": "VBoxModel",
      "state": {
       "_dom_classes": [
        "widget-interact"
       ],
       "_model_module_version": "~2.1.4",
       "_view_module_version": "~2.1.4",
       "children": [
        "IPY_MODEL_57820930ac224c6fb503caff106cc8f1",
        "IPY_MODEL_f6e25740fdd34d15aa751ad825612b8a",
        "IPY_MODEL_eaac6a372131495fb8d10690d0e21d4e",
        "IPY_MODEL_ad47712663de4c0e8a56d1b740d4cbbe",
        "IPY_MODEL_561834486346495cba9a7d616d224bfd",
        "IPY_MODEL_955f1515b0904f62abd7eda66d8636ce",
        "IPY_MODEL_d37633b1ea1f4f4aa7be3d39afb0638a"
       ],
       "layout": "IPY_MODEL_9ad0bb99765545498ace49036bc7c0e5"
      }
     },
     "78b75b2f0f214019ad997f8d341bcad9": {
      "model_module": "jupyter-js-widgets",
      "model_module_version": "~2.1.4",
      "model_name": "VBoxModel",
      "state": {
       "_dom_classes": [
        "widget-interact"
       ],
       "_model_module_version": "~2.1.4",
       "_view_module_version": "~2.1.4",
       "children": [
        "IPY_MODEL_d692e207a15b4dfdab81129c331eb664",
        "IPY_MODEL_2af4b8858bf44f8d8c466a917c139c81",
        "IPY_MODEL_45714b06ed7849bc9090a64b74ee8982",
        "IPY_MODEL_6f7db5235fd8437a9e8f90853244f3e1",
        "IPY_MODEL_8215cf018ca9475d98fb8a4b5791f12c",
        "IPY_MODEL_cf3ac06b4510438d8a71817278be9136",
        "IPY_MODEL_445493580fc14f088bb77887dbc654b1"
       ],
       "layout": "IPY_MODEL_f199bd68f734432881e2944bc489b755"
      }
     },
     "78ffff0c2bf74ae18c82a494814956f4": {
      "model_module": "jupyter-js-widgets",
      "model_module_version": "~2.1.4",
      "model_name": "DatePickerModel",
      "state": {
       "_model_module_version": "~2.1.4",
       "_view_module_version": "~2.1.4",
       "description": "Date begin",
       "layout": "IPY_MODEL_069dc2b6c5364accb6e8a1ad0de8675d",
       "value": {
        "date": 18,
        "hours": 0,
        "milliseconds": 0,
        "minutes": 0,
        "month": 9,
        "seconds": 0,
        "year": 2017
       }
      }
     },
     "79273021e4f74e608badd9f6337569c6": {
      "model_module": "jupyter-js-widgets",
      "model_module_version": "~2.1.4",
      "model_name": "LayoutModel",
      "state": {
       "_model_module_version": "~2.1.4",
       "_view_module_version": "~2.1.4"
      }
     },
     "799fd19f7fda48f7a0f9bdbfc6afc5fb": {
      "model_module": "jupyter-js-widgets",
      "model_module_version": "~2.1.4",
      "model_name": "VBoxModel",
      "state": {
       "_dom_classes": [
        "widget-interact"
       ],
       "_model_module_version": "~2.1.4",
       "_view_module_version": "~2.1.4",
       "children": [
        "IPY_MODEL_1360953c245b435d9623527a7ffca6d9",
        "IPY_MODEL_f860dcc5faa04505aa1574b22f56720a",
        "IPY_MODEL_13b17c558f86488abe7b58c3de425ee3",
        "IPY_MODEL_64ba31b8750845689c6a1b023e0c604a",
        "IPY_MODEL_2d78ab84f87e45648c4eaa6dc7d47eb8",
        "IPY_MODEL_e4983b4d4f874bb49e787eeab5fcbc11",
        "IPY_MODEL_beaa04035a584259ab845552b77f095e"
       ],
       "layout": "IPY_MODEL_0429f1fa028247039ebebd8a7a8bdb3a"
      }
     },
     "7a8d9a1d9da74afa8e87fe5ce7d847d4": {
      "model_module": "jupyter-js-widgets",
      "model_module_version": "~2.1.4",
      "model_name": "LayoutModel",
      "state": {
       "_model_module_version": "~2.1.4",
       "_view_module_version": "~2.1.4"
      }
     },
     "7aaf6c9960174e008abfa1be1284468c": {
      "model_module": "jupyter-js-widgets",
      "model_module_version": "~2.1.4",
      "model_name": "DatePickerModel",
      "state": {
       "_model_module_version": "~2.1.4",
       "_view_module_version": "~2.1.4",
       "description": "Date end",
       "layout": "IPY_MODEL_9cd1b393cab944f1a839df9b442d43b8",
       "value": {
        "date": 24,
        "hours": 13,
        "milliseconds": 522,
        "minutes": 2,
        "month": 9,
        "seconds": 10,
        "year": 2017
       }
      }
     },
     "7b0ed7173e84463a9276d958bf0b7adf": {
      "model_module": "jupyter-js-widgets",
      "model_module_version": "~2.1.4",
      "model_name": "VBoxModel",
      "state": {
       "_dom_classes": [
        "widget-interact"
       ],
       "_model_module_version": "~2.1.4",
       "_view_module_version": "~2.1.4",
       "children": [
        "IPY_MODEL_89be657b3fc34a68a6334fb9595a7afd",
        "IPY_MODEL_234525bf447241e98248dcbf3d42904d",
        "IPY_MODEL_a1fd1d97cc0d4336a056f6fd7d6ef6ce",
        "IPY_MODEL_980137b5b42d42199301722f2dc6687e",
        "IPY_MODEL_c913db3c8997473f90f0d1398e64ceac"
       ],
       "layout": "IPY_MODEL_b5571cd96b3c4557b5b61afb37797cca"
      }
     },
     "7b2817da84cd4a0984d161718925ad5c": {
      "model_module": "jupyter-js-widgets",
      "model_module_version": "~2.1.4",
      "model_name": "OutputModel",
      "state": {
       "_dom_classes": [],
       "_model_module": "jupyter-js-widgets",
       "_model_module_version": "~2.1.4",
       "_view_module": "jupyter-js-widgets",
       "_view_module_version": "~2.1.4",
       "layout": "IPY_MODEL_6ac93d7748ce4a7784113ca716239114",
       "msg_throttle": 1
      }
     },
     "7c07947c4c12425f98582d5a5c84ba42": {
      "model_module": "jupyter-js-widgets",
      "model_module_version": "~2.1.4",
      "model_name": "LayoutModel",
      "state": {
       "_model_module_version": "~2.1.4",
       "_view_module_version": "~2.1.4"
      }
     },
     "7c6310d1e80c4e7eb0f84251b83b94e3": {
      "model_module": "jupyter-js-widgets",
      "model_module_version": "~2.1.4",
      "model_name": "LayoutModel",
      "state": {
       "_model_module_version": "~2.1.4",
       "_view_module_version": "~2.1.4"
      }
     },
     "7c665d280a9742d1a7670f3b9cf58d81": {
      "model_module": "jupyter-js-widgets",
      "model_module_version": "~2.1.4",
      "model_name": "DatePickerModel",
      "state": {
       "_model_module_version": "~2.1.4",
       "_view_module_version": "~2.1.4",
       "description": "Date begin",
       "layout": "IPY_MODEL_6bf0fa5b77174405b6c530dde6348829",
       "value": {
        "date": 1,
        "hours": 0,
        "milliseconds": 0,
        "minutes": 0,
        "month": 0,
        "seconds": 0,
        "year": 2017
       }
      }
     },
     "7c66ed14738a41249445e6e950838443": {
      "model_module": "jupyter-js-widgets",
      "model_module_version": "~2.1.4",
      "model_name": "DropdownModel",
      "state": {
       "_model_module_version": "~2.1.4",
       "_options_labels": [
        "line"
       ],
       "_view_module_version": "~2.1.4",
       "description": "widget",
       "layout": "IPY_MODEL_7cadebe34b88499b9a59e94209dee232",
       "value": "line"
      }
     },
     "7c6b23680fbd4bc9a6a810929a64c40e": {
      "model_module": "jupyter-js-widgets",
      "model_module_version": "~2.1.4",
      "model_name": "LayoutModel",
      "state": {
       "_model_module_version": "~2.1.4",
       "_view_module_version": "~2.1.4"
      }
     },
     "7cadebe34b88499b9a59e94209dee232": {
      "model_module": "jupyter-js-widgets",
      "model_module_version": "~2.1.4",
      "model_name": "LayoutModel",
      "state": {
       "_model_module_version": "~2.1.4",
       "_view_module_version": "~2.1.4"
      }
     },
     "7d8cc428cf444243a550cfd59bbb941a": {
      "model_module": "jupyter-js-widgets",
      "model_module_version": "~2.1.4",
      "model_name": "LayoutModel",
      "state": {
       "_model_module_version": "~2.1.4",
       "_view_module_version": "~2.1.4"
      }
     },
     "7dc76bdef606465892d1bd165ac3bd95": {
      "model_module": "jupyter-js-widgets",
      "model_module_version": "~2.1.4",
      "model_name": "VBoxModel",
      "state": {
       "_dom_classes": [
        "widget-interact"
       ],
       "_model_module_version": "~2.1.4",
       "_view_module_version": "~2.1.4",
       "children": [
        "IPY_MODEL_b1dae97b22c24b7b86a25278fae1b5e7",
        "IPY_MODEL_be6617efc6fb402584833d51286bf518",
        "IPY_MODEL_49ae3e19f9d34e3f8d76b999e30f5dbd",
        "IPY_MODEL_a3e66469cba648258ef2418815e1a0b9",
        "IPY_MODEL_d84bac850662421c9719658afacda8f1",
        "IPY_MODEL_9d59f2af461f4b9585ed3348e195c080",
        "IPY_MODEL_5c40ba6bedee4d6ba2c5e60fa5b54880"
       ],
       "layout": "IPY_MODEL_f6b5dfb7348149ea83e53e93d39d39ae"
      }
     },
     "7dcecb12b48d401f8a479e12b512ca07": {
      "model_module": "jupyter-js-widgets",
      "model_module_version": "~2.1.4",
      "model_name": "OutputModel",
      "state": {
       "_dom_classes": [],
       "_model_module": "jupyter-js-widgets",
       "_model_module_version": "~2.1.4",
       "_view_module": "jupyter-js-widgets",
       "_view_module_version": "~2.1.4",
       "layout": "IPY_MODEL_b6e3ccb45ea84c28afad2d35b56fa4f8",
       "msg_throttle": 1
      }
     },
     "7e971a36699440189606fa6a7f5e6cdc": {
      "model_module": "jupyter-js-widgets",
      "model_module_version": "~2.1.4",
      "model_name": "OutputModel",
      "state": {
       "_dom_classes": [],
       "_model_module": "jupyter-js-widgets",
       "_model_module_version": "~2.1.4",
       "_view_module": "jupyter-js-widgets",
       "_view_module_version": "~2.1.4",
       "layout": "IPY_MODEL_29dcf602f6b34762b365674625b0f1cc",
       "msg_throttle": 1
      }
     },
     "7ec64001444f48dca425db3a64ef4ae5": {
      "model_module": "jupyter-js-widgets",
      "model_module_version": "~2.1.4",
      "model_name": "LayoutModel",
      "state": {
       "_model_module_version": "~2.1.4",
       "_view_module_version": "~2.1.4"
      }
     },
     "7ee754832f264ae6b1fe1fdde3ee9ef8": {
      "model_module": "jupyter-js-widgets",
      "model_module_version": "~2.1.4",
      "model_name": "DropdownModel",
      "state": {
       "_model_module_version": "~2.1.4",
       "_options_labels": [
        "line"
       ],
       "_view_module_version": "~2.1.4",
       "description": "widget",
       "layout": "IPY_MODEL_a73e5b57b9464bc886158c2d49fbc8c0",
       "value": "line"
      }
     },
     "7ef540182e3b4a9887c6e1c0aaf11c6c": {
      "model_module": "jupyter-js-widgets",
      "model_module_version": "~2.1.4",
      "model_name": "LayoutModel",
      "state": {
       "_model_module_version": "~2.1.4",
       "_view_module_version": "~2.1.4"
      }
     },
     "7f78c2e22d2c40c9a36ce8f9182f3eb0": {
      "model_module": "jupyter-js-widgets",
      "model_module_version": "~2.1.4",
      "model_name": "VBoxModel",
      "state": {
       "_dom_classes": [
        "widget-interact"
       ],
       "_model_module_version": "~2.1.4",
       "_view_module_version": "~2.1.4",
       "children": [
        "IPY_MODEL_17d33f09fa5c4f629c8bd53c030b46a6",
        "IPY_MODEL_1461b74631214c13b1821a3c8c6457f0",
        "IPY_MODEL_9ace70d6be8846d2bb1e22e432bc3307",
        "IPY_MODEL_647ec889aac3497b99cc58d0e3a17e89",
        "IPY_MODEL_b517b08b3ddd46ecade4e0d564cef5af"
       ],
       "layout": "IPY_MODEL_5c17d20918a34964af648c869a85da6a"
      }
     },
     "7f9d29d34a0e4433a1f62df1aec62e4b": {
      "model_module": "jupyter-js-widgets",
      "model_module_version": "~2.1.4",
      "model_name": "LayoutModel",
      "state": {
       "_model_module_version": "~2.1.4",
       "_view_module_version": "~2.1.4"
      }
     },
     "7fc89a87cee0418a8a41644dfe1749bd": {
      "model_module": "jupyter-js-widgets",
      "model_module_version": "~2.1.4",
      "model_name": "DropdownModel",
      "state": {
       "_model_module_version": "~2.1.4",
       "_options_labels": [
        "line"
       ],
       "_view_module_version": "~2.1.4",
       "description": "widget",
       "layout": "IPY_MODEL_e1d9e11bcfe04e6fa521da541d3ab4db",
       "value": "line"
      }
     },
     "808848bfaa8c4205b3d42a9298c11c5e": {
      "model_module": "jupyter-js-widgets",
      "model_module_version": "~2.1.4",
      "model_name": "LayoutModel",
      "state": {
       "_model_module_version": "~2.1.4",
       "_view_module_version": "~2.1.4"
      }
     },
     "80ab0bd09ac4478f86908db31f9425bd": {
      "model_module": "jupyter-js-widgets",
      "model_module_version": "~2.1.4",
      "model_name": "DropdownModel",
      "state": {
       "_model_module_version": "~2.1.4",
       "_options_labels": [
        "line"
       ],
       "_view_module_version": "~2.1.4",
       "description": "widget",
       "layout": "IPY_MODEL_f02077ec492d4cab859833bb687ab2c5",
       "value": "line"
      }
     },
     "812a39926b5543e28687a7628e7064b5": {
      "model_module": "jupyter-js-widgets",
      "model_module_version": "~2.1.4",
      "model_name": "LayoutModel",
      "state": {
       "_model_module_version": "~2.1.4",
       "_view_module_version": "~2.1.4"
      }
     },
     "8151a18faf69411f94c57f87edee23b2": {
      "model_module": "jupyter-js-widgets",
      "model_module_version": "~2.1.4",
      "model_name": "LayoutModel",
      "state": {
       "_model_module_version": "~2.1.4",
       "_view_module_version": "~2.1.4"
      }
     },
     "8178b62710704a73a2befe2f6e1831f8": {
      "model_module": "jupyter-js-widgets",
      "model_module_version": "~2.1.4",
      "model_name": "OutputModel",
      "state": {
       "_dom_classes": [],
       "_model_module": "jupyter-js-widgets",
       "_model_module_version": "~2.1.4",
       "_view_module": "jupyter-js-widgets",
       "_view_module_version": "~2.1.4",
       "layout": "IPY_MODEL_18f907534acd4928b2f49e0676a9de6e",
       "msg_throttle": 1
      }
     },
     "8215cf018ca9475d98fb8a4b5791f12c": {
      "model_module": "jupyter-js-widgets",
      "model_module_version": "~2.1.4",
      "model_name": "DatePickerModel",
      "state": {
       "_model_module_version": "~2.1.4",
       "_view_module_version": "~2.1.4",
       "description": "Date end",
       "layout": "IPY_MODEL_af84de9bcba24ba9aaa7791ffe3244c3",
       "value": {
        "date": 24,
        "hours": 13,
        "milliseconds": 986,
        "minutes": 37,
        "month": 9,
        "seconds": 0,
        "year": 2017
       }
      }
     },
     "8233d36a5658438f8dfa63849ead153b": {
      "model_module": "jupyter-js-widgets",
      "model_module_version": "~2.1.4",
      "model_name": "LayoutModel",
      "state": {
       "_model_module_version": "~2.1.4",
       "_view_module_version": "~2.1.4"
      }
     },
     "826ba5058bb04e69b2fd84767632b771": {
      "model_module": "jupyter-js-widgets",
      "model_module_version": "~2.1.4",
      "model_name": "LayoutModel",
      "state": {
       "_model_module_version": "~2.1.4",
       "_view_module_version": "~2.1.4"
      }
     },
     "83d4073562da4d5c82c934556ba71cb7": {
      "model_module": "jupyter-js-widgets",
      "model_module_version": "~2.1.4",
      "model_name": "DropdownModel",
      "state": {
       "_model_module_version": "~2.1.4",
       "_options_labels": [
        "Afghanistan",
        "Brazil",
        "Custom area"
       ],
       "_view_module_version": "~2.1.4",
       "description": "geostore",
       "layout": "IPY_MODEL_50f4510d07ac4bc58f30a51e2b2d1ca4",
       "value": "Afghanistan"
      }
     },
     "841c75bd531042369b9faa98834b2fbc": {
      "model_module": "jupyter-js-widgets",
      "model_module_version": "~2.1.4",
      "model_name": "LayoutModel",
      "state": {
       "_model_module_version": "~2.1.4",
       "_view_module_version": "~2.1.4"
      }
     },
     "84242c9fdbf54434a348c221de9ab968": {
      "model_module": "jupyter-js-widgets",
      "model_module_version": "~2.1.4",
      "model_name": "DatePickerModel",
      "state": {
       "_model_module_version": "~2.1.4",
       "_view_module_version": "~2.1.4",
       "description": "Date begin",
       "layout": "IPY_MODEL_15aa5bd72de148d0b836285248fb71d2",
       "value": {
        "date": 1,
        "hours": 0,
        "milliseconds": 0,
        "minutes": 0,
        "month": 0,
        "seconds": 0,
        "year": 2017
       }
      }
     },
     "848ea3c185ca4e16854fcf88f0501e20": {
      "model_module": "jupyter-js-widgets",
      "model_module_version": "~2.1.4",
      "model_name": "LayoutModel",
      "state": {
       "_model_module_version": "~2.1.4",
       "_view_module_version": "~2.1.4"
      }
     },
     "84c59e1b39f3459f82f4859971727425": {
      "model_module": "jupyter-js-widgets",
      "model_module_version": "~2.1.4",
      "model_name": "TextareaModel",
      "state": {
       "_model_module_version": "~2.1.4",
       "_view_module_version": "~2.1.4",
       "description": "Url to query:",
       "layout": "IPY_MODEL_49fb6ca92251484bae58b2cc88fbd890",
       "value": "https://api.resourcewatch.org/v1/query/20cc5eca-8c63-4c41-8e8e-134dcf1e6d76?sql={0}"
      }
     },
     "85198c7589f94356b30c1dd1c691074b": {
      "model_module": "jupyter-js-widgets",
      "model_module_version": "~2.1.4",
      "model_name": "LayoutModel",
      "state": {
       "_model_module_version": "~2.1.4",
       "_view_module_version": "~2.1.4"
      }
     },
     "856c5e8ecd8543b4aee41f63f87e9f67": {
      "model_module": "jupyter-js-widgets",
      "model_module_version": "~2.1.4",
      "model_name": "DatePickerModel",
      "state": {
       "_model_module_version": "~2.1.4",
       "_view_module_version": "~2.1.4",
       "description": "Date end",
       "layout": "IPY_MODEL_d6cc023bd3af4f2f9bbd5ac2d1317535",
       "value": {
        "date": 24,
        "hours": 13,
        "milliseconds": 212,
        "minutes": 13,
        "month": 9,
        "seconds": 36,
        "year": 2017
       }
      }
     },
     "85af1122540b46b096865d6930d74b60": {
      "model_module": "jupyter-js-widgets",
      "model_module_version": "~2.1.4",
      "model_name": "LayoutModel",
      "state": {
       "_model_module_version": "~2.1.4",
       "_view_module_version": "~2.1.4"
      }
     },
     "85f00e3c7ff34f6e8f820393d56fa88d": {
      "model_module": "jupyter-js-widgets",
      "model_module_version": "~2.1.4",
      "model_name": "VBoxModel",
      "state": {
       "_dom_classes": [
        "widget-interact"
       ],
       "_model_module_version": "~2.1.4",
       "_view_module_version": "~2.1.4",
       "children": [
        "IPY_MODEL_c7c344d6743d40338ecb5c7fd490a46b",
        "IPY_MODEL_69d27264664841dfb07fe1e8f8ecc5e5",
        "IPY_MODEL_0a839e7c26204d8189c9f95f3152cf28",
        "IPY_MODEL_a7da19eb6511499297c84423ed0ffb25",
        "IPY_MODEL_7dcecb12b48d401f8a479e12b512ca07"
       ],
       "layout": "IPY_MODEL_f0f44cd3631e486990fc36531f26e44f"
      }
     },
     "874761ed12cc44aba1c8464f90088397": {
      "model_module": "jupyter-js-widgets",
      "model_module_version": "~2.1.4",
      "model_name": "DropdownModel",
      "state": {
       "_model_module_version": "~2.1.4",
       "_options_labels": [
        "line"
       ],
       "_view_module_version": "~2.1.4",
       "description": "widget",
       "layout": "IPY_MODEL_c1795e1b07004b28b8d3c58393072185",
       "value": "line"
      }
     },
     "87f3e82078a24313af926c18d9a0d783": {
      "model_module": "jupyter-js-widgets",
      "model_module_version": "~2.1.4",
      "model_name": "LayoutModel",
      "state": {
       "_model_module_version": "~2.1.4",
       "_view_module_version": "~2.1.4"
      }
     },
     "87fe535a8f3e4926a83650141f426f53": {
      "model_module": "jupyter-js-widgets",
      "model_module_version": "~2.1.4",
      "model_name": "TextareaModel",
      "state": {
       "_model_module_version": "~2.1.4",
       "_view_module_version": "~2.1.4",
       "description": "Query:",
       "layout": "IPY_MODEL_22427a51d9df4e8f9c934069e4d9e5bc",
       "value": "SELECT acq_date as x, count(acq_date) as y FROM vnp14imgtdl_nrt_global_7d WHERE acq_date >='{date_begin}' and acq_date < '{date_end}' group by acq_date order by acq_date asc"
      }
     },
     "88009f65750e4c098e6e6c32297b8163": {
      "model_module": "jupyter-js-widgets",
      "model_module_version": "~2.1.4",
      "model_name": "DatePickerModel",
      "state": {
       "_model_module_version": "~2.1.4",
       "_view_module_version": "~2.1.4",
       "description": "Date end",
       "layout": "IPY_MODEL_8a277df30e3c4aa09930a8fd9781e878",
       "value": {
        "date": 24,
        "hours": 13,
        "milliseconds": 146,
        "minutes": 3,
        "month": 9,
        "seconds": 42,
        "year": 2017
       }
      }
     },
     "883d74800113454f9424f2dfa4cbffa4": {
      "model_module": "jupyter-js-widgets",
      "model_module_version": "~2.1.4",
      "model_name": "OutputModel",
      "state": {
       "_dom_classes": [],
       "_model_module": "jupyter-js-widgets",
       "_model_module_version": "~2.1.4",
       "_view_module": "jupyter-js-widgets",
       "_view_module_version": "~2.1.4",
       "layout": "IPY_MODEL_9299cd50af634f47b6632ab2eb7f36b8",
       "msg_throttle": 1
      }
     },
     "885271af57a9489ab233810f9fb08fa6": {
      "model_module": "jupyter-js-widgets",
      "model_module_version": "~2.1.4",
      "model_name": "OutputModel",
      "state": {
       "_dom_classes": [],
       "_model_module": "jupyter-js-widgets",
       "_model_module_version": "~2.1.4",
       "_view_module": "jupyter-js-widgets",
       "_view_module_version": "~2.1.4",
       "layout": "IPY_MODEL_1bec378e1bee4761a8dca70906d78861",
       "msg_throttle": 1
      }
     },
     "887b98360adc4bdc998a4ac2ff628da8": {
      "model_module": "jupyter-js-widgets",
      "model_module_version": "~2.1.4",
      "model_name": "VBoxModel",
      "state": {
       "_dom_classes": [
        "widget-interact"
       ],
       "_model_module_version": "~2.1.4",
       "_view_module_version": "~2.1.4",
       "children": [
        "IPY_MODEL_e7cff4c11fa544b9a84068fd78757867",
        "IPY_MODEL_1caa4bc2ebfe42c39df9bab1f2fe091b",
        "IPY_MODEL_2e180c0966594821804f42767f31a301",
        "IPY_MODEL_4993c10d79a94a339788f2c69d4c93be",
        "IPY_MODEL_d91b8142f56e4c89a7536b830690d836"
       ],
       "layout": "IPY_MODEL_3fdd16ea7efd449e8c8fa63115871283"
      }
     },
     "8885ef2c395b465d8b9e38ae844e7434": {
      "model_module": "jupyter-js-widgets",
      "model_module_version": "~2.1.4",
      "model_name": "LayoutModel",
      "state": {
       "_model_module_version": "~2.1.4",
       "_view_module_version": "~2.1.4"
      }
     },
     "888666582e3e495cb48177909f8edfa6": {
      "model_module": "jupyter-js-widgets",
      "model_module_version": "~2.1.4",
      "model_name": "OutputModel",
      "state": {
       "_dom_classes": [],
       "_model_module": "jupyter-js-widgets",
       "_model_module_version": "~2.1.4",
       "_view_module": "jupyter-js-widgets",
       "_view_module_version": "~2.1.4",
       "layout": "IPY_MODEL_ca9d65c623f444fd811f66f6480379de",
       "msg_throttle": 1
      }
     },
     "88b9229ef8fa4a3995f274a22d3e3e6d": {
      "model_module": "jupyter-js-widgets",
      "model_module_version": "~2.1.4",
      "model_name": "DatePickerModel",
      "state": {
       "_model_module_version": "~2.1.4",
       "_view_module_version": "~2.1.4",
       "description": "Date end",
       "layout": "IPY_MODEL_7d8cc428cf444243a550cfd59bbb941a",
       "value": {
        "date": 24,
        "hours": 13,
        "milliseconds": 39,
        "minutes": 44,
        "month": 9,
        "seconds": 49,
        "year": 2017
       }
      }
     },
     "89be657b3fc34a68a6334fb9595a7afd": {
      "model_module": "jupyter-js-widgets",
      "model_module_version": "~2.1.4",
      "model_name": "DropdownModel",
      "state": {
       "_model_module_version": "~2.1.4",
       "_options_labels": [
        "line"
       ],
       "_view_module_version": "~2.1.4",
       "description": "widget",
       "layout": "IPY_MODEL_9f0618eb73504758be6a3a9e20f989e2",
       "value": "line"
      }
     },
     "89f1252b72404522b00a5ca8a102dbef": {
      "model_module": "jupyter-js-widgets",
      "model_module_version": "~2.1.4",
      "model_name": "LayoutModel",
      "state": {
       "_model_module_version": "~2.1.4",
       "_view_module_version": "~2.1.4"
      }
     },
     "8a277df30e3c4aa09930a8fd9781e878": {
      "model_module": "jupyter-js-widgets",
      "model_module_version": "~2.1.4",
      "model_name": "LayoutModel",
      "state": {
       "_model_module_version": "~2.1.4",
       "_view_module_version": "~2.1.4"
      }
     },
     "8a3cea290eb44b199b70f8e29f4b193c": {
      "model_module": "jupyter-js-widgets",
      "model_module_version": "~2.1.4",
      "model_name": "LayoutModel",
      "state": {
       "_model_module_version": "~2.1.4",
       "_view_module_version": "~2.1.4"
      }
     },
     "8a4daf9a29bb4cfdb0e82f31ba86163f": {
      "model_module": "jupyter-js-widgets",
      "model_module_version": "~2.1.4",
      "model_name": "LayoutModel",
      "state": {
       "_model_module_version": "~2.1.4",
       "_view_module_version": "~2.1.4"
      }
     },
     "8ab446ab2c1f4aa199a6a8aed7bfe5f1": {
      "model_module": "jupyter-js-widgets",
      "model_module_version": "~2.1.4",
      "model_name": "DatePickerModel",
      "state": {
       "_model_module_version": "~2.1.4",
       "_view_module_version": "~2.1.4",
       "description": "Date begin",
       "layout": "IPY_MODEL_85af1122540b46b096865d6930d74b60",
       "value": {
        "date": 1,
        "hours": 0,
        "milliseconds": 0,
        "minutes": 0,
        "month": 0,
        "seconds": 0,
        "year": 2017
       }
      }
     },
     "8abc298e6e1241c9b02eb2120577229b": {
      "model_module": "jupyter-js-widgets",
      "model_module_version": "~2.1.4",
      "model_name": "OutputModel",
      "state": {
       "_dom_classes": [],
       "_model_module": "jupyter-js-widgets",
       "_model_module_version": "~2.1.4",
       "_view_module": "jupyter-js-widgets",
       "_view_module_version": "~2.1.4",
       "layout": "IPY_MODEL_d6495df8b3234271856ec30ba11289e8",
       "msg_throttle": 1
      }
     },
     "8b9264aabdc045529708f21333dab35a": {
      "model_module": "jupyter-js-widgets",
      "model_module_version": "~2.1.4",
      "model_name": "DatePickerModel",
      "state": {
       "_model_module_version": "~2.1.4",
       "_view_module_version": "~2.1.4",
       "description": "Date begin",
       "layout": "IPY_MODEL_01c5dc1eb48b4dd2aea3c2ec5e5a4f85",
       "value": {
        "date": 18,
        "hours": 0,
        "milliseconds": 0,
        "minutes": 0,
        "month": 9,
        "seconds": 0,
        "year": 2017
       }
      }
     },
     "8bc1f55a28e24221a29c0678deeda38b": {
      "model_module": "jupyter-js-widgets",
      "model_module_version": "~2.1.4",
      "model_name": "VBoxModel",
      "state": {
       "_dom_classes": [
        "widget-interact"
       ],
       "_model_module_version": "~2.1.4",
       "_view_module_version": "~2.1.4",
       "children": [
        "IPY_MODEL_adbb9c5e12424f248983f133df9f7cad",
        "IPY_MODEL_42f03d748ef044ff8875dcdf172332eb",
        "IPY_MODEL_0f26484eb16f449a837fca75856100a1",
        "IPY_MODEL_3d7e4d006a2e4680a34a7a25d5c2bf3f",
        "IPY_MODEL_bc34bf629fea418bb198f4815bc99bd8"
       ],
       "layout": "IPY_MODEL_1d4b3490a5804f60a36c1fd9f09e5ed5"
      }
     },
     "8cc8763981c047eb83ea79ab0efcc339": {
      "model_module": "jupyter-js-widgets",
      "model_module_version": "~2.1.4",
      "model_name": "LayoutModel",
      "state": {
       "_model_module_version": "~2.1.4",
       "_view_module_version": "~2.1.4"
      }
     },
     "8d3ff4f156a143cda8c9e4f447587f8d": {
      "model_module": "jupyter-js-widgets",
      "model_module_version": "~2.1.4",
      "model_name": "LayoutModel",
      "state": {
       "_model_module_version": "~2.1.4",
       "_view_module_version": "~2.1.4"
      }
     },
     "8d75bf3f506f455986dcc01acfd02a30": {
      "model_module": "jupyter-js-widgets",
      "model_module_version": "~2.1.4",
      "model_name": "DropdownModel",
      "state": {
       "_model_module_version": "~2.1.4",
       "_options_labels": [
        "line"
       ],
       "_view_module_version": "~2.1.4",
       "description": "widget",
       "layout": "IPY_MODEL_3fbe0f3b587648228ea7468f9066b462",
       "value": "line"
      }
     },
     "8ec9e643cbde4518b4d4f70ae65beec5": {
      "model_module": "jupyter-js-widgets",
      "model_module_version": "~2.1.4",
      "model_name": "LayoutModel",
      "state": {
       "_model_module_version": "~2.1.4",
       "_view_module_version": "~2.1.4"
      }
     },
     "8f7900c289034f3e8011e0b172d42306": {
      "model_module": "jupyter-js-widgets",
      "model_module_version": "~2.1.4",
      "model_name": "DatePickerModel",
      "state": {
       "_model_module_version": "~2.1.4",
       "_view_module_version": "~2.1.4",
       "description": "Date begin",
       "layout": "IPY_MODEL_4a69ffe3958548d88a36a08dbee82c63",
       "value": {
        "date": 18,
        "hours": 0,
        "milliseconds": 0,
        "minutes": 0,
        "month": 9,
        "seconds": 0,
        "year": 2017
       }
      }
     },
     "8f934b8ac4374b49a1b98ed32c74ad1b": {
      "model_module": "jupyter-js-widgets",
      "model_module_version": "~2.1.4",
      "model_name": "VBoxModel",
      "state": {
       "_dom_classes": [
        "widget-interact"
       ],
       "_model_module_version": "~2.1.4",
       "_view_module_version": "~2.1.4",
       "children": [
        "IPY_MODEL_35ab09ae9cfa470696ca0fd45278c866",
        "IPY_MODEL_359d2b1c396f45f68430b68de64a6f02",
        "IPY_MODEL_3158de1e861f4a9297733cfb88c0d462",
        "IPY_MODEL_1ac947b7e07043acae33ea8a72383c8e",
        "IPY_MODEL_8178b62710704a73a2befe2f6e1831f8"
       ],
       "layout": "IPY_MODEL_8ec9e643cbde4518b4d4f70ae65beec5"
      }
     },
     "8f9fd479a51240a68b74833b55451484": {
      "model_module": "jupyter-js-widgets",
      "model_module_version": "~2.1.4",
      "model_name": "LayoutModel",
      "state": {
       "_model_module_version": "~2.1.4",
       "_view_module_version": "~2.1.4"
      }
     },
     "8fc2371c9f034120b7a02807b43f8c77": {
      "model_module": "jupyter-js-widgets",
      "model_module_version": "~2.1.4",
      "model_name": "LayoutModel",
      "state": {
       "_model_module_version": "~2.1.4",
       "_view_module_version": "~2.1.4"
      }
     },
     "91387a7951864679b28ca3a4fa4fe8a4": {
      "model_module": "jupyter-js-widgets",
      "model_module_version": "~2.1.4",
      "model_name": "LayoutModel",
      "state": {
       "_model_module_version": "~2.1.4",
       "_view_module_version": "~2.1.4"
      }
     },
     "9142537da53141b28f2497562c4db924": {
      "model_module": "jupyter-js-widgets",
      "model_module_version": "~2.1.4",
      "model_name": "LayoutModel",
      "state": {
       "_model_module_version": "~2.1.4",
       "_view_module_version": "~2.1.4"
      }
     },
     "9145e2cdfd334177a15f18b7c82b2d4e": {
      "model_module": "jupyter-js-widgets",
      "model_module_version": "~2.1.4",
      "model_name": "DropdownModel",
      "state": {
       "_model_module_version": "~2.1.4",
       "_options_labels": [
        "Afghanistan",
        "Brazil",
        "Custom area"
       ],
       "_view_module_version": "~2.1.4",
       "description": "geostore",
       "layout": "IPY_MODEL_b439bcaa17dc447793fcff79b98dbecb",
       "value": "Afghanistan"
      }
     },
     "918369f0c0a24cd189bacfcb9fc22596": {
      "model_module": "jupyter-js-widgets",
      "model_module_version": "~2.1.4",
      "model_name": "LayoutModel",
      "state": {
       "_model_module_version": "~2.1.4",
       "_view_module_version": "~2.1.4"
      }
     },
     "918907d2a7274ebfa73960866b6e2701": {
      "model_module": "jupyter-js-widgets",
      "model_module_version": "~2.1.4",
      "model_name": "DatePickerModel",
      "state": {
       "_model_module_version": "~2.1.4",
       "_view_module_version": "~2.1.4",
       "description": "Date end",
       "layout": "IPY_MODEL_5f6501e04b6e47e898dd61c5e06053e9",
       "value": {
        "date": 24,
        "hours": 13,
        "milliseconds": 966,
        "minutes": 9,
        "month": 9,
        "seconds": 24,
        "year": 2017
       }
      }
     },
     "91c4ecce654b4f4ab78da571336949ee": {
      "model_module": "jupyter-js-widgets",
      "model_module_version": "~2.1.4",
      "model_name": "LayoutModel",
      "state": {
       "_model_module_version": "~2.1.4",
       "_view_module_version": "~2.1.4"
      }
     },
     "91dba4ef1c6e4edc87a57ccfbadae77d": {
      "model_module": "jupyter-js-widgets",
      "model_module_version": "~2.1.4",
      "model_name": "TextareaModel",
      "state": {
       "_model_module_version": "~2.1.4",
       "_view_module_version": "~2.1.4",
       "description": "Query:",
       "layout": "IPY_MODEL_66c2e25eb6484bb8b55d0fd94f410aa6",
       "value": "SELECT acq_date as x, count(acq_date) as y FROM vnp14imgtdl_nrt_global_7d WHERE acq_date >='{date_begin}' and acq_date < '{date_end}' group by acq_date order by acq_date asc"
      }
     },
     "9269b0c0dcd642ac9016d8c424c6346b": {
      "model_module": "jupyter-js-widgets",
      "model_module_version": "~2.1.4",
      "model_name": "DropdownModel",
      "state": {
       "_model_module_version": "~2.1.4",
       "_options_labels": [
        "line"
       ],
       "_view_module_version": "~2.1.4",
       "description": "widget",
       "layout": "IPY_MODEL_ace3483707f445898523c10f865a82ec",
       "value": "line"
      }
     },
     "9299cd50af634f47b6632ab2eb7f36b8": {
      "model_module": "jupyter-js-widgets",
      "model_module_version": "~2.1.4",
      "model_name": "LayoutModel",
      "state": {
       "_model_module_version": "~2.1.4",
       "_view_module_version": "~2.1.4"
      }
     },
     "92a9b2460a0b409f9cf608f6e8fb5b21": {
      "model_module": "jupyter-js-widgets",
      "model_module_version": "~2.1.4",
      "model_name": "LayoutModel",
      "state": {
       "_model_module_version": "~2.1.4",
       "_view_module_version": "~2.1.4"
      }
     },
     "930c274b16ad4820b5537115d139dfbf": {
      "model_module": "jupyter-js-widgets",
      "model_module_version": "~2.1.4",
      "model_name": "LayoutModel",
      "state": {
       "_model_module_version": "~2.1.4",
       "_view_module_version": "~2.1.4"
      }
     },
     "9311a4d1b4b24c5bbc9751f58cf7f9ae": {
      "model_module": "jupyter-js-widgets",
      "model_module_version": "~2.1.4",
      "model_name": "OutputModel",
      "state": {
       "_dom_classes": [],
       "_model_module": "jupyter-js-widgets",
       "_model_module_version": "~2.1.4",
       "_view_module": "jupyter-js-widgets",
       "_view_module_version": "~2.1.4",
       "layout": "IPY_MODEL_456d98f3dd5d4dba851fce6aeb702cbb",
       "msg_throttle": 1
      }
     },
     "935488e157f8462699b84c58432f89dc": {
      "model_module": "jupyter-js-widgets",
      "model_module_version": "~2.1.4",
      "model_name": "LayoutModel",
      "state": {
       "_model_module_version": "~2.1.4",
       "_view_module_version": "~2.1.4"
      }
     },
     "93548911d802419388801c7902184271": {
      "model_module": "jupyter-js-widgets",
      "model_module_version": "~2.1.4",
      "model_name": "LayoutModel",
      "state": {
       "_model_module_version": "~2.1.4",
       "_view_module_version": "~2.1.4",
       "align_items": "stretch",
       "display": "flex",
       "flex_flow": "row",
       "width": "100%"
      }
     },
     "9368d9267d1e4dbba62e5fe59cc3f8ca": {
      "model_module": "jupyter-js-widgets",
      "model_module_version": "~2.1.4",
      "model_name": "DatePickerModel",
      "state": {
       "_model_module_version": "~2.1.4",
       "_view_module_version": "~2.1.4",
       "description": "Date begin",
       "layout": "IPY_MODEL_6fe1a5551fc44974a1a9439d26d86246",
       "value": {
        "date": 18,
        "hours": 0,
        "milliseconds": 0,
        "minutes": 0,
        "month": 9,
        "seconds": 0,
        "year": 2017
       }
      }
     },
     "9387ca16251e4edbb118b7278a50c172": {
      "model_module": "jupyter-js-widgets",
      "model_module_version": "~2.1.4",
      "model_name": "OutputModel",
      "state": {
       "_dom_classes": [],
       "_model_module": "jupyter-js-widgets",
       "_model_module_version": "~2.1.4",
       "_view_module": "jupyter-js-widgets",
       "_view_module_version": "~2.1.4",
       "layout": "IPY_MODEL_70d4adace3c74da3a1852abefb984f87",
       "msg_throttle": 1
      }
     },
     "93cf4d0805e14744b82557d5afcc17af": {
      "model_module": "jupyter-js-widgets",
      "model_module_version": "~2.1.4",
      "model_name": "LayoutModel",
      "state": {
       "_model_module_version": "~2.1.4",
       "_view_module_version": "~2.1.4"
      }
     },
     "93f5cf3928a1440591a8eb697fd0ed57": {
      "model_module": "jupyter-js-widgets",
      "model_module_version": "~2.1.4",
      "model_name": "LayoutModel",
      "state": {
       "_model_module_version": "~2.1.4",
       "_view_module_version": "~2.1.4"
      }
     },
     "946b494e3cde43e48aae8213a238ad4b": {
      "model_module": "jupyter-js-widgets",
      "model_module_version": "~2.1.4",
      "model_name": "LayoutModel",
      "state": {
       "_model_module_version": "~2.1.4",
       "_view_module_version": "~2.1.4"
      }
     },
     "955f1515b0904f62abd7eda66d8636ce": {
      "model_module": "jupyter-js-widgets",
      "model_module_version": "~2.1.4",
      "model_name": "DropdownModel",
      "state": {
       "_model_module_version": "~2.1.4",
       "_options_labels": [
        "Afghanistan",
        "Brazil",
        "Custom area"
       ],
       "_view_module_version": "~2.1.4",
       "description": "Geostore",
       "layout": "IPY_MODEL_de2dce6aa5bf4f858ad95e18dcbcdd1f",
       "value": "Afghanistan"
      }
     },
     "9567a470af7c4bacbc1358bbcac82add": {
      "model_module": "jupyter-js-widgets",
      "model_module_version": "~2.1.4",
      "model_name": "DropdownModel",
      "state": {
       "_model_module_version": "~2.1.4",
       "_options_labels": [
        "line"
       ],
       "_view_module_version": "~2.1.4",
       "description": "widget",
       "layout": "IPY_MODEL_e04ca0cab05248e3ac36391584576bb1",
       "value": "line"
      }
     },
     "95fe6999bda5487891939ee70164ed48": {
      "model_module": "jupyter-js-widgets",
      "model_module_version": "~2.1.4",
      "model_name": "DatePickerModel",
      "state": {
       "_model_module_version": "~2.1.4",
       "_view_module_version": "~2.1.4",
       "description": "Date end",
       "layout": "IPY_MODEL_a26a768a47a54d308c67d500667a720a",
       "value": {
        "date": 24,
        "hours": 13,
        "milliseconds": 592,
        "minutes": 12,
        "month": 9,
        "seconds": 25,
        "year": 2017
       }
      }
     },
     "9607db72cee641e99306f38fd4aad0c0": {
      "model_module": "jupyter-js-widgets",
      "model_module_version": "~2.1.4",
      "model_name": "LayoutModel",
      "state": {
       "_model_module_version": "~2.1.4",
       "_view_module_version": "~2.1.4"
      }
     },
     "962a9dd130c8484086bfd89437290b9d": {
      "model_module": "jupyter-js-widgets",
      "model_module_version": "~2.1.4",
      "model_name": "LayoutModel",
      "state": {
       "_model_module_version": "~2.1.4",
       "_view_module_version": "~2.1.4"
      }
     },
     "962ab7afd8a44d25ac0b7444259c2024": {
      "model_module": "jupyter-js-widgets",
      "model_module_version": "~2.1.4",
      "model_name": "OutputModel",
      "state": {
       "_dom_classes": [],
       "_model_module": "jupyter-js-widgets",
       "_model_module_version": "~2.1.4",
       "_view_module": "jupyter-js-widgets",
       "_view_module_version": "~2.1.4",
       "layout": "IPY_MODEL_530b85ab552f4f5dbe18af310985afba",
       "msg_throttle": 1
      }
     },
     "970e34c21de74174970707d8550df74f": {
      "model_module": "jupyter-js-widgets",
      "model_module_version": "~2.1.4",
      "model_name": "LayoutModel",
      "state": {
       "_model_module_version": "~2.1.4",
       "_view_module_version": "~2.1.4"
      }
     },
     "971a2f0c24ad4a6c9fecb91bafa486df": {
      "model_module": "jupyter-js-widgets",
      "model_module_version": "~2.1.4",
      "model_name": "LayoutModel",
      "state": {
       "_model_module_version": "~2.1.4",
       "_view_module_version": "~2.1.4"
      }
     },
     "971b762f79e74163891cc6cd522f8745": {
      "model_module": "jupyter-js-widgets",
      "model_module_version": "~2.1.4",
      "model_name": "DropdownModel",
      "state": {
       "_model_module_version": "~2.1.4",
       "_options_labels": [
        "line"
       ],
       "_view_module_version": "~2.1.4",
       "description": "widget",
       "layout": "IPY_MODEL_49615154114f4feb84617eb6a063dedc",
       "value": "line"
      }
     },
     "976ed76e8d584727be2e16298bbd1680": {
      "model_module": "jupyter-js-widgets",
      "model_module_version": "~2.1.4",
      "model_name": "DatePickerModel",
      "state": {
       "_model_module_version": "~2.1.4",
       "_view_module_version": "~2.1.4",
       "description": "Date begin",
       "layout": "IPY_MODEL_b1f0d9e17d5241498d0af20469816711",
       "value": {
        "date": 18,
        "hours": 0,
        "milliseconds": 0,
        "minutes": 0,
        "month": 9,
        "seconds": 0,
        "year": 2017
       }
      }
     },
     "97850d547aa0434d8fe00716512ba9d2": {
      "model_module": "jupyter-js-widgets",
      "model_module_version": "~2.1.4",
      "model_name": "DatePickerModel",
      "state": {
       "_model_module_version": "~2.1.4",
       "_view_module_version": "~2.1.4",
       "description": "Date end",
       "layout": "IPY_MODEL_0d7d51dafca9497aafb3a45993c0dc39",
       "value": {
        "date": 23,
        "hours": 17,
        "milliseconds": 515,
        "minutes": 58,
        "month": 9,
        "seconds": 44,
        "year": 2017
       }
      }
     },
     "97c308ca67bb4c81a3ce8dd6243747b3": {
      "model_module": "jupyter-js-widgets",
      "model_module_version": "~2.1.4",
      "model_name": "LayoutModel",
      "state": {
       "_model_module_version": "~2.1.4",
       "_view_module_version": "~2.1.4"
      }
     },
     "97f1529b4d9c422babe571b83ea275c3": {
      "model_module": "jupyter-js-widgets",
      "model_module_version": "~2.1.4",
      "model_name": "LayoutModel",
      "state": {
       "_model_module_version": "~2.1.4",
       "_view_module_version": "~2.1.4"
      }
     },
     "980137b5b42d42199301722f2dc6687e": {
      "model_module": "jupyter-js-widgets",
      "model_module_version": "~2.1.4",
      "model_name": "DropdownModel",
      "state": {
       "_model_module_version": "~2.1.4",
       "_options_labels": [
        "Afghanistan",
        "Brazil",
        "Custom area"
       ],
       "_view_module_version": "~2.1.4",
       "description": "geostore",
       "layout": "IPY_MODEL_de0201301f70427b99c138609d4acacf",
       "value": "Custom area"
      }
     },
     "981dc2cd96844079a14ab86bace9a2fd": {
      "model_module": "jupyter-js-widgets",
      "model_module_version": "~2.1.4",
      "model_name": "DatePickerModel",
      "state": {
       "_model_module_version": "~2.1.4",
       "_view_module_version": "~2.1.4",
       "description": "Date end",
       "layout": "IPY_MODEL_51571cfe9fff428abbc0f5f3878ca610",
       "value": {
        "date": 23,
        "hours": 18,
        "milliseconds": 807,
        "minutes": 2,
        "month": 9,
        "seconds": 32,
        "year": 2017
       }
      }
     },
     "98358857a0e4432183792d14cc3e7449": {
      "model_module": "jupyter-js-widgets",
      "model_module_version": "~2.1.4",
      "model_name": "DatePickerModel",
      "state": {
       "_model_module_version": "~2.1.4",
       "_view_module_version": "~2.1.4",
       "description": "Date end",
       "layout": "IPY_MODEL_53e11da4d0f843d3b289550b64692c1d",
       "value": {
        "date": 23,
        "hours": 17,
        "milliseconds": 986,
        "minutes": 56,
        "month": 9,
        "seconds": 9,
        "year": 2017
       }
      }
     },
     "984c2898a0944cb1a598cabe82e2ce0c": {
      "model_module": "jupyter-js-widgets",
      "model_module_version": "~2.1.4",
      "model_name": "DatePickerModel",
      "state": {
       "_model_module_version": "~2.1.4",
       "_view_module_version": "~2.1.4",
       "description": "Date begin",
       "layout": "IPY_MODEL_05bac6b6f7534624a5a7918a85ab3656",
       "value": {
        "date": 1,
        "hours": 0,
        "milliseconds": 0,
        "minutes": 0,
        "month": 0,
        "seconds": 0,
        "year": 2017
       }
      }
     },
     "9856febfd4b148adb809442f16f61098": {
      "model_module": "jupyter-js-widgets",
      "model_module_version": "~2.1.4",
      "model_name": "LayoutModel",
      "state": {
       "_model_module_version": "~2.1.4",
       "_view_module_version": "~2.1.4"
      }
     },
     "98c9fbe92ad04beea3188c7470d48091": {
      "model_module": "jupyter-js-widgets",
      "model_module_version": "~2.1.4",
      "model_name": "DropdownModel",
      "state": {
       "_model_module_version": "~2.1.4",
       "_options_labels": [
        "line"
       ],
       "_view_module_version": "~2.1.4",
       "description": "widget",
       "layout": "IPY_MODEL_114e305111784c9a8023ca25736fe1b6",
       "value": "line"
      }
     },
     "98d17be10e224500b5f42878a96fe957": {
      "model_module": "jupyter-js-widgets",
      "model_module_version": "~2.1.4",
      "model_name": "DropdownModel",
      "state": {
       "_model_module_version": "~2.1.4",
       "_options_labels": [
        "Afghanistan",
        "Brazil",
        "Custom area"
       ],
       "_view_module_version": "~2.1.4",
       "description": "geostore",
       "layout": "IPY_MODEL_2d99f3d99cb94808b9030eb94ced0179",
       "value": "Afghanistan"
      }
     },
     "990fe2e7f6024d329d042ff1f8628116": {
      "model_module": "jupyter-js-widgets",
      "model_module_version": "~2.1.4",
      "model_name": "LayoutModel",
      "state": {
       "_model_module_version": "~2.1.4",
       "_view_module_version": "~2.1.4"
      }
     },
     "9995c4d9420f4ccfb080effcf674270f": {
      "model_module": "jupyter-js-widgets",
      "model_module_version": "~2.1.4",
      "model_name": "DatePickerModel",
      "state": {
       "_model_module_version": "~2.1.4",
       "_view_module_version": "~2.1.4",
       "description": "Date begin",
       "layout": "IPY_MODEL_7414240fff414440be3f3948b8cecd14",
       "value": {
        "date": 18,
        "hours": 0,
        "milliseconds": 0,
        "minutes": 0,
        "month": 9,
        "seconds": 0,
        "year": 2017
       }
      }
     },
     "999e2d8b4b5d44b28a8a6b7201e688f8": {
      "model_module": "jupyter-js-widgets",
      "model_module_version": "~2.1.4",
      "model_name": "OutputModel",
      "state": {
       "_dom_classes": [],
       "_model_module": "jupyter-js-widgets",
       "_model_module_version": "~2.1.4",
       "_view_module": "jupyter-js-widgets",
       "_view_module_version": "~2.1.4",
       "layout": "IPY_MODEL_f2dbbe8e37744f1386ec02f0e0b0c3e8",
       "msg_throttle": 1
      }
     },
     "9aa545984449475d8b02d779212698cb": {
      "model_module": "jupyter-js-widgets",
      "model_module_version": "~2.1.4",
      "model_name": "DropdownModel",
      "state": {
       "_model_module_version": "~2.1.4",
       "_options_labels": [
        "Afghanistan",
        "Brazil",
        "Custom area"
       ],
       "_view_module_version": "~2.1.4",
       "description": "geostore",
       "layout": "IPY_MODEL_d55f6abad6d144fba2a68dabeac5ec0e",
       "value": "Custom area"
      }
     },
     "9ace70d6be8846d2bb1e22e432bc3307": {
      "model_module": "jupyter-js-widgets",
      "model_module_version": "~2.1.4",
      "model_name": "DatePickerModel",
      "state": {
       "_model_module_version": "~2.1.4",
       "_view_module_version": "~2.1.4",
       "description": "Date end",
       "layout": "IPY_MODEL_37477c977d6c453c8efa8035e90e64d6",
       "value": {
        "date": 23,
        "hours": 17,
        "milliseconds": 283,
        "minutes": 58,
        "month": 9,
        "seconds": 56,
        "year": 2017
       }
      }
     },
     "9ad0bb99765545498ace49036bc7c0e5": {
      "model_module": "jupyter-js-widgets",
      "model_module_version": "~2.1.4",
      "model_name": "LayoutModel",
      "state": {
       "_model_module_version": "~2.1.4",
       "_view_module_version": "~2.1.4"
      }
     },
     "9adf40c6ff134ca9b26eb1f17e7a5672": {
      "model_module": "jupyter-js-widgets",
      "model_module_version": "~2.1.4",
      "model_name": "DatePickerModel",
      "state": {
       "_model_module_version": "~2.1.4",
       "_view_module_version": "~2.1.4",
       "description": "Date end",
       "layout": "IPY_MODEL_388e4d699c1b4edeb9b12ea515d31cea",
       "value": {
        "date": 24,
        "hours": 13,
        "milliseconds": 317,
        "minutes": 54,
        "month": 9,
        "seconds": 48,
        "year": 2017
       }
      }
     },
     "9c12e77ad811416eb104df13b4162dcf": {
      "model_module": "jupyter-js-widgets",
      "model_module_version": "~2.1.4",
      "model_name": "LayoutModel",
      "state": {
       "_model_module_version": "~2.1.4",
       "_view_module_version": "~2.1.4"
      }
     },
     "9c2cca24cc524a28b188b27ce96cc491": {
      "model_module": "jupyter-js-widgets",
      "model_module_version": "~2.1.4",
      "model_name": "LayoutModel",
      "state": {
       "_model_module_version": "~2.1.4",
       "_view_module_version": "~2.1.4"
      }
     },
     "9c6286386d934c97b8cfd16699970cee": {
      "model_module": "jupyter-js-widgets",
      "model_module_version": "~2.1.4",
      "model_name": "DropdownModel",
      "state": {
       "_model_module_version": "~2.1.4",
       "_options_labels": [
        "Afghanistan",
        "Brazil",
        "Custom area"
       ],
       "_view_module_version": "~2.1.4",
       "description": "geostore",
       "layout": "IPY_MODEL_5b489150b3104579bef9ec3234abebc0",
       "value": "Afghanistan"
      }
     },
     "9cd1b393cab944f1a839df9b442d43b8": {
      "model_module": "jupyter-js-widgets",
      "model_module_version": "~2.1.4",
      "model_name": "LayoutModel",
      "state": {
       "_model_module_version": "~2.1.4",
       "_view_module_version": "~2.1.4"
      }
     },
     "9d59f2af461f4b9585ed3348e195c080": {
      "model_module": "jupyter-js-widgets",
      "model_module_version": "~2.1.4",
      "model_name": "DropdownModel",
      "state": {
       "_model_module_version": "~2.1.4",
       "_options_labels": [
        "Afghanistan",
        "Brazil",
        "Custom area"
       ],
       "_view_module_version": "~2.1.4",
       "description": "geostore",
       "layout": "IPY_MODEL_9c12e77ad811416eb104df13b4162dcf",
       "value": "Afghanistan"
      }
     },
     "9de75a34651b438497a626861a41810b": {
      "model_module": "jupyter-js-widgets",
      "model_module_version": "~2.1.4",
      "model_name": "OutputModel",
      "state": {
       "_dom_classes": [],
       "_model_module": "jupyter-js-widgets",
       "_model_module_version": "~2.1.4",
       "_view_module": "jupyter-js-widgets",
       "_view_module_version": "~2.1.4",
       "layout": "IPY_MODEL_058f256bb3cb4e4986c39ffb30f48f0e",
       "msg_throttle": 1
      }
     },
     "9e886e9c0ff54e0b8ff2ca972708e62c": {
      "model_module": "jupyter-js-widgets",
      "model_module_version": "~2.1.4",
      "model_name": "DatePickerModel",
      "state": {
       "_model_module_version": "~2.1.4",
       "_view_module_version": "~2.1.4",
       "description": "Date begin",
       "layout": "IPY_MODEL_634e0826b43e4d12a9b89fe6506ccfde",
       "value": {
        "date": 1,
        "hours": 0,
        "milliseconds": 0,
        "minutes": 0,
        "month": 0,
        "seconds": 0,
        "year": 2017
       }
      }
     },
     "9ec2655538044144965bb8ad3617846c": {
      "model_module": "jupyter-js-widgets",
      "model_module_version": "~2.1.4",
      "model_name": "TextareaModel",
      "state": {
       "_model_module_version": "~2.1.4",
       "_view_module_version": "~2.1.4",
       "description": "Url to query:",
       "layout": "IPY_MODEL_8885ef2c395b465d8b9e38ae844e7434",
       "value": "https://api.resourcewatch.org/v1/query/20cc5eca-8c63-4c41-8e8e-134dcf1e6d76?sql={0}"
      }
     },
     "9f0618eb73504758be6a3a9e20f989e2": {
      "model_module": "jupyter-js-widgets",
      "model_module_version": "~2.1.4",
      "model_name": "LayoutModel",
      "state": {
       "_model_module_version": "~2.1.4",
       "_view_module_version": "~2.1.4"
      }
     },
     "9f809386a47e441e840e3b7425586d8c": {
      "model_module": "jupyter-js-widgets",
      "model_module_version": "~2.1.4",
      "model_name": "LayoutModel",
      "state": {
       "_model_module_version": "~2.1.4",
       "_view_module_version": "~2.1.4"
      }
     },
     "9fe142d7db5e43f5aaeaa25e37f6550e": {
      "model_module": "jupyter-js-widgets",
      "model_module_version": "~2.1.4",
      "model_name": "LayoutModel",
      "state": {
       "_model_module_version": "~2.1.4",
       "_view_module_version": "~2.1.4"
      }
     },
     "a1fd1d97cc0d4336a056f6fd7d6ef6ce": {
      "model_module": "jupyter-js-widgets",
      "model_module_version": "~2.1.4",
      "model_name": "DatePickerModel",
      "state": {
       "_model_module_version": "~2.1.4",
       "_view_module_version": "~2.1.4",
       "description": "Date end",
       "layout": "IPY_MODEL_6323978cb05e4fb18f805a63a6111ba1",
       "value": {
        "date": 23,
        "hours": 17,
        "milliseconds": 143,
        "minutes": 54,
        "month": 9,
        "seconds": 35,
        "year": 2017
       }
      }
     },
     "a25b8c3b1aad42faa9bc8933995e2ffa": {
      "model_module": "jupyter-js-widgets",
      "model_module_version": "~2.1.4",
      "model_name": "LayoutModel",
      "state": {
       "_model_module_version": "~2.1.4",
       "_view_module_version": "~2.1.4"
      }
     },
     "a25e9c6f40644ed08d25391ef29e6021": {
      "model_module": "jupyter-js-widgets",
      "model_module_version": "~2.1.4",
      "model_name": "LayoutModel",
      "state": {
       "_model_module_version": "~2.1.4",
       "_view_module_version": "~2.1.4"
      }
     },
     "a26a768a47a54d308c67d500667a720a": {
      "model_module": "jupyter-js-widgets",
      "model_module_version": "~2.1.4",
      "model_name": "LayoutModel",
      "state": {
       "_model_module_version": "~2.1.4",
       "_view_module_version": "~2.1.4"
      }
     },
     "a270f6cec92446aa86540e414abadd50": {
      "model_module": "jupyter-js-widgets",
      "model_module_version": "~2.1.4",
      "model_name": "DropdownModel",
      "state": {
       "_model_module_version": "~2.1.4",
       "_options_labels": [
        "line",
        "bar"
       ],
       "_view_module_version": "~2.1.4",
       "description": "Widget type:",
       "layout": "IPY_MODEL_537b90070abe4c27942766eefca6dee8",
       "value": "bar"
      }
     },
     "a276cfc1b8374e3baee5ca319e1714c5": {
      "model_module": "jupyter-js-widgets",
      "model_module_version": "~2.1.4",
      "model_name": "LayoutModel",
      "state": {
       "_model_module_version": "~2.1.4",
       "_view_module_version": "~2.1.4"
      }
     },
     "a2c307eb22724ea7819c6e641552ab48": {
      "model_module": "jupyter-js-widgets",
      "model_module_version": "~2.1.4",
      "model_name": "DatePickerModel",
      "state": {
       "_model_module_version": "~2.1.4",
       "_view_module_version": "~2.1.4",
       "description": "Date end",
       "layout": "IPY_MODEL_8151a18faf69411f94c57f87edee23b2",
       "value": {
        "date": 23,
        "hours": 17,
        "milliseconds": 26,
        "minutes": 55,
        "month": 9,
        "seconds": 42,
        "year": 2017
       }
      }
     },
     "a2e8ec96ebe34fee90d3da2edeb7eb36": {
      "model_module": "jupyter-js-widgets",
      "model_module_version": "~2.1.4",
      "model_name": "DatePickerModel",
      "state": {
       "_model_module_version": "~2.1.4",
       "_view_module_version": "~2.1.4",
       "description": "Date begin",
       "layout": "IPY_MODEL_e36063d09689409caa617a035285b3e3",
       "value": {
        "date": 1,
        "hours": 0,
        "milliseconds": 0,
        "minutes": 0,
        "month": 0,
        "seconds": 0,
        "year": 2017
       }
      }
     },
     "a38fdcc1a4cc4f16b2c7df5381a77fc9": {
      "model_module": "jupyter-js-widgets",
      "model_module_version": "~2.1.4",
      "model_name": "LayoutModel",
      "state": {
       "_model_module_version": "~2.1.4",
       "_view_module_version": "~2.1.4"
      }
     },
     "a3e66469cba648258ef2418815e1a0b9": {
      "model_module": "jupyter-js-widgets",
      "model_module_version": "~2.1.4",
      "model_name": "DatePickerModel",
      "state": {
       "_model_module_version": "~2.1.4",
       "_view_module_version": "~2.1.4",
       "description": "Date begin",
       "layout": "IPY_MODEL_3a27a346b4784e6e8a1c41653650da15",
       "value": {
        "date": 18,
        "hours": 0,
        "milliseconds": 0,
        "minutes": 0,
        "month": 9,
        "seconds": 0,
        "year": 2017
       }
      }
     },
     "a3ebc9011fda4a829725a967968ae97d": {
      "model_module": "jupyter-js-widgets",
      "model_module_version": "~2.1.4",
      "model_name": "LayoutModel",
      "state": {
       "_model_module_version": "~2.1.4",
       "_view_module_version": "~2.1.4"
      }
     },
     "a42c6441a32a4704b9568a7a214fd3c6": {
      "model_module": "jupyter-js-widgets",
      "model_module_version": "~2.1.4",
      "model_name": "LayoutModel",
      "state": {
       "_model_module_version": "~2.1.4",
       "_view_module_version": "~2.1.4"
      }
     },
     "a4ead971be2e470697a24589d32eb19b": {
      "model_module": "jupyter-js-widgets",
      "model_module_version": "~2.1.4",
      "model_name": "LayoutModel",
      "state": {
       "_model_module_version": "~2.1.4",
       "_view_module_version": "~2.1.4"
      }
     },
     "a55a85fe61194dca99fc3e351446499e": {
      "model_module": "jupyter-js-widgets",
      "model_module_version": "~2.1.4",
      "model_name": "DropdownModel",
      "state": {
       "_model_module_version": "~2.1.4",
       "_options_labels": [
        "Afghanistan",
        "Brazil",
        "Custom area"
       ],
       "_view_module_version": "~2.1.4",
       "description": "geostore",
       "layout": "IPY_MODEL_163a1d9594e2461d8c0907d8be3d1701",
       "value": "Afghanistan"
      }
     },
     "a57306055af0494cb0c2506197d457a1": {
      "model_module": "jupyter-js-widgets",
      "model_module_version": "~2.1.4",
      "model_name": "LayoutModel",
      "state": {
       "_model_module_version": "~2.1.4",
       "_view_module_version": "~2.1.4"
      }
     },
     "a59ffc8389164407ba568c584b95f9cd": {
      "model_module": "jupyter-js-widgets",
      "model_module_version": "~2.1.4",
      "model_name": "LayoutModel",
      "state": {
       "_model_module_version": "~2.1.4",
       "_view_module_version": "~2.1.4"
      }
     },
     "a5abdff6f70f4e02ac23e9cd3e3e3525": {
      "model_module": "jupyter-js-widgets",
      "model_module_version": "~2.1.4",
      "model_name": "DatePickerModel",
      "state": {
       "_model_module_version": "~2.1.4",
       "_view_module_version": "~2.1.4",
       "description": "Date begin",
       "layout": "IPY_MODEL_47dab9ff673c4b6b86c8bfb57a17cd29",
       "value": {
        "date": 18,
        "hours": 0,
        "milliseconds": 0,
        "minutes": 0,
        "month": 9,
        "seconds": 0,
        "year": 2017
       }
      }
     },
     "a697f54bca634a998342a4f6678ddfeb": {
      "model_module": "jupyter-js-widgets",
      "model_module_version": "~2.1.4",
      "model_name": "DatePickerModel",
      "state": {
       "_model_module_version": "~2.1.4",
       "_view_module_version": "~2.1.4",
       "description": "Date end",
       "layout": "IPY_MODEL_edf6041f52c646dda471b3863af74939",
       "value": {
        "date": 24,
        "hours": 13,
        "milliseconds": 476,
        "minutes": 11,
        "month": 9,
        "seconds": 38,
        "year": 2017
       }
      }
     },
     "a71e8164c9354c72878f1997a24f750f": {
      "model_module": "jupyter-js-widgets",
      "model_module_version": "~2.1.4",
      "model_name": "LayoutModel",
      "state": {
       "_model_module_version": "~2.1.4",
       "_view_module_version": "~2.1.4"
      }
     },
     "a73e5b57b9464bc886158c2d49fbc8c0": {
      "model_module": "jupyter-js-widgets",
      "model_module_version": "~2.1.4",
      "model_name": "LayoutModel",
      "state": {
       "_model_module_version": "~2.1.4",
       "_view_module_version": "~2.1.4"
      }
     },
     "a775600dc60c4680ac95fe6ae4a42d8b": {
      "model_module": "jupyter-js-widgets",
      "model_module_version": "~2.1.4",
      "model_name": "LayoutModel",
      "state": {
       "_model_module_version": "~2.1.4",
       "_view_module_version": "~2.1.4"
      }
     },
     "a7bfa05dbad64beab122cd211f5ed21e": {
      "model_module": "jupyter-js-widgets",
      "model_module_version": "~2.1.4",
      "model_name": "DatePickerModel",
      "state": {
       "_model_module_version": "~2.1.4",
       "_view_module_version": "~2.1.4",
       "description": "Date begin",
       "layout": "IPY_MODEL_1e3ac02229ce42fa8a9a3b193ddbc2a9",
       "value": {
        "date": 1,
        "hours": 0,
        "milliseconds": 0,
        "minutes": 0,
        "month": 0,
        "seconds": 0,
        "year": 2017
       }
      }
     },
     "a7da19eb6511499297c84423ed0ffb25": {
      "model_module": "jupyter-js-widgets",
      "model_module_version": "~2.1.4",
      "model_name": "DropdownModel",
      "state": {
       "_model_module_version": "~2.1.4",
       "_options_labels": [
        "Afghanistan",
        "Brazil",
        "Custom area"
       ],
       "_view_module_version": "~2.1.4",
       "description": "geostore",
       "layout": "IPY_MODEL_93cf4d0805e14744b82557d5afcc17af",
       "value": "Afghanistan"
      }
     },
     "a80cd48cfa464429a8d1bfe33e8935dc": {
      "model_module": "jupyter-js-widgets",
      "model_module_version": "~2.1.4",
      "model_name": "DatePickerModel",
      "state": {
       "_model_module_version": "~2.1.4",
       "_view_module_version": "~2.1.4",
       "description": "Date begin",
       "layout": "IPY_MODEL_709655dfb58c4c568877d1401f9ec660",
       "value": {
        "date": 1,
        "hours": 0,
        "milliseconds": 0,
        "minutes": 0,
        "month": 0,
        "seconds": 0,
        "year": 2017
       }
      }
     },
     "a84dfbe1ba064c5687b5292f55c7537f": {
      "model_module": "jupyter-js-widgets",
      "model_module_version": "~2.1.4",
      "model_name": "DropdownModel",
      "state": {
       "_model_module_version": "~2.1.4",
       "_options_labels": [
        "Afghanistan",
        "Brazil",
        "Custom area"
       ],
       "_view_module_version": "~2.1.4",
       "description": "geostore",
       "layout": "IPY_MODEL_7f9d29d34a0e4433a1f62df1aec62e4b",
       "value": "Afghanistan"
      }
     },
     "a8588153f1c7459dbb0a45a60b5ab092": {
      "model_module": "jupyter-js-widgets",
      "model_module_version": "~2.1.4",
      "model_name": "TextareaModel",
      "state": {
       "_model_module_version": "~2.1.4",
       "_view_module_version": "~2.1.4",
       "description": "Query:",
       "layout": "IPY_MODEL_22603e9e8ef84c15aacb3d4ba0b0bd15",
       "value": "SELECT acq_date as x, count(acq_date) as y FROM vnp14imgtdl_nrt_global_7d WHERE acq_date >='{date_begin}' and acq_date < '{date_end}' group by acq_date order by acq_date asc"
      }
     },
     "a951734e1439413db8588cf662c75267": {
      "model_module": "jupyter-js-widgets",
      "model_module_version": "~2.1.4",
      "model_name": "LayoutModel",
      "state": {
       "_model_module_version": "~2.1.4",
       "_view_module_version": "~2.1.4"
      }
     },
     "a99115293ba54a88bc1e22b8b05a4aad": {
      "model_module": "jupyter-js-widgets",
      "model_module_version": "~2.1.4",
      "model_name": "DatePickerModel",
      "state": {
       "_model_module_version": "~2.1.4",
       "_view_module_version": "~2.1.4",
       "description": "Date begin",
       "layout": "IPY_MODEL_091ed6bf534741399f6b57934e4cd7a7",
       "value": {
        "date": 18,
        "hours": 0,
        "milliseconds": 0,
        "minutes": 0,
        "month": 9,
        "seconds": 0,
        "year": 2017
       }
      }
     },
     "a9b1843e0b144f1491c237e109e05aab": {
      "model_module": "jupyter-js-widgets",
      "model_module_version": "~2.1.4",
      "model_name": "LayoutModel",
      "state": {
       "_model_module_version": "~2.1.4",
       "_view_module_version": "~2.1.4"
      }
     },
     "a9d2767661c44926ba07adbcb2d20d36": {
      "model_module": "jupyter-js-widgets",
      "model_module_version": "~2.1.4",
      "model_name": "LayoutModel",
      "state": {
       "_model_module_version": "~2.1.4",
       "_view_module_version": "~2.1.4"
      }
     },
     "aac107bdffff48e6bf9382dc47e7fbd5": {
      "model_module": "jupyter-js-widgets",
      "model_module_version": "~2.1.4",
      "model_name": "OutputModel",
      "state": {
       "_dom_classes": [],
       "_model_module": "jupyter-js-widgets",
       "_model_module_version": "~2.1.4",
       "_view_module": "jupyter-js-widgets",
       "_view_module_version": "~2.1.4",
       "layout": "IPY_MODEL_187201959ce64a388c542f6c5277b916",
       "msg_throttle": 1
      }
     },
     "aace1c00c3de4681bd9c8230e3b2aee0": {
      "model_module": "jupyter-js-widgets",
      "model_module_version": "~2.1.4",
      "model_name": "DatePickerModel",
      "state": {
       "_model_module_version": "~2.1.4",
       "_view_module_version": "~2.1.4",
       "description": "Date end",
       "layout": "IPY_MODEL_17a6e23df91c460aa296f6fb7c23e9a5",
       "value": {
        "date": 24,
        "hours": 13,
        "milliseconds": 874,
        "minutes": 27,
        "month": 9,
        "seconds": 31,
        "year": 2017
       }
      }
     },
     "abb151576fd744b98d45b11ca263c56f": {
      "model_module": "jupyter-js-widgets",
      "model_module_version": "~2.1.4",
      "model_name": "VBoxModel",
      "state": {
       "_dom_classes": [
        "widget-interact"
       ],
       "_model_module_version": "~2.1.4",
       "_view_module_version": "~2.1.4",
       "children": [
        "IPY_MODEL_e802f1565a474c4e8fb5842dd944d67c",
        "IPY_MODEL_25328a3f86e0493b9738a768f5b3daf3",
        "IPY_MODEL_d1a3a182584247eca3556da8a770eab8",
        "IPY_MODEL_116d598749294d37bc3e495534114988",
        "IPY_MODEL_08caa8eb3af344bb8aa6ed9a59b9e496"
       ],
       "layout": "IPY_MODEL_812a39926b5543e28687a7628e7064b5"
      }
     },
     "abb9f09859e84574b0a85ef5f5cac926": {
      "model_module": "jupyter-js-widgets",
      "model_module_version": "~2.1.4",
      "model_name": "LayoutModel",
      "state": {
       "_model_module_version": "~2.1.4",
       "_view_module_version": "~2.1.4"
      }
     },
     "ac150d59a03c4940ae345bef4c6b74e1": {
      "model_module": "jupyter-js-widgets",
      "model_module_version": "~2.1.4",
      "model_name": "LayoutModel",
      "state": {
       "_model_module_version": "~2.1.4",
       "_view_module_version": "~2.1.4"
      }
     },
     "ac6188adf0074c86aa0d6a62371ecd97": {
      "model_module": "jupyter-js-widgets",
      "model_module_version": "~2.1.4",
      "model_name": "LayoutModel",
      "state": {
       "_model_module_version": "~2.1.4",
       "_view_module_version": "~2.1.4"
      }
     },
     "ac64222e57624970914fcdbb625c9e2d": {
      "model_module": "jupyter-js-widgets",
      "model_module_version": "~2.1.4",
      "model_name": "DatePickerModel",
      "state": {
       "_model_module_version": "~2.1.4",
       "_view_module_version": "~2.1.4",
       "description": "Date end",
       "layout": "IPY_MODEL_689557d867464bbe8bc511c13cbb1d42",
       "value": {
        "date": 23,
        "hours": 17,
        "milliseconds": 457,
        "minutes": 50,
        "month": 9,
        "seconds": 50,
        "year": 2017
       }
      }
     },
     "ac9ec659bbaf4505bccfab87af926822": {
      "model_module": "jupyter-js-widgets",
      "model_module_version": "~2.1.4",
      "model_name": "LayoutModel",
      "state": {
       "_model_module_version": "~2.1.4",
       "_view_module_version": "~2.1.4"
      }
     },
     "ace3483707f445898523c10f865a82ec": {
      "model_module": "jupyter-js-widgets",
      "model_module_version": "~2.1.4",
      "model_name": "LayoutModel",
      "state": {
       "_model_module_version": "~2.1.4",
       "_view_module_version": "~2.1.4"
      }
     },
     "ad47712663de4c0e8a56d1b740d4cbbe": {
      "model_module": "jupyter-js-widgets",
      "model_module_version": "~2.1.4",
      "model_name": "DatePickerModel",
      "state": {
       "_model_module_version": "~2.1.4",
       "_view_module_version": "~2.1.4",
       "description": "Date begin",
       "layout": "IPY_MODEL_f667bf8e363b446e87c1b5ad4c95092f",
       "value": {
        "date": 18,
        "hours": 0,
        "milliseconds": 0,
        "minutes": 0,
        "month": 9,
        "seconds": 0,
        "year": 2017
       }
      }
     },
     "adbb9c5e12424f248983f133df9f7cad": {
      "model_module": "jupyter-js-widgets",
      "model_module_version": "~2.1.4",
      "model_name": "DropdownModel",
      "state": {
       "_model_module_version": "~2.1.4",
       "_options_labels": [
        "line"
       ],
       "_view_module_version": "~2.1.4",
       "description": "widget",
       "layout": "IPY_MODEL_01d2fcdc9c5e46489e0620d759b4336f",
       "value": "line"
      }
     },
     "aed1e9e598fd4286906242bfa774114d": {
      "model_module": "jupyter-js-widgets",
      "model_module_version": "~2.1.4",
      "model_name": "LayoutModel",
      "state": {
       "_model_module_version": "~2.1.4",
       "_view_module_version": "~2.1.4"
      }
     },
     "aee77664aebb4ca5ad44c9b7dc1283d4": {
      "model_module": "jupyter-js-widgets",
      "model_module_version": "~2.1.4",
      "model_name": "OutputModel",
      "state": {
       "_dom_classes": [],
       "_model_module": "jupyter-js-widgets",
       "_model_module_version": "~2.1.4",
       "_view_module": "jupyter-js-widgets",
       "_view_module_version": "~2.1.4",
       "layout": "IPY_MODEL_aed1e9e598fd4286906242bfa774114d",
       "msg_throttle": 1
      }
     },
     "af32b956bdc847489ffcb7c2a72dd85e": {
      "model_module": "jupyter-js-widgets",
      "model_module_version": "~2.1.4",
      "model_name": "LayoutModel",
      "state": {
       "_model_module_version": "~2.1.4",
       "_view_module_version": "~2.1.4"
      }
     },
     "af84a5f99afd4e7796c782caf280f6f7": {
      "model_module": "jupyter-js-widgets",
      "model_module_version": "~2.1.4",
      "model_name": "DatePickerModel",
      "state": {
       "_model_module_version": "~2.1.4",
       "_view_module_version": "~2.1.4",
       "description": "Date begin",
       "layout": "IPY_MODEL_4d9de54ae2c34cb783f537f1590f6c9c",
       "value": {
        "date": 18,
        "hours": 0,
        "milliseconds": 0,
        "minutes": 0,
        "month": 9,
        "seconds": 0,
        "year": 2017
       }
      }
     },
     "af84de9bcba24ba9aaa7791ffe3244c3": {
      "model_module": "jupyter-js-widgets",
      "model_module_version": "~2.1.4",
      "model_name": "LayoutModel",
      "state": {
       "_model_module_version": "~2.1.4",
       "_view_module_version": "~2.1.4"
      }
     },
     "b012c6ca4fd04df796e60da780e5c507": {
      "model_module": "jupyter-js-widgets",
      "model_module_version": "~2.1.4",
      "model_name": "DropdownModel",
      "state": {
       "_model_module_version": "~2.1.4",
       "_options_labels": [
        "Afghanistan",
        "Brazil",
        "Custom area"
       ],
       "_view_module_version": "~2.1.4",
       "description": "geostore",
       "layout": "IPY_MODEL_ef98eb6ed5ba4f18b0158a5899237024",
       "value": "Afghanistan"
      }
     },
     "b1142463418d4fa08c73f750e8e52bb5": {
      "model_module": "jupyter-js-widgets",
      "model_module_version": "~2.1.4",
      "model_name": "DatePickerModel",
      "state": {
       "_model_module_version": "~2.1.4",
       "_view_module_version": "~2.1.4",
       "description": "Date end",
       "layout": "IPY_MODEL_c67b49867eff490ab06b48ca19cde860",
       "value": {
        "date": 23,
        "hours": 17,
        "milliseconds": 869,
        "minutes": 58,
        "month": 9,
        "seconds": 24,
        "year": 2017
       }
      }
     },
     "b1dae97b22c24b7b86a25278fae1b5e7": {
      "model_module": "jupyter-js-widgets",
      "model_module_version": "~2.1.4",
      "model_name": "DropdownModel",
      "state": {
       "_model_module_version": "~2.1.4",
       "_options_labels": [
        "line"
       ],
       "_view_module_version": "~2.1.4",
       "description": "widget",
       "layout": "IPY_MODEL_92a9b2460a0b409f9cf608f6e8fb5b21",
       "value": "line"
      }
     },
     "b1ee494abbe74bbda01505b8f7ad7c3e": {
      "model_module": "jupyter-js-widgets",
      "model_module_version": "~2.1.4",
      "model_name": "DropdownModel",
      "state": {
       "_model_module_version": "~2.1.4",
       "_options_labels": [
        "Afghanistan",
        "Brazil",
        "Custom area"
       ],
       "_view_module_version": "~2.1.4",
       "description": "geostore",
       "layout": "IPY_MODEL_ee5ad468cc60479a8fe2eaa2eadcf230",
       "value": "Afghanistan"
      }
     },
     "b1f0d9e17d5241498d0af20469816711": {
      "model_module": "jupyter-js-widgets",
      "model_module_version": "~2.1.4",
      "model_name": "LayoutModel",
      "state": {
       "_model_module_version": "~2.1.4",
       "_view_module_version": "~2.1.4"
      }
     },
     "b212dada02444aefa392a5ff2283c437": {
      "model_module": "jupyter-js-widgets",
      "model_module_version": "~2.1.4",
      "model_name": "DropdownModel",
      "state": {
       "_model_module_version": "~2.1.4",
       "_options_labels": [
        "Afghanistan",
        "Brazil",
        "Custom area"
       ],
       "_view_module_version": "~2.1.4",
       "description": "geostore",
       "layout": "IPY_MODEL_df3038ab945d47248edbb52121353ceb",
       "value": "Afghanistan"
      }
     },
     "b25275e1d1e049d98292e7888ff40edb": {
      "model_module": "jupyter-js-widgets",
      "model_module_version": "~2.1.4",
      "model_name": "LayoutModel",
      "state": {
       "_model_module_version": "~2.1.4",
       "_view_module_version": "~2.1.4"
      }
     },
     "b2a96812714d480d8eb213d56a94c1df": {
      "model_module": "jupyter-js-widgets",
      "model_module_version": "~2.1.4",
      "model_name": "LayoutModel",
      "state": {
       "_model_module_version": "~2.1.4",
       "_view_module_version": "~2.1.4"
      }
     },
     "b30fbe091bdc4b38934860d48984eb3c": {
      "model_module": "jupyter-js-widgets",
      "model_module_version": "~2.1.4",
      "model_name": "LayoutModel",
      "state": {
       "_model_module_version": "~2.1.4",
       "_view_module_version": "~2.1.4"
      }
     },
     "b439bcaa17dc447793fcff79b98dbecb": {
      "model_module": "jupyter-js-widgets",
      "model_module_version": "~2.1.4",
      "model_name": "LayoutModel",
      "state": {
       "_model_module_version": "~2.1.4",
       "_view_module_version": "~2.1.4"
      }
     },
     "b44b90d2c4cc4bf28d82616e99dfce7d": {
      "model_module": "jupyter-js-widgets",
      "model_module_version": "~2.1.4",
      "model_name": "LayoutModel",
      "state": {
       "_model_module_version": "~2.1.4",
       "_view_module_version": "~2.1.4"
      }
     },
     "b4eee5f311d1430592b152eac8b51b33": {
      "model_module": "jupyter-js-widgets",
      "model_module_version": "~2.1.4",
      "model_name": "LayoutModel",
      "state": {
       "_model_module_version": "~2.1.4",
       "_view_module_version": "~2.1.4"
      }
     },
     "b517b08b3ddd46ecade4e0d564cef5af": {
      "model_module": "jupyter-js-widgets",
      "model_module_version": "~2.1.4",
      "model_name": "OutputModel",
      "state": {
       "_dom_classes": [],
       "_model_module": "jupyter-js-widgets",
       "_model_module_version": "~2.1.4",
       "_view_module": "jupyter-js-widgets",
       "_view_module_version": "~2.1.4",
       "layout": "IPY_MODEL_167f87d4c93b4fe6b4f742ffdee5de82",
       "msg_throttle": 1
      }
     },
     "b53b3fe9ffee45ea895c80678461bfeb": {
      "model_module": "jupyter-js-widgets",
      "model_module_version": "~2.1.4",
      "model_name": "DropdownModel",
      "state": {
       "_model_module_version": "~2.1.4",
       "_options_labels": [
        "line"
       ],
       "_view_module_version": "~2.1.4",
       "description": "widget",
       "layout": "IPY_MODEL_d9bfaac374a54fa1a309050e859e5b60",
       "value": "line"
      }
     },
     "b545761b7d174482b300a8d63e67df71": {
      "model_module": "jupyter-js-widgets",
      "model_module_version": "~2.1.4",
      "model_name": "DatePickerModel",
      "state": {
       "_model_module_version": "~2.1.4",
       "_view_module_version": "~2.1.4",
       "description": "Date begin",
       "layout": "IPY_MODEL_cdd9e369d2334fcf8523d689f8b8b58d",
       "value": {
        "date": 18,
        "hours": 0,
        "milliseconds": 0,
        "minutes": 0,
        "month": 9,
        "seconds": 0,
        "year": 2017
       }
      }
     },
     "b5571cd96b3c4557b5b61afb37797cca": {
      "model_module": "jupyter-js-widgets",
      "model_module_version": "~2.1.4",
      "model_name": "LayoutModel",
      "state": {
       "_model_module_version": "~2.1.4",
       "_view_module_version": "~2.1.4"
      }
     },
     "b6383b9a6e764ed28982ea88d59a07b4": {
      "model_module": "jupyter-js-widgets",
      "model_module_version": "~2.1.4",
      "model_name": "TextareaModel",
      "state": {
       "_model_module_version": "~2.1.4",
       "_view_module_version": "~2.1.4",
       "description": "Url to query:",
       "layout": "IPY_MODEL_8f9fd479a51240a68b74833b55451484",
       "value": "https://api.resourcewatch.org/v1/query/20cc5eca-8c63-4c41-8e8e-134dcf1e6d76?sql={0}"
      }
     },
     "b695735920604f319025f4e3cab0ac7c": {
      "model_module": "jupyter-js-widgets",
      "model_module_version": "~2.1.4",
      "model_name": "DropdownModel",
      "state": {
       "_model_module_version": "~2.1.4",
       "_options_labels": [
        "Afghanistan",
        "Brazil",
        "Custom area"
       ],
       "_view_module_version": "~2.1.4",
       "description": "geostore",
       "layout": "IPY_MODEL_51d530b3f48e4e73b825bcfe04b64675",
       "value": "Afghanistan"
      }
     },
     "b6a4a33afebd4b86876e2ee0d9a64041": {
      "model_module": "jupyter-js-widgets",
      "model_module_version": "~2.1.4",
      "model_name": "LayoutModel",
      "state": {
       "_model_module_version": "~2.1.4",
       "_view_module_version": "~2.1.4"
      }
     },
     "b6abe25eb762423095f11a0595640e62": {
      "model_module": "jupyter-js-widgets",
      "model_module_version": "~2.1.4",
      "model_name": "TextareaModel",
      "state": {
       "_model_module_version": "~2.1.4",
       "_view_module_version": "~2.1.4",
       "description": "Query:",
       "layout": "IPY_MODEL_3f856f2d47ae47f692bc3a079440fb97",
       "value": "SELECT acq_date as x, count(acq_date) as y FROM vnp14imgtdl_nrt_global_7d WHERE acq_date >='{date_begin}' and acq_date < '{date_end}' group by acq_date order by acq_date asc"
      }
     },
     "b6d66ba3674b40eab3d407a4bafb59a2": {
      "model_module": "jupyter-js-widgets",
      "model_module_version": "~2.1.4",
      "model_name": "OutputModel",
      "state": {
       "_dom_classes": [],
       "_model_module": "jupyter-js-widgets",
       "_model_module_version": "~2.1.4",
       "_view_module": "jupyter-js-widgets",
       "_view_module_version": "~2.1.4",
       "layout": "IPY_MODEL_748e03bf05b146d285584214494509f5",
       "msg_throttle": 1
      }
     },
     "b6ddf937fcc24f31aa04e144c6017b7c": {
      "model_module": "jupyter-js-widgets",
      "model_module_version": "~2.1.4",
      "model_name": "VBoxModel",
      "state": {
       "_dom_classes": [
        "widget-interact"
       ],
       "_model_module_version": "~2.1.4",
       "_view_module_version": "~2.1.4",
       "children": [
        "IPY_MODEL_403c54275c6a4f26b4dc98364e5b7979",
        "IPY_MODEL_ee2ca140be54481d95bd1c276e0ab81c",
        "IPY_MODEL_c39705d27f8c4c5e8ee48bab5e13917b",
        "IPY_MODEL_48feea127b3644d2b0323223001bac07",
        "IPY_MODEL_5ca25e14d5184387a8597a3d5e73c49e"
       ],
       "layout": "IPY_MODEL_dbd851c7e5334fa2b4483ba3dcbf601a"
      }
     },
     "b6e3ccb45ea84c28afad2d35b56fa4f8": {
      "model_module": "jupyter-js-widgets",
      "model_module_version": "~2.1.4",
      "model_name": "LayoutModel",
      "state": {
       "_model_module_version": "~2.1.4",
       "_view_module_version": "~2.1.4"
      }
     },
     "b7016fc1f2614dbfa4ce9c76d523414d": {
      "model_module": "jupyter-js-widgets",
      "model_module_version": "~2.1.4",
      "model_name": "LayoutModel",
      "state": {
       "_model_module_version": "~2.1.4",
       "_view_module_version": "~2.1.4"
      }
     },
     "b7e99c483baa4039bd9dc501a559f34a": {
      "model_module": "jupyter-js-widgets",
      "model_module_version": "~2.1.4",
      "model_name": "DropdownModel",
      "state": {
       "_model_module_version": "~2.1.4",
       "_options_labels": [
        "line"
       ],
       "_view_module_version": "~2.1.4",
       "description": "widget",
       "layout": "IPY_MODEL_1153d2756d0e4db7bafcf70dee687c96",
       "value": "line"
      }
     },
     "b8e3273813e541f7bde34d071d76038c": {
      "model_module": "jupyter-js-widgets",
      "model_module_version": "~2.1.4",
      "model_name": "LayoutModel",
      "state": {
       "_model_module_version": "~2.1.4",
       "_view_module_version": "~2.1.4"
      }
     },
     "b99570e7bbec4f50ace11bf5df20f43f": {
      "model_module": "jupyter-js-widgets",
      "model_module_version": "~2.1.4",
      "model_name": "DropdownModel",
      "state": {
       "_model_module_version": "~2.1.4",
       "_options_labels": [
        "Afghanistan",
        "Brazil",
        "Custom area"
       ],
       "_view_module_version": "~2.1.4",
       "description": "geostore",
       "layout": "IPY_MODEL_a38fdcc1a4cc4f16b2c7df5381a77fc9",
       "value": "Afghanistan"
      }
     },
     "b9a2c707e8ac4aec81c761c6fe27a526": {
      "model_module": "jupyter-js-widgets",
      "model_module_version": "~2.1.4",
      "model_name": "DropdownModel",
      "state": {
       "_model_module_version": "~2.1.4",
       "_options_labels": [
        "Afghanistan",
        "Brazil",
        "Custom area"
       ],
       "_view_module_version": "~2.1.4",
       "description": "geostore",
       "layout": "IPY_MODEL_dc26e3bf6a7e4c11b73d07305b09f16e",
       "value": "Afghanistan"
      }
     },
     "ba2fbc28c8de4f0e9bdc79045c6a4a77": {
      "model_module": "jupyter-js-widgets",
      "model_module_version": "~2.1.4",
      "model_name": "DatePickerModel",
      "state": {
       "_model_module_version": "~2.1.4",
       "_view_module_version": "~2.1.4",
       "description": "Date begin",
       "layout": "IPY_MODEL_7c6310d1e80c4e7eb0f84251b83b94e3",
       "value": {
        "date": 1,
        "hours": 0,
        "milliseconds": 0,
        "minutes": 0,
        "month": 0,
        "seconds": 0,
        "year": 2017
       }
      }
     },
     "ba82cff1f5764c17af29a1e030cfcc71": {
      "model_module": "jupyter-js-widgets",
      "model_module_version": "~2.1.4",
      "model_name": "DatePickerModel",
      "state": {
       "_model_module_version": "~2.1.4",
       "_view_module_version": "~2.1.4",
       "description": "Date end",
       "layout": "IPY_MODEL_a42c6441a32a4704b9568a7a214fd3c6",
       "value": {
        "date": 23,
        "hours": 17,
        "milliseconds": 802,
        "minutes": 57,
        "month": 9,
        "seconds": 51,
        "year": 2017
       }
      }
     },
     "bacb754666b340a79574bdacd9a3d93a": {
      "model_module": "jupyter-js-widgets",
      "model_module_version": "~2.1.4",
      "model_name": "LayoutModel",
      "state": {
       "_model_module_version": "~2.1.4",
       "_view_module_version": "~2.1.4"
      }
     },
     "bb04b88ad9804388bed1203a0964eda6": {
      "model_module": "jupyter-js-widgets",
      "model_module_version": "~2.1.4",
      "model_name": "DropdownModel",
      "state": {
       "_model_module_version": "~2.1.4",
       "_options_labels": [
        "Afghanistan",
        "Brazil",
        "Custom area"
       ],
       "_view_module_version": "~2.1.4",
       "description": "geostore",
       "layout": "IPY_MODEL_25fe2b717ad342848ba09c24fab18b01",
       "value": "Afghanistan"
      }
     },
     "bbe36276b9bc49c4a7ba494ebd6cf524": {
      "model_module": "jupyter-js-widgets",
      "model_module_version": "~2.1.4",
      "model_name": "DropdownModel",
      "state": {
       "_model_module_version": "~2.1.4",
       "_options_labels": [
        "line"
       ],
       "_view_module_version": "~2.1.4",
       "description": "widget",
       "layout": "IPY_MODEL_848ea3c185ca4e16854fcf88f0501e20",
       "value": "line"
      }
     },
     "bc34bf629fea418bb198f4815bc99bd8": {
      "model_module": "jupyter-js-widgets",
      "model_module_version": "~2.1.4",
      "model_name": "OutputModel",
      "state": {
       "_dom_classes": [],
       "_model_module": "jupyter-js-widgets",
       "_model_module_version": "~2.1.4",
       "_view_module": "jupyter-js-widgets",
       "_view_module_version": "~2.1.4",
       "layout": "IPY_MODEL_22633f2c4e9642b4b929dd05ea13a574",
       "msg_throttle": 1
      }
     },
     "bc64c224076a485a88f2b57c6fef7931": {
      "model_module": "jupyter-js-widgets",
      "model_module_version": "~2.1.4",
      "model_name": "DatePickerModel",
      "state": {
       "_model_module_version": "~2.1.4",
       "_view_module_version": "~2.1.4",
       "description": "Date begin",
       "layout": "IPY_MODEL_7c6b23680fbd4bc9a6a810929a64c40e",
       "value": {
        "date": 18,
        "hours": 0,
        "milliseconds": 0,
        "minutes": 0,
        "month": 9,
        "seconds": 0,
        "year": 2017
       }
      }
     },
     "bc78eb0d5d484be8a40ba69e0ddfd206": {
      "model_module": "jupyter-js-widgets",
      "model_module_version": "~2.1.4",
      "model_name": "LayoutModel",
      "state": {
       "_model_module_version": "~2.1.4",
       "_view_module_version": "~2.1.4",
       "align_items": "stretch",
       "display": "flex",
       "flex_flow": "row",
       "width": "100%"
      }
     },
     "bdc7fe923ec642199634ee56a040fad2": {
      "model_module": "jupyter-js-widgets",
      "model_module_version": "~2.1.4",
      "model_name": "OutputModel",
      "state": {
       "_dom_classes": [],
       "_model_module": "jupyter-js-widgets",
       "_model_module_version": "~2.1.4",
       "_view_module": "jupyter-js-widgets",
       "_view_module_version": "~2.1.4",
       "layout": "IPY_MODEL_74545677eccc41d1b6503584941e88f0",
       "msg_throttle": 1
      }
     },
     "bdd81aa772934d478c77e36984e6d1f2": {
      "model_module": "jupyter-js-widgets",
      "model_module_version": "~2.1.4",
      "model_name": "DropdownModel",
      "state": {
       "_model_module_version": "~2.1.4",
       "_options_labels": [
        "line"
       ],
       "_view_module_version": "~2.1.4",
       "description": "widget",
       "layout": "IPY_MODEL_da0e384f28b548bdae858517e48ae8c3",
       "value": "line"
      }
     },
     "bddef48c42de4bd3954e03ac196e3d7b": {
      "model_module": "jupyter-js-widgets",
      "model_module_version": "~2.1.4",
      "model_name": "LayoutModel",
      "state": {
       "_model_module_version": "~2.1.4",
       "_view_module_version": "~2.1.4"
      }
     },
     "bdf2949b9cfd402a8419ac4e649ee088": {
      "model_module": "jupyter-js-widgets",
      "model_module_version": "~2.1.4",
      "model_name": "LayoutModel",
      "state": {
       "_model_module_version": "~2.1.4",
       "_view_module_version": "~2.1.4"
      }
     },
     "be3355661103425a9795806bfd96fbb8": {
      "model_module": "jupyter-js-widgets",
      "model_module_version": "~2.1.4",
      "model_name": "DatePickerModel",
      "state": {
       "_model_module_version": "~2.1.4",
       "_view_module_version": "~2.1.4",
       "description": "Date begin",
       "layout": "IPY_MODEL_ec9763f225ad40979ba8cbe029a8ba23",
       "value": {
        "date": 1,
        "hours": 0,
        "milliseconds": 0,
        "minutes": 0,
        "month": 0,
        "seconds": 0,
        "year": 2017
       }
      }
     },
     "be4e101e9f134dcdacb5e4aada08f7e2": {
      "model_module": "jupyter-js-widgets",
      "model_module_version": "~2.1.4",
      "model_name": "VBoxModel",
      "state": {
       "_dom_classes": [
        "widget-interact"
       ],
       "_model_module_version": "~2.1.4",
       "_view_module_version": "~2.1.4",
       "children": [
        "IPY_MODEL_edbc5fe3a4fa4d4488aeebdf046472aa",
        "IPY_MODEL_9ec2655538044144965bb8ad3617846c",
        "IPY_MODEL_c53090bacff84df2b596c8db1134b834",
        "IPY_MODEL_2486627b899e4ef888c16fd108035164",
        "IPY_MODEL_9adf40c6ff134ca9b26eb1f17e7a5672",
        "IPY_MODEL_46d43177514a4a1d83605fed48326366",
        "IPY_MODEL_aac107bdffff48e6bf9382dc47e7fbd5"
       ],
       "layout": "IPY_MODEL_00f09a4701874468813819cc0c32af83"
      }
     },
     "be6617efc6fb402584833d51286bf518": {
      "model_module": "jupyter-js-widgets",
      "model_module_version": "~2.1.4",
      "model_name": "TextareaModel",
      "state": {
       "_model_module_version": "~2.1.4",
       "_view_module_version": "~2.1.4",
       "description": "Url to query:",
       "layout": "IPY_MODEL_ea0ce65da4f049fe87db9e7a0ca98ac6",
       "value": "https://api.resourcewatch.org/v1/query/20cc5eca-8c63-4c41-8e8e-134dcf1e6d76?sql={0}"
      }
     },
     "be6f31d4793d407392624713465a39b7": {
      "model_module": "jupyter-js-widgets",
      "model_module_version": "~2.1.4",
      "model_name": "LayoutModel",
      "state": {
       "_model_module_version": "~2.1.4",
       "_view_module_version": "~2.1.4"
      }
     },
     "be8a1324df284733a08010565fb90664": {
      "model_module": "jupyter-js-widgets",
      "model_module_version": "~2.1.4",
      "model_name": "DropdownModel",
      "state": {
       "_model_module_version": "~2.1.4",
       "_options_labels": [
        "line"
       ],
       "_view_module_version": "~2.1.4",
       "description": "widget",
       "layout": "IPY_MODEL_5b7a1bd1bfb9452dae589a7cbfb5a519",
       "value": "line"
      }
     },
     "bea26984acec46edaaf2596f225bd3b7": {
      "model_module": "jupyter-js-widgets",
      "model_module_version": "~2.1.4",
      "model_name": "LayoutModel",
      "state": {
       "_model_module_version": "~2.1.4",
       "_view_module_version": "~2.1.4"
      }
     },
     "beaa04035a584259ab845552b77f095e": {
      "model_module": "jupyter-js-widgets",
      "model_module_version": "~2.1.4",
      "model_name": "OutputModel",
      "state": {
       "_dom_classes": [],
       "_model_module": "jupyter-js-widgets",
       "_model_module_version": "~2.1.4",
       "_view_module": "jupyter-js-widgets",
       "_view_module_version": "~2.1.4",
       "layout": "IPY_MODEL_29befd4e1a4548e8817999e5733f78ed",
       "msg_throttle": 1
      }
     },
     "beec320a0f4d4ae3893ffc8da0d7c4da": {
      "model_module": "jupyter-js-widgets",
      "model_module_version": "~2.1.4",
      "model_name": "LayoutModel",
      "state": {
       "_model_module_version": "~2.1.4",
       "_view_module_version": "~2.1.4"
      }
     },
     "bf18a9004cc1401494bae94971998465": {
      "model_module": "jupyter-js-widgets",
      "model_module_version": "~2.1.4",
      "model_name": "LayoutModel",
      "state": {
       "_model_module_version": "~2.1.4",
       "_view_module_version": "~2.1.4"
      }
     },
     "bf7c1fc5b31748538d56ab779eab5a00": {
      "model_module": "jupyter-js-widgets",
      "model_module_version": "~2.1.4",
      "model_name": "LayoutModel",
      "state": {
       "_model_module_version": "~2.1.4",
       "_view_module_version": "~2.1.4"
      }
     },
     "bfe2f246dbff418cb9290e9303f09dd9": {
      "model_module": "jupyter-js-widgets",
      "model_module_version": "~2.1.4",
      "model_name": "OutputModel",
      "state": {
       "_dom_classes": [],
       "_model_module": "jupyter-js-widgets",
       "_model_module_version": "~2.1.4",
       "_view_module": "jupyter-js-widgets",
       "_view_module_version": "~2.1.4",
       "layout": "IPY_MODEL_4f37d6437c6f421cb4613f237a4d772f",
       "msg_throttle": 1
      }
     },
     "c01cf58e42814d739a878a6241907600": {
      "model_module": "jupyter-js-widgets",
      "model_module_version": "~2.1.4",
      "model_name": "VBoxModel",
      "state": {
       "_dom_classes": [
        "widget-interact"
       ],
       "_model_module_version": "~2.1.4",
       "_view_module_version": "~2.1.4",
       "children": [
        "IPY_MODEL_4fedffa01d224da6abf4909d6ffc299c",
        "IPY_MODEL_9368d9267d1e4dbba62e5fe59cc3f8ca",
        "IPY_MODEL_a2c307eb22724ea7819c6e641552ab48",
        "IPY_MODEL_2a7f7280feda489f9b1ed0392d643c38",
        "IPY_MODEL_7b2817da84cd4a0984d161718925ad5c"
       ],
       "layout": "IPY_MODEL_d7218feab04c4005a6eaa5794212902d"
      }
     },
     "c04b5bede51049bcb40de916effe3e4c": {
      "model_module": "jupyter-js-widgets",
      "model_module_version": "~2.1.4",
      "model_name": "LayoutModel",
      "state": {
       "_model_module_version": "~2.1.4",
       "_view_module_version": "~2.1.4"
      }
     },
     "c0bfc12497174f718af4cbe015deddb0": {
      "model_module": "jupyter-js-widgets",
      "model_module_version": "~2.1.4",
      "model_name": "DropdownModel",
      "state": {
       "_model_module_version": "~2.1.4",
       "_options_labels": [
        "line"
       ],
       "_view_module_version": "~2.1.4",
       "description": "widget",
       "layout": "IPY_MODEL_344aadcbca3a4c81968ec0345429b86e",
       "value": "line"
      }
     },
     "c0c4f58f8fb24ecdae830ebfc6a1e371": {
      "model_module": "jupyter-js-widgets",
      "model_module_version": "~2.1.4",
      "model_name": "VBoxModel",
      "state": {
       "_dom_classes": [
        "widget-interact"
       ],
       "_model_module_version": "~2.1.4",
       "_view_module_version": "~2.1.4",
       "children": [
        "IPY_MODEL_f42dfc6bd5d04895bcc9c4925f0a0cf9",
        "IPY_MODEL_c5a1cd20bafa4ee49cb4804724e2b53f",
        "IPY_MODEL_664b46a7042c46e2ac9c036e86c592af",
        "IPY_MODEL_a55a85fe61194dca99fc3e351446499e",
        "IPY_MODEL_bfe2f246dbff418cb9290e9303f09dd9"
       ],
       "layout": "IPY_MODEL_b7016fc1f2614dbfa4ce9c76d523414d"
      }
     },
     "c0dd2992b2b84a07a0a0586c44f623cf": {
      "model_module": "jupyter-js-widgets",
      "model_module_version": "~2.1.4",
      "model_name": "DatePickerModel",
      "state": {
       "_model_module_version": "~2.1.4",
       "_view_module_version": "~2.1.4",
       "description": "Date begin",
       "layout": "IPY_MODEL_1d6cf75988aa42aca43747a296e25fb9",
       "value": {
        "date": 1,
        "hours": 0,
        "milliseconds": 0,
        "minutes": 0,
        "month": 0,
        "seconds": 0,
        "year": 2017
       }
      }
     },
     "c1795e1b07004b28b8d3c58393072185": {
      "model_module": "jupyter-js-widgets",
      "model_module_version": "~2.1.4",
      "model_name": "LayoutModel",
      "state": {
       "_model_module_version": "~2.1.4",
       "_view_module_version": "~2.1.4"
      }
     },
     "c1c0e9a62713405e9285ba118efd10ac": {
      "model_module": "jupyter-js-widgets",
      "model_module_version": "~2.1.4",
      "model_name": "VBoxModel",
      "state": {
       "_dom_classes": [
        "widget-interact"
       ],
       "_model_module_version": "~2.1.4",
       "_view_module_version": "~2.1.4",
       "children": [
        "IPY_MODEL_43b8bec4934340b98bcb636099bfb902",
        "IPY_MODEL_a99115293ba54a88bc1e22b8b05a4aad",
        "IPY_MODEL_7784c4c1e4e041d9986cf2d30e77935d",
        "IPY_MODEL_b1ee494abbe74bbda01505b8f7ad7c3e",
        "IPY_MODEL_0aa94387cf1249ccb13c066fd8eb6c61"
       ],
       "layout": "IPY_MODEL_b8e3273813e541f7bde34d071d76038c"
      }
     },
     "c248b4854b9d41fea3587447b199d4a0": {
      "model_module": "jupyter-js-widgets",
      "model_module_version": "~2.1.4",
      "model_name": "LayoutModel",
      "state": {
       "_model_module_version": "~2.1.4",
       "_view_module_version": "~2.1.4"
      }
     },
     "c2c91cd63be94d05ac73f887006cafad": {
      "model_module": "jupyter-js-widgets",
      "model_module_version": "~2.1.4",
      "model_name": "LayoutModel",
      "state": {
       "_model_module_version": "~2.1.4",
       "_view_module_version": "~2.1.4"
      }
     },
     "c328c82d469a47de96240939409d937c": {
      "model_module": "jupyter-js-widgets",
      "model_module_version": "~2.1.4",
      "model_name": "LayoutModel",
      "state": {
       "_model_module_version": "~2.1.4",
       "_view_module_version": "~2.1.4"
      }
     },
     "c39705d27f8c4c5e8ee48bab5e13917b": {
      "model_module": "jupyter-js-widgets",
      "model_module_version": "~2.1.4",
      "model_name": "DatePickerModel",
      "state": {
       "_model_module_version": "~2.1.4",
       "_view_module_version": "~2.1.4",
       "description": "Date end",
       "layout": "IPY_MODEL_e6254c00939d41999bc3edba2cae2507",
       "value": {
        "date": 23,
        "hours": 18,
        "milliseconds": 676,
        "minutes": 9,
        "month": 9,
        "seconds": 23,
        "year": 2017
       }
      }
     },
     "c3ae8aa1873e4267ba4bebfc641770f0": {
      "model_module": "jupyter-js-widgets",
      "model_module_version": "~2.1.4",
      "model_name": "DatePickerModel",
      "state": {
       "_model_module_version": "~2.1.4",
       "_view_module_version": "~2.1.4",
       "description": "Date end",
       "layout": "IPY_MODEL_7ef540182e3b4a9887c6e1c0aaf11c6c",
       "value": {
        "date": 24,
        "hours": 13,
        "milliseconds": 728,
        "minutes": 10,
        "month": 9,
        "seconds": 59,
        "year": 2017
       }
      }
     },
     "c415a834293a4371b7aa57276cccae30": {
      "model_module": "jupyter-js-widgets",
      "model_module_version": "~2.1.4",
      "model_name": "DropdownModel",
      "state": {
       "_model_module_version": "~2.1.4",
       "_options_labels": [
        "line"
       ],
       "_view_module_version": "~2.1.4",
       "description": "widget",
       "layout": "IPY_MODEL_8a4daf9a29bb4cfdb0e82f31ba86163f",
       "value": "line"
      }
     },
     "c44a87ad73394bf6baf7c6c46dbeb7e4": {
      "model_module": "jupyter-js-widgets",
      "model_module_version": "~2.1.4",
      "model_name": "DatePickerModel",
      "state": {
       "_model_module_version": "~2.1.4",
       "_view_module_version": "~2.1.4",
       "description": "Date end",
       "layout": "IPY_MODEL_bea26984acec46edaaf2596f225bd3b7",
       "value": {
        "date": 24,
        "hours": 15,
        "milliseconds": 894,
        "minutes": 14,
        "month": 9,
        "seconds": 35,
        "year": 2017
       }
      }
     },
     "c46205b429b54831bed66e35a52bd6f9": {
      "model_module": "jupyter-js-widgets",
      "model_module_version": "~2.1.4",
      "model_name": "DropdownModel",
      "state": {
       "_model_module_version": "~2.1.4",
       "_options_labels": [
        "line"
       ],
       "_view_module_version": "~2.1.4",
       "description": "widget",
       "layout": "IPY_MODEL_1d582854978146f89a5728094b282faa",
       "value": "line"
      }
     },
     "c4eb4f24912b40c09f80afd7e2d7d819": {
      "model_module": "jupyter-js-widgets",
      "model_module_version": "~2.1.4",
      "model_name": "DatePickerModel",
      "state": {
       "_model_module_version": "~2.1.4",
       "_view_module_version": "~2.1.4",
       "description": "Date end",
       "layout": "IPY_MODEL_fb7d500a6d7c472b9ba3722082b9c1a8",
       "value": {
        "date": 23,
        "hours": 17,
        "milliseconds": 556,
        "minutes": 55,
        "month": 9,
        "seconds": 27,
        "year": 2017
       }
      }
     },
     "c53090bacff84df2b596c8db1134b834": {
      "model_module": "jupyter-js-widgets",
      "model_module_version": "~2.1.4",
      "model_name": "TextareaModel",
      "state": {
       "_model_module_version": "~2.1.4",
       "_view_module_version": "~2.1.4",
       "description": "Query:",
       "layout": "IPY_MODEL_e4bcddb832df46379ed92cc0a90ef517",
       "value": "SELECT acq_date as x, count(acq_date) as y FROM vnp14imgtdl_nrt_global_7d WHERE acq_date >='{date_begin}' and acq_date < '{date_end}' group by acq_date order by acq_date asc"
      }
     },
     "c54fb71109d34ba086f5a854461a8373": {
      "model_module": "jupyter-js-widgets",
      "model_module_version": "~2.1.4",
      "model_name": "TextareaModel",
      "state": {
       "_model_module_version": "~2.1.4",
       "_view_module_version": "~2.1.4",
       "description": "Query:",
       "layout": "IPY_MODEL_1f8f62a9ba7842e18dff3933e534c549",
       "value": "SELECT acq_date as x, count(acq_date) as y FROM vnp14imgtdl_nrt_global_7d WHERE acq_date >='{date_begin}' and acq_date < '{date_end}' group by acq_date order by acq_date asc"
      }
     },
     "c5a1cd20bafa4ee49cb4804724e2b53f": {
      "model_module": "jupyter-js-widgets",
      "model_module_version": "~2.1.4",
      "model_name": "DatePickerModel",
      "state": {
       "_model_module_version": "~2.1.4",
       "_view_module_version": "~2.1.4",
       "description": "Date begin",
       "layout": "IPY_MODEL_dc0e7f89e1e64b5dbd3650376c5c8add",
       "value": {
        "date": 18,
        "hours": 0,
        "milliseconds": 0,
        "minutes": 0,
        "month": 9,
        "seconds": 0,
        "year": 2017
       }
      }
     },
     "c63f7605e0d644269ec26ce6ff3d7479": {
      "model_module": "jupyter-js-widgets",
      "model_module_version": "~2.1.4",
      "model_name": "DropdownModel",
      "state": {
       "_model_module_version": "~2.1.4",
       "_options_labels": [
        "line"
       ],
       "_view_module_version": "~2.1.4",
       "description": "widget",
       "layout": "IPY_MODEL_f28dcb80199749ec80ac0fa1df4015a7",
       "value": "line"
      }
     },
     "c653fc0cc1174615a1b1fa202b7d108a": {
      "model_module": "jupyter-js-widgets",
      "model_module_version": "~2.1.4",
      "model_name": "OutputModel",
      "state": {
       "_dom_classes": [],
       "_model_module": "jupyter-js-widgets",
       "_model_module_version": "~2.1.4",
       "_view_module": "jupyter-js-widgets",
       "_view_module_version": "~2.1.4",
       "layout": "IPY_MODEL_4db4259666ce489b9f9e0216b8e5831c",
       "msg_throttle": 1
      }
     },
     "c67b49867eff490ab06b48ca19cde860": {
      "model_module": "jupyter-js-widgets",
      "model_module_version": "~2.1.4",
      "model_name": "LayoutModel",
      "state": {
       "_model_module_version": "~2.1.4",
       "_view_module_version": "~2.1.4"
      }
     },
     "c6fcc6b9523a43f08b5d03ec72e923aa": {
      "model_module": "jupyter-js-widgets",
      "model_module_version": "~2.1.4",
      "model_name": "DropdownModel",
      "state": {
       "_model_module_version": "~2.1.4",
       "_options_labels": [
        "line"
       ],
       "_view_module_version": "~2.1.4",
       "description": "widget",
       "layout": "IPY_MODEL_5483249fd8a04527b164277ee61d51ec",
       "value": "line"
      }
     },
     "c725815298e14e22b1e240ebc14b1e1e": {
      "model_module": "jupyter-js-widgets",
      "model_module_version": "~2.1.4",
      "model_name": "DatePickerModel",
      "state": {
       "_model_module_version": "~2.1.4",
       "_view_module_version": "~2.1.4",
       "description": "Date begin",
       "layout": "IPY_MODEL_c7ed4e1318434220b5310904305b7ae4",
       "value": {
        "date": 1,
        "hours": 0,
        "milliseconds": 0,
        "minutes": 0,
        "month": 0,
        "seconds": 0,
        "year": 2017
       }
      }
     },
     "c7c344d6743d40338ecb5c7fd490a46b": {
      "model_module": "jupyter-js-widgets",
      "model_module_version": "~2.1.4",
      "model_name": "DropdownModel",
      "state": {
       "_model_module_version": "~2.1.4",
       "_options_labels": [
        "line"
       ],
       "_view_module_version": "~2.1.4",
       "description": "widget",
       "layout": "IPY_MODEL_7ec64001444f48dca425db3a64ef4ae5",
       "value": "line"
      }
     },
     "c7ed4e1318434220b5310904305b7ae4": {
      "model_module": "jupyter-js-widgets",
      "model_module_version": "~2.1.4",
      "model_name": "LayoutModel",
      "state": {
       "_model_module_version": "~2.1.4",
       "_view_module_version": "~2.1.4"
      }
     },
     "c8d63eabef8b4f55887448814a4722cc": {
      "model_module": "jupyter-js-widgets",
      "model_module_version": "~2.1.4",
      "model_name": "VBoxModel",
      "state": {
       "_dom_classes": [
        "widget-interact"
       ],
       "_model_module_version": "~2.1.4",
       "_view_module_version": "~2.1.4",
       "children": [
        "IPY_MODEL_b53b3fe9ffee45ea895c80678461bfeb",
        "IPY_MODEL_27e63d4a6cbc49c6a808e6f3ddd5805c",
        "IPY_MODEL_aace1c00c3de4681bd9c8230e3b2aee0",
        "IPY_MODEL_19efa1bdb23a4874b5e3cec69c594c59",
        "IPY_MODEL_217fa17d47884600a9737a5ae45fd8ab"
       ],
       "layout": "IPY_MODEL_c8ff35f3a78a46e4a8ad71dd8e1408de"
      }
     },
     "c8ff35f3a78a46e4a8ad71dd8e1408de": {
      "model_module": "jupyter-js-widgets",
      "model_module_version": "~2.1.4",
      "model_name": "LayoutModel",
      "state": {
       "_model_module_version": "~2.1.4",
       "_view_module_version": "~2.1.4"
      }
     },
     "c913db3c8997473f90f0d1398e64ceac": {
      "model_module": "jupyter-js-widgets",
      "model_module_version": "~2.1.4",
      "model_name": "OutputModel",
      "state": {
       "_dom_classes": [],
       "_model_module": "jupyter-js-widgets",
       "_model_module_version": "~2.1.4",
       "_view_module": "jupyter-js-widgets",
       "_view_module_version": "~2.1.4",
       "layout": "IPY_MODEL_8fc2371c9f034120b7a02807b43f8c77",
       "msg_throttle": 1
      }
     },
     "c93f86db15de465d81933e3110475f43": {
      "model_module": "jupyter-js-widgets",
      "model_module_version": "~2.1.4",
      "model_name": "DropdownModel",
      "state": {
       "_model_module_version": "~2.1.4",
       "_options_labels": [
        "Afghanistan",
        "Brazil",
        "Custom area"
       ],
       "_view_module_version": "~2.1.4",
       "description": "geostore",
       "layout": "IPY_MODEL_d6d14ad8e81241fb96633364491da6fd",
       "value": "Afghanistan"
      }
     },
     "c95e1a260b01404a87bf793a0b552b0d": {
      "model_module": "jupyter-js-widgets",
      "model_module_version": "~2.1.4",
      "model_name": "VBoxModel",
      "state": {
       "_dom_classes": [
        "widget-interact"
       ],
       "_model_module_version": "~2.1.4",
       "_view_module_version": "~2.1.4",
       "children": [
        "IPY_MODEL_7fc89a87cee0418a8a41644dfe1749bd",
        "IPY_MODEL_da7f36b6aaae4db889f0672ea3011c80",
        "IPY_MODEL_0f3bb9a890cf424b8d53e1eb41d1cc8c",
        "IPY_MODEL_49a8a56bb0874246bdf8150b4ba40747",
        "IPY_MODEL_05390e94c7bd48d8ae050dc6181c99b1"
       ],
       "layout": "IPY_MODEL_edb31f82ed3e4d9f99e36d311380b3cd"
      }
     },
     "c9a53b6d1b004235b05f39706c463e55": {
      "model_module": "jupyter-js-widgets",
      "model_module_version": "~2.1.4",
      "model_name": "LayoutModel",
      "state": {
       "_model_module_version": "~2.1.4",
       "_view_module_version": "~2.1.4"
      }
     },
     "c9d5bed55943422baf9cb734b7d0039d": {
      "model_module": "jupyter-js-widgets",
      "model_module_version": "~2.1.4",
      "model_name": "VBoxModel",
      "state": {
       "_dom_classes": [
        "widget-interact"
       ],
       "_model_module_version": "~2.1.4",
       "_view_module_version": "~2.1.4",
       "children": [
        "IPY_MODEL_1c12791107ed4501a0e304511016e0cc",
        "IPY_MODEL_30186bb637de4f84bb6c4fecebe1f6be",
        "IPY_MODEL_fa1be02e846e4131a5578dda0b736f86",
        "IPY_MODEL_eaadce0f92c54adab8b49286db1c08a2",
        "IPY_MODEL_1ab5960849d1441798f669cbc965ca0e"
       ],
       "layout": "IPY_MODEL_e38d95f77fb048ad9876389265ec54c2"
      }
     },
     "ca68733f12ca4b2fb79f74726a60e046": {
      "model_module": "jupyter-js-widgets",
      "model_module_version": "~2.1.4",
      "model_name": "TextareaModel",
      "state": {
       "_model_module_version": "~2.1.4",
       "_view_module_version": "~2.1.4",
       "description": "Query:",
       "layout": "IPY_MODEL_0f65482e13e84e21bba92faff6ead0ae",
       "value": "SELECT acq_date as x, count(acq_date) as y FROM vnp14imgtdl_nrt_global_7d WHERE acq_date >='{date_begin}' and acq_date < '{date_end}' group by acq_date order by acq_date asc"
      }
     },
     "ca9d65c623f444fd811f66f6480379de": {
      "model_module": "jupyter-js-widgets",
      "model_module_version": "~2.1.4",
      "model_name": "LayoutModel",
      "state": {
       "_model_module_version": "~2.1.4",
       "_view_module_version": "~2.1.4"
      }
     },
     "cb1e91b78a334fcaa5fb0fd3641af1b3": {
      "model_module": "jupyter-js-widgets",
      "model_module_version": "~2.1.4",
      "model_name": "LayoutModel",
      "state": {
       "_model_module_version": "~2.1.4",
       "_view_module_version": "~2.1.4"
      }
     },
     "cbc6d4824c0a48d9a15078a12bdd3412": {
      "model_module": "jupyter-js-widgets",
      "model_module_version": "~2.1.4",
      "model_name": "LayoutModel",
      "state": {
       "_model_module_version": "~2.1.4",
       "_view_module_version": "~2.1.4"
      }
     },
     "ccac704bce9649f6b860f02efa4bc1ca": {
      "model_module": "jupyter-js-widgets",
      "model_module_version": "~2.1.4",
      "model_name": "LayoutModel",
      "state": {
       "_model_module_version": "~2.1.4",
       "_view_module_version": "~2.1.4"
      }
     },
     "ccf5ff98dbe54a85b470f20d3b8b3460": {
      "model_module": "jupyter-js-widgets",
      "model_module_version": "~2.1.4",
      "model_name": "LayoutModel",
      "state": {
       "_model_module_version": "~2.1.4",
       "_view_module_version": "~2.1.4"
      }
     },
     "cdd9e369d2334fcf8523d689f8b8b58d": {
      "model_module": "jupyter-js-widgets",
      "model_module_version": "~2.1.4",
      "model_name": "LayoutModel",
      "state": {
       "_model_module_version": "~2.1.4",
       "_view_module_version": "~2.1.4"
      }
     },
     "ce428d60649940e5a11da348992d2d14": {
      "model_module": "jupyter-js-widgets",
      "model_module_version": "~2.1.4",
      "model_name": "VBoxModel",
      "state": {
       "_dom_classes": [
        "widget-interact"
       ],
       "_model_module_version": "~2.1.4",
       "_view_module_version": "~2.1.4",
       "children": [
        "IPY_MODEL_98c9fbe92ad04beea3188c7470d48091",
        "IPY_MODEL_9995c4d9420f4ccfb080effcf674270f",
        "IPY_MODEL_ba82cff1f5764c17af29a1e030cfcc71",
        "IPY_MODEL_54e0adee6761434492b1844793d28cd7",
        "IPY_MODEL_23ef5cc0d0894590bbda4cc1d1bb804e"
       ],
       "layout": "IPY_MODEL_5478211c31ad48a5bfa2f4648ac5897b"
      }
     },
     "cf3ac06b4510438d8a71817278be9136": {
      "model_module": "jupyter-js-widgets",
      "model_module_version": "~2.1.4",
      "model_name": "DropdownModel",
      "state": {
       "_model_module_version": "~2.1.4",
       "_options_labels": [
        "Afghanistan",
        "Brazil",
        "Custom area"
       ],
       "_view_module_version": "~2.1.4",
       "description": "geostore",
       "layout": "IPY_MODEL_a951734e1439413db8588cf662c75267",
       "value": "Afghanistan"
      }
     },
     "cfb80b782c4c46fb96f202146e4b467f": {
      "model_module": "jupyter-js-widgets",
      "model_module_version": "~2.1.4",
      "model_name": "DatePickerModel",
      "state": {
       "_model_module_version": "~2.1.4",
       "_view_module_version": "~2.1.4",
       "description": "Date end",
       "layout": "IPY_MODEL_bf7c1fc5b31748538d56ab779eab5a00",
       "value": {
        "date": 23,
        "hours": 18,
        "milliseconds": 963,
        "minutes": 0,
        "month": 9,
        "seconds": 30,
        "year": 2017
       }
      }
     },
     "cfbc098d48214016a1a46a67557791cf": {
      "model_module": "jupyter-js-widgets",
      "model_module_version": "~2.1.4",
      "model_name": "OutputModel",
      "state": {
       "_dom_classes": [],
       "_model_module": "jupyter-js-widgets",
       "_model_module_version": "~2.1.4",
       "_view_module": "jupyter-js-widgets",
       "_view_module_version": "~2.1.4",
       "layout": "IPY_MODEL_2089cfc8e0a847b3b482f15d2da3c41a",
       "msg_throttle": 1
      }
     },
     "d06464e2aa1b4167955fe5292395faa3": {
      "model_module": "jupyter-js-widgets",
      "model_module_version": "~2.1.4",
      "model_name": "LayoutModel",
      "state": {
       "_model_module_version": "~2.1.4",
       "_view_module_version": "~2.1.4"
      }
     },
     "d08b6b29ed274f859e0493845920992e": {
      "model_module": "jupyter-js-widgets",
      "model_module_version": "~2.1.4",
      "model_name": "OutputModel",
      "state": {
       "_dom_classes": [],
       "_model_module": "jupyter-js-widgets",
       "_model_module_version": "~2.1.4",
       "_view_module": "jupyter-js-widgets",
       "_view_module_version": "~2.1.4",
       "layout": "IPY_MODEL_5eaf66804c4d43d79314b55e00a26488",
       "msg_throttle": 1
      }
     },
     "d0aa8bc1ace6413ea291d5945016f2d8": {
      "model_module": "jupyter-js-widgets",
      "model_module_version": "~2.1.4",
      "model_name": "DatePickerModel",
      "state": {
       "_model_module_version": "~2.1.4",
       "_view_module_version": "~2.1.4",
       "description": "Date begin",
       "layout": "IPY_MODEL_962a9dd130c8484086bfd89437290b9d",
       "value": {
        "date": 18,
        "hours": 0,
        "milliseconds": 0,
        "minutes": 0,
        "month": 9,
        "seconds": 0,
        "year": 2017
       }
      }
     },
     "d0f2431e1aa8494a966713d361eeaf36": {
      "model_module": "jupyter-js-widgets",
      "model_module_version": "~2.1.4",
      "model_name": "LayoutModel",
      "state": {
       "_model_module_version": "~2.1.4",
       "_view_module_version": "~2.1.4"
      }
     },
     "d10a68268e984c4398f666f8e0c51111": {
      "model_module": "jupyter-js-widgets",
      "model_module_version": "~2.1.4",
      "model_name": "LayoutModel",
      "state": {
       "_model_module_version": "~2.1.4",
       "_view_module_version": "~2.1.4"
      }
     },
     "d1a3a182584247eca3556da8a770eab8": {
      "model_module": "jupyter-js-widgets",
      "model_module_version": "~2.1.4",
      "model_name": "DatePickerModel",
      "state": {
       "_model_module_version": "~2.1.4",
       "_view_module_version": "~2.1.4",
       "description": "Date end",
       "layout": "IPY_MODEL_d5879708e2544563b2cd2fa906a33b5e",
       "value": {
        "date": 23,
        "hours": 17,
        "milliseconds": 64,
        "minutes": 58,
        "month": 9,
        "seconds": 35,
        "year": 2017
       }
      }
     },
     "d236c20906c042fd9492083a0c222628": {
      "model_module": "jupyter-js-widgets",
      "model_module_version": "~2.1.4",
      "model_name": "LayoutModel",
      "state": {
       "_model_module_version": "~2.1.4",
       "_view_module_version": "~2.1.4"
      }
     },
     "d2422ed028c04ece82d8ca27775d251a": {
      "model_module": "jupyter-js-widgets",
      "model_module_version": "~2.1.4",
      "model_name": "LayoutModel",
      "state": {
       "_model_module_version": "~2.1.4",
       "_view_module_version": "~2.1.4"
      }
     },
     "d2ae7ec460984c4a843d9f7d01194b9d": {
      "model_module": "jupyter-js-widgets",
      "model_module_version": "~2.1.4",
      "model_name": "LayoutModel",
      "state": {
       "_model_module_version": "~2.1.4",
       "_view_module_version": "~2.1.4"
      }
     },
     "d37633b1ea1f4f4aa7be3d39afb0638a": {
      "model_module": "jupyter-js-widgets",
      "model_module_version": "~2.1.4",
      "model_name": "OutputModel",
      "state": {
       "_dom_classes": [],
       "_model_module": "jupyter-js-widgets",
       "_model_module_version": "~2.1.4",
       "_view_module": "jupyter-js-widgets",
       "_view_module_version": "~2.1.4",
       "layout": "IPY_MODEL_09eec2d4fcdb46d5bd308a33d1d23fb7",
       "msg_throttle": 1
      }
     },
     "d3974184425645839ee51df2bea8f9b6": {
      "model_module": "jupyter-js-widgets",
      "model_module_version": "~2.1.4",
      "model_name": "LayoutModel",
      "state": {
       "_model_module_version": "~2.1.4",
       "_view_module_version": "~2.1.4"
      }
     },
     "d3b7d10a95ad49688a11f80bd1740d5d": {
      "model_module": "jupyter-js-widgets",
      "model_module_version": "~2.1.4",
      "model_name": "VBoxModel",
      "state": {
       "_dom_classes": [
        "widget-interact"
       ],
       "_model_module_version": "~2.1.4",
       "_view_module_version": "~2.1.4",
       "children": [
        "IPY_MODEL_c46205b429b54831bed66e35a52bd6f9",
        "IPY_MODEL_54e7c11f82af41a49bf3c064c45deeae",
        "IPY_MODEL_b1142463418d4fa08c73f750e8e52bb5",
        "IPY_MODEL_41d591c3f87d4cb2bba19b98d3d1619f",
        "IPY_MODEL_44b013d1044347e285304d51e94687fb"
       ],
       "layout": "IPY_MODEL_439dc23c959e476182681afbee880229"
      }
     },
     "d47ba0f70329407fb6f853988450d0c8": {
      "model_module": "jupyter-js-widgets",
      "model_module_version": "~2.1.4",
      "model_name": "LayoutModel",
      "state": {
       "_model_module_version": "~2.1.4",
       "_view_module_version": "~2.1.4"
      }
     },
     "d492de93a7864237b7dc276ea6a27204": {
      "model_module": "jupyter-js-widgets",
      "model_module_version": "~2.1.4",
      "model_name": "LayoutModel",
      "state": {
       "_model_module_version": "~2.1.4",
       "_view_module_version": "~2.1.4"
      }
     },
     "d4c148622d1146afb62ed39866772893": {
      "model_module": "jupyter-js-widgets",
      "model_module_version": "~2.1.4",
      "model_name": "DatePickerModel",
      "state": {
       "_model_module_version": "~2.1.4",
       "_view_module_version": "~2.1.4",
       "description": "Date begin",
       "layout": "IPY_MODEL_d99ef15b654640bfb4b55ccd47801e33",
       "value": {
        "date": 18,
        "hours": 0,
        "milliseconds": 0,
        "minutes": 0,
        "month": 9,
        "seconds": 0,
        "year": 2017
       }
      }
     },
     "d55f6abad6d144fba2a68dabeac5ec0e": {
      "model_module": "jupyter-js-widgets",
      "model_module_version": "~2.1.4",
      "model_name": "LayoutModel",
      "state": {
       "_model_module_version": "~2.1.4",
       "_view_module_version": "~2.1.4"
      }
     },
     "d5738c4bda964b6e84dac415f8c52395": {
      "model_module": "jupyter-js-widgets",
      "model_module_version": "~2.1.4",
      "model_name": "LayoutModel",
      "state": {
       "_model_module_version": "~2.1.4",
       "_view_module_version": "~2.1.4"
      }
     },
     "d5879708e2544563b2cd2fa906a33b5e": {
      "model_module": "jupyter-js-widgets",
      "model_module_version": "~2.1.4",
      "model_name": "LayoutModel",
      "state": {
       "_model_module_version": "~2.1.4",
       "_view_module_version": "~2.1.4"
      }
     },
     "d598b0f9eb5c40fca438668b8a2611bf": {
      "model_module": "jupyter-js-widgets",
      "model_module_version": "~2.1.4",
      "model_name": "LayoutModel",
      "state": {
       "_model_module_version": "~2.1.4",
       "_view_module_version": "~2.1.4"
      }
     },
     "d5a0737706e84e59a85f0393d6f080e4": {
      "model_module": "jupyter-js-widgets",
      "model_module_version": "~2.1.4",
      "model_name": "LayoutModel",
      "state": {
       "_model_module_version": "~2.1.4",
       "_view_module_version": "~2.1.4"
      }
     },
     "d5a28ee6192b40deaf0b3be3bc6c20b6": {
      "model_module": "jupyter-js-widgets",
      "model_module_version": "~2.1.4",
      "model_name": "LayoutModel",
      "state": {
       "_model_module_version": "~2.1.4",
       "_view_module_version": "~2.1.4"
      }
     },
     "d6018d557d8d42ae81116805d17e9703": {
      "model_module": "jupyter-js-widgets",
      "model_module_version": "~2.1.4",
      "model_name": "LayoutModel",
      "state": {
       "_model_module_version": "~2.1.4",
       "_view_module_version": "~2.1.4"
      }
     },
     "d6495df8b3234271856ec30ba11289e8": {
      "model_module": "jupyter-js-widgets",
      "model_module_version": "~2.1.4",
      "model_name": "LayoutModel",
      "state": {
       "_model_module_version": "~2.1.4",
       "_view_module_version": "~2.1.4"
      }
     },
     "d692e207a15b4dfdab81129c331eb664": {
      "model_module": "jupyter-js-widgets",
      "model_module_version": "~2.1.4",
      "model_name": "DropdownModel",
      "state": {
       "_model_module_version": "~2.1.4",
       "_options_labels": [
        "line"
       ],
       "_view_module_version": "~2.1.4",
       "description": "widget",
       "layout": "IPY_MODEL_8a3cea290eb44b199b70f8e29f4b193c",
       "value": "line"
      }
     },
     "d6cc023bd3af4f2f9bbd5ac2d1317535": {
      "model_module": "jupyter-js-widgets",
      "model_module_version": "~2.1.4",
      "model_name": "LayoutModel",
      "state": {
       "_model_module_version": "~2.1.4",
       "_view_module_version": "~2.1.4"
      }
     },
     "d6d14ad8e81241fb96633364491da6fd": {
      "model_module": "jupyter-js-widgets",
      "model_module_version": "~2.1.4",
      "model_name": "LayoutModel",
      "state": {
       "_model_module_version": "~2.1.4",
       "_view_module_version": "~2.1.4"
      }
     },
     "d7218feab04c4005a6eaa5794212902d": {
      "model_module": "jupyter-js-widgets",
      "model_module_version": "~2.1.4",
      "model_name": "LayoutModel",
      "state": {
       "_model_module_version": "~2.1.4",
       "_view_module_version": "~2.1.4"
      }
     },
     "d778e5a8cb14431ca07022bf9164c4ae": {
      "model_module": "jupyter-js-widgets",
      "model_module_version": "~2.1.4",
      "model_name": "LayoutModel",
      "state": {
       "_model_module_version": "~2.1.4",
       "_view_module_version": "~2.1.4"
      }
     },
     "d786977d2b5b4117b6bf76f6f501773d": {
      "model_module": "jupyter-js-widgets",
      "model_module_version": "~2.1.4",
      "model_name": "DatePickerModel",
      "state": {
       "_model_module_version": "~2.1.4",
       "_view_module_version": "~2.1.4",
       "description": "Date end",
       "layout": "IPY_MODEL_ecfa9fd5b8714f4e89dc1ddc08e98630",
       "value": {
        "date": 23,
        "hours": 17,
        "milliseconds": 100,
        "minutes": 52,
        "month": 9,
        "seconds": 1,
        "year": 2017
       }
      }
     },
     "d84bac850662421c9719658afacda8f1": {
      "model_module": "jupyter-js-widgets",
      "model_module_version": "~2.1.4",
      "model_name": "DatePickerModel",
      "state": {
       "_model_module_version": "~2.1.4",
       "_view_module_version": "~2.1.4",
       "description": "Date end",
       "layout": "IPY_MODEL_5703a23345f74005a6f3fb0380415b5f",
       "value": {
        "date": 24,
        "hours": 13,
        "milliseconds": 978,
        "minutes": 56,
        "month": 9,
        "seconds": 23,
        "year": 2017
       }
      }
     },
     "d91b8142f56e4c89a7536b830690d836": {
      "model_module": "jupyter-js-widgets",
      "model_module_version": "~2.1.4",
      "model_name": "OutputModel",
      "state": {
       "_dom_classes": [],
       "_model_module": "jupyter-js-widgets",
       "_model_module_version": "~2.1.4",
       "_view_module": "jupyter-js-widgets",
       "_view_module_version": "~2.1.4",
       "layout": "IPY_MODEL_6345e6c74c4341c883ed7cf4808d76e5",
       "msg_throttle": 1
      }
     },
     "d92168a658f3427399f70e715b48df9f": {
      "model_module": "jupyter-js-widgets",
      "model_module_version": "~2.1.4",
      "model_name": "VBoxModel",
      "state": {
       "_dom_classes": [
        "widget-interact"
       ],
       "_model_module_version": "~2.1.4",
       "_view_module_version": "~2.1.4",
       "children": [
        "IPY_MODEL_5a4daac9693148d9a6209f09787e6636",
        "IPY_MODEL_1b416cf5d21045199886047a43c5fbca",
        "IPY_MODEL_98358857a0e4432183792d14cc3e7449",
        "IPY_MODEL_f89bab40e6854c73a62ccb93ef086ff2",
        "IPY_MODEL_f8164108744640d59e5d3a31350787ba"
       ],
       "layout": "IPY_MODEL_7a8d9a1d9da74afa8e87fe5ce7d847d4"
      }
     },
     "d961822781b04a3eae7ba4ad0014e9c0": {
      "model_module": "jupyter-js-widgets",
      "model_module_version": "~2.1.4",
      "model_name": "LayoutModel",
      "state": {
       "_model_module_version": "~2.1.4",
       "_view_module_version": "~2.1.4"
      }
     },
     "d99ef15b654640bfb4b55ccd47801e33": {
      "model_module": "jupyter-js-widgets",
      "model_module_version": "~2.1.4",
      "model_name": "LayoutModel",
      "state": {
       "_model_module_version": "~2.1.4",
       "_view_module_version": "~2.1.4"
      }
     },
     "d9bfaac374a54fa1a309050e859e5b60": {
      "model_module": "jupyter-js-widgets",
      "model_module_version": "~2.1.4",
      "model_name": "LayoutModel",
      "state": {
       "_model_module_version": "~2.1.4",
       "_view_module_version": "~2.1.4"
      }
     },
     "da0e384f28b548bdae858517e48ae8c3": {
      "model_module": "jupyter-js-widgets",
      "model_module_version": "~2.1.4",
      "model_name": "LayoutModel",
      "state": {
       "_model_module_version": "~2.1.4",
       "_view_module_version": "~2.1.4"
      }
     },
     "da5091b7b01c4d44bdb5d85e20ec7fe7": {
      "model_module": "jupyter-js-widgets",
      "model_module_version": "~2.1.4",
      "model_name": "LayoutModel",
      "state": {
       "_model_module_version": "~2.1.4",
       "_view_module_version": "~2.1.4"
      }
     },
     "da7f36b6aaae4db889f0672ea3011c80": {
      "model_module": "jupyter-js-widgets",
      "model_module_version": "~2.1.4",
      "model_name": "DatePickerModel",
      "state": {
       "_model_module_version": "~2.1.4",
       "_view_module_version": "~2.1.4",
       "description": "Date begin",
       "layout": "IPY_MODEL_fb54f26fe9554e6e9903cc274d515839",
       "value": {
        "date": 18,
        "hours": 0,
        "milliseconds": 0,
        "minutes": 0,
        "month": 9,
        "seconds": 0,
        "year": 2017
       }
      }
     },
     "da81857ae70f4ae9b6275f907d51827b": {
      "model_module": "jupyter-js-widgets",
      "model_module_version": "~2.1.4",
      "model_name": "LayoutModel",
      "state": {
       "_model_module_version": "~2.1.4",
       "_view_module_version": "~2.1.4"
      }
     },
     "dae1f52eb25e411086dec05a87319b1c": {
      "model_module": "jupyter-js-widgets",
      "model_module_version": "~2.1.4",
      "model_name": "DatePickerModel",
      "state": {
       "_model_module_version": "~2.1.4",
       "_view_module_version": "~2.1.4",
       "description": "Date begin",
       "layout": "IPY_MODEL_f2012d91277247ecb3649422a22de16c",
       "value": {
        "date": 1,
        "hours": 0,
        "milliseconds": 0,
        "minutes": 0,
        "month": 0,
        "seconds": 0,
        "year": 2017
       }
      }
     },
     "dbbac79cc72649fbb53f017715e7d108": {
      "model_module": "jupyter-js-widgets",
      "model_module_version": "~2.1.4",
      "model_name": "LayoutModel",
      "state": {
       "_model_module_version": "~2.1.4",
       "_view_module_version": "~2.1.4"
      }
     },
     "dbd851c7e5334fa2b4483ba3dcbf601a": {
      "model_module": "jupyter-js-widgets",
      "model_module_version": "~2.1.4",
      "model_name": "LayoutModel",
      "state": {
       "_model_module_version": "~2.1.4",
       "_view_module_version": "~2.1.4"
      }
     },
     "dbfc481cb8414f4fb09b2affef142b54": {
      "model_module": "jupyter-js-widgets",
      "model_module_version": "~2.1.4",
      "model_name": "TextareaModel",
      "state": {
       "_model_module_version": "~2.1.4",
       "_view_module_version": "~2.1.4",
       "description": "Url to query:",
       "layout": "IPY_MODEL_0f65482e13e84e21bba92faff6ead0ae",
       "value": "https://api.resourcewatch.org/v1/query/20cc5eca-8c63-4c41-8e8e-134dcf1e6d76?sql={0}"
      }
     },
     "dc0e7f89e1e64b5dbd3650376c5c8add": {
      "model_module": "jupyter-js-widgets",
      "model_module_version": "~2.1.4",
      "model_name": "LayoutModel",
      "state": {
       "_model_module_version": "~2.1.4",
       "_view_module_version": "~2.1.4"
      }
     },
     "dc26e3bf6a7e4c11b73d07305b09f16e": {
      "model_module": "jupyter-js-widgets",
      "model_module_version": "~2.1.4",
      "model_name": "LayoutModel",
      "state": {
       "_model_module_version": "~2.1.4",
       "_view_module_version": "~2.1.4"
      }
     },
     "dc2ae1a8a1d947bb9a9ab904ef5ef42a": {
      "model_module": "jupyter-js-widgets",
      "model_module_version": "~2.1.4",
      "model_name": "LayoutModel",
      "state": {
       "_model_module_version": "~2.1.4",
       "_view_module_version": "~2.1.4"
      }
     },
     "dd4bcdde970347d6b8cf13fc92317945": {
      "model_module": "jupyter-js-widgets",
      "model_module_version": "~2.1.4",
      "model_name": "DatePickerModel",
      "state": {
       "_model_module_version": "~2.1.4",
       "_view_module_version": "~2.1.4",
       "description": "Date begin",
       "layout": "IPY_MODEL_60193ee5b88a46378d5a2b2faaaf088f",
       "value": {
        "date": 18,
        "hours": 0,
        "milliseconds": 0,
        "minutes": 0,
        "month": 9,
        "seconds": 0,
        "year": 2017
       }
      }
     },
     "dd7427c5814f4322bdef86d02e26b528": {
      "model_module": "jupyter-js-widgets",
      "model_module_version": "~2.1.4",
      "model_name": "DropdownModel",
      "state": {
       "_model_module_version": "~2.1.4",
       "_options_labels": [
        "Afghanistan",
        "Brazil",
        "Custom area"
       ],
       "_view_module_version": "~2.1.4",
       "description": "geostore",
       "layout": "IPY_MODEL_08f9d948a2b44e968da29e25ec6c6101",
       "value": "Afghanistan"
      }
     },
     "dda53ad46a074bf2b553235938099af8": {
      "model_module": "jupyter-js-widgets",
      "model_module_version": "~2.1.4",
      "model_name": "VBoxModel",
      "state": {
       "_dom_classes": [
        "widget-interact"
       ],
       "_model_module_version": "~2.1.4",
       "_view_module_version": "~2.1.4",
       "children": [
        "IPY_MODEL_7c66ed14738a41249445e6e950838443",
        "IPY_MODEL_84c59e1b39f3459f82f4859971727425",
        "IPY_MODEL_b6abe25eb762423095f11a0595640e62",
        "IPY_MODEL_4e8ce79ca17e45aba619c06145be16fd",
        "IPY_MODEL_34271eb301d846db931cf6a6abded5fe",
        "IPY_MODEL_83d4073562da4d5c82c934556ba71cb7",
        "IPY_MODEL_7e971a36699440189606fa6a7f5e6cdc"
       ],
       "layout": "IPY_MODEL_ac150d59a03c4940ae345bef4c6b74e1"
      }
     },
     "dde8fa4822e04224b7c6a12cd7f4209d": {
      "model_module": "jupyter-js-widgets",
      "model_module_version": "~2.1.4",
      "model_name": "DatePickerModel",
      "state": {
       "_model_module_version": "~2.1.4",
       "_view_module_version": "~2.1.4",
       "description": "Date begin",
       "layout": "IPY_MODEL_3875ebba3d81410e900856f05fb4e70e",
       "value": {
        "date": 1,
        "hours": 0,
        "milliseconds": 0,
        "minutes": 0,
        "month": 0,
        "seconds": 0,
        "year": 2017
       }
      }
     },
     "de0201301f70427b99c138609d4acacf": {
      "model_module": "jupyter-js-widgets",
      "model_module_version": "~2.1.4",
      "model_name": "LayoutModel",
      "state": {
       "_model_module_version": "~2.1.4",
       "_view_module_version": "~2.1.4"
      }
     },
     "de2dce6aa5bf4f858ad95e18dcbcdd1f": {
      "model_module": "jupyter-js-widgets",
      "model_module_version": "~2.1.4",
      "model_name": "LayoutModel",
      "state": {
       "_model_module_version": "~2.1.4",
       "_view_module_version": "~2.1.4"
      }
     },
     "dea66f42b9d842d2a997783e51551c9f": {
      "model_module": "jupyter-js-widgets",
      "model_module_version": "~2.1.4",
      "model_name": "LayoutModel",
      "state": {
       "_model_module_version": "~2.1.4",
       "_view_module_version": "~2.1.4"
      }
     },
     "dedf8285b7cc41da9f28cb919219d85c": {
      "model_module": "jupyter-js-widgets",
      "model_module_version": "~2.1.4",
      "model_name": "LayoutModel",
      "state": {
       "_model_module_version": "~2.1.4",
       "_view_module_version": "~2.1.4"
      }
     },
     "df3038ab945d47248edbb52121353ceb": {
      "model_module": "jupyter-js-widgets",
      "model_module_version": "~2.1.4",
      "model_name": "LayoutModel",
      "state": {
       "_model_module_version": "~2.1.4",
       "_view_module_version": "~2.1.4"
      }
     },
     "dfdce9d7873442ab868c2bc65a8a40ef": {
      "model_module": "jupyter-js-widgets",
      "model_module_version": "~2.1.4",
      "model_name": "LayoutModel",
      "state": {
       "_model_module_version": "~2.1.4",
       "_view_module_version": "~2.1.4"
      }
     },
     "dfdf46f0cf954d2fbd679a1afb763e86": {
      "model_module": "jupyter-js-widgets",
      "model_module_version": "~2.1.4",
      "model_name": "LayoutModel",
      "state": {
       "_model_module_version": "~2.1.4",
       "_view_module_version": "~2.1.4"
      }
     },
     "e04ca0cab05248e3ac36391584576bb1": {
      "model_module": "jupyter-js-widgets",
      "model_module_version": "~2.1.4",
      "model_name": "LayoutModel",
      "state": {
       "_model_module_version": "~2.1.4",
       "_view_module_version": "~2.1.4"
      }
     },
     "e1d9e11bcfe04e6fa521da541d3ab4db": {
      "model_module": "jupyter-js-widgets",
      "model_module_version": "~2.1.4",
      "model_name": "LayoutModel",
      "state": {
       "_model_module_version": "~2.1.4",
       "_view_module_version": "~2.1.4"
      }
     },
     "e258c09cbe5b4eccaa4039c5d7925c45": {
      "model_module": "jupyter-js-widgets",
      "model_module_version": "~2.1.4",
      "model_name": "LayoutModel",
      "state": {
       "_model_module_version": "~2.1.4",
       "_view_module_version": "~2.1.4"
      }
     },
     "e26a7f3146fd4c76bce1ef6ec5db34e4": {
      "model_module": "jupyter-js-widgets",
      "model_module_version": "~2.1.4",
      "model_name": "LayoutModel",
      "state": {
       "_model_module_version": "~2.1.4",
       "_view_module_version": "~2.1.4"
      }
     },
     "e280f1a827074f47a758d9b1337a4b18": {
      "model_module": "jupyter-js-widgets",
      "model_module_version": "~2.1.4",
      "model_name": "DatePickerModel",
      "state": {
       "_model_module_version": "~2.1.4",
       "_view_module_version": "~2.1.4",
       "description": "Date begin",
       "layout": "IPY_MODEL_1251bdcb39894947b719801f4bb5a011",
       "value": {
        "date": 1,
        "hours": 0,
        "milliseconds": 0,
        "minutes": 0,
        "month": 0,
        "seconds": 0,
        "year": 2017
       }
      }
     },
     "e32631bc42294db680a7339d0709eaf7": {
      "model_module": "jupyter-js-widgets",
      "model_module_version": "~2.1.4",
      "model_name": "LayoutModel",
      "state": {
       "_model_module_version": "~2.1.4",
       "_view_module_version": "~2.1.4"
      }
     },
     "e33c0a65583f4df294c420afc4041363": {
      "model_module": "jupyter-js-widgets",
      "model_module_version": "~2.1.4",
      "model_name": "OutputModel",
      "state": {
       "_dom_classes": [],
       "_model_module": "jupyter-js-widgets",
       "_model_module_version": "~2.1.4",
       "_view_module": "jupyter-js-widgets",
       "_view_module_version": "~2.1.4",
       "layout": "IPY_MODEL_3ab2e4846f23487f81933c56bd380c1f",
       "msg_throttle": 1
      }
     },
     "e36063d09689409caa617a035285b3e3": {
      "model_module": "jupyter-js-widgets",
      "model_module_version": "~2.1.4",
      "model_name": "LayoutModel",
      "state": {
       "_model_module_version": "~2.1.4",
       "_view_module_version": "~2.1.4"
      }
     },
     "e38d95f77fb048ad9876389265ec54c2": {
      "model_module": "jupyter-js-widgets",
      "model_module_version": "~2.1.4",
      "model_name": "LayoutModel",
      "state": {
       "_model_module_version": "~2.1.4",
       "_view_module_version": "~2.1.4"
      }
     },
     "e3bf8045ec624f68b01830e6f55c3720": {
      "model_module": "jupyter-js-widgets",
      "model_module_version": "~2.1.4",
      "model_name": "OutputModel",
      "state": {
       "_dom_classes": [],
       "_model_module": "jupyter-js-widgets",
       "_model_module_version": "~2.1.4",
       "_view_module": "jupyter-js-widgets",
       "_view_module_version": "~2.1.4",
       "layout": "IPY_MODEL_38bcfdcc609b4d229af1b349e87acea9",
       "msg_throttle": 1
      }
     },
     "e417d75db67f469c8ea6f8d3e319ca8c": {
      "model_module": "jupyter-js-widgets",
      "model_module_version": "~2.1.4",
      "model_name": "DatePickerModel",
      "state": {
       "_model_module_version": "~2.1.4",
       "_view_module_version": "~2.1.4",
       "description": "Date begin",
       "layout": "IPY_MODEL_6d782af8ef4c4e06b9584ca3bdd21609",
       "value": {
        "date": 18,
        "hours": 0,
        "milliseconds": 0,
        "minutes": 0,
        "month": 9,
        "seconds": 0,
        "year": 2017
       }
      }
     },
     "e44d6c617e884c8d9be42754ec298c2e": {
      "model_module": "jupyter-js-widgets",
      "model_module_version": "~2.1.4",
      "model_name": "LayoutModel",
      "state": {
       "_model_module_version": "~2.1.4",
       "_view_module_version": "~2.1.4"
      }
     },
     "e4983b4d4f874bb49e787eeab5fcbc11": {
      "model_module": "jupyter-js-widgets",
      "model_module_version": "~2.1.4",
      "model_name": "DropdownModel",
      "state": {
       "_model_module_version": "~2.1.4",
       "_options_labels": [
        "Afghanistan",
        "Brazil",
        "Custom area"
       ],
       "_view_module_version": "~2.1.4",
       "description": "geostore",
       "layout": "IPY_MODEL_97c308ca67bb4c81a3ce8dd6243747b3",
       "value": "Afghanistan"
      }
     },
     "e4bcddb832df46379ed92cc0a90ef517": {
      "model_module": "jupyter-js-widgets",
      "model_module_version": "~2.1.4",
      "model_name": "LayoutModel",
      "state": {
       "_model_module_version": "~2.1.4",
       "_view_module_version": "~2.1.4",
       "align_items": "stretch",
       "display": "flex",
       "flex_flow": "column",
       "width": "100%"
      }
     },
     "e4bd05cbf4944662884f75b61be6ac98": {
      "model_module": "jupyter-js-widgets",
      "model_module_version": "~2.1.4",
      "model_name": "DatePickerModel",
      "state": {
       "_model_module_version": "~2.1.4",
       "_view_module_version": "~2.1.4",
       "description": "Date begin",
       "layout": "IPY_MODEL_4716d122a433402a9efa36fbd4b11adf",
       "value": {
        "date": 18,
        "hours": 0,
        "milliseconds": 0,
        "minutes": 0,
        "month": 9,
        "seconds": 0,
        "year": 2017
       }
      }
     },
     "e4c565e1bdd645208ecc220bf09750df": {
      "model_module": "jupyter-js-widgets",
      "model_module_version": "~2.1.4",
      "model_name": "DropdownModel",
      "state": {
       "_model_module_version": "~2.1.4",
       "_options_labels": [
        "Afghanistan",
        "Brazil",
        "Custom area"
       ],
       "_view_module_version": "~2.1.4",
       "description": "geostore",
       "layout": "IPY_MODEL_9c2cca24cc524a28b188b27ce96cc491",
       "value": "Afghanistan"
      }
     },
     "e5077d2d77804c12b59f91e7c5263a4e": {
      "model_module": "jupyter-js-widgets",
      "model_module_version": "~2.1.4",
      "model_name": "LayoutModel",
      "state": {
       "_model_module_version": "~2.1.4",
       "_view_module_version": "~2.1.4"
      }
     },
     "e53422824a79400aa641c99e8848dce6": {
      "model_module": "jupyter-js-widgets",
      "model_module_version": "~2.1.4",
      "model_name": "LayoutModel",
      "state": {
       "_model_module_version": "~2.1.4",
       "_view_module_version": "~2.1.4"
      }
     },
     "e5636b4120ea4dd99c3042e22d1a1912": {
      "model_module": "jupyter-js-widgets",
      "model_module_version": "~2.1.4",
      "model_name": "LayoutModel",
      "state": {
       "_model_module_version": "~2.1.4",
       "_view_module_version": "~2.1.4"
      }
     },
     "e6254c00939d41999bc3edba2cae2507": {
      "model_module": "jupyter-js-widgets",
      "model_module_version": "~2.1.4",
      "model_name": "LayoutModel",
      "state": {
       "_model_module_version": "~2.1.4",
       "_view_module_version": "~2.1.4"
      }
     },
     "e6728e89528940299802216205995d66": {
      "model_module": "jupyter-js-widgets",
      "model_module_version": "~2.1.4",
      "model_name": "VBoxModel",
      "state": {
       "_dom_classes": [
        "widget-interact"
       ],
       "_model_module_version": "~2.1.4",
       "_view_module_version": "~2.1.4",
       "children": [
        "IPY_MODEL_bdd81aa772934d478c77e36984e6d1f2",
        "IPY_MODEL_110756acb275410596c1f5db380612ae",
        "IPY_MODEL_ac64222e57624970914fcdbb625c9e2d",
        "IPY_MODEL_207e50834fb34e049e1b8355b3cf3830",
        "IPY_MODEL_3f05d0a47693451b8bd0b2f3c4a824b9"
       ],
       "layout": "IPY_MODEL_761debbd93b843a8990c6796f3e54d64"
      }
     },
     "e6e65780ae804aa5a36766cb4e0b9852": {
      "model_module": "jupyter-js-widgets",
      "model_module_version": "~2.1.4",
      "model_name": "OutputModel",
      "state": {
       "_dom_classes": [],
       "_model_module": "jupyter-js-widgets",
       "_model_module_version": "~2.1.4",
       "_view_module": "jupyter-js-widgets",
       "_view_module_version": "~2.1.4",
       "layout": "IPY_MODEL_ed6d0298b61b4c238999b42d4a652bd2",
       "msg_throttle": 1
      }
     },
     "e70a397de5794d72ac46f8d3b9f98743": {
      "model_module": "jupyter-js-widgets",
      "model_module_version": "~2.1.4",
      "model_name": "LayoutModel",
      "state": {
       "_model_module_version": "~2.1.4",
       "_view_module_version": "~2.1.4"
      }
     },
     "e71d0078ea3d45acb0826f578417e39d": {
      "model_module": "jupyter-js-widgets",
      "model_module_version": "~2.1.4",
      "model_name": "LayoutModel",
      "state": {
       "_model_module_version": "~2.1.4",
       "_view_module_version": "~2.1.4"
      }
     },
     "e7cff4c11fa544b9a84068fd78757867": {
      "model_module": "jupyter-js-widgets",
      "model_module_version": "~2.1.4",
      "model_name": "DropdownModel",
      "state": {
       "_model_module_version": "~2.1.4",
       "_options_labels": [
        "line"
       ],
       "_view_module_version": "~2.1.4",
       "description": "widget",
       "layout": "IPY_MODEL_7c07947c4c12425f98582d5a5c84ba42",
       "value": "line"
      }
     },
     "e7d5f79c90dc45dc940e6053f3db296d": {
      "model_module": "jupyter-js-widgets",
      "model_module_version": "~2.1.4",
      "model_name": "LayoutModel",
      "state": {
       "_model_module_version": "~2.1.4",
       "_view_module_version": "~2.1.4"
      }
     },
     "e7ef50f960b544cba52976ff0daaa363": {
      "model_module": "jupyter-js-widgets",
      "model_module_version": "~2.1.4",
      "model_name": "LayoutModel",
      "state": {
       "_model_module_version": "~2.1.4",
       "_view_module_version": "~2.1.4"
      }
     },
     "e802f1565a474c4e8fb5842dd944d67c": {
      "model_module": "jupyter-js-widgets",
      "model_module_version": "~2.1.4",
      "model_name": "DropdownModel",
      "state": {
       "_model_module_version": "~2.1.4",
       "_options_labels": [
        "line"
       ],
       "_view_module_version": "~2.1.4",
       "description": "widget",
       "layout": "IPY_MODEL_d3974184425645839ee51df2bea8f9b6",
       "value": "line"
      }
     },
     "e82b884282314a49a883d1898eff1a99": {
      "model_module": "jupyter-js-widgets",
      "model_module_version": "~2.1.4",
      "model_name": "VBoxModel",
      "state": {
       "_dom_classes": [
        "widget-interact"
       ],
       "_model_module_version": "~2.1.4",
       "_view_module_version": "~2.1.4",
       "children": [
        "IPY_MODEL_c6fcc6b9523a43f08b5d03ec72e923aa",
        "IPY_MODEL_1c49eefb3f374eae8c1ed40a5c81fa05",
        "IPY_MODEL_0e917262e70e422fb862fcf03806fe2a",
        "IPY_MODEL_b99570e7bbec4f50ace11bf5df20f43f",
        "IPY_MODEL_e3bf8045ec624f68b01830e6f55c3720"
       ],
       "layout": "IPY_MODEL_e32631bc42294db680a7339d0709eaf7"
      }
     },
     "e859cf602bd74e888d4735472bf6a307": {
      "model_module": "jupyter-js-widgets",
      "model_module_version": "~2.1.4",
      "model_name": "DatePickerModel",
      "state": {
       "_model_module_version": "~2.1.4",
       "_view_module_version": "~2.1.4",
       "description": "Date end",
       "layout": "IPY_MODEL_55360994dba5420689bcf674c05bff3a",
       "value": {
        "date": 24,
        "hours": 13,
        "milliseconds": 742,
        "minutes": 4,
        "month": 9,
        "seconds": 33,
        "year": 2017
       }
      }
     },
     "e85fbc11f6f540d9bdf41afd3e03798a": {
      "model_module": "jupyter-js-widgets",
      "model_module_version": "~2.1.4",
      "model_name": "VBoxModel",
      "state": {
       "_dom_classes": [
        "widget-interact"
       ],
       "_model_module_version": "~2.1.4",
       "_view_module_version": "~2.1.4",
       "children": [
        "IPY_MODEL_6d0a60dfcdc5453d804503e21cf867e1",
        "IPY_MODEL_a5abdff6f70f4e02ac23e9cd3e3e3525",
        "IPY_MODEL_5800c18e140342888441715ab91f5927",
        "IPY_MODEL_a84dfbe1ba064c5687b5292f55c7537f",
        "IPY_MODEL_aee77664aebb4ca5ad44c9b7dc1283d4"
       ],
       "layout": "IPY_MODEL_87f3e82078a24313af926c18d9a0d783"
      }
     },
     "e88bc6df2e54475ea6316a97fed6a13a": {
      "model_module": "jupyter-js-widgets",
      "model_module_version": "~2.1.4",
      "model_name": "LayoutModel",
      "state": {
       "_model_module_version": "~2.1.4",
       "_view_module_version": "~2.1.4"
      }
     },
     "e8f7b52bebfe473d803d7c78d6d5c07c": {
      "model_module": "jupyter-js-widgets",
      "model_module_version": "~2.1.4",
      "model_name": "DropdownModel",
      "state": {
       "_model_module_version": "~2.1.4",
       "_options_labels": [
        "line"
       ],
       "_view_module_version": "~2.1.4",
       "description": "widget",
       "layout": "IPY_MODEL_a276cfc1b8374e3baee5ca319e1714c5",
       "value": "line"
      }
     },
     "e9db46135eec449cbde6f9b278cbc514": {
      "model_module": "jupyter-js-widgets",
      "model_module_version": "~2.1.4",
      "model_name": "DatePickerModel",
      "state": {
       "_model_module_version": "~2.1.4",
       "_view_module_version": "~2.1.4",
       "description": "Date end",
       "layout": "IPY_MODEL_32c35371b8134c20b3f0017e4acf57b2",
       "value": {
        "date": 24,
        "hours": 12,
        "milliseconds": 702,
        "minutes": 55,
        "month": 9,
        "seconds": 40,
        "year": 2017
       }
      }
     },
     "ea0ce65da4f049fe87db9e7a0ca98ac6": {
      "model_module": "jupyter-js-widgets",
      "model_module_version": "~2.1.4",
      "model_name": "LayoutModel",
      "state": {
       "_model_module_version": "~2.1.4",
       "_view_module_version": "~2.1.4",
       "align_items": "stretch",
       "display": "flex",
       "flex_flow": "row",
       "width": "100%"
      }
     },
     "ea40cbdd1e3f403a89add0d766b2135d": {
      "model_module": "jupyter-js-widgets",
      "model_module_version": "~2.1.4",
      "model_name": "DropdownModel",
      "state": {
       "_model_module_version": "~2.1.4",
       "_options_labels": [
        "Afghanistan",
        "Brazil",
        "Custom area"
       ],
       "_view_module_version": "~2.1.4",
       "description": "geostore",
       "layout": "IPY_MODEL_da5091b7b01c4d44bdb5d85e20ec7fe7",
       "value": "Afghanistan"
      }
     },
     "ea53316ad2c240aa89471a7e8588a29a": {
      "model_module": "jupyter-js-widgets",
      "model_module_version": "~2.1.4",
      "model_name": "DatePickerModel",
      "state": {
       "_model_module_version": "~2.1.4",
       "_view_module_version": "~2.1.4",
       "description": "Date begin",
       "layout": "IPY_MODEL_93f5cf3928a1440591a8eb697fd0ed57",
       "value": {
        "date": 1,
        "hours": 0,
        "milliseconds": 0,
        "minutes": 0,
        "month": 0,
        "seconds": 0,
        "year": 2017
       }
      }
     },
     "eaac6a372131495fb8d10690d0e21d4e": {
      "model_module": "jupyter-js-widgets",
      "model_module_version": "~2.1.4",
      "model_name": "TextareaModel",
      "state": {
       "_model_module_version": "~2.1.4",
       "_view_module_version": "~2.1.4",
       "description": "Query:",
       "layout": "IPY_MODEL_bc78eb0d5d484be8a40ba69e0ddfd206",
       "value": "SELECT acq_date as x, count(acq_date) as y FROM vnp14imgtdl_nrt_global_7d WHERE acq_date >='{date_begin}' and acq_date < '{date_end}' group by acq_date order by acq_date asc"
      }
     },
     "eaadce0f92c54adab8b49286db1c08a2": {
      "model_module": "jupyter-js-widgets",
      "model_module_version": "~2.1.4",
      "model_name": "DropdownModel",
      "state": {
       "_model_module_version": "~2.1.4",
       "_options_labels": [
        "Afghanistan",
        "Brazil",
        "Custom area"
       ],
       "_view_module_version": "~2.1.4",
       "description": "geostore",
       "layout": "IPY_MODEL_45f7b1ab0599431899877362de93f64a",
       "value": "Afghanistan"
      }
     },
     "eb88c96a6e1f45c28a21315b4f8a1cde": {
      "model_module": "jupyter-js-widgets",
      "model_module_version": "~2.1.4",
      "model_name": "LayoutModel",
      "state": {
       "_model_module_version": "~2.1.4",
       "_view_module_version": "~2.1.4"
      }
     },
     "ec9763f225ad40979ba8cbe029a8ba23": {
      "model_module": "jupyter-js-widgets",
      "model_module_version": "~2.1.4",
      "model_name": "LayoutModel",
      "state": {
       "_model_module_version": "~2.1.4",
       "_view_module_version": "~2.1.4"
      }
     },
     "ecaa977a6f884034b2a843cea9fb728a": {
      "model_module": "jupyter-js-widgets",
      "model_module_version": "~2.1.4",
      "model_name": "DatePickerModel",
      "state": {
       "_model_module_version": "~2.1.4",
       "_view_module_version": "~2.1.4",
       "description": "Date end",
       "layout": "IPY_MODEL_142b60e86d6f46618e84a2ff9a2da22d",
       "value": {
        "date": 24,
        "hours": 13,
        "milliseconds": 543,
        "minutes": 11,
        "month": 9,
        "seconds": 21,
        "year": 2017
       }
      }
     },
     "ecb473360ae14e43aa48c28538b7c06d": {
      "model_module": "jupyter-js-widgets",
      "model_module_version": "~2.1.4",
      "model_name": "LayoutModel",
      "state": {
       "_model_module_version": "~2.1.4",
       "_view_module_version": "~2.1.4"
      }
     },
     "ecfa9fd5b8714f4e89dc1ddc08e98630": {
      "model_module": "jupyter-js-widgets",
      "model_module_version": "~2.1.4",
      "model_name": "LayoutModel",
      "state": {
       "_model_module_version": "~2.1.4",
       "_view_module_version": "~2.1.4"
      }
     },
     "ed6d0298b61b4c238999b42d4a652bd2": {
      "model_module": "jupyter-js-widgets",
      "model_module_version": "~2.1.4",
      "model_name": "LayoutModel",
      "state": {
       "_model_module_version": "~2.1.4",
       "_view_module_version": "~2.1.4"
      }
     },
     "edb31f82ed3e4d9f99e36d311380b3cd": {
      "model_module": "jupyter-js-widgets",
      "model_module_version": "~2.1.4",
      "model_name": "LayoutModel",
      "state": {
       "_model_module_version": "~2.1.4",
       "_view_module_version": "~2.1.4"
      }
     },
     "edbc5fe3a4fa4d4488aeebdf046472aa": {
      "model_module": "jupyter-js-widgets",
      "model_module_version": "~2.1.4",
      "model_name": "DropdownModel",
      "state": {
       "_model_module_version": "~2.1.4",
       "_options_labels": [
        "line"
       ],
       "_view_module_version": "~2.1.4",
       "description": "widget",
       "layout": "IPY_MODEL_bacb754666b340a79574bdacd9a3d93a",
       "value": "line"
      }
     },
     "edd4d2ca1c3d41f7b6d370157d5be742": {
      "model_module": "jupyter-js-widgets",
      "model_module_version": "~2.1.4",
      "model_name": "LayoutModel",
      "state": {
       "_model_module_version": "~2.1.4",
       "_view_module_version": "~2.1.4"
      }
     },
     "edf6041f52c646dda471b3863af74939": {
      "model_module": "jupyter-js-widgets",
      "model_module_version": "~2.1.4",
      "model_name": "LayoutModel",
      "state": {
       "_model_module_version": "~2.1.4",
       "_view_module_version": "~2.1.4"
      }
     },
     "ee2ca140be54481d95bd1c276e0ab81c": {
      "model_module": "jupyter-js-widgets",
      "model_module_version": "~2.1.4",
      "model_name": "DatePickerModel",
      "state": {
       "_model_module_version": "~2.1.4",
       "_view_module_version": "~2.1.4",
       "description": "Date begin",
       "layout": "IPY_MODEL_729b624b77f74515b60ba4cf6f52e949",
       "value": {
        "date": 19,
        "hours": 0,
        "milliseconds": 0,
        "minutes": 0,
        "month": 9,
        "seconds": 0,
        "year": 2017
       }
      }
     },
     "ee5ad468cc60479a8fe2eaa2eadcf230": {
      "model_module": "jupyter-js-widgets",
      "model_module_version": "~2.1.4",
      "model_name": "LayoutModel",
      "state": {
       "_model_module_version": "~2.1.4",
       "_view_module_version": "~2.1.4"
      }
     },
     "ef78222482df46ba9338c3b26bd63139": {
      "model_module": "jupyter-js-widgets",
      "model_module_version": "~2.1.4",
      "model_name": "LayoutModel",
      "state": {
       "_model_module_version": "~2.1.4",
       "_view_module_version": "~2.1.4"
      }
     },
     "ef98eb6ed5ba4f18b0158a5899237024": {
      "model_module": "jupyter-js-widgets",
      "model_module_version": "~2.1.4",
      "model_name": "LayoutModel",
      "state": {
       "_model_module_version": "~2.1.4",
       "_view_module_version": "~2.1.4"
      }
     },
     "efe2a99b1cd440f79cdca36d078d57d9": {
      "model_module": "jupyter-js-widgets",
      "model_module_version": "~2.1.4",
      "model_name": "DatePickerModel",
      "state": {
       "_model_module_version": "~2.1.4",
       "_view_module_version": "~2.1.4",
       "description": "Date begin",
       "layout": "IPY_MODEL_cbc6d4824c0a48d9a15078a12bdd3412",
       "value": {
        "date": 18,
        "hours": 0,
        "milliseconds": 0,
        "minutes": 0,
        "month": 9,
        "seconds": 0,
        "year": 2017
       }
      }
     },
     "f02077ec492d4cab859833bb687ab2c5": {
      "model_module": "jupyter-js-widgets",
      "model_module_version": "~2.1.4",
      "model_name": "LayoutModel",
      "state": {
       "_model_module_version": "~2.1.4",
       "_view_module_version": "~2.1.4"
      }
     },
     "f0b9bf5dec2f4d59a3a760d560b371ea": {
      "model_module": "jupyter-js-widgets",
      "model_module_version": "~2.1.4",
      "model_name": "LayoutModel",
      "state": {
       "_model_module_version": "~2.1.4",
       "_view_module_version": "~2.1.4"
      }
     },
     "f0f44cd3631e486990fc36531f26e44f": {
      "model_module": "jupyter-js-widgets",
      "model_module_version": "~2.1.4",
      "model_name": "LayoutModel",
      "state": {
       "_model_module_version": "~2.1.4",
       "_view_module_version": "~2.1.4"
      }
     },
     "f15a1c53b4e84145a18d7490754517b7": {
      "model_module": "jupyter-js-widgets",
      "model_module_version": "~2.1.4",
      "model_name": "VBoxModel",
      "state": {
       "_dom_classes": [
        "widget-interact"
       ],
       "_model_module_version": "~2.1.4",
       "_view_module_version": "~2.1.4",
       "children": [
        "IPY_MODEL_e8f7b52bebfe473d803d7c78d6d5c07c",
        "IPY_MODEL_bc64c224076a485a88f2b57c6fef7931",
        "IPY_MODEL_a697f54bca634a998342a4f6678ddfeb",
        "IPY_MODEL_bb04b88ad9804388bed1203a0964eda6",
        "IPY_MODEL_999e2d8b4b5d44b28a8a6b7201e688f8"
       ],
       "layout": "IPY_MODEL_4f98633c63694292aa331c114ed70c72"
      }
     },
     "f17e1fe2735b4ceb92c03c3c5e855d73": {
      "model_module": "jupyter-js-widgets",
      "model_module_version": "~2.1.4",
      "model_name": "DatePickerModel",
      "state": {
       "_model_module_version": "~2.1.4",
       "_view_module_version": "~2.1.4",
       "description": "Date begin",
       "layout": "IPY_MODEL_1333c151064e4816b0dfebd63107302e",
       "value": {
        "date": 1,
        "hours": 0,
        "milliseconds": 0,
        "minutes": 0,
        "month": 0,
        "seconds": 0,
        "year": 2017
       }
      }
     },
     "f18f7ec8080b4f639904671faab4eac0": {
      "model_module": "jupyter-js-widgets",
      "model_module_version": "~2.1.4",
      "model_name": "LayoutModel",
      "state": {
       "_model_module_version": "~2.1.4",
       "_view_module_version": "~2.1.4"
      }
     },
     "f199bd68f734432881e2944bc489b755": {
      "model_module": "jupyter-js-widgets",
      "model_module_version": "~2.1.4",
      "model_name": "LayoutModel",
      "state": {
       "_model_module_version": "~2.1.4",
       "_view_module_version": "~2.1.4"
      }
     },
     "f1ca7ebedcdd4225ad267fc596ebdfd1": {
      "model_module": "jupyter-js-widgets",
      "model_module_version": "~2.1.4",
      "model_name": "LayoutModel",
      "state": {
       "_model_module_version": "~2.1.4",
       "_view_module_version": "~2.1.4"
      }
     },
     "f1f6a158d2a0459b8c587eeae47b973f": {
      "model_module": "jupyter-js-widgets",
      "model_module_version": "~2.1.4",
      "model_name": "LayoutModel",
      "state": {
       "_model_module_version": "~2.1.4",
       "_view_module_version": "~2.1.4"
      }
     },
     "f2012d91277247ecb3649422a22de16c": {
      "model_module": "jupyter-js-widgets",
      "model_module_version": "~2.1.4",
      "model_name": "LayoutModel",
      "state": {
       "_model_module_version": "~2.1.4",
       "_view_module_version": "~2.1.4"
      }
     },
     "f28dcb80199749ec80ac0fa1df4015a7": {
      "model_module": "jupyter-js-widgets",
      "model_module_version": "~2.1.4",
      "model_name": "LayoutModel",
      "state": {
       "_model_module_version": "~2.1.4",
       "_view_module_version": "~2.1.4"
      }
     },
     "f2b7774e3ff741599572b8997ce735c8": {
      "model_module": "jupyter-js-widgets",
      "model_module_version": "~2.1.4",
      "model_name": "LayoutModel",
      "state": {
       "_model_module_version": "~2.1.4",
       "_view_module_version": "~2.1.4"
      }
     },
     "f2dbbe8e37744f1386ec02f0e0b0c3e8": {
      "model_module": "jupyter-js-widgets",
      "model_module_version": "~2.1.4",
      "model_name": "LayoutModel",
      "state": {
       "_model_module_version": "~2.1.4",
       "_view_module_version": "~2.1.4"
      }
     },
     "f3384eeae0334c949c4bd54fc0cce07f": {
      "model_module": "jupyter-js-widgets",
      "model_module_version": "~2.1.4",
      "model_name": "LayoutModel",
      "state": {
       "_model_module_version": "~2.1.4",
       "_view_module_version": "~2.1.4"
      }
     },
     "f38a0a9c028048c29d750d8104f9cdcd": {
      "model_module": "jupyter-js-widgets",
      "model_module_version": "~2.1.4",
      "model_name": "LayoutModel",
      "state": {
       "_model_module_version": "~2.1.4",
       "_view_module_version": "~2.1.4"
      }
     },
     "f3f3f238a0a7470a88221754d1217705": {
      "model_module": "jupyter-js-widgets",
      "model_module_version": "~2.1.4",
      "model_name": "LayoutModel",
      "state": {
       "_model_module_version": "~2.1.4",
       "_view_module_version": "~2.1.4"
      }
     },
     "f4105495347c416dbdf0b131bc7437d3": {
      "model_module": "jupyter-js-widgets",
      "model_module_version": "~2.1.4",
      "model_name": "DatePickerModel",
      "state": {
       "_model_module_version": "~2.1.4",
       "_view_module_version": "~2.1.4",
       "description": "Date begin",
       "layout": "IPY_MODEL_ccac704bce9649f6b860f02efa4bc1ca",
       "value": {
        "date": 18,
        "hours": 0,
        "milliseconds": 0,
        "minutes": 0,
        "month": 9,
        "seconds": 0,
        "year": 2017
       }
      }
     },
     "f42dfc6bd5d04895bcc9c4925f0a0cf9": {
      "model_module": "jupyter-js-widgets",
      "model_module_version": "~2.1.4",
      "model_name": "DropdownModel",
      "state": {
       "_model_module_version": "~2.1.4",
       "_options_labels": [
        "line"
       ],
       "_view_module_version": "~2.1.4",
       "description": "widget",
       "layout": "IPY_MODEL_af32b956bdc847489ffcb7c2a72dd85e",
       "value": "line"
      }
     },
     "f46579a7e3594c25bee3165540785e95": {
      "model_module": "jupyter-js-widgets",
      "model_module_version": "~2.1.4",
      "model_name": "DropdownModel",
      "state": {
       "_model_module_version": "~2.1.4",
       "_options_labels": [
        "Afghanistan",
        "Brazil",
        "Custom area"
       ],
       "_view_module_version": "~2.1.4",
       "description": "geostore",
       "layout": "IPY_MODEL_272bf63634a44b3899f0213b3851cf12",
       "value": "Afghanistan"
      }
     },
     "f647ca91d67845da99525e815a28df02": {
      "model_module": "jupyter-js-widgets",
      "model_module_version": "~2.1.4",
      "model_name": "DropdownModel",
      "state": {
       "_model_module_version": "~2.1.4",
       "_options_labels": [
        "line"
       ],
       "_view_module_version": "~2.1.4",
       "description": "widget",
       "layout": "IPY_MODEL_6e661bc07dc744608a9b536c4e220b67",
       "value": "line"
      }
     },
     "f65f4827425c44879b85be43bd7bab75": {
      "model_module": "jupyter-js-widgets",
      "model_module_version": "~2.1.4",
      "model_name": "DropdownModel",
      "state": {
       "_model_module_version": "~2.1.4",
       "_options_labels": [
        "Afghanistan",
        "Brazil",
        "Custom area"
       ],
       "_view_module_version": "~2.1.4",
       "description": "geostore",
       "layout": "IPY_MODEL_d236c20906c042fd9492083a0c222628",
       "value": "Afghanistan"
      }
     },
     "f667bf8e363b446e87c1b5ad4c95092f": {
      "model_module": "jupyter-js-widgets",
      "model_module_version": "~2.1.4",
      "model_name": "LayoutModel",
      "state": {
       "_model_module_version": "~2.1.4",
       "_view_module_version": "~2.1.4"
      }
     },
     "f6b5dfb7348149ea83e53e93d39d39ae": {
      "model_module": "jupyter-js-widgets",
      "model_module_version": "~2.1.4",
      "model_name": "LayoutModel",
      "state": {
       "_model_module_version": "~2.1.4",
       "_view_module_version": "~2.1.4"
      }
     },
     "f6e25740fdd34d15aa751ad825612b8a": {
      "model_module": "jupyter-js-widgets",
      "model_module_version": "~2.1.4",
      "model_name": "TextareaModel",
      "state": {
       "_model_module_version": "~2.1.4",
       "_view_module_version": "~2.1.4",
       "description": "Url to query:",
       "layout": "IPY_MODEL_bc78eb0d5d484be8a40ba69e0ddfd206",
       "value": "https://api.resourcewatch.org/v1/query/20cc5eca-8c63-4c41-8e8e-134dcf1e6d76?sql={0}"
      }
     },
     "f8164108744640d59e5d3a31350787ba": {
      "model_module": "jupyter-js-widgets",
      "model_module_version": "~2.1.4",
      "model_name": "OutputModel",
      "state": {
       "_dom_classes": [],
       "_model_module": "jupyter-js-widgets",
       "_model_module_version": "~2.1.4",
       "_view_module": "jupyter-js-widgets",
       "_view_module_version": "~2.1.4",
       "layout": "IPY_MODEL_c248b4854b9d41fea3587447b199d4a0",
       "msg_throttle": 1
      }
     },
     "f860dcc5faa04505aa1574b22f56720a": {
      "model_module": "jupyter-js-widgets",
      "model_module_version": "~2.1.4",
      "model_name": "TextareaModel",
      "state": {
       "_model_module_version": "~2.1.4",
       "_view_module_version": "~2.1.4",
       "description": "Url to query:",
       "layout": "IPY_MODEL_6c612df9dde94913b3aa03f4e26341ab",
       "value": "https://api.resourcewatch.org/v1/query/20cc5eca-8c63-4c41-8e8e-134dcf1e6d76?sql={0}"
      }
     },
     "f867f2d937d6449db31361c585e16b08": {
      "model_module": "jupyter-js-widgets",
      "model_module_version": "~2.1.4",
      "model_name": "LayoutModel",
      "state": {
       "_model_module_version": "~2.1.4",
       "_view_module_version": "~2.1.4"
      }
     },
     "f884d167cee54782b07ef80ce8b28038": {
      "model_module": "jupyter-js-widgets",
      "model_module_version": "~2.1.4",
      "model_name": "DatePickerModel",
      "state": {
       "_model_module_version": "~2.1.4",
       "_view_module_version": "~2.1.4",
       "description": "Date begin",
       "layout": "IPY_MODEL_21b2e6a72cf948dd860a38687e27c2bf",
       "value": {
        "date": 1,
        "hours": 0,
        "milliseconds": 0,
        "minutes": 0,
        "month": 0,
        "seconds": 0,
        "year": 2017
       }
      }
     },
     "f89bab40e6854c73a62ccb93ef086ff2": {
      "model_module": "jupyter-js-widgets",
      "model_module_version": "~2.1.4",
      "model_name": "DropdownModel",
      "state": {
       "_model_module_version": "~2.1.4",
       "_options_labels": [
        "Afghanistan",
        "Brazil",
        "Custom area"
       ],
       "_view_module_version": "~2.1.4",
       "description": "geostore",
       "layout": "IPY_MODEL_03c895e33733470a858a9002af8764e8",
       "value": "Afghanistan"
      }
     },
     "f8e4e5e7517d4e64967f83e97aa4ac1d": {
      "model_module": "jupyter-js-widgets",
      "model_module_version": "~2.1.4",
      "model_name": "VBoxModel",
      "state": {
       "_dom_classes": [
        "widget-interact"
       ],
       "_model_module_version": "~2.1.4",
       "_view_module_version": "~2.1.4",
       "children": [
        "IPY_MODEL_9269b0c0dcd642ac9016d8c424c6346b",
        "IPY_MODEL_422072c8c6a84fe7a01715b9c4cb2c88",
        "IPY_MODEL_25113ec478f042b5a13c33ce7bb85a5f",
        "IPY_MODEL_e4c565e1bdd645208ecc220bf09750df",
        "IPY_MODEL_9311a4d1b4b24c5bbc9751f58cf7f9ae"
       ],
       "layout": "IPY_MODEL_930c274b16ad4820b5537115d139dfbf"
      }
     },
     "f91fc2be75ed4887b7c6e65e7c26a803": {
      "model_module": "jupyter-js-widgets",
      "model_module_version": "~2.1.4",
      "model_name": "DatePickerModel",
      "state": {
       "_model_module_version": "~2.1.4",
       "_view_module_version": "~2.1.4",
       "description": "Date begin",
       "layout": "IPY_MODEL_ff381d3531a44c0eb3d6fb3614d6732d",
       "value": {
        "date": 18,
        "hours": 0,
        "milliseconds": 0,
        "minutes": 0,
        "month": 9,
        "seconds": 0,
        "year": 2017
       }
      }
     },
     "fa0a4f481271456dbc56734f4936bf3a": {
      "model_module": "jupyter-js-widgets",
      "model_module_version": "~2.1.4",
      "model_name": "VBoxModel",
      "state": {
       "_dom_classes": [
        "widget-interact"
       ],
       "_model_module_version": "~2.1.4",
       "_view_module_version": "~2.1.4",
       "children": [
        "IPY_MODEL_c63f7605e0d644269ec26ce6ff3d7479",
        "IPY_MODEL_5b9446b29b8e4d76982ac2f77efb3d5f",
        "IPY_MODEL_c54fb71109d34ba086f5a854461a8373",
        "IPY_MODEL_2c1170020d184713b39c084862985d62",
        "IPY_MODEL_fd04a6502f9b424db8b307540c7ce630",
        "IPY_MODEL_6fce73fad75649beaeb1c7e4e71f5850",
        "IPY_MODEL_bdc7fe923ec642199634ee56a040fad2"
       ],
       "layout": "IPY_MODEL_d778e5a8cb14431ca07022bf9164c4ae"
      }
     },
     "fa1be02e846e4131a5578dda0b736f86": {
      "model_module": "jupyter-js-widgets",
      "model_module_version": "~2.1.4",
      "model_name": "DatePickerModel",
      "state": {
       "_model_module_version": "~2.1.4",
       "_view_module_version": "~2.1.4",
       "description": "Date end",
       "layout": "IPY_MODEL_4292f0b86ad9464bbf71da1a76e72a49",
       "value": {
        "date": 23,
        "hours": 17,
        "milliseconds": 770,
        "minutes": 59,
        "month": 9,
        "seconds": 44,
        "year": 2017
       }
      }
     },
     "fa7daf6a4a714896accba4624a06967c": {
      "model_module": "jupyter-js-widgets",
      "model_module_version": "~2.1.4",
      "model_name": "LayoutModel",
      "state": {
       "_model_module_version": "~2.1.4",
       "_view_module_version": "~2.1.4"
      }
     },
     "fa89b6d539ca4caf91bf39fa876be1f4": {
      "model_module": "jupyter-js-widgets",
      "model_module_version": "~2.1.4",
      "model_name": "LayoutModel",
      "state": {
       "_model_module_version": "~2.1.4",
       "_view_module_version": "~2.1.4"
      }
     },
     "fb54f26fe9554e6e9903cc274d515839": {
      "model_module": "jupyter-js-widgets",
      "model_module_version": "~2.1.4",
      "model_name": "LayoutModel",
      "state": {
       "_model_module_version": "~2.1.4",
       "_view_module_version": "~2.1.4"
      }
     },
     "fb7d500a6d7c472b9ba3722082b9c1a8": {
      "model_module": "jupyter-js-widgets",
      "model_module_version": "~2.1.4",
      "model_name": "LayoutModel",
      "state": {
       "_model_module_version": "~2.1.4",
       "_view_module_version": "~2.1.4"
      }
     },
     "fbc508d31f1e4175b80812797b1937ee": {
      "model_module": "jupyter-js-widgets",
      "model_module_version": "~2.1.4",
      "model_name": "LayoutModel",
      "state": {
       "_model_module_version": "~2.1.4",
       "_view_module_version": "~2.1.4"
      }
     },
     "fc0483e060d241df8996dc680523f330": {
      "model_module": "jupyter-js-widgets",
      "model_module_version": "~2.1.4",
      "model_name": "DropdownModel",
      "state": {
       "_model_module_version": "~2.1.4",
       "_options_labels": [
        "Afghanistan",
        "Brazil",
        "Custom area"
       ],
       "_view_module_version": "~2.1.4",
       "description": "geostore",
       "layout": "IPY_MODEL_218f0d732fd8446ab3815c36d9708e31",
       "value": "Afghanistan"
      }
     },
     "fc31505f151e4365b58f553995d7d685": {
      "model_module": "jupyter-js-widgets",
      "model_module_version": "~2.1.4",
      "model_name": "LayoutModel",
      "state": {
       "_model_module_version": "~2.1.4",
       "_view_module_version": "~2.1.4"
      }
     },
     "fcac333fb00d40babdfbdc81582a43b0": {
      "model_module": "jupyter-js-widgets",
      "model_module_version": "~2.1.4",
      "model_name": "DropdownModel",
      "state": {
       "_model_module_version": "~2.1.4",
       "_options_labels": [
        "line"
       ],
       "_view_module_version": "~2.1.4",
       "description": "widget",
       "layout": "IPY_MODEL_31e65af4f43042b6866b1b4bdb28226b",
       "value": "line"
      }
     },
     "fcbf3eb22d754f14b7edb4ca89bc57e8": {
      "model_module": "jupyter-js-widgets",
      "model_module_version": "~2.1.4",
      "model_name": "LayoutModel",
      "state": {
       "_model_module_version": "~2.1.4",
       "_view_module_version": "~2.1.4"
      }
     },
     "fd04a6502f9b424db8b307540c7ce630": {
      "model_module": "jupyter-js-widgets",
      "model_module_version": "~2.1.4",
      "model_name": "DatePickerModel",
      "state": {
       "_model_module_version": "~2.1.4",
       "_view_module_version": "~2.1.4",
       "description": "Date end",
       "layout": "IPY_MODEL_7389787bad5d46caa9cfb0e54986e7d8",
       "value": {
        "date": 24,
        "hours": 13,
        "milliseconds": 97,
        "minutes": 51,
        "month": 9,
        "seconds": 41,
        "year": 2017
       }
      }
     },
     "fd12f76e685a4939b02a83d810b129f8": {
      "model_module": "jupyter-js-widgets",
      "model_module_version": "~2.1.4",
      "model_name": "VBoxModel",
      "state": {
       "_dom_classes": [
        "widget-interact"
       ],
       "_model_module_version": "~2.1.4",
       "_view_module_version": "~2.1.4",
       "children": [
        "IPY_MODEL_52cf10f62f064fd0b94d0f275fe7faa4",
        "IPY_MODEL_dbfc481cb8414f4fb09b2affef142b54",
        "IPY_MODEL_ca68733f12ca4b2fb79f74726a60e046",
        "IPY_MODEL_78775b4aaf06421fb7ecb007ea4550ce",
        "IPY_MODEL_377e7eb98be4448b95821f591b71d6ab",
        "IPY_MODEL_ea40cbdd1e3f403a89add0d766b2135d",
        "IPY_MODEL_6b08fa74fcc148dd9174df814ae0fecf"
       ],
       "layout": "IPY_MODEL_363fddf3083b4b72ace6774b030def80"
      }
     },
     "fd57e33c8a374ea1ad23d96a33edbd91": {
      "model_module": "jupyter-js-widgets",
      "model_module_version": "~2.1.4",
      "model_name": "DropdownModel",
      "state": {
       "_model_module_version": "~2.1.4",
       "_options_labels": [
        "Afghanistan",
        "Brazil",
        "Custom area"
       ],
       "_view_module_version": "~2.1.4",
       "description": "geostore",
       "layout": "IPY_MODEL_b2a96812714d480d8eb213d56a94c1df",
       "value": "Brazil"
      }
     },
     "fe3dba5cfbb3490cb767717423601f08": {
      "model_module": "jupyter-js-widgets",
      "model_module_version": "~2.1.4",
      "model_name": "VBoxModel",
      "state": {
       "_dom_classes": [
        "widget-interact"
       ],
       "_model_module_version": "~2.1.4",
       "_view_module_version": "~2.1.4",
       "children": [
        "IPY_MODEL_3da918c0f98540d2b4386a5d15090235",
        "IPY_MODEL_ff541619996f4b928a3a8e0b07b95ffc",
        "IPY_MODEL_d08b6b29ed274f859e0493845920992e"
       ],
       "layout": "IPY_MODEL_e7ef50f960b544cba52976ff0daaa363"
      }
     },
     "ff381d3531a44c0eb3d6fb3614d6732d": {
      "model_module": "jupyter-js-widgets",
      "model_module_version": "~2.1.4",
      "model_name": "LayoutModel",
      "state": {
       "_model_module_version": "~2.1.4",
       "_view_module_version": "~2.1.4"
      }
     },
     "ff444813f3314165b5879ed00f885e5a": {
      "model_module": "jupyter-js-widgets",
      "model_module_version": "~2.1.4",
      "model_name": "LayoutModel",
      "state": {
       "_model_module_version": "~2.1.4",
       "_view_module_version": "~2.1.4"
      }
     },
     "ff541619996f4b928a3a8e0b07b95ffc": {
      "model_module": "jupyter-js-widgets",
      "model_module_version": "~2.1.4",
      "model_name": "FloatSliderModel",
      "state": {
       "_model_module_version": "~2.1.4",
       "_view_module_version": "~2.1.4",
       "description": "y",
       "layout": "IPY_MODEL_935488e157f8462699b84c58432f89dc",
       "max": 3,
       "min": -1,
       "step": 0.1,
       "value": -1
      }
     },
     "ff60d7bdfe7745459647b465a9ec7c9b": {
      "model_module": "jupyter-js-widgets",
      "model_module_version": "~2.1.4",
      "model_name": "VBoxModel",
      "state": {
       "_dom_classes": [
        "widget-interact"
       ],
       "_model_module_version": "~2.1.4",
       "_view_module_version": "~2.1.4",
       "children": [
        "IPY_MODEL_7ee754832f264ae6b1fe1fdde3ee9ef8",
        "IPY_MODEL_30547b9df8d247d8a128cebd4f9eda93",
        "IPY_MODEL_ecaa977a6f884034b2a843cea9fb728a",
        "IPY_MODEL_9c6286386d934c97b8cfd16699970cee",
        "IPY_MODEL_233cf99f11c446c2acabf93bdd2ddcd9"
       ],
       "layout": "IPY_MODEL_65bbf4c7188f43a7a0ea701123d30013"
      }
     },
     "ffc8daeafef84922986c766bc77b81f5": {
      "model_module": "jupyter-js-widgets",
      "model_module_version": "~2.1.4",
      "model_name": "DatePickerModel",
      "state": {
       "_model_module_version": "~2.1.4",
       "_view_module_version": "~2.1.4",
       "description": "Date begin",
       "layout": "IPY_MODEL_a3ebc9011fda4a829725a967968ae97d",
       "value": {
        "date": 18,
        "hours": 0,
        "milliseconds": 0,
        "minutes": 0,
        "month": 9,
        "seconds": 0,
        "year": 2017
       }
      }
     }
    },
    "version_major": 1,
    "version_minor": 0
   }
  }
 },
 "nbformat": 4,
 "nbformat_minor": 2
}
