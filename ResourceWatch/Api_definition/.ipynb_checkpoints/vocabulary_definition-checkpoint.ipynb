{
 "cells": [
  {
   "cell_type": "code",
   "execution_count": 25,
   "metadata": {
    "ExecuteTime": {
     "end_time": "2017-04-04T10:08:30.314338",
     "start_time": "2017-04-04T10:08:30.305990"
    },
    "collapsed": true
   },
   "outputs": [],
   "source": [
    "import requests\n",
    "import json\n",
    "import numpy as np"
   ]
  },
  {
   "cell_type": "code",
   "execution_count": 36,
   "metadata": {
    "ExecuteTime": {
     "end_time": "2017-04-04T11:24:49.453149",
     "start_time": "2017-04-04T11:24:47.469419"
    },
    "collapsed": false
   },
   "outputs": [
    {
     "name": "stdout",
     "output_type": "stream",
     "text": [
      "<Response [200]>\n",
      "4\n",
      "layerType\n",
      "layerTypes\n",
      "vocabularyOne\n",
      "legacy\n"
     ]
    }
   ],
   "source": [
    "##payload = {'q': \"select * from water_risk_indicators where indicator = 'water_stress' and model in ('bau', 'historic') and period='year' and type='absolute' and basinid = 7664 order by year asc\"}\n",
    "r = requests.get('http://api.resourcewatch.org/vocabulary?page[size]=1000')\n",
    "print(r)\n",
    "#print(json.dumps(r.json()['data'],sort_keys=True, indent=1))\n",
    "datasetCollection = np.array(r.json()['data'])\n",
    "print(len(datasetCollection))\n",
    "for value in r.json()['data']:\n",
    "    print(value['id'])"
   ]
  },
  {
   "cell_type": "code",
   "execution_count": 50,
   "metadata": {
    "ExecuteTime": {
     "end_time": "2017-04-04T13:56:31.464258",
     "start_time": "2017-04-04T13:56:30.201439"
    },
    "collapsed": false
   },
   "outputs": [
    {
     "name": "stdout",
     "output_type": "stream",
     "text": [
      "<Response [200]>\n",
      "72\n",
      "68\n"
     ]
    }
   ],
   "source": [
    "payload = {'page[size]': \"1000\",\n",
    "          'app':'rw',\n",
    "          'includes':''}\n",
    "sdf=0\n",
    "r = requests.get('http://api.resourcewatch.org/dataset',params = payload)\n",
    "print(r)\n",
    "#print(json.dumps(r.json()['data'],sort_keys=True, indent=1))\n",
    "datasetCollection = np.array(r.json()['data'])\n",
    "print(len(datasetCollection))\n",
    "for value in r.json()['data']:\n",
    "    if 'tableName' in value['attributes']:\n",
    "        sdf = sdf+1\n",
    "        \n",
    "print(sdf)"
   ]
  },
  {
   "cell_type": "markdown",
   "metadata": {},
   "source": [
    "## Vocabularies"
   ]
  },
  {
   "cell_type": "markdown",
   "metadata": {},
   "source": [
    "```json\n",
    "{\"location\":{\"tags\":[\"\"]},\n",
    "\n",
    "}\n",
    "\n",
    "\n",
    "``` "
   ]
  },
  {
   "cell_type": "code",
   "execution_count": null,
   "metadata": {
    "collapsed": true
   },
   "outputs": [],
   "source": []
  }
 ],
 "metadata": {
  "kernelspec": {
   "display_name": "Python 3",
   "language": "python",
   "name": "python3"
  },
  "language_info": {
   "codemirror_mode": {
    "name": "ipython",
    "version": 3
   },
   "file_extension": ".py",
   "mimetype": "text/x-python",
   "name": "python",
   "nbconvert_exporter": "python",
   "pygments_lexer": "ipython3",
   "version": "3.5.3"
  }
 },
 "nbformat": 4,
 "nbformat_minor": 2
}
