{
 "cells": [
  {
   "cell_type": "markdown",
   "metadata": {},
   "source": [
    "surface as raster proof of concept"
   ]
  },
  {
   "cell_type": "code",
   "execution_count": 8,
   "metadata": {
    "ExecuteTime": {
     "end_time": "2017-04-20T16:36:00.339025",
     "start_time": "2017-04-20T16:35:59.286165"
    }
   },
   "outputs": [
    {
     "name": "stdout",
     "output_type": "stream",
     "text": [
      "Requirement already satisfied: makesurface in /opt/conda/lib/python3.5/site-packages\n",
      "Requirement already satisfied: pyproj in /opt/conda/lib/python3.5/site-packages (from makesurface)\n",
      "Requirement already satisfied: shapely in /opt/conda/lib/python3.5/site-packages (from makesurface)\n",
      "Requirement already satisfied: rasterio in /opt/conda/lib/python3.5/site-packages (from makesurface)\n",
      "Requirement already satisfied: numpy in /opt/conda/lib/python3.5/site-packages (from makesurface)\n",
      "Requirement already satisfied: click>=3.0 in /opt/conda/lib/python3.5/site-packages (from makesurface)\n",
      "Requirement already satisfied: mercantile in /opt/conda/lib/python3.5/site-packages (from makesurface)\n",
      "Requirement already satisfied: fiona in /opt/conda/lib/python3.5/site-packages (from makesurface)\n",
      "Requirement already satisfied: scipy in /opt/conda/lib/python3.5/site-packages (from makesurface)\n",
      "Requirement already satisfied: affine in /opt/conda/lib/python3.5/site-packages (from rasterio->makesurface)\n",
      "Requirement already satisfied: cligj in /opt/conda/lib/python3.5/site-packages (from rasterio->makesurface)\n",
      "Requirement already satisfied: snuggs>=1.4.1 in /opt/conda/lib/python3.5/site-packages (from rasterio->makesurface)\n",
      "Requirement already satisfied: click-plugins in /opt/conda/lib/python3.5/site-packages (from rasterio->makesurface)\n",
      "Requirement already satisfied: six in /opt/conda/lib/python3.5/site-packages (from fiona->makesurface)\n",
      "Requirement already satisfied: munch in /opt/conda/lib/python3.5/site-packages (from fiona->makesurface)\n",
      "Requirement already satisfied: pyparsing in /opt/conda/lib/python3.5/site-packages (from snuggs>=1.4.1->rasterio->makesurface)\n"
     ]
    }
   ],
   "source": [
    "!pip install makesurface"
   ]
  },
  {
   "cell_type": "code",
   "execution_count": 11,
   "metadata": {
    "ExecuteTime": {
     "end_time": "2017-04-20T16:36:21.293271",
     "start_time": "2017-04-20T16:36:21.272871"
    }
   },
   "outputs": [
    {
     "ename": "ImportError",
     "evalue": "No module named 'scripts'",
     "output_type": "error",
     "traceback": [
      "\u001b[0;31m---------------------------------------------------------------------------\u001b[0m",
      "\u001b[0;31mImportError\u001b[0m                               Traceback (most recent call last)",
      "\u001b[0;32m<ipython-input-11-d1d4a70c9cfb>\u001b[0m in \u001b[0;36m<module>\u001b[0;34m()\u001b[0m\n\u001b[0;32m----> 1\u001b[0;31m \u001b[0;32mimport\u001b[0m \u001b[0mmakesurface\u001b[0m\u001b[0;34m.\u001b[0m\u001b[0mvectorize\u001b[0m\u001b[0;34m\u001b[0m\u001b[0m\n\u001b[0m",
      "\u001b[0;32m/opt/conda/lib/python3.5/site-packages/makesurface/__init__.py\u001b[0m in \u001b[0;36m<module>\u001b[0;34m()\u001b[0m\n\u001b[0;32m----> 1\u001b[0;31m \u001b[0;32mfrom\u001b[0m \u001b[0mscripts\u001b[0m \u001b[0;32mimport\u001b[0m \u001b[0mvectorize_raster\u001b[0m\u001b[0;34m,\u001b[0m \u001b[0mtriangulate_raster\u001b[0m\u001b[0;34m,\u001b[0m \u001b[0mfill_facets\u001b[0m\u001b[0;34m\u001b[0m\u001b[0m\n\u001b[0m\u001b[1;32m      2\u001b[0m \u001b[0;34m\u001b[0m\u001b[0m\n\u001b[1;32m      3\u001b[0m \u001b[0;32mdef\u001b[0m \u001b[0mvectorize\u001b[0m\u001b[0;34m(\u001b[0m\u001b[0minfile\u001b[0m\u001b[0;34m,\u001b[0m \u001b[0moutfile\u001b[0m\u001b[0;34m,\u001b[0m \u001b[0mclasses\u001b[0m\u001b[0;34m,\u001b[0m \u001b[0mclassfile\u001b[0m\u001b[0;34m,\u001b[0m \u001b[0mweight\u001b[0m\u001b[0;34m,\u001b[0m \u001b[0mnodata\u001b[0m\u001b[0;34m,\u001b[0m \u001b[0msmoothing\u001b[0m\u001b[0;34m,\u001b[0m \u001b[0mbidx\u001b[0m\u001b[0;34m,\u001b[0m \u001b[0mcartoCSS\u001b[0m\u001b[0;34m,\u001b[0m \u001b[0maxonometrize\u001b[0m\u001b[0;34m,\u001b[0m \u001b[0mnosimple\u001b[0m\u001b[0;34m,\u001b[0m \u001b[0msetNoData\u001b[0m\u001b[0;34m,\u001b[0m \u001b[0mnibbleMask\u001b[0m\u001b[0;34m,\u001b[0m \u001b[0moutvar\u001b[0m\u001b[0;34m)\u001b[0m\u001b[0;34m:\u001b[0m\u001b[0;34m\u001b[0m\u001b[0m\n\u001b[1;32m      4\u001b[0m     \u001b[0mvectorize_raster\u001b[0m\u001b[0;34m.\u001b[0m\u001b[0mvectorizeRaster\u001b[0m\u001b[0;34m(\u001b[0m\u001b[0minfile\u001b[0m\u001b[0;34m,\u001b[0m \u001b[0moutfile\u001b[0m\u001b[0;34m,\u001b[0m \u001b[0mclasses\u001b[0m\u001b[0;34m,\u001b[0m \u001b[0mclassfile\u001b[0m\u001b[0;34m,\u001b[0m \u001b[0mweight\u001b[0m\u001b[0;34m,\u001b[0m \u001b[0mnodata\u001b[0m\u001b[0;34m,\u001b[0m \u001b[0msmoothing\u001b[0m\u001b[0;34m,\u001b[0m \u001b[0mbidx\u001b[0m\u001b[0;34m,\u001b[0m \u001b[0mcartoCSS\u001b[0m\u001b[0;34m,\u001b[0m \u001b[0maxonometrize\u001b[0m\u001b[0;34m,\u001b[0m \u001b[0mnosimple\u001b[0m\u001b[0;34m,\u001b[0m \u001b[0msetNoData\u001b[0m\u001b[0;34m,\u001b[0m \u001b[0mnibbleMask\u001b[0m\u001b[0;34m,\u001b[0m \u001b[0moutvar\u001b[0m\u001b[0;34m)\u001b[0m\u001b[0;34m\u001b[0m\u001b[0m\n\u001b[1;32m      5\u001b[0m \u001b[0;34m\u001b[0m\u001b[0m\n",
      "\u001b[0;31mImportError\u001b[0m: No module named 'scripts'"
     ]
    }
   ],
   "source": [
    "\n"
   ]
  },
  {
   "cell_type": "code",
   "execution_count": null,
   "metadata": {
    "collapsed": true
   },
   "outputs": [],
   "source": []
  }
 ],
 "metadata": {
  "hide_input": false,
  "kernelspec": {
   "display_name": "Python 3",
   "language": "python",
   "name": "python3"
  },
  "language_info": {
   "codemirror_mode": {
    "name": "ipython",
    "version": 3
   },
   "file_extension": ".py",
   "mimetype": "text/x-python",
   "name": "python",
   "nbconvert_exporter": "python",
   "pygments_lexer": "ipython3",
   "version": "3.5.3"
  },
  "toc": {
   "colors": {
    "hover_highlight": "#DAA520",
    "running_highlight": "#FF0000",
    "selected_highlight": "#FFD700"
   },
   "moveMenuLeft": true,
   "nav_menu": {
    "height": "12px",
    "width": "252px"
   },
   "navigate_menu": true,
   "number_sections": true,
   "sideBar": true,
   "threshold": 4,
   "toc_cell": false,
   "toc_section_display": "block",
   "toc_window_display": false
  }
 },
 "nbformat": 4,
 "nbformat_minor": 2
}
