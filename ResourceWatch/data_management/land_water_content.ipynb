{
 "cells": [
  {
   "cell_type": "code",
   "execution_count": 51,
   "metadata": {
    "ExecuteTime": {
     "end_time": "2017-05-11T10:52:15.210968",
     "start_time": "2017-05-11T10:52:13.786062"
    },
    "collapsed": false,
    "deletable": true,
    "editable": true
   },
   "outputs": [],
   "source": [
    "\n",
    "%matplotlib inline\n",
    "#import wget\n",
    "#import xarray\n",
    "import os\n",
    "import matplotlib.pyplot as plt\n",
    "import numpy as np\n",
    "import rasterio\n",
    "import pydap\n",
    "from datetime import date, timedelta\n",
    "from pydap.client import open_url\n",
    "from pydap.cas.urs import setup_session"
   ]
  },
  {
   "cell_type": "markdown",
   "metadata": {
    "collapsed": false,
    "deletable": true,
    "editable": true
   },
   "source": [
    "## Soil moisture/root water/ rainfall Data"
   ]
  },
  {
   "cell_type": "code",
   "execution_count": null,
   "metadata": {
    "ExecuteTime": {
     "end_time": "2017-05-11T10:38:37.696358",
     "start_time": "2017-05-11T10:38:28.980072"
    },
    "collapsed": false,
    "deletable": true,
    "editable": true
   },
   "outputs": [],
   "source": [
    "dataset_url = 'https://hydro1.gesdisc.eosdis.nasa.gov/opendap/hyrax/GLDAS/GLDAS_NOAH025_M.2.1/2017/GLDAS_NOAH025_M.A201701.021.nc4'\n",
    "session = setup_session(<user>, <pass>, check_url=dataset_url)\n",
    "dataset = open_url(dataset_url, session=session)\n",
    "#url='ftp://podaac-ftp.jpl.nasa.gov/allData/tellus/L3/gldas_monthly/netcdf/GLDAS_NOAH10_M.A200101_201501.totalH2O.nc'\n",
    "#name = url.split(\"/\")[-1]\n",
    "#wget.download(url)"
   ]
  },
  {
   "cell_type": "code",
   "execution_count": 2,
   "metadata": {
    "collapsed": true,
    "deletable": true,
    "editable": true
   },
   "outputs": [],
   "source": [
    "def dataConnection(url): \n",
    "    session = setup_session(<user>, <pass>, check_url=url)\n",
    "    filename = open_url(url, session=session)\n",
    "    print('Data connected')\n",
    "    return filename"
   ]
  },
  {
   "cell_type": "code",
   "execution_count": 7,
   "metadata": {
    "collapsed": true,
    "deletable": true,
    "editable": true
   },
   "outputs": [],
   "source": [
    "def earthdata2tif(dataset,variable,outFile):\n",
    "    metadata = dataset.attributes['HDF5_GLOBAL']\n",
    "    Wdata = dataset[variable][0][:][:]\n",
    "    # Return basic info to be used in the profile\n",
    "    rows, columns = Wdata[0].shape\n",
    "    flipped_array = np.flipud(Wdata[0])\n",
    "    # Return lat - lon info\n",
    "    north = metadata['SOUTH_WEST_CORNER_LAT'] + (rows * metadata['DY'])\n",
    "    west = metadata['SOUTH_WEST_CORNER_LON']\n",
    "    # Transformation function\n",
    "    trans = rasterio.transform.from_origin(west, north, metadata['DX'], metadata['DY'])\n",
    "    # Profile\n",
    "    profile = {'driver': 'GTiff', \n",
    "           'dtype': 'float64',\n",
    "           'compress': 'lzw',\n",
    "           'nodata': metadata['missing_value'],\n",
    "           'width': columns,\n",
    "           'height': rows,\n",
    "           'count': 1,\n",
    "           'crs':'EPSG:4326',\n",
    "           'transform': trans,\n",
    "           'tiled': False}\n",
    "    # tif creation\n",
    "    with rasterio.open(outFile, 'w', **profile) as dst:\n",
    "        dst.write(flipped_array.astype(profile['dtype']), 1)\n",
    "    print('transformation finish')"
   ]
  },
  {
   "cell_type": "code",
   "execution_count": null,
   "metadata": {
    "collapsed": true,
    "deletable": true,
    "editable": true
   },
   "outputs": [],
   "source": [
    "# S3 upload\n",
    "def s3Upload(outFile):\n",
    "    conn = tinys3.Connection(os.getenv('S3_ACCESS_KEY'),os.getenv('S3_SECRET_KEY'), tls=True, default_bucket=os.getenv('BUCKET'), endpoint=\"s3.amazonaws.com\")\n",
    "    # So we could skip the bucket parameter on every request\n",
    "    response = conn.upload(key=outFile, local_file=open(outFile,'rb'), public=True, close=True)\n",
    "    if response.status_code==200:\n",
    "        print('SUCCESS')\n",
    "    else:\n",
    "        print('UPLOAD PROCESS FAILURE STATUS CODE:' + str(response.status_code))\n",
    "        print(response.content)\n"
   ]
  },
  {
   "cell_type": "code",
   "execution_count": 64,
   "metadata": {
    "collapsed": false,
    "deletable": true,
    "editable": true
   },
   "outputs": [],
   "source": [
    "# Execution\n",
    "def main():\n",
    "    #variables\n",
    "    outFile ={'SoilMoi0_10cm_inst':'landWaterContent.tif',\n",
    "              'SoilTMP0_10m_inst':'SoilWaterContent.tif',\n",
    "              'Rainff_tavg':'Rainfall.tif'}\n",
    "    # start point\n",
    "    today = date.today()\n",
    "    lastDate = today - timedelta(days=(today.day))\n",
    "    url = 'https://hydro1.gesdisc.eosdis.nasa.gov/opendap/hyrax/GLDAS/GLDAS_NOAH025_M.2.1/'+ lastDate.strftime(\"%Y\") +'/GLDAS_NOAH025_M.A' + lastDate.strftime(\"%Y%m\") + '.021.nc4' \n",
    "    print(url)\n",
    "    try:\n",
    "        file = dataConnection(url)\n",
    "        dataKeys = list(set(file.keys()).intersection(outFile.keys()))\n",
    "        if len(dataKeys)!=0:\n",
    "            if len(dataKeys)<len(outFile.keys()):\n",
    "                print(list(set(outFile.keys()).difference(dataKeys)))\n",
    "            for indicator in dataKeys:\n",
    "                earthdata2tif(file,indicator,outFile[indicator])\n",
    "                s3Upload(outFile[indicator])\n",
    "        else:\n",
    "            print('beee')\n",
    "    except IOError:\n",
    "        print('cannot open')\n",
    "    "
   ]
  },
  {
   "cell_type": "code",
   "execution_count": 65,
   "metadata": {
    "collapsed": false,
    "deletable": true,
    "editable": true
   },
   "outputs": [
    {
     "name": "stdout",
     "output_type": "stream",
     "text": [
      "https://hydro1.gesdisc.eosdis.nasa.gov/opendap/hyrax/GLDAS/GLDAS_NOAH025_M.2.1/2017/GLDAS_NOAH025_M.A201704.021.nc4\n",
      "Data connected\n",
      "['Rainff_tavg', 'SoilTMP0_10m_inst']\n",
      "transformation finish\n"
     ]
    }
   ],
   "source": [
    "main()\n"
   ]
  },
  {
   "cell_type": "code",
   "execution_count": 10,
   "metadata": {
    "collapsed": false,
    "deletable": true,
    "editable": true,
    "scrolled": true
   },
   "outputs": [
    {
     "name": "stdout",
     "output_type": "stream",
     "text": [
      "[[-9999. -9999. -9999. ..., -9999. -9999. -9999.]\n",
      " [-9999. -9999. -9999. ..., -9999. -9999. -9999.]\n",
      " [-9999. -9999. -9999. ..., -9999. -9999. -9999.]\n",
      " ..., \n",
      " [-9999. -9999. -9999. ..., -9999. -9999. -9999.]\n",
      " [-9999. -9999. -9999. ..., -9999. -9999. -9999.]\n",
      " [-9999. -9999. -9999. ..., -9999. -9999. -9999.]]\n"
     ]
    },
    {
     "data": {
      "text/plain": [
       "<matplotlib.image.AxesImage at 0x7f99956cc128>"
      ]
     },
     "execution_count": 10,
     "metadata": {},
     "output_type": "execute_result"
    },
    {
     "data": {
      "image/png": "[encoded data removed]",
      "text/plain": [
       "<matplotlib.figure.Figure at 0x7f9997b1d978>"
      ]
     },
     "metadata": {},
     "output_type": "display_data"
    }
   ],
   "source": [
    "Wdata = file.SoilMoi0_10cm_inst[0][:][:]\n",
    "print(Wdata[0])\n",
    "plt.imshow(np.flipud(Wdata[0]))"
   ]
  },
  {
   "cell_type": "code",
   "execution_count": 29,
   "metadata": {
    "ExecuteTime": {
     "end_time": "2017-05-10T15:49:48.907302",
     "start_time": "2017-05-10T15:49:48.612023"
    },
    "collapsed": false,
    "deletable": true,
    "editable": true,
    "scrolled": true
   },
   "outputs": [
    {
     "data": {
      "text/plain": [
       "dict_keys(['SoilMoi0_10cm_ins', 'Rainff_tavg', 'SoilTMP0_10m_inst'])"
      ]
     },
     "execution_count": 29,
     "metadata": {},
     "output_type": "execute_result"
    }
   ],
   "source": [
    "outFile ={'SoilMoi0_10cm_ins':'landWaterContent.tif',\n",
    "              'SoilTMP0_10m_inst':'landWaterContent.tif',\n",
    "              'Rainff_tavg':'landWaterContent.tif'}\n",
    "outFile.keys()\n",
    "\n",
    "#c = list(set(a).intersection(b))\n",
    "\n"
   ]
  }
 ],
 "metadata": {
  "kernelspec": {
   "display_name": "Python 3",
   "language": "python",
   "name": "python3"
  },
  "language_info": {
   "codemirror_mode": {
    "name": "ipython",
    "version": 3
   },
   "file_extension": ".py",
   "mimetype": "text/x-python",
   "name": "python",
   "nbconvert_exporter": "python",
   "pygments_lexer": "ipython3",
   "version": "3.5.3"
  }
 },
 "nbformat": 4,
 "nbformat_minor": 2
}
