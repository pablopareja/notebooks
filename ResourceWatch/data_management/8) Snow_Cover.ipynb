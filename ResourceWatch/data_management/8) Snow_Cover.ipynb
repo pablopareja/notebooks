{
 "cells": [
  {
   "cell_type": "markdown",
   "metadata": {},
   "source": [
    "<br />\n",
    "<div style=\"text-align: center;\">\n",
    "    <span style=\"font-weight: bold; color:#6dc; font-family: 'Arial Narrow'; font-size: 3.5em;\">Global Snow Cover</span>\n",
    "</div>\n",
    "\n",
    "<span style=\"color:#333; font-family: 'Arial'; font-size: 1.1em;\"> Data Taken from: ftp://neoftp.sci.gsfc.nasa.gov/geotiff/MOD10C1_M_SNOW/<br />\n",
    "<br /></span>"
   ]
  },
  {
   "cell_type": "code",
   "execution_count": 15,
   "metadata": {
    "collapsed": true
   },
   "outputs": [],
   "source": [
    "import numpy as np\n",
    "import pandas as pd\n",
    "import os\n",
    "import rasterio\n",
    "import urllib2\n",
    "import shutil\n",
    "from contextlib import closing\n",
    "from netCDF4 import Dataset\n",
    "import datetime\n",
    "import tinys3\n",
    "np.set_printoptions(threshold='nan')"
   ]
  },
  {
   "cell_type": "code",
   "execution_count": 7,
   "metadata": {
    "collapsed": true
   },
   "outputs": [],
   "source": [
    "def dataDownload(): \n",
    "    \n",
    "    remote_path = 'ftp://neoftp.sci.gsfc.nasa.gov/geotiff/MOD10C1_M_SNOW/'\n",
    "    print remote_path\n",
    "\n",
    "    local_path = os.getcwd()\n",
    "\n",
    "    listing = []\n",
    "    response = urllib2.urlopen(remote_path)\n",
    "    for line in response:\n",
    "        listing.append(line.rstrip())\n",
    "\n",
    "    s2=pd.DataFrame(listing)\n",
    "    s3=s2[0].str.split()\n",
    "    s4=s3[len(s3)-1]\n",
    "    last_file = s4[8]\n",
    "    print 'The last file is: ',last_file\n",
    "\n",
    "    with closing(urllib2.urlopen(remote_path+last_file)) as r:\n",
    "        with open(last_file, 'wb') as f:\n",
    "            shutil.copyfileobj(r, f)\n",
    "\n",
    "    with rasterio.open(local_path+'/'+last_file) as src:\n",
    "        npixels = src.width * src.height\n",
    "        for i in src.indexes:\n",
    "            band = src.read(i)\n",
    "            print(i, band.min(), band.max(), band.sum()/npixels)\n",
    "\n",
    "    \n",
    "    return last_file"
   ]
  },
  {
   "cell_type": "code",
   "execution_count": 12,
   "metadata": {
    "collapsed": true
   },
   "outputs": [],
   "source": [
    "def tiffile(dst,outFile):\n",
    "    \n",
    "    \n",
    "    CM_IN_FOOT = 30.48\n",
    "\n",
    "\n",
    "    with rasterio.open(file) as src:\n",
    "        kwargs = src.meta\n",
    "        kwargs.update(\n",
    "            driver='GTiff',\n",
    "            dtype=rasterio.float64,  #rasterio.int16, rasterio.int32, rasterio.uint8,rasterio.uint16, rasterio.uint32, rasterio.float32, rasterio.float64\n",
    "            count=1,\n",
    "            compress='lzw',\n",
    "            nodata=0,\n",
    "            bigtiff='NO' \n",
    "        )\n",
    "\n",
    "        windows = src.block_windows(1)\n",
    "\n",
    "        with rasterio.open(outFile,'w',**kwargs) as dst:\n",
    "            for idx, window in windows:\n",
    "                src_data = src.read(1, window=window)\n",
    "\n",
    "                # Source nodata value is a very small negative number\n",
    "                # Converting in to zero for the output raster\n",
    "                np.putmask(src_data, src_data < 0, 0)\n",
    "\n",
    "                dst_data = (src_data * CM_IN_FOOT).astype(rasterio.float64)\n",
    "                dst.write_band(1, dst_data, window=window)\n",
    "    os.remove('./'+file)"
   ]
  },
  {
   "cell_type": "code",
   "execution_count": 13,
   "metadata": {
    "collapsed": true
   },
   "outputs": [],
   "source": [
    "def s3Upload(outFile):\n",
    "    # Push to Amazon S3 instance\n",
    "    conn = tinys3.Connection(os.getenv('S3_ACCESS_KEY'),os.getenv('S3_SECRET_KEY'),tls=True)\n",
    "    f = open(outFile,'rb')\n",
    "    conn.upload(outFile,f,os.getenv('BUCKET'))"
   ]
  },
  {
   "cell_type": "code",
   "execution_count": 14,
   "metadata": {
    "collapsed": false
   },
   "outputs": [
    {
     "name": "stdout",
     "output_type": "stream",
     "text": [
      "starting\n",
      "ftp://neoftp.sci.gsfc.nasa.gov/geotiff/MOD10C1_M_SNOW/\n",
      "The last file is:  MOD10C1_M_SNOW_2016-12.TIFF\n",
      "(1, 0, 255, 221.63662299382716)\n",
      "downloaded\n",
      "converted\n",
      "finish\n"
     ]
    }
   ],
   "source": [
    "# Execution\n",
    "outFile = 'snow_cover.tiff'\n",
    "\n",
    "print 'starting'\n",
    "file = dataDownload()\n",
    "print 'downloaded'\n",
    "tiffile(file,outFile)\n",
    "print 'converted'\n",
    "#s3Upload(outFile)\n",
    "print 'finish'"
   ]
  }
 ],
 "metadata": {
  "anaconda-cloud": {},
  "kernelspec": {
   "display_name": "Python [default]",
   "language": "python",
   "name": "python2"
  },
  "language_info": {
   "codemirror_mode": {
    "name": "ipython",
    "version": 2
   },
   "file_extension": ".py",
   "mimetype": "text/x-python",
   "name": "python",
   "nbconvert_exporter": "python",
   "pygments_lexer": "ipython2",
   "version": "2.7.13"
  }
 },
 "nbformat": 4,
 "nbformat_minor": 2
}
