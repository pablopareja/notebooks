{
 "cells": [
  {
   "cell_type": "code",
   "execution_count": 1,
   "metadata": {
    "collapsed": true
   },
   "outputs": [],
   "source": [
    "import pandas as pd\n",
    "import numpy as np\n",
    "import time\n",
    "from os.path import basename, dirname, exists\n",
    "import os\n",
    "import rasterio\n",
    "import glob\n",
    "import ftplib\n",
    "import urllib2\n",
    "import zipfile\n",
    "import gzip\n",
    "import shutil\n",
    "from contextlib import closing"
   ]
  },
  {
   "cell_type": "code",
   "execution_count": 4,
   "metadata": {
    "collapsed": true
   },
   "outputs": [],
   "source": [
    "%matplotlib inline"
   ]
  },
  {
   "cell_type": "code",
   "execution_count": 2,
   "metadata": {},
   "outputs": [
    {
     "name": "stdout",
     "output_type": "stream",
     "text": [
      "gzip: can't open 'chirps-v2.0.2017.03.31.tif': File exists\n",
      "Driver: GTiff/GeoTIFF\n",
      "Files: chirps-v2.0.2017.03.31.tif\n",
      "Size is 7200, 2000\n",
      "Coordinate System is:\n",
      "GEOGCS[\"WGS 84\",\n",
      "    DATUM[\"WGS_1984\",\n",
      "        SPHEROID[\"WGS 84\",6378137,298.257223563,\n",
      "            AUTHORITY[\"EPSG\",\"7030\"]],\n",
      "        AUTHORITY[\"EPSG\",\"6326\"]],\n",
      "    PRIMEM[\"Greenwich\",0],\n",
      "    UNIT[\"degree\",0.0174532925199433],\n",
      "    AUTHORITY[\"EPSG\",\"4326\"]]\n",
      "Origin = (-180.000000000000000,50.000000000000000)\n",
      "Pixel Size = (0.050000000745058,-0.050000000745058)\n",
      "Metadata:\n",
      "  AREA_OR_POINT=Area\n",
      "  TIFFTAG_DATETIME=2017:04:18 15:48:04\n",
      "  TIFFTAG_DOCUMENTNAME=/home/sandbox/chirps/v2.0/daily_downscaled_by_monthly/global_full_rescale_again/2017/chirps-v2.0.2017.03.31.tif\n",
      "  TIFFTAG_IMAGEDESCRIPTION=IDL TIFF file\n",
      "  TIFFTAG_RESOLUTIONUNIT=2 (pixels/inch)\n",
      "  TIFFTAG_SOFTWARE=IDL 8.5, Exelis Visual Information Solutions, Inc., a subsidiary of Harris Corporation.\n",
      "  TIFFTAG_XRESOLUTION=100\n",
      "  TIFFTAG_YRESOLUTION=100\n",
      "Image Structure Metadata:\n",
      "  INTERLEAVE=BAND\n",
      "Corner Coordinates:\n",
      "Upper Left  (-180.0000000,  50.0000000) (180d 0' 0.00\"W, 50d 0' 0.00\"N)\n",
      "Lower Left  (-180.0000000, -50.0000015) (180d 0' 0.00\"W, 50d 0' 0.01\"S)\n",
      "Upper Right ( 180.0000054,  50.0000000) (180d 0' 0.02\"E, 50d 0' 0.00\"N)\n",
      "Lower Right ( 180.0000054, -50.0000015) (180d 0' 0.02\"E, 50d 0' 0.01\"S)\n",
      "Center      (   0.0000027,  -0.0000007) (  0d 0' 0.01\"E,  0d 0' 0.00\"S)\n",
      "Band 1 Block=7200x1 Type=Float32, ColorInterp=Gray\n"
     ]
    }
   ],
   "source": [
    "#urllib.urlretrieve('ftp://chg-ftpout.geog.ucsb.edu/pub/org/chg/products/CHIRPS-2.0/global_daily/tifs/p05/2017/chirps-v2.0.2017.03.31.tif.gz', 'chirps-v2.0.2017.03.31.tif.gz')\n",
    "with closing(urllib2.urlopen('ftp://chg-ftpout.geog.ucsb.edu/pub/org/chg/products/CHIRPS-2.0/global_daily/tifs/p05/2017/chirps-v2.0.2017.03.31.tif.gz')) as r:\n",
    "    with open('chirps-v2.0.2017.03.31.tif.gz', 'wb') as f:\n",
    "        shutil.copyfileobj(r, f)\n",
    "!gzip -d chirps-v2.0.2017.03.31.tif.gz\n",
    "!gdalinfo chirps-v2.0.2017.03.31.tif"
   ]
  },
  {
   "cell_type": "code",
   "execution_count": 5,
   "metadata": {},
   "outputs": [
    {
     "name": "stdout",
     "output_type": "stream",
     "text": [
      "Source:  <open DatasetReader name='./chirps-v2.0.2017.03.31.tif' mode='r'>\n",
      "Source mode:  r\n",
      ".TIF Shape:  (2000, 7200)\n",
      "Source type: ('float32',)\n",
      "CRS({'init': u'epsg:4326'})\n",
      "| 0.05, 0.00,-180.00|\n",
      "| 0.00,-0.05, 50.00|\n",
      "| 0.00, 0.00, 1.00|\n"
     ]
    },
    {
     "data": {
      "image/png": "[encoded data removed]",
      "text/plain": [
       "<matplotlib.figure.Figure at 0x7f895d27bf10>"
      ]
     },
     "metadata": {},
     "output_type": "display_data"
    }
   ],
   "source": [
    "src = rasterio.open('./chirps-v2.0.2017.03.31.tif')\n",
    "print 'Source: ',src\n",
    "print 'Source mode: ',src.mode\n",
    "\n",
    "array = src.read(1)\n",
    "print '.TIF Shape: ',array.shape\n",
    "\n",
    "print 'Source type:',src.dtypes\n",
    "print(src.crs)\n",
    "print(src.transform)\n",
    "\n",
    "from matplotlib import pyplot\n",
    "pyplot.imshow(array, cmap='RdYlBu_r')\n",
    "\n",
    "pyplot.show()"
   ]
  },
  {
   "cell_type": "code",
   "execution_count": 6,
   "metadata": {},
   "outputs": [
    {
     "name": "stdout",
     "output_type": "stream",
     "text": [
      "(1, -9999.0, 320.11279, -7318.9137066666663)\n"
     ]
    }
   ],
   "source": [
    "with rasterio.open('./chirps-v2.0.2017.03.31.tif') as src:\n",
    "    npixels = src.width * src.height\n",
    "    for i in src.indexes:\n",
    "        band = src.read(i)\n",
    "        print(i, band.min(), band.max(), band.sum()/npixels)"
   ]
  },
  {
   "cell_type": "code",
   "execution_count": 8,
   "metadata": {},
   "outputs": [],
   "source": [
    "CM_IN_FOOT = 30.48\n",
    "\n",
    "\n",
    "with rasterio.open('./chirps-v2.0.2017.03.31.tif') as src:\n",
    "    kwargs = src.meta\n",
    "    kwargs.update(\n",
    "        driver='GTiff',\n",
    "        dtype=rasterio.float64,  #rasterio.int16, rasterio.int32, rasterio.uint8,rasterio.uint16, rasterio.uint32, rasterio.float32, rasterio.float64\n",
    "        count=1,\n",
    "        compress='lzw',\n",
    "        nodata=0,\n",
    "        bigtiff='YES' # Output will be larger than 4GB\n",
    "    )\n",
    "\n",
    "    windows = src.block_windows(1)\n",
    "\n",
    "    with rasterio.open('./chirps-v2.0.2017.03.31.tif','w',**kwargs) as dst:\n",
    "        for idx, window in windows:\n",
    "            src_data = src.read(1, window=window)\n",
    "\n",
    "            # Source nodata value is a very small negative number\n",
    "            # Converting in to zero for the output raster\n",
    "            np.putmask(src_data, src_data < 0, 0)\n",
    "\n",
    "            dst_data = (src_data * CM_IN_FOOT).astype(rasterio.float64)\n",
    "            dst.write_band(1, dst_data, window=window)"
   ]
  },
  {
   "cell_type": "code",
   "execution_count": 9,
   "metadata": {},
   "outputs": [
    {
     "name": "stdout",
     "output_type": "stream",
     "text": [
      "Source:  <open DatasetReader name='./chirps-v2.0.2017.03.31.tif' mode='r'>\n",
      "Source mode:  r\n",
      ".TIF Shape:  (2000, 7200)\n",
      "Source type: ('float64',)\n",
      "CRS({'init': u'epsg:4326'})\n",
      "| 0.05, 0.00,-180.00|\n",
      "| 0.00,-0.05, 50.00|\n",
      "| 0.00, 0.00, 1.00|\n"
     ]
    },
    {
     "data": {
      "image/png": "[encoded data removed]",
      "text/plain": [
       "<matplotlib.figure.Figure at 0x7f895d303ed0>"
      ]
     },
     "metadata": {},
     "output_type": "display_data"
    }
   ],
   "source": [
    "src = rasterio.open('./chirps-v2.0.2017.03.31.tif')\n",
    "print 'Source: ',src\n",
    "print 'Source mode: ',src.mode\n",
    "\n",
    "array = src.read(1)\n",
    "print '.TIF Shape: ',array.shape\n",
    "\n",
    "print 'Source type:',src.dtypes\n",
    "print(src.crs)\n",
    "print(src.transform)\n",
    "\n",
    "from matplotlib import pyplot\n",
    "pyplot.imshow(array, cmap='RdYlBu_r')\n",
    "\n",
    "pyplot.show()"
   ]
  },
  {
   "cell_type": "code",
   "execution_count": 10,
   "metadata": {},
   "outputs": [
    {
     "name": "stdout",
     "output_type": "stream",
     "text": [
      "Driver: GTiff/GeoTIFF\r\n",
      "Files: chirps-v2.0.2017.03.31.tif\r\n",
      "Size is 7200, 2000\r\n",
      "Coordinate System is:\r\n",
      "GEOGCS[\"WGS 84\",\r\n",
      "    DATUM[\"WGS_1984\",\r\n",
      "        SPHEROID[\"WGS 84\",6378137,298.257223563,\r\n",
      "            AUTHORITY[\"EPSG\",\"7030\"]],\r\n",
      "        AUTHORITY[\"EPSG\",\"6326\"]],\r\n",
      "    PRIMEM[\"Greenwich\",0],\r\n",
      "    UNIT[\"degree\",0.0174532925199433],\r\n",
      "    AUTHORITY[\"EPSG\",\"4326\"]]\r\n",
      "Origin = (-180.000000000000000,50.000000000000000)\r\n",
      "Pixel Size = (0.050000000745058,-0.050000000745058)\r\n",
      "Metadata:\r\n",
      "  AREA_OR_POINT=Area\r\n",
      "Image Structure Metadata:\r\n",
      "  COMPRESSION=LZW\r\n",
      "  INTERLEAVE=BAND\r\n",
      "Corner Coordinates:\r\n",
      "Upper Left  (-180.0000000,  50.0000000) (180d 0' 0.00\"W, 50d 0' 0.00\"N)\r\n",
      "Lower Left  (-180.0000000, -50.0000015) (180d 0' 0.00\"W, 50d 0' 0.01\"S)\r\n",
      "Upper Right ( 180.0000054,  50.0000000) (180d 0' 0.02\"E, 50d 0' 0.00\"N)\r\n",
      "Lower Right ( 180.0000054, -50.0000015) (180d 0' 0.02\"E, 50d 0' 0.01\"S)\r\n",
      "Center      (   0.0000027,  -0.0000007) (  0d 0' 0.01\"E,  0d 0' 0.00\"S)\r\n",
      "Band 1 Block=7200x1 Type=Float64, ColorInterp=Gray\r\n",
      "  NoData Value=0\r\n"
     ]
    }
   ],
   "source": [
    "!gdalinfo chirps-v2.0.2017.03.31.tif"
   ]
  },
  {
   "cell_type": "code",
   "execution_count": 11,
   "metadata": {},
   "outputs": [
    {
     "name": "stdout",
     "output_type": "stream",
     "text": [
      "-rw-rw-r--    1 31094    31111     3034696 Feb 16 23:53 chirps-v2.0.2017.01.01.tif.gz\n",
      "-rw-rw-r--    1 31094    31111     3351212 Feb 16 23:53 chirps-v2.0.2017.01.02.tif.gz\n",
      "-rw-rw-r--    1 31094    31111     3349004 Feb 16 23:53 chirps-v2.0.2017.01.03.tif.gz\n",
      "-rw-rw-r--    1 31094    31111     3235487 Feb 16 23:53 chirps-v2.0.2017.01.04.tif.gz\n",
      "-rw-rw-r--    1 31094    31111     3371532 Feb 16 23:53 chirps-v2.0.2017.01.05.tif.gz\n",
      "-rw-rw-r--    1 31094    31111     3179235 Feb 16 23:53 chirps-v2.0.2017.01.06.tif.gz\n",
      "-rw-rw-r--    1 31094    31111     3121778 Feb 16 23:53 chirps-v2.0.2017.01.07.tif.gz\n",
      "-rw-rw-r--    1 31094    31111     3502673 Feb 16 23:53 chirps-v2.0.2017.01.08.tif.gz\n",
      "-rw-rw-r--    1 31094    31111     3777307 Feb 16 23:53 chirps-v2.0.2017.01.09.tif.gz\n",
      "-rw-rw-r--    1 31094    31111     4186426 Feb 16 23:53 chirps-v2.0.2017.01.10.tif.gz\n",
      "-rw-rw-r--    1 31094    31111     3964250 Feb 16 23:53 chirps-v2.0.2017.01.11.tif.gz\n",
      "-rw-rw-r--    1 31094    31111     3672767 Feb 16 23:53 chirps-v2.0.2017.01.12.tif.gz\n",
      "-rw-rw-r--    1 31094    31111     3703704 Feb 16 23:53 chirps-v2.0.2017.01.13.tif.gz\n",
      "-rw-rw-r--    1 31094    31111     3447029 Feb 16 23:53 chirps-v2.0.2017.01.14.tif.gz\n",
      "-rw-rw-r--    1 31094    31111     3318359 Feb 16 23:53 chirps-v2.0.2017.01.15.tif.gz\n",
      "-rw-rw-r--    1 31094    31111     3417976 Feb 16 23:53 chirps-v2.0.2017.01.16.tif.gz\n",
      "-rw-rw-r--    1 31094    31111     3444568 Feb 16 23:53 chirps-v2.0.2017.01.17.tif.gz\n",
      "-rw-rw-r--    1 31094    31111     3186111 Feb 16 23:53 chirps-v2.0.2017.01.18.tif.gz\n",
      "-rw-rw-r--    1 31094    31111     3266309 Feb 16 23:53 chirps-v2.0.2017.01.19.tif.gz\n",
      "-rw-rw-r--    1 31094    31111     3168216 Feb 16 23:53 chirps-v2.0.2017.01.20.tif.gz\n",
      "-rw-rw-r--    1 31094    31111     3519899 Feb 16 23:53 chirps-v2.0.2017.01.21.tif.gz\n",
      "-rw-rw-r--    1 31094    31111     3729342 Feb 16 23:53 chirps-v2.0.2017.01.22.tif.gz\n",
      "-rw-rw-r--    1 31094    31111     3848328 Feb 16 23:53 chirps-v2.0.2017.01.23.tif.gz\n",
      "-rw-rw-r--    1 31094    31111     4001978 Feb 16 23:53 chirps-v2.0.2017.01.24.tif.gz\n",
      "-rw-rw-r--    1 31094    31111     4134114 Feb 16 23:53 chirps-v2.0.2017.01.25.tif.gz\n",
      "-rw-rw-r--    1 31094    31111     4081689 Feb 16 23:54 chirps-v2.0.2017.01.26.tif.gz\n",
      "-rw-rw-r--    1 31094    31111     3882235 Feb 16 23:54 chirps-v2.0.2017.01.27.tif.gz\n",
      "-rw-rw-r--    1 31094    31111     3422486 Feb 16 23:54 chirps-v2.0.2017.01.28.tif.gz\n",
      "-rw-rw-r--    1 31094    31111     3318979 Feb 16 23:54 chirps-v2.0.2017.01.29.tif.gz\n",
      "-rw-rw-r--    1 31094    31111     3381230 Feb 16 23:54 chirps-v2.0.2017.01.30.tif.gz\n",
      "-rw-rw-r--    1 31094    31111     3372681 Feb 16 23:54 chirps-v2.0.2017.01.31.tif.gz\n",
      "-rw-rw-r--    1 31094    31111     3807036 Mar 17 17:16 chirps-v2.0.2017.02.01.tif.gz\n",
      "-rw-rw-r--    1 31094    31111     3673234 Mar 17 17:16 chirps-v2.0.2017.02.02.tif.gz\n",
      "-rw-rw-r--    1 31094    31111     3620437 Mar 17 17:16 chirps-v2.0.2017.02.03.tif.gz\n",
      "-rw-rw-r--    1 31094    31111     3871842 Mar 17 17:16 chirps-v2.0.2017.02.04.tif.gz\n",
      "-rw-rw-r--    1 31094    31111     3924976 Mar 17 17:16 chirps-v2.0.2017.02.05.tif.gz\n",
      "-rw-rw-r--    1 31094    31111     4288645 Mar 17 17:17 chirps-v2.0.2017.02.06.tif.gz\n",
      "-rw-rw-r--    1 31094    31111     3904854 Mar 17 17:17 chirps-v2.0.2017.02.07.tif.gz\n",
      "-rw-rw-r--    1 31094    31111     3544056 Mar 17 17:17 chirps-v2.0.2017.02.08.tif.gz\n",
      "-rw-rw-r--    1 31094    31111     3424433 Mar 17 17:17 chirps-v2.0.2017.02.09.tif.gz\n",
      "-rw-rw-r--    1 31094    31111     3656512 Mar 17 17:17 chirps-v2.0.2017.02.10.tif.gz\n",
      "-rw-rw-r--    1 31094    31111     3282234 Mar 17 17:17 chirps-v2.0.2017.02.11.tif.gz\n",
      "-rw-rw-r--    1 31094    31111     3388155 Mar 17 17:17 chirps-v2.0.2017.02.12.tif.gz\n",
      "-rw-rw-r--    1 31094    31111     3540983 Mar 17 17:17 chirps-v2.0.2017.02.13.tif.gz\n",
      "-rw-rw-r--    1 31094    31111     3780933 Mar 17 17:17 chirps-v2.0.2017.02.14.tif.gz\n",
      "-rw-rw-r--    1 31094    31111     4062188 Mar 17 17:17 chirps-v2.0.2017.02.15.tif.gz\n",
      "-rw-rw-r--    1 31094    31111     4247874 Mar 17 17:17 chirps-v2.0.2017.02.16.tif.gz\n",
      "-rw-rw-r--    1 31094    31111     4033546 Mar 17 17:17 chirps-v2.0.2017.02.17.tif.gz\n",
      "-rw-rw-r--    1 31094    31111     4307000 Mar 17 17:17 chirps-v2.0.2017.02.18.tif.gz\n",
      "-rw-rw-r--    1 31094    31111     4059077 Mar 17 17:17 chirps-v2.0.2017.02.19.tif.gz\n",
      "-rw-rw-r--    1 31094    31111     4334640 Mar 17 17:17 chirps-v2.0.2017.02.20.tif.gz\n",
      "-rw-rw-r--    1 31094    31111     4150902 Mar 17 17:17 chirps-v2.0.2017.02.21.tif.gz\n",
      "-rw-rw-r--    1 31094    31111     3717676 Mar 17 17:17 chirps-v2.0.2017.02.22.tif.gz\n",
      "-rw-rw-r--    1 31094    31111     3539016 Mar 17 17:17 chirps-v2.0.2017.02.23.tif.gz\n",
      "-rw-rw-r--    1 31094    31111     3600586 Mar 17 17:17 chirps-v2.0.2017.02.24.tif.gz\n",
      "-rw-rw-r--    1 31094    31111     3875194 Mar 17 17:17 chirps-v2.0.2017.02.25.tif.gz\n",
      "-rw-rw-r--    1 31094    31111     3475548 Mar 17 17:17 chirps-v2.0.2017.02.26.tif.gz\n",
      "-rw-rw-r--    1 31094    31111     3277826 Mar 17 17:17 chirps-v2.0.2017.02.27.tif.gz\n",
      "-rw-rw-r--    1 31094    31111     3762490 Mar 17 17:17 chirps-v2.0.2017.02.28.tif.gz\n",
      "-rw-rw-r--    1 31094    31111     3673364 Apr 18 22:47 chirps-v2.0.2017.03.01.tif.gz\n",
      "-rw-rw-r--    1 31094    31111     3010677 Apr 18 22:47 chirps-v2.0.2017.03.02.tif.gz\n",
      "-rw-rw-r--    1 31094    31111     3545398 Apr 18 22:47 chirps-v2.0.2017.03.03.tif.gz\n",
      "-rw-rw-r--    1 31094    31111     3746919 Apr 18 22:47 chirps-v2.0.2017.03.04.tif.gz\n",
      "-rw-rw-r--    1 31094    31111     3468849 Apr 18 22:47 chirps-v2.0.2017.03.05.tif.gz\n",
      "-rw-rw-r--    1 31094    31111     3674531 Apr 18 22:47 chirps-v2.0.2017.03.06.tif.gz\n",
      "-rw-rw-r--    1 31094    31111     3572773 Apr 18 22:47 chirps-v2.0.2017.03.07.tif.gz\n",
      "-rw-rw-r--    1 31094    31111     3377123 Apr 18 22:47 chirps-v2.0.2017.03.08.tif.gz\n",
      "-rw-rw-r--    1 31094    31111     3372564 Apr 18 22:47 chirps-v2.0.2017.03.09.tif.gz\n",
      "-rw-rw-r--    1 31094    31111     3760491 Apr 18 22:47 chirps-v2.0.2017.03.10.tif.gz\n",
      "-rw-rw-r--    1 31094    31111     3809722 Apr 18 22:47 chirps-v2.0.2017.03.11.tif.gz\n",
      "-rw-rw-r--    1 31094    31111     3535795 Apr 18 22:47 chirps-v2.0.2017.03.12.tif.gz\n",
      "-rw-rw-r--    1 31094    31111     3280736 Apr 18 22:47 chirps-v2.0.2017.03.13.tif.gz\n",
      "-rw-rw-r--    1 31094    31111     3183407 Apr 18 22:47 chirps-v2.0.2017.03.14.tif.gz\n",
      "-rw-rw-r--    1 31094    31111     3139238 Apr 18 22:47 chirps-v2.0.2017.03.15.tif.gz\n",
      "-rw-rw-r--    1 31094    31111     2970423 Apr 18 22:47 chirps-v2.0.2017.03.16.tif.gz\n",
      "-rw-rw-r--    1 31094    31111     2936126 Apr 18 22:47 chirps-v2.0.2017.03.17.tif.gz\n",
      "-rw-rw-r--    1 31094    31111     3635922 Apr 18 22:47 chirps-v2.0.2017.03.18.tif.gz\n",
      "-rw-rw-r--    1 31094    31111     3814469 Apr 18 22:47 chirps-v2.0.2017.03.19.tif.gz\n",
      "-rw-rw-r--    1 31094    31111     3624556 Apr 18 22:47 chirps-v2.0.2017.03.20.tif.gz\n",
      "-rw-rw-r--    1 31094    31111     3664403 Apr 18 22:47 chirps-v2.0.2017.03.21.tif.gz\n",
      "-rw-rw-r--    1 31094    31111     3742854 Apr 18 22:47 chirps-v2.0.2017.03.22.tif.gz\n",
      "-rw-rw-r--    1 31094    31111     4205148 Apr 18 22:47 chirps-v2.0.2017.03.23.tif.gz\n",
      "-rw-rw-r--    1 31094    31111     4288178 Apr 18 22:47 chirps-v2.0.2017.03.24.tif.gz\n",
      "-rw-rw-r--    1 31094    31111     4013706 Apr 18 22:47 chirps-v2.0.2017.03.25.tif.gz\n",
      "-rw-rw-r--    1 31094    31111     4149465 Apr 18 22:48 chirps-v2.0.2017.03.26.tif.gz\n",
      "-rw-rw-r--    1 31094    31111     3987026 Apr 18 22:48 chirps-v2.0.2017.03.27.tif.gz\n",
      "-rw-rw-r--    1 31094    31111     3970494 Apr 18 22:48 chirps-v2.0.2017.03.28.tif.gz\n",
      "-rw-rw-r--    1 31094    31111     3973721 Apr 18 22:48 chirps-v2.0.2017.03.29.tif.gz\n",
      "-rw-rw-r--    1 31094    31111     3856686 Apr 18 22:48 chirps-v2.0.2017.03.30.tif.gz\n",
      "-rw-rw-r--    1 31094    31111     3690161 Apr 18 22:48 chirps-v2.0.2017.03.31.tif.gz\n"
     ]
    }
   ],
   "source": [
    "listing = []\n",
    "response = urllib2.urlopen('ftp://chg-ftpout.geog.ucsb.edu/pub/org/chg/products/CHIRPS-2.0/global_daily/tifs/p05/2017/')\n",
    "for line in response:\n",
    "    print line.rstrip()\n",
    "    listing.append(line.rstrip())\n",
    "\n",
    "myarray = np.asarray(listing)\n",
    "\n",
    "last_file = myarray[[-1]]"
   ]
  },
  {
   "cell_type": "code",
   "execution_count": 12,
   "metadata": {},
   "outputs": [
    {
     "name": "stdout",
     "output_type": "stream",
     "text": [
      "[ '-rw-rw-r--    1 31094    31111     3690161 Apr 18 22:48 chirps-v2.0.2017.03.31.tif.gz']\n"
     ]
    }
   ],
   "source": [
    "print last_file"
   ]
  },
  {
   "cell_type": "code",
   "execution_count": null,
   "metadata": {
    "collapsed": true
   },
   "outputs": [],
   "source": []
  }
 ],
 "metadata": {
  "kernelspec": {
   "display_name": "Python 2",
   "language": "python",
   "name": "python2"
  },
  "language_info": {
   "codemirror_mode": {
    "name": "ipython",
    "version": 2
   },
   "file_extension": ".py",
   "mimetype": "text/x-python",
   "name": "python",
   "nbconvert_exporter": "python",
   "pygments_lexer": "ipython2",
   "version": "2.7.13"
  }
 },
 "nbformat": 4,
 "nbformat_minor": 2
}
