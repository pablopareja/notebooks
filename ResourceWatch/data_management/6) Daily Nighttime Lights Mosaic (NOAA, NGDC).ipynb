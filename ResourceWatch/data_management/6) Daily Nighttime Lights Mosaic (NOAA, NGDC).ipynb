{
 "cells": [
  {
   "cell_type": "markdown",
   "metadata": {},
   "source": [
    "<br />\n",
    "<div style=\"text-align: center;\">\n",
    "    <span style=\"font-weight: bold; color:#6dc; font-family: 'Arial Narrow'; font-size: 3.5em;\">Daily Nighttime Lights Mosaic (NOAA, NGDC)</span>\n",
    "</div>"
   ]
  },
  {
   "cell_type": "markdown",
   "metadata": {},
   "source": [
    "<span style=\"color:#444; font-family: 'Arial'; font-size: 1.3em;\">Data taken from: https://earthobservatory.nasa.gov/Features/NightLights/page3.php </span>\n",
    "<br />"
   ]
  },
  {
   "cell_type": "markdown",
   "metadata": {},
   "source": [
    "<span style=\"color:#444; font-family: 'Arial'; font-size: 1.3em; font-weight: bold;\">NOTE: </span>\n",
    "<span style=\"color:#444; font-family: 'Arial'; font-size: 1.3em; \">2016 data (Not Near Real Time)</span>\n",
    "<br />"
   ]
  },
  {
   "cell_type": "code",
   "execution_count": null,
   "metadata": {
    "collapsed": false
   },
   "outputs": [],
   "source": [
    "import pandas as pd\n",
    "import numpy as np\n",
    "from os.path import basename, dirname, exists\n",
    "import os\n",
    "import rasterio\n",
    "import glob\n",
    "import urllib2\n",
    "import gzip\n",
    "import shutil\n",
    "from contextlib import closing\n",
    "from matplotlib import pyplot\n",
    "#from netCDF4 import Dataset"
   ]
  },
  {
   "cell_type": "markdown",
   "metadata": {},
   "source": [
    "<span style=\"color:#444; font-family: 'Arial'; font-size: 1.3em;\">Other datasets:</span>\n",
    "<br />"
   ]
  },
  {
   "cell_type": "markdown",
   "metadata": {
    "collapsed": false
   },
   "source": [
    "<span style=\"color:#444; font-family: 'Arial'; font-size: 1.3em;\">https://eoimages.gsfc.nasa.gov/images/imagerecords/55000/55167/land_ocean_ice_lights_2048.tif<br />\n",
    "https://eoimages.gsfc.nasa.gov/images/imagerecords/55000/55167/earth_lights_4800.tif<br />\n",
    "https://ngdc.noaa.gov/eog/viirs/download_dnb_composites.html<br />\n",
    "https://visibleearth.nasa.gov/view.php?id=55167"
   ]
  },
  {
   "cell_type": "code",
   "execution_count": null,
   "metadata": {
    "collapsed": false
   },
   "outputs": [],
   "source": [
    "remote_path = 'https://www.nasa.gov/specials/blackmarble/2016/globalmaps/georeferrenced/'\n",
    "last_file = 'BlackMarble_2016_3km_geo.tif'\n",
    "\n",
    "\n",
    "local_path = os.getcwd()\n",
    "print remote_path+last_file"
   ]
  },
  {
   "cell_type": "code",
   "execution_count": null,
   "metadata": {
    "collapsed": false
   },
   "outputs": [],
   "source": [
    "with closing(urllib2.urlopen(remote_path_land_ocean+land_ocean_file)) as r:\n",
    "    with open(local_path+'/'+last_file, 'wb') as f:\n",
    "        shutil.copyfileobj(r, f)  \n",
    "\n",
    "src = rasterio.open(local_path+'/'+last_file)\n",
    "\n",
    "print 'Source: ',src\n",
    "print 'Source mode: ',src.mode\n",
    "\n",
    "array = src.read(1)\n",
    "print '.TIF Shape: ',array.shape\n",
    "\n",
    "print 'Source type:',src.dtypes\n",
    "print(src.crs)\n",
    "print(src.transform)"
   ]
  },
  {
   "cell_type": "code",
   "execution_count": null,
   "metadata": {
    "collapsed": false
   },
   "outputs": [],
   "source": [
    "pyplot.imshow(array, cmap='RdYlBu_r')\n",
    "pyplot.show()"
   ]
  },
  {
   "cell_type": "code",
   "execution_count": null,
   "metadata": {
    "collapsed": false
   },
   "outputs": [],
   "source": [
    "with rasterio.open(local_path+'/'+last_file) as src:\n",
    "    npixels = src.width * src.height\n",
    "    for i in src.indexes:\n",
    "        band = src.read(i)\n",
    "        print(i, band.min(), band.max(), band.sum()/npixels)"
   ]
  },
  {
   "cell_type": "code",
   "execution_count": null,
   "metadata": {
    "collapsed": true
   },
   "outputs": [],
   "source": [
    "CM_IN_FOOT = 30.48\n",
    "\n",
    "with rasterio.drivers():\n",
    "    with rasterio.open(local_path+'/'+last_file) as src:\n",
    "        kwargs = src.meta\n",
    "        kwargs.update(\n",
    "            driver='GTiff',\n",
    "            dtype=rasterio.float64,  #rasterio.int16, rasterio.int32, rasterio.uint8,rasterio.uint16, rasterio.uint32, rasterio.float32, rasterio.float64\n",
    "            count=1,\n",
    "            compress='lzw',\n",
    "            nodata=0,\n",
    "            bigtiff='NO' # Output will be larger than 4GB\n",
    "        )\n",
    "\n",
    "        windows = src.block_windows(1)\n",
    "\n",
    "        with rasterio.open(local_path+'/'+last_file,'w',**kwargs) as dst:\n",
    "            for idx, window in windows:\n",
    "                src_data = src.read(1, window=window)\n",
    "\n",
    "                # Source nodata value is a very small negative number\n",
    "                # Converting in to zero for the output raster\n",
    "                np.putmask(src_data, src_data < 0, 0)\n",
    "\n",
    "                dst_data = (src_data * CM_IN_FOOT).astype(rasterio.float64)\n",
    "                dst.write_band(1, dst_data, window=window)"
   ]
  },
  {
   "cell_type": "code",
   "execution_count": null,
   "metadata": {
    "collapsed": false
   },
   "outputs": [],
   "source": [
    "src = rasterio.open(local_path+'/'+last_file)\n",
    "print 'Source: ',src\n",
    "print 'Source mode: ',src.mode\n",
    "\n",
    "array = src.read(1)\n",
    "print '.TIF Shape: ',array.shape\n",
    "\n",
    "print 'Source type:',src.dtypes\n",
    "print(src.crs)\n",
    "print(src.transform)\n",
    "\n",
    "from matplotlib import pyplot\n",
    "pyplot.imshow(array, cmap='RdYlBu_r')\n",
    "\n",
    "pyplot.show()"
   ]
  },
  {
   "cell_type": "markdown",
   "metadata": {},
   "source": [
    "<br />\n",
    "<span style=\"font-weight: bold; color:#6dc; font-family: 'Arial Narrow'; font-size: 2.5em;\">To GitHub</span>\n",
    "<br />"
   ]
  },
  {
   "cell_type": "code",
   "execution_count": 1,
   "metadata": {
    "collapsed": true
   },
   "outputs": [],
   "source": [
    "import numpy as np\n",
    "import pandas as pd\n",
    "import os\n",
    "import rasterio\n",
    "import urllib2\n",
    "import shutil\n",
    "from contextlib import closing\n",
    "from netCDF4 import Dataset\n",
    "import datetime\n",
    "import tinys3\n",
    "np.set_printoptions(threshold='nan')"
   ]
  },
  {
   "cell_type": "code",
   "execution_count": 2,
   "metadata": {
    "collapsed": true
   },
   "outputs": [],
   "source": [
    "def dataDownload(): \n",
    "    \n",
    "    remote_path = 'https://www.nasa.gov/specials/blackmarble/2016/globalmaps/georeferrenced/BlackMarble_2016_3km_geo.tif'\n",
    "    last_file = 'BlackMarble_2016_3km_geo.tif'\n",
    "\n",
    "    with closing(urllib2.urlopen(remote_path+last_file)) as r:\n",
    "        with open(str(last_file), 'wb') as f:\n",
    "            shutil.copyfileobj(r, f)\n",
    "\n",
    "    return last_file"
   ]
  },
  {
   "cell_type": "code",
   "execution_count": 3,
   "metadata": {
    "collapsed": true
   },
   "outputs": [],
   "source": [
    "def tiffile(dst,outFile):\n",
    "    \n",
    "    CM_IN_FOOT = 30.48\n",
    "\n",
    "\n",
    "    with rasterio.open(file) as src:\n",
    "        kwargs = src.meta\n",
    "        kwargs.update(\n",
    "            driver='GTiff',\n",
    "            dtype=rasterio.float64,  #rasterio.int16, rasterio.int32, rasterio.uint8,rasterio.uint16, rasterio.uint32, rasterio.float32, rasterio.float64\n",
    "            count=1,\n",
    "            compress='lzw',\n",
    "            nodata=0,\n",
    "            bigtiff='NO' \n",
    "        )\n",
    "\n",
    "        windows = src.block_windows(1)\n",
    "\n",
    "        with rasterio.open(outFile,'w',**kwargs) as dst:\n",
    "            for idx, window in windows:\n",
    "                src_data = src.read(1, window=window)\n",
    "\n",
    "                # Source nodata value is a very small negative number\n",
    "                # Converting in to zero for the output raster\n",
    "                np.putmask(src_data, src_data < 0, 0)\n",
    "\n",
    "                dst_data = (src_data * CM_IN_FOOT).astype(rasterio.float64)\n",
    "                dst.write_band(1, dst_data, window=window)\n",
    "    os.remove('./'+file)"
   ]
  },
  {
   "cell_type": "code",
   "execution_count": 4,
   "metadata": {
    "collapsed": true
   },
   "outputs": [],
   "source": [
    "def s3Upload(outFile):\n",
    "    # Push to Amazon S3 instance\n",
    "    conn = tinys3.Connection(os.getenv('S3_ACCESS_KEY'),os.getenv('S3_SECRET_KEY'),tls=True)\n",
    "    f = open(outFile,'rb')\n",
    "    conn.upload(outFile,f,os.getenv('BUCKET'))"
   ]
  },
  {
   "cell_type": "code",
   "execution_count": 6,
   "metadata": {
    "collapsed": false
   },
   "outputs": [
    {
     "name": "stdout",
     "output_type": "stream",
     "text": [
      "starting\n",
      "downloaded\n"
     ]
    },
    {
     "name": "stderr",
     "output_type": "stream",
     "text": [
      "/Users/vizzuality/anaconda/lib/python2.7/site-packages/rasterio/__init__.py:160: FutureWarning: GDAL-style transforms are deprecated and will not be supported in Rasterio 1.0.\n",
      "  transform = guard_transform(transform)\n"
     ]
    },
    {
     "name": "stdout",
     "output_type": "stream",
     "text": [
      "converted\n",
      "finish\n"
     ]
    }
   ],
   "source": [
    "# Execution\n",
    "outFile = 'earth_ligths.tif'\n",
    "\n",
    "print 'starting'\n",
    "file = dataDownload()\n",
    "print 'downloaded'\n",
    "tiffile(file,outFile)\n",
    "print 'converted'\n",
    "#s3Upload(outFile)\n",
    "print 'finish'"
   ]
  },
  {
   "cell_type": "code",
   "execution_count": null,
   "metadata": {
    "collapsed": false
   },
   "outputs": [],
   "source": []
  },
  {
   "cell_type": "code",
   "execution_count": null,
   "metadata": {
    "collapsed": true
   },
   "outputs": [],
   "source": []
  }
 ],
 "metadata": {
  "anaconda-cloud": {},
  "kernelspec": {
   "display_name": "Python [default]",
   "language": "python",
   "name": "python2"
  },
  "language_info": {
   "codemirror_mode": {
    "name": "ipython",
    "version": 2
   },
   "file_extension": ".py",
   "mimetype": "text/x-python",
   "name": "python",
   "nbconvert_exporter": "python",
   "pygments_lexer": "ipython2",
   "version": "2.7.13"
  }
 },
 "nbformat": 4,
 "nbformat_minor": 2
}
