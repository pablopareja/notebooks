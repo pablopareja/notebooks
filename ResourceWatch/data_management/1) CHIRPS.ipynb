{
 "cells": [
  {
   "cell_type": "markdown",
   "metadata": {},
   "source": [
    "<br />\n",
    "<div style=\"text-align: center;\">\n",
    "    <span style=\"font-weight: bold; color:#6dc; font-family: 'Arial'; font-size: 2.5em;\">Tropical and Temperate Rainfall Dataset, Climate Hazard<br /><br /> InfraRed Precipitation with Stations: CHIRPS (USGS,<br /><br /> USAID, NASA, NOAA)<br /></span>\n",
    "</div>"
   ]
  },
  {
   "cell_type": "code",
   "execution_count": 58,
   "metadata": {
    "collapsed": false
   },
   "outputs": [],
   "source": [
    "import pandas as pd\n",
    "import numpy as np\n",
    "from os.path import basename, dirname, exists\n",
    "import os\n",
    "import rasterio\n",
    "import glob\n",
    "import urllib2\n",
    "import gzip\n",
    "import shutil\n",
    "from contextlib import closing\n",
    "from netCDF4 import Dataset\n",
    "import datetime"
   ]
  },
  {
   "cell_type": "code",
   "execution_count": 59,
   "metadata": {
    "collapsed": false
   },
   "outputs": [
    {
     "name": "stdout",
     "output_type": "stream",
     "text": [
      "2017\n",
      "ftp://chg-ftpout.geog.ucsb.edu/pub/org/chg/products/CHIRPS-2.0/global_daily/tifs/p05/2017/\n"
     ]
    }
   ],
   "source": [
    "now = datetime.datetime.now()\n",
    "year = now.year\n",
    "\n",
    "remote_path = 'ftp://chg-ftpout.geog.ucsb.edu/pub/org/chg/products/CHIRPS-2.0/global_daily/tifs/p05/'+str(year)+'/'\n",
    "print year\n",
    "print remote_path\n",
    "\n",
    "local_path = os.getcwd()"
   ]
  },
  {
   "cell_type": "code",
   "execution_count": 60,
   "metadata": {
    "collapsed": false
   },
   "outputs": [
    {
     "name": "stdout",
     "output_type": "stream",
     "text": [
      "The last file (compress) is:  chirps-v2.0.2017.05.31.tif.gz\n",
      "The last file UNCOMPRESSED is:  chirps-v2.0.2017.05.31.tif\n"
     ]
    }
   ],
   "source": [
    "now = datetime.datetime.now()\n",
    "year = now.year\n",
    "\n",
    "remote_path = 'ftp://chg-ftpout.geog.ucsb.edu/pub/org/chg/products/CHIRPS-2.0/global_daily/tifs/p05/'+str(year)+'/'\n",
    "print year\n",
    "print remote_path\n",
    "\n",
    "local_path = os.getcwd()\n",
    "\n",
    "listing = []\n",
    "response = urllib2.urlopen(remote_path)\n",
    "for line in response:\n",
    "    listing.append(line.rstrip())\n",
    "\n",
    "s2=pd.DataFrame(listing)\n",
    "s3=s2[0].str.split()\n",
    "s4=s3[len(s3)-1]\n",
    "last_file = s4[8]\n",
    "print 'The last file (compress) is: ',last_file\n",
    "\n",
    "uncompressed = os.path.splitext(last_file)[0]\n",
    "\n",
    "print 'The last file UNCOMPRESSED is: ',uncompressed"
   ]
  },
  {
   "cell_type": "code",
   "execution_count": 61,
   "metadata": {
    "collapsed": false
   },
   "outputs": [],
   "source": [
    "with closing(urllib2.urlopen(remote_path+str(last_file))) as r:\n",
    "    with open(str(last_file), 'wb') as f:\n",
    "        shutil.copyfileobj(r, f)\n",
    "        \n",
    "#uncompress file\n",
    "\n",
    "archives = [x for x in os.listdir(local_path) if '.gz' in x]\n",
    "\n",
    "for i, archive in enumerate(archives):\n",
    "    archive = os.path.join(local_path, archive)\n",
    "    dest = os.path.join(local_path, os.path.splitext(archive)[0]) # drop the .gz from the filename\n",
    "\n",
    "    with gzip.open(archive, \"rb\") as zip:\n",
    "        with open(dest, \"w\") as out:\n",
    "            for line in zip:\n",
    "                out.write(line)\n",
    "\n",
    "uncompressed = os.path.splitext(last_file)[0]\n",
    "os.remove(last_file)"
   ]
  },
  {
   "cell_type": "code",
   "execution_count": 62,
   "metadata": {
    "collapsed": false
   },
   "outputs": [
    {
     "name": "stdout",
     "output_type": "stream",
     "text": [
      "Source:  <open RasterReader name='chirps-v2.0.2017.05.31.tif' mode='r'>\n",
      "Source mode:  r\n",
      ".TIF Shape:  (2000, 7200)\n",
      "Source type: ('float32',)\n",
      "CRS({'init': u'epsg:4326'})\n",
      "[-180.0, 0.05000000074505806, 0.0, 50.0, 0.0, -0.05000000074505806]\n"
     ]
    },
    {
     "data": {
      "image/png": "[encoded data removed]",
      "text/plain": [
       "<matplotlib.figure.Figure at 0x159a78c10>"
      ]
     },
     "metadata": {},
     "output_type": "display_data"
    }
   ],
   "source": [
    "src = rasterio.open(uncompressed)\n",
    "print 'Source: ',src\n",
    "print 'Source mode: ',src.mode\n",
    "\n",
    "array = src.read(1)\n",
    "print '.TIF Shape: ',array.shape\n",
    "\n",
    "print 'Source type:',src.dtypes\n",
    "print(src.crs)\n",
    "print(src.transform)\n",
    "\n",
    "from matplotlib import pyplot\n",
    "pyplot.imshow(array, cmap='RdYlBu_r')\n",
    "\n",
    "pyplot.show()"
   ]
  },
  {
   "cell_type": "code",
   "execution_count": 63,
   "metadata": {
    "collapsed": false
   },
   "outputs": [
    {
     "name": "stdout",
     "output_type": "stream",
     "text": [
      "(1, -9999.0, 305.68616, -7319.0331733333333)\n"
     ]
    }
   ],
   "source": [
    "with rasterio.open(uncompressed) as src:\n",
    "    npixels = src.width * src.height\n",
    "    for i in src.indexes:\n",
    "        band = src.read(i)\n",
    "        print(i, band.min(), band.max(), band.sum()/npixels)"
   ]
  },
  {
   "cell_type": "code",
   "execution_count": 64,
   "metadata": {
    "collapsed": false
   },
   "outputs": [],
   "source": [
    "CM_IN_FOOT = 30.48\n",
    "\n",
    "\n",
    "with rasterio.open(uncompressed) as src:\n",
    "    kwargs = src.meta\n",
    "    kwargs.update(\n",
    "        driver='GTiff',\n",
    "        dtype=rasterio.float64,  #rasterio.int16, rasterio.int32, rasterio.uint8,rasterio.uint16, rasterio.uint32, rasterio.float32, rasterio.float64\n",
    "        count=1,\n",
    "        compress='lzw',\n",
    "        nodata=0,\n",
    "        bigtiff='NO' \n",
    "    )\n",
    "\n",
    "    windows = src.block_windows(1)\n",
    "\n",
    "    with rasterio.open('chirps.tif','w',**kwargs) as dst:\n",
    "        for idx, window in windows:\n",
    "            src_data = src.read(1, window=window)\n",
    "\n",
    "            # Source nodata value is a very small negative number\n",
    "            # Converting in to zero for the output raster\n",
    "            np.putmask(src_data, src_data < 0, 0)\n",
    "\n",
    "            dst_data = (src_data * CM_IN_FOOT).astype(rasterio.float64)\n",
    "            dst.write_band(1, dst_data, window=window)\n",
    "os.remove(uncompressed)"
   ]
  },
  {
   "cell_type": "code",
   "execution_count": 65,
   "metadata": {
    "collapsed": false
   },
   "outputs": [
    {
     "name": "stdout",
     "output_type": "stream",
     "text": [
      "Source:  <open RasterReader name='./chirps.tif' mode='r'>\n",
      "Source mode:  r\n",
      ".TIF Shape:  (2000, 7200)\n",
      "Source type: ('float64',)\n",
      "CRS({'init': u'epsg:4326'})\n",
      "[-180.0, 0.05000000074505806, 0.0, 50.0, 0.0, -0.05000000074505806]\n"
     ]
    },
    {
     "data": {
      "image/png": "[encoded data removed]",
      "text/plain": [
       "<matplotlib.figure.Figure at 0x1164ebdd0>"
      ]
     },
     "metadata": {},
     "output_type": "display_data"
    }
   ],
   "source": [
    "src = rasterio.open('./chirps.tif')\n",
    "print 'Source: ',src\n",
    "print 'Source mode: ',src.mode\n",
    "\n",
    "array = src.read(1)\n",
    "print '.TIF Shape: ',array.shape\n",
    "\n",
    "print 'Source type:',src.dtypes\n",
    "print(src.crs)\n",
    "print(src.transform)\n",
    "\n",
    "from matplotlib import pyplot\n",
    "pyplot.imshow(array, cmap='RdYlBu_r')\n",
    "\n",
    "pyplot.show()"
   ]
  },
  {
   "cell_type": "code",
   "execution_count": null,
   "metadata": {
    "collapsed": true
   },
   "outputs": [],
   "source": [
    "import tinys3\n",
    "\n",
    "conn = tinys3.Connection('S3_ACCESS_KEY','S3_SECRET_KEY',tls=True)\n",
    "\n",
    "f = open('chirps.tif','rb')\n",
    "conn.upload('chirps.tif',f,'BUCKET')"
   ]
  },
  {
   "cell_type": "code",
   "execution_count": 57,
   "metadata": {
    "collapsed": false
   },
   "outputs": [
    {
     "data": {
      "text/plain": [
       "u'0.20.1'"
      ]
     },
     "execution_count": 57,
     "metadata": {},
     "output_type": "execute_result"
    }
   ],
   "source": [
    "pd.__version__"
   ]
  },
  {
   "cell_type": "markdown",
   "metadata": {
    "collapsed": true
   },
   "source": [
    "<br />\n",
    "<div style=\"text-align: left;\">\n",
    "    <span style=\"font-weight: bold; color:#6dc; font-family: 'Arial'; font-size: 2.5em;\">To Github<br /></span>\n",
    "</div>"
   ]
  },
  {
   "cell_type": "code",
   "execution_count": 76,
   "metadata": {
    "collapsed": true
   },
   "outputs": [],
   "source": [
    "import numpy as np\n",
    "import pandas as pd\n",
    "import os\n",
    "import rasterio\n",
    "import urllib2\n",
    "import shutil\n",
    "from contextlib import closing\n",
    "from netCDF4 import Dataset\n",
    "import datetime\n",
    "import tinys3\n",
    "np.set_printoptions(threshold='nan')"
   ]
  },
  {
   "cell_type": "code",
   "execution_count": 77,
   "metadata": {
    "collapsed": true
   },
   "outputs": [],
   "source": [
    "def dataDownload(): \n",
    "    \n",
    "    now = datetime.datetime.now()\n",
    "    year = now.year\n",
    "\n",
    "    remote_path = 'ftp://chg-ftpout.geog.ucsb.edu/pub/org/chg/products/CHIRPS-2.0/global_daily/tifs/p05/'+str(year)+'/'\n",
    "    print year\n",
    "    print remote_path\n",
    "\n",
    "    local_path = os.getcwd()\n",
    "\n",
    "    listing = []\n",
    "    response = urllib2.urlopen(remote_path)\n",
    "    for line in response:\n",
    "        listing.append(line.rstrip())\n",
    "\n",
    "    s2=pd.DataFrame(listing)\n",
    "    s3=s2[0].str.split()\n",
    "    s4=s3[len(s3)-1]\n",
    "    last_file = s4[8]\n",
    "    print 'The last file (compress) is: ',last_file\n",
    "\n",
    "    uncompressed = os.path.splitext(last_file)[0]\n",
    "\n",
    "    print 'The last file UNCOMPRESSED is: ',uncompressed\n",
    "\n",
    "    with closing(urllib2.urlopen(remote_path+str(last_file))) as r:\n",
    "        with open(str(last_file), 'wb') as f:\n",
    "            shutil.copyfileobj(r, f)\n",
    "\n",
    "    #uncompress file\n",
    "\n",
    "    archives = [x for x in os.listdir(local_path) if '.gz' in x]\n",
    "\n",
    "    for i, archive in enumerate(archives):\n",
    "        archive = os.path.join(local_path, archive)\n",
    "        dest = os.path.join(local_path, os.path.splitext(archive)[0]) # drop the .gz from the filename\n",
    "\n",
    "        with gzip.open(archive, \"rb\") as zip:\n",
    "            with open(dest, \"w\") as out:\n",
    "                for line in zip:\n",
    "                    out.write(line)\n",
    "\n",
    "    uncompressed = os.path.splitext(last_file)[0]\n",
    "    os.remove(last_file)\n",
    "\n",
    "    \n",
    "    return uncompressed"
   ]
  },
  {
   "cell_type": "code",
   "execution_count": 81,
   "metadata": {
    "collapsed": true
   },
   "outputs": [],
   "source": [
    "def tiffile(dst,outFile):\n",
    "    \n",
    "    \n",
    "    CM_IN_FOOT = 30.48\n",
    "\n",
    "\n",
    "    with rasterio.open(file) as src:\n",
    "        kwargs = src.meta\n",
    "        kwargs.update(\n",
    "            driver='GTiff',\n",
    "            dtype=rasterio.float64,  #rasterio.int16, rasterio.int32, rasterio.uint8,rasterio.uint16, rasterio.uint32, rasterio.float32, rasterio.float64\n",
    "            count=1,\n",
    "            compress='lzw',\n",
    "            nodata=0,\n",
    "            bigtiff='NO' \n",
    "        )\n",
    "\n",
    "        windows = src.block_windows(1)\n",
    "\n",
    "        with rasterio.open(outFile,'w',**kwargs) as dst:\n",
    "            for idx, window in windows:\n",
    "                src_data = src.read(1, window=window)\n",
    "\n",
    "                # Source nodata value is a very small negative number\n",
    "                # Converting in to zero for the output raster\n",
    "                np.putmask(src_data, src_data < 0, 0)\n",
    "\n",
    "                dst_data = (src_data * CM_IN_FOOT).astype(rasterio.float64)\n",
    "                dst.write_band(1, dst_data, window=window)\n",
    "    os.remove('./'+file)"
   ]
  },
  {
   "cell_type": "code",
   "execution_count": 82,
   "metadata": {
    "collapsed": true
   },
   "outputs": [],
   "source": [
    "def s3Upload(outFile):\n",
    "    # Push to Amazon S3 instance\n",
    "    conn = tinys3.Connection(os.getenv('S3_ACCESS_KEY'),os.getenv('S3_SECRET_KEY'),tls=True)\n",
    "    f = open(outFile,'rb')\n",
    "    conn.upload(outFile,f,os.getenv('BUCKET'))"
   ]
  },
  {
   "cell_type": "code",
   "execution_count": 83,
   "metadata": {
    "collapsed": false
   },
   "outputs": [
    {
     "name": "stdout",
     "output_type": "stream",
     "text": [
      "starting\n",
      "2017\n",
      "ftp://chg-ftpout.geog.ucsb.edu/pub/org/chg/products/CHIRPS-2.0/global_daily/tifs/p05/2017/\n",
      "The last file (compress) is:  chirps-v2.0.2017.05.31.tif.gz\n",
      "The last file UNCOMPRESSED is:  chirps-v2.0.2017.05.31.tif\n",
      "downloaded\n",
      "converted\n",
      "finish\n"
     ]
    }
   ],
   "source": [
    "# Execution\n",
    "outFile = 'chirps.tiff'\n",
    "\n",
    "print 'starting'\n",
    "file = dataDownload()\n",
    "print 'downloaded'\n",
    "tiffile(file,outFile)\n",
    "print 'converted'\n",
    "#s3Upload(outFile)\n",
    "print 'finish'"
   ]
  },
  {
   "cell_type": "code",
   "execution_count": null,
   "metadata": {
    "collapsed": true
   },
   "outputs": [],
   "source": []
  },
  {
   "cell_type": "code",
   "execution_count": null,
   "metadata": {
    "collapsed": true
   },
   "outputs": [],
   "source": []
  }
 ],
 "metadata": {
  "anaconda-cloud": {},
  "kernelspec": {
   "display_name": "Python [default]",
   "language": "python",
   "name": "python2"
  },
  "language_info": {
   "codemirror_mode": {
    "name": "ipython",
    "version": 2
   },
   "file_extension": ".py",
   "mimetype": "text/x-python",
   "name": "python",
   "nbconvert_exporter": "python",
   "pygments_lexer": "ipython2",
   "version": "2.7.13"
  }
 },
 "nbformat": 4,
 "nbformat_minor": 2
}
