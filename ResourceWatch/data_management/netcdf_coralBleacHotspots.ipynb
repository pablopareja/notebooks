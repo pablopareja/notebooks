{
 "cells": [
  {
   "cell_type": "code",
   "execution_count": 2,
   "metadata": {
    "ExecuteTime": {
     "end_time": "2017-06-22T15:17:21.735058Z",
     "start_time": "2017-06-22T15:17:16.997259Z"
    }
   },
   "outputs": [
    {
     "name": "stdout",
     "output_type": "stream",
     "text": [
      "Collecting wget\n",
      "  Downloading wget-3.2.zip\n",
      "Building wheels for collected packages: wget\n",
      "  Running setup.py bdist_wheel for wget ... \u001b[?25ldone\n",
      "\u001b[?25h  Stored in directory: /home/jovyan/.cache/pip/wheels/6d/98/29/61ccc41148f871009126c2e844e26f73eeb25e12cca92228a5\n",
      "Successfully built wget\n",
      "Installing collected packages: wget\n",
      "Successfully installed wget-3.2\n"
     ]
    }
   ],
   "source": [
    "!pip install wget"
   ]
  },
  {
   "cell_type": "code",
   "execution_count": 3,
   "metadata": {
    "ExecuteTime": {
     "end_time": "2017-06-22T15:17:26.679269Z",
     "start_time": "2017-06-22T15:17:25.469205Z"
    }
   },
   "outputs": [],
   "source": [
    "import wget\n",
    "import os\n",
    "import requests\n",
    "import datetime\n",
    "from netCDF4 import Dataset\n",
    "import numpy as np\n",
    "import rasterio\n",
    "import tinys3\n",
    "from rasterio.transform import from_origin"
   ]
  },
  {
   "cell_type": "markdown",
   "metadata": {},
   "source": [
    "Download last dataset (2 days in the past)"
   ]
  },
  {
   "cell_type": "code",
   "execution_count": 4,
   "metadata": {
    "ExecuteTime": {
     "end_time": "2017-06-22T15:17:28.444992Z",
     "start_time": "2017-06-22T15:17:28.432863Z"
    },
    "collapsed": true
   },
   "outputs": [],
   "source": [
    "def dataDownload(): \n",
    "    today = datetime.date.today()\n",
    "    url='ftp://ftp.star.nesdis.noaa.gov/pub/sod/mecb/crw/data/5km/nc/baa_max_comp_7day/2017/baa_max_r07d_b05kmnn_'+ str(today.year) +\"%02d\" % (today.month)+\"%02d\" % (today.day-2)+'.nc'\n",
    "    filename = wget.download(url)\n",
    "    return filename\n"
   ]
  },
  {
   "cell_type": "markdown",
   "metadata": {
    "ExecuteTime": {
     "end_time": "2017-04-17T20:53:30.970577",
     "start_time": "2017-04-17T20:53:30.628849"
    }
   },
   "source": [
    "convert nc to geotiff"
   ]
  },
  {
   "cell_type": "code",
   "execution_count": 7,
   "metadata": {
    "ExecuteTime": {
     "end_time": "2017-06-22T15:17:50.800209Z",
     "start_time": "2017-06-22T15:17:50.747328Z"
    },
    "collapsed": true
   },
   "outputs": [],
   "source": [
    "def netcdf2tif(dst,outFile):\n",
    "    nc = Dataset(dst)\n",
    "    print(nc)\n",
    "    data = nc['CRW_BAA_max7d'][0,:,:].squeeze()\n",
    "    # Return lat info\n",
    "    south_lat = nc.geospatial_lat_min - nc.geospatial_lat_resolution/2  # Change pos.to edges of pxls (not center)\n",
    "    north_lat = nc.geospatial_lat_max + nc.geospatial_lat_resolution/2\n",
    "\n",
    "    # Return lon info\n",
    "    west_lon = nc.geospatial_lon_min - nc.geospatial_lon_resolution/2\n",
    "    east_lon = nc.geospatial_lon_max + nc.geospatial_lon_resolution/2\n",
    "    # Transformation function\n",
    "    transform = rasterio.transform.from_bounds(west_lon, south_lat, east_lon, north_lat, data.shape[1], data.shape[0])\n",
    "    # Profile\n",
    "    profile = {\n",
    "        'driver':'GTiff', \n",
    "        'height':data.shape[0], \n",
    "        'width':data.shape[1], \n",
    "        'count':1, \n",
    "        'dtype':np.int16, \n",
    "        'crs':'EPSG:4326', \n",
    "        'transform':transform, \n",
    "        'compress':'lzw', \n",
    "        'nodata':nc['CRW_BAA_max7d']._FillValue\n",
    "    }\n",
    "    #with rasterio.open(outFile, 'w', **profile) as dst:\n",
    "    #    dst.write(data.astype(profile['dtype']), 1)  \n"
   ]
  },
  {
   "cell_type": "markdown",
   "metadata": {},
   "source": [
    "S3 upload"
   ]
  },
  {
   "cell_type": "code",
   "execution_count": 8,
   "metadata": {
    "ExecuteTime": {
     "end_time": "2017-06-22T15:17:51.710507Z",
     "start_time": "2017-06-22T15:17:51.682717Z"
    },
    "collapsed": true
   },
   "outputs": [],
   "source": [
    "def s3Upload(outFile):\n",
    "    # Push to Amazon S3 instance\n",
    "    conn = tinys3.Connection(os.getenv('S3_ACCESS_KEY'),\n",
    "                             os.getenv('S3_SECRET_KEY'), \n",
    "                             tls=True)\n",
    "    # So we could skip the bucket parameter on every request\n",
    "    f = open(outFile, 'rb')\n",
    "    response = conn.upload(outFile, f, os.getenv('BUCKET'))\n",
    "    if response.status_code == 200:\n",
    "        print(Fore.GREEN + '\\r SUCCESS')\n",
    "    else:\n",
    "        print(Fore.RED + 'UPLOAD PROCESS FAILURE STATUS CODE: {0}'.format(\n",
    "            str(response.status_code)))\n",
    "        print('\\r {0}'.format(str(response.content)))"
   ]
  },
  {
   "cell_type": "markdown",
   "metadata": {
    "ExecuteTime": {
     "end_time": "2017-04-17T21:05:33.454713",
     "start_time": "2017-04-17T21:05:33.217113"
    }
   },
   "source": [
    "Execution"
   ]
  },
  {
   "cell_type": "code",
   "execution_count": 9,
   "metadata": {
    "ExecuteTime": {
     "end_time": "2017-06-22T15:18:09.623903Z",
     "start_time": "2017-06-22T15:17:52.586996Z"
    }
   },
   "outputs": [
    {
     "name": "stdout",
     "output_type": "stream",
     "text": [
      "<class 'netCDF4._netCDF4.Dataset'>\n",
      "root group (NETCDF4 data model, file format HDF5):\n",
      "    Conventions: CF-1.6, ACDD 1-3, Unidata Observation Dataset v1.0\n",
      "    nodc_template_version: NODC_NetCDF_Grid_Template_v1.1\n",
      "    title: NOAA Coral Reef Watch Daily Global 5-km Satellite Seven-day Maximum Bleaching Alert Area Composite\n",
      "    summary: This is a product of NOAA Coral Reef Watch daily global 5-km satellite coral bleaching thermal stress monitoring product suite.\n",
      "    references: Liu, G, Heron SF, Eakin CM, Muller-Karger FE, Vega-Rodriguez M, Guild LS, De La Cour JL, Geiger EF, Skirving WJ, Burgess TFR, Strong AE, Harris A, Maturi E, Ignatov A, Sapper J, Li J, Lynds S (2014) Reef-scale Thermal Stress Monitoring of Coral Ecosystems: New 5-km Global Products from NOAA Coral Reef Watch, Remote Sensing 6(11): 11579-11606, doi:10.3390/rs61111579.\n",
      "    institution: NOAA/NESDIS/STAR Coral Reef Watch program\n",
      "    history: CRW Preliminary Version 0.2 netCDF dataset of the product\n",
      "    comment: This product is a product of the Coral Reef Watch Daily Global 5-km Satellite Coral Bleaching Thermal Stress Monitoring Product Suite Version 2.\n",
      "    license: The data are available for use without restriction, but it is required to credit NOAA Coral Reef Watch program for any data use. Recommendations for citing and providing credit are provided at http://coralreefwatch.noaa.gov/satellite/docs/recommendations_crw_citation.php. Users are referred to the footer section of Coral Reef Watch's website (http://coralreefwatch.noaa.gov/index.php) for disclaimers, policies, notices pertaining to the use of the data.\n",
      "    id: Satellite_Daily_Global_5km_7day_Maximum_Bleaching_Alert_Area_Composite\n",
      "    naming_authority: gov.noaa.coralreefwatch\n",
      "    product_version: 2.0\n",
      "    coralreefwatch_netcdf_version: 0.2\n",
      "    uuid: 6ebb03fd-1065-45e9-aafd-3388bf9309b9\n",
      "    gds_version_id: 2.0\n",
      "    netcdf_version_id: 4.1.2\n",
      "    date_created: 20130312T120000Z\n",
      "    date_issued: 20170621T183936Z\n",
      "    date_modified: 20170621T183936Z\n",
      "    date_metadata_modified: 20170621T183936Z\n",
      "    start_time: 20170614T000000Z\n",
      "    time_coverage_start: 20170614T000000Z\n",
      "    time_coverage_duration: P7D\n",
      "    stop_time: 20170621T000000Z\n",
      "    time_coverage_end: 20170621T000000Z\n",
      "    time_coverage_resolution: P1D\n",
      "    source: This is a 7-day composite. Please check out the corresponding attribute in the seven contributing daily SST, HotSpot, or Bleaching Alert Area data files for details.\n",
      "    platform: This is a 7-day composite. Please check out the corresponding attribute in the seven contributing daily SST, HotSpot, or Bleaching Alert Area data files for details.\n",
      "    sensor: This is a 7-day composite. Please check out the corresponding attribute in the seven contributing daily SST, HotSpot, or Bleaching Alert Area data files for details.\n",
      "    instrument: This is a 7-day composite. Please check out the corresponding attribute in the seven contributing daily SST, HotSpot, or Bleaching Alert Area data files for details.\n",
      "    platform_vocabulary: This is a 7-day composite. Please check out the corresponding attribute in the seven contributing daily SST, HotSpot, or Bleaching Alert Area data files for details.\n",
      "    instrument_vocabulary: This is a 7-day composite. Please check out the corresponding attribute in the seven contributing daily SST, HotSpot, or Bleaching Alert Area data files for details.\n",
      "    metadata_link: http://coralreefwatch.noaa.gov\n",
      "    keywords: Oceans > Ocean Temperature > Bleaching Alert Area\n",
      "    keywords_vocabulary: NASA Global Change Master Directory (GCMD) Science Keywords\n",
      "    standard_name_vocabulary: NetCDF Climate and Forecast (CF) Metadata Convention Standard Name Table v27\n",
      "    geospatial_lon_min: -180.0\n",
      "    geospatial_lon_max: 180.0\n",
      "    geospatial_lat_min: -90.0\n",
      "    geospatial_lat_max: 90.0\n",
      "    spatial_resolution: 0.05 degree\n",
      "    geospatial_lat_units: degrees north\n",
      "    geospatial_lat_resolution: 0.05\n",
      "    geospatial_lon_units: degrees east\n",
      "    geospatial_lon_resolution: 0.05\n",
      "    acknowledgment: NOAA Coral Reef Watch program\n",
      "    creator_type: group\n",
      "    creator_institution: NOAA/NESDIS/STAR\n",
      "    creator_name: NOAA Coral Reef Watch program\n",
      "    creator_email: coralreefwatch@noaa.gov\n",
      "    creator_url: coralreefwatch.noaa.gov\n",
      "    project: NOAA Coral Reef Watch program\n",
      "    program: NOAA Coral Reef Watch program\n",
      "    publisher_type: group\n",
      "    publisher_institution: NOAA/NESDIS/STAR\n",
      "    publisher_name: NOAA Coral Reef Watch program\n",
      "    publisher_url: http://coralreefwatch.noaa.gov\n",
      "    publisher_email: coralreefwatch@noaa.gov\n",
      "    contributor_name: NOAA Coral Reef Watch program\n",
      "    contributor_role: Collecting source data and deriving products; performing quality control of products; disseminating, storing and submitting data to archive.\n",
      "    processing_level: L4\n",
      "    cdm_data_type: grid\n",
      "    dimensions(sizes): time(1), lat(3600), lon(7200)\n",
      "    variables(dimensions): int32 \u001b[4mtime\u001b[0m(time), float32 \u001b[4mlat\u001b[0m(lat), float32 \u001b[4mlon\u001b[0m(lon), int8 \u001b[4msurface_flag\u001b[0m(lat,lon), int8 \u001b[4mCRW_BAA_max7d\u001b[0m(time,lat,lon), int16 \u001b[4mcrs\u001b[0m()\n",
      "    groups: \n",
      "\n"
     ]
    }
   ],
   "source": [
    "outFile ='CoralReefHotspots.tif'\n",
    "file = dataDownload()\n",
    "netcdf2tif(file,outFile)\n",
    "#s3Upload(outFile)"
   ]
  },
  {
   "cell_type": "code",
   "execution_count": null,
   "metadata": {
    "collapsed": true
   },
   "outputs": [],
   "source": []
  }
 ],
 "metadata": {
  "hide_input": false,
  "kernelspec": {
   "display_name": "Python 3",
   "language": "python",
   "name": "python3"
  },
  "language_info": {
   "codemirror_mode": {
    "name": "ipython",
    "version": 3
   },
   "file_extension": ".py",
   "mimetype": "text/x-python",
   "name": "python",
   "nbconvert_exporter": "python",
   "pygments_lexer": "ipython3",
   "version": "3.5.3"
  },
  "latex_envs": {
   "LaTeX_envs_menu_present": true,
   "autocomplete": true,
   "bibliofile": "biblio.bib",
   "cite_by": "apalike",
   "current_citInitial": 1,
   "eqLabelWithNumbers": true,
   "eqNumInitial": 1,
   "hotkeys": {
    "equation": "Ctrl-E",
    "itemize": "Ctrl-I"
   },
   "labels_anchors": false,
   "latex_user_defs": false,
   "report_style_numbering": false,
   "user_envs_cfg": false
  },
  "toc": {
   "colors": {
    "hover_highlight": "#DAA520",
    "running_highlight": "#FF0000",
    "selected_highlight": "#FFD700"
   },
   "moveMenuLeft": true,
   "nav_menu": {
    "height": "12px",
    "width": "252px"
   },
   "navigate_menu": true,
   "number_sections": true,
   "sideBar": true,
   "threshold": 4,
   "toc_cell": false,
   "toc_section_display": "block",
   "toc_window_display": false
  },
  "varInspector": {
   "cols": {
    "lenName": 16,
    "lenType": 16,
    "lenVar": 40
   },
   "kernels_config": {
    "python": {
     "delete_cmd_postfix": "",
     "delete_cmd_prefix": "del ",
     "library": "var_list.py",
     "varRefreshCmd": "print(var_dic_list())"
    },
    "r": {
     "delete_cmd_postfix": ") ",
     "delete_cmd_prefix": "rm(",
     "library": "var_list.r",
     "varRefreshCmd": "cat(var_dic_list()) "
    }
   },
   "types_to_exclude": [
    "module",
    "function",
    "builtin_function_or_method",
    "instance",
    "_Feature"
   ],
   "window_display": false
  }
 },
 "nbformat": 4,
 "nbformat_minor": 2
}
