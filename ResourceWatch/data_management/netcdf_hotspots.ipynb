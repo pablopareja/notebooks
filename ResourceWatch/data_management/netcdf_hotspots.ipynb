{
 "cells": [
  {
   "cell_type": "code",
   "execution_count": 14,
   "metadata": {
    "ExecuteTime": {
     "end_time": "2017-04-18T11:26:39.408641",
     "start_time": "2017-04-18T11:26:39.322183"
    }
   },
   "outputs": [
    {
     "data": {
      "text/plain": [
       "'1.2.4'"
      ]
     },
     "execution_count": 14,
     "metadata": {},
     "output_type": "execute_result"
    }
   ],
   "source": []
  },
  {
   "cell_type": "code",
   "execution_count": 1,
   "metadata": {
    "ExecuteTime": {
     "end_time": "2017-04-17T21:05:32.999999",
     "start_time": "2017-04-17T21:05:32.283095"
    }
   },
   "outputs": [],
   "source": [
    "import wget\n",
    "import os\n",
    "import requests\n",
    "import datetime\n",
    "from netCDF4 import Dataset\n",
    "import numpy as np\n",
    "import rasterio\n",
    "import tinys3\n",
    "from rasterio.transform import from_origin"
   ]
  },
  {
   "cell_type": "markdown",
   "metadata": {},
   "source": [
    "Download last dataset (2 days in the past)"
   ]
  },
  {
   "cell_type": "code",
   "execution_count": 2,
   "metadata": {
    "ExecuteTime": {
     "end_time": "2017-04-17T21:05:33.019674",
     "start_time": "2017-04-17T21:05:33.006386"
    }
   },
   "outputs": [],
   "source": [
    "def dataDownload(): \n",
    "    today = datetime.date.today()\n",
    "    url='ftp://ftp.star.nesdis.noaa.gov/pub/sod/mecb/crw/data/5km/nc/baa_max_comp_7day/2017/baa_max_r07d_b05kmnn_'+ str(today.year) +\"%02d\" % (today.month)+\"%02d\" % (today.day-2)+'.nc'\n",
    "    filename = wget.download(url)\n",
    "    return filename\n"
   ]
  },
  {
   "cell_type": "markdown",
   "metadata": {
    "ExecuteTime": {
     "end_time": "2017-04-17T20:53:30.970577",
     "start_time": "2017-04-17T20:53:30.628849"
    }
   },
   "source": [
    "convert nc to geotiff"
   ]
  },
  {
   "cell_type": "code",
   "execution_count": 7,
   "metadata": {
    "ExecuteTime": {
     "end_time": "2017-04-17T21:07:21.009385",
     "start_time": "2017-04-17T21:07:20.954942"
    },
    "collapsed": true
   },
   "outputs": [],
   "source": [
    "def netcdf2tif(dst,outFile):\n",
    "    nc = Dataset(dst)\n",
    "    data = nc['CRW_BAA_max7d'][0,:,:].squeeze()\n",
    "    # Return lat info\n",
    "    south_lat = nc.geospatial_lat_min - nc.geospatial_lat_resolution/2  # Change pos.to edges of pxls (not center)\n",
    "    north_lat = nc.geospatial_lat_max + nc.geospatial_lat_resolution/2\n",
    "\n",
    "    # Return lon info\n",
    "    west_lon = nc.geospatial_lon_min - nc.geospatial_lon_resolution/2\n",
    "    east_lon = nc.geospatial_lon_max + nc.geospatial_lon_resolution/2\n",
    "    # Transformation function\n",
    "    transform = rasterio.transform.from_bounds(west_lon, south_lat, east_lon, north_lat, data.shape[1], data.shape[0])\n",
    "    # Profile\n",
    "    profile = {\n",
    "        'driver':'GTiff', \n",
    "        'height':data.shape[0], \n",
    "        'width':data.shape[1], \n",
    "        'count':1, \n",
    "        'dtype':np.int16, \n",
    "        'crs':'EPSG:4326', \n",
    "        'transform':transform, \n",
    "        'compress':'lzw', \n",
    "        'nodata':nc['CRW_BAA_max7d']._FillValue\n",
    "    }\n",
    "    with rasterio.open(outFile, 'w', **profile) as dst:\n",
    "        dst.write(data.astype(profile['dtype']), 1)  \n"
   ]
  },
  {
   "cell_type": "markdown",
   "metadata": {},
   "source": [
    "S3 upload"
   ]
  },
  {
   "cell_type": "code",
   "execution_count": 9,
   "metadata": {
    "ExecuteTime": {
     "end_time": "2017-04-17T21:08:14.610818",
     "start_time": "2017-04-17T21:08:14.592006"
    },
    "collapsed": true
   },
   "outputs": [],
   "source": [
    "def s3Upload(outFile):\n",
    "    # Push to Amazon S3 instance\n",
    "    conn = tinys3.Connection(os.getenv('S3_ACCESS_KEY'),\n",
    "                             os.getenv('S3_SECRET_KEY'), \n",
    "                             tls=True)\n",
    "    # So we could skip the bucket parameter on every request\n",
    "    f = open(outFile, 'rb')\n",
    "    response = conn.upload(outFile, f, os.getenv('BUCKET'))\n",
    "    if response.status_code == 200:\n",
    "        print(Fore.GREEN + '\\r SUCCESS')\n",
    "    else:\n",
    "        print(Fore.RED + 'UPLOAD PROCESS FAILURE STATUS CODE: {0}'.format(\n",
    "            str(response.status_code)))\n",
    "        print('\\r {0}'.format(str(response.content)))"
   ]
  },
  {
   "cell_type": "markdown",
   "metadata": {
    "ExecuteTime": {
     "end_time": "2017-04-17T21:05:33.454713",
     "start_time": "2017-04-17T21:05:33.217113"
    }
   },
   "source": [
    "Execution"
   ]
  },
  {
   "cell_type": "code",
   "execution_count": 6,
   "metadata": {
    "ExecuteTime": {
     "end_time": "2017-04-17T21:06:05.638213",
     "start_time": "2017-04-17T21:05:59.614296"
    },
    "collapsed": true
   },
   "outputs": [],
   "source": [
    "outFile ='CoralReefHotspots.tif'\n",
    "file = dataDownload()\n",
    "netcdf2tif(file,outFile)\n",
    "s3Upload(outFile)"
   ]
  }
 ],
 "metadata": {
  "hide_input": false,
  "kernelspec": {
   "display_name": "Python 3",
   "language": "python",
   "name": "python3"
  },
  "language_info": {
   "codemirror_mode": {
    "name": "ipython",
    "version": 3
   },
   "file_extension": ".py",
   "mimetype": "text/x-python",
   "name": "python",
   "nbconvert_exporter": "python",
   "pygments_lexer": "ipython3",
   "version": "3.5.3"
  },
  "toc": {
   "colors": {
    "hover_highlight": "#DAA520",
    "running_highlight": "#FF0000",
    "selected_highlight": "#FFD700"
   },
   "moveMenuLeft": true,
   "nav_menu": {
    "height": "12px",
    "width": "252px"
   },
   "navigate_menu": true,
   "number_sections": true,
   "sideBar": true,
   "threshold": 4,
   "toc_cell": false,
   "toc_section_display": "block",
   "toc_window_display": false
  }
 },
 "nbformat": 4,
 "nbformat_minor": 2
}
