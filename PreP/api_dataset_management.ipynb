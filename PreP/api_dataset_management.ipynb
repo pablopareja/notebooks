{
 "cells": [
  {
   "cell_type": "code",
   "execution_count": 1,
   "metadata": {
    "ExecuteTime": {
     "end_time": "2017-05-08T08:45:08.167009",
     "start_time": "2017-05-08T08:45:07.154024"
    },
    "collapsed": true
   },
   "outputs": [],
   "source": [
    "import requests\n",
    "import json\n",
    "import pandas as pd\n",
    "from pprint import pprint\n",
    "from multiprocessing import Pool"
   ]
  },
  {
   "cell_type": "markdown",
   "metadata": {},
   "source": [
    "Ideally this script will get all datasets from prep with their layers and widgets, check if they are working and deliver a status report for each one of them."
   ]
  },
  {
   "cell_type": "code",
   "execution_count": 16,
   "metadata": {
    "ExecuteTime": {
     "end_time": "2017-05-08T09:14:44.171552",
     "start_time": "2017-05-08T09:14:44.119570"
    },
    "scrolled": false
   },
   "outputs": [],
   "source": [
    "def f(dataset):\n",
    "    data={}\n",
    "    if dataset['attributes']['provider']!='wms':\n",
    "        rasterUrl= 'https://api.resourcewatch.org/v1/query/'+dataset['id']+'?sql=select st_metadata(the_raster_webmercator) from '+dataset['attributes']['tableName']+' limit 1'\n",
    "        geometryUrl='https://api.resourcewatch.org/v1/query/'+dataset['id']+'?sql=select * from '+dataset['attributes']['tableName']+' limit 1'\n",
    "        url = geometryUrl if dataset['attributes']['provider']!='gee' or dataset['attributes']['tableName'][:3]=='ft:' else rasterUrl\n",
    "        s = requests.get(url)\n",
    "        if s.status_code!=200:\n",
    "            data['dataset_id']=dataset['id']\n",
    "            data['dataset_name']=dataset['attributes']['name']\n",
    "            data['dataset_sql_status']=s.status_code\n",
    "            data['connector_provider']=dataset['attributes']['provider']\n",
    "            data['connector_url_status']=requests.get(dataset['attributes']['connectorUrl']).status_code if dataset['attributes']['provider']!='gee' else None\n",
    "            data['connector_url']=dataset['attributes']['connectorUrl'] if dataset['attributes']['provider']!='gee' else dataset['attributes']['tableName']\n",
    "            data['n_layers'] = len(dataset['attributes']['layer'])\n",
    "            data['n_widgets'] = len(dataset['attributes']['widget'])\n",
    "            return data\n",
    "    else:\n",
    "        for layer in dataset['attributes']['layer']:\n",
    "            if 'url' in layer['attributes']['layerConfig']['body']:\n",
    "                url = layer['attributes']['layerConfig']['body']['url']\n",
    "                s = requests.get(url) \n",
    "                if s.status_code!=200:\n",
    "                    data['dataset_id']=dataset['id']\n",
    "                    data['dataset_name']=dataset['attributes']['name']\n",
    "                    data['dataset_sql_status']=None\n",
    "                    data['connector_provider']=dataset['attributes']['connectorUrl']\n",
    "                    data['connector_url_status']=s.status_code\n",
    "                    data['connector_url']=dataset['attributes']['connectorUrl']\n",
    "                    data['n_layers'] = len(dataset['attributes']['layer'])\n",
    "                    data['n_widgets'] = len(dataset['attributes']['widget'])\n",
    "                    return data\n",
    "        \n"
   ]
  },
  {
   "cell_type": "code",
   "execution_count": 21,
   "metadata": {
    "ExecuteTime": {
     "end_time": "2017-05-08T09:20:25.300768",
     "start_time": "2017-05-08T09:20:25.259867"
    },
    "collapsed": true,
    "scrolled": true
   },
   "outputs": [],
   "source": [
    "def dataFrame(l,application):\n",
    "    dDict={\n",
    "    'dataset_id': [x['dataset_id'] for x in l if x!=None],\n",
    "    'dataset_name': [x['dataset_name'] for x in l if x!=None],\n",
    "    'dataset_sql_status': [x['dataset_sql_status'] for x in l if x!=None],\n",
    "    'connector_provider': [x['connector_provider'] for x in l if x!=None],\n",
    "    'connector_url_status': [x['connector_url_status'] for x in l if x!=None],\n",
    "    'connector_url': [x['connector_url'] for x in l if x!=None],\n",
    "    'n_layers': [x['n_layers'] for x in l if x!=None],\n",
    "    'n_widgets': [x['n_widgets'] for x in l if x!=None]\n",
    "\n",
    "    }\n",
    "    pd.DataFrame(dDict).to_csv((application+'.csv'))\n",
    "    return 'done'"
   ]
  },
  {
   "cell_type": "code",
   "execution_count": 24,
   "metadata": {
    "ExecuteTime": {
     "end_time": "2017-05-08T09:22:16.783017",
     "start_time": "2017-05-08T09:22:16.761021"
    },
    "collapsed": true
   },
   "outputs": [],
   "source": [
    "def main(n, application):\n",
    "    try:\n",
    "        r = requests.get(\"https://api.resourcewatch.org/v1/dataset?application=\"+application+\"&status=saved&includes=widget,layer&page%5Bsize%5D=14914800.35312\")\n",
    "    except requests.ConnectionError:\n",
    "        print(\"Unexpected error:\", requests.ConnectionError)\n",
    "        raise\n",
    "    else:\n",
    "        dataset_list = r.json()['data']\n",
    "        p = Pool(n)\n",
    "        l = p.map(f, dataset_list)\n",
    "        dataFrame(l,application)\n"
   ]
  },
  {
   "cell_type": "code",
   "execution_count": 27,
   "metadata": {
    "ExecuteTime": {
     "end_time": "2017-05-08T09:52:02.098318",
     "start_time": "2017-05-08T09:51:21.354225"
    }
   },
   "outputs": [],
   "source": [
    "main(20,'prep')"
   ]
  },
  {
   "cell_type": "code",
   "execution_count": 28,
   "metadata": {
    "ExecuteTime": {
     "end_time": "2017-05-08T09:52:35.958261",
     "start_time": "2017-05-08T09:52:02.103538"
    },
    "collapsed": true
   },
   "outputs": [],
   "source": [
    "main(20,'rw')"
   ]
  },
  {
   "cell_type": "code",
   "execution_count": null,
   "metadata": {
    "collapsed": true
   },
   "outputs": [],
   "source": []
  }
 ],
 "metadata": {
  "hide_input": false,
  "kernelspec": {
   "display_name": "Python 3",
   "language": "python",
   "name": "python3"
  },
  "language_info": {
   "codemirror_mode": {
    "name": "ipython",
    "version": 3
   },
   "file_extension": ".py",
   "mimetype": "text/x-python",
   "name": "python",
   "nbconvert_exporter": "python",
   "pygments_lexer": "ipython3",
   "version": "3.5.3"
  }
 },
 "nbformat": 4,
 "nbformat_minor": 2
}
