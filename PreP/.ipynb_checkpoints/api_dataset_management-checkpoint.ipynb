{
 "cells": [
  {
   "cell_type": "code",
   "execution_count": 1,
   "metadata": {
    "ExecuteTime": {
     "end_time": "2017-05-08T08:45:08.167009",
     "start_time": "2017-05-08T08:45:07.154024"
    },
    "collapsed": true
   },
   "outputs": [],
   "source": [
    "import requests\n",
    "import json\n",
    "import pandas as pd\n",
    "from pprint import pprint\n",
    "from multiprocessing import Pool"
   ]
  },
  {
   "cell_type": "markdown",
   "metadata": {},
   "source": [
    "ideally this script will get all datasets from prep with their layers and widgets check if they are working and deliver a status report for each one of them."
   ]
  },
  {
   "cell_type": "code",
   "execution_count": 2,
   "metadata": {
    "ExecuteTime": {
     "end_time": "2017-05-08T08:45:08.208941",
     "start_time": "2017-05-08T08:45:08.172388"
    },
    "scrolled": false
   },
   "outputs": [
    {
     "ename": "IndentationError",
     "evalue": "expected an indented block (<ipython-input-2-2a97add34ca6>, line 18)",
     "output_type": "error",
     "traceback": [
      "\u001b[0;36m  File \u001b[0;32m\"<ipython-input-2-2a97add34ca6>\"\u001b[0;36m, line \u001b[0;32m18\u001b[0m\n\u001b[0;31m    else:\u001b[0m\n\u001b[0m       ^\u001b[0m\n\u001b[0;31mIndentationError\u001b[0m\u001b[0;31m:\u001b[0m expected an indented block\n"
     ]
    }
   ],
   "source": [
    "def f(dataset):\n",
    "    data={}\n",
    "    if dataset['attributes']['provider']!='wms' and dataset['attributes']['provider']!='gee':\n",
    "        url = 'https://api.resourcewatch.org/v1/query/'+dataset['id']+'?sql=select * from '+dataset['attributes']['tableName']+' limit 1'\n",
    "        s = requests.get(url)\n",
    "        if s.status_code!=200:\n",
    "            data['dataset_id']=dataset['id']\n",
    "            data['dataset_name']=dataset['attributes']['name']\n",
    "            data['dataset_sql_status']=s.status_code\n",
    "            data['connector_provider']=dataset['attributes']['provider']\n",
    "            data['connector_url_status']=requests.get(dataset['attributes']['connectorUrl']).status_code\n",
    "            data['connector_url']=dataset['attributes']['connectorUrl']\n",
    "            data['n_layers'] = len(dataset['attributes']['layer'])\n",
    "            data['n_widgets'] = len(dataset['attributes']['widget'])\n",
    "            return data\n",
    "    elif  dataset['attributes']['provider']=='gee':\n",
    "        if dataset['attributes']['connectorUrl']!= None else None\n",
    "        url = 'https://api.resourcewatch.org/v1/query/'+dataset['id']+'?sql=select * from '+dataset['attributes']['tableName']+' limit 1'\n",
    "        s = requests.get(url)\n",
    "        if s.status_code!=200:\n",
    "    else:\n",
    "        for layer in dataset['attributes']['layer']:\n",
    "            if 'url' in layer['attributes']['layerConfig']['body']:\n",
    "                url = layer['attributes']['layerConfig']['body']['url']\n",
    "                s = requests.get(url) \n",
    "                if s.status_code!=200:\n",
    "                    data['dataset_id']=dataset['id']\n",
    "                    data['dataset_name']=dataset['attributes']['name']\n",
    "                    data['dataset_sql_status']=None\n",
    "                    data['connector_provider']=dataset['attributes']['connectorUrl']\n",
    "                    data['connector_url_status']=s.status_code\n",
    "                    data['connector_url']=dataset['attributes']['connectorUrl']\n",
    "                    data['n_layers'] = len(dataset['attributes']['layer'])\n",
    "                    data['n_widgets'] = len(dataset['attributes']['widget'])\n",
    "                    print('h')\n",
    "                    return data\n",
    "        \n"
   ]
  },
  {
   "cell_type": "code",
   "execution_count": null,
   "metadata": {
    "ExecuteTime": {
     "end_time": "2017-05-08T08:45:08.209746",
     "start_time": "2017-05-08T08:45:07.177Z"
    },
    "collapsed": true,
    "scrolled": true
   },
   "outputs": [],
   "source": [
    "def dataFrame(l):\n",
    "    dDict={\n",
    "    'dataset_id': [x['dataset_id'] for x in l if x!=None],\n",
    "    'dataset_name': [x['dataset_name'] for x in l if x!=None],\n",
    "    'dataset_sql_status': [x['dataset_sql_status'] for x in l if x!=None],\n",
    "    'connector_provider': [x['connector_provider'] for x in l if x!=None],\n",
    "    'connector_url_status': [x['connector_url_status'] for x in l if x!=None],\n",
    "    'connector_url': [x['connector_url'] for x in l if x!=None],\n",
    "    'n_layers': [x['n_layers'] for x in l if x!=None],\n",
    "    'n_widgets': [x['n_widgets'] for x in l if x!=None]\n",
    "\n",
    "    }\n",
    "    pd.DataFrame(dDict).to_csv('test.csv')\n",
    "    return 'done'"
   ]
  },
  {
   "cell_type": "code",
   "execution_count": null,
   "metadata": {
    "ExecuteTime": {
     "end_time": "2017-05-08T08:45:08.210150",
     "start_time": "2017-05-08T08:45:07.191Z"
    },
    "collapsed": true
   },
   "outputs": [],
   "source": [
    "def main(n, application):\n",
    "    try:\n",
    "        r = requests.get(\"https://api.resourcewatch.org/v1/dataset?application=\"+application+\"&status=saved&includes=widget,layer&page%5Bsize%5D=14914800.35312\")\n",
    "    except requests.ConnectionError:\n",
    "        print(\"Unexpected error:\", requests.ConnectionError)\n",
    "        raise\n",
    "    else:\n",
    "        dataset_list = r.json()['data']\n",
    "        p = Pool(n)\n",
    "        l = p.map(f, dataset_list)\n",
    "        dataFrame(l)\n"
   ]
  },
  {
   "cell_type": "code",
   "execution_count": null,
   "metadata": {
    "ExecuteTime": {
     "end_time": "2017-05-08T08:45:08.210645",
     "start_time": "2017-05-08T08:45:07.203Z"
    }
   },
   "outputs": [],
   "source": [
    "main(20,'rw')"
   ]
  },
  {
   "cell_type": "code",
   "execution_count": null,
   "metadata": {
    "collapsed": true
   },
   "outputs": [],
   "source": []
  }
 ],
 "metadata": {
  "hide_input": false,
  "kernelspec": {
   "display_name": "Python 3",
   "language": "python",
   "name": "python3"
  },
  "language_info": {
   "codemirror_mode": {
    "name": "ipython",
    "version": 3
   },
   "file_extension": ".py",
   "mimetype": "text/x-python",
   "name": "python",
   "nbconvert_exporter": "python",
   "pygments_lexer": "ipython3",
   "version": "3.5.3"
  }
 },
 "nbformat": 4,
 "nbformat_minor": 2
}
