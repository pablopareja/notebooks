{
 "cells": [
  {
   "cell_type": "code",
   "execution_count": 28,
   "metadata": {
    "ExecuteTime": {
     "end_time": "2017-03-28T10:12:17.698794",
     "start_time": "2017-03-28T10:12:17.689545"
    },
    "collapsed": true,
    "deletable": true,
    "editable": true
   },
   "outputs": [],
   "source": [
    "import pandas as pd\n",
    "import json\n",
    "import requests\n",
    "import numpy as np"
   ]
  },
  {
   "cell_type": "markdown",
   "metadata": {
    "deletable": true,
    "editable": true
   },
   "source": [
    "# Points intersecction"
   ]
  },
  {
   "cell_type": "markdown",
   "metadata": {
    "deletable": true,
    "editable": true
   },
   "source": [
    "Procedure definition:\n",
    "\n",
    "\n",
    "```sql\n",
    "\n",
    "DROP FUNCTION get_aqpoints(weights_raw TEXT, points_array TEXT); \n",
    "\n",
    "DROP TYPE weight_intersection;\n",
    "\n",
    "CREATE TYPE weight_intersection AS (points_id numeric, basinid numeric, the_geom geometry, water_risk numeric, water_stress numeric, interannual_variability numeric, seasonal_variability numeric, flood_occurrence numeric, drought_severity numeric, upstream_storage numeric, groundwater_stress numeric, return_flow_ratio numeric, upstream_protected_land numeric, media_coverage numeric, access_to_water numeric, threatened_amphibians numeric);\n",
    "\n",
    "CREATE OR REPLACE FUNCTION get_aqpoints(weights_raw TEXT, points_array TEXT) \n",
    "\tRETURNS SETOF weight_intersection as $$\n",
    "\tDECLARE\n",
    "    query1 TEXT;\n",
    "    weights TEXT;\n",
    "    weights_sum TEXT;\n",
    "\tBEGIN\n",
    "        query1:='select array_to_string(array_agg(col::text ||''*''|| weights::text), ''+ '') as weights, sum(weights)::text as weights_sum from (select unnest(Array'|| weights_raw||') as weights, unnest(array[''bws_s'', ''wsv_s'', ''sv_s'', ''hfo_s'', ''dro_s'', ''stor_s'', ''gw_s'', ''wri_s'', ''eco_s_s'', ''mc_s'', ''wcg_s'', ''eco_v_s'']) as col) as tables where weights is not null';\n",
    "        \n",
    "        EXECUTE query1 into weights, weights_sum;\n",
    "        \n",
    "\t\tRETURN query EXECUTE 'with points as (SELECT st_setsrid(st_geomfromtext(points),4326) as the_geom, row_number() over () as points_id FROM unnest(Array'|| points_array ||') as points), ranges as (select basinid, average, min(average) over (), max(average) over (), bws_s, wsv_s, sv_s, hfo_s, dro_s, stor_s, gw_s, wri_s, eco_s_s, mc_s, wcg_s, eco_v_s from (SELECT basinid, ('|| weights ||')/('|| weights_sum ||') as average, bws_s, wsv_s, sv_s, hfo_s, dro_s, stor_s, gw_s, wri_s, eco_s_s, mc_s, wcg_s, eco_v_s FROM water_risk_weights) initial) select points_id::numeric, ranges.basinid::numeric, points.the_geom, (((average-min)/(max-min))*5)::numeric as water_risk, bws_s::numeric as baseline_water_stress, wsv_s::numeric as interannual_variability, sv_s::numeric as seasonal_variability, hfo_s::numeric as flood_occurrence, dro_s::numeric as drought_severity, stor_s::numeric as upstream_storage, gw_s::numeric as groundwater_stress, wri_s::numeric as return_flow_ratio, eco_s_s::numeric as upstream_protected_land, mc_s::numeric as media_coverage, wcg_s::numeric as access_to_water, eco_v_s::numeric as threatened_amphibians from ranges inner join wri_subcatchements on ranges.basinid=wri_subcatchements.basinid right join points on  st_intersects(wri_subcatchements.the_geom, points.the_geom)';\n",
    "\t\n",
    "\tEND\n",
    "$$ language 'plpgsql';\n",
    "\n",
    "```\n",
    "\n"
   ]
  },
  {
   "cell_type": "markdown",
   "metadata": {
    "deletable": true,
    "editable": true
   },
   "source": [
    "Sql Example:\n",
    "\n",
    "```sql\n",
    "Select * from get_aqpoints('[4, 1, 0.5, 1, 1, 2, 2, 1, 0.5, 1, 2, 0.5]','[''POINT(84.8085584935 -14.20067639)'', ''POINT(54.0392656274 -70.8898132233)'', ''POINT(-28.5832686897 -7.71134965117)'', ''POINT(47.9458596199 82.5599787066)'', ''POINT(50.8126903314 -46.0154993389)'', ''POINT(-62.5229253542 -9.68983337791)'', ''POINT(-34.7977234627 84.9984574252)'', ''POINT(-80.1102876685 -33.9286081419)'', ''POINT(22.6686500117 -85.6713992254)'', ''POINT(44.359802466 -27.7294728889)'']')\n",
    "```\n",
    "\n",
    "\n",
    "\n",
    "Sql Template:\n",
    "\n",
    "``` sql\n",
    "Select * from get_aqpoints({weights_scheeme},{points array})\n",
    "\n",
    "```\n",
    "\n",
    "\n",
    "\n"
   ]
  },
  {
   "cell_type": "code",
   "execution_count": 41,
   "metadata": {
    "ExecuteTime": {
     "end_time": "2017-03-29T10:01:04.674829",
     "start_time": "2017-03-29T10:01:04.004822"
    },
    "collapsed": false,
    "deletable": true,
    "editable": true
   },
   "outputs": [
    {
     "data": {
      "text/html": [
       "<div>\n",
       "<table border=\"1\" class=\"dataframe\">\n",
       "  <thead>\n",
       "    <tr style=\"text-align: right;\">\n",
       "      <th></th>\n",
       "      <th>access_to_water</th>\n",
       "      <th>basinid</th>\n",
       "      <th>drought_severity</th>\n",
       "      <th>flood_occurrence</th>\n",
       "      <th>groundwater_stress</th>\n",
       "      <th>interannual_variability</th>\n",
       "      <th>media_coverage</th>\n",
       "      <th>points_id</th>\n",
       "      <th>return_flow_ratio</th>\n",
       "      <th>seasonal_variability</th>\n",
       "      <th>the_geom</th>\n",
       "      <th>threatened_amphibians</th>\n",
       "      <th>upstream_protected_land</th>\n",
       "      <th>upstream_storage</th>\n",
       "      <th>water_risk</th>\n",
       "      <th>water_stress</th>\n",
       "    </tr>\n",
       "  </thead>\n",
       "  <tbody>\n",
       "  </tbody>\n",
       "</table>\n",
       "</div>"
      ],
      "text/plain": [
       "Empty DataFrame\n",
       "Columns: [access_to_water, basinid, drought_severity, flood_occurrence, groundwater_stress, interannual_variability, media_coverage, points_id, return_flow_ratio, seasonal_variability, the_geom, threatened_amphibians, upstream_protected_land, upstream_storage, water_risk, water_stress]\n",
       "Index: []"
      ]
     },
     "execution_count": 41,
     "metadata": {},
     "output_type": "execute_result"
    }
   ],
   "source": [
    "payload = {'q': \"Select * from get_aqpoints('[4, 1, 0.5, 1, 1, 2, 2, 1, 0.5, 1, 2, 0.5]','[''POINT(84.8085584935 -14.20067639)'', ''POINT(54.0392656274 -70.8898132233)'', ''POINT(-28.5832686897 -7.71134965117)'', ''POINT(47.9458596199 82.5599787066)'', ''POINT(50.8126903314 -46.0154993389)'', ''POINT(-62.5229253542 -9.68983337791)'', ''POINT(-34.7977234627 84.9984574252)'', ''POINT(-80.1102876685 -33.9286081419)'', ''POINT(22.6686500117 -85.6713992254)'', ''POINT(44.359802466 -27.7294728889)'']')\"}\n",
    "r = requests.get('https://wri-01.carto.com/api/v2/sql', params=payload)\n",
    "tableStructure= pd.read_json(json.dumps(r.json()['rows']), orient='records')\n",
    "tableStructure.head(0)"
   ]
  },
  {
   "cell_type": "markdown",
   "metadata": {
    "deletable": true,
    "editable": true
   },
   "source": [
    "# Anexo: Points stress test"
   ]
  },
  {
   "cell_type": "markdown",
   "metadata": {
    "deletable": true,
    "editable": true
   },
   "source": [
    "test points; 100; 500; 1000; 100000;"
   ]
  },
  {
   "cell_type": "code",
   "execution_count": 50,
   "metadata": {
    "ExecuteTime": {
     "end_time": "2017-03-29T10:06:28.144027",
     "start_time": "2017-03-29T10:06:27.341342"
    },
    "collapsed": false,
    "deletable": true,
    "editable": true
   },
   "outputs": [],
   "source": [
    "t = 180 * np.random.rand(1000000,2) - 90"
   ]
  },
  {
   "cell_type": "markdown",
   "metadata": {
    "deletable": true,
    "editable": true
   },
   "source": [
    "'POINT(-72.0 42.2)'"
   ]
  },
  {
   "cell_type": "code",
   "execution_count": 51,
   "metadata": {
    "ExecuteTime": {
     "end_time": "2017-03-29T10:06:39.474865",
     "start_time": "2017-03-29T10:06:33.081646"
    },
    "collapsed": false,
    "deletable": true,
    "editable": true
   },
   "outputs": [],
   "source": [
    "example1=[]\n",
    "for point in t:\n",
    "    example1.append('\\'\\'POINT(' +str(point[0])+ ' ' + str(point[1]) +')\\'\\'')"
   ]
  },
  {
   "cell_type": "code",
   "execution_count": 55,
   "metadata": {
    "ExecuteTime": {
     "end_time": "2017-03-29T10:10:49.386536",
     "start_time": "2017-03-29T10:10:49.362773"
    },
    "collapsed": false,
    "deletable": true,
    "editable": true
   },
   "outputs": [
    {
     "name": "stdout",
     "output_type": "stream",
     "text": [
      "[''POINT(59.5811260967 77.3623262486)'', ''POINT(-63.6218410705 89.1303836085)'', ''POINT(48.0451669995 -80.5556332888)'', ''POINT(-57.0569892769 -74.2317807807)'', ''POINT(-46.3315737453 13.6809865413)'', ''POINT(8.24187341096 49.2353479855)'', ''POINT(70.4610676554 -32.7375542753)'', ''POINT(47.154345797 -77.3688758508)'', ''POINT(-60.7940368148 -42.7692197099)'', ''POINT(-86.1714505549 -47.6013917246)'']\n",
      "410\n",
      "4097\n",
      "40771\n",
      "408083\n"
     ]
    }
   ],
   "source": [
    "t10 = '['+', '.join(example1[:10])+']'\n",
    "t100 = '['+', '.join(example1[:100])+']'\n",
    "t1000 = '['+', '.join(example1[:1000])+']'\n",
    "t10000 = '['+', '.join(example1[:10000])+']'\n",
    "print(t10)\n",
    "print(len(t10))\n",
    "print(len(t100))\n",
    "print(len(t1000))\n",
    "print(len(t10000))"
   ]
  },
  {
   "cell_type": "code",
   "execution_count": 59,
   "metadata": {
    "ExecuteTime": {
     "end_time": "2017-03-29T10:11:37.605866",
     "start_time": "2017-03-29T10:11:36.923622"
    },
    "collapsed": false,
    "deletable": true,
    "editable": true
   },
   "outputs": [
    {
     "data": {
      "text/html": [
       "<div>\n",
       "<table border=\"1\" class=\"dataframe\">\n",
       "  <thead>\n",
       "    <tr style=\"text-align: right;\">\n",
       "      <th></th>\n",
       "      <th>access_to_water</th>\n",
       "      <th>basinid</th>\n",
       "      <th>drought_severity</th>\n",
       "      <th>flood_occurrence</th>\n",
       "      <th>groundwater_stress</th>\n",
       "      <th>interannual_variability</th>\n",
       "      <th>media_coverage</th>\n",
       "      <th>points_id</th>\n",
       "      <th>return_flow_ratio</th>\n",
       "      <th>seasonal_variability</th>\n",
       "      <th>the_geom</th>\n",
       "      <th>threatened_amphibians</th>\n",
       "      <th>upstream_protected_land</th>\n",
       "      <th>upstream_storage</th>\n",
       "      <th>water_risk</th>\n",
       "      <th>water_stress</th>\n",
       "    </tr>\n",
       "  </thead>\n",
       "  <tbody>\n",
       "  </tbody>\n",
       "</table>\n",
       "</div>"
      ],
      "text/plain": [
       "Empty DataFrame\n",
       "Columns: [access_to_water, basinid, drought_severity, flood_occurrence, groundwater_stress, interannual_variability, media_coverage, points_id, return_flow_ratio, seasonal_variability, the_geom, threatened_amphibians, upstream_protected_land, upstream_storage, water_risk, water_stress]\n",
       "Index: []"
      ]
     },
     "execution_count": 59,
     "metadata": {},
     "output_type": "execute_result"
    }
   ],
   "source": [
    "payload = {'q': \"\"}\n",
    "payload['q']=\"Select * from get_aqpoints('[4, 1, 0.5, 1, 1, 2, 2, 1, 0.5, 1, 2, 0.5]',\\'\"+ t10 +\"\\')\"\n",
    "\n",
    "r = requests.get('https://wri-01.carto.com/api/v2/sql', params=payload)\n",
    "tableStructure= pd.read_json(json.dumps(r.json()['rows']), orient='records')\n",
    "tableStructure.head(0)"
   ]
  },
  {
   "cell_type": "code",
   "execution_count": 63,
   "metadata": {
    "ExecuteTime": {
     "end_time": "2017-03-29T10:12:43.090983",
     "start_time": "2017-03-29T10:12:42.185335"
    },
    "collapsed": false,
    "deletable": true,
    "editable": true
   },
   "outputs": [
    {
     "name": "stdout",
     "output_type": "stream",
     "text": [
      "<Response [200]>\n"
     ]
    },
    {
     "data": {
      "text/html": [
       "<div>\n",
       "<table border=\"1\" class=\"dataframe\">\n",
       "  <thead>\n",
       "    <tr style=\"text-align: right;\">\n",
       "      <th></th>\n",
       "      <th>access_to_water</th>\n",
       "      <th>basinid</th>\n",
       "      <th>drought_severity</th>\n",
       "      <th>flood_occurrence</th>\n",
       "      <th>groundwater_stress</th>\n",
       "      <th>interannual_variability</th>\n",
       "      <th>media_coverage</th>\n",
       "      <th>points_id</th>\n",
       "      <th>return_flow_ratio</th>\n",
       "      <th>seasonal_variability</th>\n",
       "      <th>the_geom</th>\n",
       "      <th>threatened_amphibians</th>\n",
       "      <th>upstream_protected_land</th>\n",
       "      <th>upstream_storage</th>\n",
       "      <th>water_risk</th>\n",
       "      <th>water_stress</th>\n",
       "    </tr>\n",
       "  </thead>\n",
       "  <tbody>\n",
       "  </tbody>\n",
       "</table>\n",
       "</div>"
      ],
      "text/plain": [
       "Empty DataFrame\n",
       "Columns: [access_to_water, basinid, drought_severity, flood_occurrence, groundwater_stress, interannual_variability, media_coverage, points_id, return_flow_ratio, seasonal_variability, the_geom, threatened_amphibians, upstream_protected_land, upstream_storage, water_risk, water_stress]\n",
       "Index: []"
      ]
     },
     "execution_count": 63,
     "metadata": {},
     "output_type": "execute_result"
    }
   ],
   "source": [
    "payload = {'q': \"\"}\n",
    "payload['q']=\"Select * from get_aqpoints('[4, 1, 0.5, 1, 1, 2, 2, 1, 0.5, 1, 2, 0.5]',\\'\"+ t100 +\"\\')\"\n",
    "r = requests.get('https://wri-01.carto.com/api/v2/sql', params=payload)\n",
    "\n",
    "tableStructure= pd.read_json(json.dumps(r.json()['rows']), orient='records')\n",
    "tableStructure.head(0)"
   ]
  },
  {
   "cell_type": "code",
   "execution_count": 80,
   "metadata": {
    "ExecuteTime": {
     "end_time": "2017-03-29T10:23:52.203811",
     "start_time": "2017-03-29T10:23:35.903470"
    },
    "collapsed": false,
    "deletable": true,
    "editable": true
   },
   "outputs": [
    {
     "data": {
      "text/html": [
       "<div>\n",
       "<table border=\"1\" class=\"dataframe\">\n",
       "  <thead>\n",
       "    <tr style=\"text-align: right;\">\n",
       "      <th></th>\n",
       "      <th>access_to_water</th>\n",
       "      <th>basinid</th>\n",
       "      <th>drought_severity</th>\n",
       "      <th>flood_occurrence</th>\n",
       "      <th>groundwater_stress</th>\n",
       "      <th>interannual_variability</th>\n",
       "      <th>media_coverage</th>\n",
       "      <th>points_id</th>\n",
       "      <th>return_flow_ratio</th>\n",
       "      <th>seasonal_variability</th>\n",
       "      <th>the_geom</th>\n",
       "      <th>threatened_amphibians</th>\n",
       "      <th>upstream_protected_land</th>\n",
       "      <th>upstream_storage</th>\n",
       "      <th>water_risk</th>\n",
       "      <th>water_stress</th>\n",
       "    </tr>\n",
       "  </thead>\n",
       "  <tbody>\n",
       "    <tr>\n",
       "      <th>0</th>\n",
       "      <td>NaN</td>\n",
       "      <td>NaN</td>\n",
       "      <td>NaN</td>\n",
       "      <td>NaN</td>\n",
       "      <td>NaN</td>\n",
       "      <td>NaN</td>\n",
       "      <td>NaN</td>\n",
       "      <td>1</td>\n",
       "      <td>NaN</td>\n",
       "      <td>NaN</td>\n",
       "      <td>0101000020E6100000DD16065762CA4D400A0E6F5A3057...</td>\n",
       "      <td>NaN</td>\n",
       "      <td>NaN</td>\n",
       "      <td>NaN</td>\n",
       "      <td>NaN</td>\n",
       "      <td>NaN</td>\n",
       "    </tr>\n",
       "    <tr>\n",
       "      <th>1</th>\n",
       "      <td>NaN</td>\n",
       "      <td>NaN</td>\n",
       "      <td>NaN</td>\n",
       "      <td>NaN</td>\n",
       "      <td>NaN</td>\n",
       "      <td>NaN</td>\n",
       "      <td>NaN</td>\n",
       "      <td>2</td>\n",
       "      <td>NaN</td>\n",
       "      <td>NaN</td>\n",
       "      <td>0101000020E6100000B68DFA7C98CF4FC0499C7D345848...</td>\n",
       "      <td>NaN</td>\n",
       "      <td>NaN</td>\n",
       "      <td>NaN</td>\n",
       "      <td>NaN</td>\n",
       "      <td>NaN</td>\n",
       "    </tr>\n",
       "    <tr>\n",
       "      <th>2</th>\n",
       "      <td>NaN</td>\n",
       "      <td>NaN</td>\n",
       "      <td>NaN</td>\n",
       "      <td>NaN</td>\n",
       "      <td>NaN</td>\n",
       "      <td>NaN</td>\n",
       "      <td>NaN</td>\n",
       "      <td>3</td>\n",
       "      <td>NaN</td>\n",
       "      <td>NaN</td>\n",
       "      <td>0101000020E610000000DB4008C8054840C1FDEC7E8F23...</td>\n",
       "      <td>NaN</td>\n",
       "      <td>NaN</td>\n",
       "      <td>NaN</td>\n",
       "      <td>NaN</td>\n",
       "      <td>NaN</td>\n",
       "    </tr>\n",
       "    <tr>\n",
       "      <th>3</th>\n",
       "      <td>NaN</td>\n",
       "      <td>NaN</td>\n",
       "      <td>NaN</td>\n",
       "      <td>NaN</td>\n",
       "      <td>NaN</td>\n",
       "      <td>NaN</td>\n",
       "      <td>NaN</td>\n",
       "      <td>4</td>\n",
       "      <td>NaN</td>\n",
       "      <td>NaN</td>\n",
       "      <td>0101000020E61000000C41B46C4B874CC0AA3C0E7FD58E...</td>\n",
       "      <td>NaN</td>\n",
       "      <td>NaN</td>\n",
       "      <td>NaN</td>\n",
       "      <td>NaN</td>\n",
       "      <td>NaN</td>\n",
       "    </tr>\n",
       "    <tr>\n",
       "      <th>4</th>\n",
       "      <td>NaN</td>\n",
       "      <td>NaN</td>\n",
       "      <td>NaN</td>\n",
       "      <td>NaN</td>\n",
       "      <td>NaN</td>\n",
       "      <td>NaN</td>\n",
       "      <td>NaN</td>\n",
       "      <td>5</td>\n",
       "      <td>NaN</td>\n",
       "      <td>NaN</td>\n",
       "      <td>0101000020E61000004B232C02712A47C09FCC9744AA5C...</td>\n",
       "      <td>NaN</td>\n",
       "      <td>NaN</td>\n",
       "      <td>NaN</td>\n",
       "      <td>NaN</td>\n",
       "      <td>NaN</td>\n",
       "    </tr>\n",
       "    <tr>\n",
       "      <th>5</th>\n",
       "      <td>0.0</td>\n",
       "      <td>9007.0</td>\n",
       "      <td>2.009725</td>\n",
       "      <td>3.578902</td>\n",
       "      <td>0.000000</td>\n",
       "      <td>0.862708</td>\n",
       "      <td>0.000000</td>\n",
       "      <td>6</td>\n",
       "      <td>1.874997</td>\n",
       "      <td>0.986695</td>\n",
       "      <td>0101000020E6100000BAB0EBD4D67B20407473FEE11F9E...</td>\n",
       "      <td>1.0</td>\n",
       "      <td>3.18696</td>\n",
       "      <td>5.0</td>\n",
       "      <td>2.101333</td>\n",
       "      <td>1.706493</td>\n",
       "    </tr>\n",
       "    <tr>\n",
       "      <th>6</th>\n",
       "      <td>0.0</td>\n",
       "      <td>9007.0</td>\n",
       "      <td>2.009725</td>\n",
       "      <td>3.578902</td>\n",
       "      <td>0.000000</td>\n",
       "      <td>0.862708</td>\n",
       "      <td>1.896907</td>\n",
       "      <td>6</td>\n",
       "      <td>1.874997</td>\n",
       "      <td>0.986695</td>\n",
       "      <td>0101000020E6100000BAB0EBD4D67B20407473FEE11F9E...</td>\n",
       "      <td>1.0</td>\n",
       "      <td>3.18696</td>\n",
       "      <td>5.0</td>\n",
       "      <td>2.245030</td>\n",
       "      <td>1.706493</td>\n",
       "    </tr>\n",
       "    <tr>\n",
       "      <th>7</th>\n",
       "      <td>0.0</td>\n",
       "      <td>9007.0</td>\n",
       "      <td>2.009725</td>\n",
       "      <td>3.578902</td>\n",
       "      <td>0.000000</td>\n",
       "      <td>0.862708</td>\n",
       "      <td>0.000000</td>\n",
       "      <td>6</td>\n",
       "      <td>1.874997</td>\n",
       "      <td>0.986695</td>\n",
       "      <td>0101000020E6100000BAB0EBD4D67B20407473FEE11F9E...</td>\n",
       "      <td>1.0</td>\n",
       "      <td>3.18696</td>\n",
       "      <td>5.0</td>\n",
       "      <td>2.101333</td>\n",
       "      <td>1.706493</td>\n",
       "    </tr>\n",
       "    <tr>\n",
       "      <th>8</th>\n",
       "      <td>0.0</td>\n",
       "      <td>9007.0</td>\n",
       "      <td>2.009725</td>\n",
       "      <td>3.578902</td>\n",
       "      <td>0.482125</td>\n",
       "      <td>0.862708</td>\n",
       "      <td>1.896907</td>\n",
       "      <td>6</td>\n",
       "      <td>1.874997</td>\n",
       "      <td>0.986695</td>\n",
       "      <td>0101000020E6100000BAB0EBD4D67B20407473FEE11F9E...</td>\n",
       "      <td>1.0</td>\n",
       "      <td>3.18696</td>\n",
       "      <td>5.0</td>\n",
       "      <td>2.318075</td>\n",
       "      <td>1.706493</td>\n",
       "    </tr>\n",
       "    <tr>\n",
       "      <th>9</th>\n",
       "      <td>0.0</td>\n",
       "      <td>9007.0</td>\n",
       "      <td>2.009725</td>\n",
       "      <td>3.578902</td>\n",
       "      <td>0.635615</td>\n",
       "      <td>0.862708</td>\n",
       "      <td>0.000000</td>\n",
       "      <td>6</td>\n",
       "      <td>1.874997</td>\n",
       "      <td>0.986695</td>\n",
       "      <td>0101000020E6100000BAB0EBD4D67B20407473FEE11F9E...</td>\n",
       "      <td>1.0</td>\n",
       "      <td>3.18696</td>\n",
       "      <td>5.0</td>\n",
       "      <td>2.197633</td>\n",
       "      <td>1.706493</td>\n",
       "    </tr>\n",
       "  </tbody>\n",
       "</table>\n",
       "</div>"
      ],
      "text/plain": [
       "   access_to_water  basinid  drought_severity  flood_occurrence  \\\n",
       "0              NaN      NaN               NaN               NaN   \n",
       "1              NaN      NaN               NaN               NaN   \n",
       "2              NaN      NaN               NaN               NaN   \n",
       "3              NaN      NaN               NaN               NaN   \n",
       "4              NaN      NaN               NaN               NaN   \n",
       "5              0.0   9007.0          2.009725          3.578902   \n",
       "6              0.0   9007.0          2.009725          3.578902   \n",
       "7              0.0   9007.0          2.009725          3.578902   \n",
       "8              0.0   9007.0          2.009725          3.578902   \n",
       "9              0.0   9007.0          2.009725          3.578902   \n",
       "\n",
       "   groundwater_stress  interannual_variability  media_coverage  points_id  \\\n",
       "0                 NaN                      NaN             NaN          1   \n",
       "1                 NaN                      NaN             NaN          2   \n",
       "2                 NaN                      NaN             NaN          3   \n",
       "3                 NaN                      NaN             NaN          4   \n",
       "4                 NaN                      NaN             NaN          5   \n",
       "5            0.000000                 0.862708        0.000000          6   \n",
       "6            0.000000                 0.862708        1.896907          6   \n",
       "7            0.000000                 0.862708        0.000000          6   \n",
       "8            0.482125                 0.862708        1.896907          6   \n",
       "9            0.635615                 0.862708        0.000000          6   \n",
       "\n",
       "   return_flow_ratio  seasonal_variability  \\\n",
       "0                NaN                   NaN   \n",
       "1                NaN                   NaN   \n",
       "2                NaN                   NaN   \n",
       "3                NaN                   NaN   \n",
       "4                NaN                   NaN   \n",
       "5           1.874997              0.986695   \n",
       "6           1.874997              0.986695   \n",
       "7           1.874997              0.986695   \n",
       "8           1.874997              0.986695   \n",
       "9           1.874997              0.986695   \n",
       "\n",
       "                                            the_geom  threatened_amphibians  \\\n",
       "0  0101000020E6100000DD16065762CA4D400A0E6F5A3057...                    NaN   \n",
       "1  0101000020E6100000B68DFA7C98CF4FC0499C7D345848...                    NaN   \n",
       "2  0101000020E610000000DB4008C8054840C1FDEC7E8F23...                    NaN   \n",
       "3  0101000020E61000000C41B46C4B874CC0AA3C0E7FD58E...                    NaN   \n",
       "4  0101000020E61000004B232C02712A47C09FCC9744AA5C...                    NaN   \n",
       "5  0101000020E6100000BAB0EBD4D67B20407473FEE11F9E...                    1.0   \n",
       "6  0101000020E6100000BAB0EBD4D67B20407473FEE11F9E...                    1.0   \n",
       "7  0101000020E6100000BAB0EBD4D67B20407473FEE11F9E...                    1.0   \n",
       "8  0101000020E6100000BAB0EBD4D67B20407473FEE11F9E...                    1.0   \n",
       "9  0101000020E6100000BAB0EBD4D67B20407473FEE11F9E...                    1.0   \n",
       "\n",
       "   upstream_protected_land  upstream_storage  water_risk  water_stress  \n",
       "0                      NaN               NaN         NaN           NaN  \n",
       "1                      NaN               NaN         NaN           NaN  \n",
       "2                      NaN               NaN         NaN           NaN  \n",
       "3                      NaN               NaN         NaN           NaN  \n",
       "4                      NaN               NaN         NaN           NaN  \n",
       "5                  3.18696               5.0    2.101333      1.706493  \n",
       "6                  3.18696               5.0    2.245030      1.706493  \n",
       "7                  3.18696               5.0    2.101333      1.706493  \n",
       "8                  3.18696               5.0    2.318075      1.706493  \n",
       "9                  3.18696               5.0    2.197633      1.706493  "
      ]
     },
     "execution_count": 80,
     "metadata": {},
     "output_type": "execute_result"
    }
   ],
   "source": [
    "payload = {'q': \"\"}\n",
    "payload['q']=\"Select * from get_aqpoints('[4, 1, 0.5, 1, 1, 2, 2, 1, 0.5, 1, 2, 0.5]',\\'\"+ t10000 +\"\\')\"\n",
    "r = requests.post('https://wri-01.carto.com/api/v2/sql', data=payload)\n",
    "if r.status_code != 200:\n",
    "    issue = json.loads(r.text)\n",
    "    print(issue[u'title'])\n",
    "    print(issue[u'comments'])    \n",
    "else:\n",
    "    tableStructure= pd.read_json(json.dumps(r.json()['rows']), orient='records')\n",
    "tableStructure.head(10)\n",
    "        \n",
    "\n"
   ]
  },
  {
   "cell_type": "markdown",
   "metadata": {
    "deletable": true,
    "editable": true
   },
   "source": []
  }
 ],
 "metadata": {
  "kernelspec": {
   "display_name": "Python 3",
   "language": "python",
   "name": "python3"
  },
  "language_info": {
   "codemirror_mode": {
    "name": "ipython",
    "version": 3
   },
   "file_extension": ".py",
   "mimetype": "text/x-python",
   "name": "python",
   "nbconvert_exporter": "python",
   "pygments_lexer": "ipython3",
   "version": "3.5.3"
  }
 },
 "nbformat": 4,
 "nbformat_minor": 2
}
