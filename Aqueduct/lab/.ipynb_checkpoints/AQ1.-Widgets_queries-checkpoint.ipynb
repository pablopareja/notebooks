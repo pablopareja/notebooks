{
 "cells": [
  {
   "cell_type": "markdown",
   "metadata": {
    "deletable": true,
    "editable": true
   },
   "source": [
    "# Widgets queries and visualizations"
   ]
  },
  {
   "cell_type": "code",
   "execution_count": 1,
   "metadata": {
    "ExecuteTime": {
     "end_time": "2017-03-29T10:49:45.680473",
     "start_time": "2017-03-29T10:49:44.273916"
    },
    "collapsed": false,
    "deletable": true,
    "editable": true
   },
   "outputs": [],
   "source": [
    "import pandas as pd\n",
    "import json\n",
    "import requests\n",
    "import numpy as np"
   ]
  },
  {
   "cell_type": "markdown",
   "metadata": {},
   "source": [
    "## Index:\n"
   ]
  },
  {
   "cell_type": "markdown",
   "metadata": {
    "deletable": true,
    "editable": true
   },
   "source": [
    "## Current widgets; migration to the new table structure. "
   ]
  },
  {
   "cell_type": "markdown",
   "metadata": {
    "deletable": true,
    "editable": true
   },
   "source": [
    "### Global, All crops"
   ]
  },
  {
   "cell_type": "markdown",
   "metadata": {
    "deletable": true,
    "editable": true
   },
   "source": [
    "#### WATER STRESS ON FOOD PRODUCTION\n",
    "\n",
    " * Dataset_id: 5be16fea-5b1a-4daf-a9e9-9dc1f6ea6d4e\n",
    " * Widget_id: 7b29a2a5-515a-4e22-846f-03ad3d2c0a13\n",
    " * Units: \n",
    "     * water stress:\n",
    "     * food production:\n",
    "\n",
    " * Dataset csv or json connector sql:\n",
    "\n",
    "    ```sql\n",
    "\n",
    "    ```\n",
    "\n",
    " * Widget Api sql:\n",
    "\n",
    "    ```sql\n",
    "with t as (select sum(area) as area, {{water_column}} as risk, crop from crops_stats group by {{water_column}}, crop order by risk asc), r as (SELECT sum(value) as value, commodity FROM combined01_prepared where year='{{year}}' and impactparameter='Food Demand' group by commodity ), d as ( select (value*100/(sum(value) over())) as value, commodity from r ) select crop, risk,value, (area*100/sum(area) over(partition by crop)) area_perc from d inner join t on lower(commodity)=crop order by risk asc, crop asc\n",
    "    ```\n",
    " * Parametrization:\n",
    "    ``` json\n",
    "    \"params_config\": [{\n",
    "            \"key\":\"water_column\",\n",
    "            \"required\":true\n",
    "            }],\n",
    "        \"sql_config\": [{\n",
    "            \"key\": \"where\", \n",
    "            \"key_params\":[{\n",
    "                \"key\":\"iso\",\n",
    "                \"required\":false},{ \n",
    "                \"key\":\"crop\",\n",
    "                \"required\":false},{ \n",
    "                \"key\":\"irrigation\",\n",
    "                \"required\":false}]\n",
    "                    }],\n",
    "\n",
    "    ```\n",
    "\n",
    " * Visualization type: Marimmeko"
   ]
  },
  {
   "cell_type": "code",
   "execution_count": 17,
   "metadata": {
    "ExecuteTime": {
     "end_time": "2017-03-22T15:45:29.189334",
     "start_time": "2017-03-22T15:45:28.635761"
    },
    "collapsed": false,
    "deletable": true,
    "editable": true,
    "scrolled": true
   },
   "outputs": [
    {
     "name": "stdout",
     "output_type": "stream",
     "text": [
      "<Response [200]>\n"
     ]
    },
    {
     "data": {
      "text/html": [
       "<div>\n",
       "<table border=\"1\" class=\"dataframe\">\n",
       "  <thead>\n",
       "    <tr style=\"text-align: right;\">\n",
       "      <th></th>\n",
       "      <th>basinid</th>\n",
       "      <th>cartodb_id</th>\n",
       "      <th>indicator</th>\n",
       "      <th>label</th>\n",
       "      <th>model</th>\n",
       "      <th>period</th>\n",
       "      <th>period_value</th>\n",
       "      <th>the_geom</th>\n",
       "      <th>the_geom_webmercator</th>\n",
       "      <th>type</th>\n",
       "      <th>value</th>\n",
       "      <th>year</th>\n",
       "    </tr>\n",
       "  </thead>\n",
       "  <tbody>\n",
       "    <tr>\n",
       "      <th>0</th>\n",
       "      <td>7664</td>\n",
       "      <td>9</td>\n",
       "      <td>water_stress</td>\n",
       "      <td>3. Medium to high (0.5-0.75)</td>\n",
       "      <td>historic</td>\n",
       "      <td>year</td>\n",
       "      <td>NaN</td>\n",
       "      <td>NaN</td>\n",
       "      <td>NaN</td>\n",
       "      <td>absolute</td>\n",
       "      <td>0.556385</td>\n",
       "      <td>2014</td>\n",
       "    </tr>\n",
       "  </tbody>\n",
       "</table>\n",
       "</div>"
      ],
      "text/plain": [
       "   basinid  cartodb_id     indicator                         label     model  \\\n",
       "0     7664           9  water_stress  3. Medium to high (0.5-0.75)  historic   \n",
       "\n",
       "  period  period_value  the_geom  the_geom_webmercator      type     value  \\\n",
       "0   year           NaN       NaN                   NaN  absolute  0.556385   \n",
       "\n",
       "   year  \n",
       "0  2014  "
      ]
     },
     "execution_count": 17,
     "metadata": {},
     "output_type": "execute_result"
    }
   ],
   "source": [
    "payload = {'q': \"select * from water_risk_indicators where indicator = 'water_stress' and model in ('bau', 'historic') and period='year' and type='absolute' and basinid = 7664 order by year asc\"}\n",
    "r = requests.get('https://wri-01.carto.com/api/v2/sql', params=payload)\n",
    "print(r)\n",
    "tableStructure= pd.read_json(json.dumps(r.json()['rows']), orient='records')\n",
    "tableStructure.head(1)"
   ]
  },
  {
   "cell_type": "code",
   "execution_count": 22,
   "metadata": {
    "ExecuteTime": {
     "end_time": "2017-03-22T16:52:37.922527",
     "start_time": "2017-03-22T16:52:37.913483"
    },
    "collapsed": false,
    "deletable": true,
    "editable": true
   },
   "outputs": [
    {
     "data": {
      "text/html": [
       "<iframe src=\"http://aqueduct-water-food-security.herokuapp.com/embed?state=eyJmaWx0ZXJzIjp7ImNyb3AiOiJhbGwiLCJzY29wZSI6Imdsb2JhbCIsInllYXIiOiIyMDIwIiwiZm9vZCI6Im5vbmUiLCJ3YXRlciI6Im5vbmUiLCJpcnJpZ2F0aW9uIjpbImlycmlnYXRlZCIsInJhaW5mZWQiXSwiY2hhbmdlRnJvbUJhc2VsaW5lIjpmYWxzZX0sImVtYmVkIjp7ImlkIjoiNWJlMTZmZWEtNWIxYS00ZGFmLWE5ZTktOWRjMWY2ZWE2ZDRlIn19\" width=\"500\" height=\"320\" frameborder=\"0\" style=\"border:0\" allowfullscreen></iframe>"
      ],
      "text/plain": [
       "<IPython.core.display.HTML object>"
      ]
     },
     "metadata": {},
     "output_type": "display_data"
    }
   ],
   "source": [
    "%%html \n",
    "<iframe src=\"http://aqueduct-water-food-security.herokuapp.com/embed?state=eyJmaWx0ZXJzIjp7ImNyb3AiOiJhbGwiLCJzY29wZSI6Imdsb2JhbCIsInllYXIiOiIyMDIwIiwiZm9vZCI6Im5vbmUiLCJ3YXRlciI6Im5vbmUiLCJpcnJpZ2F0aW9uIjpbImlycmlnYXRlZCIsInJhaW5mZWQiXSwiY2hhbmdlRnJvbUJhc2VsaW5lIjpmYWxzZX0sImVtYmVkIjp7ImlkIjoiNWJlMTZmZWEtNWIxYS00ZGFmLWE5ZTktOWRjMWY2ZWE2ZDRlIn19\" width=\"500\" height=\"320\" frameborder=\"0\" style=\"border:0\" allowfullscreen></iframe>"
   ]
  },
  {
   "cell_type": "markdown",
   "metadata": {
    "deletable": true,
    "editable": true
   },
   "source": [
    "#### SUMMARY TABLE, TOTAL CROPS PRODUCTION AREA\n",
    "\n",
    " * Dataset_id:\n",
    " * Widget_id:\n",
    "\n",
    " * Dataset connector sql:\n",
    "\n",
    "    ```sql\n",
    "\n",
    "    ```\n",
    "\n",
    " * Widget Api sql:\n",
    "\n",
    "    ```sql\n",
    "\n",
    "    ```\n",
    " * Parametrization:\n",
    "    ``` json\n",
    "    \"params_config\": [{\n",
    "            \"key\":\"water_column\",\n",
    "            \"required\":true\n",
    "            }],\n",
    "        \"sql_config\": [{\n",
    "            \"key\": \"where\", \n",
    "            \"key_params\":[{\n",
    "                \"key\":\"iso\",\n",
    "                \"required\":false},{ \n",
    "                \"key\":\"crop\",\n",
    "                \"required\":false},{ \n",
    "                \"key\":\"irrigation\",\n",
    "                \"required\":false}]\n",
    "                    }],\n",
    "\n",
    "    ```\n",
    "\n",
    " * Visualization type: Bar chart"
   ]
  },
  {
   "cell_type": "code",
   "execution_count": null,
   "metadata": {
    "collapsed": true,
    "deletable": true,
    "editable": true
   },
   "outputs": [],
   "source": []
  },
  {
   "cell_type": "code",
   "execution_count": null,
   "metadata": {
    "collapsed": true,
    "deletable": true,
    "editable": true
   },
   "outputs": [],
   "source": []
  },
  {
   "cell_type": "markdown",
   "metadata": {
    "deletable": true,
    "editable": true
   },
   "source": [
    "#### COUNTRY WATER RISK EXPOSURE AND RISK OF HUNGER\n",
    "\n",
    " * Dataset_id:\n",
    " * Widget_id:\n",
    "\n",
    " * Dataset connector sql:\n",
    "\n",
    "    ```sql\n",
    "\n",
    "    ```\n",
    "\n",
    " * Widget Api sql:\n",
    "\n",
    "    ```sql\n",
    "\n",
    "    ```\n",
    " * Parametrization:\n",
    "    ``` json\n",
    "    \"params_config\": [{\n",
    "            \"key\":\"water_column\",\n",
    "            \"required\":true\n",
    "            }],\n",
    "        \"sql_config\": [{\n",
    "            \"key\": \"where\", \n",
    "            \"key_params\":[{\n",
    "                \"key\":\"iso\",\n",
    "                \"required\":false},{ \n",
    "                \"key\":\"crop\",\n",
    "                \"required\":false},{ \n",
    "                \"key\":\"irrigation\",\n",
    "                \"required\":false}]\n",
    "                    }],\n",
    "\n",
    "    ```\n",
    "\n",
    " * Visualization type: Bar chart"
   ]
  },
  {
   "cell_type": "markdown",
   "metadata": {
    "deletable": true,
    "editable": true
   },
   "source": [
    "#### Widget name\n",
    "\n",
    "Dataset connector sql:\n",
    "\n",
    "```sql\n",
    "\n",
    "```\n",
    "\n",
    "Widget Api sql:\n",
    "\n",
    "```sql\n",
    "\n",
    "```\n",
    "Parametrization:\n",
    "``` json\n",
    "\"params_config\": [{\n",
    "\t\t\"key\":\"water_column\",\n",
    "\t\t\"required\":true\n",
    "  \t\t}],\n",
    "  \t\"sql_config\": [{\n",
    "  \t\t\"key\": \"where\", \n",
    "  \t\t\"key_params\":[{\n",
    "  \t\t\t\"key\":\"iso\",\n",
    "  \t\t\t\"required\":false},{ \n",
    "  \t\t\t\"key\":\"crop\",\n",
    "  \t\t\t\"required\":false},{ \n",
    "  \t\t\t\"key\":\"irrigation\",\n",
    "  \t\t\t\"required\":false}]\n",
    "                }],\n",
    "\n",
    "```\n",
    "\n",
    "Visualization type: Bar chart"
   ]
  },
  {
   "cell_type": "code",
   "execution_count": null,
   "metadata": {
    "collapsed": true,
    "deletable": true,
    "editable": true
   },
   "outputs": [],
   "source": []
  },
  {
   "cell_type": "code",
   "execution_count": null,
   "metadata": {
    "collapsed": true,
    "deletable": true,
    "editable": true
   },
   "outputs": [],
   "source": []
  },
  {
   "cell_type": "markdown",
   "metadata": {
    "deletable": true,
    "editable": true
   },
   "source": [
    "#### RAINFED VS IRRIGATED\n",
    "\n",
    " * Dataset_id:\n",
    " * Widget_id:\n",
    "\n",
    " * Dataset connector sql:\n",
    "\n",
    "    ```sql\n",
    "\n",
    "    ```\n",
    "\n",
    " * Widget Api sql:\n",
    "\n",
    "    ```sql\n",
    "\n",
    "    ```\n",
    " * Parametrization:\n",
    "    ``` json\n",
    "    \"params_config\": [{\n",
    "            \"key\":\"water_column\",\n",
    "            \"required\":true\n",
    "            }],\n",
    "        \"sql_config\": [{\n",
    "            \"key\": \"where\", \n",
    "            \"key_params\":[{\n",
    "                \"key\":\"iso\",\n",
    "                \"required\":false},{ \n",
    "                \"key\":\"crop\",\n",
    "                \"required\":false},{ \n",
    "                \"key\":\"irrigation\",\n",
    "                \"required\":false}]\n",
    "                    }],\n",
    "\n",
    "    ```\n",
    "\n",
    " * Visualization type: Bar chart"
   ]
  },
  {
   "cell_type": "code",
   "execution_count": null,
   "metadata": {
    "collapsed": true,
    "deletable": true,
    "editable": true
   },
   "outputs": [],
   "source": []
  },
  {
   "cell_type": "code",
   "execution_count": null,
   "metadata": {
    "collapsed": true,
    "deletable": true,
    "editable": true
   },
   "outputs": [],
   "source": []
  },
  {
   "cell_type": "markdown",
   "metadata": {
    "deletable": true,
    "editable": true
   },
   "source": [
    "### Global, one crop"
   ]
  },
  {
   "cell_type": "markdown",
   "metadata": {
    "deletable": true,
    "editable": true
   },
   "source": [
    "#### CROP'S PRODUCING AREAS EXPOSED TO WATER STRESS.\n",
    "\n",
    " * Dataset_id:\n",
    " * Widget_id:\n",
    "\n",
    " * Dataset connector sql:\n",
    "\n",
    "    ```sql\n",
    "\n",
    "    ```\n",
    "\n",
    " * Widget Api sql:\n",
    "\n",
    "    ```sql\n",
    "\n",
    "    ```\n",
    " * Parametrization:\n",
    "    ``` json\n",
    "    \"params_config\": [{\n",
    "            \"key\":\"water_column\",\n",
    "            \"required\":true\n",
    "            }],\n",
    "        \"sql_config\": [{\n",
    "            \"key\": \"where\", \n",
    "            \"key_params\":[{\n",
    "                \"key\":\"iso\",\n",
    "                \"required\":false},{ \n",
    "                \"key\":\"crop\",\n",
    "                \"required\":false},{ \n",
    "                \"key\":\"irrigation\",\n",
    "                \"required\":false}]\n",
    "                    }],\n",
    "\n",
    "    ```\n",
    "\n",
    " * Visualization type: Marimmeko"
   ]
  },
  {
   "cell_type": "code",
   "execution_count": null,
   "metadata": {
    "collapsed": true,
    "deletable": true,
    "editable": true
   },
   "outputs": [],
   "source": []
  },
  {
   "cell_type": "code",
   "execution_count": null,
   "metadata": {
    "collapsed": true,
    "deletable": true,
    "editable": true
   },
   "outputs": [],
   "source": []
  },
  {
   "cell_type": "markdown",
   "metadata": {
    "deletable": true,
    "editable": true
   },
   "source": [
    "### Country, one crops"
   ]
  },
  {
   "cell_type": "markdown",
   "metadata": {
    "deletable": true,
    "editable": true
   },
   "source": [
    "#### Country summary table\n",
    "\n",
    " * Dataset_id:\n",
    " * Widget_id:\n",
    "\n",
    " * Dataset connector sql:\n",
    "\n",
    "    ```sql\n",
    "\n",
    "    ```\n",
    "\n",
    " * Widget Api sql:\n",
    "\n",
    "    ```sql\n",
    "\n",
    "    ```\n",
    " * Parametrization:\n",
    "    ``` json\n",
    "    \"params_config\": [{\n",
    "            \"key\":\"water_column\",\n",
    "            \"required\":true\n",
    "            }],\n",
    "        \"sql_config\": [{\n",
    "            \"key\": \"where\", \n",
    "            \"key_params\":[{\n",
    "                \"key\":\"iso\",\n",
    "                \"required\":false},{ \n",
    "                \"key\":\"crop\",\n",
    "                \"required\":false},{ \n",
    "                \"key\":\"irrigation\",\n",
    "                \"required\":false}]\n",
    "                    }],\n",
    "\n",
    "    ```\n",
    "\n",
    " * Visualization type: Marimmeko"
   ]
  },
  {
   "cell_type": "code",
   "execution_count": null,
   "metadata": {
    "collapsed": true,
    "deletable": true,
    "editable": true
   },
   "outputs": [],
   "source": []
  },
  {
   "cell_type": "code",
   "execution_count": null,
   "metadata": {
    "collapsed": true,
    "deletable": true,
    "editable": true
   },
   "outputs": [],
   "source": []
  },
  {
   "cell_type": "markdown",
   "metadata": {
    "deletable": true,
    "editable": true
   },
   "source": [
    "#### CROPS PRODUCED IN AREAS OF HIGH WATER STRESS\n",
    "\n",
    " * Dataset_id:\n",
    " * Widget_id:\n",
    "\n",
    " * Dataset connector sql:\n",
    "\n",
    "    ```sql\n",
    "\n",
    "    ```\n",
    "\n",
    " * Widget Api sql:\n",
    "\n",
    "    ```sql\n",
    "\n",
    "    ```\n",
    " * Parametrization:\n",
    "    ``` json\n",
    "    \"params_config\": [{\n",
    "            \"key\":\"water_column\",\n",
    "            \"required\":true\n",
    "            }],\n",
    "        \"sql_config\": [{\n",
    "            \"key\": \"where\", \n",
    "            \"key_params\":[{\n",
    "                \"key\":\"iso\",\n",
    "                \"required\":false},{ \n",
    "                \"key\":\"crop\",\n",
    "                \"required\":false},{ \n",
    "                \"key\":\"irrigation\",\n",
    "                \"required\":false}]\n",
    "                    }],\n",
    "\n",
    "    ```\n",
    "\n",
    " * Visualization type: Marimmeko"
   ]
  },
  {
   "cell_type": "code",
   "execution_count": null,
   "metadata": {
    "collapsed": true,
    "deletable": true,
    "editable": true
   },
   "outputs": [],
   "source": []
  },
  {
   "cell_type": "code",
   "execution_count": null,
   "metadata": {
    "collapsed": true,
    "deletable": true,
    "editable": true
   },
   "outputs": [],
   "source": []
  },
  {
   "cell_type": "markdown",
   "metadata": {
    "deletable": true,
    "editable": true
   },
   "source": [
    "#### GROWING CROPS UNDER WATER STRESS CONDITIONS.\n",
    "\n",
    "\n",
    " * Dataset_id:\n",
    " * Widget_id:\n",
    "\n",
    " * Dataset connector sql:\n",
    "\n",
    "    ```sql\n",
    "\n",
    "    ```\n",
    "\n",
    " * Widget Api sql:\n",
    "\n",
    "    ```sql\n",
    "\n",
    "    ```\n",
    " * Parametrization:\n",
    "    ``` json\n",
    "    \"params_config\": [{\n",
    "            \"key\":\"water_column\",\n",
    "            \"required\":true\n",
    "            }],\n",
    "        \"sql_config\": [{\n",
    "            \"key\": \"where\", \n",
    "            \"key_params\":[{\n",
    "                \"key\":\"iso\",\n",
    "                \"required\":false},{ \n",
    "                \"key\":\"crop\",\n",
    "                \"required\":false},{ \n",
    "                \"key\":\"irrigation\",\n",
    "                \"required\":false}]\n",
    "                    }],\n",
    "\n",
    "    ```\n",
    "\n",
    " * Visualization type: Marimmeko"
   ]
  },
  {
   "cell_type": "code",
   "execution_count": null,
   "metadata": {
    "collapsed": true,
    "deletable": true,
    "editable": true
   },
   "outputs": [],
   "source": []
  },
  {
   "cell_type": "code",
   "execution_count": null,
   "metadata": {
    "collapsed": true,
    "deletable": true,
    "editable": true
   },
   "outputs": [],
   "source": []
  },
  {
   "cell_type": "markdown",
   "metadata": {
    "deletable": true,
    "editable": true
   },
   "source": [
    "### Global, All crops"
   ]
  },
  {
   "cell_type": "markdown",
   "metadata": {
    "deletable": true,
    "editable": true
   },
   "source": [
    "#### Country SUMMARY\n",
    "\n",
    "\n",
    " * Dataset_id:\n",
    " * Widget_id:\n",
    "\n",
    " * Dataset connector sql:\n",
    "\n",
    "    ```sql\n",
    "\n",
    "    ```\n",
    "\n",
    " * Widget Api sql:\n",
    "\n",
    "    ```sql\n",
    "\n",
    "    ```\n",
    " * Parametrization:\n",
    "    ``` json\n",
    "    \"params_config\": [{\n",
    "            \"key\":\"water_column\",\n",
    "            \"required\":true\n",
    "            }],\n",
    "        \"sql_config\": [{\n",
    "            \"key\": \"where\", \n",
    "            \"key_params\":[{\n",
    "                \"key\":\"iso\",\n",
    "                \"required\":false},{ \n",
    "                \"key\":\"crop\",\n",
    "                \"required\":false},{ \n",
    "                \"key\":\"irrigation\",\n",
    "                \"required\":false}]\n",
    "                    }],\n",
    "\n",
    "    ```\n",
    "\n",
    " * Visualization type: Marimmeko"
   ]
  },
  {
   "cell_type": "code",
   "execution_count": null,
   "metadata": {
    "collapsed": true,
    "deletable": true,
    "editable": true
   },
   "outputs": [],
   "source": []
  },
  {
   "cell_type": "code",
   "execution_count": null,
   "metadata": {
    "collapsed": true,
    "deletable": true,
    "editable": true
   },
   "outputs": [],
   "source": []
  },
  {
   "cell_type": "markdown",
   "metadata": {
    "deletable": true,
    "editable": true
   },
   "source": [
    "#### CROPS GROWING UNDER HIGH WATER STRESS CONDITIONS IN A COUNTRY\n",
    "\n",
    "\n",
    " * Dataset_id:\n",
    " * Widget_id:\n",
    "\n",
    " * Dataset connector sql:\n",
    "\n",
    "    ```sql\n",
    "\n",
    "    ```\n",
    "\n",
    " * Widget Api sql:\n",
    "\n",
    "    ```sql\n",
    "\n",
    "    ```\n",
    " * Parametrization:\n",
    "    ``` json\n",
    "    \"params_config\": [{\n",
    "            \"key\":\"water_column\",\n",
    "            \"required\":true\n",
    "            }],\n",
    "        \"sql_config\": [{\n",
    "            \"key\": \"where\", \n",
    "            \"key_params\":[{\n",
    "                \"key\":\"iso\",\n",
    "                \"required\":false},{ \n",
    "                \"key\":\"crop\",\n",
    "                \"required\":false},{ \n",
    "                \"key\":\"irrigation\",\n",
    "                \"required\":false}]\n",
    "                    }],\n",
    "\n",
    "    ```\n",
    "\n",
    " * Visualization type: Marimmeko"
   ]
  },
  {
   "cell_type": "code",
   "execution_count": null,
   "metadata": {
    "collapsed": true,
    "deletable": true,
    "editable": true
   },
   "outputs": [],
   "source": []
  },
  {
   "cell_type": "code",
   "execution_count": null,
   "metadata": {
    "collapsed": true,
    "deletable": true,
    "editable": true
   },
   "outputs": [],
   "source": []
  },
  {
   "cell_type": "markdown",
   "metadata": {
    "deletable": true,
    "editable": true
   },
   "source": [
    "#### PERCENTAGE OF COUNTRY'S POPULATION AT HIGH RISK OF HUNGER.\n",
    "\n",
    " * Dataset_id:\n",
    " * Widget_id:\n",
    "\n",
    " * Dataset connector sql:\n",
    "\n",
    "    ```sql\n",
    "\n",
    "    ```\n",
    "\n",
    " * Widget Api sql:\n",
    "\n",
    "    ```sql\n",
    "WITH RESULT AS (SELECT round(value::numeric, 2) AS value, region, year, iso FROM combined01_prepared WHERE year = 2030 AND impactparameter = 'Share Pop. at risk of hunger' AND scenario = 'SSP2-MIRO' and iso = upper('BRA')) \n",
    "SELECT CASE WHEN year > 2010 THEN 'will be' ELSE 'are' END AS verb, \n",
    "CASE WHEN year > 2010 THEN 'in ' || to_char(YEAR, '9999') ELSE '' END AS YEAR, \n",
    "Case when value < 1 then 'less than 1' else to_char(value, '9999') end as value, \n",
    "region AS country, iso FROM RESULT\n",
    "    ```\n",
    " * Parametrization:\n",
    "    ``` json\n",
    "    \"widgetConfig\": {\n",
    "          \"data\": {\n",
    "            \"url\": \"https://wri-01.carto.com/api/v2/sql?q=WITH RESULT AS (SELECT                 round(value::numeric, 2) AS value, region, year, iso FROM combined01_prepared WHERE year = {{year}} AND impactparameter = 'Share Pop. at risk of hunger' AND scenario = 'SSP2-MIRO' and iso = upper('{{iso}}'))  SELECT CASE WHEN year > 2010 THEN 'will be' ELSE 'are' END AS verb, CASE WHEN year > 2010 THEN 'in ' || to_char(year, '9999') ELSE '' END AS year, CASE WHEN value < 1 THEN 'less than 1' ELSE to_char(value, '9999') END AS value, region AS country, iso FROM RESULT\"\n",
    "          },\n",
    "          \"type\": \"text\",\n",
    "          \"template\": \"{{value}} of country's population {{verb}} at high risk of hunger {{year}} in {{country}}.\",\n",
    "          \"sql_config\": [],\n",
    "          \"sql_params\": [],\n",
    "          \"params_config\": [\n",
    "            {\n",
    "              \"key\": \"year\",\n",
    "              \"required\": true\n",
    "            },\n",
    "            {\n",
    "              \"key\": \"iso\",\n",
    "              \"required\": true\n",
    "            }\n",
    "          ],\n",
    "          \"template_config\": [\n",
    "            {\n",
    "              \"key\": \"verb\"\n",
    "            },\n",
    "            {\n",
    "              \"key\": \"value\",\n",
    "              \"suffix\": \"%\"\n",
    "            },\n",
    "            {\n",
    "              \"key\": \"country\"\n",
    "            },\n",
    "            {\n",
    "              \"key\": \"year\"\n",
    "            }\n",
    "          ]\n",
    "        }\n",
    "    ```\n",
    "\n",
    " * Visualization type: Text"
   ]
  },
  {
   "cell_type": "code",
   "execution_count": null,
   "metadata": {
    "collapsed": true,
    "deletable": true,
    "editable": true
   },
   "outputs": [],
   "source": []
  },
  {
   "cell_type": "code",
   "execution_count": null,
   "metadata": {
    "collapsed": true,
    "deletable": true,
    "editable": true
   },
   "outputs": [],
   "source": []
  },
  {
   "cell_type": "markdown",
   "metadata": {
    "deletable": true,
    "editable": true
   },
   "source": [
    "#### WATER RISK\n",
    "\n",
    " * Dataset_id:\n",
    " * Widget_id:\n",
    "\n",
    " * Dataset connector sql:\n",
    "\n",
    "    ```sql\n",
    "\n",
    "    ```\n",
    "\n",
    " * Widget Api sql:\n",
    "\n",
    "    ```sql\n",
    "\n",
    "    ```\n",
    " * Parametrization:\n",
    "    ``` json\n",
    "    \"params_config\": [{\n",
    "            \"key\":\"water_column\",\n",
    "            \"required\":true\n",
    "            }],\n",
    "        \"sql_config\": [{\n",
    "            \"key\": \"where\", \n",
    "            \"key_params\":[{\n",
    "                \"key\":\"iso\",\n",
    "                \"required\":false},{ \n",
    "                \"key\":\"crop\",\n",
    "                \"required\":false},{ \n",
    "                \"key\":\"irrigation\",\n",
    "                \"required\":false}]\n",
    "                    }],\n",
    "\n",
    "    ```\n",
    "\n",
    " * Visualization type: Marimmeko"
   ]
  },
  {
   "cell_type": "markdown",
   "metadata": {
    "deletable": true,
    "editable": true
   },
   "source": [
    "## New widgets"
   ]
  },
  {
   "cell_type": "markdown",
   "metadata": {
    "collapsed": true,
    "deletable": true,
    "editable": true
   },
   "source": [
    "### Global, All crops"
   ]
  },
  {
   "cell_type": "markdown",
   "metadata": {},
   "source": [
    "#### water stress change over time for irrigated crops by crop type (cereals, legumes + pulses, roots + tubers, fruits, oilseed, and add a line for all crops average)\n",
    "\n",
    " * Dataset_id: \n",
    " * Widget_id: \n",
    " * Units: \n",
    "     * \n",
    "     * \n",
    "\n",
    " * Dataset csv or json connector sql:\n",
    "\n",
    "    ```sql\n",
    "    asd\n",
    "    \n",
    "    ```\n",
    "\n",
    " * Widget Api sql:\n",
    "\n",
    "    ```sql\n",
    "with t as (select sum(area) as area, {{water_column}} as risk, crop from crops_stats group by {{water_column}}, crop order by risk asc), r as (SELECT sum(value) as value, commodity FROM combined01_prepared where year='{{year}}' and impactparameter='Food Demand' group by commodity ), d as ( select (value*100/(sum(value) over())) as value, commodity from r ) select crop, risk,value, (area*100/sum(area) over(partition by crop)) area_perc from d inner join t on lower(commodity)=crop order by risk asc, crop asc\n",
    "    ```\n",
    " * Parametrization:\n",
    "    ``` json\n",
    "    \"params_config\": [{\n",
    "            \"key\":\"water_column\",\n",
    "            \"required\":true\n",
    "            }],\n",
    "        \"sql_config\": [{\n",
    "            \"key\": \"where\", \n",
    "            \"key_params\":[{\n",
    "                \"key\":\"iso\",\n",
    "                \"required\":false},{ \n",
    "                \"key\":\"crop\",\n",
    "                \"required\":false},{ \n",
    "                \"key\":\"irrigation\",\n",
    "                \"required\":false}]\n",
    "                    }],\n",
    "\n",
    "    ```\n",
    "\n",
    " * Visualization type: multi-line-chart"
   ]
  },
  {
   "cell_type": "code",
   "execution_count": null,
   "metadata": {
    "collapsed": true
   },
   "outputs": [],
   "source": []
  }
 ],
 "metadata": {
  "kernelspec": {
   "display_name": "Python 3",
   "language": "python",
   "name": "python3"
  },
  "language_info": {
   "codemirror_mode": {
    "name": "ipython",
    "version": 3
   },
   "file_extension": ".py",
   "mimetype": "text/x-python",
   "name": "python",
   "nbconvert_exporter": "python",
   "pygments_lexer": "ipython3",
   "version": "3.5.3"
  }
 },
 "nbformat": 4,
 "nbformat_minor": 2
}
