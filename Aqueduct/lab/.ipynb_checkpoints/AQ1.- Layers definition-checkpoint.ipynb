{
 "cells": [
  {
   "cell_type": "code",
   "execution_count": 12,
   "metadata": {
    "collapsed": false
   },
   "outputs": [],
   "source": [
    "import pandas as pd\n",
    "import json\n",
    "import requests\n",
    "import numpy as np"
   ]
  },
  {
   "cell_type": "markdown",
   "metadata": {},
   "source": [
    "# Layers definition"
   ]
  },
  {
   "cell_type": "markdown",
   "metadata": {},
   "source": [
    "## Crop layers (none water risk & country stat layers selected) "
   ]
  },
  {
   "cell_type": "markdown",
   "metadata": {},
   "source": [
    "### All crops layer"
   ]
  },
  {
   "cell_type": "markdown",
   "metadata": {},
   "source": []
  },
  {
   "cell_type": "markdown",
   "metadata": {},
   "source": [
    "### One crop layer"
   ]
  },
  {
   "cell_type": "markdown",
   "metadata": {},
   "source": [
    "* **Account:** wri-01\n",
    "* **Dataset_id:** \n",
    "* **Layer_id:** "
   ]
  },
  {
   "cell_type": "markdown",
   "metadata": {},
   "source": [
    "#### Bucket calculation query"
   ]
  },
  {
   "cell_type": "markdown",
   "metadata": {},
   "source": [
    "##### Query example:\n",
    "```sql\n",
    "with r as (SELECT sum(value) val, alloc_key FROM all_crop_data_filtered where crop='wheat' group by alloc_key) \n",
    "SELECT unnest(CDB_JenksBins(array_agg(val::numeric),5)) as buckets from r\n",
    "```\n",
    "\n",
    "##### Template:\n",
    "\n",
    "```sql\n",
    "with r as (SELECT sum(value) val, alloc_key FROM all_crop_data_filtered {{where}} group by alloc_key) \n",
    "select unnest(CDB_JenksBins(array_agg(val::numeric),5)) as buckets from r\n",
    "``` \n",
    "   * Parametrization:\n",
    "   \n",
    "    ``` json\n",
    "     \"sql_config\": [{\n",
    "         \"key\": \"where\", \n",
    "         \"key_params\":[{\n",
    "             \"key\":\"iso\",\n",
    "             \"required\":false},{ \n",
    "             \"key\":\"crop\",\n",
    "             \"required\":false},{ \n",
    "             \"key\":\"irrigation\",\n",
    "             \"required\":false}]\n",
    "                 }],\n",
    "    ``` \n",
    "\n"
   ]
  },
  {
   "cell_type": "code",
   "execution_count": 14,
   "metadata": {
    "collapsed": false
   },
   "outputs": [
    {
     "data": {
      "text/html": [
       "<div>\n",
       "<table border=\"1\" class=\"dataframe\">\n",
       "  <thead>\n",
       "    <tr style=\"text-align: right;\">\n",
       "      <th></th>\n",
       "      <th>buckets</th>\n",
       "    </tr>\n",
       "  </thead>\n",
       "  <tbody>\n",
       "    <tr>\n",
       "      <th>0</th>\n",
       "      <td>175.5</td>\n",
       "    </tr>\n",
       "    <tr>\n",
       "      <th>1</th>\n",
       "      <td>554.2</td>\n",
       "    </tr>\n",
       "    <tr>\n",
       "      <th>2</th>\n",
       "      <td>1418.2</td>\n",
       "    </tr>\n",
       "    <tr>\n",
       "      <th>3</th>\n",
       "      <td>2359.9</td>\n",
       "    </tr>\n",
       "    <tr>\n",
       "      <th>4</th>\n",
       "      <td>8064.8</td>\n",
       "    </tr>\n",
       "  </tbody>\n",
       "</table>\n",
       "</div>"
      ],
      "text/plain": [
       "   buckets\n",
       "0    175.5\n",
       "1    554.2\n",
       "2   1418.2\n",
       "3   2359.9\n",
       "4   8064.8"
      ]
     },
     "execution_count": 14,
     "metadata": {},
     "output_type": "execute_result"
    }
   ],
   "source": [
    "payload = {'q': \"with r as (SELECT sum(value) val, alloc_key FROM all_crop_data_filtered where crop='wheat' group by alloc_key) select unnest(CDB_JenksBins(array_agg(val::numeric),5)) as buckets from r\"}\n",
    "r = requests.get('https://wri-01.carto.com/api/v2/sql', params=payload)\n",
    "tableStructure= pd.read_json(json.dumps(r.json()['rows']), orient='records')\n",
    "tableStructure.head(5)"
   ]
  },
  {
   "cell_type": "markdown",
   "metadata": {},
   "source": [
    "#### layer query"
   ]
  },
  {
   "cell_type": "markdown",
   "metadata": {},
   "source": [
    "##### Query example:\n",
    "```sql\n",
    "SELECT * FROM all_crop_data_filtered where crop='wheat' and irrigation = 'rainfed'\n",
    "```\n",
    "##### Cartocss example:\n",
    "```css\n",
    "#crops{\n",
    "  polygon-fill: #FFFFB2;\n",
    "  polygon-opacity: 1;\n",
    "  line-color: #FFF;\n",
    "  line-width: 0;\n",
    "  line-opacity: 1;\n",
    "}\n",
    "#crops [ area <= 7229] {\n",
    "   polygon-fill: #BD0026;\n",
    "   polygon-opacity: 1;\n",
    "}\n",
    "#crops [ area <= 2119.8] {\n",
    "   polygon-fill: #F03B20;\n",
    "   polygon-opacity: 1;\n",
    "}\n",
    "#crops [ area <= 1544.6] {\n",
    "   polygon-fill: #FD8D3C;\n",
    "   polygon-opacity: 1;\n",
    "}\n",
    "#crops [ area <= 968.1] {\n",
    "   polygon-fill: #FECC5C;\n",
    "   polygon-opacity: 1;\n",
    "}\n",
    "#crops [ area <= 539.8] {\n",
    "   polygon-fill: #FFFFB2;\n",
    "   polygon-opacity: 1;\n",
    "}\n",
    "```\n",
    "\n",
    "##### Template:\n",
    "\n",
    "```sql\n",
    "SELECT * FROM all_crop_data_filtered {{where}}\n",
    "\n",
    "``` \n",
    "\n",
    "```css\n",
    "#crops{\n",
    "  polygon-fill: #FFFFB2;\n",
    "  polygon-opacity: 0.8;\n",
    "  line-color: #FFF;\n",
    "  line-width: 0;\n",
    "  line-opacity: 1;\n",
    "}\n",
    "#crops [ area <= {bucket[4]}] {\n",
    "   polygon-fill: #BD0026;\n",
    "}\n",
    "#crops [ area <= {bucket[3]}] {\n",
    "   polygon-fill: #F03B20;\n",
    "}\n",
    "#crops [ area <= {bucket[2]}] {\n",
    "   polygon-fill: #FD8D3C;\n",
    "}\n",
    "#crops [ area <= {bucket[1]}] {\n",
    "   polygon-fill: #FECC5C;\n",
    "}\n",
    "#crops [ area <= {bucket[0]}] {\n",
    "   polygon-fill: #FFFFB2;\n",
    "}\n",
    "```\n",
    "\n",
    "   * Parametrization:\n",
    "   \n",
    "    ``` json\n",
    "    \"params_config\": [{\n",
    "         \"key\":\"bucket\",\n",
    "         \"required\":true\n",
    "         }],\n",
    "     \"sql_config\": [{\n",
    "         \"key\": \"where\", \n",
    "         \"key_params\":[{\n",
    "             \"key\":\"iso\",\n",
    "             \"required\":false},{ \n",
    "             \"key\":\"crop\",\n",
    "             \"required\":false},{ \n",
    "             \"key\":\"irrigation\",\n",
    "             \"required\":false}]\n",
    "                 }],\n",
    "    ``` \n"
   ]
  },
  {
   "cell_type": "code",
   "execution_count": null,
   "metadata": {
    "collapsed": true
   },
   "outputs": [],
   "source": []
  }
 ],
 "metadata": {
  "kernelspec": {
   "display_name": "Python 3",
   "language": "python",
   "name": "python3"
  },
  "language_info": {
   "codemirror_mode": {
    "name": "ipython",
    "version": 3
   },
   "file_extension": ".py",
   "mimetype": "text/x-python",
   "name": "python",
   "nbconvert_exporter": "python",
   "pygments_lexer": "ipython3",
   "version": "3.5.3"
  }
 },
 "nbformat": 4,
 "nbformat_minor": 2
}
