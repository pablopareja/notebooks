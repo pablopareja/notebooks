{
 "cells": [
  {
   "cell_type": "code",
   "execution_count": 1,
   "metadata": {
    "ExecuteTime": {
     "end_time": "2017-03-27T10:59:32.111061",
     "start_time": "2017-03-27T10:59:30.524070"
    },
    "collapsed": true
   },
   "outputs": [],
   "source": [
    "import pandas as pd\n",
    "import json\n",
    "import requests\n",
    "import numpy as np"
   ]
  },
  {
   "cell_type": "markdown",
   "metadata": {},
   "source": [
    "# Points intersecction"
   ]
  },
  {
   "cell_type": "markdown",
   "metadata": {},
   "source": [
    "Procedure definition:\n",
    "\n",
    "\n",
    "```sql\n",
    "\n",
    "DROP FUNCTION get_aqpoints(weights_raw TEXT, points_array TEXT); \n",
    "\n",
    "DROP TYPE weight_water_risk;\n",
    "\n",
    "CREATE TYPE weight_water_risk AS (cartodb_id numeric, basinid numeric, the_geom geometry, the_geom_webmercator geometry, water_risk numeric);\n",
    "\n",
    "CREATE OR REPLACE FUNCTION get_aqpoints(weights_raw TEXT, points_array TEXT) \n",
    "\tRETURNS SETOF weight_water_risk as $$\n",
    "\tDECLARE\n",
    "    query1 TEXT;\n",
    "    weights TEXT;\n",
    "    weights_sum TEXT;\n",
    "\tBEGIN\n",
    "        query1:='select array_to_string(array_agg(col::text ||''*''|| weights::text), ''+ '') as weights, sum(weights)::text as weights_sum from (select unnest(Array'|| weights_raw||') as weights, unnest(array[''bws_s'', ''wsv_s'', ''sv_s'', ''hfo_s'', ''dro_s'', ''stor_s'', ''gw_s'', ''wri_s'', ''eco_s_s'', ''mc_s'', ''wcg_s'', ''eco_v_s'']) as col) as tables where weights is not null';\n",
    "        \n",
    "        EXECUTE query1 into weights, weights_sum;\n",
    "        \n",
    "\t\tRETURN query EXECUTE 'with ranges as (select basinid, average, min(average) over (), max(average) over () from (SELECT basinid, ('|| weights ||')/('|| weights_sum ||') as average FROM water_risk_weights) initial) select cartodb_id::numeric, ranges.basinid::numeric, the_geom, the_geom_webmercator, ((average-min/(max-min))*5)::numeric as water_risk from ranges left join wri_subcatchements on ranges.basinid=wri_subcatchements.basinid';\n",
    "\t\n",
    "\tEND\n",
    "$$ language 'plpgsql';\n",
    "\n",
    "```\n",
    "\n"
   ]
  },
  {
   "cell_type": "markdown",
   "metadata": {},
   "source": [
    "Sql:\n",
    "\n",
    "``` sql\n",
    "Select * from get_aqpoints({weights_scheeme},{points array})\n",
    "\n",
    "```\n",
    "\n",
    "\n",
    "water_stress  \n",
    "interannual_variability  \n",
    "seasonal_variability  \n",
    "flood_occurrence  \n",
    "drought_severity  \n",
    "upstream_storage  \n",
    "groundwater_stress  \n",
    "return_flow_ratio  \n",
    "upstream_protected_land  \n",
    "media_coverage  \n",
    "access_to_water  \n",
    "threatened_amphibians  \n"
   ]
  },
  {
   "cell_type": "markdown",
   "metadata": {},
   "source": [
    "# Anexo: Points stress test"
   ]
  },
  {
   "cell_type": "markdown",
   "metadata": {},
   "source": [
    "test points; 100; 500; 1000; 100000;"
   ]
  },
  {
   "cell_type": "code",
   "execution_count": 8,
   "metadata": {
    "ExecuteTime": {
     "end_time": "2017-03-27T14:40:48.632180",
     "start_time": "2017-03-27T14:40:48.622311"
    },
    "collapsed": false
   },
   "outputs": [
    {
     "name": "stdout",
     "output_type": "stream",
     "text": [
      "[[-0.50897702 -4.53492627]\n",
      " [ 0.37153413  2.23104808]\n",
      " [ 4.87984557 -4.70648052]]\n"
     ]
    }
   ],
   "source": [
    "t = 180 * np.random.rand(3,2) - 90\n",
    "print(t)\n"
   ]
  },
  {
   "cell_type": "code",
   "execution_count": 2,
   "metadata": {
    "ExecuteTime": {
     "end_time": "2017-03-27T11:09:23.951351",
     "start_time": "2017-03-27T11:09:23.173156"
    },
    "collapsed": false
   },
   "outputs": [
    {
     "data": {
      "text/html": [
       "<div>\n",
       "<table border=\"1\" class=\"dataframe\">\n",
       "  <thead>\n",
       "    <tr style=\"text-align: right;\">\n",
       "      <th></th>\n",
       "      <th>basinid</th>\n",
       "      <th>cartodb_id</th>\n",
       "      <th>indicator</th>\n",
       "      <th>label</th>\n",
       "      <th>model</th>\n",
       "      <th>period</th>\n",
       "      <th>period_value</th>\n",
       "      <th>the_geom</th>\n",
       "      <th>the_geom_webmercator</th>\n",
       "      <th>type</th>\n",
       "      <th>value</th>\n",
       "      <th>year</th>\n",
       "    </tr>\n",
       "  </thead>\n",
       "  <tbody>\n",
       "  </tbody>\n",
       "</table>\n",
       "</div>"
      ],
      "text/plain": [
       "Empty DataFrame\n",
       "Columns: [basinid, cartodb_id, indicator, label, model, period, period_value, the_geom, the_geom_webmercator, type, value, year]\n",
       "Index: []"
      ]
     },
     "execution_count": 2,
     "metadata": {},
     "output_type": "execute_result"
    }
   ],
   "source": [
    "payload = {'q': \"SELECT * FROM water_risk_indicators\"}\n",
    "r = requests.get('https://wri-01.carto.com/api/v2/sql', params=payload)\n",
    "tableStructure= pd.read_json(json.dumps(r.json()['rows']), orient='records')\n",
    "tableStructure.head(0)"
   ]
  },
  {
   "cell_type": "markdown",
   "metadata": {},
   "source": []
  }
 ],
 "metadata": {
  "kernelspec": {
   "display_name": "Python 3",
   "language": "python",
   "name": "python3"
  },
  "language_info": {
   "codemirror_mode": {
    "name": "ipython",
    "version": 3
   },
   "file_extension": ".py",
   "mimetype": "text/x-python",
   "name": "python",
   "nbconvert_exporter": "python",
   "pygments_lexer": "ipython3",
   "version": "3.5.3"
  }
 },
 "nbformat": 4,
 "nbformat_minor": 2
}
