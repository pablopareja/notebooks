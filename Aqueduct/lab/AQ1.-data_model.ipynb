{
 "cells": [
  {
   "cell_type": "code",
   "execution_count": null,
   "metadata": {
    "collapsed": true
   },
   "outputs": [],
   "source": [
    "import requests\n",
    "import pandas as pd\n",
    "import json"
   ]
  },
  {
   "cell_type": "markdown",
   "metadata": {},
   "source": [
    "# **Food risk analyzer tool**"
   ]
  },
  {
   "cell_type": "markdown",
   "metadata": {},
   "source": [
    "The aim of this document is to provide information about where and how the data for this tool is located and is being managed.\n",
    "\n",
    "## Data:"
   ]
  },
  {
   "cell_type": "markdown",
   "metadata": {},
   "source": [
    "### IFPRI impact model\n",
    "* Raw data location: [Data](https://drive.google.com/drive/folders/0Bz-cWtOO_ixuaThFaTBZQUJUdU0?usp=sharing)\n",
    "* Ingestion workflow: [ifpri_data_treatment](./ifript_data_treatment.ipynb)  \n",
    "\n",
    "* OutFile: \n",
    "    * combineprepare01\n",
    "    *\n",
    "    *\n",
    "    \n",
    "    \n",
    "* Indicators:\n",
    "    \n",
    "|        indicators       \t| Crop coverage \t|\n",
    "|:----------------------:\t|:-------------:\t|\n",
    "|     Kcal per capita    \t|       -       \t|\n",
    "|          Yield         \t|      all      \t|\n",
    "| Pop. at risk of hunger \t|       -       \t|\n",
    "|          Area          \t|      all      \t|\n",
    "|       World price      \t|      all      \t|\n",
    "|       Production       \t|      all      \t|\n",
    "|        Net trade       \t|      all      \t|\n",
    "|       Food Demand      \t|      all      \t|  \n",
    "\n",
    "* Data coverage: \n",
    "\n",
    "|  |  status|  \n",
    "|:----------------------:\t|:-------------: |\t\n",
    "| geographical coverage: | global|\n",
    "| geographical resolution: | Country|\n",
    "| temporal range: | 2005-2045|\n",
    "| temporal resolution: | yearly|\n"
   ]
  },
  {
   "cell_type": "markdown",
   "metadata": {},
   "source": [
    "### MAPSPAM Crop list (extent data from 2005):  \n",
    "\n",
    "* Raw data location: [Data](http://mapspam.info/global-data/)\n",
    "* Ingestion workflow: \n",
    "    * [SPAM data ingestion](./spam_crops.ipynb) \n",
    "    * [geometry intersection]()\n",
    "* OutFiles: \n",
    "    * crops\n",
    "    * geo_crops\n",
    "\n",
    "Banana, Barley, Beans, Cassava, All Cereals, Chickpeas, Cowpeas, Groundnut, Lentils, Maize, Millet, Pigeonpeas, Plantain, Potato, All Pulses, Rice, Sorghum, Soybean, Sweet Potato, Wheat, Yams"
   ]
  },
  {
   "cell_type": "markdown",
   "metadata": {},
   "source": [
    "### Water risk atlas: \n",
    "\n",
    "#### V3 covers  historic data (2014, anual, monthly different geometries)\n",
    "\n",
    "#### V2.1 covers all projected data (2020-2040 anual different geometries)\n",
    "\n",
    "* Raw data location: \n",
    "    * V2.1:\n",
    "        * [country data]()\n",
    "        * [projected data]()\n",
    "        * [subcatchment data]()\n",
    "    * [V3]()\n",
    "* Treatment workflow:\n",
    "    * [V2.1](./insert_query.ipynb)\n",
    "    * [V3](./water_risk_cleanup.ipynb)\n",
    "* OutFile: \n",
    "    * water_risk_indicators_v2\n",
    "    * water_risk_indicators_v3\n",
    "    *\n",
    "* Indicators:\n",
    "\n",
    "|        indicator       \t        |  \n",
    "|:----------------------:\t        |  \n",
    "| Baseline water stress    \t        |  \n",
    "| Drought Severity Soil Moisture    |  \n",
    "| Inter Annual Variability          |  \n",
    "| Seasonal Variability     \t        |  \n",
    "| Groundwater stress      \t        |  \n",
    "\n",
    "\n",
    "* Data coverage: \n",
    "\n",
    "|  |  status\n",
    "|:----------------------:\t|:-------------:\t\n",
    "| geographical coverage: | global\n",
    "| geographical resolution: | Country / Subcatchement\n",
    "| temporal range: | 2014, 2020-2040\n",
    "| temporal resolution: | decade, month\n",
    "\n"
   ]
  },
  {
   "cell_type": "markdown",
   "metadata": {},
   "source": [
    "## Data management \n",
    "* Datasets location: Carto  \n",
    "* Account: wri-rw  \n",
    "* Filter tables by tag ```:aqueduct```"
   ]
  },
  {
   "cell_type": "markdown",
   "metadata": {},
   "source": [
    "#### Tables: "
   ]
  },
  {
   "cell_type": "markdown",
   "metadata": {},
   "source": [
    "### Configurations and imports"
   ]
  }
 ],
 "metadata": {
  "kernelspec": {
   "display_name": "Python 3",
   "language": "python",
   "name": "python3"
  },
  "language_info": {
   "codemirror_mode": {
    "name": "ipython",
    "version": 3
   },
   "file_extension": ".py",
   "mimetype": "text/x-python",
   "name": "python",
   "nbconvert_exporter": "python",
   "pygments_lexer": "ipython3",
   "version": "3.6.1"
  },
  "latex_envs": {
   "LaTeX_envs_menu_present": true,
   "autocomplete": true,
   "bibliofile": "biblio.bib",
   "cite_by": "apalike",
   "current_citInitial": 1,
   "eqLabelWithNumbers": true,
   "eqNumInitial": 1,
   "hotkeys": {
    "equation": "Ctrl-E",
    "itemize": "Ctrl-I"
   },
   "labels_anchors": false,
   "latex_user_defs": false,
   "report_style_numbering": false,
   "user_envs_cfg": false
  },
  "varInspector": {
   "cols": {
    "lenName": 16,
    "lenType": 16,
    "lenVar": 40
   },
   "kernels_config": {
    "python": {
     "delete_cmd_postfix": "",
     "delete_cmd_prefix": "del ",
     "library": "var_list.py",
     "varRefreshCmd": "print(var_dic_list())"
    },
    "r": {
     "delete_cmd_postfix": ") ",
     "delete_cmd_prefix": "rm(",
     "library": "var_list.r",
     "varRefreshCmd": "cat(var_dic_list()) "
    }
   },
   "types_to_exclude": [
    "module",
    "function",
    "builtin_function_or_method",
    "instance",
    "_Feature"
   ],
   "window_display": false
  }
 },
 "nbformat": 4,
 "nbformat_minor": 2
}
