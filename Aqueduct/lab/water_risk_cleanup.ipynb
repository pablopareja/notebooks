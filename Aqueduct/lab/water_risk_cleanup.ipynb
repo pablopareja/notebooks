{
 "cells": [
  {
   "cell_type": "markdown",
   "metadata": {
    "deletable": true,
    "editable": true
   },
   "source": [
    "# Aqueduct data 3.0"
   ]
  },
  {
   "cell_type": "markdown",
   "metadata": {
    "deletable": true,
    "editable": true
   },
   "source": [
    "Todo List: \n",
    "- [X] Explore data \n",
    "- [X] Zonal statisticts at basin level for the raster datasets\n",
    "- [X] Convert everything to our current format\n",
    "- [X] Add categorization and export table as csv\n",
    "- [X] Rasters visual reclasification 0-5 \n",
    "- [] Migrate data to RW cartoData account."
   ]
  },
  {
   "cell_type": "code",
   "execution_count": 1,
   "metadata": {
    "collapsed": false,
    "deletable": true,
    "editable": true
   },
   "outputs": [],
   "source": [
    "%matplotlib inline\n",
    "import __future__\n",
    "import matplotlib.pyplot as plt\n",
    "from matplotlib.pyplot import cm\n",
    "import pandas as pd\n",
    "import numpy\n",
    "import geopandas as gpd\n",
    "import rasterio\n",
    "import fiona\n",
    "from rasterio.mask import mask\n",
    "from rasterio.plot import show\n",
    "from rasterstats import zonal_stats\n",
    "from math import log"
   ]
  },
  {
   "cell_type": "markdown",
   "metadata": {
    "deletable": true,
    "editable": true
   },
   "source": [
    "## Data status"
   ]
  },
  {
   "cell_type": "markdown",
   "metadata": {
    "deletable": true,
    "editable": true
   },
   "source": [
    "<img  src=\"HL5Y510A14UMVLTW6EINVGT83ATDHN25.png\"/>"
   ]
  },
  {
   "cell_type": "markdown",
   "metadata": {
    "deletable": true,
    "editable": true
   },
   "source": [
    "## Data exploration:"
   ]
  },
  {
   "cell_type": "markdown",
   "metadata": {
    "deletable": true,
    "editable": true
   },
   "source": [
    "##### Datasets:\n",
    "\n",
    "* calculatedWS01.csv: Contains the next data attached to it\n",
    "    * baseline water stress monthly and yearly\n",
    "* hybas_merged_custom_level6_V01.shp: contains the geometries of HYDRO BASIN level 6.\n",
    "\n",
    "* rasters:\n",
    "    * global_droughtseveritystandardisedsoilmoisture_5min_1960-2014.tif\n",
    "    * global_droughtseveritystandardisedstreamflow_5min_1960-2014.tif\n",
    "    * global_interannualvariabilitywatersupply_5min_1960-2014.tif\n",
    "    * global_q1seasonalvariabilitywatersupply_5min_1960-2014.tif\n",
    "    * global_q2seasonalvariabilitywatersupply_5min_1960-2014.tif\n",
    "    * global_q3seasonalvariabilitywatersupply_5min_1960-2014.tif\n",
    "    * global_q4seasonalvariabilitywatersupply_5min_1960-2014.tif\n"
   ]
  },
  {
   "cell_type": "markdown",
   "metadata": {
    "deletable": true,
    "editable": true
   },
   "source": [
    "### Baseline water stress, Yearly and monthly"
   ]
  },
  {
   "cell_type": "code",
   "execution_count": 2,
   "metadata": {
    "collapsed": false,
    "deletable": true,
    "editable": true
   },
   "outputs": [],
   "source": [
    "inData = pd.read_csv('/home/jovyan/work/data/aqueduct/data_source/aqueduct-v3/toAlicia/calculatedWS01.csv')"
   ]
  },
  {
   "cell_type": "code",
   "execution_count": 3,
   "metadata": {
    "collapsed": false,
    "deletable": true,
    "editable": true,
    "scrolled": true
   },
   "outputs": [
    {
     "data": {
      "text/html": [
       "<div>\n",
       "<table border=\"1\" class=\"dataframe\">\n",
       "  <thead>\n",
       "    <tr style=\"text-align: right;\">\n",
       "      <th></th>\n",
       "      <th>PFAF_ID</th>\n",
       "      <th>Unnamed: 0</th>\n",
       "      <th>Unnamed: 0.1</th>\n",
       "      <th>HYBAS_ID</th>\n",
       "      <th>NEXT_DOWN</th>\n",
       "      <th>NEXT_SINK</th>\n",
       "      <th>MAIN_BAS</th>\n",
       "      <th>DIST_SINK</th>\n",
       "      <th>DIST_MAIN</th>\n",
       "      <th>SUB_AREA</th>\n",
       "      <th>...</th>\n",
       "      <th>upstream_sum_volumem3_TotWW_monthY2014M11</th>\n",
       "      <th>upstream_sum_volumem3_TotWN_monthY2014M11</th>\n",
       "      <th>local_sum_volumem3_Runoff_monthY2014M11</th>\n",
       "      <th>ws_monthY2014M11</th>\n",
       "      <th>local_sum_volumem3_TotWW_monthY2014M12</th>\n",
       "      <th>local_sum_volumem3_TotWN_monthY2014M12</th>\n",
       "      <th>upstream_sum_volumem3_TotWW_monthY2014M12</th>\n",
       "      <th>upstream_sum_volumem3_TotWN_monthY2014M12</th>\n",
       "      <th>local_sum_volumem3_Runoff_monthY2014M12</th>\n",
       "      <th>ws_monthY2014M12</th>\n",
       "    </tr>\n",
       "  </thead>\n",
       "  <tbody>\n",
       "    <tr>\n",
       "      <th>0</th>\n",
       "      <td>111011</td>\n",
       "      <td>0</td>\n",
       "      <td>0</td>\n",
       "      <td>1060000010</td>\n",
       "      <td>0</td>\n",
       "      <td>1.060000e+09</td>\n",
       "      <td>1.060000e+09</td>\n",
       "      <td>0.0</td>\n",
       "      <td>0.0</td>\n",
       "      <td>1890.8</td>\n",
       "      <td>...</td>\n",
       "      <td>0.0</td>\n",
       "      <td>0.0</td>\n",
       "      <td>69477.380838</td>\n",
       "      <td>73.173082</td>\n",
       "      <td>5.062878e+06</td>\n",
       "      <td>2.354598e+06</td>\n",
       "      <td>0.0</td>\n",
       "      <td>0.0</td>\n",
       "      <td>81085.620721</td>\n",
       "      <td>62.438667</td>\n",
       "    </tr>\n",
       "    <tr>\n",
       "      <th>1</th>\n",
       "      <td>111012</td>\n",
       "      <td>1</td>\n",
       "      <td>1</td>\n",
       "      <td>1060000100</td>\n",
       "      <td>0</td>\n",
       "      <td>1.060000e+09</td>\n",
       "      <td>1.060000e+09</td>\n",
       "      <td>0.0</td>\n",
       "      <td>0.0</td>\n",
       "      <td>2925.9</td>\n",
       "      <td>...</td>\n",
       "      <td>0.0</td>\n",
       "      <td>0.0</td>\n",
       "      <td>29361.957127</td>\n",
       "      <td>23.245953</td>\n",
       "      <td>6.820849e+05</td>\n",
       "      <td>2.812766e+05</td>\n",
       "      <td>0.0</td>\n",
       "      <td>0.0</td>\n",
       "      <td>35478.575166</td>\n",
       "      <td>19.225262</td>\n",
       "    </tr>\n",
       "  </tbody>\n",
       "</table>\n",
       "<p>2 rows × 623 columns</p>\n",
       "</div>"
      ],
      "text/plain": [
       "   PFAF_ID  Unnamed: 0  Unnamed: 0.1    HYBAS_ID  NEXT_DOWN     NEXT_SINK  \\\n",
       "0   111011           0             0  1060000010          0  1.060000e+09   \n",
       "1   111012           1             1  1060000100          0  1.060000e+09   \n",
       "\n",
       "       MAIN_BAS  DIST_SINK  DIST_MAIN  SUB_AREA        ...         \\\n",
       "0  1.060000e+09        0.0        0.0    1890.8        ...          \n",
       "1  1.060000e+09        0.0        0.0    2925.9        ...          \n",
       "\n",
       "   upstream_sum_volumem3_TotWW_monthY2014M11  \\\n",
       "0                                        0.0   \n",
       "1                                        0.0   \n",
       "\n",
       "   upstream_sum_volumem3_TotWN_monthY2014M11  \\\n",
       "0                                        0.0   \n",
       "1                                        0.0   \n",
       "\n",
       "   local_sum_volumem3_Runoff_monthY2014M11  ws_monthY2014M11  \\\n",
       "0                             69477.380838         73.173082   \n",
       "1                             29361.957127         23.245953   \n",
       "\n",
       "   local_sum_volumem3_TotWW_monthY2014M12  \\\n",
       "0                            5.062878e+06   \n",
       "1                            6.820849e+05   \n",
       "\n",
       "  local_sum_volumem3_TotWN_monthY2014M12  \\\n",
       "0                           2.354598e+06   \n",
       "1                           2.812766e+05   \n",
       "\n",
       "  upstream_sum_volumem3_TotWW_monthY2014M12  \\\n",
       "0                                       0.0   \n",
       "1                                       0.0   \n",
       "\n",
       "   upstream_sum_volumem3_TotWN_monthY2014M12  \\\n",
       "0                                        0.0   \n",
       "1                                        0.0   \n",
       "\n",
       "   local_sum_volumem3_Runoff_monthY2014M12  ws_monthY2014M12  \n",
       "0                             81085.620721         62.438667  \n",
       "1                             35478.575166         19.225262  \n",
       "\n",
       "[2 rows x 623 columns]"
      ]
     },
     "execution_count": 3,
     "metadata": {},
     "output_type": "execute_result"
    }
   ],
   "source": [
    "inData.head(2)"
   ]
  },
  {
   "cell_type": "code",
   "execution_count": 4,
   "metadata": {
    "collapsed": false
   },
   "outputs": [
    {
     "data": {
      "text/plain": [
       "(16397, 623)"
      ]
     },
     "execution_count": 4,
     "metadata": {},
     "output_type": "execute_result"
    }
   ],
   "source": [
    "inData.shape"
   ]
  },
  {
   "cell_type": "code",
   "execution_count": 5,
   "metadata": {
    "collapsed": false,
    "deletable": true,
    "editable": true,
    "scrolled": true
   },
   "outputs": [
    {
     "name": "stdout",
     "output_type": "stream",
     "text": [
      "['PFAF_ID' 'Unnamed: 0' 'Unnamed: 0.1' 'HYBAS_ID' 'NEXT_DOWN' 'NEXT_SINK'\n",
      " 'MAIN_BAS' 'DIST_SINK' 'DIST_MAIN' 'SUB_AREA' 'UP_AREA' 'ENDO' 'COAST'\n",
      " 'ORDER_' 'SORT' 'Upstream_HYBAS_IDs' 'Upstream_PFAF_IDs' 'PfafIDarea30sm2'\n",
      " 'countarea30sm2' 'meanarea30sm2' 'PfafIDDomWN_monthY2014M01'\n",
      " 'countDomWN_monthY2014M01' 'meanDomWN_monthY2014M01'\n",
      " 'PfafIDDomWN_monthY2014M02' 'countDomWN_monthY2014M02'\n",
      " 'meanDomWN_monthY2014M02' 'PfafIDDomWN_monthY2014M03'\n",
      " 'countDomWN_monthY2014M03' 'meanDomWN_monthY2014M03'\n",
      " 'PfafIDDomWN_monthY2014M04' 'countDomWN_monthY2014M04'\n",
      " 'meanDomWN_monthY2014M04' 'PfafIDDomWN_monthY2014M05'\n",
      " 'countDomWN_monthY2014M05' 'meanDomWN_monthY2014M05'\n",
      " 'PfafIDDomWN_monthY2014M06' 'countDomWN_monthY2014M06'\n",
      " 'meanDomWN_monthY2014M06' 'PfafIDDomWN_monthY2014M07'\n",
      " 'countDomWN_monthY2014M07' 'meanDomWN_monthY2014M07'\n",
      " 'PfafIDDomWN_monthY2014M08' 'countDomWN_monthY2014M08'\n",
      " 'meanDomWN_monthY2014M08' 'PfafIDDomWN_monthY2014M09'\n",
      " 'countDomWN_monthY2014M09' 'meanDomWN_monthY2014M09'\n",
      " 'PfafIDDomWN_monthY2014M10' 'countDomWN_monthY2014M10'\n",
      " 'meanDomWN_monthY2014M10' 'PfafIDDomWN_monthY2014M11'\n",
      " 'countDomWN_monthY2014M11' 'meanDomWN_monthY2014M11'\n",
      " 'PfafIDDomWN_monthY2014M12' 'countDomWN_monthY2014M12'\n",
      " 'meanDomWN_monthY2014M12' 'PfafIDDomWN_yearY2014M12'\n",
      " 'countDomWN_yearY2014M12' 'meanDomWN_yearY2014M12'\n",
      " 'PfafIDDomWW_monthY2014M01' 'countDomWW_monthY2014M01'\n",
      " 'meanDomWW_monthY2014M01' 'PfafIDDomWW_monthY2014M02'\n",
      " 'countDomWW_monthY2014M02' 'meanDomWW_monthY2014M02'\n",
      " 'PfafIDDomWW_monthY2014M03' 'countDomWW_monthY2014M03'\n",
      " 'meanDomWW_monthY2014M03' 'PfafIDDomWW_monthY2014M04'\n",
      " 'countDomWW_monthY2014M04' 'meanDomWW_monthY2014M04'\n",
      " 'PfafIDDomWW_monthY2014M05' 'countDomWW_monthY2014M05'\n",
      " 'meanDomWW_monthY2014M05' 'PfafIDDomWW_monthY2014M06'\n",
      " 'countDomWW_monthY2014M06' 'meanDomWW_monthY2014M06'\n",
      " 'PfafIDDomWW_monthY2014M07' 'countDomWW_monthY2014M07'\n",
      " 'meanDomWW_monthY2014M07' 'PfafIDDomWW_monthY2014M08'\n",
      " 'countDomWW_monthY2014M08' 'meanDomWW_monthY2014M08'\n",
      " 'PfafIDDomWW_monthY2014M09' 'countDomWW_monthY2014M09'\n",
      " 'meanDomWW_monthY2014M09' 'PfafIDDomWW_monthY2014M10'\n",
      " 'countDomWW_monthY2014M10' 'meanDomWW_monthY2014M10'\n",
      " 'PfafIDDomWW_monthY2014M11' 'countDomWW_monthY2014M11'\n",
      " 'meanDomWW_monthY2014M11' 'PfafIDDomWW_monthY2014M12'\n",
      " 'countDomWW_monthY2014M12' 'meanDomWW_monthY2014M12'\n",
      " 'PfafIDDomWW_yearY2014M12' 'countDomWW_yearY2014M12'\n",
      " 'meanDomWW_yearY2014M12' 'PfafIDIndWN_monthY2014M01'\n",
      " 'countIndWN_monthY2014M01' 'meanIndWN_monthY2014M01'\n",
      " 'PfafIDIndWN_monthY2014M02' 'countIndWN_monthY2014M02'\n",
      " 'meanIndWN_monthY2014M02' 'PfafIDIndWN_monthY2014M03'\n",
      " 'countIndWN_monthY2014M03' 'meanIndWN_monthY2014M03'\n",
      " 'PfafIDIndWN_monthY2014M04' 'countIndWN_monthY2014M04'\n",
      " 'meanIndWN_monthY2014M04' 'PfafIDIndWN_monthY2014M05'\n",
      " 'countIndWN_monthY2014M05' 'meanIndWN_monthY2014M05'\n",
      " 'PfafIDIndWN_monthY2014M06' 'countIndWN_monthY2014M06'\n",
      " 'meanIndWN_monthY2014M06' 'PfafIDIndWN_monthY2014M07'\n",
      " 'countIndWN_monthY2014M07' 'meanIndWN_monthY2014M07'\n",
      " 'PfafIDIndWN_monthY2014M08' 'countIndWN_monthY2014M08'\n",
      " 'meanIndWN_monthY2014M08' 'PfafIDIndWN_monthY2014M09'\n",
      " 'countIndWN_monthY2014M09' 'meanIndWN_monthY2014M09'\n",
      " 'PfafIDIndWN_monthY2014M10' 'countIndWN_monthY2014M10'\n",
      " 'meanIndWN_monthY2014M10' 'PfafIDIndWN_monthY2014M11'\n",
      " 'countIndWN_monthY2014M11' 'meanIndWN_monthY2014M11'\n",
      " 'PfafIDIndWN_monthY2014M12' 'countIndWN_monthY2014M12'\n",
      " 'meanIndWN_monthY2014M12' 'PfafIDIndWN_yearY2014M12'\n",
      " 'countIndWN_yearY2014M12' 'meanIndWN_yearY2014M12'\n",
      " 'PfafIDIndWW_monthY2014M01' 'countIndWW_monthY2014M01'\n",
      " 'meanIndWW_monthY2014M01' 'PfafIDIndWW_monthY2014M02'\n",
      " 'countIndWW_monthY2014M02' 'meanIndWW_monthY2014M02'\n",
      " 'PfafIDIndWW_monthY2014M03' 'countIndWW_monthY2014M03'\n",
      " 'meanIndWW_monthY2014M03' 'PfafIDIndWW_monthY2014M04'\n",
      " 'countIndWW_monthY2014M04' 'meanIndWW_monthY2014M04'\n",
      " 'PfafIDIndWW_monthY2014M05' 'countIndWW_monthY2014M05'\n",
      " 'meanIndWW_monthY2014M05' 'PfafIDIndWW_monthY2014M06'\n",
      " 'countIndWW_monthY2014M06' 'meanIndWW_monthY2014M06'\n",
      " 'PfafIDIndWW_monthY2014M07' 'countIndWW_monthY2014M07'\n",
      " 'meanIndWW_monthY2014M07' 'PfafIDIndWW_monthY2014M08'\n",
      " 'countIndWW_monthY2014M08' 'meanIndWW_monthY2014M08'\n",
      " 'PfafIDIndWW_monthY2014M09' 'countIndWW_monthY2014M09'\n",
      " 'meanIndWW_monthY2014M09' 'PfafIDIndWW_monthY2014M10'\n",
      " 'countIndWW_monthY2014M10' 'meanIndWW_monthY2014M10'\n",
      " 'PfafIDIndWW_monthY2014M11' 'countIndWW_monthY2014M11'\n",
      " 'meanIndWW_monthY2014M11' 'PfafIDIndWW_monthY2014M12'\n",
      " 'countIndWW_monthY2014M12' 'meanIndWW_monthY2014M12'\n",
      " 'PfafIDIndWW_yearY2014M12' 'countIndWW_yearY2014M12'\n",
      " 'meanIndWW_yearY2014M12' 'PfafIDIrrWN_monthY2014M01'\n",
      " 'countIrrWN_monthY2014M01' 'meanIrrWN_monthY2014M01'\n",
      " 'PfafIDIrrWN_monthY2014M02' 'countIrrWN_monthY2014M02'\n",
      " 'meanIrrWN_monthY2014M02' 'PfafIDIrrWN_monthY2014M03'\n",
      " 'countIrrWN_monthY2014M03' 'meanIrrWN_monthY2014M03'\n",
      " 'PfafIDIrrWN_monthY2014M04' 'countIrrWN_monthY2014M04'\n",
      " 'meanIrrWN_monthY2014M04' 'PfafIDIrrWN_monthY2014M05'\n",
      " 'countIrrWN_monthY2014M05' 'meanIrrWN_monthY2014M05'\n",
      " 'PfafIDIrrWN_monthY2014M06' 'countIrrWN_monthY2014M06'\n",
      " 'meanIrrWN_monthY2014M06' 'PfafIDIrrWN_monthY2014M07'\n",
      " 'countIrrWN_monthY2014M07' 'meanIrrWN_monthY2014M07'\n",
      " 'PfafIDIrrWN_monthY2014M08' 'countIrrWN_monthY2014M08'\n",
      " 'meanIrrWN_monthY2014M08' 'PfafIDIrrWN_monthY2014M09'\n",
      " 'countIrrWN_monthY2014M09' 'meanIrrWN_monthY2014M09'\n",
      " 'PfafIDIrrWN_monthY2014M10' 'countIrrWN_monthY2014M10'\n",
      " 'meanIrrWN_monthY2014M10' 'PfafIDIrrWN_monthY2014M11'\n",
      " 'countIrrWN_monthY2014M11' 'meanIrrWN_monthY2014M11'\n",
      " 'PfafIDIrrWN_monthY2014M12' 'countIrrWN_monthY2014M12'\n",
      " 'meanIrrWN_monthY2014M12' 'PfafIDIrrWN_yearY2014M12'\n",
      " 'countIrrWN_yearY2014M12' 'meanIrrWN_yearY2014M12'\n",
      " 'PfafIDIrrWW_monthY2014M01' 'countIrrWW_monthY2014M01'\n",
      " 'meanIrrWW_monthY2014M01' 'PfafIDIrrWW_monthY2014M02'\n",
      " 'countIrrWW_monthY2014M02' 'meanIrrWW_monthY2014M02'\n",
      " 'PfafIDIrrWW_monthY2014M03' 'countIrrWW_monthY2014M03'\n",
      " 'meanIrrWW_monthY2014M03' 'PfafIDIrrWW_monthY2014M04'\n",
      " 'countIrrWW_monthY2014M04' 'meanIrrWW_monthY2014M04'\n",
      " 'PfafIDIrrWW_monthY2014M05' 'countIrrWW_monthY2014M05'\n",
      " 'meanIrrWW_monthY2014M05' 'PfafIDIrrWW_monthY2014M06'\n",
      " 'countIrrWW_monthY2014M06' 'meanIrrWW_monthY2014M06'\n",
      " 'PfafIDIrrWW_monthY2014M07' 'countIrrWW_monthY2014M07'\n",
      " 'meanIrrWW_monthY2014M07' 'PfafIDIrrWW_monthY2014M08'\n",
      " 'countIrrWW_monthY2014M08' 'meanIrrWW_monthY2014M08'\n",
      " 'PfafIDIrrWW_monthY2014M09' 'countIrrWW_monthY2014M09'\n",
      " 'meanIrrWW_monthY2014M09' 'PfafIDIrrWW_monthY2014M10'\n",
      " 'countIrrWW_monthY2014M10' 'meanIrrWW_monthY2014M10'\n",
      " 'PfafIDIrrWW_monthY2014M11' 'countIrrWW_monthY2014M11'\n",
      " 'meanIrrWW_monthY2014M11' 'PfafIDIrrWW_monthY2014M12'\n",
      " 'countIrrWW_monthY2014M12' 'meanIrrWW_monthY2014M12'\n",
      " 'PfafIDIrrWW_yearY2014M12' 'countIrrWW_yearY2014M12'\n",
      " 'meanIrrWW_yearY2014M12' 'PfafIDLivWN_monthY2014M01'\n",
      " 'countLivWN_monthY2014M01' 'meanLivWN_monthY2014M01'\n",
      " 'PfafIDLivWN_monthY2014M02' 'countLivWN_monthY2014M02'\n",
      " 'meanLivWN_monthY2014M02' 'PfafIDLivWN_monthY2014M03'\n",
      " 'countLivWN_monthY2014M03' 'meanLivWN_monthY2014M03'\n",
      " 'PfafIDLivWN_monthY2014M04' 'countLivWN_monthY2014M04'\n",
      " 'meanLivWN_monthY2014M04' 'PfafIDLivWN_monthY2014M05'\n",
      " 'countLivWN_monthY2014M05' 'meanLivWN_monthY2014M05'\n",
      " 'PfafIDLivWN_monthY2014M06' 'countLivWN_monthY2014M06'\n",
      " 'meanLivWN_monthY2014M06' 'PfafIDLivWN_monthY2014M07'\n",
      " 'countLivWN_monthY2014M07' 'meanLivWN_monthY2014M07'\n",
      " 'PfafIDLivWN_monthY2014M08' 'countLivWN_monthY2014M08'\n",
      " 'meanLivWN_monthY2014M08' 'PfafIDLivWN_monthY2014M09'\n",
      " 'countLivWN_monthY2014M09' 'meanLivWN_monthY2014M09'\n",
      " 'PfafIDLivWN_monthY2014M10' 'countLivWN_monthY2014M10'\n",
      " 'meanLivWN_monthY2014M10' 'PfafIDLivWN_monthY2014M11'\n",
      " 'countLivWN_monthY2014M11' 'meanLivWN_monthY2014M11'\n",
      " 'PfafIDLivWN_monthY2014M12' 'countLivWN_monthY2014M12'\n",
      " 'meanLivWN_monthY2014M12' 'PfafIDLivWN_yearY2014M12'\n",
      " 'countLivWN_yearY2014M12' 'meanLivWN_yearY2014M12' 'PfafIDrunoff_annua'\n",
      " 'countrunoff_annua' 'meanrunoff_annua' 'PfafIDrunoff_month_M01'\n",
      " 'countrunoff_month_M01' 'meanrunoff_month_M01' 'PfafIDrunoff_month_M02'\n",
      " 'countrunoff_month_M02' 'meanrunoff_month_M02' 'PfafIDrunoff_month_M03'\n",
      " 'countrunoff_month_M03' 'meanrunoff_month_M03' 'PfafIDrunoff_month_M04'\n",
      " 'countrunoff_month_M04' 'meanrunoff_month_M04' 'PfafIDrunoff_month_M05'\n",
      " 'countrunoff_month_M05' 'meanrunoff_month_M05' 'PfafIDrunoff_month_M06'\n",
      " 'countrunoff_month_M06' 'meanrunoff_month_M06' 'PfafIDrunoff_month_M07'\n",
      " 'countrunoff_month_M07' 'meanrunoff_month_M07' 'PfafIDrunoff_month_M08'\n",
      " 'countrunoff_month_M08' 'meanrunoff_month_M08' 'PfafIDrunoff_month_M09'\n",
      " 'countrunoff_month_M09' 'meanrunoff_month_M09' 'PfafIDrunoff_month_M10'\n",
      " 'countrunoff_month_M10' 'meanrunoff_month_M10' 'PfafIDrunoff_month_M11'\n",
      " 'countrunoff_month_M11' 'meanrunoff_month_M11' 'PfafIDrunoff_month_M12'\n",
      " 'countrunoff_month_M12' 'meanrunoff_month_M12' 'upstream_sum_aream2'\n",
      " 'upstream_sum_countIrrWN_monthY2014M09'\n",
      " 'upstream_sum_volumem3IrrWN_monthY2014M09'\n",
      " 'upstream_sum_countrunoff_month_M11'\n",
      " 'upstream_sum_volumem3runoff_month_M11'\n",
      " 'upstream_sum_countrunoff_month_M10'\n",
      " 'upstream_sum_volumem3runoff_month_M10'\n",
      " 'upstream_sum_countIrrWN_monthY2014M01'\n",
      " 'upstream_sum_volumem3IrrWN_monthY2014M01'\n",
      " 'upstream_sum_countDomWN_monthY2014M01'\n",
      " 'upstream_sum_volumem3DomWN_monthY2014M01'\n",
      " 'upstream_sum_countDomWN_monthY2014M07'\n",
      " 'upstream_sum_volumem3DomWN_monthY2014M07'\n",
      " 'upstream_sum_countIrrWW_monthY2014M11'\n",
      " 'upstream_sum_volumem3IrrWW_monthY2014M11'\n",
      " 'upstream_sum_countDomWW_monthY2014M02'\n",
      " 'upstream_sum_volumem3DomWW_monthY2014M02'\n",
      " 'upstream_sum_countDomWW_monthY2014M12'\n",
      " 'upstream_sum_volumem3DomWW_monthY2014M12' 'upstream_sum_countarea30sm2'\n",
      " 'upstream_sum_volumem3area30sm2' 'upstream_sum_countDomWN_monthY2014M11'\n",
      " 'upstream_sum_volumem3DomWN_monthY2014M11'\n",
      " 'upstream_sum_countLivWN_monthY2014M08'\n",
      " 'upstream_sum_volumem3LivWN_monthY2014M08'\n",
      " 'upstream_sum_countIrrWW_monthY2014M08'\n",
      " 'upstream_sum_volumem3IrrWW_monthY2014M08'\n",
      " 'upstream_sum_countIndWN_monthY2014M03'\n",
      " 'upstream_sum_volumem3IndWN_monthY2014M03'\n",
      " 'upstream_sum_countIrrWW_monthY2014M02'\n",
      " 'upstream_sum_volumem3IrrWW_monthY2014M02'\n",
      " 'upstream_sum_countrunoff_month_M05'\n",
      " 'upstream_sum_volumem3runoff_month_M05'\n",
      " 'upstream_sum_countDomWN_yearY2014M12'\n",
      " 'upstream_sum_volumem3DomWN_yearY2014M12'\n",
      " 'upstream_sum_countDomWN_monthY2014M05'\n",
      " 'upstream_sum_volumem3DomWN_monthY2014M05'\n",
      " 'upstream_sum_countIrrWN_monthY2014M03'\n",
      " 'upstream_sum_volumem3IrrWN_monthY2014M03'\n",
      " 'upstream_sum_countIndWN_monthY2014M07'\n",
      " 'upstream_sum_volumem3IndWN_monthY2014M07'\n",
      " 'upstream_sum_countIrrWW_monthY2014M12'\n",
      " 'upstream_sum_volumem3IrrWW_monthY2014M12'\n",
      " 'upstream_sum_countIrrWW_monthY2014M05'\n",
      " 'upstream_sum_volumem3IrrWW_monthY2014M05'\n",
      " 'upstream_sum_countLivWN_monthY2014M03'\n",
      " 'upstream_sum_volumem3LivWN_monthY2014M03'\n",
      " 'upstream_sum_countIndWN_monthY2014M08'\n",
      " 'upstream_sum_volumem3IndWN_monthY2014M08'\n",
      " 'upstream_sum_countIndWN_monthY2014M02'\n",
      " 'upstream_sum_volumem3IndWN_monthY2014M02'\n",
      " 'upstream_sum_countrunoff_annua' 'upstream_sum_volumem3runoff_annua'\n",
      " 'upstream_sum_countIrrWN_monthY2014M12'\n",
      " 'upstream_sum_volumem3IrrWN_monthY2014M12'\n",
      " 'upstream_sum_countIrrWN_yearY2014M12'\n",
      " 'upstream_sum_volumem3IrrWN_yearY2014M12'\n",
      " 'upstream_sum_countLivWN_monthY2014M09'\n",
      " 'upstream_sum_volumem3LivWN_monthY2014M09'\n",
      " 'upstream_sum_countIndWW_monthY2014M12'\n",
      " 'upstream_sum_volumem3IndWW_monthY2014M12'\n",
      " 'upstream_sum_countIrrWW_monthY2014M01'\n",
      " 'upstream_sum_volumem3IrrWW_monthY2014M01'\n",
      " 'upstream_sum_countrunoff_month_M02'\n",
      " 'upstream_sum_volumem3runoff_month_M02'\n",
      " 'upstream_sum_countIrrWW_monthY2014M06'\n",
      " 'upstream_sum_volumem3IrrWW_monthY2014M06'\n",
      " 'upstream_sum_countDomWN_monthY2014M12'\n",
      " 'upstream_sum_volumem3DomWN_monthY2014M12'\n",
      " 'upstream_sum_countDomWW_monthY2014M09'\n",
      " 'upstream_sum_volumem3DomWW_monthY2014M09'\n",
      " 'upstream_sum_countDomWW_monthY2014M04'\n",
      " 'upstream_sum_volumem3DomWW_monthY2014M04'\n",
      " 'upstream_sum_countrunoff_month_M06'\n",
      " 'upstream_sum_volumem3runoff_month_M06'\n",
      " 'upstream_sum_countIndWW_monthY2014M09'\n",
      " 'upstream_sum_volumem3IndWW_monthY2014M09'\n",
      " 'upstream_sum_countrunoff_month_M08'\n",
      " 'upstream_sum_volumem3runoff_month_M08'\n",
      " 'upstream_sum_countIrrWN_monthY2014M02'\n",
      " 'upstream_sum_volumem3IrrWN_monthY2014M02'\n",
      " 'upstream_sum_countIndWN_monthY2014M10'\n",
      " 'upstream_sum_volumem3IndWN_monthY2014M10'\n",
      " 'upstream_sum_countIrrWW_monthY2014M03'\n",
      " 'upstream_sum_volumem3IrrWW_monthY2014M03'\n",
      " 'upstream_sum_countLivWN_monthY2014M06'\n",
      " 'upstream_sum_volumem3LivWN_monthY2014M06'\n",
      " 'upstream_sum_countrunoff_month_M07'\n",
      " 'upstream_sum_volumem3runoff_month_M07'\n",
      " 'upstream_sum_countIndWW_monthY2014M08'\n",
      " 'upstream_sum_volumem3IndWW_monthY2014M08'\n",
      " 'upstream_sum_countDomWW_monthY2014M11'\n",
      " 'upstream_sum_volumem3DomWW_monthY2014M11'\n",
      " 'upstream_sum_countIndWW_monthY2014M11'\n",
      " 'upstream_sum_volumem3IndWW_monthY2014M11'\n",
      " 'upstream_sum_countLivWN_monthY2014M01'\n",
      " 'upstream_sum_volumem3LivWN_monthY2014M01'\n",
      " 'upstream_sum_countIrrWN_monthY2014M07'\n",
      " 'upstream_sum_volumem3IrrWN_monthY2014M07'\n",
      " 'upstream_sum_countIndWW_monthY2014M01'\n",
      " 'upstream_sum_volumem3IndWW_monthY2014M01'\n",
      " 'upstream_sum_countIrrWW_yearY2014M12'\n",
      " 'upstream_sum_volumem3IrrWW_yearY2014M12'\n",
      " 'upstream_sum_countIrrWN_monthY2014M10'\n",
      " 'upstream_sum_volumem3IrrWN_monthY2014M10'\n",
      " 'upstream_sum_countDomWW_monthY2014M05'\n",
      " 'upstream_sum_volumem3DomWW_monthY2014M05'\n",
      " 'upstream_sum_countIndWN_monthY2014M09'\n",
      " 'upstream_sum_volumem3IndWN_monthY2014M09'\n",
      " 'upstream_sum_countLivWN_monthY2014M12'\n",
      " 'upstream_sum_volumem3LivWN_monthY2014M12'\n",
      " 'upstream_sum_countIndWN_yearY2014M12'\n",
      " 'upstream_sum_volumem3IndWN_yearY2014M12'\n",
      " 'upstream_sum_countrunoff_month_M09'\n",
      " 'upstream_sum_volumem3runoff_month_M09'\n",
      " 'upstream_sum_countDomWN_monthY2014M02'\n",
      " 'upstream_sum_volumem3DomWN_monthY2014M02'\n",
      " 'upstream_sum_countDomWN_monthY2014M06'\n",
      " 'upstream_sum_volumem3DomWN_monthY2014M06'\n",
      " 'upstream_sum_countIndWW_monthY2014M02'\n",
      " 'upstream_sum_volumem3IndWW_monthY2014M02'\n",
      " 'upstream_sum_countIndWW_monthY2014M07'\n",
      " 'upstream_sum_volumem3IndWW_monthY2014M07'\n",
      " 'upstream_sum_countIrrWN_monthY2014M08'\n",
      " 'upstream_sum_volumem3IrrWN_monthY2014M08'\n",
      " 'upstream_sum_countIrrWN_monthY2014M11'\n",
      " 'upstream_sum_volumem3IrrWN_monthY2014M11'\n",
      " 'upstream_sum_countDomWW_monthY2014M06'\n",
      " 'upstream_sum_volumem3DomWW_monthY2014M06'\n",
      " 'upstream_sum_countDomWW_monthY2014M08'\n",
      " 'upstream_sum_volumem3DomWW_monthY2014M08'\n",
      " 'upstream_sum_countrunoff_month_M01'\n",
      " 'upstream_sum_volumem3runoff_month_M01'\n",
      " 'upstream_sum_countLivWN_monthY2014M10'\n",
      " 'upstream_sum_volumem3LivWN_monthY2014M10'\n",
      " 'upstream_sum_countIrrWN_monthY2014M04'\n",
      " 'upstream_sum_volumem3IrrWN_monthY2014M04'\n",
      " 'upstream_sum_countDomWN_monthY2014M10'\n",
      " 'upstream_sum_volumem3DomWN_monthY2014M10'\n",
      " 'upstream_sum_countDomWN_monthY2014M03'\n",
      " 'upstream_sum_volumem3DomWN_monthY2014M03'\n",
      " 'upstream_sum_countIndWN_monthY2014M05'\n",
      " 'upstream_sum_volumem3IndWN_monthY2014M05'\n",
      " 'upstream_sum_countIndWW_monthY2014M03'\n",
      " 'upstream_sum_volumem3IndWW_monthY2014M03'\n",
      " 'upstream_sum_countIrrWW_monthY2014M04'\n",
      " 'upstream_sum_volumem3IrrWW_monthY2014M04'\n",
      " 'upstream_sum_countIrrWN_monthY2014M05'\n",
      " 'upstream_sum_volumem3IrrWN_monthY2014M05'\n",
      " 'upstream_sum_countLivWN_monthY2014M02'\n",
      " 'upstream_sum_volumem3LivWN_monthY2014M02'\n",
      " 'upstream_sum_countLivWN_monthY2014M11'\n",
      " 'upstream_sum_volumem3LivWN_monthY2014M11'\n",
      " 'upstream_sum_countIndWN_monthY2014M06'\n",
      " 'upstream_sum_volumem3IndWN_monthY2014M06'\n",
      " 'upstream_sum_countLivWN_monthY2014M04'\n",
      " 'upstream_sum_volumem3LivWN_monthY2014M04'\n",
      " 'upstream_sum_countIrrWN_monthY2014M06'\n",
      " 'upstream_sum_volumem3IrrWN_monthY2014M06'\n",
      " 'upstream_sum_countrunoff_month_M12'\n",
      " 'upstream_sum_volumem3runoff_month_M12'\n",
      " 'upstream_sum_countIndWN_monthY2014M12'\n",
      " 'upstream_sum_volumem3IndWN_monthY2014M12'\n",
      " 'upstream_sum_countIndWN_monthY2014M04'\n",
      " 'upstream_sum_volumem3IndWN_monthY2014M04'\n",
      " 'upstream_sum_countIndWN_monthY2014M11'\n",
      " 'upstream_sum_volumem3IndWN_monthY2014M11'\n",
      " 'upstream_sum_countDomWW_monthY2014M01'\n",
      " 'upstream_sum_volumem3DomWW_monthY2014M01'\n",
      " 'upstream_sum_countIndWW_yearY2014M12'\n",
      " 'upstream_sum_volumem3IndWW_yearY2014M12'\n",
      " 'upstream_sum_countIndWW_monthY2014M06'\n",
      " 'upstream_sum_volumem3IndWW_monthY2014M06'\n",
      " 'upstream_sum_countIrrWW_monthY2014M10'\n",
      " 'upstream_sum_volumem3IrrWW_monthY2014M10'\n",
      " 'upstream_sum_countrunoff_month_M03'\n",
      " 'upstream_sum_volumem3runoff_month_M03'\n",
      " 'upstream_sum_countDomWW_yearY2014M12'\n",
      " 'upstream_sum_volumem3DomWW_yearY2014M12'\n",
      " 'upstream_sum_countDomWW_monthY2014M10'\n",
      " 'upstream_sum_volumem3DomWW_monthY2014M10'\n",
      " 'upstream_sum_countIndWN_monthY2014M01'\n",
      " 'upstream_sum_volumem3IndWN_monthY2014M01'\n",
      " 'upstream_sum_countLivWN_monthY2014M05'\n",
      " 'upstream_sum_volumem3LivWN_monthY2014M05'\n",
      " 'upstream_sum_countDomWW_monthY2014M03'\n",
      " 'upstream_sum_volumem3DomWW_monthY2014M03'\n",
      " 'upstream_sum_countIndWW_monthY2014M05'\n",
      " 'upstream_sum_volumem3IndWW_monthY2014M05'\n",
      " 'upstream_sum_countDomWN_monthY2014M04'\n",
      " 'upstream_sum_volumem3DomWN_monthY2014M04'\n",
      " 'upstream_sum_countLivWN_monthY2014M07'\n",
      " 'upstream_sum_volumem3LivWN_monthY2014M07'\n",
      " 'upstream_sum_countDomWN_monthY2014M09'\n",
      " 'upstream_sum_volumem3DomWN_monthY2014M09'\n",
      " 'upstream_sum_countDomWW_monthY2014M07'\n",
      " 'upstream_sum_volumem3DomWW_monthY2014M07'\n",
      " 'upstream_sum_countIndWW_monthY2014M04'\n",
      " 'upstream_sum_volumem3IndWW_monthY2014M04'\n",
      " 'upstream_sum_countDomWN_monthY2014M08'\n",
      " 'upstream_sum_volumem3DomWN_monthY2014M08'\n",
      " 'upstream_sum_countrunoff_month_M04'\n",
      " 'upstream_sum_volumem3runoff_month_M04'\n",
      " 'upstream_sum_countIndWW_monthY2014M10'\n",
      " 'upstream_sum_volumem3IndWW_monthY2014M10'\n",
      " 'upstream_sum_countIrrWW_monthY2014M09'\n",
      " 'upstream_sum_volumem3IrrWW_monthY2014M09'\n",
      " 'upstream_sum_countIrrWW_monthY2014M07'\n",
      " 'upstream_sum_volumem3IrrWW_monthY2014M07'\n",
      " 'upstream_sum_countLivWN_yearY2014M12'\n",
      " 'upstream_sum_volumem3LivWN_yearY2014M12' 'errorCode' 'local_sum_aream2'\n",
      " 'local_sum_volumem3_TotWW_yearY2014' 'local_sum_volumem3_TotWN_yearY2014'\n",
      " 'upstream_sum_volumem3_TotWW_yearY2014'\n",
      " 'upstream_sum_volumem3_TotWN_yearY2014'\n",
      " 'local_sum_volumem3_Runoff_yearY2014' 'ws_yearY2014'\n",
      " 'local_sum_volumem3_TotWW_monthY2014M01'\n",
      " 'local_sum_volumem3_TotWN_monthY2014M01'\n",
      " 'upstream_sum_volumem3_TotWW_monthY2014M01'\n",
      " 'upstream_sum_volumem3_TotWN_monthY2014M01'\n",
      " 'local_sum_volumem3_Runoff_monthY2014M01' 'ws_monthY2014M01'\n",
      " 'local_sum_volumem3_TotWW_monthY2014M02'\n",
      " 'local_sum_volumem3_TotWN_monthY2014M02'\n",
      " 'upstream_sum_volumem3_TotWW_monthY2014M02'\n",
      " 'upstream_sum_volumem3_TotWN_monthY2014M02'\n",
      " 'local_sum_volumem3_Runoff_monthY2014M02' 'ws_monthY2014M02'\n",
      " 'local_sum_volumem3_TotWW_monthY2014M03'\n",
      " 'local_sum_volumem3_TotWN_monthY2014M03'\n",
      " 'upstream_sum_volumem3_TotWW_monthY2014M03'\n",
      " 'upstream_sum_volumem3_TotWN_monthY2014M03'\n",
      " 'local_sum_volumem3_Runoff_monthY2014M03' 'ws_monthY2014M03'\n",
      " 'local_sum_volumem3_TotWW_monthY2014M04'\n",
      " 'local_sum_volumem3_TotWN_monthY2014M04'\n",
      " 'upstream_sum_volumem3_TotWW_monthY2014M04'\n",
      " 'upstream_sum_volumem3_TotWN_monthY2014M04'\n",
      " 'local_sum_volumem3_Runoff_monthY2014M04' 'ws_monthY2014M04'\n",
      " 'local_sum_volumem3_TotWW_monthY2014M05'\n",
      " 'local_sum_volumem3_TotWN_monthY2014M05'\n",
      " 'upstream_sum_volumem3_TotWW_monthY2014M05'\n",
      " 'upstream_sum_volumem3_TotWN_monthY2014M05'\n",
      " 'local_sum_volumem3_Runoff_monthY2014M05' 'ws_monthY2014M05'\n",
      " 'local_sum_volumem3_TotWW_monthY2014M06'\n",
      " 'local_sum_volumem3_TotWN_monthY2014M06'\n",
      " 'upstream_sum_volumem3_TotWW_monthY2014M06'\n",
      " 'upstream_sum_volumem3_TotWN_monthY2014M06'\n",
      " 'local_sum_volumem3_Runoff_monthY2014M06' 'ws_monthY2014M06'\n",
      " 'local_sum_volumem3_TotWW_monthY2014M07'\n",
      " 'local_sum_volumem3_TotWN_monthY2014M07'\n",
      " 'upstream_sum_volumem3_TotWW_monthY2014M07'\n",
      " 'upstream_sum_volumem3_TotWN_monthY2014M07'\n",
      " 'local_sum_volumem3_Runoff_monthY2014M07' 'ws_monthY2014M07'\n",
      " 'local_sum_volumem3_TotWW_monthY2014M08'\n",
      " 'local_sum_volumem3_TotWN_monthY2014M08'\n",
      " 'upstream_sum_volumem3_TotWW_monthY2014M08'\n",
      " 'upstream_sum_volumem3_TotWN_monthY2014M08'\n",
      " 'local_sum_volumem3_Runoff_monthY2014M08' 'ws_monthY2014M08'\n",
      " 'local_sum_volumem3_TotWW_monthY2014M09'\n",
      " 'local_sum_volumem3_TotWN_monthY2014M09'\n",
      " 'upstream_sum_volumem3_TotWW_monthY2014M09'\n",
      " 'upstream_sum_volumem3_TotWN_monthY2014M09'\n",
      " 'local_sum_volumem3_Runoff_monthY2014M09' 'ws_monthY2014M09'\n",
      " 'local_sum_volumem3_TotWW_monthY2014M10'\n",
      " 'local_sum_volumem3_TotWN_monthY2014M10'\n",
      " 'upstream_sum_volumem3_TotWW_monthY2014M10'\n",
      " 'upstream_sum_volumem3_TotWN_monthY2014M10'\n",
      " 'local_sum_volumem3_Runoff_monthY2014M10' 'ws_monthY2014M10'\n",
      " 'local_sum_volumem3_TotWW_monthY2014M11'\n",
      " 'local_sum_volumem3_TotWN_monthY2014M11'\n",
      " 'upstream_sum_volumem3_TotWW_monthY2014M11'\n",
      " 'upstream_sum_volumem3_TotWN_monthY2014M11'\n",
      " 'local_sum_volumem3_Runoff_monthY2014M11' 'ws_monthY2014M11'\n",
      " 'local_sum_volumem3_TotWW_monthY2014M12'\n",
      " 'local_sum_volumem3_TotWN_monthY2014M12'\n",
      " 'upstream_sum_volumem3_TotWW_monthY2014M12'\n",
      " 'upstream_sum_volumem3_TotWN_monthY2014M12'\n",
      " 'local_sum_volumem3_Runoff_monthY2014M12' 'ws_monthY2014M12']\n"
     ]
    }
   ],
   "source": [
    "print(inData.columns.values)"
   ]
  },
  {
   "cell_type": "markdown",
   "metadata": {
    "deletable": true,
    "editable": true
   },
   "source": [
    "Columns to be keept for the data visualization and to be transform into indicators table:   "
   ]
  },
  {
   "cell_type": "code",
   "execution_count": 6,
   "metadata": {
    "collapsed": false
   },
   "outputs": [
    {
     "data": {
      "text/plain": [
       "['PFAF_ID',\n",
       " 'ws_yearY2014',\n",
       " 'ws_monthY2014M01',\n",
       " 'ws_monthY2014M02',\n",
       " 'ws_monthY2014M03',\n",
       " 'ws_monthY2014M04',\n",
       " 'ws_monthY2014M05',\n",
       " 'ws_monthY2014M06',\n",
       " 'ws_monthY2014M07',\n",
       " 'ws_monthY2014M08',\n",
       " 'ws_monthY2014M09',\n",
       " 'ws_monthY2014M10',\n",
       " 'ws_monthY2014M11',\n",
       " 'ws_monthY2014M12']"
      ]
     },
     "execution_count": 6,
     "metadata": {},
     "output_type": "execute_result"
    }
   ],
   "source": [
    "column_list = ['PFAF_ID','ws_yearY2014']\n",
    "for month in list(range(1,13)):\n",
    "    column_list.append(\"ws_monthY2014M%02d\" % (month))\n",
    "column_list"
   ]
  },
  {
   "cell_type": "markdown",
   "metadata": {
    "deletable": true,
    "editable": true
   },
   "source": [
    "### Geometries"
   ]
  },
  {
   "cell_type": "code",
   "execution_count": 7,
   "metadata": {
    "collapsed": true,
    "deletable": true,
    "editable": true
   },
   "outputs": [],
   "source": [
    "geoInData = gpd.read_file('/home/jovyan/work/data/aqueduct/data_source/aqueduct-v3/toAlicia/shape/hybas_merged_custom_level6_V01.shp')"
   ]
  },
  {
   "cell_type": "code",
   "execution_count": 8,
   "metadata": {
    "collapsed": false,
    "deletable": true,
    "editable": true
   },
   "outputs": [
    {
     "data": {
      "text/html": [
       "<div>\n",
       "<table border=\"1\" class=\"dataframe\">\n",
       "  <thead>\n",
       "    <tr style=\"text-align: right;\">\n",
       "      <th></th>\n",
       "      <th>COAST</th>\n",
       "      <th>DIST_MAIN</th>\n",
       "      <th>DIST_SINK</th>\n",
       "      <th>ENDO</th>\n",
       "      <th>HYBAS_ID</th>\n",
       "      <th>HYBAS_IDIn</th>\n",
       "      <th>MAIN_BAS</th>\n",
       "      <th>NEXT_DOWN</th>\n",
       "      <th>NEXT_DOWNI</th>\n",
       "      <th>NEXT_SINK</th>\n",
       "      <th>ORDER_</th>\n",
       "      <th>PFAF_ID</th>\n",
       "      <th>SORT</th>\n",
       "      <th>SUB_AREA</th>\n",
       "      <th>UP_AREA</th>\n",
       "      <th>geometry</th>\n",
       "    </tr>\n",
       "  </thead>\n",
       "  <tbody>\n",
       "    <tr>\n",
       "      <th>0</th>\n",
       "      <td>1</td>\n",
       "      <td>0.0</td>\n",
       "      <td>0.0</td>\n",
       "      <td>0</td>\n",
       "      <td>1.060000e+09</td>\n",
       "      <td>1.060000e+09</td>\n",
       "      <td>1.060000e+09</td>\n",
       "      <td>0.0</td>\n",
       "      <td>0.0</td>\n",
       "      <td>1.060000e+09</td>\n",
       "      <td>0</td>\n",
       "      <td>111011</td>\n",
       "      <td>1.0</td>\n",
       "      <td>1890.8</td>\n",
       "      <td>1890.8</td>\n",
       "      <td>POLYGON ((32.36666666666668 29.6791666666667, ...</td>\n",
       "    </tr>\n",
       "    <tr>\n",
       "      <th>1</th>\n",
       "      <td>0</td>\n",
       "      <td>0.0</td>\n",
       "      <td>0.0</td>\n",
       "      <td>0</td>\n",
       "      <td>1.060000e+09</td>\n",
       "      <td>1.060000e+09</td>\n",
       "      <td>1.060000e+09</td>\n",
       "      <td>0.0</td>\n",
       "      <td>0.0</td>\n",
       "      <td>1.060000e+09</td>\n",
       "      <td>1</td>\n",
       "      <td>111012</td>\n",
       "      <td>2.0</td>\n",
       "      <td>2925.9</td>\n",
       "      <td>2925.9</td>\n",
       "      <td>POLYGON ((31.73333333333336 29.88333333333337,...</td>\n",
       "    </tr>\n",
       "  </tbody>\n",
       "</table>\n",
       "</div>"
      ],
      "text/plain": [
       "   COAST  DIST_MAIN  DIST_SINK  ENDO      HYBAS_ID    HYBAS_IDIn  \\\n",
       "0      1        0.0        0.0     0  1.060000e+09  1.060000e+09   \n",
       "1      0        0.0        0.0     0  1.060000e+09  1.060000e+09   \n",
       "\n",
       "       MAIN_BAS  NEXT_DOWN  NEXT_DOWNI     NEXT_SINK  ORDER_  PFAF_ID  SORT  \\\n",
       "0  1.060000e+09        0.0         0.0  1.060000e+09       0   111011   1.0   \n",
       "1  1.060000e+09        0.0         0.0  1.060000e+09       1   111012   2.0   \n",
       "\n",
       "   SUB_AREA  UP_AREA                                           geometry  \n",
       "0    1890.8   1890.8  POLYGON ((32.36666666666668 29.6791666666667, ...  \n",
       "1    2925.9   2925.9  POLYGON ((31.73333333333336 29.88333333333337,...  "
      ]
     },
     "execution_count": 8,
     "metadata": {},
     "output_type": "execute_result"
    }
   ],
   "source": [
    "geoInData.head(2)"
   ]
  },
  {
   "cell_type": "code",
   "execution_count": null,
   "metadata": {
    "collapsed": false,
    "deletable": true,
    "editable": true
   },
   "outputs": [],
   "source": [
    "geoInData.plot()"
   ]
  },
  {
   "cell_type": "code",
   "execution_count": 9,
   "metadata": {
    "collapsed": false,
    "deletable": true,
    "editable": true
   },
   "outputs": [
    {
     "name": "stdout",
     "output_type": "stream",
     "text": [
      "COAST\n",
      "DIST_MAIN\n",
      "DIST_SINK\n",
      "ENDO\n",
      "HYBAS_ID\n",
      "HYBAS_IDIn\n",
      "MAIN_BAS\n",
      "NEXT_DOWN\n",
      "NEXT_DOWNI\n",
      "NEXT_SINK\n",
      "ORDER_\n",
      "PFAF_ID\n",
      "SORT\n",
      "SUB_AREA\n",
      "UP_AREA\n",
      "geometry\n"
     ]
    }
   ],
   "source": [
    "for column in geoInData.columns.values:\n",
    "    print(column)"
   ]
  },
  {
   "cell_type": "markdown",
   "metadata": {
    "deletable": true,
    "editable": true
   },
   "source": [
    "Keep all columns; "
   ]
  },
  {
   "cell_type": "markdown",
   "metadata": {
    "deletable": true,
    "editable": true
   },
   "source": [
    "### Pixel level datasets: \n",
    "\n",
    "* drought severity:\n",
    "    * soil moisture\n",
    "    * streamflow\n",
    "* interannual variability\n",
    "* seasonal variability\n",
    "    * q1\n",
    "    * q2\n",
    "    * q3\n",
    "    * q4"
   ]
  },
  {
   "cell_type": "code",
   "execution_count": 38,
   "metadata": {
    "collapsed": false,
    "deletable": true,
    "editable": true
   },
   "outputs": [
    {
     "name": "stdout",
     "output_type": "stream",
     "text": [
      "{'height': 2160, 'dtype': 'float32', 'tiled': False, 'nodata': -9999.0, 'interleave': 'band', 'count': 1, 'width': 4320, 'crs': CRS({'init': 'epsg:4326'}), 'driver': 'GTiff', 'transform': Affine(0.0833333309780367, 0.0, -179.99999491255934,\n",
      "       0.0, -0.0833333309780367, 90.00000254430942), 'compress': 'lzw'}\n",
      "[[-- -- -- ..., -- -- --]\n",
      " [-- -- -- ..., -- -- --]\n",
      " [-- -- -- ..., -- -- --]\n",
      " ..., \n",
      " [0.0 0.0 0.0 ..., 0.0 0.0 0.0]\n",
      " [0.0 0.0 0.0 ..., 0.0 0.0 0.0]\n",
      " [0.0 0.0 0.0 ..., 0.0 0.0 0.0]]\n"
     ]
    },
    {
     "name": "stderr",
     "output_type": "stream",
     "text": [
      "/opt/conda/lib/python3.5/site-packages/matplotlib/figure.py:397: UserWarning: matplotlib is currently using a non-GUI backend, so cannot show the figure\n",
      "  \"matplotlib is currently using a non-GUI backend, \"\n"
     ]
    },
    {
     "data": {
      "image/png": "[encoded data removed]",
      "text/plain": [
       "<matplotlib.figure.Figure at 0x7f7227067e10>"
      ]
     },
     "metadata": {},
     "output_type": "display_data"
    },
    {
     "data": {
      "image/png": "[encoded data removed]",
      "text/plain": [
       "<matplotlib.figure.Figure at 0x7f7227287278>"
      ]
     },
     "metadata": {},
     "output_type": "display_data"
    }
   ],
   "source": [
    "with rasterio.open('/home/jovyan/work/data/aqueduct/data_source/aqueduct-v3/pixelIndicatorsAlicia/global_droughtseveritystandardisedsoilmoisture_5min_1960-2014.tif') as tif:\n",
    "    print(tif.profile)\n",
    "    rasterData=tif.read(1, masked=True)\n",
    "    print(rasterData)\n",
    "    profile = tif.profile\n",
    "    f1 = plt.figure(1)\n",
    "    plt.imshow(rasterData[:,:],  cmap='pink')\n",
    "    f1.show()\n",
    "    f2= plt.figure(2)\n",
    "    plt.hist(rasterData.compressed().ravel(),bins=[0,0.1,0.2,0.3,0.4,0.5,0.6,0.7,0.8,0.9,1,1.5,2])\n",
    "    f2.show()\n",
    "    \n",
    "    "
   ]
  },
  {
   "cell_type": "markdown",
   "metadata": {
    "deletable": true,
    "editable": true
   },
   "source": [
    "## Zonal statistics, generate subasin level stats"
   ]
  },
  {
   "cell_type": "markdown",
   "metadata": {
    "deletable": true,
    "editable": true
   },
   "source": [
    "What's are the stats that i need to perform? The mean  \n"
   ]
  },
  {
   "cell_type": "code",
   "execution_count": 11,
   "metadata": {
    "collapsed": false,
    "deletable": true,
    "editable": true,
    "scrolled": false
   },
   "outputs": [],
   "source": [
    "\"\"\"\n",
    "Tiff config object:\n",
    "[\n",
    "{'dataset': , 'indicator': , \n",
    "'period': , 'period_value': , \n",
    "'year': 2014, \n",
    "'data_type': 'absolute', \n",
    "'scenario': 'historic'}\n",
    "]\n",
    "\"\"\"\n",
    "baseLocation = '/home/jovyan/work/data/aqueduct/data_source/aqueduct-v3/pixelIndicatorsAlicia/' \n",
    "\n",
    "tifss= [{'dataset': \"global_droughtseveritystandardisedsoilmoisture_5min_1960-2014.tif\", 'indicator': 'drought_severity_soil', 'period': 'year', 'period_value': None, 'year': 2014, 'data_type': 'absolute', 'scenario': 'historic'},\n",
    "        {'dataset': \"global_droughtseveritystandardisedstreamflow_5min_1960-2014.tif\", 'indicator': 'drought_severity_flow', 'period': 'year', 'period_value': None, 'year': 2014, 'data_type': 'absolute', 'scenario': 'historic'},\n",
    "        {'dataset': \"global_interannualvariabilitywatersupply_5min_1960-2014.tif\", 'indicator': 'interannual_variability', 'period': 'year', 'period_value': None, 'year': 2014, 'data_type': 'absolute', 'scenario': 'historic'},\n",
    "        {'dataset': \"global_q1seasonalvariabilitywatersupply_5min_1960-2014.tif\", 'indicator': 'seasonal_variability', 'period': 'quarter', 'period_value': 1, 'year': 2014, 'data_type': 'absolute', 'scenario': 'historic'},\n",
    "        {'dataset': \"global_q2seasonalvariabilitywatersupply_5min_1960-2014.tif\", 'indicator': 'seasonal_variability', 'period': 'quarter', 'period_value': 2, 'year': 2014, 'data_type': 'absolute', 'scenario': 'historic'},\n",
    "        {'dataset': \"global_q3seasonalvariabilitywatersupply_5min_1960-2014.tif\", 'indicator': 'seasonal_variability', 'period': 'quarter', 'period_value': 3, 'year': 2014, 'data_type': 'absolute', 'scenario': 'historic'},\n",
    "        {'dataset': \"global_q4seasonalvariabilitywatersupply_5min_1960-2014.tif\", 'indicator': 'seasonal_variability', 'period': 'quarter', 'period_value': 4, 'year': 2014, 'data_type': 'absolute', 'scenario': 'historic'}\n",
    "] "
   ]
  },
  {
   "cell_type": "code",
   "execution_count": 12,
   "metadata": {
    "collapsed": false,
    "deletable": true,
    "editable": true
   },
   "outputs": [],
   "source": [
    "def zonal_statistics(baseLocation, geomDatasets, cfgTif):\n",
    "    dataset=[]\n",
    "    with rasterio.open(baseLocation + cfgTif['dataset']) as tif:\n",
    "        rasterData=tif.read(1)\n",
    "        profile = tif.profile\n",
    "    for index, row in geoInData.iterrows():\n",
    "        mean = zonal_stats(row['geometry'], rasterData, stats=['mean'], band=1, all_touched=True,raster_out=False, affine=profile['transform'], nodata=profile['nodata'])\n",
    "        dataset.append({'indicator': cfgTif['indicator'], \n",
    "                        'value': mean[0]['mean'], \n",
    "                        'basinid':row['PFAF_ID'],\n",
    "                        'period': cfgTif['period'], \n",
    "                        'period_value': cfgTif['period_value'], \n",
    "                        'year': cfgTif['year'], \n",
    "                        'data_type': cfgTif['data_type'], \n",
    "                        'scenario': cfgTif['scenario']\n",
    "                       })\n",
    "    return pd.DataFrame(dataset, columns=dataset[0].keys())\n",
    "\n",
    "\n"
   ]
  },
  {
   "cell_type": "markdown",
   "metadata": {},
   "source": [
    "## Baseline Water stress reconfiguration"
   ]
  },
  {
   "cell_type": "code",
   "execution_count": 13,
   "metadata": {
    "collapsed": false
   },
   "outputs": [],
   "source": [
    "def unpivot(frame):\n",
    "    mapK={\n",
    "        'ws':'water_stess'\n",
    "    }\n",
    "    N, K = frame.shape\n",
    "    indicator = [mapK[i.split('_')[0]] for  i in frame.columns]\n",
    "    period = [i.split('_')[1].split('Y')[0] for  i in frame.columns]\n",
    "    period_value = [int(i.split('_')[1].split('Y')[1].split('M')[1]) if len(i.split('_')[1].split('Y')[1].split('M')) > 1 else None for  i in frame.columns]\n",
    "    year= [int(i.split('_')[1].split('Y')[1].split('M')[0]) for  i in frame.columns]\n",
    "\n",
    "    \n",
    "    data = {'value' : frame.values.ravel('F'),\n",
    "            'indicator' : numpy.array(indicator).repeat(N),\n",
    "            'basinid' : numpy.tile(numpy.asarray(frame.index), K),\n",
    "            'period': numpy.array(period).repeat(N),\n",
    "            'period_value': numpy.asarray(period_value).repeat(N),\n",
    "            'year': numpy.array(year).repeat(N),\n",
    "            'data_type': 'absolute',\n",
    "            'scenario': 'historic'\n",
    "           }\n",
    "    return pd.DataFrame(data, columns=['basinid', 'indicator', 'period','period_value','year','data_type','scenario','value'])\n"
   ]
  },
  {
   "cell_type": "markdown",
   "metadata": {},
   "source": [
    "## All together to rule them"
   ]
  },
  {
   "cell_type": "code",
   "execution_count": 14,
   "metadata": {
    "collapsed": false,
    "deletable": true,
    "editable": true
   },
   "outputs": [],
   "source": [
    "outData=[]\n",
    "for dataset in tifss:\n",
    "    outData.append(zonal_statistics(baseLocation, geoInData, dataset))\n",
    "outData.append(unpivot(inData[column_list].set_index(['PFAF_ID'])))\n",
    "f = pd.concat(outData)"
   ]
  },
  {
   "cell_type": "markdown",
   "metadata": {},
   "source": [
    "## Categorization computation "
   ]
  },
  {
   "cell_type": "markdown",
   "metadata": {},
   "source": [
    "* **Baseline water stress:** $$x = \\frac{{LN([rawValue])-LN(0.1)}}{LN(2) } + 1$$\n",
    "    - 0.1 represents minimum interest value  \n",
    "    - 2 represent the maximum interest value\n",
    "* **Drought severity:** $$x = 5\\frac{{[rawValue]-min}}{max-min} + 1$$\n",
    "* **Interannual variability:** $$x = 5\\frac{{[rawValue]-min}}{max-min} + 1$$\n",
    "* **Seasonal variability:** $$x = 5\\frac{{[rawValue]-min}}{max-min} + 1$$\n"
   ]
  },
  {
   "cell_type": "code",
   "execution_count": 16,
   "metadata": {
    "collapsed": false,
    "scrolled": true
   },
   "outputs": [
    {
     "data": {
      "text/html": [
       "<div>\n",
       "<table border=\"1\" class=\"dataframe\">\n",
       "  <thead>\n",
       "    <tr style=\"text-align: right;\">\n",
       "      <th></th>\n",
       "      <th>basinid</th>\n",
       "      <th>data_type</th>\n",
       "      <th>indicator</th>\n",
       "      <th>period</th>\n",
       "      <th>period_value</th>\n",
       "      <th>scenario</th>\n",
       "      <th>value</th>\n",
       "      <th>year</th>\n",
       "    </tr>\n",
       "  </thead>\n",
       "  <tbody>\n",
       "    <tr>\n",
       "      <th>0</th>\n",
       "      <td>111011</td>\n",
       "      <td>absolute</td>\n",
       "      <td>drought_severity_soil</td>\n",
       "      <td>year</td>\n",
       "      <td>None</td>\n",
       "      <td>historic</td>\n",
       "      <td>0.442394</td>\n",
       "      <td>2014</td>\n",
       "    </tr>\n",
       "    <tr>\n",
       "      <th>1</th>\n",
       "      <td>111012</td>\n",
       "      <td>absolute</td>\n",
       "      <td>drought_severity_soil</td>\n",
       "      <td>year</td>\n",
       "      <td>None</td>\n",
       "      <td>historic</td>\n",
       "      <td>0.224826</td>\n",
       "      <td>2014</td>\n",
       "    </tr>\n",
       "  </tbody>\n",
       "</table>\n",
       "</div>"
      ],
      "text/plain": [
       "   basinid data_type              indicator period period_value  scenario  \\\n",
       "0   111011  absolute  drought_severity_soil   year         None  historic   \n",
       "1   111012  absolute  drought_severity_soil   year         None  historic   \n",
       "\n",
       "      value  year  \n",
       "0  0.442394  2014  \n",
       "1  0.224826  2014  "
      ]
     },
     "execution_count": 16,
     "metadata": {},
     "output_type": "execute_result"
    }
   ],
   "source": [
    "f.head(2)"
   ]
  },
  {
   "cell_type": "code",
   "execution_count": 17,
   "metadata": {
    "collapsed": false,
    "scrolled": false
   },
   "outputs": [],
   "source": [
    "\n",
    "def indicatorStc(frame):\n",
    "    '''\n",
    "    Calculates the basic statistics needed for categorization definition\n",
    "    '''\n",
    "    indicator_stats = {}\n",
    "    for indicator in frame.indicator.unique():\n",
    "        subsample = frame[frame['indicator'] == indicator]\n",
    "        indicator_stats[indicator]={'min':subsample.value.min(),'max':subsample.value.max()}\n",
    "        print(indicator,': ', indicator_stats[indicator]['min'],', ', indicator_stats[indicator]['max'])\n",
    "    return indicator_stats"
   ]
  },
  {
   "cell_type": "code",
   "execution_count": 18,
   "metadata": {
    "collapsed": true
   },
   "outputs": [],
   "source": [
    "def categorize(row):\n",
    "    '''\n",
    "    Categorize the raw data on 0-5 range\n",
    "    '''\n",
    "    if row['indicator']!='water_stess':\n",
    "        return 5*((row['value']-indicator_stats[row['indicator']]['min'])/(indicator_stats[row['indicator']]['max']-indicator_stats[row['indicator']]['min']))\n",
    "    elif row['value']>=0.1 and row['value']<=2:\n",
    "        return (((log(row['value'])-log(0.1))/(log(2)))+1)\n",
    "    elif row['value']>2:\n",
    "        return 5.25\n",
    "    else:\n",
    "        return 0\n",
    "    "
   ]
  },
  {
   "cell_type": "code",
   "execution_count": 19,
   "metadata": {
    "collapsed": false
   },
   "outputs": [
    {
     "name": "stdout",
     "output_type": "stream",
     "text": [
      "drought_severity_soil :  0.0 ,  5.16510901732\n",
      "drought_severity_flow :  0.0 ,  53.4934771611\n",
      "interannual_variability :  0.0 ,  7.0371393057\n",
      "seasonal_variability :  0.0 ,  11.9822691404\n",
      "water_stess :  -3.67572715908e+25 ,  inf\n"
     ]
    }
   ],
   "source": [
    "indicator_stats = indicatorStc(f)\n",
    "f['cat'] = f.apply(categorize, axis=1)"
   ]
  },
  {
   "cell_type": "code",
   "execution_count": 20,
   "metadata": {
    "collapsed": false
   },
   "outputs": [
    {
     "data": {
      "text/html": [
       "<div>\n",
       "<table border=\"1\" class=\"dataframe\">\n",
       "  <thead>\n",
       "    <tr style=\"text-align: right;\">\n",
       "      <th></th>\n",
       "      <th>basinid</th>\n",
       "      <th>data_type</th>\n",
       "      <th>indicator</th>\n",
       "      <th>period</th>\n",
       "      <th>period_value</th>\n",
       "      <th>scenario</th>\n",
       "      <th>value</th>\n",
       "      <th>year</th>\n",
       "      <th>cat</th>\n",
       "    </tr>\n",
       "  </thead>\n",
       "  <tbody>\n",
       "    <tr>\n",
       "      <th>0</th>\n",
       "      <td>111011</td>\n",
       "      <td>absolute</td>\n",
       "      <td>drought_severity_soil</td>\n",
       "      <td>year</td>\n",
       "      <td>None</td>\n",
       "      <td>historic</td>\n",
       "      <td>0.442394</td>\n",
       "      <td>2014</td>\n",
       "      <td>0.428252</td>\n",
       "    </tr>\n",
       "    <tr>\n",
       "      <th>1</th>\n",
       "      <td>111012</td>\n",
       "      <td>absolute</td>\n",
       "      <td>drought_severity_soil</td>\n",
       "      <td>year</td>\n",
       "      <td>None</td>\n",
       "      <td>historic</td>\n",
       "      <td>0.224826</td>\n",
       "      <td>2014</td>\n",
       "      <td>0.217639</td>\n",
       "    </tr>\n",
       "  </tbody>\n",
       "</table>\n",
       "</div>"
      ],
      "text/plain": [
       "   basinid data_type              indicator period period_value  scenario  \\\n",
       "0   111011  absolute  drought_severity_soil   year         None  historic   \n",
       "1   111012  absolute  drought_severity_soil   year         None  historic   \n",
       "\n",
       "      value  year       cat  \n",
       "0  0.442394  2014  0.428252  \n",
       "1  0.224826  2014  0.217639  "
      ]
     },
     "execution_count": 20,
     "metadata": {},
     "output_type": "execute_result"
    }
   ],
   "source": [
    "f.head(2)"
   ]
  },
  {
   "cell_type": "code",
   "execution_count": 21,
   "metadata": {
    "collapsed": false
   },
   "outputs": [
    {
     "name": "stdout",
     "output_type": "stream",
     "text": [
      "drought_severity_soil :  0.0 ,  5.0\n",
      "drought_severity_flow :  0.0 ,  5.0\n",
      "interannual_variability :  0.0 ,  5.0\n",
      "seasonal_variability :  0.0 ,  5.0\n",
      "water_stess :  0.0 ,  5.32169314026\n"
     ]
    }
   ],
   "source": [
    "for indicator in f.indicator.unique():\n",
    "    subsample = f[f['indicator'] == indicator]\n",
    "    print(indicator,': ', subsample.cat.min(),', ', subsample.cat.max())"
   ]
  },
  {
   "cell_type": "code",
   "execution_count": null,
   "metadata": {
    "collapsed": false
   },
   "outputs": [],
   "source": [
    "f.to_csv('/home/jovyan/work/data/aqueduct/dst/aqueductv3/aqv3.csv')"
   ]
  },
  {
   "cell_type": "markdown",
   "metadata": {},
   "source": [
    "## Raster reclassification"
   ]
  },
  {
   "cell_type": "markdown",
   "metadata": {},
   "source": [
    "For those indicators that are going to be shown at pixel level on the visualization we need to agreed on a name convention so we can call them independenly and reclasify them following the same categorization formulas used for the basin level data."
   ]
  },
  {
   "cell_type": "markdown",
   "metadata": {},
   "source": [
    "* **Drought severity:** $$x = 5\\frac{{[rawValue]-min}}{max-min} + 1$$\n",
    "* **Interannual variability:** $$x = 5\\frac{{[rawValue]-min}}{max-min} + 1$$\n",
    "* **Seasonal variability:** $$x = 5\\frac{{[rawValue]-min}}{max-min} + 1$$"
   ]
  },
  {
   "cell_type": "code",
   "execution_count": 83,
   "metadata": {
    "collapsed": true
   },
   "outputs": [],
   "source": [
    "def rCat(x):\n",
    "    return 5*((x-data['min'])/(data['max']-data['min']))\n",
    "\n"
   ]
  },
  {
   "cell_type": "code",
   "execution_count": 84,
   "metadata": {
    "collapsed": false
   },
   "outputs": [
    {
     "data": {
      "text/plain": [
       "[{'data_type': 'absolute',\n",
       "  'dataset': 'global_droughtseveritystandardisedsoilmoisture_5min_1960-2014.tif',\n",
       "  'indicator': 'drought_severity_soil',\n",
       "  'max': 56.885101,\n",
       "  'min': 0.0,\n",
       "  'period': 'year',\n",
       "  'period_value': None,\n",
       "  'scenario': 'historic',\n",
       "  'year': 2014},\n",
       " {'data_type': 'absolute',\n",
       "  'dataset': 'global_droughtseveritystandardisedstreamflow_5min_1960-2014.tif',\n",
       "  'indicator': 'drought_severity_flow',\n",
       "  'max': 57.976101,\n",
       "  'min': 0.0,\n",
       "  'period': 'year',\n",
       "  'period_value': None,\n",
       "  'scenario': 'historic',\n",
       "  'year': 2014},\n",
       " {'data_type': 'absolute',\n",
       "  'dataset': 'global_interannualvariabilitywatersupply_5min_1960-2014.tif',\n",
       "  'indicator': 'interannual_variability',\n",
       "  'max': 7.6268301,\n",
       "  'min': 0.0,\n",
       "  'period': 'year',\n",
       "  'period_value': None,\n",
       "  'scenario': 'historic',\n",
       "  'year': 2014},\n",
       " {'data_type': 'absolute',\n",
       "  'dataset': 'global_q1seasonalvariabilitywatersupply_5min_1960-2014.tif',\n",
       "  'indicator': 'seasonal_variability',\n",
       "  'max': 13.0384,\n",
       "  'min': 0.0,\n",
       "  'period': 'quarter',\n",
       "  'period_value': 1,\n",
       "  'scenario': 'historic',\n",
       "  'year': 2014},\n",
       " {'data_type': 'absolute',\n",
       "  'dataset': 'global_q2seasonalvariabilitywatersupply_5min_1960-2014.tif',\n",
       "  'indicator': 'seasonal_variability',\n",
       "  'max': 13.0384,\n",
       "  'min': 0.0,\n",
       "  'period': 'quarter',\n",
       "  'period_value': 2,\n",
       "  'scenario': 'historic',\n",
       "  'year': 2014},\n",
       " {'data_type': 'absolute',\n",
       "  'dataset': 'global_q3seasonalvariabilitywatersupply_5min_1960-2014.tif',\n",
       "  'indicator': 'seasonal_variability',\n",
       "  'max': 13.0384,\n",
       "  'min': 0.0,\n",
       "  'period': 'quarter',\n",
       "  'period_value': 3,\n",
       "  'scenario': 'historic',\n",
       "  'year': 2014},\n",
       " {'data_type': 'absolute',\n",
       "  'dataset': 'global_q4seasonalvariabilitywatersupply_5min_1960-2014.tif',\n",
       "  'indicator': 'seasonal_variability',\n",
       "  'max': 13.0384,\n",
       "  'min': 0.0,\n",
       "  'period': 'quarter',\n",
       "  'period_value': 4,\n",
       "  'scenario': 'historic',\n",
       "  'year': 2014}]"
      ]
     },
     "execution_count": 84,
     "metadata": {},
     "output_type": "execute_result"
    }
   ],
   "source": [
    "tifStats = []\n",
    "for data in tifss:\n",
    "    with rasterio.open(baseLocation + data['dataset']) as tif:\n",
    "        dataset = tif.read(1, masked=True)\n",
    "        data['min'] = numpy.amin(dataset)\n",
    "        data['max'] = numpy.amax(dataset)\n",
    "        tifStats.append(data)\n",
    "    \n",
    "#print(tifStats)    \n",
    "#asdf={x:{'min':[],'max':[]} for x in numpy.unique([x['indicator'] for x in tifss])} \n",
    "\n",
    "#for data in tifStats:\n",
    "#    asdf[data['indicator']]['min'].append(data['min'])\n",
    "#    asdf[data['indicator']]['max'].append(data['max'])\n",
    "#asdf\n",
    "tifStats"
   ]
  },
  {
   "cell_type": "code",
   "execution_count": null,
   "metadata": {
    "collapsed": false
   },
   "outputs": [],
   "source": [
    "rCat = numpy.vectorize(rCat)\n",
    "for data in tifStats:\n",
    "    with rasterio.open(baseLocation + data['dataset']) as tif:\n",
    "        dataset = tif.read(1, masked=True)\n",
    "        result_dataset = rCat(dataset)\n",
    "        profile = tif.profile\n",
    "        profile['dtype']='uint8'\n",
    "        profile['compress']='lzw'\n",
    "        profile['nodata']=255\n",
    "        fileName = '{0}_{1}_{2}{3}'.format(data['indicator'],data['period'][0].capitalize(),str(data['year']),('_'+str(data['period_value'])) if data['period_value']!= None else '')\n",
    "        filedir='/home/jovyan/work/data/aqueduct/dst/aqueductv3/' +  fileName\n",
    "        with rasterio.open(filedir, 'w', **profile) as dst:\n",
    "            dst.write(result_dataset.astype(profile['dtype']), 1)\n"
   ]
  },
  {
   "cell_type": "markdown",
   "metadata": {},
   "source": [
    "## Data Migration from wri-01 account to wri-rw"
   ]
  },
  {
   "cell_type": "markdown",
   "metadata": {},
   "source": []
  },
  {
   "cell_type": "code",
   "execution_count": 40,
   "metadata": {
    "collapsed": true
   },
   "outputs": [],
   "source": [
    "import requests\n",
    "import json"
   ]
  },
  {
   "cell_type": "code",
   "execution_count": 54,
   "metadata": {
    "collapsed": false,
    "scrolled": false
   },
   "outputs": [
    {
     "data": {
      "text/html": [
       "<div>\n",
       "<table border=\"1\" class=\"dataframe\">\n",
       "  <thead>\n",
       "    <tr style=\"text-align: right;\">\n",
       "      <th></th>\n",
       "      <th>active_child</th>\n",
       "      <th>active_layer_id</th>\n",
       "      <th>attributions</th>\n",
       "      <th>auth_tokens</th>\n",
       "      <th>children</th>\n",
       "      <th>created_at</th>\n",
       "      <th>description</th>\n",
       "      <th>display_name</th>\n",
       "      <th>external_source</th>\n",
       "      <th>id</th>\n",
       "      <th>...</th>\n",
       "      <th>synchronization</th>\n",
       "      <th>table</th>\n",
       "      <th>tags</th>\n",
       "      <th>title</th>\n",
       "      <th>transition_options</th>\n",
       "      <th>type</th>\n",
       "      <th>updated_at</th>\n",
       "      <th>url</th>\n",
       "      <th>uses_builder_features</th>\n",
       "      <th>version</th>\n",
       "    </tr>\n",
       "  </thead>\n",
       "  <tbody>\n",
       "    <tr>\n",
       "      <th>0</th>\n",
       "      <td>NaN</td>\n",
       "      <td>d18f725b-bb53-4a33-914f-e4db7d83ee38</td>\n",
       "      <td></td>\n",
       "      <td>[]</td>\n",
       "      <td>[]</td>\n",
       "      <td>2017-03-28 19:40:38</td>\n",
       "      <td>ifript data</td>\n",
       "      <td>NaN</td>\n",
       "      <td>{}</td>\n",
       "      <td>6b577532-13ee-11e7-9219-0ef7f98ade21</td>\n",
       "      <td>...</td>\n",
       "      <td>NaN</td>\n",
       "      <td>{'updated_at': '2017-03-29T12:01:13+00:00', 'r...</td>\n",
       "      <td>[aqueduct, country_data, production, alicia]</td>\n",
       "      <td>NaN</td>\n",
       "      <td>{'time': 0}</td>\n",
       "      <td>table</td>\n",
       "      <td>2017-03-30 07:56:56</td>\n",
       "      <td>https://wri-01.carto.com/tables/combined01_pre...</td>\n",
       "      <td>False</td>\n",
       "      <td>2</td>\n",
       "    </tr>\n",
       "  </tbody>\n",
       "</table>\n",
       "<p>1 rows × 34 columns</p>\n",
       "</div>"
      ],
      "text/plain": [
       "   active_child                       active_layer_id attributions  \\\n",
       "0           NaN  d18f725b-bb53-4a33-914f-e4db7d83ee38                \n",
       "\n",
       "  auth_tokens children          created_at  description  display_name  \\\n",
       "0          []       [] 2017-03-28 19:40:38  ifript data           NaN   \n",
       "\n",
       "  external_source                                    id   ...    \\\n",
       "0              {}  6b577532-13ee-11e7-9219-0ef7f98ade21   ...     \n",
       "\n",
       "  synchronization                                              table  \\\n",
       "0             NaN  {'updated_at': '2017-03-29T12:01:13+00:00', 'r...   \n",
       "\n",
       "                                           tags  title transition_options  \\\n",
       "0  [aqueduct, country_data, production, alicia]    NaN        {'time': 0}   \n",
       "\n",
       "    type          updated_at  \\\n",
       "0  table 2017-03-30 07:56:56   \n",
       "\n",
       "                                                 url  uses_builder_features  \\\n",
       "0  https://wri-01.carto.com/tables/combined01_pre...                  False   \n",
       "\n",
       "  version  \n",
       "0       2  \n",
       "\n",
       "[1 rows x 34 columns]"
      ]
     },
     "execution_count": 54,
     "metadata": {},
     "output_type": "execute_result"
    }
   ],
   "source": [
    "url = 'https://wri-01.carto.com/api/v1/viz/?tag_name=&type=&exclude_shared=false&per_page=1000&tags=aqueduct&types=table'\n",
    "r = requests.get(url)\n",
    "tableStructure= pd.read_json(json.dumps(r.json()['visualizations']), orient='records')\n",
    "tableStructure.head(17)\n",
    "\n"
   ]
  },
  {
   "cell_type": "code",
   "execution_count": 99,
   "metadata": {
    "collapsed": false
   },
   "outputs": [
    {
     "data": {
      "text/plain": [
       "'drought_severity_soil_Y_2014'"
      ]
     },
     "execution_count": 99,
     "metadata": {},
     "output_type": "execute_result"
    }
   ],
   "source": [
    "\n"
   ]
  },
  {
   "cell_type": "code",
   "execution_count": null,
   "metadata": {
    "collapsed": true
   },
   "outputs": [],
   "source": []
  }
 ],
 "metadata": {
  "kernelspec": {
   "display_name": "Python 3",
   "language": "python",
   "name": "python3"
  },
  "language_info": {
   "codemirror_mode": {
    "name": "ipython",
    "version": 3
   },
   "file_extension": ".py",
   "mimetype": "text/x-python",
   "name": "python",
   "nbconvert_exporter": "python",
   "pygments_lexer": "ipython3",
   "version": "3.5.3"
  }
 },
 "nbformat": 4,
 "nbformat_minor": 2
}
