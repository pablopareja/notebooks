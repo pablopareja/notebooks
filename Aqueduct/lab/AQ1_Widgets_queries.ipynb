{
 "cells": [
  {
   "cell_type": "markdown",
   "metadata": {
    "deletable": true,
    "editable": true
   },
   "source": [
    "# Widgets queries and visualizations"
   ]
  },
  {
   "cell_type": "code",
   "execution_count": 2,
   "metadata": {
    "ExecuteTime": {
     "end_time": "2017-03-30T20:51:30.475890",
     "start_time": "2017-03-30T20:51:28.407608"
    },
    "collapsed": false,
    "deletable": true,
    "editable": true
   },
   "outputs": [],
   "source": [
    "import pandas as pd\n",
    "import json\n",
    "import requests\n",
    "import numpy as np"
   ]
  },
  {
   "cell_type": "markdown",
   "metadata": {
    "deletable": true,
    "editable": true
   },
   "source": [
    "## Index:\n"
   ]
  },
  {
   "cell_type": "markdown",
   "metadata": {
    "deletable": true,
    "editable": true
   },
   "source": [
    "## Current widgets; migration to the new table structure. "
   ]
  },
  {
   "cell_type": "markdown",
   "metadata": {
    "deletable": true,
    "editable": true
   },
   "source": [
    "### Global, All crops"
   ]
  },
  {
   "cell_type": "markdown",
   "metadata": {
    "deletable": true,
    "editable": true
   },
   "source": [
    "#### WATER STRESS ON FOOD PRODUCTION\n",
    "\n",
    " * Dataset_id: 5be16fea-5b1a-4daf-a9e9-9dc1f6ea6d4e\n",
    " * Widget_id: 7b29a2a5-515a-4e22-846f-03ad3d2c0a13\n",
    " * Units: \n",
    "     * water stress:\n",
    "     * food production:\n",
    "\n",
    " * Dataset csv or json connector sql:\n",
    "\n",
    "    ```sql\n",
    "\n",
    "    ```\n",
    "\n",
    " * Widget Api sql:\n",
    "\n",
    "    ```sql\n",
    "with t as (select sum(area) as area, {{water_column}} as risk, crop from crops_stats group by {{water_column}}, crop order by risk asc), r as (SELECT sum(value) as value, commodity FROM combined01_prepared where year='{{year}}' and impactparameter='Food Demand' group by commodity ), d as ( select (value*100/(sum(value) over())) as value, commodity from r ) select crop, risk,value, (area*100/sum(area) over(partition by crop)) area_perc from d inner join t on lower(commodity)=crop order by risk asc, crop asc\n",
    "    ```\n",
    " * Parametrization:\n",
    "    ``` json\n",
    "    \"params_config\": [{\n",
    "            \"key\":\"water_column\",\n",
    "            \"required\":true\n",
    "            }],\n",
    "        \"sql_config\": [{\n",
    "            \"key\": \"where\", \n",
    "            \"key_params\":[{\n",
    "                \"key\":\"iso\",\n",
    "                \"required\":false},{ \n",
    "                \"key\":\"crop\",\n",
    "                \"required\":false},{ \n",
    "                \"key\":\"irrigation\",\n",
    "                \"required\":false}]\n",
    "                    }],\n",
    "\n",
    "    ```\n",
    "\n",
    " * Visualization type: Marimmeko"
   ]
  },
  {
   "cell_type": "code",
   "execution_count": 17,
   "metadata": {
    "ExecuteTime": {
     "end_time": "2017-03-22T15:45:29.189334",
     "start_time": "2017-03-22T15:45:28.635761"
    },
    "collapsed": false,
    "deletable": true,
    "editable": true,
    "scrolled": true
   },
   "outputs": [
    {
     "name": "stdout",
     "output_type": "stream",
     "text": [
      "<Response [200]>\n"
     ]
    },
    {
     "data": {
      "text/html": [
       "<div>\n",
       "<table border=\"1\" class=\"dataframe\">\n",
       "  <thead>\n",
       "    <tr style=\"text-align: right;\">\n",
       "      <th></th>\n",
       "      <th>basinid</th>\n",
       "      <th>cartodb_id</th>\n",
       "      <th>indicator</th>\n",
       "      <th>label</th>\n",
       "      <th>model</th>\n",
       "      <th>period</th>\n",
       "      <th>period_value</th>\n",
       "      <th>the_geom</th>\n",
       "      <th>the_geom_webmercator</th>\n",
       "      <th>type</th>\n",
       "      <th>value</th>\n",
       "      <th>year</th>\n",
       "    </tr>\n",
       "  </thead>\n",
       "  <tbody>\n",
       "    <tr>\n",
       "      <th>0</th>\n",
       "      <td>7664</td>\n",
       "      <td>9</td>\n",
       "      <td>water_stress</td>\n",
       "      <td>3. Medium to high (0.5-0.75)</td>\n",
       "      <td>historic</td>\n",
       "      <td>year</td>\n",
       "      <td>NaN</td>\n",
       "      <td>NaN</td>\n",
       "      <td>NaN</td>\n",
       "      <td>absolute</td>\n",
       "      <td>0.556385</td>\n",
       "      <td>2014</td>\n",
       "    </tr>\n",
       "  </tbody>\n",
       "</table>\n",
       "</div>"
      ],
      "text/plain": [
       "   basinid  cartodb_id     indicator                         label     model  \\\n",
       "0     7664           9  water_stress  3. Medium to high (0.5-0.75)  historic   \n",
       "\n",
       "  period  period_value  the_geom  the_geom_webmercator      type     value  \\\n",
       "0   year           NaN       NaN                   NaN  absolute  0.556385   \n",
       "\n",
       "   year  \n",
       "0  2014  "
      ]
     },
     "execution_count": 17,
     "metadata": {},
     "output_type": "execute_result"
    }
   ],
   "source": [
    "payload = {'q': \"select * from water_risk_indicators where indicator = 'water_stress' and model in ('bau', 'historic') and period='year' and type='absolute' and basinid = 7664 order by year asc\"}\n",
    "r = requests.get('https://wri-01.carto.com/api/v2/sql', params=payload)\n",
    "print(r)\n",
    "tableStructure= pd.read_json(json.dumps(r.json()['rows']), orient='records')\n",
    "tableStructure.head(1)"
   ]
  },
  {
   "cell_type": "code",
   "execution_count": 1,
   "metadata": {
    "ExecuteTime": {
     "end_time": "2017-03-22T16:52:37.922527",
     "start_time": "2017-03-22T16:52:37.913483"
    },
    "collapsed": false,
    "deletable": true,
    "editable": true
   },
   "outputs": [
    {
     "data": {
      "text/html": [
       "<iframe src=\"http://aqueduct-water-food-security.herokuapp.com/embed?state=eyJmaWx0ZXJzIjp7ImNyb3AiOiJhbGwiLCJzY29wZSI6Imdsb2JhbCIsInBlcmlvZCI6InllYXIiLCJwZXJpb2RfdmFsdWUiOiJiYXNlbGluZSIsInllYXIiOiJiYXNlbGluZSIsImZvb2QiOiJub25lIiwiaW5kaWNhdG9yIjoibm9uZSIsImlycmlnYXRpb24iOlsiaXJyaWdhdGVkIiwicmFpbmZlZCJdLCJ0eXBlIjoiYWJzb2x1dGUifSwiZW1iZWQiOnsiaWQiOiJjNGVlODk0Zi0yYTlmLTQ2ODEtOWMzZC1kOTRjZjEwNmY3OTYifX0=\" width=\"600\" height=\"420\" frameborder=\"0\" style=\"border:0\" allowfullscreen></iframe>"
      ],
      "text/plain": [
       "<IPython.core.display.HTML object>"
      ]
     },
     "metadata": {},
     "output_type": "display_data"
    }
   ],
   "source": [
    "%%html \n",
    "<iframe src=\"http://aqueduct-water-food-security.herokuapp.com/embed?state=eyJmaWx0ZXJzIjp7ImNyb3AiOiJhbGwiLCJzY29wZSI6Imdsb2JhbCIsInBlcmlvZCI6InllYXIiLCJwZXJpb2RfdmFsdWUiOiJiYXNlbGluZSIsInllYXIiOiJiYXNlbGluZSIsImZvb2QiOiJub25lIiwiaW5kaWNhdG9yIjoibm9uZSIsImlycmlnYXRpb24iOlsiaXJyaWdhdGVkIiwicmFpbmZlZCJdLCJ0eXBlIjoiYWJzb2x1dGUifSwiZW1iZWQiOnsiaWQiOiJjNGVlODk0Zi0yYTlmLTQ2ODEtOWMzZC1kOTRjZjEwNmY3OTYifX0=\" width=\"600\" height=\"420\" frameborder=\"0\" style=\"border:0\" allowfullscreen></iframe>\n"
   ]
  },
  {
   "cell_type": "markdown",
   "metadata": {
    "deletable": true,
    "editable": true
   },
   "source": [
    "#### SUMMARY TABLE, TOTAL CROPS PRODUCTION AREA\n",
    "\n",
    " * Dataset_id:\n",
    " * Widget_id:\n",
    "\n",
    " * Dataset connector sql:\n",
    "\n",
    "    ```sql\n",
    "\n",
    "    ```\n",
    "\n",
    " * Widget Api sql:\n",
    "\n",
    "    ```sql\n",
    "\n",
    "    ```\n",
    " * Parametrization:\n",
    "    ``` json\n",
    "    \"params_config\": [{\n",
    "            \"key\":\"water_column\",\n",
    "            \"required\":true\n",
    "            }],\n",
    "        \"sql_config\": [{\n",
    "            \"key\": \"where\", \n",
    "            \"key_params\":[{\n",
    "                \"key\":\"iso\",\n",
    "                \"required\":false},{ \n",
    "                \"key\":\"crop\",\n",
    "                \"required\":false},{ \n",
    "                \"key\":\"irrigation\",\n",
    "                \"required\":false}]\n",
    "                    }],\n",
    "\n",
    "    ```\n",
    "\n",
    " * Visualization type: Bar chart"
   ]
  },
  {
   "cell_type": "code",
   "execution_count": null,
   "metadata": {
    "collapsed": true,
    "deletable": true,
    "editable": true
   },
   "outputs": [],
   "source": []
  },
  {
   "cell_type": "code",
   "execution_count": null,
   "metadata": {
    "collapsed": true,
    "deletable": true,
    "editable": true
   },
   "outputs": [],
   "source": []
  },
  {
   "cell_type": "markdown",
   "metadata": {
    "deletable": true,
    "editable": true
   },
   "source": [
    "#### COUNTRY WATER RISK EXPOSURE AND RISK OF HUNGER\n",
    "\n",
    " * Dataset_id:\n",
    " * Widget_id:\n",
    "\n",
    " * Dataset connector sql:\n",
    "\n",
    "    ```sql\n",
    "\n",
    "    ```\n",
    "\n",
    " * Widget Api sql:\n",
    "\n",
    "    ```sql\n",
    "\n",
    "    ```\n",
    " * Parametrization:\n",
    "    ``` json\n",
    "    \"params_config\": [{\n",
    "            \"key\":\"water_column\",\n",
    "            \"required\":true\n",
    "            }],\n",
    "        \"sql_config\": [{\n",
    "            \"key\": \"where\", \n",
    "            \"key_params\":[{\n",
    "                \"key\":\"iso\",\n",
    "                \"required\":false},{ \n",
    "                \"key\":\"crop\",\n",
    "                \"required\":false},{ \n",
    "                \"key\":\"irrigation\",\n",
    "                \"required\":false}]\n",
    "                    }],\n",
    "\n",
    "    ```\n",
    "\n",
    " * Visualization type: Bar chart"
   ]
  },
  {
   "cell_type": "markdown",
   "metadata": {
    "deletable": true,
    "editable": true
   },
   "source": [
    "#### Widget name\n",
    "\n",
    "Dataset connector sql:\n",
    "\n",
    "```sql\n",
    "\n",
    "```\n",
    "\n",
    "Widget Api sql:\n",
    "\n",
    "```sql\n",
    "\n",
    "```\n",
    "Parametrization:\n",
    "``` json\n",
    "\"params_config\": [{\n",
    "\t\t\"key\":\"water_column\",\n",
    "\t\t\"required\":true\n",
    "  \t\t}],\n",
    "  \t\"sql_config\": [{\n",
    "  \t\t\"key\": \"where\", \n",
    "  \t\t\"key_params\":[{\n",
    "  \t\t\t\"key\":\"iso\",\n",
    "  \t\t\t\"required\":false},{ \n",
    "  \t\t\t\"key\":\"crop\",\n",
    "  \t\t\t\"required\":false},{ \n",
    "  \t\t\t\"key\":\"irrigation\",\n",
    "  \t\t\t\"required\":false}]\n",
    "                }],\n",
    "\n",
    "```\n",
    "\n",
    "Visualization type: Bar chart"
   ]
  },
  {
   "cell_type": "code",
   "execution_count": null,
   "metadata": {
    "collapsed": true,
    "deletable": true,
    "editable": true
   },
   "outputs": [],
   "source": []
  },
  {
   "cell_type": "code",
   "execution_count": null,
   "metadata": {
    "collapsed": true,
    "deletable": true,
    "editable": true
   },
   "outputs": [],
   "source": []
  },
  {
   "cell_type": "markdown",
   "metadata": {
    "deletable": true,
    "editable": true
   },
   "source": [
    "#### RAINFED VS IRRIGATED\n",
    "\n",
    " * Dataset_id:\n",
    " * Widget_id:\n",
    "\n",
    " * Dataset connector sql:\n",
    "\n",
    "    ```sql\n",
    "\n",
    "    ```\n",
    "\n",
    " * Widget Api sql:\n",
    "\n",
    "    ```sql\n",
    "\n",
    "    ```\n",
    " * Parametrization:\n",
    "    ``` json\n",
    "    \"params_config\": [{\n",
    "            \"key\":\"water_column\",\n",
    "            \"required\":true\n",
    "            }],\n",
    "        \"sql_config\": [{\n",
    "            \"key\": \"where\", \n",
    "            \"key_params\":[{\n",
    "                \"key\":\"iso\",\n",
    "                \"required\":false},{ \n",
    "                \"key\":\"crop\",\n",
    "                \"required\":false},{ \n",
    "                \"key\":\"irrigation\",\n",
    "                \"required\":false}]\n",
    "                    }],\n",
    "\n",
    "    ```\n",
    "\n",
    " * Visualization type: Bar chart"
   ]
  },
  {
   "cell_type": "code",
   "execution_count": null,
   "metadata": {
    "collapsed": true,
    "deletable": true,
    "editable": true
   },
   "outputs": [],
   "source": []
  },
  {
   "cell_type": "code",
   "execution_count": null,
   "metadata": {
    "collapsed": true,
    "deletable": true,
    "editable": true
   },
   "outputs": [],
   "source": []
  },
  {
   "cell_type": "markdown",
   "metadata": {
    "deletable": true,
    "editable": true
   },
   "source": [
    "### Global, one crop"
   ]
  },
  {
   "cell_type": "markdown",
   "metadata": {
    "deletable": true,
    "editable": true
   },
   "source": [
    "#### CROP'S PRODUCING AREAS EXPOSED TO WATER STRESS.\n",
    "\n",
    " * Dataset_id:\n",
    " * Widget_id:\n",
    "\n",
    " * Dataset connector sql:\n",
    "\n",
    "    ```sql\n",
    "\n",
    "    ```\n",
    "\n",
    " * Widget Api sql:\n",
    "\n",
    "    ```sql\n",
    "\n",
    "    ```\n",
    " * Parametrization:\n",
    "    ``` json\n",
    "    \"params_config\": [{\n",
    "            \"key\":\"water_column\",\n",
    "            \"required\":true\n",
    "            }],\n",
    "        \"sql_config\": [{\n",
    "            \"key\": \"where\", \n",
    "            \"key_params\":[{\n",
    "                \"key\":\"iso\",\n",
    "                \"required\":false},{ \n",
    "                \"key\":\"crop\",\n",
    "                \"required\":false},{ \n",
    "                \"key\":\"irrigation\",\n",
    "                \"required\":false}]\n",
    "                    }],\n",
    "\n",
    "    ```\n",
    "\n",
    " * Visualization type: Marimmeko"
   ]
  },
  {
   "cell_type": "code",
   "execution_count": null,
   "metadata": {
    "collapsed": true,
    "deletable": true,
    "editable": true
   },
   "outputs": [],
   "source": []
  },
  {
   "cell_type": "code",
   "execution_count": null,
   "metadata": {
    "collapsed": true,
    "deletable": true,
    "editable": true
   },
   "outputs": [],
   "source": []
  },
  {
   "cell_type": "markdown",
   "metadata": {
    "deletable": true,
    "editable": true
   },
   "source": [
    "### Country, one crops"
   ]
  },
  {
   "cell_type": "markdown",
   "metadata": {
    "deletable": true,
    "editable": true
   },
   "source": [
    "#### Country summary table\n",
    "\n",
    " * Dataset_id:\n",
    " * Widget_id:\n",
    "\n",
    " * Dataset connector sql:\n",
    "\n",
    "    ```sql\n",
    "\n",
    "    ```\n",
    "\n",
    " * Widget Api sql:\n",
    "\n",
    "    ```sql\n",
    "\n",
    "    ```\n",
    " * Parametrization:\n",
    "    ``` json\n",
    "    \"params_config\": [{\n",
    "            \"key\":\"water_column\",\n",
    "            \"required\":true\n",
    "            }],\n",
    "        \"sql_config\": [{\n",
    "            \"key\": \"where\", \n",
    "            \"key_params\":[{\n",
    "                \"key\":\"iso\",\n",
    "                \"required\":false},{ \n",
    "                \"key\":\"crop\",\n",
    "                \"required\":false},{ \n",
    "                \"key\":\"irrigation\",\n",
    "                \"required\":false}]\n",
    "                    }],\n",
    "\n",
    "    ```\n",
    "\n",
    " * Visualization type: Marimmeko"
   ]
  },
  {
   "cell_type": "code",
   "execution_count": null,
   "metadata": {
    "collapsed": true,
    "deletable": true,
    "editable": true
   },
   "outputs": [],
   "source": []
  },
  {
   "cell_type": "code",
   "execution_count": null,
   "metadata": {
    "collapsed": true,
    "deletable": true,
    "editable": true
   },
   "outputs": [],
   "source": []
  },
  {
   "cell_type": "markdown",
   "metadata": {
    "deletable": true,
    "editable": true
   },
   "source": [
    "#### CROPS PRODUCED IN AREAS OF HIGH WATER STRESS\n",
    "\n",
    " * Dataset_id:\n",
    " * Widget_id:\n",
    "\n",
    " * Dataset connector sql:\n",
    "\n",
    "    ```sql\n",
    "\n",
    "    ```\n",
    "\n",
    " * Widget Api sql:\n",
    "\n",
    "    ```sql\n",
    "\n",
    "    ```\n",
    " * Parametrization:\n",
    "    ``` json\n",
    "    \"params_config\": [{\n",
    "            \"key\":\"water_column\",\n",
    "            \"required\":true\n",
    "            }],\n",
    "        \"sql_config\": [{\n",
    "            \"key\": \"where\", \n",
    "            \"key_params\":[{\n",
    "                \"key\":\"iso\",\n",
    "                \"required\":false},{ \n",
    "                \"key\":\"crop\",\n",
    "                \"required\":false},{ \n",
    "                \"key\":\"irrigation\",\n",
    "                \"required\":false}]\n",
    "                    }],\n",
    "\n",
    "    ```\n",
    "\n",
    " * Visualization type: Marimmeko"
   ]
  },
  {
   "cell_type": "code",
   "execution_count": null,
   "metadata": {
    "collapsed": true,
    "deletable": true,
    "editable": true
   },
   "outputs": [],
   "source": []
  },
  {
   "cell_type": "code",
   "execution_count": null,
   "metadata": {
    "collapsed": true,
    "deletable": true,
    "editable": true
   },
   "outputs": [],
   "source": []
  },
  {
   "cell_type": "markdown",
   "metadata": {
    "deletable": true,
    "editable": true
   },
   "source": [
    "#### GROWING CROPS UNDER WATER STRESS CONDITIONS.\n",
    "\n",
    "\n",
    " * Dataset_id:\n",
    " * Widget_id:\n",
    "\n",
    " * Dataset connector sql:\n",
    "\n",
    "    ```sql\n",
    "\n",
    "    ```\n",
    "\n",
    " * Widget Api sql:\n",
    "\n",
    "    ```sql\n",
    "\n",
    "    ```\n",
    " * Parametrization:\n",
    "    ``` json\n",
    "    \"params_config\": [{\n",
    "            \"key\":\"water_column\",\n",
    "            \"required\":true\n",
    "            }],\n",
    "        \"sql_config\": [{\n",
    "            \"key\": \"where\", \n",
    "            \"key_params\":[{\n",
    "                \"key\":\"iso\",\n",
    "                \"required\":false},{ \n",
    "                \"key\":\"crop\",\n",
    "                \"required\":false},{ \n",
    "                \"key\":\"irrigation\",\n",
    "                \"required\":false}]\n",
    "                    }],\n",
    "\n",
    "    ```\n",
    "\n",
    " * Visualization type: Marimmeko"
   ]
  },
  {
   "cell_type": "code",
   "execution_count": null,
   "metadata": {
    "collapsed": true,
    "deletable": true,
    "editable": true
   },
   "outputs": [],
   "source": []
  },
  {
   "cell_type": "code",
   "execution_count": null,
   "metadata": {
    "collapsed": true,
    "deletable": true,
    "editable": true
   },
   "outputs": [],
   "source": []
  },
  {
   "cell_type": "markdown",
   "metadata": {
    "deletable": true,
    "editable": true
   },
   "source": [
    "### Global, All crops"
   ]
  },
  {
   "cell_type": "markdown",
   "metadata": {
    "deletable": true,
    "editable": true
   },
   "source": [
    "#### Country SUMMARY\n",
    "\n",
    "\n",
    " * Dataset_id:\n",
    " * Widget_id:\n",
    "\n",
    " * Dataset connector sql:\n",
    "\n",
    "    ```sql\n",
    "\n",
    "    ```\n",
    "\n",
    " * Widget Api sql:\n",
    "\n",
    "    ```sql\n",
    "\n",
    "    ```\n",
    " * Parametrization:\n",
    "    ``` json\n",
    "    \"params_config\": [{\n",
    "            \"key\":\"water_column\",\n",
    "            \"required\":true\n",
    "            }],\n",
    "        \"sql_config\": [{\n",
    "            \"key\": \"where\", \n",
    "            \"key_params\":[{\n",
    "                \"key\":\"iso\",\n",
    "                \"required\":false},{ \n",
    "                \"key\":\"crop\",\n",
    "                \"required\":false},{ \n",
    "                \"key\":\"irrigation\",\n",
    "                \"required\":false}]\n",
    "                    }],\n",
    "\n",
    "    ```\n",
    "\n",
    " * Visualization type: Marimmeko"
   ]
  },
  {
   "cell_type": "code",
   "execution_count": null,
   "metadata": {
    "collapsed": true,
    "deletable": true,
    "editable": true
   },
   "outputs": [],
   "source": []
  },
  {
   "cell_type": "code",
   "execution_count": null,
   "metadata": {
    "collapsed": true,
    "deletable": true,
    "editable": true
   },
   "outputs": [],
   "source": []
  },
  {
   "cell_type": "markdown",
   "metadata": {
    "deletable": true,
    "editable": true
   },
   "source": [
    "#### CROPS GROWING UNDER HIGH WATER STRESS CONDITIONS IN A COUNTRY\n",
    "\n",
    "\n",
    " * Dataset_id:\n",
    " * Widget_id:\n",
    "\n",
    " * Dataset connector sql:\n",
    "\n",
    "    ```sql\n",
    "\n",
    "    ```\n",
    "\n",
    " * Widget Api sql:\n",
    "\n",
    "    ```sql\n",
    "\n",
    "    ```\n",
    " * Parametrization:\n",
    "    ``` json\n",
    "    \"params_config\": [{\n",
    "            \"key\":\"water_column\",\n",
    "            \"required\":true\n",
    "            }],\n",
    "        \"sql_config\": [{\n",
    "            \"key\": \"where\", \n",
    "            \"key_params\":[{\n",
    "                \"key\":\"iso\",\n",
    "                \"required\":false},{ \n",
    "                \"key\":\"crop\",\n",
    "                \"required\":false},{ \n",
    "                \"key\":\"irrigation\",\n",
    "                \"required\":false}]\n",
    "                    }],\n",
    "\n",
    "    ```\n",
    "\n",
    " * Visualization type: Marimmeko"
   ]
  },
  {
   "cell_type": "code",
   "execution_count": null,
   "metadata": {
    "collapsed": true,
    "deletable": true,
    "editable": true
   },
   "outputs": [],
   "source": []
  },
  {
   "cell_type": "code",
   "execution_count": null,
   "metadata": {
    "collapsed": true,
    "deletable": true,
    "editable": true
   },
   "outputs": [],
   "source": []
  },
  {
   "cell_type": "markdown",
   "metadata": {
    "deletable": true,
    "editable": true
   },
   "source": [
    "#### PERCENTAGE OF COUNTRY'S POPULATION AT HIGH RISK OF HUNGER.\n",
    "\n",
    " * Dataset_id:\n",
    " * Widget_id:\n",
    "\n",
    " * Dataset connector sql:\n",
    "\n",
    "    ```sql\n",
    "\n",
    "    ```\n",
    "\n",
    " * Widget Api sql:\n",
    "\n",
    "    ```sql\n",
    "WITH RESULT AS (SELECT round(value::numeric, 2) AS value, region, year, iso FROM combined01_prepared WHERE year = 2030 AND impactparameter = 'Share Pop. at risk of hunger' AND scenario = 'SSP2-MIRO' and iso = upper('BRA')) \n",
    "SELECT CASE WHEN year > 2010 THEN 'will be' ELSE 'are' END AS verb, \n",
    "CASE WHEN year > 2010 THEN 'in ' || to_char(YEAR, '9999') ELSE '' END AS YEAR, \n",
    "Case when value < 1 then 'less than 1' else to_char(value, '9999') end as value, \n",
    "region AS country, iso FROM RESULT\n",
    "    ```\n",
    " * Parametrization:\n",
    "    ``` json\n",
    "    \"widgetConfig\": {\n",
    "          \"data\": {\n",
    "            \"url\": \"https://wri-01.carto.com/api/v2/sql?q=WITH RESULT AS (SELECT                 round(value::numeric, 2) AS value, region, year, iso FROM combined01_prepared WHERE year = {{year}} AND impactparameter = 'Share Pop. at risk of hunger' AND scenario = 'SSP2-MIRO' and iso = upper('{{iso}}'))  SELECT CASE WHEN year > 2010 THEN 'will be' ELSE 'are' END AS verb, CASE WHEN year > 2010 THEN 'in ' || to_char(year, '9999') ELSE '' END AS year, CASE WHEN value < 1 THEN 'less than 1' ELSE to_char(value, '9999') END AS value, region AS country, iso FROM RESULT\"\n",
    "          },\n",
    "          \"type\": \"text\",\n",
    "          \"template\": \"{{value}} of country's population {{verb}} at high risk of hunger {{year}} in {{country}}.\",\n",
    "          \"sql_config\": [],\n",
    "          \"sql_params\": [],\n",
    "          \"params_config\": [\n",
    "            {\n",
    "              \"key\": \"year\",\n",
    "              \"required\": true\n",
    "            },\n",
    "            {\n",
    "              \"key\": \"iso\",\n",
    "              \"required\": true\n",
    "            }\n",
    "          ],\n",
    "          \"template_config\": [\n",
    "            {\n",
    "              \"key\": \"verb\"\n",
    "            },\n",
    "            {\n",
    "              \"key\": \"value\",\n",
    "              \"suffix\": \"%\"\n",
    "            },\n",
    "            {\n",
    "              \"key\": \"country\"\n",
    "            },\n",
    "            {\n",
    "              \"key\": \"year\"\n",
    "            }\n",
    "          ]\n",
    "        }\n",
    "    ```\n",
    "\n",
    " * Visualization type: Text"
   ]
  },
  {
   "cell_type": "code",
   "execution_count": null,
   "metadata": {
    "collapsed": true,
    "deletable": true,
    "editable": true
   },
   "outputs": [],
   "source": []
  },
  {
   "cell_type": "code",
   "execution_count": null,
   "metadata": {
    "collapsed": true,
    "deletable": true,
    "editable": true
   },
   "outputs": [],
   "source": []
  },
  {
   "cell_type": "markdown",
   "metadata": {
    "deletable": true,
    "editable": true
   },
   "source": [
    "#### WATER RISK\n",
    "\n",
    " * Dataset_id:\n",
    " * Widget_id:\n",
    "\n",
    " * Dataset connector sql:\n",
    "\n",
    "    ```sql\n",
    "\n",
    "    ```\n",
    "\n",
    " * Widget Api sql:\n",
    "\n",
    "    ```sql\n",
    "\n",
    "    ```\n",
    " * Parametrization:\n",
    "    ``` json\n",
    "    \"params_config\": [{\n",
    "            \"key\":\"water_column\",\n",
    "            \"required\":true\n",
    "            }],\n",
    "        \"sql_config\": [{\n",
    "            \"key\": \"where\", \n",
    "            \"key_params\":[{\n",
    "                \"key\":\"iso\",\n",
    "                \"required\":false},{ \n",
    "                \"key\":\"crop\",\n",
    "                \"required\":false},{ \n",
    "                \"key\":\"irrigation\",\n",
    "                \"required\":false}]\n",
    "                    }],\n",
    "\n",
    "    ```\n",
    "\n",
    " * Visualization type: Marimmeko"
   ]
  },
  {
   "cell_type": "markdown",
   "metadata": {
    "deletable": true,
    "editable": true
   },
   "source": [
    "## New widgets"
   ]
  },
  {
   "cell_type": "markdown",
   "metadata": {
    "deletable": true,
    "editable": true
   },
   "source": [
    "with crop_area as (SELECT sum(area) area_crop, basinid, crop, iso, irrigation FROM crops group by basinid, crop, iso, irrigation),\n",
    "crop_stats as (select sum(area_crop) over (partition by  crop, irrigation) as T_crop_ha, area_crop, basinid, crop, irrigation, iso from crop_area),\n",
    "statistics as (select crop_stats.*, (wri_subcatchements.area_km2*100) as T_basin_ha, indicator, label, model, period, period_value, type, value, year, (area_crop) as weights from crop_stats inner join wri_subcatchements on wri_subcatchements.basinid=crop_stats.basinid inner join water_risk_indicators on water_risk_indicators.basinid=crop_stats.basinid where indicator in ('water_stress','seasonal_variability') and model in ('bau')),\n",
    "c as (\n",
    "select (sum(value*weights)/sum(distinct T_crop_ha)) water_risk, crop, year from statistics where indicator = 'water_stress' and type='absolute'and irrigation='rainfed' group by crop, year order by crop asc, year asc),\n",
    "s as (select min(water_risk) over (), max(water_risk) over (), c.* from c),\n",
    "categories as (select unnest(Array['all pulses', 'lentils', 'wheat', 'cowpeas', 'barley', 'rice', 'groundnut', 'beans', 'chickpeas', 'plantain', 'potato', 'sorghum', 'banana', 'pigeonpeas', 'millet', 'soybean', 'sweet potato', 'maize', 'yams', 'all cereals', 'cassava']) as crop, unnest(Array[2,2,1,2,1,1,2,2,2,4,3,1,4,2,1,5,4,1,3,1,4]) as crop_type)\n",
    "f as (\n",
    "(select crop, year, (100*(water_risk-min)/(max-min)) as water_risk from s order by crop asc, year asc)\n",
    "union all\n",
    "(select  'total crops avg' as crop, year, avg(100*(water_risk-min)/(max-min)) as water_risk from s group by year,1))"
   ]
  },
  {
   "cell_type": "markdown",
   "metadata": {
    "collapsed": true,
    "deletable": true,
    "editable": true
   },
   "source": [
    "### Global, All crops"
   ]
  },
  {
   "cell_type": "markdown",
   "metadata": {
    "deletable": true,
    "editable": true
   },
   "source": [
    "#### water stress change over time for irrigated crops by crop type (cereals, legumes + pulses, roots + tubers, fruits, oilseed, and add a line for all crops average)\n",
    "\n",
    " * Dataset_id: \n",
    " * Widget_id: \n",
    " * Units: \n",
    "     * \n",
    "     * \n",
    "\n",
    " * Dataset csv or json connector sql:\n",
    "\n",
    "    ```sql\n",
    "    asd\n",
    "    \n",
    "    ```\n",
    "\n",
    " * Widget Api sql:\n",
    "\n",
    "    ```sql\n",
    "with t as (select sum(area) as area, {{water_column}} as risk, crop from crops_stats group by {{water_column}}, crop order by risk asc), r as (SELECT sum(value) as value, commodity FROM combined01_prepared where year='{{year}}' and impactparameter='Food Demand' group by commodity ), d as ( select (value*100/(sum(value) over())) as value, commodity from r ) select crop, risk,value, (area*100/sum(area) over(partition by crop)) area_perc from d inner join t on lower(commodity)=crop order by risk asc, crop asc\n",
    "    ```\n",
    " * Parametrization:\n",
    "    ``` json\n",
    "    \"params_config\": [{\n",
    "            \"key\":\"water_column\",\n",
    "            \"required\":true\n",
    "            }],\n",
    "        \"sql_config\": [{\n",
    "            \"key\": \"where\", \n",
    "            \"key_params\":[{\n",
    "                \"key\":\"iso\",\n",
    "                \"required\":false},{ \n",
    "                \"key\":\"crop\",\n",
    "                \"required\":false},{ \n",
    "                \"key\":\"irrigation\",\n",
    "                \"required\":false}]\n",
    "                    }],\n",
    "\n",
    "    ```\n",
    "\n",
    " * Visualization type: multi-line-chart"
   ]
  },
  {
   "cell_type": "markdown",
   "metadata": {
    "collapsed": true,
    "deletable": true,
    "editable": true
   },
   "source": []
  },
  {
   "cell_type": "code",
   "execution_count": 8,
   "metadata": {
    "ExecuteTime": {
     "end_time": "2017-03-31T08:11:21.041666",
     "start_time": "2017-03-31T08:11:21.010511"
    },
    "collapsed": false,
    "deletable": true,
    "editable": true
   },
   "outputs": [
    {
     "data": {
      "text/plain": [
       "array([ 1.49484394,  1.66757797,  0.15115243,  1.45246536,  0.8493165 ,\n",
       "        2.85398534,  0.16091286,  0.73509884,  1.78518054,  0.43781698,\n",
       "        2.93530479,  2.24185164,  0.9955913 ,  0.2655955 ,  1.41888662,\n",
       "        2.52025593,  1.93510505,  2.86703567])"
      ]
     },
     "execution_count": 8,
     "metadata": {},
     "output_type": "execute_result"
    }
   ],
   "source": [
    "t = 3 * np.random.rand((3*6))\n",
    "t"
   ]
  },
  {
   "cell_type": "code",
   "execution_count": 11,
   "metadata": {
    "ExecuteTime": {
     "end_time": "2017-03-31T09:08:34.056154",
     "start_time": "2017-03-31T09:08:33.782773"
    },
    "collapsed": false,
    "deletable": true,
    "editable": true
   },
   "outputs": [
    {
     "data": {
      "text/plain": [
       "array([  535.28313846,  1112.24011224,   511.29972326,   871.01609363,\n",
       "         430.69500723,   297.33897077,   754.17683616,   760.73458005,\n",
       "         627.83455877,   815.77575532,  1101.44650379,  1010.89923102])"
      ]
     },
     "execution_count": 11,
     "metadata": {},
     "output_type": "execute_result"
    }
   ],
   "source": [
    "t =np.random.rand((12))*1000 +200\n",
    "t"
   ]
  },
  {
   "cell_type": "markdown",
   "metadata": {
    "deletable": true,
    "editable": true
   },
   "source": [
    "#### Seasonal variability change over time for irrigated crops by crop type (cereals, legumes + pulses, roots + tubers, fruits, oilseed, and add a line for all crops average)\n",
    "\n",
    " * Dataset_id: \n",
    " * Widget_id: \n",
    " * Units: \n",
    "     * \n",
    "     * \n",
    "\n",
    " * Dataset csv or json connector sql:\n",
    "\n",
    "    ```sql\n",
    "    asd\n",
    "    \n",
    "    ```\n",
    "\n",
    " * Widget Api sql:\n",
    "\n",
    "    ```sql\n",
    "with t as (select sum(area) as area, {{water_column}} as risk, crop from crops_stats group by {{water_column}}, crop order by risk asc), r as (SELECT sum(value) as value, commodity FROM combined01_prepared where year='{{year}}' and impactparameter='Food Demand' group by commodity ), d as ( select (value*100/(sum(value) over())) as value, commodity from r ) select crop, risk,value, (area*100/sum(area) over(partition by crop)) area_perc from d inner join t on lower(commodity)=crop order by risk asc, crop asc\n",
    "    ```\n",
    " * Parametrization:\n",
    "    ``` json\n",
    "    \"params_config\": [{\n",
    "            \"key\":\"water_column\",\n",
    "            \"required\":true\n",
    "            }],\n",
    "        \"sql_config\": [{\n",
    "            \"key\": \"where\", \n",
    "            \"key_params\":[{\n",
    "                \"key\":\"iso\",\n",
    "                \"required\":false},{ \n",
    "                \"key\":\"crop\",\n",
    "                \"required\":false},{ \n",
    "                \"key\":\"irrigation\",\n",
    "                \"required\":false}]\n",
    "                    }],\n",
    "\n",
    "    ```\n",
    "\n",
    " * Visualization type: multi-line-chart"
   ]
  },
  {
   "cell_type": "code",
   "execution_count": null,
   "metadata": {
    "collapsed": true,
    "deletable": true,
    "editable": true
   },
   "outputs": [],
   "source": []
  },
  {
   "cell_type": "markdown",
   "metadata": {
    "deletable": true,
    "editable": true
   },
   "source": [
    "#### Unique variable: crop type (+ all crop average). X-axis: time. Y-axis: water stress ranking.\n",
    "\n",
    " * Dataset_id: \n",
    " * Widget_id: \n",
    " * Units: \n",
    "     * \n",
    "     * \n",
    "\n",
    " * Dataset csv or json connector sql:\n",
    "\n",
    "    ```sql\n",
    "    asd\n",
    "    \n",
    "    ```\n",
    "\n",
    " * Widget Api sql:\n",
    "\n",
    "    ```sql\n",
    "with t as (select sum(area) as area, {{water_column}} as risk, crop from crops_stats group by {{water_column}}, crop order by risk asc), r as (SELECT sum(value) as value, commodity FROM combined01_prepared where year='{{year}}' and impactparameter='Food Demand' group by commodity ), d as ( select (value*100/(sum(value) over())) as value, commodity from r ) select crop, risk,value, (area*100/sum(area) over(partition by crop)) area_perc from d inner join t on lower(commodity)=crop order by risk asc, crop asc\n",
    "    ```\n",
    " * Parametrization:\n",
    "    ``` json\n",
    "    \"params_config\": [{\n",
    "            \"key\":\"water_column\",\n",
    "            \"required\":true\n",
    "            }],\n",
    "        \"sql_config\": [{\n",
    "            \"key\": \"where\", \n",
    "            \"key_params\":[{\n",
    "                \"key\":\"iso\",\n",
    "                \"required\":false},{ \n",
    "                \"key\":\"crop\",\n",
    "                \"required\":false},{ \n",
    "                \"key\":\"irrigation\",\n",
    "                \"required\":false}]\n",
    "                    }],\n",
    "\n",
    "    ```\n",
    "\n",
    " * Visualization type: multi-line-chart"
   ]
  },
  {
   "cell_type": "code",
   "execution_count": null,
   "metadata": {
    "collapsed": true,
    "deletable": true,
    "editable": true
   },
   "outputs": [],
   "source": []
  },
  {
   "cell_type": "code",
   "execution_count": null,
   "metadata": {
    "collapsed": true,
    "deletable": true,
    "editable": true
   },
   "outputs": [],
   "source": []
  },
  {
   "cell_type": "markdown",
   "metadata": {
    "deletable": true,
    "editable": true
   },
   "source": [
    "#### Change in seasonal variability for rainfed crops by crop type (+ all crop average)\n",
    "\n",
    " * Dataset_id: \n",
    " * Widget_id: \n",
    " * Units: \n",
    "     * \n",
    "     * \n",
    "\n",
    " * Dataset csv or json connector sql:\n",
    "\n",
    "    ```sql\n",
    "    asd\n",
    "    \n",
    "    ```\n",
    "\n",
    " * Widget Api sql:\n",
    "\n",
    "    ```sql\n",
    "with t as (select sum(area) as area, {{water_column}} as risk, crop from crops_stats group by {{water_column}}, crop order by risk asc), r as (SELECT sum(value) as value, commodity FROM combined01_prepared where year='{{year}}' and impactparameter='Food Demand' group by commodity ), d as ( select (value*100/(sum(value) over())) as value, commodity from r ) select crop, risk,value, (area*100/sum(area) over(partition by crop)) area_perc from d inner join t on lower(commodity)=crop order by risk asc, crop asc\n",
    "    ```\n",
    " * Parametrization:\n",
    "    ``` json\n",
    "    \"params_config\": [{\n",
    "            \"key\":\"water_column\",\n",
    "            \"required\":true\n",
    "            }],\n",
    "        \"sql_config\": [{\n",
    "            \"key\": \"where\", \n",
    "            \"key_params\":[{\n",
    "                \"key\":\"iso\",\n",
    "                \"required\":false},{ \n",
    "                \"key\":\"crop\",\n",
    "                \"required\":false},{ \n",
    "                \"key\":\"irrigation\",\n",
    "                \"required\":false}]\n",
    "                    }],\n",
    "\n",
    "    ```\n",
    "\n",
    " * Visualization type: multi-line-chart"
   ]
  },
  {
   "cell_type": "markdown",
   "metadata": {
    "deletable": true,
    "editable": true
   },
   "source": []
  },
  {
   "cell_type": "code",
   "execution_count": null,
   "metadata": {
    "collapsed": true,
    "deletable": true,
    "editable": true
   },
   "outputs": [],
   "source": []
  },
  {
   "cell_type": "markdown",
   "metadata": {
    "deletable": true,
    "editable": true
   },
   "source": [
    "#### X-axis: time. Y-axis left: water stress ranking for irrigated, Y-axis right: seasonal variability ranking for rainfed\n",
    "\n",
    " * Dataset_id: \n",
    " * Widget_id: \n",
    " * Units: \n",
    "     * \n",
    "     * \n",
    "\n",
    " * Dataset csv or json connector sql:\n",
    "\n",
    "    ```sql\n",
    "    asd\n",
    "    \n",
    "    ```\n",
    "\n",
    " * Widget Api sql:\n",
    "\n",
    "    ```sql\n",
    "with t as (select sum(area) as area, {{water_column}} as risk, crop from crops_stats group by {{water_column}}, crop order by risk asc), r as (SELECT sum(value) as value, commodity FROM combined01_prepared where year='{{year}}' and impactparameter='Food Demand' group by commodity ), d as ( select (value*100/(sum(value) over())) as value, commodity from r ) select crop, risk,value, (area*100/sum(area) over(partition by crop)) area_perc from d inner join t on lower(commodity)=crop order by risk asc, crop asc\n",
    "    ```\n",
    " * Parametrization:\n",
    "    ``` json\n",
    "    \"params_config\": [{\n",
    "            \"key\":\"water_column\",\n",
    "            \"required\":true\n",
    "            }],\n",
    "        \"sql_config\": [{\n",
    "            \"key\": \"where\", \n",
    "            \"key_params\":[{\n",
    "                \"key\":\"iso\",\n",
    "                \"required\":false},{ \n",
    "                \"key\":\"crop\",\n",
    "                \"required\":false},{ \n",
    "                \"key\":\"irrigation\",\n",
    "                \"required\":false}]\n",
    "                    }],\n",
    "\n",
    "    ```\n",
    "\n",
    " * Visualization type: multi-line-chart"
   ]
  },
  {
   "cell_type": "code",
   "execution_count": null,
   "metadata": {
    "collapsed": true,
    "deletable": true,
    "editable": true
   },
   "outputs": [],
   "source": []
  }
 ],
 "metadata": {
  "kernelspec": {
   "display_name": "Python 3",
   "language": "python",
   "name": "python3"
  },
  "language_info": {
   "codemirror_mode": {
    "name": "ipython",
    "version": 3
   },
   "file_extension": ".py",
   "mimetype": "text/x-python",
   "name": "python",
   "nbconvert_exporter": "python",
   "pygments_lexer": "ipython3",
   "version": "3.5.3"
  }
 },
 "nbformat": 4,
 "nbformat_minor": 2
}
