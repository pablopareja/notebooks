{
 "cells": [
  {
   "cell_type": "code",
   "execution_count": 62,
   "metadata": {
    "ExecuteTime": {
     "end_time": "2017-06-06T10:38:52.493772Z",
     "start_time": "2017-06-06T10:38:52.476116Z"
    }
   },
   "outputs": [],
   "source": [
    "%matplotlib inline\n",
    "import numpy as np\n",
    "import matplotlib.pyplot as plt\n",
    "import requests\n",
    "import json\n",
    "import pandas as pd\n",
    "import collections\n",
    "from ipywidgets import *\n",
    "from IPython.display import display"
   ]
  },
  {
   "cell_type": "markdown",
   "metadata": {},
   "source": [
    "# Weights"
   ]
  },
  {
   "cell_type": "markdown",
   "metadata": {},
   "source": [
    "**carto account:** wri-01  \n",
    "**Table that holds weights:** water_risk_weights\n",
    "\n",
    "\n",
    "This is divided on a set of predefined weights layers and a custom one:\n",
    "\n",
    "|Weight indicator name |Weight indicator slug  |  preset weights |\n",
    "|---|---|---| \n",
    "|Default weight overall water risk| _default | [4, 1, 0.5, 1, 1, 2, 2, 1, 0.5, 1, 2, 0.5] |\n",
    "|Default weight physical risk quantity| def_pquant | [] |\n",
    "|Default weight physical risk quality| def_pqual | [] |\n",
    "|Default weight regulatory and reputational risk| def_regrep | [] |\n",
    "\n",
    "* **Predifined weights layers**:  \n",
    "\n",
    "|Weight indicator name |Weight indicator slug  |  preset weights |\n",
    "|---|---|---| \n",
    "|Default weight overall water risk| _default | [4, 1, 0.5, 1, 1, 2, 2, 1, 0.5, 1, 2, 0.5] |  \n",
    "|Default agriculture sector weight overall water risk| w_agr | [4, 2, 0.5, 1, 2, 2, 2, 0.5, 0.25, 0.25, 2, 1] |  \n",
    "|Default power sector weight overall water risk| w_power | [4, 1, 2, 1, 4, 1, 1, 0.25, None, 0.5, 0.5, 2] |  \n",
    "|Default semiconductor sector weight overall water risk| w_semico | [4, 1, 1, 1, 1, 2, 2, 4, 2, 2, 1, 2] |  \n",
    "|Default oil and gas sector weight overall water risk| w_oilgas | [1, 0.5, 0.5, 0.5, 1, 1, 4, 0.25, None, 4, 4, 1] |  \n",
    "|Default chemical sector weight overall water risk| w_chem | [2, 1, 1, 1, 4, 1, 2, 2, 0.5, 4, 4, 2] |  \n",
    "|Default mining sector weight overall water risk| w_mine | [4, 1, 1, 4, 0.5, 1, 4, 1, 0.25, 4, 4, 1] |  \n",
    "|Default food and beverage sector weight overall water risk| w_foodbv | [2, 1, 0.5, 0.5, 1, 2, 1, 2, 1, 2, 1, 0.5] |  \n",
    "|Default construction materials sector weight overall water risk| w_constr | [4, 1, 0.5, 1, 1, 2, 2, 1, 0.5, 0.5, 1, 0.25] |  \n",
    "|Default textile sector weight overall water risk| w_tex | [4, 1, 0.5, 1, 1, 2, 2, 2, 0.5, 1, 2, 0.5] |  \n",
    "\n",
    "\n",
    "* **Custom weight layer calculated by the user**"
   ]
  },
  {
   "cell_type": "markdown",
   "metadata": {},
   "source": [
    "## Predifined weights layers"
   ]
  },
  {
   "cell_type": "markdown",
   "metadata": {},
   "source": [
    "Example query\n",
    "\n",
    "``` sql\n",
    "SELECT s.basinid, _default, r.the_geom_webmercator from water_risk_weights s left join wri_subcatchements r on s.basinid=r.basinid\n",
    "``` \n",
    "```css\n",
    "#water_risk_indicators{\n",
    "  polygon-fill:transparent;\n",
    "  polygon-opacity: 1;\n",
    "  line-color:transparent;\n",
    "  line-width: 1;\n",
    "  line-opacity: 1;\n",
    "}\n",
    "\n",
    "#water_risk_indicators [ _default<1000] {\n",
    "   polygon-fill:#B10026;\n",
    "  line-color:#B10026\n",
    "}\n",
    "#water_risk_indicators [ _default<4] {\n",
    "   polygon-fill:  #FC4E2A;\n",
    "  line-color:  #FC4E2A\n",
    "}\n",
    "#water_risk_indicators [_default<3] {\n",
    "   polygon-fill: #FD8D3C;\n",
    "  line-color: #FD8D3C\n",
    "}\n",
    "#water_risk_indicators [_default<2] {\n",
    "   polygon-fill: #FED976;\n",
    "  line-color:  #FED976\n",
    "}\n",
    "#water_risk_indicators [_default<1] {\n",
    "   polygon-fill: #FFFFB2;\n",
    "  line-color:  #FFFFB2\n",
    "}\n",
    "\n",
    "#water_risk_indicators [_default=0] {\n",
    "   polygon-fill: #eee;\n",
    "  line-color:  #eee\n",
    "}\n",
    "``` \n",
    "Sql Template:\n",
    "``` sql\n",
    "SELECT s.basinid, {{weight_indicator}}, r.the_geom_webmercator from water_risk_weights s left join wri_subcatchements r on s.basinid=r.basinid\n",
    "``` \n",
    "\n",
    "Cartocss:\n",
    "\n",
    "```css\n",
    "#water_risk_indicators{\n",
    "  polygon-fill:transparent;\n",
    "  polygon-opacity: 1;\n",
    "  line-color:transparent;\n",
    "  line-width: 1;\n",
    "  line-opacity: 1;\n",
    "}\n",
    "\n",
    "#water_risk_indicators [ {{weight_indicator}}<1000] {\n",
    "   polygon-fill:#B10026;\n",
    "  line-color:#B10026\n",
    "}\n",
    "#water_risk_indicators [{{weight_indicator}}<4] {\n",
    "   polygon-fill:  #FC4E2A;\n",
    "  line-color:  #FC4E2A\n",
    "}\n",
    "#water_risk_indicators [{{weight_indicator}}<3] {\n",
    "   polygon-fill: #FD8D3C;\n",
    "  line-color: #FD8D3C\n",
    "}\n",
    "#water_risk_indicators [{{weight_indicator}}<2] {\n",
    "   polygon-fill: #FED976;\n",
    "  line-color:  #FED976\n",
    "}\n",
    "#water_risk_indicators [{{weight_indicator}}<1] {\n",
    "   polygon-fill: #FFFFB2;\n",
    "  line-color:  #FFFFB2\n",
    "}\n",
    "\n",
    "#water_risk_indicators [_default=0] {\n",
    "   polygon-fill: #eee;\n",
    "  line-color:  #eee\n",
    "}\n",
    "```\n",
    "\n",
    "* parameters:   \n",
    "\n",
    "``` json \n",
    "\n",
    "``` "
   ]
  },
  {
   "cell_type": "markdown",
   "metadata": {
    "ExecuteTime": {
     "end_time": "2017-03-23T17:05:17.682148",
     "start_time": "2017-03-23T17:05:17.669325"
    }
   },
   "source": [
    "## Old custom weight layer calculated by the user\n",
    "We have 12 indicators. Grouped in 3 categories. Which weight range values are: **[0.25, 0.5, 1, 2, 4]**   \n",
    "\n",
    "This will cover the weight widget calculation and the weights passed to back to generate the custom layer.   "
   ]
  },
  {
   "cell_type": "markdown",
   "metadata": {},
   "source": [
    "### Weight widget data calculation"
   ]
  },
  {
   "cell_type": "code",
   "execution_count": 156,
   "metadata": {
    "ExecuteTime": {
     "end_time": "2017-06-06T11:35:19.636882Z",
     "start_time": "2017-06-06T11:35:19.622796Z"
    }
   },
   "outputs": [],
   "source": [
    "def slider(i):\n",
    "    return widgets.IntSlider(\n",
    "    value=3,\n",
    "    min=1,\n",
    "    max=5,\n",
    "    step=1,\n",
    "    description='Indicator {0}'.format(i),\n",
    "    disabled=False,\n",
    "    continuous_update=False,\n",
    "    orientation='horizontal',\n",
    "    readout=False,\n",
    "    readout_format='.1f',\n",
    "    slider_color='',\n",
    "    layout=widgets.Layout(width='150px', height='30px')\n",
    ")\n"
   ]
  },
  {
   "cell_type": "code",
   "execution_count": 157,
   "metadata": {
    "ExecuteTime": {
     "end_time": "2017-06-06T11:35:20.064590Z",
     "start_time": "2017-06-06T11:35:20.044804Z"
    }
   },
   "outputs": [
    {
     "name": "stdout",
     "output_type": "stream",
     "text": [
      "<ipywidgets.widgets.widget_int.IntSlider object at 0x7f5faba7a588>\n",
      "<ipywidgets.widgets.widget_int.IntSlider object at 0x7f5faba7a9b0>\n",
      "<ipywidgets.widgets.widget_int.IntSlider object at 0x7f5faba3d898>\n",
      "<ipywidgets.widgets.widget_int.IntSlider object at 0x7f5faba3db38>\n",
      "<ipywidgets.widgets.widget_int.IntSlider object at 0x7f5faba7a4e0>\n",
      "<ipywidgets.widgets.widget_int.IntSlider object at 0x7f5faba7a6a0>\n",
      "<ipywidgets.widgets.widget_int.IntSlider object at 0x7f5faba7a518>\n",
      "<ipywidgets.widgets.widget_int.IntSlider object at 0x7f5faba7ae10>\n",
      "<ipywidgets.widgets.widget_int.IntSlider object at 0x7f5faba7a2b0>\n",
      "<ipywidgets.widgets.widget_int.IntSlider object at 0x7f5faba7ab00>\n",
      "<ipywidgets.widgets.widget_int.IntSlider object at 0x7f5faba7a1d0>\n",
      "<ipywidgets.widgets.widget_int.IntSlider object at 0x7f5faba7a7b8>\n"
     ]
    }
   ],
   "source": [
    " wvals= {'1':0.25, '1':0.5, '1':1, '1':2, '1':4}\n",
    "for i in kargs.items():\n",
    "    print(i[1])"
   ]
  },
  {
   "cell_type": "code",
   "execution_count": 164,
   "metadata": {
    "ExecuteTime": {
     "end_time": "2017-06-06T11:37:15.294002Z",
     "start_time": "2017-06-06T11:37:14.901327Z"
    }
   },
   "outputs": [
    {
     "data": {
      "application/vnd.jupyter.widget-view+json": {
       "model_id": "c0f583c80c1f49d88c085aed3bc5deec"
      }
     },
     "metadata": {},
     "output_type": "display_data"
    }
   ],
   "source": [
    "## Agrupation [  regulatory   ] [  Quality  ] [             Quantity                 ]\n",
    "#  indicator [ 1     2     3 ] [ 4      5  ] [   6      7     8     9   10   11  12 ]\n",
    "#weights = [[0.25, 0.25, 0.25], [0.25, 0.25], [0.25, 0.25, 0.25, 0.25, 2, 0.25, 0.25]]\n",
    "#calculation\n",
    "def weightScheme(**kargs):\n",
    "    wvals= {'1':0.25, '2':0.5, '3':1, '4':2, '5':4}\n",
    "    orderedk= collections.OrderedDict(sorted(kargs.items(), key=lambda t: t[0]))\n",
    "    das = np.asarray([wvals[str(i[1])] for i in orderedk.items()])\n",
    "    weights=[[das[0],das[4]],das[5:8],np.concatenate((das[8:13], das[1:4]), axis=0)]\n",
    "    print(weights)\n",
    "    total = (np.sum(weights[0]) + np.sum(weights[1]) + np.sum(weights[2]))\n",
    "    regulatory = (np.sum(weights[0]) / total)*100\n",
    "    quality = (np.sum(weights[1]) / total)*100\n",
    "    quantity = (np.sum(weights[2]) / total)*100\n",
    "    sizes = [regulatory, quality, quantity]\n",
    "\n",
    "    #vissual\n",
    "    labels = 'Regulatory', 'Quality', 'Quantity'\n",
    "    theta = ('m', 'y', 'w')\n",
    "    explode = (0, 0, 0, 0)\n",
    "    fig1, ax1 = plt.subplots()\n",
    "    ax1.pie(sizes,  labels=labels, autopct='%1.2f%%', colors=theta, shadow=True, startangle=90)\n",
    "    ax1.axis('equal')\n",
    "    plt.show()\n",
    "    \n",
    "#weightScheme(weights)\n",
    "kargs = collections.OrderedDict(sorted({'ind{0}'.format(i): slider(i) for i in range(1,13)}.items(), key=lambda t: t[0]))\n",
    "w = interactive(weightScheme, **kargs)\n",
    "#print(type(w))\n",
    "#print(w.keys)\n",
    "#print(w.children)\n",
    "w.children[12].layout=Layout(width='100%', height='300px')\n",
    "HBox([VBox(sorted(w.children[:11], key=lambda t: t.description.split(' ', 1 ))),w.children[12]], layout = Layout(width='100%', height='300px'))"
   ]
  },
  {
   "cell_type": "markdown",
   "metadata": {},
   "source": [
    "## Weight passed to back for the custom weight layer;\n",
    "\n",
    "Procedure definition:\n",
    "\n",
    "``` sql\n",
    "DROP FUNCTION get_custom_weight(weights_raw TEXT); \n",
    "\n",
    "DROP TYPE weight_water_risk;\n",
    "\n",
    "CREATE TYPE weight_water_risk AS (cartodb_id numeric, basinid numeric, the_geom geometry, the_geom_webmercator geometry, water_risk numeric);\n",
    "\n",
    "CREATE OR REPLACE FUNCTION get_custom_weight(weights_raw TEXT) \n",
    "\tRETURNS SETOF weight_water_risk as $$\n",
    "\tDECLARE\n",
    "    query1 TEXT;\n",
    "    weights TEXT;\n",
    "    weights_sum TEXT;\n",
    "\tBEGIN\n",
    "        query1:='select array_to_string(array_agg(col::text ||''*''|| weights::text), ''+ '') as weights, sum(weights)::text as weights_sum from (select unnest(Array'|| weights_raw||') as weights, unnest(array[''bws_s'', ''wsv_s'', ''sv_s'', ''hfo_s'', ''dro_s'', ''stor_s'', ''gw_s'', ''wri_s'', ''eco_s_s'', ''mc_s'', ''wcg_s'', ''eco_v_s'']) as col) as tables where weights is not null';\n",
    "        EXECUTE query1 into weights, weights_sum;\n",
    "        \n",
    "\t\tRETURN query EXECUTE 'with ranges as (select basinid, average, min(average) over (), max(average) over () from (SELECT basinid, ('|| weights ||')/('|| weights_sum ||') as average FROM water_risk_weights) initial) select cartodb_id::numeric, ranges.basinid::numeric, the_geom, the_geom_webmercator, (((average-min)/(max-min))*5)::numeric as water_risk from ranges left join wri_subcatchements on ranges.basinid=wri_subcatchements.basinid';\n",
    "\t\n",
    "\tEND\n",
    "$$ language 'plpgsql';\n",
    "\n",
    "``` \n",
    "\n",
    "\n",
    "\n",
    "### Old indicators order\n",
    "[New Indicators list reference](https://docs.google.com/spreadsheets/d/11GWSY4HZdskCFoVpGCTmzMw8evifIZfHDi6_UaoGQFE/edit#gid=0)\n",
    "\n",
    "| Family |Indicator name| slug |\n",
    "|---|---|--- |\n",
    "| Physical Risk Quantity |Baseline Water Stress  | water_stress |\n",
    "| Physical Risk Quantity |Interannual Variability  |  interannual_variability |\n",
    "| Physical Risk Quantity |Seasonal Variability  | seasonal_variability  |\n",
    "| Physical Risk Quantity |Flood Occurrence  |  flood_occurrence |\n",
    "| Physical Risk Quantity |Drought Severity  | drought_severity  |\n",
    "| Physical Risk Quantity |Upstream Storage  | upstream_storage |\n",
    "| Physical Risk Quantity |Groundwater Stress  | groundwater_stress|\n",
    "| Physical Risk Quality |Return Flow Ratio  | return_flow_ratio |\n",
    "| Physical Risk Quality |Upstream Protected Land  | upstream_protected_land |\n",
    "| Regulatory & Reputational Risk |Media Coverage   |media_coverage  |\n",
    "| Regulatory & Reputational Risk |Access to Water   |access_to_water  |\n",
    "| Regulatory & Reputational Risk |Threatened Amphibians  |threatened_amphibians|\n",
    "\n",
    "\n",
    "\n",
    "Sql:\n",
    "``` sql\n",
    "select * from get_custom_weight('[4, 1, 0.5, 1, 1, 2, 2, 1, 0.5, 1, 2, 0.5]')\n",
    "\n",
    "``` \n",
    "\n",
    "Cartocss:\n",
    "\n",
    "```css\n",
    "#water_risk_indicators{\n",
    "  polygon-fill:transparent;\n",
    "  polygon-opacity: 1;\n",
    "  line-color:transparent;\n",
    "  line-width: 1;\n",
    "  line-opacity: 1;\n",
    "}\n",
    "\n",
    "#water_risk_indicators [ water_risk<1000] {\n",
    "   polygon-fill:#B10026;\n",
    "  line-color:#B10026\n",
    "}\n",
    "#water_risk_indicators [ water_risk<4] {\n",
    "   polygon-fill:  #FC4E2A;\n",
    "  line-color:  #FC4E2A\n",
    "}\n",
    "#water_risk_indicators [water_risk<3] {\n",
    "   polygon-fill: #FD8D3C;\n",
    "  line-color: #FD8D3C\n",
    "}\n",
    "#water_risk_indicators [water_risk<2] {\n",
    "   polygon-fill: #FED976;\n",
    "  line-color:  #FED976\n",
    "}\n",
    "#water_risk_indicators [water_risk<1] {\n",
    "   polygon-fill: #FFFFB2;\n",
    "  line-color:  #FFFFB2\n",
    "}\n",
    "\n",
    "#water_risk_indicators [water_risk=0] {\n",
    "   polygon-fill: #eee;\n",
    "  line-color:  #eee\n",
    "}\n",
    "```\n",
    "\n",
    "* parameters:   \n",
    "\n",
    "``` json \n",
    "\n",
    "``` \n",
    "\n"
   ]
  },
  {
   "cell_type": "code",
   "execution_count": null,
   "metadata": {
    "ExecuteTime": {
     "end_time": "2017-03-28T15:50:44.820102",
     "start_time": "2017-03-28T15:50:43.349599"
    }
   },
   "outputs": [],
   "source": [
    "payload = {'q': \"SELECT * FROM get_custom_weight('[4, 1, 0.5, 1, 1, 2, 2, 1, 0.5, 1, 2, 0.5]') Limit 1\"}\n",
    "r = requests.get('https://wri-01.carto.com/api/v2/sql', params=payload)\n",
    "\n",
    "tableStructure= pd.read_json(json.dumps(r.json()['rows']), orient='records')\n",
    "tableStructure.head(1)"
   ]
  },
  {
   "cell_type": "markdown",
   "metadata": {},
   "source": [
    "# Anexe: weights table query creation:\n",
    "\n",
    "``` sql\n",
    "\n",
    "```\n"
   ]
  },
  {
   "cell_type": "code",
   "execution_count": null,
   "metadata": {
    "ExecuteTime": {
     "end_time": "2017-03-28T15:50:47.471313",
     "start_time": "2017-03-28T15:50:47.457224"
    }
   },
   "outputs": [],
   "source": [
    "columns = ['BWS_s', 'WSV_s', 'SV_s', 'HFO_s', 'DRO_s', 'STOR_s', 'GW_s', 'WRI_s', 'ECO_S_s', 'MC_s', 'WCG_s', 'ECO_V_s', '_DEFAULT', 'DEF_PQUANT', 'DEF_PQUAL', 'DEF_REGREP', 'W_AGR', 'W_POWER', 'W_SEMICO', 'W_OILGAS', 'W_CHEM', 'W_MINE', 'W_FOODBV', 'W_CONSTR', 'W_TEX']\n",
    "cols=[]\n",
    "for x in columns: \n",
    "    cols.append(x.lower())\n",
    "'select basinid, ' + ', '.join(cols)  + ' from aqueduct_global_dl_20150409'"
   ]
  },
  {
   "cell_type": "markdown",
   "metadata": {},
   "source": [
    "update columns to get ride of value -32767 \n",
    "```sql\n",
    "update water_risk_weights set {{indicator}}=null where {{indicator}}=-32767\n",
    "``` "
   ]
  },
  {
   "cell_type": "code",
   "execution_count": null,
   "metadata": {
    "ExecuteTime": {
     "end_time": "2017-03-28T15:50:59.208121",
     "start_time": "2017-03-28T15:50:59.191613"
    }
   },
   "outputs": [],
   "source": [
    "for indicator in cols:\n",
    "    print('update water_risk_weights set '+indicator+'=0 where '+indicator+' is null;')"
   ]
  },
  {
   "cell_type": "code",
   "execution_count": null,
   "metadata": {
    "collapsed": true
   },
   "outputs": [],
   "source": []
  }
 ],
 "metadata": {
  "kernelspec": {
   "display_name": "Python 3",
   "language": "python",
   "name": "python3"
  },
  "language_info": {
   "codemirror_mode": {
    "name": "ipython",
    "version": 3
   },
   "file_extension": ".py",
   "mimetype": "text/x-python",
   "name": "python",
   "nbconvert_exporter": "python",
   "pygments_lexer": "ipython3",
   "version": "3.5.3"
  },
  "latex_envs": {
   "LaTeX_envs_menu_present": true,
   "autocomplete": true,
   "bibliofile": "biblio.bib",
   "cite_by": "apalike",
   "current_citInitial": 1,
   "eqLabelWithNumbers": true,
   "eqNumInitial": 1,
   "hotkeys": {
    "equation": "Ctrl-E",
    "itemize": "Ctrl-I"
   },
   "labels_anchors": false,
   "latex_user_defs": false,
   "report_style_numbering": false,
   "user_envs_cfg": false
  },
  "varInspector": {
   "cols": {
    "lenName": 16,
    "lenType": 16,
    "lenVar": 40
   },
   "kernels_config": {
    "python": {
     "delete_cmd_postfix": "",
     "delete_cmd_prefix": "del ",
     "library": "var_list.py",
     "varRefreshCmd": "print(var_dic_list())"
    },
    "r": {
     "delete_cmd_postfix": ") ",
     "delete_cmd_prefix": "rm(",
     "library": "var_list.r",
     "varRefreshCmd": "cat(var_dic_list()) "
    }
   },
   "types_to_exclude": [
    "module",
    "function",
    "builtin_function_or_method",
    "instance",
    "_Feature"
   ],
   "window_display": false
  }
 },
 "nbformat": 4,
 "nbformat_minor": 2
}
