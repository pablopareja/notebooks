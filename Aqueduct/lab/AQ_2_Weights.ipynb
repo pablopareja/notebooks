{
 "cells": [
  {
   "cell_type": "code",
   "execution_count": 2,
   "metadata": {
    "ExecuteTime": {
     "end_time": "2017-03-28T15:50:34.358689",
     "start_time": "2017-03-28T15:50:32.923975"
    },
    "collapsed": true,
    "deletable": true,
    "editable": true
   },
   "outputs": [],
   "source": [
    "%matplotlib inline\n",
    "import numpy as np\n",
    "import matplotlib.pyplot as plt\n",
    "import requests\n",
    "import json\n",
    "import pandas as pd"
   ]
  },
  {
   "cell_type": "markdown",
   "metadata": {
    "deletable": true,
    "editable": true
   },
   "source": [
    "# Weights"
   ]
  },
  {
   "cell_type": "markdown",
   "metadata": {
    "deletable": true,
    "editable": true
   },
   "source": [
    "**carto account:** wri-01  \n",
    "**Table that holds weights:** water_risk_weights\n",
    "\n",
    "\n",
    "This is divided on a set of predefined weights layers and a custom one:\n",
    "\n",
    "|Weight indicator name |Weight indicator slug  |  preset weights |\n",
    "|---|---|---| \n",
    "|Default weight overall water risk| _default | [4, 1, 0.5, 1, 1, 2, 2, 1, 0.5, 1, 2, 0.5] |\n",
    "|Default weight physical risk quantity| def_pquant | [] |\n",
    "|Default weight physical risk quality| def_pqual | [] |\n",
    "|Default weight regulatory and reputational risk| def_regrep | [] |\n",
    "\n",
    "* **Predifined weights layers**:  \n",
    "\n",
    "|Weight indicator name |Weight indicator slug  |  preset weights |\n",
    "|---|---|---| \n",
    "|Default weight overall water risk| _default | [4, 1, 0.5, 1, 1, 2, 2, 1, 0.5, 1, 2, 0.5] |  \n",
    "|Default agriculture sector weight overall water risk| w_agr | [4, 2, 0.5, 1, 2, 2, 2, 0.5, 0.25, 0.25, 2, 1] |  \n",
    "|Default power sector weight overall water risk| w_power | [4, 1, 2, 1, 4, 1, 1, 0.25, None, 0.5, 0.5, 2] |  \n",
    "|Default semiconductor sector weight overall water risk| w_semico | [4, 1, 1, 1, 1, 2, 2, 4, 2, 2, 1, 2] |  \n",
    "|Default oil and gas sector weight overall water risk| w_oilgas | [1, 0.5, 0.5, 0.5, 1, 1, 4, 0.25, None, 4, 4, 1] |  \n",
    "|Default chemical sector weight overall water risk| w_chem | [2, 1, 1, 1, 4, 1, 2, 2, 0.5, 4, 4, 2] |  \n",
    "|Default mining sector weight overall water risk| w_mine | [4, 1, 1, 4, 0.5, 1, 4, 1, 0.25, 4, 4, 1] |  \n",
    "|Default food and beverage sector weight overall water risk| w_foodbv | [2, 1, 0.5, 0.5, 1, 2, 1, 2, 1, 2, 1, 0.5] |  \n",
    "|Default construction materials sector weight overall water risk| w_constr | [4, 1, 0.5, 1, 1, 2, 2, 1, 0.5, 0.5, 1, 0.25] |  \n",
    "|Default textile sector weight overall water risk| w_tex | [4, 1, 0.5, 1, 1, 2, 2, 2, 0.5, 1, 2, 0.5] |  \n",
    "\n",
    "\n",
    "* **Custom weight layer calculated by the user**"
   ]
  },
  {
   "cell_type": "markdown",
   "metadata": {
    "deletable": true,
    "editable": true
   },
   "source": [
    "## Predifined weights layers"
   ]
  },
  {
   "cell_type": "markdown",
   "metadata": {
    "deletable": true,
    "editable": true
   },
   "source": [
    "Example query\n",
    "\n",
    "``` sql\n",
    "SELECT s.basinid, _default, r.the_geom_webmercator from water_risk_weights s left join wri_subcatchements r on s.basinid=r.basinid\n",
    "``` \n",
    "```css\n",
    "#water_risk_indicators{\n",
    "  polygon-fill:transparent;\n",
    "  polygon-opacity: 1;\n",
    "  line-color:transparent;\n",
    "  line-width: 1;\n",
    "  line-opacity: 1;\n",
    "}\n",
    "\n",
    "#water_risk_indicators [ _default<1000] {\n",
    "   polygon-fill:#B10026;\n",
    "  line-color:#B10026\n",
    "}\n",
    "#water_risk_indicators [ _default<4] {\n",
    "   polygon-fill:  #FC4E2A;\n",
    "  line-color:  #FC4E2A\n",
    "}\n",
    "#water_risk_indicators [_default<3] {\n",
    "   polygon-fill: #FD8D3C;\n",
    "  line-color: #FD8D3C\n",
    "}\n",
    "#water_risk_indicators [_default<2] {\n",
    "   polygon-fill: #FED976;\n",
    "  line-color:  #FED976\n",
    "}\n",
    "#water_risk_indicators [_default<1] {\n",
    "   polygon-fill: #FFFFB2;\n",
    "  line-color:  #FFFFB2\n",
    "}\n",
    "\n",
    "#water_risk_indicators [_default=0] {\n",
    "   polygon-fill: #eee;\n",
    "  line-color:  #eee\n",
    "}\n",
    "``` \n",
    "Sql Template:\n",
    "``` sql\n",
    "SELECT s.basinid, {{weight_indicator}}, r.the_geom_webmercator from water_risk_weights s left join wri_subcatchements r on s.basinid=r.basinid\n",
    "``` \n",
    "\n",
    "Cartocss:\n",
    "\n",
    "```css\n",
    "#water_risk_indicators{\n",
    "  polygon-fill:transparent;\n",
    "  polygon-opacity: 1;\n",
    "  line-color:transparent;\n",
    "  line-width: 1;\n",
    "  line-opacity: 1;\n",
    "}\n",
    "\n",
    "#water_risk_indicators [ {{weight_indicator}}<1000] {\n",
    "   polygon-fill:#B10026;\n",
    "  line-color:#B10026\n",
    "}\n",
    "#water_risk_indicators [{{weight_indicator}}<4] {\n",
    "   polygon-fill:  #FC4E2A;\n",
    "  line-color:  #FC4E2A\n",
    "}\n",
    "#water_risk_indicators [{{weight_indicator}}<3] {\n",
    "   polygon-fill: #FD8D3C;\n",
    "  line-color: #FD8D3C\n",
    "}\n",
    "#water_risk_indicators [{{weight_indicator}}<2] {\n",
    "   polygon-fill: #FED976;\n",
    "  line-color:  #FED976\n",
    "}\n",
    "#water_risk_indicators [{{weight_indicator}}<1] {\n",
    "   polygon-fill: #FFFFB2;\n",
    "  line-color:  #FFFFB2\n",
    "}\n",
    "\n",
    "#water_risk_indicators [_default=0] {\n",
    "   polygon-fill: #eee;\n",
    "  line-color:  #eee\n",
    "}\n",
    "```\n",
    "\n",
    "* parameters:   \n",
    "\n",
    "``` json \n",
    "\n",
    "``` "
   ]
  },
  {
   "cell_type": "markdown",
   "metadata": {
    "ExecuteTime": {
     "end_time": "2017-03-23T17:05:17.682148",
     "start_time": "2017-03-23T17:05:17.669325"
    },
    "deletable": true,
    "editable": true
   },
   "source": [
    "## Old custom weight layer calculated by the user\n",
    "We have 12 indicators. Grouped in 3 categories. Which weight range values are: **[0.25, 0.5, 1, 2, 4]**   \n",
    "\n",
    "This will cover the weight widget calculation and the weights passed to back to generate the custom layer.   "
   ]
  },
  {
   "cell_type": "markdown",
   "metadata": {
    "deletable": true,
    "editable": true
   },
   "source": [
    "### Weight widget data calculation"
   ]
  },
  {
   "cell_type": "markdown",
   "metadata": {
    "deletable": true,
    "editable": true
   },
   "source": []
  },
  {
   "cell_type": "code",
   "execution_count": 3,
   "metadata": {
    "ExecuteTime": {
     "end_time": "2017-03-28T15:50:39.319854",
     "start_time": "2017-03-28T15:50:39.026260"
    },
    "collapsed": false,
    "deletable": true,
    "editable": true
   },
   "outputs": [
    {
     "data": {
      "image/png": "[encoded data removed]",
      "text/plain": [
       "<matplotlib.figure.Figure at 0x7f3e129e9438>"
      ]
     },
     "metadata": {},
     "output_type": "display_data"
    }
   ],
   "source": [
    "# Agrupation [  regulatory   ] [  Quality  ] [             Quantity                 ]\n",
    "#  indicator [ 1     2     3 ] [ 4      5  ] [   6      7     8     9   10   11  12 ]\n",
    "weights = [[0.25, 0.25, 0.25], [0.25, 0.25], [0.25, 0.25, 0.25, 0.25, 2, 0.25, 0.25]]\n",
    "#calculation\n",
    "total = (np.sum(weights[0]) + np.sum(weights[1]) + np.sum(weights[2]))\n",
    "regulatory = (np.sum(weights[0]) / total)*100\n",
    "quality = (np.sum(weights[1]) / total)*100\n",
    "quantity = (np.sum(weights[2]) / total)*100\n",
    "#vissual\n",
    "labels = 'Regulatory', 'Quality', 'Quantity'\n",
    "theta = ('m', 'y', 'w')\n",
    "sizes = [regulatory, quality, quantity]\n",
    "explode = (0, 0, 0, 0)\n",
    "fig1, ax1 = plt.subplots()\n",
    "ax1.pie(sizes,  labels=labels, autopct='%1.2f%%', colors=theta, shadow=True, startangle=90)\n",
    "ax1.axis('equal')\n",
    "\n",
    "plt.show()"
   ]
  },
  {
   "cell_type": "markdown",
   "metadata": {
    "deletable": true,
    "editable": true
   },
   "source": [
    "## Weight passed to back for the custom weight layer;\n",
    "\n",
    "Procedure definition:\n",
    "\n",
    "``` sql\n",
    "DROP FUNCTION get_custom_weight(weights_raw TEXT); \n",
    "\n",
    "DROP TYPE weight_water_risk;\n",
    "\n",
    "CREATE TYPE weight_water_risk AS (cartodb_id numeric, basinid numeric, the_geom geometry, the_geom_webmercator geometry, water_risk numeric);\n",
    "\n",
    "CREATE OR REPLACE FUNCTION get_custom_weight(weights_raw TEXT) \n",
    "\tRETURNS SETOF weight_water_risk as $$\n",
    "\tDECLARE\n",
    "    query1 TEXT;\n",
    "    weights TEXT;\n",
    "    weights_sum TEXT;\n",
    "\tBEGIN\n",
    "        query1:='select array_to_string(array_agg(col::text ||''*''|| weights::text), ''+ '') as weights, sum(weights)::text as weights_sum from (select unnest(Array'|| weights_raw||') as weights, unnest(array[''bws_s'', ''wsv_s'', ''sv_s'', ''hfo_s'', ''dro_s'', ''stor_s'', ''gw_s'', ''wri_s'', ''eco_s_s'', ''mc_s'', ''wcg_s'', ''eco_v_s'']) as col) as tables where weights is not null';\n",
    "        EXECUTE query1 into weights, weights_sum;\n",
    "        \n",
    "\t\tRETURN query EXECUTE 'with ranges as (select basinid, average, min(average) over (), max(average) over () from (SELECT basinid, ('|| weights ||')/('|| weights_sum ||') as average FROM water_risk_weights) initial) select cartodb_id::numeric, ranges.basinid::numeric, the_geom, the_geom_webmercator, (((average-min)/(max-min))*5)::numeric as water_risk from ranges left join wri_subcatchements on ranges.basinid=wri_subcatchements.basinid';\n",
    "\t\n",
    "\tEND\n",
    "$$ language 'plpgsql';\n",
    "\n",
    "``` \n",
    "\n",
    "\n",
    "\n",
    "### Old indicators order\n",
    "[New Indicators list reference](https://docs.google.com/spreadsheets/d/11GWSY4HZdskCFoVpGCTmzMw8evifIZfHDi6_UaoGQFE/edit#gid=0)\n",
    "\n",
    "| Family |Indicator name| slug |\n",
    "|---|---|--- |\n",
    "| Physical Risk Quantity |Baseline Water Stress  | water_stress |\n",
    "| Physical Risk Quantity |Interannual Variability  |  interannual_variability |\n",
    "| Physical Risk Quantity |Seasonal Variability  | seasonal_variability  |\n",
    "| Physical Risk Quantity |Flood Occurrence  |  flood_occurrence |\n",
    "| Physical Risk Quantity |Drought Severity  | drought_severity  |\n",
    "| Physical Risk Quantity |Upstream Storage  | upstream_storage |\n",
    "| Physical Risk Quantity |Groundwater Stress  | groundwater_stress|\n",
    "| Physical Risk Quality |Return Flow Ratio  | return_flow_ratio |\n",
    "| Physical Risk Quality |Upstream Protected Land  | upstream_protected_land |\n",
    "| Regulatory & Reputational Risk |Media Coverage   |media_coverage  |\n",
    "| Regulatory & Reputational Risk |Access to Water   |access_to_water  |\n",
    "| Regulatory & Reputational Risk |Threatened Amphibians  |threatened_amphibians|\n",
    "\n",
    "\n",
    "\n",
    "Sql:\n",
    "``` sql\n",
    "select * from get_custom_weight('[4, 1, 0.5, 1, 1, 2, 2, 1, 0.5, 1, 2, 0.5]')\n",
    "\n",
    "``` \n",
    "\n",
    "Cartocss:\n",
    "\n",
    "```css\n",
    "#water_risk_indicators{\n",
    "  polygon-fill:transparent;\n",
    "  polygon-opacity: 1;\n",
    "  line-color:transparent;\n",
    "  line-width: 1;\n",
    "  line-opacity: 1;\n",
    "}\n",
    "\n",
    "#water_risk_indicators [ water_risk<1000] {\n",
    "   polygon-fill:#B10026;\n",
    "  line-color:#B10026\n",
    "}\n",
    "#water_risk_indicators [ water_risk<4] {\n",
    "   polygon-fill:  #FC4E2A;\n",
    "  line-color:  #FC4E2A\n",
    "}\n",
    "#water_risk_indicators [water_risk<3] {\n",
    "   polygon-fill: #FD8D3C;\n",
    "  line-color: #FD8D3C\n",
    "}\n",
    "#water_risk_indicators [water_risk<2] {\n",
    "   polygon-fill: #FED976;\n",
    "  line-color:  #FED976\n",
    "}\n",
    "#water_risk_indicators [water_risk<1] {\n",
    "   polygon-fill: #FFFFB2;\n",
    "  line-color:  #FFFFB2\n",
    "}\n",
    "\n",
    "#water_risk_indicators [water_risk=0] {\n",
    "   polygon-fill: #eee;\n",
    "  line-color:  #eee\n",
    "}\n",
    "```\n",
    "\n",
    "* parameters:   \n",
    "\n",
    "``` json \n",
    "\n",
    "``` \n",
    "\n"
   ]
  },
  {
   "cell_type": "code",
   "execution_count": 4,
   "metadata": {
    "ExecuteTime": {
     "end_time": "2017-03-28T15:50:44.820102",
     "start_time": "2017-03-28T15:50:43.349599"
    },
    "collapsed": false,
    "deletable": true,
    "editable": true
   },
   "outputs": [
    {
     "data": {
      "text/html": [
       "<div>\n",
       "<table border=\"1\" class=\"dataframe\">\n",
       "  <thead>\n",
       "    <tr style=\"text-align: right;\">\n",
       "      <th></th>\n",
       "      <th>basinid</th>\n",
       "      <th>cartodb_id</th>\n",
       "      <th>the_geom</th>\n",
       "      <th>the_geom_webmercator</th>\n",
       "      <th>water_risk</th>\n",
       "    </tr>\n",
       "  </thead>\n",
       "  <tbody>\n",
       "    <tr>\n",
       "      <th>0</th>\n",
       "      <td>14559</td>\n",
       "      <td>1374</td>\n",
       "      <td>0106000020E61000000100000001030000000100000087...</td>\n",
       "      <td>0106000020110F00000100000001030000000100000087...</td>\n",
       "      <td>6.676809</td>\n",
       "    </tr>\n",
       "  </tbody>\n",
       "</table>\n",
       "</div>"
      ],
      "text/plain": [
       "   basinid  cartodb_id                                           the_geom  \\\n",
       "0    14559        1374  0106000020E61000000100000001030000000100000087...   \n",
       "\n",
       "                                the_geom_webmercator  water_risk  \n",
       "0  0106000020110F00000100000001030000000100000087...    6.676809  "
      ]
     },
     "execution_count": 4,
     "metadata": {},
     "output_type": "execute_result"
    }
   ],
   "source": [
    "payload = {'q': \"SELECT * FROM get_custom_weight('[4, 1, 0.5, 1, 1, 2, 2, 1, 0.5, 1, 2, 0.5]') Limit 1\"}\n",
    "r = requests.get('https://wri-01.carto.com/api/v2/sql', params=payload)\n",
    "\n",
    "tableStructure= pd.read_json(json.dumps(r.json()['rows']), orient='records')\n",
    "tableStructure.head(1)"
   ]
  },
  {
   "cell_type": "markdown",
   "metadata": {
    "deletable": true,
    "editable": true
   },
   "source": [
    "# Anexe: weights table query creation:\n",
    "\n",
    "``` sql\n",
    "\n",
    "```\n"
   ]
  },
  {
   "cell_type": "code",
   "execution_count": 1,
   "metadata": {
    "ExecuteTime": {
     "end_time": "2017-03-28T15:50:47.471313",
     "start_time": "2017-03-28T15:50:47.457224"
    },
    "collapsed": false,
    "deletable": true,
    "editable": true
   },
   "outputs": [
    {
     "data": {
      "text/plain": [
       "'select basinid, bws_s, wsv_s, sv_s, hfo_s, dro_s, stor_s, gw_s, wri_s, eco_s_s, mc_s, wcg_s, eco_v_s, _default, def_pquant, def_pqual, def_regrep, w_agr, w_power, w_semico, w_oilgas, w_chem, w_mine, w_foodbv, w_constr, w_tex from aqueduct_global_dl_20150409'"
      ]
     },
     "execution_count": 1,
     "metadata": {},
     "output_type": "execute_result"
    }
   ],
   "source": [
    "columns = ['BWS_s', 'WSV_s', 'SV_s', 'HFO_s', 'DRO_s', 'STOR_s', 'GW_s', 'WRI_s', 'ECO_S_s', 'MC_s', 'WCG_s', 'ECO_V_s', '_DEFAULT', 'DEF_PQUANT', 'DEF_PQUAL', 'DEF_REGREP', 'W_AGR', 'W_POWER', 'W_SEMICO', 'W_OILGAS', 'W_CHEM', 'W_MINE', 'W_FOODBV', 'W_CONSTR', 'W_TEX']\n",
    "cols=[]\n",
    "for x in columns: \n",
    "    cols.append(x.lower())\n",
    "'select basinid, ' + ', '.join(cols)  + ' from aqueduct_global_dl_20150409'"
   ]
  },
  {
   "cell_type": "markdown",
   "metadata": {
    "deletable": true,
    "editable": true
   },
   "source": [
    "update columns to get ride of value -32767 \n",
    "```sql\n",
    "update water_risk_weights set {{indicator}}=null where {{indicator}}=-32767\n",
    "``` "
   ]
  },
  {
   "cell_type": "code",
   "execution_count": 7,
   "metadata": {
    "ExecuteTime": {
     "end_time": "2017-03-28T15:50:59.208121",
     "start_time": "2017-03-28T15:50:59.191613"
    },
    "collapsed": false,
    "deletable": true,
    "editable": true
   },
   "outputs": [
    {
     "name": "stdout",
     "output_type": "stream",
     "text": [
      "update water_risk_weights set bws_s=0 where bws_s is null;\n",
      "update water_risk_weights set wsv_s=0 where wsv_s is null;\n",
      "update water_risk_weights set sv_s=0 where sv_s is null;\n",
      "update water_risk_weights set hfo_s=0 where hfo_s is null;\n",
      "update water_risk_weights set dro_s=0 where dro_s is null;\n",
      "update water_risk_weights set stor_s=0 where stor_s is null;\n",
      "update water_risk_weights set gw_s=0 where gw_s is null;\n",
      "update water_risk_weights set wri_s=0 where wri_s is null;\n",
      "update water_risk_weights set eco_s_s=0 where eco_s_s is null;\n",
      "update water_risk_weights set mc_s=0 where mc_s is null;\n",
      "update water_risk_weights set wcg_s=0 where wcg_s is null;\n",
      "update water_risk_weights set eco_v_s=0 where eco_v_s is null;\n",
      "update water_risk_weights set _default=0 where _default is null;\n",
      "update water_risk_weights set def_pquant=0 where def_pquant is null;\n",
      "update water_risk_weights set def_pqual=0 where def_pqual is null;\n",
      "update water_risk_weights set def_regrep=0 where def_regrep is null;\n",
      "update water_risk_weights set w_agr=0 where w_agr is null;\n",
      "update water_risk_weights set w_power=0 where w_power is null;\n",
      "update water_risk_weights set w_semico=0 where w_semico is null;\n",
      "update water_risk_weights set w_oilgas=0 where w_oilgas is null;\n",
      "update water_risk_weights set w_chem=0 where w_chem is null;\n",
      "update water_risk_weights set w_mine=0 where w_mine is null;\n",
      "update water_risk_weights set w_foodbv=0 where w_foodbv is null;\n",
      "update water_risk_weights set w_constr=0 where w_constr is null;\n",
      "update water_risk_weights set w_tex=0 where w_tex is null;\n"
     ]
    }
   ],
   "source": [
    "for indicator in cols:\n",
    "    print('update water_risk_weights set '+indicator+'=0 where '+indicator+' is null;')"
   ]
  },
  {
   "cell_type": "code",
   "execution_count": null,
   "metadata": {
    "collapsed": true,
    "deletable": true,
    "editable": true
   },
   "outputs": [],
   "source": []
  }
 ],
 "metadata": {
  "kernelspec": {
   "display_name": "Python 3",
   "language": "python",
   "name": "python3"
  },
  "language_info": {
   "codemirror_mode": {
    "name": "ipython",
    "version": 3
   },
   "file_extension": ".py",
   "mimetype": "text/x-python",
   "name": "python",
   "nbconvert_exporter": "python",
   "pygments_lexer": "ipython3",
   "version": "3.5.3"
  }
 },
 "nbformat": 4,
 "nbformat_minor": 2
}
